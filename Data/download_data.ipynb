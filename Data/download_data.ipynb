{
 "cells": [
  {
   "cell_type": "markdown",
   "metadata": {},
   "source": [
    "### Supporting functons:"
   ]
  },
  {
   "cell_type": "code",
   "execution_count": 28,
   "metadata": {},
   "outputs": [
    {
     "name": "stdout",
     "output_type": "stream",
     "text": [
      "done\n"
     ]
    }
   ],
   "source": [
    "from datetime import date\n",
    "import requests\n",
    "import datetime\n",
    "from dateutil.relativedelta import relativedelta\n",
    "\n",
    "def findURLTip(input):\n",
    "        ### function finds url tip by date\n",
    "        #min available: 2014-12-31\n",
    "        #1598911200000 = 2020-09-01\n",
    "        #1598911100000 = 2020-08-31'\n",
    "    if( not isinstance(input, str) ):\n",
    "        print(\"### wrong input type in findTip function, expected string\")\n",
    "        return None\n",
    "    \n",
    "    reference_date = date.fromisoformat('2020-09-01')\n",
    "    reference_tip = 1598911200000\n",
    "    tip_interval = 100000 # one day interval\n",
    "\n",
    "    date_input = date.fromisoformat(input)\n",
    "    \n",
    "    days_diff = (reference_date-date_input).days\n",
    "    tip = reference_tip - days_diff * tip_interval \n",
    "    return str(tip)\n",
    "def getData(input):\n",
    "    url_base = 'https://www.pse.pl/obszary-dzialalnosci/krajowy-system-elektroenergetyczny/zapotrzebowanie-kse?p_p_id=danekse_WAR_danekserbportlet&p_p_lifecycle=2&p_p_state=normal&p_p_mode=view&p_p_cacheability=cacheLevelPage&p_p_col_id=column-2&p_p_col_count=1&_danekse_WAR_danekserbportlet_type=kse&_danekse_WAR_danekserbportlet_target=xlsx&_danekse_WAR_danekserbportlet_from=' #1598911200000'\n",
    "    url_tip = '' #\n",
    "                 #1598911200000 = 2020-09-01\n",
    "                 #1598911100000 = 2020-08-31\n",
    "                 #\n",
    "    url_tip = findURLTip(input)\n",
    "    url = url_base + url_tip\n",
    "    r = requests.get(url, allow_redirects=True)\n",
    "    title = input + '.xlsx'\n",
    "    open(title, 'wb').write(r.content)\n",
    "    return None\n",
    "\n",
    "def getDataMonthly(startDate, endDate):\n",
    "    startDt = str(startDate).replace('-','')\n",
    "    endDt = str(endDate).replace('-','')\n",
    "    url_base = 'https://www.pse.pl/getcsv/-/export/csv/PL_WYK_KSE/'\n",
    "    url_tip = 'data_od/'+startDt +'/data_do/' +endDt\n",
    "    url = url_base + url_tip\n",
    "    r = requests.get(url, allow_redirects=True)\n",
    "    title = startDt +'-' +endDt +'.csv'\n",
    "    open(title, 'wb').write(r.content)\n",
    "    return None\n",
    "\n",
    "#test:\n",
    "getDataMonthly('20200101', '20200131')\n",
    "print('done')"
   ]
  },
  {
   "cell_type": "code",
   "execution_count": 39,
   "metadata": {},
   "outputs": [
    {
     "name": "stdout",
     "output_type": "stream",
     "text": [
      "2019-08-01\n",
      "2019-09-01\n",
      "2019-10-01\n",
      "2019-11-01\n",
      "2019-12-01\n",
      "2020-01-01\n",
      "2020-02-01\n",
      "2020-03-01\n",
      "2020-04-01\n",
      "2020-05-01\n",
      "2020-06-01\n",
      "2020-07-01\n",
      "2020-08-01\n",
      "2020-09-01\n",
      "2020-10-01\n",
      "done\n"
     ]
    }
   ],
   "source": [
    "#main\n",
    "startDt = date.fromisoformat('2019-08-01')\n",
    "endDt = date.fromisoformat('2020-10-20')\n",
    "\n",
    "d = datetime.timedelta(days=1)\n",
    "#six_months = date.today() + relativedelta(months=+6)\n",
    "while(startDt <= endDt):\n",
    "    print(str(startDt))\n",
    "    #getData(str(startDt))\n",
    "    getDataMonthly(startDt, startDt +relativedelta(months=+1) - d)\n",
    "    startDt = startDt +relativedelta(months=+1)\n",
    "print('done')"
   ]
  }
 ],
 "metadata": {
  "kernelspec": {
   "display_name": "Python 3",
   "language": "python",
   "name": "python3"
  },
  "language_info": {
   "codemirror_mode": {
    "name": "ipython",
    "version": 3
   },
   "file_extension": ".py",
   "mimetype": "text/x-python",
   "name": "python",
   "nbconvert_exporter": "python",
   "pygments_lexer": "ipython3",
   "version": "3.6.12"
  }
 },
 "nbformat": 4,
 "nbformat_minor": 4
}
