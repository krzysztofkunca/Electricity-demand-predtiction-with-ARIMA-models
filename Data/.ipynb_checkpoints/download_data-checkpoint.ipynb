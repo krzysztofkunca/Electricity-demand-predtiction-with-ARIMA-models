{
 "cells": [
  {
   "cell_type": "code",
   "execution_count": 33,
   "metadata": {},
   "outputs": [
    {
     "data": {
      "text/plain": [
       "4345"
      ]
     },
     "execution_count": 33,
     "metadata": {},
     "output_type": "execute_result"
    }
   ],
   "source": [
    "import requests\n",
    "url_base = 'https://www.pse.pl/obszary-dzialalnosci/krajowy-system-elektroenergetyczny/zapotrzebowanie-kse?p_p_id=danekse_WAR_danekserbportlet&p_p_lifecycle=2&p_p_state=normal&p_p_mode=view&p_p_cacheability=cacheLevelPage&p_p_col_id=column-2&p_p_col_count=1&_danekse_WAR_danekserbportlet_type=kse&_danekse_WAR_danekserbportlet_target=xlsx&_danekse_WAR_danekserbportlet_from=' #1598911200000'\n",
    "url_tip = '' #\n",
    "#1598911200000 = 2020-09-01\n",
    "#1598911100000 = 2020-08-31\n",
    "url_tip = findTip('2020-09-01')\n",
    "url = url_base + url_tip\n",
    "r = requests.get(url, allow_redirects=True)\n",
    "open('test2.xlsx', 'wb').write(r.content)"
   ]
  },
  {
   "cell_type": "code",
   "execution_count": 2,
   "metadata": {},
   "outputs": [],
   "source": [
    "from datetime import date\n",
    "import requests\n",
    "\n",
    "def findTip(input):\n",
    "        ### function finds url tip by date\n",
    "        #1598911200000 = 2020-09-01\n",
    "        #1598911100000 = 2020-08-31'\n",
    "    if( not isinstance(input, str) ):\n",
    "        print(\"### wrong input type in findTip function, expected string\")\n",
    "        return None\n",
    "    \n",
    "    reference_date = date.fromisoformat('2020-09-01')\n",
    "    reference_tip = 1598911200000\n",
    "    tip_interval = 100000 # one day interval\n",
    "\n",
    "    date_input = date.fromisoformat(input)\n",
    "    \n",
    "    days_diff = (reference_date-date_input).days\n",
    "    tip = reference_tip - days_diff * tip_interval \n",
    "    return str(tip)\n",
    "\n",
    "def getData(input):\n",
    "    url_base = 'https://www.pse.pl/obszary-dzialalnosci/krajowy-system-elektroenergetyczny/zapotrzebowanie-kse?p_p_id=danekse_WAR_danekserbportlet&p_p_lifecycle=2&p_p_state=normal&p_p_mode=view&p_p_cacheability=cacheLevelPage&p_p_col_id=column-2&p_p_col_count=1&_danekse_WAR_danekserbportlet_type=kse&_danekse_WAR_danekserbportlet_target=xlsx&_danekse_WAR_danekserbportlet_from=' #1598911200000'\n",
    "    url_tip = '' #\n",
    "    #1598911200000 = 2020-09-01\n",
    "    #1598911100000 = 2020-08-31\n",
    "    url_tip = findTip(input)\n",
    "    url = url_base + url_tip\n",
    "    r = requests.get(url, allow_redirects=True)\n",
    "    title = input + '.xlsx'\n",
    "    open('test2.xlsx', 'wb').write(r.content)\n",
    "getData('2020-09-01')"
   ]
  },
  {
   "cell_type": "markdown",
   "metadata": {},
   "source": []
  }
 ],
 "metadata": {
  "kernelspec": {
   "display_name": "Python 3",
   "language": "python",
   "name": "python3"
  },
  "language_info": {
   "codemirror_mode": {
    "name": "ipython",
    "version": 3
   },
   "file_extension": ".py",
   "mimetype": "text/x-python",
   "name": "python",
   "nbconvert_exporter": "python",
   "pygments_lexer": "ipython3",
   "version": "3.8.3"
  }
 },
 "nbformat": 4,
 "nbformat_minor": 4
}
