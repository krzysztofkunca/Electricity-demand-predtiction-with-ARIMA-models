{
 "cells": [
  {
   "cell_type": "code",
   "execution_count": 1,
   "metadata": {},
   "outputs": [
    {
     "name": "stdout",
     "output_type": "stream",
     "text": [
      "Collecting holidaysNote: you may need to restart the kernel to use updated packages.\n",
      "\n",
      "  Downloading holidays-0.10.5.2.tar.gz (121 kB)\n",
      "Requirement already satisfied: python-dateutil in d:\\programy\\anaconda\\lib\\site-packages (from holidays) (2.8.1)\n",
      "Requirement already satisfied: six in d:\\programy\\anaconda\\lib\\site-packages (from holidays) (1.15.0)\n",
      "Collecting convertdate>=2.3.0\n",
      "  Downloading convertdate-2.3.1-py3-none-any.whl (45 kB)\n",
      "Collecting korean_lunar_calendar\n",
      "  Downloading korean_lunar_calendar-0.2.1-py3-none-any.whl (8.0 kB)\n",
      "Collecting hijri_converter\n",
      "  Downloading hijri_converter-2.1.1-py3-none-any.whl (14 kB)\n",
      "Requirement already satisfied: pytz>=2014.10 in d:\\programy\\anaconda\\lib\\site-packages (from convertdate>=2.3.0->holidays) (2020.1)\n",
      "Collecting pymeeus!=0.3.8,<=1,>=0.3.6\n",
      "  Downloading PyMeeus-0.4.3.tar.gz (5.3 MB)\n",
      "Building wheels for collected packages: holidays, pymeeus\n",
      "  Building wheel for holidays (setup.py): started\n",
      "  Building wheel for holidays (setup.py): finished with status 'done'\n",
      "  Created wheel for holidays: filename=holidays-0.10.5.2-py3-none-any.whl size=126818 sha256=20e994accc2e2bb4883cf03aaa20124dd733f532fcbddf033ed6a53e8f19dc40\n",
      "  Stored in directory: c:\\users\\krzysiu\\appdata\\local\\pip\\cache\\wheels\\af\\cb\\7d\\3171dd5bc8efc4c2dc11ae7ab756b5208c68e973459938fcea\n",
      "  Building wheel for pymeeus (setup.py): started\n",
      "  Building wheel for pymeeus (setup.py): finished with status 'done'\n",
      "  Created wheel for pymeeus: filename=PyMeeus-0.4.3-py3-none-any.whl size=715566 sha256=1dd5e0d6c95e3868e014ee759794938d6afc4609671a4bf38815e9146e401087\n",
      "  Stored in directory: c:\\users\\krzysiu\\appdata\\local\\pip\\cache\\wheels\\60\\64\\47\\86a4a9132ae6b1a83df1ba2acf33c2a4027ab44f72714607d5\n",
      "Successfully built holidays pymeeus\n",
      "Installing collected packages: pymeeus, convertdate, korean-lunar-calendar, hijri-converter, holidays\n",
      "Successfully installed convertdate-2.3.1 hijri-converter-2.1.1 holidays-0.10.5.2 korean-lunar-calendar-0.2.1 pymeeus-0.4.3\n"
     ]
    }
   ],
   "source": [
    "pip install holidays"
   ]
  },
  {
   "cell_type": "code",
   "execution_count": 2,
   "metadata": {},
   "outputs": [],
   "source": [
    "from datetime import date\n",
    "import holidays\n",
    "import pandas as pd"
   ]
  },
  {
   "cell_type": "code",
   "execution_count": 8,
   "metadata": {},
   "outputs": [
    {
     "data": {
      "text/plain": [
       "False"
      ]
     },
     "execution_count": 8,
     "metadata": {},
     "output_type": "execute_result"
    }
   ],
   "source": [
    "pl_holidays = holidays.Poland()\n",
    "'2014-01-07' in pl_holidays  # True"
   ]
  }
 ],
 "metadata": {
  "kernelspec": {
   "display_name": "Python 3",
   "language": "python",
   "name": "python3"
  },
  "language_info": {
   "codemirror_mode": {
    "name": "ipython",
    "version": 3
   },
   "file_extension": ".py",
   "mimetype": "text/x-python",
   "name": "python",
   "nbconvert_exporter": "python",
   "pygments_lexer": "ipython3",
   "version": "3.6.12"
  }
 },
 "nbformat": 4,
 "nbformat_minor": 4
}
