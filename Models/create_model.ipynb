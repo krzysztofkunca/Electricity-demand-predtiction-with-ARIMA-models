{
 "cells": [
  {
   "cell_type": "markdown",
   "metadata": {},
   "source": [
    "# Getting data"
   ]
  },
  {
   "cell_type": "code",
   "execution_count": 2,
   "metadata": {},
   "outputs": [
    {
     "name": "stderr",
     "output_type": "stream",
     "text": [
      "D:\\Programy\\anaconda\\lib\\site-packages\\pandas\\core\\arrays\\datetimelike.py:1345: PerformanceWarning: Adding/subtracting object-dtype array to DatetimeArray not vectorized\n",
      "  PerformanceWarning,\n"
     ]
    },
    {
     "data": {
      "text/html": [
       "<div>\n",
       "<style scoped>\n",
       "    .dataframe tbody tr th:only-of-type {\n",
       "        vertical-align: middle;\n",
       "    }\n",
       "\n",
       "    .dataframe tbody tr th {\n",
       "        vertical-align: top;\n",
       "    }\n",
       "\n",
       "    .dataframe thead th {\n",
       "        text-align: right;\n",
       "    }\n",
       "</style>\n",
       "<table border=\"1\" class=\"dataframe\">\n",
       "  <thead>\n",
       "    <tr style=\"text-align: right;\">\n",
       "      <th></th>\n",
       "      <th>Krajowe zapotrzebowanie na moc</th>\n",
       "      <th>DataGodz</th>\n",
       "    </tr>\n",
       "    <tr>\n",
       "      <th>DataGodz</th>\n",
       "      <th></th>\n",
       "      <th></th>\n",
       "    </tr>\n",
       "  </thead>\n",
       "  <tbody>\n",
       "    <tr>\n",
       "      <th>2011-10-01 01:00:00</th>\n",
       "      <td>15408.288</td>\n",
       "      <td>2011-10-01 01:00:00</td>\n",
       "    </tr>\n",
       "    <tr>\n",
       "      <th>2011-10-01 02:00:00</th>\n",
       "      <td>14673.075</td>\n",
       "      <td>2011-10-01 02:00:00</td>\n",
       "    </tr>\n",
       "    <tr>\n",
       "      <th>2011-10-01 03:00:00</th>\n",
       "      <td>14309.563</td>\n",
       "      <td>2011-10-01 03:00:00</td>\n",
       "    </tr>\n",
       "    <tr>\n",
       "      <th>2011-10-01 04:00:00</th>\n",
       "      <td>14259.925</td>\n",
       "      <td>2011-10-01 04:00:00</td>\n",
       "    </tr>\n",
       "    <tr>\n",
       "      <th>2011-10-01 05:00:00</th>\n",
       "      <td>14191.138</td>\n",
       "      <td>2011-10-01 05:00:00</td>\n",
       "    </tr>\n",
       "    <tr>\n",
       "      <th>...</th>\n",
       "      <td>...</td>\n",
       "      <td>...</td>\n",
       "    </tr>\n",
       "    <tr>\n",
       "      <th>2011-10-31 20:00:00</th>\n",
       "      <td>20140.075</td>\n",
       "      <td>2011-10-31 20:00:00</td>\n",
       "    </tr>\n",
       "    <tr>\n",
       "      <th>2011-10-31 21:00:00</th>\n",
       "      <td>19435.238</td>\n",
       "      <td>2011-10-31 21:00:00</td>\n",
       "    </tr>\n",
       "    <tr>\n",
       "      <th>2011-10-31 22:00:00</th>\n",
       "      <td>18105.900</td>\n",
       "      <td>2011-10-31 22:00:00</td>\n",
       "    </tr>\n",
       "    <tr>\n",
       "      <th>2011-10-31 23:00:00</th>\n",
       "      <td>16532.750</td>\n",
       "      <td>2011-10-31 23:00:00</td>\n",
       "    </tr>\n",
       "    <tr>\n",
       "      <th>2011-11-01 00:00:00</th>\n",
       "      <td>15108.600</td>\n",
       "      <td>2011-11-01 00:00:00</td>\n",
       "    </tr>\n",
       "  </tbody>\n",
       "</table>\n",
       "<p>744 rows × 2 columns</p>\n",
       "</div>"
      ],
      "text/plain": [
       "                     Krajowe zapotrzebowanie na moc            DataGodz\n",
       "DataGodz                                                               \n",
       "2011-10-01 01:00:00                       15408.288 2011-10-01 01:00:00\n",
       "2011-10-01 02:00:00                       14673.075 2011-10-01 02:00:00\n",
       "2011-10-01 03:00:00                       14309.563 2011-10-01 03:00:00\n",
       "2011-10-01 04:00:00                       14259.925 2011-10-01 04:00:00\n",
       "2011-10-01 05:00:00                       14191.138 2011-10-01 05:00:00\n",
       "...                                             ...                 ...\n",
       "2011-10-31 20:00:00                       20140.075 2011-10-31 20:00:00\n",
       "2011-10-31 21:00:00                       19435.238 2011-10-31 21:00:00\n",
       "2011-10-31 22:00:00                       18105.900 2011-10-31 22:00:00\n",
       "2011-10-31 23:00:00                       16532.750 2011-10-31 23:00:00\n",
       "2011-11-01 00:00:00                       15108.600 2011-11-01 00:00:00\n",
       "\n",
       "[744 rows x 2 columns]"
      ]
     },
     "execution_count": 2,
     "metadata": {},
     "output_type": "execute_result"
    }
   ],
   "source": [
    "import pandas as pd\n",
    "from datetime import date\n",
    "import datetime\n",
    "from dateutil.relativedelta import relativedelta\n",
    "from matplotlib import pyplot as plt\n",
    "\n",
    "start = '2011-10-01'\n",
    "end = '2011-10-30'\n",
    "weekdays =['Pon', 'Wt', 'Sr', 'Czw', 'Pt', 'Sb', 'Nd']\n",
    "\n",
    "def dzienTyg(dzienNum):\n",
    "    if dzienNum == 0:\n",
    "        return 'Pon'\n",
    "    elif dzienNum == 1:\n",
    "        return 'Wt'\n",
    "    elif dzienNum == 2:\n",
    "        return 'Sr'\n",
    "    elif dzienNum == 3:\n",
    "        return 'Czw'\n",
    "    elif dzienNum == 4:\n",
    "        return 'Pt'\n",
    "    elif dzienNum == 5:\n",
    "        return 'Sb'\n",
    "    elif dzienNum == 6:\n",
    "        return 'Nd'\n",
    "    else:\n",
    "        return 'Blad'\n",
    "def date_fromisofromat(dt):\n",
    "    y = int(dt[0: 4])\n",
    "    m = int(dt[5: 7])\n",
    "    d = int(dt[8:10])\n",
    "    return date(y,m,d)\n",
    "\n",
    "def combineData(start, end):\n",
    "    startDt = date_fromisofromat(start)\n",
    "    endDt   = date_fromisofromat(end)\n",
    "    d = datetime.timedelta(days=1)\n",
    "    m = relativedelta(months=+1)\n",
    "\n",
    "    in_table = pd.read_csv(filepath_or_buffer= '../Data/20100301-20100331.csv', \n",
    "                       sep=';', \n",
    "                       engine='python')\n",
    "    in_table= in_table.iloc[0:0] #drop all rows, leave columns\n",
    "\n",
    "    while(startDt <= endDt):\n",
    "        fileName = str(startDt).replace('-','') + '-' + str(startDt + m - d).replace('-','') + '.csv'\n",
    "        in_table1 = pd.read_csv(filepath_or_buffer= '../Data/' +fileName, \n",
    "                           sep=';', \n",
    "                           engine='python')\n",
    "        in_table = in_table.append(in_table1,ignore_index=True)\n",
    "        startDt = startDt + relativedelta(months=+1)\n",
    "\n",
    "    in_table['Krajowe zapotrzebowanie na moc'] = in_table['Krajowe zapotrzebowanie na moc'].apply(lambda x: x.replace(',','.'))\n",
    "    in_table['Krajowe zapotrzebowanie na moc'] = in_table['Krajowe zapotrzebowanie na moc'].astype(float)\n",
    "    in_table['Rok']     = in_table['Data'].apply(lambda x: x[0: 4]).astype(int)\n",
    "    in_table['Miesiac'] = in_table['Data'].apply(lambda x: x[5: 7]).astype(int)\n",
    "    in_table['Dzien']   = in_table['Data'].apply(lambda x: x[8:10]).astype(int)\n",
    "    # in_table['Godz_mies']=(in_table['Dzien']-1)*24 +in_table['Godzina']\n",
    "    return in_table\n",
    "#     plt.show()\n",
    "# Data, Godzina, Krajowe zapotrzebowanie na moc, Sumaryczna generacja JWCD, \n",
    "# Generacja PI, Generacja IRZ, Sumaryczna generacja nJWCD, \n",
    "# Krajowe saldo wymiany międzysystemowej równoległej, \n",
    "# Krajowe saldo wymiany międzysystemowej nierównoległej, \n",
    "\n",
    "dataAll = combineData(start, end)\n",
    "dataAll = dataAll.loc[dataAll['Godzina'] != '2A']\n",
    "\n",
    "dataAll['Godzina'] = dataAll['Godzina'].apply(\n",
    "    lambda x: (int(str(x)))\n",
    ")\n",
    "dataAll['weekDayNum'] = dataAll['Data'].apply(\n",
    "    lambda x: (date_fromisofromat(x).weekday())\n",
    ")\n",
    "dataAll['weekDay'] = dataAll['Data'].apply(\n",
    "    lambda x: dzienTyg(date_fromisofromat(x).weekday())\n",
    ")\n",
    "dataAll['DataGodz'] = pd.to_datetime(dataAll['Data']) \n",
    "\n",
    "dataAll['DataGodz'] = dataAll['DataGodz'] + dataAll['Godzina'].apply(\n",
    "    lambda x: relativedelta(hours=x)\n",
    ")\n",
    "    \n",
    "modelData = dataAll[['Krajowe zapotrzebowanie na moc']]\n",
    "\n",
    "#For Arima:\n",
    "modelData2 = dataAll[['Krajowe zapotrzebowanie na moc',\n",
    "                      'DataGodz']] \n",
    "modelData2.set_index('DataGodz')\n",
    "modelData2.index = pd.DatetimeIndex(modelData2['DataGodz'])#.to_period('H')\n",
    "\n",
    "modelData2"
   ]
  },
  {
   "cell_type": "code",
   "execution_count": null,
   "metadata": {},
   "outputs": [],
   "source": [
    "a_row = pd.Series([(15019.638+14379.763)/2, '2011-03-27 02:00:00'])\n",
    "row_df = pd.DataFrame([a_row])\n",
    "row_df.columns = modelData2.columns\n",
    "row_df.index = pd.DatetimeIndex(row_df['DataGodz'])\n",
    "modelData2 = pd.concat([row_df, modelData2])\n",
    "modelData2"
   ]
  },
  {
   "cell_type": "markdown",
   "metadata": {},
   "source": [
    "# Seasonal ARIMA"
   ]
  },
  {
   "cell_type": "code",
   "execution_count": 3,
   "metadata": {},
   "outputs": [],
   "source": [
    "from statsmodels.tsa.statespace.sarimax import SARIMAX\n",
    "from pmdarima import auto_arima\n",
    "from statsmodels.tsa.seasonal import seasonal_decompose\n"
   ]
  },
  {
   "cell_type": "code",
   "execution_count": 4,
   "metadata": {},
   "outputs": [
    {
     "data": {
      "image/png": "[encoded data removed]",
      "text/plain": [
       "<Figure size 432x288 with 4 Axes>"
      ]
     },
     "execution_count": 4,
     "metadata": {},
     "output_type": "execute_result"
    },
    {
     "data": {
      "image/png": "[encoded data removed]",
      "text/plain": [
       "<Figure size 432x288 with 4 Axes>"
      ]
     },
     "metadata": {
      "needs_background": "light"
     },
     "output_type": "display_data"
    }
   ],
   "source": [
    "# modelData2[modelData2.index > '2011-03-27' ]\n",
    "modelData2=modelData2.asfreq('H')\n",
    "res = seasonal_decompose(modelData2['Krajowe zapotrzebowanie na moc'], model = 'add')\n",
    "res.plot()"
   ]
  },
  {
   "cell_type": "code",
   "execution_count": 54,
   "metadata": {
    "scrolled": true
   },
   "outputs": [
    {
     "name": "stdout",
     "output_type": "stream",
     "text": [
      "Performing stepwise search to minimize aic\n"
     ]
    },
    {
     "name": "stderr",
     "output_type": "stream",
     "text": [
      "D:\\Programy\\anaconda\\lib\\site-packages\\statsmodels\\base\\model.py:568: ConvergenceWarning: Maximum Likelihood optimization failed to converge. Check mle_retvals\n",
      "  ConvergenceWarning)\n"
     ]
    },
    {
     "name": "stdout",
     "output_type": "stream",
     "text": [
      " ARIMA(2,1,2)(1,0,1)[3] intercept   : AIC=11505.352, Time=0.44 sec\n",
      " ARIMA(0,1,0)(0,0,0)[3] intercept   : AIC=12229.785, Time=0.03 sec\n",
      " ARIMA(1,1,0)(1,0,0)[3] intercept   : AIC=11668.159, Time=0.15 sec\n"
     ]
    },
    {
     "name": "stderr",
     "output_type": "stream",
     "text": [
      "D:\\Programy\\anaconda\\lib\\site-packages\\statsmodels\\tsa\\statespace\\sarimax.py:978: UserWarning: Non-invertible starting MA parameters found. Using zeros as starting parameters.\n",
      "  warn('Non-invertible starting MA parameters found.'\n",
      "D:\\Programy\\anaconda\\lib\\site-packages\\statsmodels\\base\\model.py:568: ConvergenceWarning: Maximum Likelihood optimization failed to converge. Check mle_retvals\n",
      "  ConvergenceWarning)\n"
     ]
    },
    {
     "name": "stdout",
     "output_type": "stream",
     "text": [
      " ARIMA(0,1,1)(0,0,1)[3] intercept   : AIC=11733.505, Time=0.23 sec\n",
      " ARIMA(0,1,0)(0,0,0)[3]             : AIC=12227.786, Time=0.02 sec\n"
     ]
    },
    {
     "name": "stderr",
     "output_type": "stream",
     "text": [
      "D:\\Programy\\anaconda\\lib\\site-packages\\statsmodels\\base\\model.py:568: ConvergenceWarning: Maximum Likelihood optimization failed to converge. Check mle_retvals\n",
      "  ConvergenceWarning)\n"
     ]
    },
    {
     "name": "stdout",
     "output_type": "stream",
     "text": [
      " ARIMA(2,1,2)(0,0,1)[3] intercept   : AIC=11503.139, Time=0.39 sec\n"
     ]
    },
    {
     "name": "stderr",
     "output_type": "stream",
     "text": [
      "D:\\Programy\\anaconda\\lib\\site-packages\\statsmodels\\base\\model.py:568: ConvergenceWarning: Maximum Likelihood optimization failed to converge. Check mle_retvals\n",
      "  ConvergenceWarning)\n"
     ]
    },
    {
     "name": "stdout",
     "output_type": "stream",
     "text": [
      " ARIMA(2,1,2)(0,0,0)[3] intercept   : AIC=11501.442, Time=0.31 sec\n"
     ]
    },
    {
     "name": "stderr",
     "output_type": "stream",
     "text": [
      "D:\\Programy\\anaconda\\lib\\site-packages\\statsmodels\\base\\model.py:568: ConvergenceWarning: Maximum Likelihood optimization failed to converge. Check mle_retvals\n",
      "  ConvergenceWarning)\n"
     ]
    },
    {
     "name": "stdout",
     "output_type": "stream",
     "text": [
      " ARIMA(2,1,2)(1,0,0)[3] intercept   : AIC=11502.826, Time=0.39 sec\n"
     ]
    },
    {
     "name": "stderr",
     "output_type": "stream",
     "text": [
      "D:\\Programy\\anaconda\\lib\\site-packages\\statsmodels\\base\\model.py:568: ConvergenceWarning: Maximum Likelihood optimization failed to converge. Check mle_retvals\n",
      "  ConvergenceWarning)\n"
     ]
    },
    {
     "name": "stdout",
     "output_type": "stream",
     "text": [
      " ARIMA(1,1,2)(0,0,0)[3] intercept   : AIC=11582.297, Time=0.28 sec\n"
     ]
    },
    {
     "name": "stderr",
     "output_type": "stream",
     "text": [
      "D:\\Programy\\anaconda\\lib\\site-packages\\statsmodels\\base\\model.py:568: ConvergenceWarning: Maximum Likelihood optimization failed to converge. Check mle_retvals\n",
      "  ConvergenceWarning)\n"
     ]
    },
    {
     "name": "stdout",
     "output_type": "stream",
     "text": [
      " ARIMA(2,1,1)(0,0,0)[3] intercept   : AIC=11561.204, Time=0.25 sec\n"
     ]
    },
    {
     "name": "stderr",
     "output_type": "stream",
     "text": [
      "D:\\Programy\\anaconda\\lib\\site-packages\\statsmodels\\base\\model.py:568: ConvergenceWarning: Maximum Likelihood optimization failed to converge. Check mle_retvals\n",
      "  ConvergenceWarning)\n"
     ]
    },
    {
     "name": "stdout",
     "output_type": "stream",
     "text": [
      " ARIMA(1,1,1)(0,0,0)[3] intercept   : AIC=11587.794, Time=0.22 sec\n"
     ]
    },
    {
     "name": "stderr",
     "output_type": "stream",
     "text": [
      "D:\\Programy\\anaconda\\lib\\site-packages\\statsmodels\\base\\model.py:568: ConvergenceWarning: Maximum Likelihood optimization failed to converge. Check mle_retvals\n",
      "  ConvergenceWarning)\n"
     ]
    },
    {
     "name": "stdout",
     "output_type": "stream",
     "text": [
      " ARIMA(2,1,2)(0,0,0)[3]             : AIC=11499.514, Time=0.22 sec\n"
     ]
    },
    {
     "name": "stderr",
     "output_type": "stream",
     "text": [
      "D:\\Programy\\anaconda\\lib\\site-packages\\statsmodels\\base\\model.py:568: ConvergenceWarning: Maximum Likelihood optimization failed to converge. Check mle_retvals\n",
      "  ConvergenceWarning)\n"
     ]
    },
    {
     "name": "stdout",
     "output_type": "stream",
     "text": [
      " ARIMA(2,1,2)(1,0,0)[3]             : AIC=11500.895, Time=0.28 sec\n"
     ]
    },
    {
     "name": "stderr",
     "output_type": "stream",
     "text": [
      "D:\\Programy\\anaconda\\lib\\site-packages\\statsmodels\\base\\model.py:568: ConvergenceWarning: Maximum Likelihood optimization failed to converge. Check mle_retvals\n",
      "  ConvergenceWarning)\n"
     ]
    },
    {
     "name": "stdout",
     "output_type": "stream",
     "text": [
      " ARIMA(2,1,2)(0,0,1)[3]             : AIC=11501.202, Time=0.26 sec\n"
     ]
    },
    {
     "name": "stderr",
     "output_type": "stream",
     "text": [
      "D:\\Programy\\anaconda\\lib\\site-packages\\statsmodels\\base\\model.py:568: ConvergenceWarning: Maximum Likelihood optimization failed to converge. Check mle_retvals\n",
      "  ConvergenceWarning)\n",
      "D:\\Programy\\anaconda\\lib\\site-packages\\statsmodels\\base\\model.py:568: ConvergenceWarning: Maximum Likelihood optimization failed to converge. Check mle_retvals\n",
      "  ConvergenceWarning)\n"
     ]
    },
    {
     "name": "stdout",
     "output_type": "stream",
     "text": [
      " ARIMA(2,1,2)(1,0,1)[3]             : AIC=11503.408, Time=0.30 sec\n",
      " ARIMA(1,1,2)(0,0,0)[3]             : AIC=11580.325, Time=0.15 sec\n",
      " ARIMA(2,1,1)(0,0,0)[3]             : AIC=11559.203, Time=0.16 sec\n",
      " ARIMA(1,1,1)(0,0,0)[3]             : AIC=11585.812, Time=0.12 sec\n",
      "\n",
      "Best model:  ARIMA(2,1,2)(0,0,0)[3]          \n",
      "Total fit time: 4.222 seconds\n",
      "0:00:04.235997\n"
     ]
    },
    {
     "name": "stderr",
     "output_type": "stream",
     "text": [
      "D:\\Programy\\anaconda\\lib\\site-packages\\statsmodels\\base\\model.py:568: ConvergenceWarning: Maximum Likelihood optimization failed to converge. Check mle_retvals\n",
      "  ConvergenceWarning)\n",
      "D:\\Programy\\anaconda\\lib\\site-packages\\statsmodels\\base\\model.py:568: ConvergenceWarning: Maximum Likelihood optimization failed to converge. Check mle_retvals\n",
      "  ConvergenceWarning)\n"
     ]
    }
   ],
   "source": [
    "start_calc = (datetime.datetime.now())\n",
    "m1 = auto_arima(modelData2['Krajowe zapotrzebowanie na moc'], \n",
    "           seasonal = True, \n",
    "           m=3, \n",
    "           maxiter = 10,\n",
    "           trace = True)#.summary()\n",
    "calc_time = datetime.datetime.now() - start_calc\n",
    "print(calc_time)"
   ]
  },
  {
   "cell_type": "code",
   "execution_count": 76,
   "metadata": {},
   "outputs": [],
   "source": [
    "def create_model(dane, sezon, maxiter = 20):\n",
    "    \n",
    "    #auto ARIMA\n",
    "    m = auto_arima(modelData2['Krajowe zapotrzebowanie na moc'], \n",
    "           seasonal = True, \n",
    "           m=sezon, \n",
    "           maxiter = maxiter,\n",
    "           trace = True)#.summary()\n",
    "    order = m.get_params()['order']\n",
    "    seasonal_order = m1.get_params()['seasonal_order']\n",
    "    print(order)\n",
    "    print(seasonal_order)\n",
    "    #SARIMAX\n",
    "    model = SARIMAX(dane, order=order, seasonal_order=seasonal_order, initialization='approximate_diffuse')\n",
    "    model_fit = model.fit() \n",
    "    \n",
    "    return model_fit\n",
    "    \n"
   ]
  },
  {
   "cell_type": "code",
   "execution_count": 69,
   "metadata": {},
   "outputs": [],
   "source": [
    "model = SARIMAX(\n",
    "    modelData2['Krajowe zapotrzebowanie na moc'], \n",
    "    order = (0, 1, 2),\n",
    "    seasonal_order=(1,0,2,168),  #p - AR, d - diff (trend), q - MA, s - season\n",
    "    initialization='approximate_diffuse'\n",
    ")\n",
    "# dir(model)"
   ]
  },
  {
   "cell_type": "code",
   "execution_count": 77,
   "metadata": {},
   "outputs": [
    {
     "name": "stdout",
     "output_type": "stream",
     "text": [
      "Performing stepwise search to minimize aic\n"
     ]
    },
    {
     "name": "stderr",
     "output_type": "stream",
     "text": [
      "D:\\Programy\\anaconda\\lib\\site-packages\\statsmodels\\base\\model.py:568: ConvergenceWarning: Maximum Likelihood optimization failed to converge. Check mle_retvals\n",
      "  ConvergenceWarning)\n"
     ]
    },
    {
     "name": "stdout",
     "output_type": "stream",
     "text": [
      " ARIMA(1,1,1)(1,0,1)[2] intercept   : AIC=11575.175, Time=0.73 sec\n",
      " ARIMA(0,1,0)(0,0,0)[2] intercept   : AIC=12229.785, Time=0.04 sec\n",
      " ARIMA(1,1,0)(1,0,0)[2] intercept   : AIC=11690.829, Time=0.25 sec\n"
     ]
    },
    {
     "name": "stderr",
     "output_type": "stream",
     "text": [
      "D:\\Programy\\anaconda\\lib\\site-packages\\statsmodels\\tsa\\statespace\\sarimax.py:978: UserWarning: Non-invertible starting MA parameters found. Using zeros as starting parameters.\n",
      "  warn('Non-invertible starting MA parameters found.'\n",
      "D:\\Programy\\anaconda\\lib\\site-packages\\statsmodels\\base\\model.py:568: ConvergenceWarning: Maximum Likelihood optimization failed to converge. Check mle_retvals\n",
      "  ConvergenceWarning)\n"
     ]
    },
    {
     "name": "stdout",
     "output_type": "stream",
     "text": [
      " ARIMA(0,1,1)(0,0,1)[2] intercept   : AIC=11610.155, Time=0.53 sec\n",
      " ARIMA(0,1,0)(0,0,0)[2]             : AIC=12227.786, Time=0.02 sec\n"
     ]
    },
    {
     "name": "stderr",
     "output_type": "stream",
     "text": [
      "D:\\Programy\\anaconda\\lib\\site-packages\\statsmodels\\base\\model.py:568: ConvergenceWarning: Maximum Likelihood optimization failed to converge. Check mle_retvals\n",
      "  ConvergenceWarning)\n"
     ]
    },
    {
     "name": "stdout",
     "output_type": "stream",
     "text": [
      " ARIMA(1,1,1)(0,0,1)[2] intercept   : AIC=11573.191, Time=0.60 sec\n"
     ]
    },
    {
     "name": "stderr",
     "output_type": "stream",
     "text": [
      "D:\\Programy\\anaconda\\lib\\site-packages\\statsmodels\\base\\model.py:568: ConvergenceWarning: Maximum Likelihood optimization failed to converge. Check mle_retvals\n",
      "  ConvergenceWarning)\n"
     ]
    },
    {
     "name": "stdout",
     "output_type": "stream",
     "text": [
      " ARIMA(1,1,1)(0,0,0)[2] intercept   : AIC=11586.812, Time=0.51 sec\n"
     ]
    },
    {
     "name": "stderr",
     "output_type": "stream",
     "text": [
      "D:\\Programy\\anaconda\\lib\\site-packages\\statsmodels\\base\\model.py:568: ConvergenceWarning: Maximum Likelihood optimization failed to converge. Check mle_retvals\n",
      "  ConvergenceWarning)\n"
     ]
    },
    {
     "name": "stdout",
     "output_type": "stream",
     "text": [
      " ARIMA(1,1,1)(0,0,2)[2] intercept   : AIC=11565.034, Time=0.89 sec\n"
     ]
    },
    {
     "name": "stderr",
     "output_type": "stream",
     "text": [
      "D:\\Programy\\anaconda\\lib\\site-packages\\statsmodels\\base\\model.py:568: ConvergenceWarning: Maximum Likelihood optimization failed to converge. Check mle_retvals\n",
      "  ConvergenceWarning)\n"
     ]
    },
    {
     "name": "stdout",
     "output_type": "stream",
     "text": [
      " ARIMA(1,1,1)(1,0,2)[2] intercept   : AIC=11551.498, Time=0.89 sec\n"
     ]
    },
    {
     "name": "stderr",
     "output_type": "stream",
     "text": [
      "D:\\Programy\\anaconda\\lib\\site-packages\\statsmodels\\base\\model.py:568: ConvergenceWarning: Maximum Likelihood optimization failed to converge. Check mle_retvals\n",
      "  ConvergenceWarning)\n"
     ]
    },
    {
     "name": "stdout",
     "output_type": "stream",
     "text": [
      " ARIMA(1,1,1)(2,0,2)[2] intercept   : AIC=11468.651, Time=1.50 sec\n"
     ]
    },
    {
     "name": "stderr",
     "output_type": "stream",
     "text": [
      "D:\\Programy\\anaconda\\lib\\site-packages\\statsmodels\\base\\model.py:568: ConvergenceWarning: Maximum Likelihood optimization failed to converge. Check mle_retvals\n",
      "  ConvergenceWarning)\n",
      "D:\\Programy\\anaconda\\lib\\site-packages\\statsmodels\\tsa\\statespace\\sarimax.py:978: UserWarning: Non-invertible starting MA parameters found. Using zeros as starting parameters.\n",
      "  warn('Non-invertible starting MA parameters found.'\n"
     ]
    },
    {
     "name": "stdout",
     "output_type": "stream",
     "text": [
      " ARIMA(1,1,1)(2,0,1)[2] intercept   : AIC=11544.249, Time=0.97 sec\n"
     ]
    },
    {
     "name": "stderr",
     "output_type": "stream",
     "text": [
      "D:\\Programy\\anaconda\\lib\\site-packages\\statsmodels\\base\\model.py:568: ConvergenceWarning: Maximum Likelihood optimization failed to converge. Check mle_retvals\n",
      "  ConvergenceWarning)\n"
     ]
    },
    {
     "name": "stdout",
     "output_type": "stream",
     "text": [
      " ARIMA(0,1,1)(2,0,2)[2] intercept   : AIC=11556.487, Time=0.98 sec\n"
     ]
    },
    {
     "name": "stderr",
     "output_type": "stream",
     "text": [
      "D:\\Programy\\anaconda\\lib\\site-packages\\statsmodels\\base\\model.py:568: ConvergenceWarning: Maximum Likelihood optimization failed to converge. Check mle_retvals\n",
      "  ConvergenceWarning)\n"
     ]
    },
    {
     "name": "stdout",
     "output_type": "stream",
     "text": [
      " ARIMA(1,1,0)(2,0,2)[2] intercept   : AIC=11581.057, Time=1.16 sec\n"
     ]
    },
    {
     "name": "stderr",
     "output_type": "stream",
     "text": [
      "D:\\Programy\\anaconda\\lib\\site-packages\\statsmodels\\base\\model.py:568: ConvergenceWarning: Maximum Likelihood optimization failed to converge. Check mle_retvals\n",
      "  ConvergenceWarning)\n"
     ]
    },
    {
     "name": "stdout",
     "output_type": "stream",
     "text": [
      " ARIMA(0,1,0)(2,0,2)[2] intercept   : AIC=12028.958, Time=0.84 sec\n"
     ]
    },
    {
     "name": "stderr",
     "output_type": "stream",
     "text": [
      "D:\\Programy\\anaconda\\lib\\site-packages\\statsmodels\\base\\model.py:568: ConvergenceWarning: Maximum Likelihood optimization failed to converge. Check mle_retvals\n",
      "  ConvergenceWarning)\n"
     ]
    },
    {
     "name": "stdout",
     "output_type": "stream",
     "text": [
      " ARIMA(1,1,1)(2,0,2)[2]             : AIC=11437.592, Time=0.90 sec\n"
     ]
    },
    {
     "name": "stderr",
     "output_type": "stream",
     "text": [
      "D:\\Programy\\anaconda\\lib\\site-packages\\statsmodels\\base\\model.py:568: ConvergenceWarning: Maximum Likelihood optimization failed to converge. Check mle_retvals\n",
      "  ConvergenceWarning)\n"
     ]
    },
    {
     "name": "stdout",
     "output_type": "stream",
     "text": [
      " ARIMA(1,1,1)(1,0,2)[2]             : AIC=11549.509, Time=0.61 sec\n"
     ]
    },
    {
     "name": "stderr",
     "output_type": "stream",
     "text": [
      "D:\\Programy\\anaconda\\lib\\site-packages\\statsmodels\\base\\model.py:568: ConvergenceWarning: Maximum Likelihood optimization failed to converge. Check mle_retvals\n",
      "  ConvergenceWarning)\n"
     ]
    },
    {
     "name": "stdout",
     "output_type": "stream",
     "text": [
      " ARIMA(1,1,1)(2,0,1)[2]             : AIC=11542.256, Time=0.59 sec\n"
     ]
    },
    {
     "name": "stderr",
     "output_type": "stream",
     "text": [
      "D:\\Programy\\anaconda\\lib\\site-packages\\statsmodels\\base\\model.py:568: ConvergenceWarning: Maximum Likelihood optimization failed to converge. Check mle_retvals\n",
      "  ConvergenceWarning)\n",
      "D:\\Programy\\anaconda\\lib\\site-packages\\statsmodels\\tsa\\statespace\\sarimax.py:978: UserWarning: Non-invertible starting MA parameters found. Using zeros as starting parameters.\n",
      "  warn('Non-invertible starting MA parameters found.'\n"
     ]
    },
    {
     "name": "stdout",
     "output_type": "stream",
     "text": [
      " ARIMA(1,1,1)(1,0,1)[2]             : AIC=11573.188, Time=0.46 sec\n"
     ]
    },
    {
     "name": "stderr",
     "output_type": "stream",
     "text": [
      "D:\\Programy\\anaconda\\lib\\site-packages\\statsmodels\\base\\model.py:568: ConvergenceWarning: Maximum Likelihood optimization failed to converge. Check mle_retvals\n",
      "  ConvergenceWarning)\n"
     ]
    },
    {
     "name": "stdout",
     "output_type": "stream",
     "text": [
      " ARIMA(0,1,1)(2,0,2)[2]             : AIC=11554.671, Time=0.70 sec\n"
     ]
    },
    {
     "name": "stderr",
     "output_type": "stream",
     "text": [
      "D:\\Programy\\anaconda\\lib\\site-packages\\statsmodels\\base\\model.py:568: ConvergenceWarning: Maximum Likelihood optimization failed to converge. Check mle_retvals\n",
      "  ConvergenceWarning)\n"
     ]
    },
    {
     "name": "stdout",
     "output_type": "stream",
     "text": [
      " ARIMA(1,1,0)(2,0,2)[2]             : AIC=11579.376, Time=1.00 sec\n"
     ]
    },
    {
     "name": "stderr",
     "output_type": "stream",
     "text": [
      "D:\\Programy\\anaconda\\lib\\site-packages\\statsmodels\\base\\model.py:568: ConvergenceWarning: Maximum Likelihood optimization failed to converge. Check mle_retvals\n",
      "  ConvergenceWarning)\n"
     ]
    },
    {
     "name": "stdout",
     "output_type": "stream",
     "text": [
      " ARIMA(0,1,0)(2,0,2)[2]             : AIC=11987.794, Time=0.61 sec\n",
      "\n",
      "Best model:  ARIMA(1,1,1)(2,0,2)[2]          \n",
      "Total fit time: 14.837 seconds\n",
      "(1, 1, 1)\n",
      "(0, 0, 0, 3)\n",
      "<statsmodels.tsa.statespace.sarimax.SARIMAXResultsWrapper object at 0x000000DA4A6B27F0>\n"
     ]
    }
   ],
   "source": [
    "print(create_model(modelData2['Krajowe zapotrzebowanie na moc'],2))"
   ]
  },
  {
   "cell_type": "code",
   "execution_count": null,
   "metadata": {},
   "outputs": [],
   "source": [
    "# fitting\n",
    "time0 = datetime.datetime.now()\n",
    "model_fit = model.fit() #disp=0)\n",
    "print('Fitting model execution time: ' + str(datetime.datetime.now() - time0))"
   ]
  },
  {
   "cell_type": "code",
   "execution_count": null,
   "metadata": {},
   "outputs": [],
   "source": [
    "\n",
    "modelData2['Krajowe zapotrzebowanie na moc'].plot()\n",
    "# modelData2['Krajowe zapotrzebowanie na moc'][1200:].plot()\n",
    "pred = model_fit.forecast(300, dynamic=True)\n",
    "pred.plot()"
   ]
  }
 ],
 "metadata": {
  "kernelspec": {
   "display_name": "Python 3",
   "language": "python",
   "name": "python3"
  },
  "language_info": {
   "codemirror_mode": {
    "name": "ipython",
    "version": 3
   },
   "file_extension": ".py",
   "mimetype": "text/x-python",
   "name": "python",
   "nbconvert_exporter": "python",
   "pygments_lexer": "ipython3",
   "version": "3.6.12"
  }
 },
 "nbformat": 4,
 "nbformat_minor": 4
}
