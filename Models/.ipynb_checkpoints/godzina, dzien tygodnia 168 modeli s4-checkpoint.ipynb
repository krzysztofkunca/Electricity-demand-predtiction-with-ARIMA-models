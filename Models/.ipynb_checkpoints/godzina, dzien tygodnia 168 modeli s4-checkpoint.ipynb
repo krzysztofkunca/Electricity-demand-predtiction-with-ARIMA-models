{
 "cells": [
  {
   "cell_type": "markdown",
   "metadata": {},
   "source": [
    "## model: godzina - dzien tygodnia"
   ]
  },
  {
   "cell_type": "markdown",
   "metadata": {},
   "source": [
    "### getting data"
   ]
  },
  {
   "cell_type": "code",
   "execution_count": 1,
   "metadata": {},
   "outputs": [
    {
     "name": "stderr",
     "output_type": "stream",
     "text": [
      "D:\\Programy\\anaconda\\lib\\site-packages\\pandas\\core\\arrays\\datetimelike.py:1345: PerformanceWarning: Adding/subtracting object-dtype array to DatetimeArray not vectorized\n",
      "  PerformanceWarning,\n"
     ]
    },
    {
     "data": {
      "text/html": [
       "<div>\n",
       "<style scoped>\n",
       "    .dataframe tbody tr th:only-of-type {\n",
       "        vertical-align: middle;\n",
       "    }\n",
       "\n",
       "    .dataframe tbody tr th {\n",
       "        vertical-align: top;\n",
       "    }\n",
       "\n",
       "    .dataframe thead th {\n",
       "        text-align: right;\n",
       "    }\n",
       "</style>\n",
       "<table border=\"1\" class=\"dataframe\">\n",
       "  <thead>\n",
       "    <tr style=\"text-align: right;\">\n",
       "      <th></th>\n",
       "      <th>Krajowe zapotrzebowanie na moc</th>\n",
       "      <th>DataGodz</th>\n",
       "    </tr>\n",
       "    <tr>\n",
       "      <th>DataGodz</th>\n",
       "      <th></th>\n",
       "      <th></th>\n",
       "    </tr>\n",
       "  </thead>\n",
       "  <tbody>\n",
       "    <tr>\n",
       "      <th>2014-04-01 01:00:00</th>\n",
       "      <td>15820.063</td>\n",
       "      <td>2014-04-01 01:00:00</td>\n",
       "    </tr>\n",
       "    <tr>\n",
       "      <th>2014-04-01 02:00:00</th>\n",
       "      <td>15253.238</td>\n",
       "      <td>2014-04-01 02:00:00</td>\n",
       "    </tr>\n",
       "    <tr>\n",
       "      <th>2014-04-01 03:00:00</th>\n",
       "      <td>14943.475</td>\n",
       "      <td>2014-04-01 03:00:00</td>\n",
       "    </tr>\n",
       "    <tr>\n",
       "      <th>2014-04-01 04:00:00</th>\n",
       "      <td>14880.913</td>\n",
       "      <td>2014-04-01 04:00:00</td>\n",
       "    </tr>\n",
       "    <tr>\n",
       "      <th>2014-04-01 05:00:00</th>\n",
       "      <td>15148.463</td>\n",
       "      <td>2014-04-01 05:00:00</td>\n",
       "    </tr>\n",
       "    <tr>\n",
       "      <th>...</th>\n",
       "      <td>...</td>\n",
       "      <td>...</td>\n",
       "    </tr>\n",
       "    <tr>\n",
       "      <th>2019-03-31 20:00:00</th>\n",
       "      <td>18097.938</td>\n",
       "      <td>2019-03-31 20:00:00</td>\n",
       "    </tr>\n",
       "    <tr>\n",
       "      <th>2019-03-31 21:00:00</th>\n",
       "      <td>18774.000</td>\n",
       "      <td>2019-03-31 21:00:00</td>\n",
       "    </tr>\n",
       "    <tr>\n",
       "      <th>2019-03-31 22:00:00</th>\n",
       "      <td>17979.813</td>\n",
       "      <td>2019-03-31 22:00:00</td>\n",
       "    </tr>\n",
       "    <tr>\n",
       "      <th>2019-03-31 23:00:00</th>\n",
       "      <td>17091.150</td>\n",
       "      <td>2019-03-31 23:00:00</td>\n",
       "    </tr>\n",
       "    <tr>\n",
       "      <th>2019-04-01 00:00:00</th>\n",
       "      <td>15995.775</td>\n",
       "      <td>2019-04-01 00:00:00</td>\n",
       "    </tr>\n",
       "  </tbody>\n",
       "</table>\n",
       "<p>43815 rows × 2 columns</p>\n",
       "</div>"
      ],
      "text/plain": [
       "                     Krajowe zapotrzebowanie na moc            DataGodz\n",
       "DataGodz                                                               \n",
       "2014-04-01 01:00:00                       15820.063 2014-04-01 01:00:00\n",
       "2014-04-01 02:00:00                       15253.238 2014-04-01 02:00:00\n",
       "2014-04-01 03:00:00                       14943.475 2014-04-01 03:00:00\n",
       "2014-04-01 04:00:00                       14880.913 2014-04-01 04:00:00\n",
       "2014-04-01 05:00:00                       15148.463 2014-04-01 05:00:00\n",
       "...                                             ...                 ...\n",
       "2019-03-31 20:00:00                       18097.938 2019-03-31 20:00:00\n",
       "2019-03-31 21:00:00                       18774.000 2019-03-31 21:00:00\n",
       "2019-03-31 22:00:00                       17979.813 2019-03-31 22:00:00\n",
       "2019-03-31 23:00:00                       17091.150 2019-03-31 23:00:00\n",
       "2019-04-01 00:00:00                       15995.775 2019-04-01 00:00:00\n",
       "\n",
       "[43815 rows x 2 columns]"
      ]
     },
     "execution_count": 1,
     "metadata": {},
     "output_type": "execute_result"
    }
   ],
   "source": [
    "import pandas as pd\n",
    "from datetime import date\n",
    "import datetime\n",
    "import numpy as np\n",
    "from dateutil.relativedelta import relativedelta\n",
    "from matplotlib import pyplot as plt\n",
    "\n",
    "\n",
    "end_dt = '2019-03-31'\n",
    "# #2 months:\n",
    "# start_dt = '2019-02-01'\n",
    "\n",
    "#6 months:\n",
    "# start_dt = '2018-10-01'\n",
    "\n",
    "# 12 months:\n",
    "# start_dt = '2018-04-01'\n",
    "\n",
    "# #24 months:\n",
    "# start_dt = '2017-04-01'\n",
    "\n",
    "# # #60 months:\n",
    "start_dt = '2014-04-01'\n",
    "\n",
    "weekdays =['Pon', 'Wt', 'Sr', 'Czw', 'Pt', 'Sb', 'Nd']\n",
    "\n",
    "def dzienTyg(dzienNum):\n",
    "    if dzienNum == 0:\n",
    "        return 'Pon'\n",
    "    elif dzienNum == 1:\n",
    "        return 'Wt'\n",
    "    elif dzienNum == 2:\n",
    "        return 'Sr'\n",
    "    elif dzienNum == 3:\n",
    "        return 'Czw'\n",
    "    elif dzienNum == 4:\n",
    "        return 'Pt'\n",
    "    elif dzienNum == 5:\n",
    "        return 'Sb'\n",
    "    elif dzienNum == 6:\n",
    "        return 'Nd'\n",
    "    else:\n",
    "        return 'Blad'\n",
    "def date_fromisofromat(dt):\n",
    "    y = int(dt[0: 4])\n",
    "    m = int(dt[5: 7])\n",
    "    d = int(dt[8:10])\n",
    "    return date(y,m,d)\n",
    "\n",
    "def combineData(start, end):\n",
    "    startDt = date_fromisofromat(start)\n",
    "    endDt   = date_fromisofromat(end)\n",
    "    d = datetime.timedelta(days=1)\n",
    "    m = relativedelta(months=+1)\n",
    "\n",
    "    in_table = pd.read_csv(filepath_or_buffer= '../Data/20100301-20100331.csv', \n",
    "                       sep=';', \n",
    "                       engine='python')\n",
    "    in_table= in_table.iloc[0:0] #drop all rows, leave columns\n",
    "\n",
    "    while(startDt <= endDt):\n",
    "        fileName = str(startDt).replace('-','') + '-' + str(startDt + m - d).replace('-','') + '.csv'\n",
    "        in_table1 = pd.read_csv(filepath_or_buffer= '../Data/' +fileName, \n",
    "                           sep=';', \n",
    "                           engine='python')\n",
    "        in_table = in_table.append(in_table1,ignore_index=True)\n",
    "        startDt = startDt + relativedelta(months=+1)\n",
    "\n",
    "    in_table['Krajowe zapotrzebowanie na moc'] = in_table['Krajowe zapotrzebowanie na moc'].apply(lambda x: x.replace(',','.'))\n",
    "    in_table['Krajowe zapotrzebowanie na moc'] = in_table['Krajowe zapotrzebowanie na moc'].astype(float)\n",
    "    in_table['Rok']     = in_table['Data'].apply(lambda x: x[0: 4]).astype(int)\n",
    "    in_table['Miesiac'] = in_table['Data'].apply(lambda x: x[5: 7]).astype(int)\n",
    "    in_table['Dzien']   = in_table['Data'].apply(lambda x: x[8:10]).astype(int)\n",
    "    # in_table['Godz_mies']=(in_table['Dzien']-1)*24 +in_table['Godzina']\n",
    "    return in_table\n",
    "#     plt.show()\n",
    "# Data, Godzina, Krajowe zapotrzebowanie na moc, Sumaryczna generacja JWCD, \n",
    "# Generacja PI, Generacja IRZ, Sumaryczna generacja nJWCD, \n",
    "# Krajowe saldo wymiany międzysystemowej równoległej, \n",
    "# Krajowe saldo wymiany międzysystemowej nierównoległej, \n",
    "\n",
    "dataAll = combineData(start_dt, end_dt)\n",
    "dataAll = dataAll.loc[dataAll['Godzina'] != '2A']\n",
    "\n",
    "dataAll['Godzina'] = dataAll['Godzina'].apply(\n",
    "    lambda x: (int(str(x)))\n",
    ")\n",
    "dataAll['weekDayNum'] = dataAll['Data'].apply(\n",
    "    lambda x: (date_fromisofromat(x).weekday())\n",
    ")\n",
    "dataAll['weekDay'] = dataAll['Data'].apply(\n",
    "    lambda x: dzienTyg(date_fromisofromat(x).weekday())\n",
    ")\n",
    "dataAll['DataGodz'] = pd.to_datetime(dataAll['Data']) \n",
    "\n",
    "dataAll['DataGodz'] = dataAll['DataGodz'] + dataAll['Godzina'].apply(\n",
    "    lambda x: relativedelta(hours=x)\n",
    ")\n",
    "    \n",
    "modelData = dataAll[['Krajowe zapotrzebowanie na moc']]\n",
    "\n",
    "#For Arima:\n",
    "modelData2 = dataAll[['Krajowe zapotrzebowanie na moc',\n",
    "                      'DataGodz']] \n",
    "modelData2.set_index('DataGodz')\n",
    "modelData2.index = pd.DatetimeIndex(modelData2['DataGodz'])#.to_period('H')\n",
    "\n",
    "modelData2"
   ]
  },
  {
   "cell_type": "code",
   "execution_count": 2,
   "metadata": {},
   "outputs": [],
   "source": [
    "dataAll\n",
    "#For Arima:\n",
    "modelData2 = dataAll[['Krajowe zapotrzebowanie na moc',\n",
    "                      'DataGodz','weekDay']] \n",
    "# modelData2.set_index('DataGodz')\n",
    "# modelData2.index = pd.DatetimeIndex(modelData2['DataGodz'])#.to_period('H')"
   ]
  },
  {
   "cell_type": "code",
   "execution_count": 3,
   "metadata": {},
   "outputs": [],
   "source": [
    "from statsmodels.tsa.statespace.sarimax import SARIMAX\n",
    "from pmdarima import auto_arima\n",
    "\n",
    "from statsmodels.tsa.seasonal import seasonal_decompose\n",
    "def create_model(dane, sezon, maxiter = 20):\n",
    "    start = datetime.datetime.now()\n",
    "\n",
    "    #auto ARIMA\n",
    "    m = auto_arima(dane, \n",
    "           seasonal = True, \n",
    "           m=sezon, \n",
    "           maxiter = maxiter,\n",
    "           trace = True)#.summary()\n",
    "    print('autoARIMA time: ' + str(datetime.datetime.now() - start))\n",
    "    order = m.get_params()['order']\n",
    "    seasonal_order = m.get_params()['seasonal_order']\n",
    "    print(order)\n",
    "    print(seasonal_order)\n",
    "    #SARIMAX\n",
    "    fit_start =  datetime.datetime.now()\n",
    "    model = SARIMAX(dane, order=order, seasonal_order=seasonal_order, initialization='approximate_diffuse')\n",
    "    model_fit = model.fit() \n",
    "    \n",
    "    print('fit time = ' + str(datetime.datetime.now() - fit_start))\n",
    "    return model_fit"
   ]
  },
  {
   "cell_type": "markdown",
   "metadata": {},
   "source": [
    "#### petla godzinowa"
   ]
  },
  {
   "cell_type": "code",
   "execution_count": 4,
   "metadata": {},
   "outputs": [],
   "source": [
    "models_num = 24*7 #168\n",
    "my_models = [None] * models_num"
   ]
  },
  {
   "cell_type": "code",
   "execution_count": 5,
   "metadata": {},
   "outputs": [],
   "source": [
    "# modelData2.where(modelData2['DataGodz'].hour==2)\n",
    "# modelData2[dataAll['Godzina']==23]['Krajowe zapotrzebowanie na moc']\n",
    "# dataAll.loc[(dataAll['Godzina']==24) & (dataAll['weekDayNum']==0)]#['Krajowe zapotrzebowanie na moc']"
   ]
  },
  {
   "cell_type": "code",
   "execution_count": 6,
   "metadata": {
    "scrolled": true
   },
   "outputs": [
    {
     "name": "stdout",
     "output_type": "stream",
     "text": [
      "start petli: 2021-04-03 14:42:30.255144\n",
      "##### startuje dopasowanie modelu dla godziny: 0\n",
      "Performing stepwise search to minimize aic\n",
      " ARIMA(2,1,2)(0,0,0)[0] intercept   : AIC=4349.707, Time=0.18 sec\n",
      " ARIMA(0,1,0)(0,0,0)[0] intercept   : AIC=4421.212, Time=0.02 sec\n",
      " ARIMA(1,1,0)(0,0,0)[0] intercept   : AIC=4395.784, Time=0.06 sec\n",
      " ARIMA(0,1,1)(0,0,0)[0] intercept   : AIC=4357.862, Time=0.04 sec\n",
      " ARIMA(0,1,0)(0,0,0)[0]             : AIC=4419.220, Time=0.01 sec\n",
      " ARIMA(1,1,2)(0,0,0)[0] intercept   : AIC=4347.703, Time=0.13 sec\n",
      " ARIMA(0,1,2)(0,0,0)[0] intercept   : AIC=4348.246, Time=0.18 sec"
     ]
    },
    {
     "name": "stderr",
     "output_type": "stream",
     "text": [
      "D:\\Programy\\anaconda\\lib\\site-packages\\statsmodels\\base\\model.py:568: ConvergenceWarning: Maximum Likelihood optimization failed to converge. Check mle_retvals\n",
      "  ConvergenceWarning)\n"
     ]
    },
    {
     "name": "stdout",
     "output_type": "stream",
     "text": [
      "\n",
      " ARIMA(1,1,1)(0,0,0)[0] intercept   : AIC=4351.294, Time=0.15 sec\n",
      " ARIMA(1,1,3)(0,0,0)[0] intercept   : AIC=4349.650, Time=0.24 sec\n",
      " ARIMA(0,1,3)(0,0,0)[0] intercept   : AIC=4348.255, Time=0.14 sec\n",
      " ARIMA(2,1,1)(0,0,0)[0] intercept   : AIC=4349.759, Time=0.12 sec\n"
     ]
    },
    {
     "name": "stderr",
     "output_type": "stream",
     "text": [
      "D:\\Programy\\anaconda\\lib\\site-packages\\statsmodels\\base\\model.py:568: ConvergenceWarning: Maximum Likelihood optimization failed to converge. Check mle_retvals\n",
      "  ConvergenceWarning)\n"
     ]
    },
    {
     "name": "stdout",
     "output_type": "stream",
     "text": [
      " ARIMA(2,1,3)(0,0,0)[0] intercept   : AIC=4351.593, Time=0.29 sec\n",
      " ARIMA(1,1,2)(0,0,0)[0]             : AIC=4346.441, Time=0.08 sec\n",
      " ARIMA(0,1,2)(0,0,0)[0]             : AIC=4347.143, Time=0.04 sec\n",
      " ARIMA(1,1,1)(0,0,0)[0]             : AIC=4350.167, Time=0.04 sec\n",
      " ARIMA(2,1,2)(0,0,0)[0]             : AIC=4348.399, Time=0.14 sec\n",
      " ARIMA(1,1,3)(0,0,0)[0]             : AIC=4348.366, Time=0.15 sec\n",
      " ARIMA(0,1,1)(0,0,0)[0]             : AIC=4356.390, Time=0.03 sec\n",
      " ARIMA(0,1,3)(0,0,0)[0]             : AIC=4346.706, Time=0.08 sec\n",
      " ARIMA(2,1,1)(0,0,0)[0]             : AIC=4348.365, Time=0.07 sec\n"
     ]
    },
    {
     "name": "stderr",
     "output_type": "stream",
     "text": [
      "D:\\Programy\\anaconda\\lib\\site-packages\\statsmodels\\base\\model.py:568: ConvergenceWarning: Maximum Likelihood optimization failed to converge. Check mle_retvals\n",
      "  ConvergenceWarning)\n",
      "D:\\Programy\\anaconda\\lib\\site-packages\\statsmodels\\tsa\\base\\tsa_model.py:579: ValueWarning: An unsupported index was provided and will be ignored when e.g. forecasting.\n",
      "  ' ignored when e.g. forecasting.', ValueWarning)\n",
      "D:\\Programy\\anaconda\\lib\\site-packages\\statsmodels\\tsa\\base\\tsa_model.py:579: ValueWarning: An unsupported index was provided and will be ignored when e.g. forecasting.\n",
      "  ' ignored when e.g. forecasting.', ValueWarning)\n"
     ]
    },
    {
     "name": "stdout",
     "output_type": "stream",
     "text": [
      " ARIMA(2,1,3)(0,0,0)[0]             : AIC=4349.692, Time=0.24 sec\n",
      "\n",
      "Best model:  ARIMA(1,1,2)(0,0,0)[0]          \n",
      "Total fit time: 2.459 seconds\n",
      "autoARIMA time: 0:00:02.468487\n",
      "(1, 1, 2)\n",
      "(0, 0, 0, 0)\n",
      "fit time = 0:00:00.096069\n",
      "##### Koniec dopasowania modelu dla godziny: 0\n",
      "#####\n",
      "##### startuje dopasowanie modelu dla godziny: 1\n",
      "Performing stepwise search to minimize aic\n"
     ]
    },
    {
     "name": "stderr",
     "output_type": "stream",
     "text": [
      "D:\\Programy\\anaconda\\lib\\site-packages\\statsmodels\\base\\model.py:568: ConvergenceWarning: Maximum Likelihood optimization failed to converge. Check mle_retvals\n",
      "  ConvergenceWarning)\n"
     ]
    },
    {
     "name": "stdout",
     "output_type": "stream",
     "text": [
      " ARIMA(2,1,2)(0,0,0)[0] intercept   : AIC=4342.855, Time=0.28 sec\n",
      " ARIMA(0,1,0)(0,0,0)[0] intercept   : AIC=4407.311, Time=0.01 sec\n",
      " ARIMA(1,1,0)(0,0,0)[0] intercept   : AIC=4378.964, Time=0.04 sec\n",
      " ARIMA(0,1,1)(0,0,0)[0] intercept   : AIC=4346.518, Time=0.12 sec\n",
      " ARIMA(0,1,0)(0,0,0)[0]             : AIC=4405.320, Time=0.01 sec\n"
     ]
    },
    {
     "name": "stderr",
     "output_type": "stream",
     "text": [
      "D:\\Programy\\anaconda\\lib\\site-packages\\statsmodels\\base\\model.py:568: ConvergenceWarning: Maximum Likelihood optimization failed to converge. Check mle_retvals\n",
      "  ConvergenceWarning)\n"
     ]
    },
    {
     "name": "stdout",
     "output_type": "stream",
     "text": [
      " ARIMA(1,1,2)(0,0,0)[0] intercept   : AIC=4340.324, Time=0.21 sec\n",
      " ARIMA(0,1,2)(0,0,0)[0] intercept   : AIC=4338.373, Time=0.17 sec\n"
     ]
    },
    {
     "name": "stderr",
     "output_type": "stream",
     "text": [
      "D:\\Programy\\anaconda\\lib\\site-packages\\statsmodels\\base\\model.py:568: ConvergenceWarning: Maximum Likelihood optimization failed to converge. Check mle_retvals\n",
      "  ConvergenceWarning)\n",
      "D:\\Programy\\anaconda\\lib\\site-packages\\statsmodels\\base\\model.py:568: ConvergenceWarning: Maximum Likelihood optimization failed to converge. Check mle_retvals\n",
      "  ConvergenceWarning)\n"
     ]
    },
    {
     "name": "stdout",
     "output_type": "stream",
     "text": [
      " ARIMA(0,1,3)(0,0,0)[0] intercept   : AIC=4340.199, Time=0.23 sec\n",
      " ARIMA(1,1,1)(0,0,0)[0] intercept   : AIC=4338.898, Time=0.16 sec\n"
     ]
    },
    {
     "name": "stderr",
     "output_type": "stream",
     "text": [
      "D:\\Programy\\anaconda\\lib\\site-packages\\statsmodels\\base\\model.py:568: ConvergenceWarning: Maximum Likelihood optimization failed to converge. Check mle_retvals\n",
      "  ConvergenceWarning)\n"
     ]
    },
    {
     "name": "stdout",
     "output_type": "stream",
     "text": [
      " ARIMA(1,1,3)(0,0,0)[0] intercept   : AIC=4341.190, Time=0.26 sec\n",
      " ARIMA(0,1,2)(0,0,0)[0]             : AIC=4337.202, Time=0.04 sec\n",
      " ARIMA(0,1,1)(0,0,0)[0]             : AIC=4345.063, Time=0.03 sec\n",
      " ARIMA(1,1,2)(0,0,0)[0]             : AIC=4339.148, Time=0.07 sec\n",
      " ARIMA(0,1,3)(0,0,0)[0]             : AIC=4339.052, Time=0.07 sec\n",
      " ARIMA(1,1,1)(0,0,0)[0]             : AIC=4337.773, Time=0.05 sec\n"
     ]
    },
    {
     "name": "stderr",
     "output_type": "stream",
     "text": [
      "D:\\Programy\\anaconda\\lib\\site-packages\\statsmodels\\base\\model.py:568: ConvergenceWarning: Maximum Likelihood optimization failed to converge. Check mle_retvals\n",
      "  ConvergenceWarning)\n",
      "D:\\Programy\\anaconda\\lib\\site-packages\\statsmodels\\tsa\\base\\tsa_model.py:579: ValueWarning: An unsupported index was provided and will be ignored when e.g. forecasting.\n",
      "  ' ignored when e.g. forecasting.', ValueWarning)\n",
      "D:\\Programy\\anaconda\\lib\\site-packages\\statsmodels\\tsa\\base\\tsa_model.py:579: ValueWarning: An unsupported index was provided and will be ignored when e.g. forecasting.\n",
      "  ' ignored when e.g. forecasting.', ValueWarning)\n"
     ]
    },
    {
     "name": "stdout",
     "output_type": "stream",
     "text": [
      " ARIMA(1,1,3)(0,0,0)[0]             : AIC=4340.131, Time=0.18 sec\n",
      "\n",
      "Best model:  ARIMA(0,1,2)(0,0,0)[0]          \n",
      "Total fit time: 1.918 seconds\n",
      "autoARIMA time: 0:00:01.924359\n",
      "(0, 1, 2)\n",
      "(0, 0, 0, 0)\n",
      "fit time = 0:00:00.049035\n",
      "##### Koniec dopasowania modelu dla godziny: 1\n",
      "#####\n",
      "##### startuje dopasowanie modelu dla godziny: 2\n",
      "Performing stepwise search to minimize aic\n"
     ]
    },
    {
     "name": "stderr",
     "output_type": "stream",
     "text": [
      "D:\\Programy\\anaconda\\lib\\site-packages\\statsmodels\\base\\model.py:568: ConvergenceWarning: Maximum Likelihood optimization failed to converge. Check mle_retvals\n",
      "  ConvergenceWarning)\n"
     ]
    },
    {
     "name": "stdout",
     "output_type": "stream",
     "text": [
      " ARIMA(2,1,2)(0,0,0)[0] intercept   : AIC=4254.353, Time=0.24 sec\n",
      " ARIMA(0,1,0)(0,0,0)[0] intercept   : AIC=4302.800, Time=0.02 sec\n",
      " ARIMA(1,1,0)(0,0,0)[0] intercept   : AIC=4284.366, Time=0.05 sec\n",
      " ARIMA(0,1,1)(0,0,0)[0] intercept   : AIC=4265.047, Time=0.14 sec\n",
      " ARIMA(0,1,0)(0,0,0)[0]             : AIC=4300.813, Time=0.01 sec\n",
      " ARIMA(1,1,2)(0,0,0)[0] intercept   : AIC=4252.040, Time=0.17 sec\n"
     ]
    },
    {
     "name": "stderr",
     "output_type": "stream",
     "text": [
      "D:\\Programy\\anaconda\\lib\\site-packages\\statsmodels\\base\\model.py:568: ConvergenceWarning: Maximum Likelihood optimization failed to converge. Check mle_retvals\n",
      "  ConvergenceWarning)\n"
     ]
    },
    {
     "name": "stdout",
     "output_type": "stream",
     "text": [
      " ARIMA(0,1,2)(0,0,0)[0] intercept   : AIC=4250.099, Time=0.14 sec\n"
     ]
    },
    {
     "name": "stderr",
     "output_type": "stream",
     "text": [
      "D:\\Programy\\anaconda\\lib\\site-packages\\statsmodels\\base\\model.py:568: ConvergenceWarning: Maximum Likelihood optimization failed to converge. Check mle_retvals\n",
      "  ConvergenceWarning)\n",
      "D:\\Programy\\anaconda\\lib\\site-packages\\statsmodels\\base\\model.py:568: ConvergenceWarning: Maximum Likelihood optimization failed to converge. Check mle_retvals\n",
      "  ConvergenceWarning)\n"
     ]
    },
    {
     "name": "stdout",
     "output_type": "stream",
     "text": [
      " ARIMA(0,1,3)(0,0,0)[0] intercept   : AIC=4251.609, Time=0.22 sec\n",
      " ARIMA(1,1,1)(0,0,0)[0] intercept   : AIC=4251.072, Time=0.14 sec\n"
     ]
    },
    {
     "name": "stderr",
     "output_type": "stream",
     "text": [
      "D:\\Programy\\anaconda\\lib\\site-packages\\statsmodels\\base\\model.py:568: ConvergenceWarning: Maximum Likelihood optimization failed to converge. Check mle_retvals\n",
      "  ConvergenceWarning)\n"
     ]
    },
    {
     "name": "stdout",
     "output_type": "stream",
     "text": [
      " ARIMA(1,1,3)(0,0,0)[0] intercept   : AIC=4253.489, Time=0.27 sec\n",
      " ARIMA(0,1,2)(0,0,0)[0]             : AIC=4248.879, Time=0.04 sec\n",
      " ARIMA(0,1,1)(0,0,0)[0]             : AIC=4263.383, Time=0.08 sec\n"
     ]
    },
    {
     "name": "stderr",
     "output_type": "stream",
     "text": [
      "D:\\Programy\\anaconda\\lib\\site-packages\\statsmodels\\base\\model.py:568: ConvergenceWarning: Maximum Likelihood optimization failed to converge. Check mle_retvals\n",
      "  ConvergenceWarning)\n"
     ]
    },
    {
     "name": "stdout",
     "output_type": "stream",
     "text": [
      " ARIMA(1,1,2)(0,0,0)[0]             : AIC=4250.332, Time=0.13 sec\n",
      " ARIMA(0,1,3)(0,0,0)[0]             : AIC=4250.242, Time=0.14 sec\n"
     ]
    },
    {
     "name": "stderr",
     "output_type": "stream",
     "text": [
      "D:\\Programy\\anaconda\\lib\\site-packages\\statsmodels\\base\\model.py:568: ConvergenceWarning: Maximum Likelihood optimization failed to converge. Check mle_retvals\n",
      "  ConvergenceWarning)\n",
      "D:\\Programy\\anaconda\\lib\\site-packages\\statsmodels\\base\\model.py:568: ConvergenceWarning: Maximum Likelihood optimization failed to converge. Check mle_retvals\n",
      "  ConvergenceWarning)\n"
     ]
    },
    {
     "name": "stdout",
     "output_type": "stream",
     "text": [
      " ARIMA(1,1,1)(0,0,0)[0]             : AIC=4249.213, Time=0.13 sec\n",
      " ARIMA(1,1,3)(0,0,0)[0]             : AIC=4252.404, Time=0.17 sec\n",
      "\n",
      "Best model:  ARIMA(0,1,2)(0,0,0)[0]          \n",
      "Total fit time: 2.104 seconds\n",
      "autoARIMA time: 0:00:02.108490"
     ]
    },
    {
     "name": "stderr",
     "output_type": "stream",
     "text": [
      "D:\\Programy\\anaconda\\lib\\site-packages\\statsmodels\\tsa\\base\\tsa_model.py:579: ValueWarning: An unsupported index was provided and will be ignored when e.g. forecasting.\n",
      "  ' ignored when e.g. forecasting.', ValueWarning)\n",
      "D:\\Programy\\anaconda\\lib\\site-packages\\statsmodels\\tsa\\base\\tsa_model.py:579: ValueWarning: An unsupported index was provided and will be ignored when e.g. forecasting.\n",
      "  ' ignored when e.g. forecasting.', ValueWarning)\n"
     ]
    },
    {
     "name": "stdout",
     "output_type": "stream",
     "text": [
      "\n",
      "(0, 1, 2)\n",
      "(0, 0, 0, 0)\n",
      "fit time = 0:00:00.059043\n",
      "##### Koniec dopasowania modelu dla godziny: 2\n",
      "#####\n",
      "##### startuje dopasowanie modelu dla godziny: 3\n",
      "Performing stepwise search to minimize aic\n"
     ]
    },
    {
     "name": "stderr",
     "output_type": "stream",
     "text": [
      "D:\\Programy\\anaconda\\lib\\site-packages\\statsmodels\\base\\model.py:568: ConvergenceWarning: Maximum Likelihood optimization failed to converge. Check mle_retvals\n",
      "  ConvergenceWarning)\n"
     ]
    },
    {
     "name": "stdout",
     "output_type": "stream",
     "text": [
      " ARIMA(2,1,2)(0,0,0)[0] intercept   : AIC=4207.444, Time=0.22 sec\n",
      " ARIMA(0,1,0)(0,0,0)[0] intercept   : AIC=4254.948, Time=0.01 sec\n",
      " ARIMA(1,1,0)(0,0,0)[0] intercept   : AIC=4234.479, Time=0.09 sec\n",
      " ARIMA(0,1,1)(0,0,0)[0] intercept   : AIC=4214.997, Time=0.10 sec\n",
      " ARIMA(0,1,0)(0,0,0)[0]             : AIC=4252.961, Time=0.01 sec\n"
     ]
    },
    {
     "name": "stderr",
     "output_type": "stream",
     "text": [
      "D:\\Programy\\anaconda\\lib\\site-packages\\statsmodels\\base\\model.py:568: ConvergenceWarning: Maximum Likelihood optimization failed to converge. Check mle_retvals\n",
      "  ConvergenceWarning)\n"
     ]
    },
    {
     "name": "stdout",
     "output_type": "stream",
     "text": [
      " ARIMA(1,1,2)(0,0,0)[0] intercept   : AIC=4205.983, Time=0.21 sec\n",
      " ARIMA(0,1,2)(0,0,0)[0] intercept   : AIC=4203.822, Time=0.16 sec\n"
     ]
    },
    {
     "name": "stderr",
     "output_type": "stream",
     "text": [
      "D:\\Programy\\anaconda\\lib\\site-packages\\statsmodels\\base\\model.py:568: ConvergenceWarning: Maximum Likelihood optimization failed to converge. Check mle_retvals\n",
      "  ConvergenceWarning)\n",
      "D:\\Programy\\anaconda\\lib\\site-packages\\statsmodels\\base\\model.py:568: ConvergenceWarning: Maximum Likelihood optimization failed to converge. Check mle_retvals\n",
      "  ConvergenceWarning)\n"
     ]
    },
    {
     "name": "stdout",
     "output_type": "stream",
     "text": [
      " ARIMA(0,1,3)(0,0,0)[0] intercept   : AIC=4205.813, Time=0.22 sec\n",
      " ARIMA(1,1,1)(0,0,0)[0] intercept   : AIC=4205.041, Time=0.17 sec\n"
     ]
    },
    {
     "name": "stderr",
     "output_type": "stream",
     "text": [
      "D:\\Programy\\anaconda\\lib\\site-packages\\statsmodels\\base\\model.py:568: ConvergenceWarning: Maximum Likelihood optimization failed to converge. Check mle_retvals\n",
      "  ConvergenceWarning)\n"
     ]
    },
    {
     "name": "stdout",
     "output_type": "stream",
     "text": [
      " ARIMA(1,1,3)(0,0,0)[0] intercept   : AIC=4207.861, Time=0.23 sec\n",
      " ARIMA(0,1,2)(0,0,0)[0]             : AIC=4202.462, Time=0.04 sec\n",
      " ARIMA(0,1,1)(0,0,0)[0]             : AIC=4213.310, Time=0.06 sec\n",
      " ARIMA(1,1,2)(0,0,0)[0]             : AIC=4204.421, Time=0.07 sec\n",
      " ARIMA(0,1,3)(0,0,0)[0]             : AIC=4204.463, Time=0.06 sec\n",
      " ARIMA(1,1,1)(0,0,0)[0]             : AIC=4203.308, Time=0.09 sec\n",
      " ARIMA(1,1,3)(0,0,0)[0]             : AIC=4206.472, Time=0.06 sec\n",
      "\n",
      "Best model:  ARIMA(0,1,2)(0,0,0)[0]          \n",
      "Total fit time: 1.814 seconds\n",
      "autoARIMA time: 0:00:01.819285\n",
      "(0, 1, 2)\n",
      "(0, 0, 0, 0)\n",
      "fit time = 0:00:00.036026"
     ]
    },
    {
     "name": "stderr",
     "output_type": "stream",
     "text": [
      "D:\\Programy\\anaconda\\lib\\site-packages\\statsmodels\\tsa\\base\\tsa_model.py:579: ValueWarning: An unsupported index was provided and will be ignored when e.g. forecasting.\n",
      "  ' ignored when e.g. forecasting.', ValueWarning)\n",
      "D:\\Programy\\anaconda\\lib\\site-packages\\statsmodels\\tsa\\base\\tsa_model.py:579: ValueWarning: An unsupported index was provided and will be ignored when e.g. forecasting.\n",
      "  ' ignored when e.g. forecasting.', ValueWarning)\n"
     ]
    },
    {
     "name": "stdout",
     "output_type": "stream",
     "text": [
      "\n",
      "##### Koniec dopasowania modelu dla godziny: 3\n",
      "#####\n",
      "##### startuje dopasowanie modelu dla godziny: 4\n",
      "Performing stepwise search to minimize aic\n"
     ]
    },
    {
     "name": "stderr",
     "output_type": "stream",
     "text": [
      "D:\\Programy\\anaconda\\lib\\site-packages\\statsmodels\\base\\model.py:568: ConvergenceWarning: Maximum Likelihood optimization failed to converge. Check mle_retvals\n",
      "  ConvergenceWarning)\n"
     ]
    },
    {
     "name": "stdout",
     "output_type": "stream",
     "text": [
      " ARIMA(2,1,2)(0,0,0)[0] intercept   : AIC=4266.669, Time=0.22 sec\n",
      " ARIMA(0,1,0)(0,0,0)[0] intercept   : AIC=4311.838, Time=0.02 sec\n",
      " ARIMA(1,1,0)(0,0,0)[0] intercept   : AIC=4296.300, Time=0.04 sec\n",
      " ARIMA(0,1,1)(0,0,0)[0] intercept   : AIC=4279.671, Time=0.05 sec\n",
      " ARIMA(0,1,0)(0,0,0)[0]             : AIC=4309.851, Time=0.01 sec\n"
     ]
    },
    {
     "name": "stderr",
     "output_type": "stream",
     "text": [
      "D:\\Programy\\anaconda\\lib\\site-packages\\statsmodels\\base\\model.py:568: ConvergenceWarning: Maximum Likelihood optimization failed to converge. Check mle_retvals\n",
      "  ConvergenceWarning)\n",
      "D:\\Programy\\anaconda\\lib\\site-packages\\statsmodels\\base\\model.py:568: ConvergenceWarning: Maximum Likelihood optimization failed to converge. Check mle_retvals\n",
      "  ConvergenceWarning)\n"
     ]
    },
    {
     "name": "stdout",
     "output_type": "stream",
     "text": [
      " ARIMA(1,1,2)(0,0,0)[0] intercept   : AIC=4265.681, Time=0.19 sec\n",
      " ARIMA(0,1,2)(0,0,0)[0] intercept   : AIC=4263.710, Time=0.16 sec\n"
     ]
    },
    {
     "name": "stderr",
     "output_type": "stream",
     "text": [
      "D:\\Programy\\anaconda\\lib\\site-packages\\statsmodels\\base\\model.py:568: ConvergenceWarning: Maximum Likelihood optimization failed to converge. Check mle_retvals\n",
      "  ConvergenceWarning)\n",
      "D:\\Programy\\anaconda\\lib\\site-packages\\statsmodels\\base\\model.py:568: ConvergenceWarning: Maximum Likelihood optimization failed to converge. Check mle_retvals\n",
      "  ConvergenceWarning)\n"
     ]
    },
    {
     "name": "stdout",
     "output_type": "stream",
     "text": [
      " ARIMA(0,1,3)(0,0,0)[0] intercept   : AIC=4265.609, Time=0.21 sec\n",
      " ARIMA(1,1,1)(0,0,0)[0] intercept   : AIC=4264.965, Time=0.14 sec\n"
     ]
    },
    {
     "name": "stderr",
     "output_type": "stream",
     "text": [
      "D:\\Programy\\anaconda\\lib\\site-packages\\statsmodels\\base\\model.py:568: ConvergenceWarning: Maximum Likelihood optimization failed to converge. Check mle_retvals\n",
      "  ConvergenceWarning)\n"
     ]
    },
    {
     "name": "stdout",
     "output_type": "stream",
     "text": [
      " ARIMA(1,1,3)(0,0,0)[0] intercept   : AIC=4267.362, Time=0.29 sec\n",
      " ARIMA(0,1,2)(0,0,0)[0]             : AIC=4262.344, Time=0.04 sec\n",
      " ARIMA(0,1,1)(0,0,0)[0]             : AIC=4277.931, Time=0.02 sec\n",
      " ARIMA(1,1,2)(0,0,0)[0]             : AIC=4264.210, Time=0.06 sec\n",
      " ARIMA(0,1,3)(0,0,0)[0]             : AIC=4264.295, Time=0.06 sec\n",
      " ARIMA(1,1,1)(0,0,0)[0]             : AIC=4263.559, Time=0.11 sec\n"
     ]
    },
    {
     "name": "stderr",
     "output_type": "stream",
     "text": [
      "D:\\Programy\\anaconda\\lib\\site-packages\\statsmodels\\base\\model.py:568: ConvergenceWarning: Maximum Likelihood optimization failed to converge. Check mle_retvals\n",
      "  ConvergenceWarning)\n",
      "D:\\Programy\\anaconda\\lib\\site-packages\\statsmodels\\tsa\\base\\tsa_model.py:579: ValueWarning: An unsupported index was provided and will be ignored when e.g. forecasting.\n",
      "  ' ignored when e.g. forecasting.', ValueWarning)\n",
      "D:\\Programy\\anaconda\\lib\\site-packages\\statsmodels\\tsa\\base\\tsa_model.py:579: ValueWarning: An unsupported index was provided and will be ignored when e.g. forecasting.\n",
      "  ' ignored when e.g. forecasting.', ValueWarning)\n"
     ]
    },
    {
     "name": "stdout",
     "output_type": "stream",
     "text": [
      " ARIMA(1,1,3)(0,0,0)[0]             : AIC=4266.247, Time=0.15 sec\n",
      "\n",
      "Best model:  ARIMA(0,1,2)(0,0,0)[0]          \n",
      "Total fit time: 1.787 seconds\n",
      "autoARIMA time: 0:00:01.793265\n",
      "(0, 1, 2)\n",
      "(0, 0, 0, 0)\n",
      "fit time = 0:00:00.050036\n",
      "##### Koniec dopasowania modelu dla godziny: 4\n",
      "#####\n",
      "##### startuje dopasowanie modelu dla godziny: 5\n",
      "Performing stepwise search to minimize aic\n"
     ]
    },
    {
     "name": "stderr",
     "output_type": "stream",
     "text": [
      "D:\\Programy\\anaconda\\lib\\site-packages\\statsmodels\\base\\model.py:568: ConvergenceWarning: Maximum Likelihood optimization failed to converge. Check mle_retvals\n",
      "  ConvergenceWarning)\n"
     ]
    },
    {
     "name": "stdout",
     "output_type": "stream",
     "text": [
      " ARIMA(2,1,2)(0,0,0)[0] intercept   : AIC=4201.590, Time=0.23 sec\n",
      " ARIMA(0,1,0)(0,0,0)[0] intercept   : AIC=4237.649, Time=0.01 sec\n",
      " ARIMA(1,1,0)(0,0,0)[0] intercept   : AIC=4220.934, Time=0.04 sec\n",
      " ARIMA(0,1,1)(0,0,0)[0] intercept   : AIC=4209.651, Time=0.03 sec\n",
      " ARIMA(0,1,0)(0,0,0)[0]             : AIC=4235.660, Time=0.01 sec\n"
     ]
    },
    {
     "name": "stderr",
     "output_type": "stream",
     "text": [
      "D:\\Programy\\anaconda\\lib\\site-packages\\statsmodels\\base\\model.py:568: ConvergenceWarning: Maximum Likelihood optimization failed to converge. Check mle_retvals\n",
      "  ConvergenceWarning)\n"
     ]
    },
    {
     "name": "stdout",
     "output_type": "stream",
     "text": [
      " ARIMA(1,1,2)(0,0,0)[0] intercept   : AIC=4202.723, Time=0.18 sec\n",
      " ARIMA(2,1,1)(0,0,0)[0] intercept   : AIC=4202.502, Time=0.11 sec\n",
      " ARIMA(3,1,2)(0,0,0)[0] intercept   : AIC=4203.740, Time=0.22 sec\n"
     ]
    },
    {
     "name": "stderr",
     "output_type": "stream",
     "text": [
      "D:\\Programy\\anaconda\\lib\\site-packages\\statsmodels\\base\\model.py:568: ConvergenceWarning: Maximum Likelihood optimization failed to converge. Check mle_retvals\n",
      "  ConvergenceWarning)\n",
      "D:\\Programy\\anaconda\\lib\\site-packages\\statsmodels\\base\\model.py:568: ConvergenceWarning: Maximum Likelihood optimization failed to converge. Check mle_retvals\n",
      "  ConvergenceWarning)\n"
     ]
    },
    {
     "name": "stdout",
     "output_type": "stream",
     "text": [
      " ARIMA(2,1,3)(0,0,0)[0] intercept   : AIC=4203.737, Time=0.30 sec\n",
      " ARIMA(1,1,1)(0,0,0)[0] intercept   : AIC=4200.730, Time=0.16 sec\n",
      " ARIMA(0,1,2)(0,0,0)[0] intercept   : AIC=4200.774, Time=0.06 sec\n",
      " ARIMA(2,1,0)(0,0,0)[0] intercept   : AIC=4211.572, Time=0.06 sec\n",
      " ARIMA(1,1,1)(0,0,0)[0]             : AIC=4199.228, Time=0.04 sec\n",
      " ARIMA(0,1,1)(0,0,0)[0]             : AIC=4207.829, Time=0.02 sec\n",
      " ARIMA(1,1,0)(0,0,0)[0]             : AIC=4218.976, Time=0.02 sec\n",
      " ARIMA(2,1,1)(0,0,0)[0]             : AIC=4200.911, Time=0.07 sec\n",
      " ARIMA(1,1,2)(0,0,0)[0]             : AIC=4200.868, Time=0.09 sec\n",
      " ARIMA(0,1,2)(0,0,0)[0]             : AIC=4199.046, Time=0.04 sec\n",
      " ARIMA(0,1,3)(0,0,0)[0]             : AIC=4201.005, Time=0.05 sec\n",
      " ARIMA(1,1,3)(0,0,0)[0]             : AIC=4201.331, Time=0.18 sec"
     ]
    },
    {
     "name": "stderr",
     "output_type": "stream",
     "text": [
      "D:\\Programy\\anaconda\\lib\\site-packages\\statsmodels\\base\\model.py:568: ConvergenceWarning: Maximum Likelihood optimization failed to converge. Check mle_retvals\n",
      "  ConvergenceWarning)\n",
      "D:\\Programy\\anaconda\\lib\\site-packages\\statsmodels\\tsa\\base\\tsa_model.py:579: ValueWarning: An unsupported index was provided and will be ignored when e.g. forecasting.\n",
      "  ' ignored when e.g. forecasting.', ValueWarning)\n",
      "D:\\Programy\\anaconda\\lib\\site-packages\\statsmodels\\tsa\\base\\tsa_model.py:579: ValueWarning: An unsupported index was provided and will be ignored when e.g. forecasting.\n",
      "  ' ignored when e.g. forecasting.', ValueWarning)\n"
     ]
    },
    {
     "name": "stdout",
     "output_type": "stream",
     "text": [
      "\n",
      "\n",
      "Best model:  ARIMA(0,1,2)(0,0,0)[0]          \n",
      "Total fit time: 1.934 seconds\n",
      "autoARIMA time: 0:00:01.940370\n",
      "(0, 1, 2)\n",
      "(0, 0, 0, 0)\n",
      "fit time = 0:00:00.049034\n",
      "##### Koniec dopasowania modelu dla godziny: 5\n",
      "#####\n",
      "##### startuje dopasowanie modelu dla godziny: 6\n",
      "Performing stepwise search to minimize aic\n",
      " ARIMA(2,1,2)(0,0,0)[0] intercept   : AIC=4078.174, Time=0.17 sec\n",
      " ARIMA(0,1,0)(0,0,0)[0] intercept   : AIC=4107.596, Time=0.01 sec\n",
      " ARIMA(1,1,0)(0,0,0)[0] intercept   : AIC=4087.539, Time=0.04 sec\n",
      " ARIMA(0,1,1)(0,0,0)[0] intercept   : AIC=4078.426, Time=0.05 sec\n",
      " ARIMA(0,1,0)(0,0,0)[0]             : AIC=4105.613, Time=0.01 sec\n",
      " ARIMA(1,1,2)(0,0,0)[0] intercept   : AIC=4076.893, Time=0.12 sec\n",
      " ARIMA(0,1,2)(0,0,0)[0] intercept   : AIC=4078.773, Time=0.06 sec\n",
      " ARIMA(1,1,1)(0,0,0)[0] intercept   : AIC=4079.262, Time=0.15 sec\n",
      " ARIMA(1,1,3)(0,0,0)[0] intercept   : AIC=4078.372, Time=0.14 sec\n"
     ]
    },
    {
     "name": "stderr",
     "output_type": "stream",
     "text": [
      "D:\\Programy\\anaconda\\lib\\site-packages\\statsmodels\\base\\model.py:568: ConvergenceWarning: Maximum Likelihood optimization failed to converge. Check mle_retvals\n",
      "  ConvergenceWarning)\n"
     ]
    },
    {
     "name": "stdout",
     "output_type": "stream",
     "text": [
      " ARIMA(0,1,3)(0,0,0)[0] intercept   : AIC=4077.376, Time=0.20 sec\n",
      " ARIMA(2,1,1)(0,0,0)[0] intercept   : AIC=4077.657, Time=0.16 sec\n"
     ]
    },
    {
     "name": "stderr",
     "output_type": "stream",
     "text": [
      "D:\\Programy\\anaconda\\lib\\site-packages\\statsmodels\\base\\model.py:568: ConvergenceWarning: Maximum Likelihood optimization failed to converge. Check mle_retvals\n",
      "  ConvergenceWarning)\n"
     ]
    },
    {
     "name": "stdout",
     "output_type": "stream",
     "text": [
      " ARIMA(2,1,3)(0,0,0)[0] intercept   : AIC=4074.832, Time=0.33 sec\n"
     ]
    },
    {
     "name": "stderr",
     "output_type": "stream",
     "text": [
      "D:\\Programy\\anaconda\\lib\\site-packages\\statsmodels\\base\\model.py:568: ConvergenceWarning: Maximum Likelihood optimization failed to converge. Check mle_retvals\n",
      "  ConvergenceWarning)\n"
     ]
    },
    {
     "name": "stdout",
     "output_type": "stream",
     "text": [
      " ARIMA(3,1,3)(0,0,0)[0] intercept   : AIC=4077.081, Time=0.44 sec\n"
     ]
    },
    {
     "name": "stderr",
     "output_type": "stream",
     "text": [
      "D:\\Programy\\anaconda\\lib\\site-packages\\statsmodels\\base\\model.py:568: ConvergenceWarning: Maximum Likelihood optimization failed to converge. Check mle_retvals\n",
      "  ConvergenceWarning)\n"
     ]
    },
    {
     "name": "stdout",
     "output_type": "stream",
     "text": [
      " ARIMA(2,1,4)(0,0,0)[0] intercept   : AIC=4076.983, Time=0.47 sec\n",
      " ARIMA(1,1,4)(0,0,0)[0] intercept   : AIC=4080.394, Time=0.19 sec\n",
      " ARIMA(3,1,2)(0,0,0)[0] intercept   : AIC=4079.885, Time=0.24 sec\n"
     ]
    },
    {
     "name": "stderr",
     "output_type": "stream",
     "text": [
      "D:\\Programy\\anaconda\\lib\\site-packages\\statsmodels\\base\\model.py:568: ConvergenceWarning: Maximum Likelihood optimization failed to converge. Check mle_retvals\n",
      "  ConvergenceWarning)\n",
      "D:\\Programy\\anaconda\\lib\\site-packages\\statsmodels\\tsa\\base\\tsa_model.py:579: ValueWarning: An unsupported index was provided and will be ignored when e.g. forecasting.\n",
      "  ' ignored when e.g. forecasting.', ValueWarning)\n",
      "D:\\Programy\\anaconda\\lib\\site-packages\\statsmodels\\tsa\\base\\tsa_model.py:579: ValueWarning: An unsupported index was provided and will be ignored when e.g. forecasting.\n",
      "  ' ignored when e.g. forecasting.', ValueWarning)\n"
     ]
    },
    {
     "name": "stdout",
     "output_type": "stream",
     "text": [
      " ARIMA(3,1,4)(0,0,0)[0] intercept   : AIC=4078.165, Time=0.40 sec\n",
      " ARIMA(2,1,3)(0,0,0)[0]             : AIC=4078.512, Time=0.11 sec\n",
      "\n",
      "Best model:  ARIMA(2,1,3)(0,0,0)[0] intercept\n",
      "Total fit time: 3.317 seconds\n",
      "autoARIMA time: 0:00:03.323476\n",
      "(2, 1, 3)\n",
      "(0, 0, 0, 0)\n",
      "fit time = 0:00:00.136096\n",
      "##### Koniec dopasowania modelu dla godziny: 6\n",
      "#####\n",
      "##### startuje dopasowanie modelu dla godziny: 7\n",
      "Performing stepwise search to minimize aic\n",
      " ARIMA(2,1,2)(0,0,0)[0] intercept   : AIC=4553.450, Time=0.18 sec\n",
      " ARIMA(0,1,0)(0,0,0)[0] intercept   : AIC=4620.306, Time=0.02 sec\n",
      " ARIMA(1,1,0)(0,0,0)[0] intercept   : AIC=4590.697, Time=0.04 sec\n",
      " ARIMA(0,1,1)(0,0,0)[0] intercept   : AIC=4555.819, Time=0.04 sec\n",
      " ARIMA(0,1,0)(0,0,0)[0]             : AIC=4618.311, Time=0.01 sec\n",
      " ARIMA(1,1,2)(0,0,0)[0] intercept   : AIC=4551.422, Time=0.14 sec\n",
      " ARIMA(0,1,2)(0,0,0)[0] intercept   : AIC=4551.131, Time=0.05 sec\n",
      " ARIMA(0,1,3)(0,0,0)[0] intercept   : AIC=4551.695, Time=0.09 sec\n",
      " ARIMA(1,1,1)(0,0,0)[0] intercept   : AIC=4552.337, Time=0.14 sec\n"
     ]
    },
    {
     "name": "stderr",
     "output_type": "stream",
     "text": [
      "D:\\Programy\\anaconda\\lib\\site-packages\\statsmodels\\base\\model.py:568: ConvergenceWarning: Maximum Likelihood optimization failed to converge. Check mle_retvals\n",
      "  ConvergenceWarning)\n"
     ]
    },
    {
     "name": "stdout",
     "output_type": "stream",
     "text": [
      " ARIMA(1,1,3)(0,0,0)[0] intercept   : AIC=4553.350, Time=0.25 sec\n",
      " ARIMA(0,1,2)(0,0,0)[0]             : AIC=4549.538, Time=0.04 sec\n",
      " ARIMA(0,1,1)(0,0,0)[0]             : AIC=4554.240, Time=0.03 sec\n",
      " ARIMA(1,1,2)(0,0,0)[0]             : AIC=4549.963, Time=0.09 sec\n",
      " ARIMA(0,1,3)(0,0,0)[0]             : AIC=4549.881, Time=0.06 sec\n",
      " ARIMA(1,1,1)(0,0,0)[0]             : AIC=4550.941, Time=0.04 sec\n"
     ]
    },
    {
     "name": "stderr",
     "output_type": "stream",
     "text": [
      "D:\\Programy\\anaconda\\lib\\site-packages\\statsmodels\\base\\model.py:568: ConvergenceWarning: Maximum Likelihood optimization failed to converge. Check mle_retvals\n",
      "  ConvergenceWarning)\n",
      "D:\\Programy\\anaconda\\lib\\site-packages\\statsmodels\\tsa\\base\\tsa_model.py:579: ValueWarning: An unsupported index was provided and will be ignored when e.g. forecasting.\n",
      "  ' ignored when e.g. forecasting.', ValueWarning)\n",
      "D:\\Programy\\anaconda\\lib\\site-packages\\statsmodels\\tsa\\base\\tsa_model.py:579: ValueWarning: An unsupported index was provided and will be ignored when e.g. forecasting.\n",
      "  ' ignored when e.g. forecasting.', ValueWarning)\n"
     ]
    },
    {
     "name": "stdout",
     "output_type": "stream",
     "text": [
      " ARIMA(1,1,3)(0,0,0)[0]             : AIC=4552.140, Time=0.20 sec\n",
      "\n",
      "Best model:  ARIMA(0,1,2)(0,0,0)[0]          \n",
      "Total fit time: 1.438 seconds\n",
      "autoARIMA time: 0:00:01.444332\n",
      "(0, 1, 2)\n",
      "(0, 0, 0, 0)\n",
      "fit time = 0:00:00.045032\n",
      "##### Koniec dopasowania modelu dla godziny: 7\n",
      "#####\n",
      "##### startuje dopasowanie modelu dla godziny: 8\n",
      "Performing stepwise search to minimize aic\n"
     ]
    },
    {
     "name": "stderr",
     "output_type": "stream",
     "text": [
      "D:\\Programy\\anaconda\\lib\\site-packages\\statsmodels\\base\\model.py:568: ConvergenceWarning: Maximum Likelihood optimization failed to converge. Check mle_retvals\n",
      "  ConvergenceWarning)\n"
     ]
    },
    {
     "name": "stdout",
     "output_type": "stream",
     "text": [
      " ARIMA(2,1,2)(0,0,0)[0] intercept   : AIC=4640.544, Time=0.23 sec\n",
      " ARIMA(0,1,0)(0,0,0)[0] intercept   : AIC=4702.564, Time=0.01 sec\n",
      " ARIMA(1,1,0)(0,0,0)[0] intercept   : AIC=4679.439, Time=0.04 sec\n",
      " ARIMA(0,1,1)(0,0,0)[0] intercept   : AIC=4650.372, Time=0.04 sec\n",
      " ARIMA(0,1,0)(0,0,0)[0]             : AIC=4700.571, Time=0.01 sec\n"
     ]
    },
    {
     "name": "stderr",
     "output_type": "stream",
     "text": [
      "D:\\Programy\\anaconda\\lib\\site-packages\\statsmodels\\base\\model.py:568: ConvergenceWarning: Maximum Likelihood optimization failed to converge. Check mle_retvals\n",
      "  ConvergenceWarning)\n"
     ]
    },
    {
     "name": "stdout",
     "output_type": "stream",
     "text": [
      " ARIMA(1,1,2)(0,0,0)[0] intercept   : AIC=4637.895, Time=0.20 sec\n",
      " ARIMA(0,1,2)(0,0,0)[0] intercept   : AIC=4636.561, Time=0.05 sec\n"
     ]
    },
    {
     "name": "stderr",
     "output_type": "stream",
     "text": [
      "D:\\Programy\\anaconda\\lib\\site-packages\\statsmodels\\base\\model.py:568: ConvergenceWarning: Maximum Likelihood optimization failed to converge. Check mle_retvals\n",
      "  ConvergenceWarning)\n",
      "D:\\Programy\\anaconda\\lib\\site-packages\\statsmodels\\base\\model.py:568: ConvergenceWarning: Maximum Likelihood optimization failed to converge. Check mle_retvals\n",
      "  ConvergenceWarning)\n"
     ]
    },
    {
     "name": "stdout",
     "output_type": "stream",
     "text": [
      " ARIMA(0,1,3)(0,0,0)[0] intercept   : AIC=4637.639, Time=0.19 sec\n",
      " ARIMA(1,1,1)(0,0,0)[0] intercept   : AIC=4636.833, Time=0.16 sec\n"
     ]
    },
    {
     "name": "stderr",
     "output_type": "stream",
     "text": [
      "D:\\Programy\\anaconda\\lib\\site-packages\\statsmodels\\base\\model.py:568: ConvergenceWarning: Maximum Likelihood optimization failed to converge. Check mle_retvals\n",
      "  ConvergenceWarning)\n"
     ]
    },
    {
     "name": "stdout",
     "output_type": "stream",
     "text": [
      " ARIMA(1,1,3)(0,0,0)[0] intercept   : AIC=4639.207, Time=0.25 sec\n",
      " ARIMA(0,1,2)(0,0,0)[0]             : AIC=4635.036, Time=0.03 sec\n",
      " ARIMA(0,1,1)(0,0,0)[0]             : AIC=4648.861, Time=0.03 sec\n",
      " ARIMA(1,1,2)(0,0,0)[0]             : AIC=4636.650, Time=0.08 sec\n",
      " ARIMA(0,1,3)(0,0,0)[0]             : AIC=4636.499, Time=0.08 sec\n",
      " ARIMA(1,1,1)(0,0,0)[0]             : AIC=4635.745, Time=0.06 sec\n",
      " ARIMA(1,1,3)(0,0,0)[0]             : AIC=4639.039, Time=0.10 sec\n",
      "\n",
      "Best model:  ARIMA(0,1,2)(0,0,0)[0]          \n",
      "Total fit time: 1.571 seconds\n",
      "autoARIMA time: 0:00:01.577115\n",
      "(0, 1, 2)\n",
      "(0, 0, 0, 0)\n"
     ]
    },
    {
     "name": "stderr",
     "output_type": "stream",
     "text": [
      "D:\\Programy\\anaconda\\lib\\site-packages\\statsmodels\\tsa\\base\\tsa_model.py:579: ValueWarning: An unsupported index was provided and will be ignored when e.g. forecasting.\n",
      "  ' ignored when e.g. forecasting.', ValueWarning)\n",
      "D:\\Programy\\anaconda\\lib\\site-packages\\statsmodels\\tsa\\base\\tsa_model.py:579: ValueWarning: An unsupported index was provided and will be ignored when e.g. forecasting.\n",
      "  ' ignored when e.g. forecasting.', ValueWarning)\n"
     ]
    },
    {
     "name": "stdout",
     "output_type": "stream",
     "text": [
      "fit time = 0:00:00.054038\n",
      "##### Koniec dopasowania modelu dla godziny: 8\n",
      "#####\n",
      "##### startuje dopasowanie modelu dla godziny: 9\n",
      "Performing stepwise search to minimize aic\n"
     ]
    },
    {
     "name": "stderr",
     "output_type": "stream",
     "text": [
      "D:\\Programy\\anaconda\\lib\\site-packages\\statsmodels\\base\\model.py:568: ConvergenceWarning: Maximum Likelihood optimization failed to converge. Check mle_retvals\n",
      "  ConvergenceWarning)\n"
     ]
    },
    {
     "name": "stdout",
     "output_type": "stream",
     "text": [
      " ARIMA(2,1,2)(0,0,0)[0] intercept   : AIC=4564.402, Time=0.27 sec\n",
      " ARIMA(0,1,0)(0,0,0)[0] intercept   : AIC=4625.004, Time=0.01 sec\n",
      " ARIMA(1,1,0)(0,0,0)[0] intercept   : AIC=4597.463, Time=0.04 sec\n",
      " ARIMA(0,1,1)(0,0,0)[0] intercept   : AIC=4572.593, Time=0.04 sec\n",
      " ARIMA(0,1,0)(0,0,0)[0]             : AIC=4623.010, Time=0.01 sec\n"
     ]
    },
    {
     "name": "stderr",
     "output_type": "stream",
     "text": [
      "D:\\Programy\\anaconda\\lib\\site-packages\\statsmodels\\base\\model.py:568: ConvergenceWarning: Maximum Likelihood optimization failed to converge. Check mle_retvals\n",
      "  ConvergenceWarning)\n",
      "D:\\Programy\\anaconda\\lib\\site-packages\\statsmodels\\base\\model.py:568: ConvergenceWarning: Maximum Likelihood optimization failed to converge. Check mle_retvals\n",
      "  ConvergenceWarning)\n"
     ]
    },
    {
     "name": "stdout",
     "output_type": "stream",
     "text": [
      " ARIMA(1,1,2)(0,0,0)[0] intercept   : AIC=4562.485, Time=0.20 sec\n",
      " ARIMA(0,1,2)(0,0,0)[0] intercept   : AIC=4560.878, Time=0.14 sec\n"
     ]
    },
    {
     "name": "stderr",
     "output_type": "stream",
     "text": [
      "D:\\Programy\\anaconda\\lib\\site-packages\\statsmodels\\base\\model.py:568: ConvergenceWarning: Maximum Likelihood optimization failed to converge. Check mle_retvals\n",
      "  ConvergenceWarning)\n",
      "D:\\Programy\\anaconda\\lib\\site-packages\\statsmodels\\base\\model.py:568: ConvergenceWarning: Maximum Likelihood optimization failed to converge. Check mle_retvals\n",
      "  ConvergenceWarning)\n"
     ]
    },
    {
     "name": "stdout",
     "output_type": "stream",
     "text": [
      " ARIMA(0,1,3)(0,0,0)[0] intercept   : AIC=4561.985, Time=0.22 sec\n",
      " ARIMA(1,1,1)(0,0,0)[0] intercept   : AIC=4560.724, Time=0.14 sec\n",
      " ARIMA(2,1,1)(0,0,0)[0] intercept   : AIC=4562.573, Time=0.10 sec\n",
      " ARIMA(2,1,0)(0,0,0)[0] intercept   : AIC=4586.691, Time=0.05 sec\n",
      " ARIMA(1,1,1)(0,0,0)[0]             : AIC=4559.668, Time=0.04 sec\n",
      " ARIMA(0,1,1)(0,0,0)[0]             : AIC=4571.070, Time=0.03 sec\n",
      " ARIMA(1,1,0)(0,0,0)[0]             : AIC=4595.506, Time=0.03 sec\n",
      " ARIMA(2,1,1)(0,0,0)[0]             : AIC=4561.396, Time=0.06 sec\n",
      " ARIMA(1,1,2)(0,0,0)[0]             : AIC=4561.064, Time=0.09 sec\n",
      " ARIMA(0,1,2)(0,0,0)[0]             : AIC=4559.708, Time=0.04 sec\n",
      " ARIMA(2,1,0)(0,0,0)[0]             : AIC=4584.768, Time=0.04 sec\n",
      " ARIMA(2,1,2)(0,0,0)[0]             : AIC=4563.280, Time=0.07 sec\n",
      "\n",
      "Best model:  ARIMA(1,1,1)(0,0,0)[0]          \n",
      "Total fit time: 1.619 seconds\n",
      "autoARIMA time: 0:00:01.625147\n",
      "(1, 1, 1)\n",
      "(0, 0, 0, 0)\n",
      "fit time = 0:00:00.055040\n",
      "##### Koniec dopasowania modelu dla godziny: 9\n",
      "#####\n",
      "##### startuje dopasowanie modelu dla godziny: 10\n",
      "Performing stepwise search to minimize aic\n"
     ]
    },
    {
     "name": "stderr",
     "output_type": "stream",
     "text": [
      "D:\\Programy\\anaconda\\lib\\site-packages\\statsmodels\\tsa\\base\\tsa_model.py:579: ValueWarning: An unsupported index was provided and will be ignored when e.g. forecasting.\n",
      "  ' ignored when e.g. forecasting.', ValueWarning)\n",
      "D:\\Programy\\anaconda\\lib\\site-packages\\statsmodels\\tsa\\base\\tsa_model.py:579: ValueWarning: An unsupported index was provided and will be ignored when e.g. forecasting.\n",
      "  ' ignored when e.g. forecasting.', ValueWarning)\n",
      "D:\\Programy\\anaconda\\lib\\site-packages\\statsmodels\\base\\model.py:568: ConvergenceWarning: Maximum Likelihood optimization failed to converge. Check mle_retvals\n",
      "  ConvergenceWarning)\n",
      "D:\\Programy\\anaconda\\lib\\site-packages\\statsmodels\\base\\model.py:568: ConvergenceWarning: Maximum Likelihood optimization failed to converge. Check mle_retvals\n",
      "  ConvergenceWarning)\n"
     ]
    },
    {
     "name": "stdout",
     "output_type": "stream",
     "text": [
      " ARIMA(2,1,2)(0,0,0)[0] intercept   : AIC=inf, Time=0.24 sec\n",
      " ARIMA(0,1,0)(0,0,0)[0] intercept   : AIC=4668.490, Time=0.01 sec\n",
      " ARIMA(1,1,0)(0,0,0)[0] intercept   : AIC=4647.663, Time=0.04 sec\n",
      " ARIMA(0,1,1)(0,0,0)[0] intercept   : AIC=4621.730, Time=0.13 sec\n",
      " ARIMA(0,1,0)(0,0,0)[0]             : AIC=4666.497, Time=0.01 sec\n",
      " ARIMA(1,1,1)(0,0,0)[0] intercept   : AIC=4606.092, Time=0.09 sec\n",
      " ARIMA(2,1,1)(0,0,0)[0] intercept   : AIC=4606.917, Time=0.08 sec\n"
     ]
    },
    {
     "name": "stderr",
     "output_type": "stream",
     "text": [
      "D:\\Programy\\anaconda\\lib\\site-packages\\statsmodels\\base\\model.py:568: ConvergenceWarning: Maximum Likelihood optimization failed to converge. Check mle_retvals\n",
      "  ConvergenceWarning)\n"
     ]
    },
    {
     "name": "stdout",
     "output_type": "stream",
     "text": [
      " ARIMA(1,1,2)(0,0,0)[0] intercept   : AIC=4607.171, Time=0.23 sec\n",
      " ARIMA(0,1,2)(0,0,0)[0] intercept   : AIC=4605.954, Time=0.06 sec\n"
     ]
    },
    {
     "name": "stderr",
     "output_type": "stream",
     "text": [
      "D:\\Programy\\anaconda\\lib\\site-packages\\statsmodels\\base\\model.py:568: ConvergenceWarning: Maximum Likelihood optimization failed to converge. Check mle_retvals\n",
      "  ConvergenceWarning)\n"
     ]
    },
    {
     "name": "stdout",
     "output_type": "stream",
     "text": [
      " ARIMA(0,1,3)(0,0,0)[0] intercept   : AIC=4607.732, Time=0.19 sec\n"
     ]
    },
    {
     "name": "stderr",
     "output_type": "stream",
     "text": [
      "D:\\Programy\\anaconda\\lib\\site-packages\\statsmodels\\base\\model.py:568: ConvergenceWarning: Maximum Likelihood optimization failed to converge. Check mle_retvals\n",
      "  ConvergenceWarning)\n"
     ]
    },
    {
     "name": "stdout",
     "output_type": "stream",
     "text": [
      " ARIMA(1,1,3)(0,0,0)[0] intercept   : AIC=4610.272, Time=0.22 sec\n",
      " ARIMA(0,1,2)(0,0,0)[0]             : AIC=4604.510, Time=0.04 sec\n",
      " ARIMA(0,1,1)(0,0,0)[0]             : AIC=4620.223, Time=0.02 sec\n",
      " ARIMA(1,1,2)(0,0,0)[0]             : AIC=4606.150, Time=0.08 sec\n",
      " ARIMA(0,1,3)(0,0,0)[0]             : AIC=4606.983, Time=0.07 sec\n",
      " ARIMA(1,1,1)(0,0,0)[0]             : AIC=4605.074, Time=0.07 sec\n"
     ]
    },
    {
     "name": "stderr",
     "output_type": "stream",
     "text": [
      "D:\\Programy\\anaconda\\lib\\site-packages\\statsmodels\\base\\model.py:568: ConvergenceWarning: Maximum Likelihood optimization failed to converge. Check mle_retvals\n",
      "  ConvergenceWarning)\n",
      "D:\\Programy\\anaconda\\lib\\site-packages\\statsmodels\\tsa\\base\\tsa_model.py:579: ValueWarning: An unsupported index was provided and will be ignored when e.g. forecasting.\n",
      "  ' ignored when e.g. forecasting.', ValueWarning)\n",
      "D:\\Programy\\anaconda\\lib\\site-packages\\statsmodels\\tsa\\base\\tsa_model.py:579: ValueWarning: An unsupported index was provided and will be ignored when e.g. forecasting.\n",
      "  ' ignored when e.g. forecasting.', ValueWarning)\n"
     ]
    },
    {
     "name": "stdout",
     "output_type": "stream",
     "text": [
      " ARIMA(1,1,3)(0,0,0)[0]             : AIC=4608.961, Time=0.16 sec\n",
      "\n",
      "Best model:  ARIMA(0,1,2)(0,0,0)[0]          \n",
      "Total fit time: 1.751 seconds\n",
      "autoARIMA time: 0:00:01.756240\n",
      "(0, 1, 2)\n",
      "(0, 0, 0, 0)\n",
      "fit time = 0:00:00.039027\n",
      "##### Koniec dopasowania modelu dla godziny: 10\n",
      "#####\n",
      "##### startuje dopasowanie modelu dla godziny: 11\n",
      "Performing stepwise search to minimize aic\n"
     ]
    },
    {
     "name": "stderr",
     "output_type": "stream",
     "text": [
      "D:\\Programy\\anaconda\\lib\\site-packages\\statsmodels\\base\\model.py:568: ConvergenceWarning: Maximum Likelihood optimization failed to converge. Check mle_retvals\n",
      "  ConvergenceWarning)\n"
     ]
    },
    {
     "name": "stdout",
     "output_type": "stream",
     "text": [
      " ARIMA(2,1,2)(0,0,0)[0] intercept   : AIC=4509.519, Time=0.21 sec\n",
      " ARIMA(0,1,0)(0,0,0)[0] intercept   : AIC=4557.744, Time=0.01 sec\n",
      " ARIMA(1,1,0)(0,0,0)[0] intercept   : AIC=4550.145, Time=0.04 sec\n",
      " ARIMA(0,1,1)(0,0,0)[0] intercept   : AIC=4540.200, Time=0.05 sec\n",
      " ARIMA(0,1,0)(0,0,0)[0]             : AIC=4555.752, Time=0.01 sec\n"
     ]
    },
    {
     "name": "stderr",
     "output_type": "stream",
     "text": [
      "D:\\Programy\\anaconda\\lib\\site-packages\\statsmodels\\base\\model.py:568: ConvergenceWarning: Maximum Likelihood optimization failed to converge. Check mle_retvals\n",
      "  ConvergenceWarning)\n",
      "D:\\Programy\\anaconda\\lib\\site-packages\\statsmodels\\base\\model.py:568: ConvergenceWarning: Maximum Likelihood optimization failed to converge. Check mle_retvals\n",
      "  ConvergenceWarning)\n"
     ]
    },
    {
     "name": "stdout",
     "output_type": "stream",
     "text": [
      " ARIMA(1,1,2)(0,0,0)[0] intercept   : AIC=4510.167, Time=0.19 sec\n",
      " ARIMA(2,1,1)(0,0,0)[0] intercept   : AIC=4511.069, Time=0.19 sec\n"
     ]
    },
    {
     "name": "stderr",
     "output_type": "stream",
     "text": [
      "D:\\Programy\\anaconda\\lib\\site-packages\\statsmodels\\base\\model.py:568: ConvergenceWarning: Maximum Likelihood optimization failed to converge. Check mle_retvals\n",
      "  ConvergenceWarning)\n"
     ]
    },
    {
     "name": "stdout",
     "output_type": "stream",
     "text": [
      " ARIMA(3,1,2)(0,0,0)[0] intercept   : AIC=4511.491, Time=0.25 sec\n"
     ]
    },
    {
     "name": "stderr",
     "output_type": "stream",
     "text": [
      "D:\\Programy\\anaconda\\lib\\site-packages\\statsmodels\\base\\model.py:568: ConvergenceWarning: Maximum Likelihood optimization failed to converge. Check mle_retvals\n",
      "  ConvergenceWarning)\n",
      "D:\\Programy\\anaconda\\lib\\site-packages\\statsmodels\\base\\model.py:568: ConvergenceWarning: Maximum Likelihood optimization failed to converge. Check mle_retvals\n",
      "  ConvergenceWarning)\n"
     ]
    },
    {
     "name": "stdout",
     "output_type": "stream",
     "text": [
      " ARIMA(2,1,3)(0,0,0)[0] intercept   : AIC=4511.584, Time=0.25 sec\n",
      " ARIMA(1,1,1)(0,0,0)[0] intercept   : AIC=4512.469, Time=0.16 sec\n"
     ]
    },
    {
     "name": "stderr",
     "output_type": "stream",
     "text": [
      "D:\\Programy\\anaconda\\lib\\site-packages\\statsmodels\\base\\model.py:568: ConvergenceWarning: Maximum Likelihood optimization failed to converge. Check mle_retvals\n",
      "  ConvergenceWarning)\n"
     ]
    },
    {
     "name": "stdout",
     "output_type": "stream",
     "text": [
      " ARIMA(1,1,3)(0,0,0)[0] intercept   : AIC=4511.695, Time=0.25 sec\n",
      " ARIMA(3,1,1)(0,0,0)[0] intercept   : AIC=4513.076, Time=0.17 sec\n"
     ]
    },
    {
     "name": "stderr",
     "output_type": "stream",
     "text": [
      "D:\\Programy\\anaconda\\lib\\site-packages\\statsmodels\\base\\model.py:568: ConvergenceWarning: Maximum Likelihood optimization failed to converge. Check mle_retvals\n",
      "  ConvergenceWarning)\n"
     ]
    },
    {
     "name": "stdout",
     "output_type": "stream",
     "text": [
      " ARIMA(3,1,3)(0,0,0)[0] intercept   : AIC=4513.638, Time=0.29 sec\n",
      " ARIMA(2,1,2)(0,0,0)[0]             : AIC=4508.566, Time=0.10 sec\n",
      " ARIMA(1,1,2)(0,0,0)[0]             : AIC=4509.279, Time=0.07 sec\n",
      " ARIMA(2,1,1)(0,0,0)[0]             : AIC=4510.211, Time=0.08 sec\n",
      " ARIMA(3,1,2)(0,0,0)[0]             : AIC=4510.516, Time=0.15 sec\n"
     ]
    },
    {
     "name": "stderr",
     "output_type": "stream",
     "text": [
      "D:\\Programy\\anaconda\\lib\\site-packages\\statsmodels\\base\\model.py:568: ConvergenceWarning: Maximum Likelihood optimization failed to converge. Check mle_retvals\n",
      "  ConvergenceWarning)\n"
     ]
    },
    {
     "name": "stdout",
     "output_type": "stream",
     "text": [
      " ARIMA(2,1,3)(0,0,0)[0]             : AIC=4510.484, Time=0.21 sec\n",
      " ARIMA(1,1,1)(0,0,0)[0]             : AIC=4512.031, Time=0.06 sec\n",
      " ARIMA(1,1,3)(0,0,0)[0]             : AIC=4511.055, Time=0.15 sec\n",
      " ARIMA(3,1,1)(0,0,0)[0]             : AIC=4512.179, Time=0.11 sec\n"
     ]
    },
    {
     "name": "stderr",
     "output_type": "stream",
     "text": [
      "D:\\Programy\\anaconda\\lib\\site-packages\\statsmodels\\base\\model.py:568: ConvergenceWarning: Maximum Likelihood optimization failed to converge. Check mle_retvals\n",
      "  ConvergenceWarning)\n",
      "D:\\Programy\\anaconda\\lib\\site-packages\\statsmodels\\tsa\\base\\tsa_model.py:579: ValueWarning: An unsupported index was provided and will be ignored when e.g. forecasting.\n",
      "  ' ignored when e.g. forecasting.', ValueWarning)\n",
      "D:\\Programy\\anaconda\\lib\\site-packages\\statsmodels\\tsa\\base\\tsa_model.py:579: ValueWarning: An unsupported index was provided and will be ignored when e.g. forecasting.\n",
      "  ' ignored when e.g. forecasting.', ValueWarning)\n"
     ]
    },
    {
     "name": "stdout",
     "output_type": "stream",
     "text": [
      " ARIMA(3,1,3)(0,0,0)[0]             : AIC=4512.086, Time=0.23 sec\n",
      "\n",
      "Best model:  ARIMA(2,1,2)(0,0,0)[0]          \n",
      "Total fit time: 3.258 seconds\n",
      "autoARIMA time: 0:00:03.266308\n",
      "(2, 1, 2)\n",
      "(0, 0, 0, 0)\n",
      "fit time = 0:00:00.116082\n",
      "##### Koniec dopasowania modelu dla godziny: 11\n",
      "#####\n",
      "##### startuje dopasowanie modelu dla godziny: 12\n",
      "Performing stepwise search to minimize aic\n",
      " ARIMA(2,1,2)(0,0,0)[0] intercept   : AIC=4366.177, Time=0.20 sec\n",
      " ARIMA(0,1,0)(0,0,0)[0] intercept   : AIC=4418.232, Time=0.02 sec\n",
      " ARIMA(1,1,0)(0,0,0)[0] intercept   : AIC=4396.657, Time=0.04 sec\n",
      " ARIMA(0,1,1)(0,0,0)[0] intercept   : AIC=4378.437, Time=0.04 sec\n",
      " ARIMA(0,1,0)(0,0,0)[0]             : AIC=4416.236, Time=0.01 sec\n",
      " ARIMA(1,1,2)(0,0,0)[0] intercept   : AIC=4367.732, Time=0.13 sec\n",
      " ARIMA(2,1,1)(0,0,0)[0] intercept   : AIC=4367.883, Time=0.11 sec\n"
     ]
    },
    {
     "name": "stderr",
     "output_type": "stream",
     "text": [
      "D:\\Programy\\anaconda\\lib\\site-packages\\statsmodels\\base\\model.py:568: ConvergenceWarning: Maximum Likelihood optimization failed to converge. Check mle_retvals\n",
      "  ConvergenceWarning)\n"
     ]
    },
    {
     "name": "stdout",
     "output_type": "stream",
     "text": [
      " ARIMA(3,1,2)(0,0,0)[0] intercept   : AIC=4368.150, Time=0.25 sec\n"
     ]
    },
    {
     "name": "stderr",
     "output_type": "stream",
     "text": [
      "D:\\Programy\\anaconda\\lib\\site-packages\\statsmodels\\base\\model.py:568: ConvergenceWarning: Maximum Likelihood optimization failed to converge. Check mle_retvals\n",
      "  ConvergenceWarning)\n",
      "D:\\Programy\\anaconda\\lib\\site-packages\\statsmodels\\base\\model.py:568: ConvergenceWarning: Maximum Likelihood optimization failed to converge. Check mle_retvals\n",
      "  ConvergenceWarning)\n"
     ]
    },
    {
     "name": "stdout",
     "output_type": "stream",
     "text": [
      " ARIMA(2,1,3)(0,0,0)[0] intercept   : AIC=4368.207, Time=0.26 sec\n",
      " ARIMA(1,1,1)(0,0,0)[0] intercept   : AIC=4366.148, Time=0.15 sec\n",
      " ARIMA(0,1,2)(0,0,0)[0] intercept   : AIC=4365.738, Time=0.07 sec\n",
      " ARIMA(0,1,3)(0,0,0)[0] intercept   : AIC=4367.874, Time=0.09 sec\n"
     ]
    },
    {
     "name": "stderr",
     "output_type": "stream",
     "text": [
      "D:\\Programy\\anaconda\\lib\\site-packages\\statsmodels\\base\\model.py:568: ConvergenceWarning: Maximum Likelihood optimization failed to converge. Check mle_retvals\n",
      "  ConvergenceWarning)\n"
     ]
    },
    {
     "name": "stdout",
     "output_type": "stream",
     "text": [
      " ARIMA(1,1,3)(0,0,0)[0] intercept   : AIC=4367.686, Time=0.25 sec\n",
      " ARIMA(0,1,2)(0,0,0)[0]             : AIC=4364.338, Time=0.05 sec\n",
      " ARIMA(0,1,1)(0,0,0)[0]             : AIC=4376.663, Time=0.03 sec\n",
      " ARIMA(1,1,2)(0,0,0)[0]             : AIC=4366.329, Time=0.08 sec\n",
      " ARIMA(0,1,3)(0,0,0)[0]             : AIC=4366.363, Time=0.06 sec\n",
      " ARIMA(1,1,1)(0,0,0)[0]             : AIC=4364.879, Time=0.10 sec\n"
     ]
    },
    {
     "name": "stderr",
     "output_type": "stream",
     "text": [
      "D:\\Programy\\anaconda\\lib\\site-packages\\statsmodels\\base\\model.py:568: ConvergenceWarning: Maximum Likelihood optimization failed to converge. Check mle_retvals\n",
      "  ConvergenceWarning)\n",
      "D:\\Programy\\anaconda\\lib\\site-packages\\statsmodels\\tsa\\base\\tsa_model.py:579: ValueWarning: An unsupported index was provided and will be ignored when e.g. forecasting.\n",
      "  ' ignored when e.g. forecasting.', ValueWarning)\n",
      "D:\\Programy\\anaconda\\lib\\site-packages\\statsmodels\\tsa\\base\\tsa_model.py:579: ValueWarning: An unsupported index was provided and will be ignored when e.g. forecasting.\n",
      "  ' ignored when e.g. forecasting.', ValueWarning)\n"
     ]
    },
    {
     "name": "stdout",
     "output_type": "stream",
     "text": [
      " ARIMA(1,1,3)(0,0,0)[0]             : AIC=4368.254, Time=0.15 sec\n",
      "\n",
      "Best model:  ARIMA(0,1,2)(0,0,0)[0]          \n",
      "Total fit time: 2.100 seconds\n",
      "autoARIMA time: 0:00:02.106488\n",
      "(0, 1, 2)\n",
      "(0, 0, 0, 0)\n",
      "fit time = 0:00:00.056042\n",
      "##### Koniec dopasowania modelu dla godziny: 12\n",
      "#####\n",
      "##### startuje dopasowanie modelu dla godziny: 13\n",
      "Performing stepwise search to minimize aic\n",
      " ARIMA(2,1,2)(0,0,0)[0] intercept   : AIC=4257.923, Time=0.19 sec\n",
      " ARIMA(0,1,0)(0,0,0)[0] intercept   : AIC=4321.623, Time=0.01 sec\n",
      " ARIMA(1,1,0)(0,0,0)[0] intercept   : AIC=4300.276, Time=0.04 sec\n",
      " ARIMA(0,1,1)(0,0,0)[0] intercept   : AIC=4270.282, Time=0.03 sec\n",
      " ARIMA(0,1,0)(0,0,0)[0]             : AIC=4319.627, Time=0.01 sec\n",
      " ARIMA(1,1,2)(0,0,0)[0] intercept   : AIC=4256.302, Time=0.12 sec\n",
      " ARIMA(0,1,2)(0,0,0)[0] intercept   : AIC=4262.761, Time=0.15 sec\n"
     ]
    },
    {
     "name": "stderr",
     "output_type": "stream",
     "text": [
      "D:\\Programy\\anaconda\\lib\\site-packages\\statsmodels\\base\\model.py:568: ConvergenceWarning: Maximum Likelihood optimization failed to converge. Check mle_retvals\n",
      "  ConvergenceWarning)\n"
     ]
    },
    {
     "name": "stdout",
     "output_type": "stream",
     "text": [
      " ARIMA(1,1,1)(0,0,0)[0] intercept   : AIC=4267.120, Time=0.07 sec\n",
      " ARIMA(1,1,3)(0,0,0)[0] intercept   : AIC=4257.514, Time=0.27 sec\n",
      " ARIMA(0,1,3)(0,0,0)[0] intercept   : AIC=4255.605, Time=0.09 sec\n",
      " ARIMA(0,1,4)(0,0,0)[0] intercept   : AIC=4257.548, Time=0.10 sec\n"
     ]
    },
    {
     "name": "stderr",
     "output_type": "stream",
     "text": [
      "D:\\Programy\\anaconda\\lib\\site-packages\\statsmodels\\base\\model.py:568: ConvergenceWarning: Maximum Likelihood optimization failed to converge. Check mle_retvals\n",
      "  ConvergenceWarning)\n",
      "D:\\Programy\\anaconda\\lib\\site-packages\\statsmodels\\base\\model.py:568: ConvergenceWarning: Maximum Likelihood optimization failed to converge. Check mle_retvals\n",
      "  ConvergenceWarning)\n"
     ]
    },
    {
     "name": "stdout",
     "output_type": "stream",
     "text": [
      " ARIMA(1,1,4)(0,0,0)[0] intercept   : AIC=4258.719, Time=0.28 sec\n",
      " ARIMA(0,1,3)(0,0,0)[0]             : AIC=4253.785, Time=0.05 sec\n",
      " ARIMA(0,1,2)(0,0,0)[0]             : AIC=4261.010, Time=0.10 sec\n",
      " ARIMA(1,1,3)(0,0,0)[0]             : AIC=4255.677, Time=0.16 sec\n",
      " ARIMA(0,1,4)(0,0,0)[0]             : AIC=4255.772, Time=0.07 sec\n",
      " ARIMA(1,1,2)(0,0,0)[0]             : AIC=4254.600, Time=0.07 sec\n"
     ]
    },
    {
     "name": "stderr",
     "output_type": "stream",
     "text": [
      "D:\\Programy\\anaconda\\lib\\site-packages\\statsmodels\\base\\model.py:568: ConvergenceWarning: Maximum Likelihood optimization failed to converge. Check mle_retvals\n",
      "  ConvergenceWarning)\n",
      "D:\\Programy\\anaconda\\lib\\site-packages\\statsmodels\\tsa\\base\\tsa_model.py:579: ValueWarning: An unsupported index was provided and will be ignored when e.g. forecasting.\n",
      "  ' ignored when e.g. forecasting.', ValueWarning)\n",
      "D:\\Programy\\anaconda\\lib\\site-packages\\statsmodels\\tsa\\base\\tsa_model.py:579: ValueWarning: An unsupported index was provided and will be ignored when e.g. forecasting.\n",
      "  ' ignored when e.g. forecasting.', ValueWarning)\n"
     ]
    },
    {
     "name": "stdout",
     "output_type": "stream",
     "text": [
      " ARIMA(1,1,4)(0,0,0)[0]             : AIC=4256.909, Time=0.19 sec\n",
      "\n",
      "Best model:  ARIMA(0,1,3)(0,0,0)[0]          \n",
      "Total fit time: 2.026 seconds\n",
      "autoARIMA time: 0:00:02.032438\n",
      "(0, 1, 3)\n",
      "(0, 0, 0, 0)\n",
      "fit time = 0:00:00.060046\n",
      "##### Koniec dopasowania modelu dla godziny: 13\n",
      "#####\n",
      "##### startuje dopasowanie modelu dla godziny: 14\n",
      "Performing stepwise search to minimize aic\n"
     ]
    },
    {
     "name": "stderr",
     "output_type": "stream",
     "text": [
      "D:\\Programy\\anaconda\\lib\\site-packages\\statsmodels\\base\\model.py:568: ConvergenceWarning: Maximum Likelihood optimization failed to converge. Check mle_retvals\n",
      "  ConvergenceWarning)\n"
     ]
    },
    {
     "name": "stdout",
     "output_type": "stream",
     "text": [
      " ARIMA(2,1,2)(0,0,0)[0] intercept   : AIC=4653.141, Time=0.22 sec\n",
      " ARIMA(0,1,0)(0,0,0)[0] intercept   : AIC=4733.403, Time=0.01 sec\n",
      " ARIMA(1,1,0)(0,0,0)[0] intercept   : AIC=4698.733, Time=0.05 sec\n",
      " ARIMA(0,1,1)(0,0,0)[0] intercept   : AIC=4655.510, Time=0.04 sec\n",
      " ARIMA(0,1,0)(0,0,0)[0]             : AIC=4731.409, Time=0.01 sec\n",
      " ARIMA(1,1,2)(0,0,0)[0] intercept   : AIC=4651.111, Time=0.13 sec\n",
      " ARIMA(0,1,2)(0,0,0)[0] intercept   : AIC=4651.340, Time=0.06 sec\n"
     ]
    },
    {
     "name": "stderr",
     "output_type": "stream",
     "text": [
      "D:\\Programy\\anaconda\\lib\\site-packages\\statsmodels\\base\\model.py:568: ConvergenceWarning: Maximum Likelihood optimization failed to converge. Check mle_retvals\n",
      "  ConvergenceWarning)\n"
     ]
    },
    {
     "name": "stdout",
     "output_type": "stream",
     "text": [
      " ARIMA(1,1,1)(0,0,0)[0] intercept   : AIC=4651.952, Time=0.19 sec\n"
     ]
    },
    {
     "name": "stderr",
     "output_type": "stream",
     "text": [
      "D:\\Programy\\anaconda\\lib\\site-packages\\statsmodels\\base\\model.py:568: ConvergenceWarning: Maximum Likelihood optimization failed to converge. Check mle_retvals\n",
      "  ConvergenceWarning)\n"
     ]
    },
    {
     "name": "stdout",
     "output_type": "stream",
     "text": [
      " ARIMA(1,1,3)(0,0,0)[0] intercept   : AIC=4653.040, Time=0.24 sec\n",
      " ARIMA(0,1,3)(0,0,0)[0] intercept   : AIC=4652.117, Time=0.11 sec\n",
      " ARIMA(2,1,1)(0,0,0)[0] intercept   : AIC=4652.734, Time=0.10 sec\n"
     ]
    },
    {
     "name": "stderr",
     "output_type": "stream",
     "text": [
      "D:\\Programy\\anaconda\\lib\\site-packages\\statsmodels\\base\\model.py:568: ConvergenceWarning: Maximum Likelihood optimization failed to converge. Check mle_retvals\n",
      "  ConvergenceWarning)\n"
     ]
    },
    {
     "name": "stdout",
     "output_type": "stream",
     "text": [
      " ARIMA(2,1,3)(0,0,0)[0] intercept   : AIC=4655.033, Time=0.25 sec\n",
      " ARIMA(1,1,2)(0,0,0)[0]             : AIC=4649.911, Time=0.08 sec\n",
      " ARIMA(0,1,2)(0,0,0)[0]             : AIC=4650.001, Time=0.04 sec\n",
      " ARIMA(1,1,1)(0,0,0)[0]             : AIC=4650.865, Time=0.05 sec\n",
      " ARIMA(2,1,2)(0,0,0)[0]             : AIC=4651.962, Time=0.14 sec\n",
      " ARIMA(1,1,3)(0,0,0)[0]             : AIC=4651.857, Time=0.16 sec\n",
      " ARIMA(0,1,1)(0,0,0)[0]             : AIC=4654.097, Time=0.03 sec"
     ]
    },
    {
     "name": "stderr",
     "output_type": "stream",
     "text": [
      "D:\\Programy\\anaconda\\lib\\site-packages\\statsmodels\\base\\model.py:568: ConvergenceWarning: Maximum Likelihood optimization failed to converge. Check mle_retvals\n",
      "  ConvergenceWarning)\n"
     ]
    },
    {
     "name": "stdout",
     "output_type": "stream",
     "text": [
      "\n",
      " ARIMA(0,1,3)(0,0,0)[0]             : AIC=4650.698, Time=0.07 sec\n",
      " ARIMA(2,1,1)(0,0,0)[0]             : AIC=4651.362, Time=0.07 sec\n"
     ]
    },
    {
     "name": "stderr",
     "output_type": "stream",
     "text": [
      "D:\\Programy\\anaconda\\lib\\site-packages\\statsmodels\\base\\model.py:568: ConvergenceWarning: Maximum Likelihood optimization failed to converge. Check mle_retvals\n",
      "  ConvergenceWarning)\n",
      "D:\\Programy\\anaconda\\lib\\site-packages\\statsmodels\\tsa\\base\\tsa_model.py:579: ValueWarning: An unsupported index was provided and will be ignored when e.g. forecasting.\n",
      "  ' ignored when e.g. forecasting.', ValueWarning)\n",
      "D:\\Programy\\anaconda\\lib\\site-packages\\statsmodels\\tsa\\base\\tsa_model.py:579: ValueWarning: An unsupported index was provided and will be ignored when e.g. forecasting.\n",
      "  ' ignored when e.g. forecasting.', ValueWarning)\n"
     ]
    },
    {
     "name": "stdout",
     "output_type": "stream",
     "text": [
      " ARIMA(2,1,3)(0,0,0)[0]             : AIC=4653.587, Time=0.24 sec\n",
      "\n",
      "Best model:  ARIMA(1,1,2)(0,0,0)[0]          \n",
      "Total fit time: 2.305 seconds\n",
      "autoARIMA time: 0:00:02.313633\n",
      "(1, 1, 2)\n",
      "(0, 0, 0, 0)\n",
      "fit time = 0:00:00.072053\n",
      "##### Koniec dopasowania modelu dla godziny: 14\n",
      "#####\n",
      "##### startuje dopasowanie modelu dla godziny: 15\n",
      "Performing stepwise search to minimize aic\n"
     ]
    },
    {
     "name": "stderr",
     "output_type": "stream",
     "text": [
      "D:\\Programy\\anaconda\\lib\\site-packages\\statsmodels\\base\\model.py:568: ConvergenceWarning: Maximum Likelihood optimization failed to converge. Check mle_retvals\n",
      "  ConvergenceWarning)\n"
     ]
    },
    {
     "name": "stdout",
     "output_type": "stream",
     "text": [
      " ARIMA(2,1,2)(0,0,0)[0] intercept   : AIC=4593.988, Time=0.23 sec\n",
      " ARIMA(0,1,0)(0,0,0)[0] intercept   : AIC=4651.808, Time=0.01 sec\n",
      " ARIMA(1,1,0)(0,0,0)[0] intercept   : AIC=4628.487, Time=0.04 sec\n",
      " ARIMA(0,1,1)(0,0,0)[0] intercept   : AIC=4606.186, Time=0.04 sec\n",
      " ARIMA(0,1,0)(0,0,0)[0]             : AIC=4649.816, Time=0.01 sec\n"
     ]
    },
    {
     "name": "stderr",
     "output_type": "stream",
     "text": [
      "D:\\Programy\\anaconda\\lib\\site-packages\\statsmodels\\base\\model.py:568: ConvergenceWarning: Maximum Likelihood optimization failed to converge. Check mle_retvals\n",
      "  ConvergenceWarning)\n"
     ]
    },
    {
     "name": "stdout",
     "output_type": "stream",
     "text": [
      " ARIMA(1,1,2)(0,0,0)[0] intercept   : AIC=4593.034, Time=0.20 sec\n",
      " ARIMA(0,1,2)(0,0,0)[0] intercept   : AIC=4592.236, Time=0.06 sec\n",
      " ARIMA(0,1,3)(0,0,0)[0] intercept   : AIC=4593.418, Time=0.10 sec\n"
     ]
    },
    {
     "name": "stderr",
     "output_type": "stream",
     "text": [
      "D:\\Programy\\anaconda\\lib\\site-packages\\statsmodels\\base\\model.py:568: ConvergenceWarning: Maximum Likelihood optimization failed to converge. Check mle_retvals\n",
      "  ConvergenceWarning)\n",
      "D:\\Programy\\anaconda\\lib\\site-packages\\statsmodels\\base\\model.py:568: ConvergenceWarning: Maximum Likelihood optimization failed to converge. Check mle_retvals\n",
      "  ConvergenceWarning)\n"
     ]
    },
    {
     "name": "stdout",
     "output_type": "stream",
     "text": [
      " ARIMA(1,1,1)(0,0,0)[0] intercept   : AIC=4591.297, Time=0.15 sec\n",
      " ARIMA(2,1,1)(0,0,0)[0] intercept   : AIC=4593.102, Time=0.20 sec\n",
      " ARIMA(2,1,0)(0,0,0)[0] intercept   : AIC=4616.413, Time=0.05 sec\n",
      " ARIMA(1,1,1)(0,0,0)[0]             : AIC=4590.258, Time=0.05 sec\n",
      " ARIMA(0,1,1)(0,0,0)[0]             : AIC=4604.564, Time=0.04 sec\n",
      " ARIMA(1,1,0)(0,0,0)[0]             : AIC=4626.531, Time=0.02 sec\n"
     ]
    },
    {
     "name": "stderr",
     "output_type": "stream",
     "text": [
      "D:\\Programy\\anaconda\\lib\\site-packages\\statsmodels\\base\\model.py:568: ConvergenceWarning: Maximum Likelihood optimization failed to converge. Check mle_retvals\n",
      "  ConvergenceWarning)\n"
     ]
    },
    {
     "name": "stdout",
     "output_type": "stream",
     "text": [
      " ARIMA(2,1,1)(0,0,0)[0]             : AIC=4591.844, Time=0.15 sec\n",
      " ARIMA(1,1,2)(0,0,0)[0]             : AIC=4591.758, Time=0.10 sec\n",
      " ARIMA(0,1,2)(0,0,0)[0]             : AIC=4590.855, Time=0.04 sec\n",
      " ARIMA(2,1,0)(0,0,0)[0]             : AIC=4614.490, Time=0.03 sec\n"
     ]
    },
    {
     "name": "stderr",
     "output_type": "stream",
     "text": [
      "D:\\Programy\\anaconda\\lib\\site-packages\\statsmodels\\base\\model.py:568: ConvergenceWarning: Maximum Likelihood optimization failed to converge. Check mle_retvals\n",
      "  ConvergenceWarning)\n",
      "D:\\Programy\\anaconda\\lib\\site-packages\\statsmodels\\tsa\\base\\tsa_model.py:579: ValueWarning: An unsupported index was provided and will be ignored when e.g. forecasting.\n",
      "  ' ignored when e.g. forecasting.', ValueWarning)\n",
      "D:\\Programy\\anaconda\\lib\\site-packages\\statsmodels\\tsa\\base\\tsa_model.py:579: ValueWarning: An unsupported index was provided and will be ignored when e.g. forecasting.\n",
      "  ' ignored when e.g. forecasting.', ValueWarning)\n"
     ]
    },
    {
     "name": "stdout",
     "output_type": "stream",
     "text": [
      " ARIMA(2,1,2)(0,0,0)[0]             : AIC=4593.191, Time=0.19 sec\n",
      "\n",
      "Best model:  ARIMA(1,1,1)(0,0,0)[0]          \n",
      "Total fit time: 1.715 seconds\n",
      "autoARIMA time: 0:00:01.723215\n",
      "(1, 1, 1)\n",
      "(0, 0, 0, 0)\n",
      "fit time = 0:00:00.052037\n",
      "##### Koniec dopasowania modelu dla godziny: 15\n",
      "#####\n",
      "##### startuje dopasowanie modelu dla godziny: 16\n",
      "Performing stepwise search to minimize aic\n",
      " ARIMA(2,1,2)(0,0,0)[0] intercept   : AIC=4518.499, Time=0.09 sec\n",
      " ARIMA(0,1,0)(0,0,0)[0] intercept   : AIC=4574.998, Time=0.01 sec\n",
      " ARIMA(1,1,0)(0,0,0)[0] intercept   : AIC=4542.360, Time=0.06 sec\n",
      " ARIMA(0,1,1)(0,0,0)[0] intercept   : AIC=4521.738, Time=0.04 sec\n",
      " ARIMA(0,1,0)(0,0,0)[0]             : AIC=4573.005, Time=0.01 sec\n"
     ]
    },
    {
     "name": "stderr",
     "output_type": "stream",
     "text": [
      "D:\\Programy\\anaconda\\lib\\site-packages\\statsmodels\\base\\model.py:568: ConvergenceWarning: Maximum Likelihood optimization failed to converge. Check mle_retvals\n",
      "  ConvergenceWarning)\n"
     ]
    },
    {
     "name": "stdout",
     "output_type": "stream",
     "text": [
      " ARIMA(1,1,2)(0,0,0)[0] intercept   : AIC=4516.889, Time=0.19 sec\n",
      " ARIMA(0,1,2)(0,0,0)[0] intercept   : AIC=4515.639, Time=0.07 sec\n"
     ]
    },
    {
     "name": "stderr",
     "output_type": "stream",
     "text": [
      "D:\\Programy\\anaconda\\lib\\site-packages\\statsmodels\\base\\model.py:568: ConvergenceWarning: Maximum Likelihood optimization failed to converge. Check mle_retvals\n",
      "  ConvergenceWarning)\n"
     ]
    },
    {
     "name": "stdout",
     "output_type": "stream",
     "text": [
      " ARIMA(0,1,3)(0,0,0)[0] intercept   : AIC=4516.252, Time=0.21 sec\n",
      " ARIMA(1,1,1)(0,0,0)[0] intercept   : AIC=4514.724, Time=0.06 sec\n",
      " ARIMA(2,1,1)(0,0,0)[0] intercept   : AIC=4516.714, Time=0.10 sec\n",
      " ARIMA(2,1,0)(0,0,0)[0] intercept   : AIC=4534.321, Time=0.17 sec\n",
      " ARIMA(1,1,1)(0,0,0)[0]             : AIC=4513.366, Time=0.04 sec\n",
      " ARIMA(0,1,1)(0,0,0)[0]             : AIC=4520.073, Time=0.02 sec\n",
      " ARIMA(1,1,0)(0,0,0)[0]             : AIC=4540.402, Time=0.03 sec\n",
      " ARIMA(2,1,1)(0,0,0)[0]             : AIC=4515.361, Time=0.07 sec\n",
      " ARIMA(1,1,2)(0,0,0)[0]             : AIC=4515.282, Time=0.10 sec\n",
      " ARIMA(0,1,2)(0,0,0)[0]             : AIC=4514.182, Time=0.04 sec\n",
      " ARIMA(2,1,0)(0,0,0)[0]             : AIC=4532.443, Time=0.09 sec\n",
      " ARIMA(2,1,2)(0,0,0)[0]             : AIC=4517.165, Time=0.07 sec\n",
      "\n",
      "Best model:  ARIMA(1,1,1)(0,0,0)[0]          \n",
      "Total fit time: 1.470 seconds\n",
      "autoARIMA time: 0:00:01.480042\n",
      "(1, 1, 1)\n",
      "(0, 0, 0, 0)\n",
      "fit time = 0:00:00.042030\n",
      "##### Koniec dopasowania modelu dla godziny: 16\n",
      "#####\n",
      "##### startuje dopasowanie modelu dla godziny: 17\n",
      "Performing stepwise search to minimize aic\n"
     ]
    },
    {
     "name": "stderr",
     "output_type": "stream",
     "text": [
      "D:\\Programy\\anaconda\\lib\\site-packages\\statsmodels\\tsa\\base\\tsa_model.py:579: ValueWarning: An unsupported index was provided and will be ignored when e.g. forecasting.\n",
      "  ' ignored when e.g. forecasting.', ValueWarning)\n",
      "D:\\Programy\\anaconda\\lib\\site-packages\\statsmodels\\tsa\\base\\tsa_model.py:579: ValueWarning: An unsupported index was provided and will be ignored when e.g. forecasting.\n",
      "  ' ignored when e.g. forecasting.', ValueWarning)\n",
      "D:\\Programy\\anaconda\\lib\\site-packages\\statsmodels\\base\\model.py:568: ConvergenceWarning: Maximum Likelihood optimization failed to converge. Check mle_retvals\n",
      "  ConvergenceWarning)\n"
     ]
    },
    {
     "name": "stdout",
     "output_type": "stream",
     "text": [
      " ARIMA(2,1,2)(0,0,0)[0] intercept   : AIC=4608.337, Time=0.23 sec\n",
      " ARIMA(0,1,0)(0,0,0)[0] intercept   : AIC=4654.468, Time=0.01 sec\n",
      " ARIMA(1,1,0)(0,0,0)[0] intercept   : AIC=4629.114, Time=0.06 sec\n",
      " ARIMA(0,1,1)(0,0,0)[0] intercept   : AIC=4610.323, Time=0.04 sec\n",
      " ARIMA(0,1,0)(0,0,0)[0]             : AIC=4652.475, Time=0.01 sec\n",
      " ARIMA(1,1,2)(0,0,0)[0] intercept   : AIC=4606.798, Time=0.13 sec\n",
      " ARIMA(0,1,2)(0,0,0)[0] intercept   : AIC=4604.815, Time=0.06 sec\n",
      " ARIMA(0,1,3)(0,0,0)[0] intercept   : AIC=4607.614, Time=0.08 sec\n",
      " ARIMA(1,1,1)(0,0,0)[0] intercept   : AIC=4605.056, Time=0.07 sec\n",
      " ARIMA(1,1,3)(0,0,0)[0] intercept   : AIC=4609.567, Time=0.22 sec\n",
      " ARIMA(0,1,2)(0,0,0)[0]             : AIC=4603.180, Time=0.04 sec\n",
      " ARIMA(0,1,1)(0,0,0)[0]             : AIC=4608.554, Time=0.02 sec\n",
      " ARIMA(1,1,2)(0,0,0)[0]             : AIC=4605.150, Time=0.09 sec\n",
      " ARIMA(0,1,3)(0,0,0)[0]             : AIC=4606.010, Time=0.06 sec\n",
      " ARIMA(1,1,1)(0,0,0)[0]             : AIC=4603.469, Time=0.05 sec\n",
      " ARIMA(1,1,3)(0,0,0)[0]             : AIC=4607.970, Time=0.14 sec\n",
      "\n",
      "Best model:  ARIMA(0,1,2)(0,0,0)[0]          \n",
      "Total fit time: 1.329 seconds\n",
      "autoARIMA time: 0:00:01.336943\n",
      "(0, 1, 2)\n",
      "(0, 0, 0, 0)\n",
      "fit time = 0:00:00.043031\n",
      "##### Koniec dopasowania modelu dla godziny: 17\n",
      "#####\n",
      "##### startuje dopasowanie modelu dla godziny: 18\n",
      "Performing stepwise search to minimize aic\n",
      " ARIMA(2,1,2)(0,0,0)[0] intercept   : AIC=4493.031, Time=0.12 sec\n",
      " ARIMA(0,1,0)(0,0,0)[0] intercept   : AIC=4513.344, Time=0.01 sec"
     ]
    },
    {
     "name": "stderr",
     "output_type": "stream",
     "text": [
      "D:\\Programy\\anaconda\\lib\\site-packages\\statsmodels\\tsa\\base\\tsa_model.py:579: ValueWarning: An unsupported index was provided and will be ignored when e.g. forecasting.\n",
      "  ' ignored when e.g. forecasting.', ValueWarning)\n",
      "D:\\Programy\\anaconda\\lib\\site-packages\\statsmodels\\tsa\\base\\tsa_model.py:579: ValueWarning: An unsupported index was provided and will be ignored when e.g. forecasting.\n",
      "  ' ignored when e.g. forecasting.', ValueWarning)\n"
     ]
    },
    {
     "name": "stdout",
     "output_type": "stream",
     "text": [
      "\n",
      " ARIMA(1,1,0)(0,0,0)[0] intercept   : AIC=4505.453, Time=0.07 sec\n",
      " ARIMA(0,1,1)(0,0,0)[0] intercept   : AIC=4499.988, Time=0.04 sec\n",
      " ARIMA(0,1,0)(0,0,0)[0]             : AIC=4511.356, Time=0.01 sec\n",
      " ARIMA(1,1,2)(0,0,0)[0] intercept   : AIC=4492.143, Time=0.12 sec\n",
      " ARIMA(0,1,2)(0,0,0)[0] intercept   : AIC=4491.379, Time=0.05 sec\n",
      " ARIMA(0,1,3)(0,0,0)[0] intercept   : AIC=4493.096, Time=0.08 sec\n",
      " ARIMA(1,1,1)(0,0,0)[0] intercept   : AIC=4493.661, Time=0.08 sec\n",
      " ARIMA(1,1,3)(0,0,0)[0] intercept   : AIC=4493.518, Time=0.16 sec\n",
      " ARIMA(0,1,2)(0,0,0)[0]             : AIC=4489.630, Time=0.03 sec\n",
      " ARIMA(0,1,1)(0,0,0)[0]             : AIC=4498.084, Time=0.03 sec\n",
      " ARIMA(1,1,2)(0,0,0)[0]             : AIC=4490.319, Time=0.08 sec\n",
      " ARIMA(0,1,3)(0,0,0)[0]             : AIC=4491.321, Time=0.05 sec\n",
      " ARIMA(1,1,1)(0,0,0)[0]             : AIC=4491.945, Time=0.07 sec\n",
      " ARIMA(1,1,3)(0,0,0)[0]             : AIC=4491.699, Time=0.09 sec\n",
      "\n",
      "Best model:  ARIMA(0,1,2)(0,0,0)[0]          \n",
      "Total fit time: 1.090 seconds\n",
      "autoARIMA time: 0:00:01.093771\n",
      "(0, 1, 2)\n",
      "(0, 0, 0, 0)\n",
      "fit time = 0:00:00.039026\n",
      "##### Koniec dopasowania modelu dla godziny: 18\n",
      "#####\n",
      "##### startuje dopasowanie modelu dla godziny: 19\n",
      "Performing stepwise search to minimize aic\n"
     ]
    },
    {
     "name": "stderr",
     "output_type": "stream",
     "text": [
      "D:\\Programy\\anaconda\\lib\\site-packages\\statsmodels\\tsa\\base\\tsa_model.py:579: ValueWarning: An unsupported index was provided and will be ignored when e.g. forecasting.\n",
      "  ' ignored when e.g. forecasting.', ValueWarning)\n",
      "D:\\Programy\\anaconda\\lib\\site-packages\\statsmodels\\tsa\\base\\tsa_model.py:579: ValueWarning: An unsupported index was provided and will be ignored when e.g. forecasting.\n",
      "  ' ignored when e.g. forecasting.', ValueWarning)\n"
     ]
    },
    {
     "name": "stdout",
     "output_type": "stream",
     "text": [
      " ARIMA(2,1,2)(0,0,0)[0] intercept   : AIC=4335.627, Time=0.20 sec\n",
      " ARIMA(0,1,0)(0,0,0)[0] intercept   : AIC=4359.837, Time=0.01 sec\n",
      " ARIMA(1,1,0)(0,0,0)[0] intercept   : AIC=4339.923, Time=0.04 sec\n",
      " ARIMA(0,1,1)(0,0,0)[0] intercept   : AIC=4333.868, Time=0.12 sec\n",
      " ARIMA(0,1,0)(0,0,0)[0]             : AIC=4357.849, Time=0.01 sec\n",
      " ARIMA(1,1,1)(0,0,0)[0] intercept   : AIC=4335.487, Time=0.08 sec\n",
      " ARIMA(0,1,2)(0,0,0)[0] intercept   : AIC=4335.212, Time=0.05 sec\n",
      " ARIMA(1,1,2)(0,0,0)[0] intercept   : AIC=4334.866, Time=0.14 sec\n",
      " ARIMA(0,1,1)(0,0,0)[0]             : AIC=4332.016, Time=0.07 sec\n",
      " ARIMA(1,1,1)(0,0,0)[0]             : AIC=4333.653, Time=0.04 sec\n",
      " ARIMA(0,1,2)(0,0,0)[0]             : AIC=4333.386, Time=0.03 sec\n",
      " ARIMA(1,1,0)(0,0,0)[0]             : AIC=4337.980, Time=0.03 sec\n",
      " ARIMA(1,1,2)(0,0,0)[0]             : AIC=4333.024, Time=0.09 sec\n",
      "\n",
      "Best model:  ARIMA(0,1,1)(0,0,0)[0]          \n",
      "Total fit time: 0.915 seconds\n",
      "autoARIMA time: 0:00:00.918649\n",
      "(0, 1, 1)\n",
      "(0, 0, 0, 0)\n",
      "fit time = 0:00:00.025019\n",
      "##### Koniec dopasowania modelu dla godziny: 19\n",
      "#####\n",
      "##### startuje dopasowanie modelu dla godziny: 20\n",
      "Performing stepwise search to minimize aic\n",
      " ARIMA(2,1,2)(0,0,0)[0] intercept   : AIC=4319.695, Time=0.14 sec"
     ]
    },
    {
     "name": "stderr",
     "output_type": "stream",
     "text": [
      "D:\\Programy\\anaconda\\lib\\site-packages\\statsmodels\\tsa\\base\\tsa_model.py:579: ValueWarning: An unsupported index was provided and will be ignored when e.g. forecasting.\n",
      "  ' ignored when e.g. forecasting.', ValueWarning)\n",
      "D:\\Programy\\anaconda\\lib\\site-packages\\statsmodels\\tsa\\base\\tsa_model.py:579: ValueWarning: An unsupported index was provided and will be ignored when e.g. forecasting.\n",
      "  ' ignored when e.g. forecasting.', ValueWarning)\n"
     ]
    },
    {
     "name": "stdout",
     "output_type": "stream",
     "text": [
      "\n",
      " ARIMA(0,1,0)(0,0,0)[0] intercept   : AIC=4359.032, Time=0.02 sec\n",
      " ARIMA(1,1,0)(0,0,0)[0] intercept   : AIC=4339.345, Time=0.04 sec\n",
      " ARIMA(0,1,1)(0,0,0)[0] intercept   : AIC=4325.964, Time=0.04 sec\n",
      " ARIMA(0,1,0)(0,0,0)[0]             : AIC=4357.038, Time=0.01 sec\n",
      " ARIMA(1,1,2)(0,0,0)[0] intercept   : AIC=4318.965, Time=0.15 sec\n",
      " ARIMA(0,1,2)(0,0,0)[0] intercept   : AIC=4324.750, Time=0.14 sec\n",
      " ARIMA(1,1,1)(0,0,0)[0] intercept   : AIC=4326.512, Time=0.06 sec\n",
      " ARIMA(1,1,3)(0,0,0)[0] intercept   : AIC=4318.567, Time=0.19 sec\n",
      " ARIMA(0,1,3)(0,0,0)[0] intercept   : AIC=4316.575, Time=0.08 sec\n",
      " ARIMA(0,1,4)(0,0,0)[0] intercept   : AIC=4318.617, Time=0.11 sec\n"
     ]
    },
    {
     "name": "stderr",
     "output_type": "stream",
     "text": [
      "D:\\Programy\\anaconda\\lib\\site-packages\\statsmodels\\base\\model.py:568: ConvergenceWarning: Maximum Likelihood optimization failed to converge. Check mle_retvals\n",
      "  ConvergenceWarning)\n"
     ]
    },
    {
     "name": "stdout",
     "output_type": "stream",
     "text": [
      " ARIMA(1,1,4)(0,0,0)[0] intercept   : AIC=4319.926, Time=0.28 sec\n",
      " ARIMA(0,1,3)(0,0,0)[0]             : AIC=4314.664, Time=0.05 sec\n",
      " ARIMA(0,1,2)(0,0,0)[0]             : AIC=4322.998, Time=0.03 sec\n",
      " ARIMA(1,1,3)(0,0,0)[0]             : AIC=4316.497, Time=0.18 sec\n",
      " ARIMA(0,1,4)(0,0,0)[0]             : AIC=4316.730, Time=0.07 sec\n",
      " ARIMA(1,1,2)(0,0,0)[0]             : AIC=4317.144, Time=0.11 sec\n"
     ]
    },
    {
     "name": "stderr",
     "output_type": "stream",
     "text": [
      "D:\\Programy\\anaconda\\lib\\site-packages\\statsmodels\\base\\model.py:568: ConvergenceWarning: Maximum Likelihood optimization failed to converge. Check mle_retvals\n",
      "  ConvergenceWarning)\n",
      "D:\\Programy\\anaconda\\lib\\site-packages\\statsmodels\\tsa\\base\\tsa_model.py:579: ValueWarning: An unsupported index was provided and will be ignored when e.g. forecasting.\n",
      "  ' ignored when e.g. forecasting.', ValueWarning)\n",
      "D:\\Programy\\anaconda\\lib\\site-packages\\statsmodels\\tsa\\base\\tsa_model.py:579: ValueWarning: An unsupported index was provided and will be ignored when e.g. forecasting.\n",
      "  ' ignored when e.g. forecasting.', ValueWarning)\n"
     ]
    },
    {
     "name": "stdout",
     "output_type": "stream",
     "text": [
      " ARIMA(1,1,4)(0,0,0)[0]             : AIC=4318.040, Time=0.20 sec\n",
      "\n",
      "Best model:  ARIMA(0,1,3)(0,0,0)[0]          \n",
      "Total fit time: 1.916 seconds\n",
      "autoARIMA time: 0:00:01.922358\n",
      "(0, 1, 3)\n",
      "(0, 0, 0, 0)\n",
      "fit time = 0:00:00.049038\n",
      "##### Koniec dopasowania modelu dla godziny: 20\n",
      "#####\n",
      "##### startuje dopasowanie modelu dla godziny: 21\n",
      "Performing stepwise search to minimize aic\n",
      " ARIMA(2,1,2)(0,0,0)[0] intercept   : AIC=4568.255, Time=0.14 sec\n",
      " ARIMA(0,1,0)(0,0,0)[0] intercept   : AIC=4644.369, Time=0.01 sec\n",
      " ARIMA(1,1,0)(0,0,0)[0] intercept   : AIC=4616.995, Time=0.05 sec\n",
      " ARIMA(0,1,1)(0,0,0)[0] intercept   : AIC=4574.627, Time=0.10 sec\n",
      " ARIMA(0,1,0)(0,0,0)[0]             : AIC=4642.373, Time=0.01 sec\n",
      " ARIMA(1,1,2)(0,0,0)[0] intercept   : AIC=4566.634, Time=0.13 sec\n",
      " ARIMA(0,1,2)(0,0,0)[0] intercept   : AIC=4567.174, Time=0.15 sec\n",
      " ARIMA(1,1,1)(0,0,0)[0] intercept   : AIC=4569.870, Time=0.16 sec\n",
      " ARIMA(1,1,3)(0,0,0)[0] intercept   : AIC=4568.316, Time=0.22 sec\n",
      " ARIMA(0,1,3)(0,0,0)[0] intercept   : AIC=4566.567, Time=0.11 sec\n"
     ]
    },
    {
     "name": "stderr",
     "output_type": "stream",
     "text": [
      "D:\\Programy\\anaconda\\lib\\site-packages\\statsmodels\\base\\model.py:568: ConvergenceWarning: Maximum Likelihood optimization failed to converge. Check mle_retvals\n",
      "  ConvergenceWarning)\n"
     ]
    },
    {
     "name": "stdout",
     "output_type": "stream",
     "text": [
      " ARIMA(0,1,4)(0,0,0)[0] intercept   : AIC=4567.862, Time=0.28 sec\n"
     ]
    },
    {
     "name": "stderr",
     "output_type": "stream",
     "text": [
      "D:\\Programy\\anaconda\\lib\\site-packages\\statsmodels\\base\\model.py:568: ConvergenceWarning: Maximum Likelihood optimization failed to converge. Check mle_retvals\n",
      "  ConvergenceWarning)\n"
     ]
    },
    {
     "name": "stdout",
     "output_type": "stream",
     "text": [
      " ARIMA(1,1,4)(0,0,0)[0] intercept   : AIC=4569.795, Time=0.27 sec\n",
      " ARIMA(0,1,3)(0,0,0)[0]             : AIC=4564.452, Time=0.06 sec\n",
      " ARIMA(0,1,2)(0,0,0)[0]             : AIC=4566.059, Time=0.04 sec\n",
      " ARIMA(1,1,3)(0,0,0)[0]             : AIC=4566.193, Time=0.15 sec\n",
      " ARIMA(0,1,4)(0,0,0)[0]             : AIC=4566.312, Time=0.08 sec\n",
      " ARIMA(1,1,2)(0,0,0)[0]             : AIC=4565.282, Time=0.08 sec\n",
      " ARIMA(1,1,4)(0,0,0)[0]             : AIC=4567.889, Time=0.21 sec\n",
      "\n",
      "Best model:  ARIMA(0,1,3)(0,0,0)[0]          \n",
      "Total fit time: 2.264 seconds\n",
      "autoARIMA time: 0:00:02.270074\n",
      "(0, 1, 3)\n",
      "(0, 0, 0, 0)\n",
      "fit time = 0:00:00.060044\n",
      "##### Koniec dopasowania modelu dla godziny: 21\n",
      "#####\n",
      "##### startuje dopasowanie modelu dla godziny: 22\n",
      "Performing stepwise search to minimize aic\n"
     ]
    },
    {
     "name": "stderr",
     "output_type": "stream",
     "text": [
      "D:\\Programy\\anaconda\\lib\\site-packages\\statsmodels\\tsa\\base\\tsa_model.py:579: ValueWarning: An unsupported index was provided and will be ignored when e.g. forecasting.\n",
      "  ' ignored when e.g. forecasting.', ValueWarning)\n",
      "D:\\Programy\\anaconda\\lib\\site-packages\\statsmodels\\tsa\\base\\tsa_model.py:579: ValueWarning: An unsupported index was provided and will be ignored when e.g. forecasting.\n",
      "  ' ignored when e.g. forecasting.', ValueWarning)\n",
      "D:\\Programy\\anaconda\\lib\\site-packages\\statsmodels\\base\\model.py:568: ConvergenceWarning: Maximum Likelihood optimization failed to converge. Check mle_retvals\n",
      "  ConvergenceWarning)\n",
      "D:\\Programy\\anaconda\\lib\\site-packages\\statsmodels\\base\\model.py:568: ConvergenceWarning: Maximum Likelihood optimization failed to converge. Check mle_retvals\n",
      "  ConvergenceWarning)\n"
     ]
    },
    {
     "name": "stdout",
     "output_type": "stream",
     "text": [
      " ARIMA(2,1,2)(0,0,0)[0] intercept   : AIC=4412.035, Time=0.24 sec\n",
      " ARIMA(0,1,0)(0,0,0)[0] intercept   : AIC=4473.591, Time=0.01 sec\n",
      " ARIMA(1,1,0)(0,0,0)[0] intercept   : AIC=4450.716, Time=0.04 sec\n",
      " ARIMA(0,1,1)(0,0,0)[0] intercept   : AIC=4425.895, Time=0.13 sec"
     ]
    },
    {
     "name": "stderr",
     "output_type": "stream",
     "text": [
      "D:\\Programy\\anaconda\\lib\\site-packages\\statsmodels\\base\\model.py:568: ConvergenceWarning: Maximum Likelihood optimization failed to converge. Check mle_retvals\n",
      "  ConvergenceWarning)\n"
     ]
    },
    {
     "name": "stdout",
     "output_type": "stream",
     "text": [
      "\n",
      " ARIMA(0,1,0)(0,0,0)[0]             : AIC=4471.596, Time=0.01 sec\n",
      " ARIMA(1,1,2)(0,0,0)[0] intercept   : AIC=4410.352, Time=0.19 sec\n",
      " ARIMA(0,1,2)(0,0,0)[0] intercept   : AIC=4408.876, Time=0.17 sec\n"
     ]
    },
    {
     "name": "stderr",
     "output_type": "stream",
     "text": [
      "D:\\Programy\\anaconda\\lib\\site-packages\\statsmodels\\base\\model.py:568: ConvergenceWarning: Maximum Likelihood optimization failed to converge. Check mle_retvals\n",
      "  ConvergenceWarning)\n",
      "D:\\Programy\\anaconda\\lib\\site-packages\\statsmodels\\base\\model.py:568: ConvergenceWarning: Maximum Likelihood optimization failed to converge. Check mle_retvals\n",
      "  ConvergenceWarning)\n"
     ]
    },
    {
     "name": "stdout",
     "output_type": "stream",
     "text": [
      " ARIMA(0,1,3)(0,0,0)[0] intercept   : AIC=4409.984, Time=0.21 sec\n",
      " ARIMA(1,1,1)(0,0,0)[0] intercept   : AIC=4409.466, Time=0.15 sec\n"
     ]
    },
    {
     "name": "stderr",
     "output_type": "stream",
     "text": [
      "D:\\Programy\\anaconda\\lib\\site-packages\\statsmodels\\base\\model.py:568: ConvergenceWarning: Maximum Likelihood optimization failed to converge. Check mle_retvals\n",
      "  ConvergenceWarning)\n"
     ]
    },
    {
     "name": "stdout",
     "output_type": "stream",
     "text": [
      " ARIMA(1,1,3)(0,0,0)[0] intercept   : AIC=4411.541, Time=0.25 sec\n",
      " ARIMA(0,1,2)(0,0,0)[0]             : AIC=4407.745, Time=0.04 sec\n",
      " ARIMA(0,1,1)(0,0,0)[0]             : AIC=4424.298, Time=0.06 sec\n",
      " ARIMA(1,1,2)(0,0,0)[0]             : AIC=4409.121, Time=0.08 sec\n",
      " ARIMA(0,1,3)(0,0,0)[0]             : AIC=4408.878, Time=0.10 sec\n",
      " ARIMA(1,1,1)(0,0,0)[0]             : AIC=4407.747, Time=0.10 sec\n"
     ]
    },
    {
     "name": "stderr",
     "output_type": "stream",
     "text": [
      "D:\\Programy\\anaconda\\lib\\site-packages\\statsmodels\\base\\model.py:568: ConvergenceWarning: Maximum Likelihood optimization failed to converge. Check mle_retvals\n",
      "  ConvergenceWarning)\n",
      "D:\\Programy\\anaconda\\lib\\site-packages\\statsmodels\\tsa\\base\\tsa_model.py:579: ValueWarning: An unsupported index was provided and will be ignored when e.g. forecasting.\n",
      "  ' ignored when e.g. forecasting.', ValueWarning)\n",
      "D:\\Programy\\anaconda\\lib\\site-packages\\statsmodels\\tsa\\base\\tsa_model.py:579: ValueWarning: An unsupported index was provided and will be ignored when e.g. forecasting.\n",
      "  ' ignored when e.g. forecasting.', ValueWarning)\n"
     ]
    },
    {
     "name": "stdout",
     "output_type": "stream",
     "text": [
      " ARIMA(1,1,3)(0,0,0)[0]             : AIC=4410.801, Time=0.20 sec\n",
      "\n",
      "Best model:  ARIMA(0,1,2)(0,0,0)[0]          \n",
      "Total fit time: 1.995 seconds\n",
      "autoARIMA time: 0:00:02.000413\n",
      "(0, 1, 2)\n",
      "(0, 0, 0, 0)\n",
      "fit time = 0:00:00.046033\n",
      "##### Koniec dopasowania modelu dla godziny: 22\n",
      "#####\n",
      "##### startuje dopasowanie modelu dla godziny: 23\n",
      "Performing stepwise search to minimize aic\n"
     ]
    },
    {
     "name": "stderr",
     "output_type": "stream",
     "text": [
      "D:\\Programy\\anaconda\\lib\\site-packages\\statsmodels\\base\\model.py:568: ConvergenceWarning: Maximum Likelihood optimization failed to converge. Check mle_retvals\n",
      "  ConvergenceWarning)\n"
     ]
    },
    {
     "name": "stdout",
     "output_type": "stream",
     "text": [
      " ARIMA(2,1,2)(0,0,0)[0] intercept   : AIC=4278.508, Time=0.25 sec\n",
      " ARIMA(0,1,0)(0,0,0)[0] intercept   : AIC=4334.715, Time=0.01 sec\n",
      " ARIMA(1,1,0)(0,0,0)[0] intercept   : AIC=4308.135, Time=0.04 sec\n"
     ]
    },
    {
     "name": "stderr",
     "output_type": "stream",
     "text": [
      "D:\\Programy\\anaconda\\lib\\site-packages\\statsmodels\\base\\model.py:568: ConvergenceWarning: Maximum Likelihood optimization failed to converge. Check mle_retvals\n",
      "  ConvergenceWarning)\n",
      "D:\\Programy\\anaconda\\lib\\site-packages\\statsmodels\\base\\model.py:568: ConvergenceWarning: Maximum Likelihood optimization failed to converge. Check mle_retvals\n",
      "  ConvergenceWarning)\n"
     ]
    },
    {
     "name": "stdout",
     "output_type": "stream",
     "text": [
      " ARIMA(0,1,1)(0,0,0)[0] intercept   : AIC=4285.457, Time=0.17 sec\n",
      " ARIMA(0,1,0)(0,0,0)[0]             : AIC=4332.719, Time=0.01 sec\n",
      " ARIMA(1,1,2)(0,0,0)[0] intercept   : AIC=4276.622, Time=0.17 sec\n",
      " ARIMA(0,1,2)(0,0,0)[0] intercept   : AIC=4274.999, Time=0.16 sec\n"
     ]
    },
    {
     "name": "stderr",
     "output_type": "stream",
     "text": [
      "D:\\Programy\\anaconda\\lib\\site-packages\\statsmodels\\base\\model.py:568: ConvergenceWarning: Maximum Likelihood optimization failed to converge. Check mle_retvals\n",
      "  ConvergenceWarning)\n",
      "D:\\Programy\\anaconda\\lib\\site-packages\\statsmodels\\base\\model.py:568: ConvergenceWarning: Maximum Likelihood optimization failed to converge. Check mle_retvals\n",
      "  ConvergenceWarning)\n"
     ]
    },
    {
     "name": "stdout",
     "output_type": "stream",
     "text": [
      " ARIMA(0,1,3)(0,0,0)[0] intercept   : AIC=4276.471, Time=0.19 sec\n",
      " ARIMA(1,1,1)(0,0,0)[0] intercept   : AIC=4274.971, Time=0.16 sec\n",
      " ARIMA(2,1,1)(0,0,0)[0] intercept   : AIC=4276.861, Time=0.12 sec\n",
      " ARIMA(2,1,0)(0,0,0)[0] intercept   : AIC=4294.392, Time=0.05 sec\n",
      " ARIMA(1,1,1)(0,0,0)[0]             : AIC=4273.415, Time=0.11 sec\n"
     ]
    },
    {
     "name": "stderr",
     "output_type": "stream",
     "text": [
      "D:\\Programy\\anaconda\\lib\\site-packages\\statsmodels\\base\\model.py:568: ConvergenceWarning: Maximum Likelihood optimization failed to converge. Check mle_retvals\n",
      "  ConvergenceWarning)\n"
     ]
    },
    {
     "name": "stdout",
     "output_type": "stream",
     "text": [
      " ARIMA(0,1,1)(0,0,0)[0]             : AIC=4283.760, Time=0.06 sec\n",
      " ARIMA(1,1,0)(0,0,0)[0]             : AIC=4306.166, Time=0.02 sec\n",
      " ARIMA(2,1,1)(0,0,0)[0]             : AIC=4275.527, Time=0.07 sec\n",
      " ARIMA(1,1,2)(0,0,0)[0]             : AIC=4275.158, Time=0.09 sec\n"
     ]
    },
    {
     "name": "stderr",
     "output_type": "stream",
     "text": [
      "D:\\Programy\\anaconda\\lib\\site-packages\\statsmodels\\base\\model.py:568: ConvergenceWarning: Maximum Likelihood optimization failed to converge. Check mle_retvals\n",
      "  ConvergenceWarning)\n",
      "D:\\Programy\\anaconda\\lib\\site-packages\\statsmodels\\base\\model.py:568: ConvergenceWarning: Maximum Likelihood optimization failed to converge. Check mle_retvals\n",
      "  ConvergenceWarning)\n"
     ]
    },
    {
     "name": "stdout",
     "output_type": "stream",
     "text": [
      " ARIMA(0,1,2)(0,0,0)[0]             : AIC=4273.436, Time=0.12 sec\n",
      " ARIMA(2,1,0)(0,0,0)[0]             : AIC=4292.449, Time=0.03 sec\n",
      " ARIMA(2,1,2)(0,0,0)[0]             : AIC=4277.106, Time=0.16 sec\n",
      "\n",
      "Best model:  ARIMA(1,1,1)(0,0,0)[0]          \n",
      "Total fit time: 2.005 seconds\n",
      "autoARIMA time: 0:00:02.011421\n",
      "(1, 1, 1)\n",
      "(0, 0, 0, 0)\n",
      "fit time = 0:00:00.128091\n",
      "##### Koniec dopasowania modelu dla godziny: 23\n",
      "#####\n",
      "##### startuje dopasowanie modelu dla godziny: 24\n",
      "Performing stepwise search to minimize aic\n"
     ]
    },
    {
     "name": "stderr",
     "output_type": "stream",
     "text": [
      "D:\\Programy\\anaconda\\lib\\site-packages\\statsmodels\\tsa\\base\\tsa_model.py:579: ValueWarning: An unsupported index was provided and will be ignored when e.g. forecasting.\n",
      "  ' ignored when e.g. forecasting.', ValueWarning)\n",
      "D:\\Programy\\anaconda\\lib\\site-packages\\statsmodels\\tsa\\base\\tsa_model.py:579: ValueWarning: An unsupported index was provided and will be ignored when e.g. forecasting.\n",
      "  ' ignored when e.g. forecasting.', ValueWarning)\n",
      "D:\\Programy\\anaconda\\lib\\site-packages\\statsmodels\\tsa\\statespace\\sarimax.py:966: UserWarning: Non-stationary starting autoregressive parameters found. Using zeros as starting parameters.\n",
      "  warn('Non-stationary starting autoregressive parameters'\n",
      "D:\\Programy\\anaconda\\lib\\site-packages\\statsmodels\\tsa\\statespace\\sarimax.py:978: UserWarning: Non-invertible starting MA parameters found. Using zeros as starting parameters.\n",
      "  warn('Non-invertible starting MA parameters found.'\n",
      "D:\\Programy\\anaconda\\lib\\site-packages\\statsmodels\\base\\model.py:568: ConvergenceWarning: Maximum Likelihood optimization failed to converge. Check mle_retvals\n",
      "  ConvergenceWarning)\n"
     ]
    },
    {
     "name": "stdout",
     "output_type": "stream",
     "text": [
      " ARIMA(2,1,2)(0,0,0)[0] intercept   : AIC=4302.555, Time=0.21 sec\n",
      " ARIMA(0,1,0)(0,0,0)[0] intercept   : AIC=4357.148, Time=0.01 sec\n",
      " ARIMA(1,1,0)(0,0,0)[0] intercept   : AIC=4332.039, Time=0.04 sec\n",
      " ARIMA(0,1,1)(0,0,0)[0] intercept   : AIC=4310.104, Time=0.05 sec\n",
      " ARIMA(0,1,0)(0,0,0)[0]             : AIC=4355.156, Time=0.01 sec\n"
     ]
    },
    {
     "name": "stderr",
     "output_type": "stream",
     "text": [
      "D:\\Programy\\anaconda\\lib\\site-packages\\statsmodels\\base\\model.py:568: ConvergenceWarning: Maximum Likelihood optimization failed to converge. Check mle_retvals\n",
      "  ConvergenceWarning)\n",
      "D:\\Programy\\anaconda\\lib\\site-packages\\statsmodels\\base\\model.py:568: ConvergenceWarning: Maximum Likelihood optimization failed to converge. Check mle_retvals\n",
      "  ConvergenceWarning)\n"
     ]
    },
    {
     "name": "stdout",
     "output_type": "stream",
     "text": [
      " ARIMA(1,1,2)(0,0,0)[0] intercept   : AIC=4301.156, Time=0.20 sec\n",
      " ARIMA(0,1,2)(0,0,0)[0] intercept   : AIC=4299.385, Time=0.15 sec\n"
     ]
    },
    {
     "name": "stderr",
     "output_type": "stream",
     "text": [
      "D:\\Programy\\anaconda\\lib\\site-packages\\statsmodels\\base\\model.py:568: ConvergenceWarning: Maximum Likelihood optimization failed to converge. Check mle_retvals\n",
      "  ConvergenceWarning)\n"
     ]
    },
    {
     "name": "stdout",
     "output_type": "stream",
     "text": [
      " ARIMA(0,1,3)(0,0,0)[0] intercept   : AIC=4300.691, Time=0.20 sec\n"
     ]
    },
    {
     "name": "stderr",
     "output_type": "stream",
     "text": [
      "D:\\Programy\\anaconda\\lib\\site-packages\\statsmodels\\base\\model.py:568: ConvergenceWarning: Maximum Likelihood optimization failed to converge. Check mle_retvals\n",
      "  ConvergenceWarning)\n"
     ]
    },
    {
     "name": "stdout",
     "output_type": "stream",
     "text": [
      " ARIMA(1,1,1)(0,0,0)[0] intercept   : AIC=4298.627, Time=0.20 sec\n",
      " ARIMA(2,1,1)(0,0,0)[0] intercept   : AIC=4300.584, Time=0.12 sec\n",
      " ARIMA(2,1,0)(0,0,0)[0] intercept   : AIC=4320.834, Time=0.05 sec\n",
      " ARIMA(1,1,1)(0,0,0)[0]             : AIC=4297.532, Time=0.06 sec\n",
      " ARIMA(0,1,1)(0,0,0)[0]             : AIC=4308.443, Time=0.02 sec\n",
      " ARIMA(1,1,0)(0,0,0)[0]             : AIC=4330.077, Time=0.02 sec\n",
      " ARIMA(2,1,1)(0,0,0)[0]             : AIC=4299.404, Time=0.07 sec\n",
      " ARIMA(1,1,2)(0,0,0)[0]             : AIC=4299.366, Time=0.08 sec\n",
      " ARIMA(0,1,2)(0,0,0)[0]             : AIC=4298.105, Time=0.05 sec\n",
      " ARIMA(2,1,0)(0,0,0)[0]             : AIC=4318.909, Time=0.03 sec\n"
     ]
    },
    {
     "name": "stderr",
     "output_type": "stream",
     "text": [
      "D:\\Programy\\anaconda\\lib\\site-packages\\statsmodels\\tsa\\statespace\\sarimax.py:966: UserWarning: Non-stationary starting autoregressive parameters found. Using zeros as starting parameters.\n",
      "  warn('Non-stationary starting autoregressive parameters'\n",
      "D:\\Programy\\anaconda\\lib\\site-packages\\statsmodels\\tsa\\statespace\\sarimax.py:978: UserWarning: Non-invertible starting MA parameters found. Using zeros as starting parameters.\n",
      "  warn('Non-invertible starting MA parameters found.'\n",
      "D:\\Programy\\anaconda\\lib\\site-packages\\statsmodels\\base\\model.py:568: ConvergenceWarning: Maximum Likelihood optimization failed to converge. Check mle_retvals\n",
      "  ConvergenceWarning)\n"
     ]
    },
    {
     "name": "stdout",
     "output_type": "stream",
     "text": [
      " ARIMA(2,1,2)(0,0,0)[0]             : AIC=4301.237, Time=0.17 sec\n",
      "\n",
      "Best model:  ARIMA(1,1,1)(0,0,0)[0]          \n",
      "Total fit time: 1.750 seconds\n",
      "autoARIMA time: 0:00:01.758241\n",
      "(1, 1, 1)\n",
      "(0, 0, 0, 0)\n",
      "fit time = 0:00:00.063044\n",
      "##### Koniec dopasowania modelu dla godziny: 24\n",
      "#####\n",
      "##### startuje dopasowanie modelu dla godziny: 25\n",
      "Performing stepwise search to minimize aic\n"
     ]
    },
    {
     "name": "stderr",
     "output_type": "stream",
     "text": [
      "D:\\Programy\\anaconda\\lib\\site-packages\\statsmodels\\tsa\\base\\tsa_model.py:579: ValueWarning: An unsupported index was provided and will be ignored when e.g. forecasting.\n",
      "  ' ignored when e.g. forecasting.', ValueWarning)\n",
      "D:\\Programy\\anaconda\\lib\\site-packages\\statsmodels\\tsa\\base\\tsa_model.py:579: ValueWarning: An unsupported index was provided and will be ignored when e.g. forecasting.\n",
      "  ' ignored when e.g. forecasting.', ValueWarning)\n",
      "D:\\Programy\\anaconda\\lib\\site-packages\\statsmodels\\base\\model.py:568: ConvergenceWarning: Maximum Likelihood optimization failed to converge. Check mle_retvals\n",
      "  ConvergenceWarning)\n"
     ]
    },
    {
     "name": "stdout",
     "output_type": "stream",
     "text": [
      " ARIMA(2,1,2)(0,0,0)[0] intercept   : AIC=4284.575, Time=0.26 sec\n",
      " ARIMA(0,1,0)(0,0,0)[0] intercept   : AIC=4335.271, Time=0.01 sec\n",
      " ARIMA(1,1,0)(0,0,0)[0] intercept   : AIC=4313.066, Time=0.04 sec\n",
      " ARIMA(0,1,1)(0,0,0)[0] intercept   : AIC=4292.763, Time=0.04 sec\n",
      " ARIMA(0,1,0)(0,0,0)[0]             : AIC=4333.280, Time=0.01 sec\n"
     ]
    },
    {
     "name": "stderr",
     "output_type": "stream",
     "text": [
      "D:\\Programy\\anaconda\\lib\\site-packages\\statsmodels\\base\\model.py:568: ConvergenceWarning: Maximum Likelihood optimization failed to converge. Check mle_retvals\n",
      "  ConvergenceWarning)\n",
      "D:\\Programy\\anaconda\\lib\\site-packages\\statsmodels\\base\\model.py:568: ConvergenceWarning: Maximum Likelihood optimization failed to converge. Check mle_retvals\n",
      "  ConvergenceWarning)\n"
     ]
    },
    {
     "name": "stdout",
     "output_type": "stream",
     "text": [
      " ARIMA(1,1,2)(0,0,0)[0] intercept   : AIC=4283.546, Time=0.20 sec\n",
      " ARIMA(0,1,2)(0,0,0)[0] intercept   : AIC=4281.337, Time=0.16 sec\n"
     ]
    },
    {
     "name": "stderr",
     "output_type": "stream",
     "text": [
      "D:\\Programy\\anaconda\\lib\\site-packages\\statsmodels\\base\\model.py:568: ConvergenceWarning: Maximum Likelihood optimization failed to converge. Check mle_retvals\n",
      "  ConvergenceWarning)\n"
     ]
    },
    {
     "name": "stdout",
     "output_type": "stream",
     "text": [
      " ARIMA(0,1,3)(0,0,0)[0] intercept   : AIC=4283.111, Time=0.21 sec\n",
      " ARIMA(1,1,1)(0,0,0)[0] intercept   : AIC=4281.321, Time=0.17 sec\n"
     ]
    },
    {
     "name": "stderr",
     "output_type": "stream",
     "text": [
      "D:\\Programy\\anaconda\\lib\\site-packages\\statsmodels\\base\\model.py:568: ConvergenceWarning: Maximum Likelihood optimization failed to converge. Check mle_retvals\n",
      "  ConvergenceWarning)\n"
     ]
    },
    {
     "name": "stdout",
     "output_type": "stream",
     "text": [
      " ARIMA(2,1,1)(0,0,0)[0] intercept   : AIC=4282.995, Time=0.19 sec\n",
      " ARIMA(2,1,0)(0,0,0)[0] intercept   : AIC=4300.161, Time=0.05 sec\n",
      " ARIMA(1,1,1)(0,0,0)[0]             : AIC=4279.997, Time=0.08 sec\n",
      " ARIMA(0,1,1)(0,0,0)[0]             : AIC=4291.072, Time=0.02 sec\n",
      " ARIMA(1,1,0)(0,0,0)[0]             : AIC=4311.107, Time=0.03 sec\n",
      " ARIMA(2,1,1)(0,0,0)[0]             : AIC=4281.731, Time=0.07 sec\n",
      " ARIMA(1,1,2)(0,0,0)[0]             : AIC=4281.646, Time=0.08 sec\n",
      " ARIMA(0,1,2)(0,0,0)[0]             : AIC=4279.985, Time=0.04 sec\n",
      " ARIMA(0,1,3)(0,0,0)[0]             : AIC=4281.889, Time=0.06 sec\n"
     ]
    },
    {
     "name": "stderr",
     "output_type": "stream",
     "text": [
      "D:\\Programy\\anaconda\\lib\\site-packages\\statsmodels\\base\\model.py:568: ConvergenceWarning: Maximum Likelihood optimization failed to converge. Check mle_retvals\n",
      "  ConvergenceWarning)\n",
      "D:\\Programy\\anaconda\\lib\\site-packages\\statsmodels\\tsa\\base\\tsa_model.py:579: ValueWarning: An unsupported index was provided and will be ignored when e.g. forecasting.\n",
      "  ' ignored when e.g. forecasting.', ValueWarning)\n",
      "D:\\Programy\\anaconda\\lib\\site-packages\\statsmodels\\tsa\\base\\tsa_model.py:579: ValueWarning: An unsupported index was provided and will be ignored when e.g. forecasting.\n",
      "  ' ignored when e.g. forecasting.', ValueWarning)\n"
     ]
    },
    {
     "name": "stdout",
     "output_type": "stream",
     "text": [
      " ARIMA(1,1,3)(0,0,0)[0]             : AIC=4282.483, Time=0.19 sec\n",
      "\n",
      "Best model:  ARIMA(0,1,2)(0,0,0)[0]          \n",
      "Total fit time: 1.926 seconds\n",
      "autoARIMA time: 0:00:01.932365\n",
      "(0, 1, 2)\n",
      "(0, 0, 0, 0)\n",
      "fit time = 0:00:00.044031\n",
      "##### Koniec dopasowania modelu dla godziny: 25\n",
      "#####\n",
      "##### startuje dopasowanie modelu dla godziny: 26\n",
      "Performing stepwise search to minimize aic\n"
     ]
    },
    {
     "name": "stderr",
     "output_type": "stream",
     "text": [
      "D:\\Programy\\anaconda\\lib\\site-packages\\statsmodels\\base\\model.py:568: ConvergenceWarning: Maximum Likelihood optimization failed to converge. Check mle_retvals\n",
      "  ConvergenceWarning)\n"
     ]
    },
    {
     "name": "stdout",
     "output_type": "stream",
     "text": [
      " ARIMA(2,1,2)(0,0,0)[0] intercept   : AIC=4183.997, Time=0.26 sec\n",
      " ARIMA(0,1,0)(0,0,0)[0] intercept   : AIC=4229.451, Time=0.01 sec\n",
      " ARIMA(1,1,0)(0,0,0)[0] intercept   : AIC=4213.555, Time=0.04 sec\n",
      " ARIMA(0,1,1)(0,0,0)[0] intercept   : AIC=4200.837, Time=0.04 sec\n",
      " ARIMA(0,1,0)(0,0,0)[0]             : AIC=4227.462, Time=0.01 sec\n"
     ]
    },
    {
     "name": "stderr",
     "output_type": "stream",
     "text": [
      "D:\\Programy\\anaconda\\lib\\site-packages\\statsmodels\\base\\model.py:568: ConvergenceWarning: Maximum Likelihood optimization failed to converge. Check mle_retvals\n",
      "  ConvergenceWarning)\n",
      "D:\\Programy\\anaconda\\lib\\site-packages\\statsmodels\\base\\model.py:568: ConvergenceWarning: Maximum Likelihood optimization failed to converge. Check mle_retvals\n",
      "  ConvergenceWarning)\n"
     ]
    },
    {
     "name": "stdout",
     "output_type": "stream",
     "text": [
      " ARIMA(1,1,2)(0,0,0)[0] intercept   : AIC=4187.624, Time=0.21 sec\n",
      " ARIMA(2,1,1)(0,0,0)[0] intercept   : AIC=4187.696, Time=0.21 sec\n"
     ]
    },
    {
     "name": "stderr",
     "output_type": "stream",
     "text": [
      "D:\\Programy\\anaconda\\lib\\site-packages\\statsmodels\\base\\model.py:568: ConvergenceWarning: Maximum Likelihood optimization failed to converge. Check mle_retvals\n",
      "  ConvergenceWarning)\n"
     ]
    },
    {
     "name": "stdout",
     "output_type": "stream",
     "text": [
      " ARIMA(3,1,2)(0,0,0)[0] intercept   : AIC=4187.608, Time=0.26 sec\n"
     ]
    },
    {
     "name": "stderr",
     "output_type": "stream",
     "text": [
      "D:\\Programy\\anaconda\\lib\\site-packages\\statsmodels\\base\\model.py:568: ConvergenceWarning: Maximum Likelihood optimization failed to converge. Check mle_retvals\n",
      "  ConvergenceWarning)\n",
      "D:\\Programy\\anaconda\\lib\\site-packages\\statsmodels\\base\\model.py:568: ConvergenceWarning: Maximum Likelihood optimization failed to converge. Check mle_retvals\n",
      "  ConvergenceWarning)\n"
     ]
    },
    {
     "name": "stdout",
     "output_type": "stream",
     "text": [
      " ARIMA(2,1,3)(0,0,0)[0] intercept   : AIC=4186.400, Time=0.32 sec\n",
      " ARIMA(1,1,1)(0,0,0)[0] intercept   : AIC=4185.976, Time=0.15 sec\n"
     ]
    },
    {
     "name": "stderr",
     "output_type": "stream",
     "text": [
      "D:\\Programy\\anaconda\\lib\\site-packages\\statsmodels\\base\\model.py:568: ConvergenceWarning: Maximum Likelihood optimization failed to converge. Check mle_retvals\n",
      "  ConvergenceWarning)\n"
     ]
    },
    {
     "name": "stdout",
     "output_type": "stream",
     "text": [
      " ARIMA(1,1,3)(0,0,0)[0] intercept   : AIC=4187.599, Time=0.26 sec\n"
     ]
    },
    {
     "name": "stderr",
     "output_type": "stream",
     "text": [
      "D:\\Programy\\anaconda\\lib\\site-packages\\statsmodels\\base\\model.py:568: ConvergenceWarning: Maximum Likelihood optimization failed to converge. Check mle_retvals\n",
      "  ConvergenceWarning)\n"
     ]
    },
    {
     "name": "stdout",
     "output_type": "stream",
     "text": [
      " ARIMA(3,1,1)(0,0,0)[0] intercept   : AIC=4189.870, Time=0.29 sec\n"
     ]
    },
    {
     "name": "stderr",
     "output_type": "stream",
     "text": [
      "D:\\Programy\\anaconda\\lib\\site-packages\\statsmodels\\base\\model.py:568: ConvergenceWarning: Maximum Likelihood optimization failed to converge. Check mle_retvals\n",
      "  ConvergenceWarning)\n"
     ]
    },
    {
     "name": "stdout",
     "output_type": "stream",
     "text": [
      " ARIMA(3,1,3)(0,0,0)[0] intercept   : AIC=4183.341, Time=0.33 sec\n"
     ]
    },
    {
     "name": "stderr",
     "output_type": "stream",
     "text": [
      "D:\\Programy\\anaconda\\lib\\site-packages\\statsmodels\\base\\model.py:568: ConvergenceWarning: Maximum Likelihood optimization failed to converge. Check mle_retvals\n",
      "  ConvergenceWarning)\n"
     ]
    },
    {
     "name": "stdout",
     "output_type": "stream",
     "text": [
      " ARIMA(4,1,3)(0,0,0)[0] intercept   : AIC=4183.134, Time=0.34 sec\n",
      " ARIMA(4,1,2)(0,0,0)[0] intercept   : AIC=4181.847, Time=0.27 sec\n",
      " ARIMA(4,1,1)(0,0,0)[0] intercept   : AIC=4180.516, Time=0.14 sec\n",
      " ARIMA(4,1,0)(0,0,0)[0] intercept   : AIC=4179.942, Time=0.09 sec\n",
      " ARIMA(3,1,0)(0,0,0)[0] intercept   : AIC=4203.213, Time=0.06 sec\n",
      " ARIMA(5,1,0)(0,0,0)[0] intercept   : AIC=4181.056, Time=0.12 sec\n",
      " ARIMA(5,1,1)(0,0,0)[0] intercept   : AIC=4181.952, Time=0.29 sec\n",
      " ARIMA(4,1,0)(0,0,0)[0]             : AIC=4178.288, Time=0.05 sec\n",
      " ARIMA(3,1,0)(0,0,0)[0]             : AIC=4201.342, Time=0.04 sec\n",
      " ARIMA(5,1,0)(0,0,0)[0]             : AIC=4179.434, Time=0.07 sec\n",
      " ARIMA(4,1,1)(0,0,0)[0]             : AIC=4178.971, Time=0.10 sec\n",
      " ARIMA(3,1,1)(0,0,0)[0]             : AIC=4188.549, Time=0.10 sec\n"
     ]
    },
    {
     "name": "stderr",
     "output_type": "stream",
     "text": [
      "D:\\Programy\\anaconda\\lib\\site-packages\\statsmodels\\base\\model.py:568: ConvergenceWarning: Maximum Likelihood optimization failed to converge. Check mle_retvals\n",
      "  ConvergenceWarning)\n",
      "D:\\Programy\\anaconda\\lib\\site-packages\\statsmodels\\tsa\\base\\tsa_model.py:579: ValueWarning: An unsupported index was provided and will be ignored when e.g. forecasting.\n",
      "  ' ignored when e.g. forecasting.', ValueWarning)\n",
      "D:\\Programy\\anaconda\\lib\\site-packages\\statsmodels\\tsa\\base\\tsa_model.py:579: ValueWarning: An unsupported index was provided and will be ignored when e.g. forecasting.\n",
      "  ' ignored when e.g. forecasting.', ValueWarning)\n"
     ]
    },
    {
     "name": "stdout",
     "output_type": "stream",
     "text": [
      " ARIMA(5,1,1)(0,0,0)[0]             : AIC=4179.558, Time=0.24 sec\n",
      "\n",
      "Best model:  ARIMA(4,1,0)(0,0,0)[0]          \n",
      "Total fit time: 4.322 seconds\n",
      "autoARIMA time: 0:00:04.330783\n",
      "(4, 1, 0)\n",
      "(0, 0, 0, 0)\n",
      "fit time = 0:00:00.049034\n",
      "##### Koniec dopasowania modelu dla godziny: 26\n",
      "#####\n",
      "##### startuje dopasowanie modelu dla godziny: 27\n",
      "Performing stepwise search to minimize aic\n",
      " ARIMA(2,1,2)(0,0,0)[0] intercept   : AIC=4068.179, Time=0.13 sec\n",
      " ARIMA(0,1,0)(0,0,0)[0] intercept   : AIC=4117.919, Time=0.02 sec\n",
      " ARIMA(1,1,0)(0,0,0)[0] intercept   : AIC=4086.453, Time=0.04 sec\n",
      " ARIMA(0,1,1)(0,0,0)[0] intercept   : AIC=4068.050, Time=0.04 sec\n",
      " ARIMA(0,1,0)(0,0,0)[0]             : AIC=4115.937, Time=0.01 sec\n",
      " ARIMA(1,1,1)(0,0,0)[0] intercept   : AIC=4067.854, Time=0.06 sec\n",
      " ARIMA(2,1,1)(0,0,0)[0] intercept   : AIC=4069.434, Time=0.11 sec\n",
      " ARIMA(1,1,2)(0,0,0)[0] intercept   : AIC=4066.262, Time=0.12 sec\n"
     ]
    },
    {
     "name": "stderr",
     "output_type": "stream",
     "text": [
      "D:\\Programy\\anaconda\\lib\\site-packages\\statsmodels\\base\\model.py:568: ConvergenceWarning: Maximum Likelihood optimization failed to converge. Check mle_retvals\n",
      "  ConvergenceWarning)\n"
     ]
    },
    {
     "name": "stdout",
     "output_type": "stream",
     "text": [
      " ARIMA(0,1,2)(0,0,0)[0] intercept   : AIC=4067.399, Time=0.16 sec\n",
      " ARIMA(1,1,3)(0,0,0)[0] intercept   : AIC=4068.226, Time=0.16 sec\n"
     ]
    },
    {
     "name": "stderr",
     "output_type": "stream",
     "text": [
      "D:\\Programy\\anaconda\\lib\\site-packages\\statsmodels\\base\\model.py:568: ConvergenceWarning: Maximum Likelihood optimization failed to converge. Check mle_retvals\n",
      "  ConvergenceWarning)\n"
     ]
    },
    {
     "name": "stdout",
     "output_type": "stream",
     "text": [
      " ARIMA(0,1,3)(0,0,0)[0] intercept   : AIC=4068.531, Time=0.21 sec\n"
     ]
    },
    {
     "name": "stderr",
     "output_type": "stream",
     "text": [
      "D:\\Programy\\anaconda\\lib\\site-packages\\statsmodels\\base\\model.py:568: ConvergenceWarning: Maximum Likelihood optimization failed to converge. Check mle_retvals\n",
      "  ConvergenceWarning)\n"
     ]
    },
    {
     "name": "stdout",
     "output_type": "stream",
     "text": [
      " ARIMA(2,1,3)(0,0,0)[0] intercept   : AIC=4063.365, Time=0.28 sec\n"
     ]
    },
    {
     "name": "stderr",
     "output_type": "stream",
     "text": [
      "D:\\Programy\\anaconda\\lib\\site-packages\\statsmodels\\base\\model.py:568: ConvergenceWarning: Maximum Likelihood optimization failed to converge. Check mle_retvals\n",
      "  ConvergenceWarning)\n"
     ]
    },
    {
     "name": "stdout",
     "output_type": "stream",
     "text": [
      " ARIMA(3,1,3)(0,0,0)[0] intercept   : AIC=4063.347, Time=0.30 sec\n"
     ]
    },
    {
     "name": "stderr",
     "output_type": "stream",
     "text": [
      "D:\\Programy\\anaconda\\lib\\site-packages\\statsmodels\\base\\model.py:568: ConvergenceWarning: Maximum Likelihood optimization failed to converge. Check mle_retvals\n",
      "  ConvergenceWarning)\n"
     ]
    },
    {
     "name": "stdout",
     "output_type": "stream",
     "text": [
      " ARIMA(3,1,2)(0,0,0)[0] intercept   : AIC=4068.704, Time=0.26 sec\n"
     ]
    },
    {
     "name": "stderr",
     "output_type": "stream",
     "text": [
      "D:\\Programy\\anaconda\\lib\\site-packages\\statsmodels\\base\\model.py:568: ConvergenceWarning: Maximum Likelihood optimization failed to converge. Check mle_retvals\n",
      "  ConvergenceWarning)\n"
     ]
    },
    {
     "name": "stdout",
     "output_type": "stream",
     "text": [
      " ARIMA(4,1,3)(0,0,0)[0] intercept   : AIC=4064.586, Time=0.36 sec\n"
     ]
    },
    {
     "name": "stderr",
     "output_type": "stream",
     "text": [
      "D:\\Programy\\anaconda\\lib\\site-packages\\statsmodels\\base\\model.py:568: ConvergenceWarning: Maximum Likelihood optimization failed to converge. Check mle_retvals\n",
      "  ConvergenceWarning)\n"
     ]
    },
    {
     "name": "stdout",
     "output_type": "stream",
     "text": [
      " ARIMA(3,1,4)(0,0,0)[0] intercept   : AIC=4065.473, Time=0.36 sec\n"
     ]
    },
    {
     "name": "stderr",
     "output_type": "stream",
     "text": [
      "D:\\Programy\\anaconda\\lib\\site-packages\\statsmodels\\base\\model.py:568: ConvergenceWarning: Maximum Likelihood optimization failed to converge. Check mle_retvals\n",
      "  ConvergenceWarning)\n"
     ]
    },
    {
     "name": "stdout",
     "output_type": "stream",
     "text": [
      " ARIMA(2,1,4)(0,0,0)[0] intercept   : AIC=4063.767, Time=0.31 sec\n",
      " ARIMA(4,1,2)(0,0,0)[0] intercept   : AIC=4063.099, Time=0.32 sec\n",
      " ARIMA(4,1,1)(0,0,0)[0] intercept   : AIC=4061.437, Time=0.15 sec\n",
      " ARIMA(3,1,1)(0,0,0)[0] intercept   : AIC=4070.857, Time=0.15 sec\n",
      " ARIMA(4,1,0)(0,0,0)[0] intercept   : AIC=4059.547, Time=0.09 sec\n",
      " ARIMA(3,1,0)(0,0,0)[0] intercept   : AIC=4072.886, Time=0.06 sec\n",
      " ARIMA(5,1,0)(0,0,0)[0] intercept   : AIC=4061.408, Time=0.10 sec\n"
     ]
    },
    {
     "name": "stderr",
     "output_type": "stream",
     "text": [
      "D:\\Programy\\anaconda\\lib\\site-packages\\statsmodels\\base\\model.py:568: ConvergenceWarning: Maximum Likelihood optimization failed to converge. Check mle_retvals\n",
      "  ConvergenceWarning)\n"
     ]
    },
    {
     "name": "stdout",
     "output_type": "stream",
     "text": [
      " ARIMA(5,1,1)(0,0,0)[0] intercept   : AIC=4061.785, Time=0.37 sec\n",
      " ARIMA(4,1,0)(0,0,0)[0]             : AIC=4057.889, Time=0.07 sec\n",
      " ARIMA(3,1,0)(0,0,0)[0]             : AIC=4071.058, Time=0.04 sec\n",
      " ARIMA(5,1,0)(0,0,0)[0]             : AIC=4059.766, Time=0.06 sec\n",
      " ARIMA(4,1,1)(0,0,0)[0]             : AIC=4059.798, Time=0.12 sec\n",
      " ARIMA(3,1,1)(0,0,0)[0]             : AIC=4069.095, Time=0.11 sec\n"
     ]
    },
    {
     "name": "stderr",
     "output_type": "stream",
     "text": [
      "D:\\Programy\\anaconda\\lib\\site-packages\\statsmodels\\base\\model.py:568: ConvergenceWarning: Maximum Likelihood optimization failed to converge. Check mle_retvals\n",
      "  ConvergenceWarning)\n",
      "D:\\Programy\\anaconda\\lib\\site-packages\\statsmodels\\tsa\\base\\tsa_model.py:579: ValueWarning: An unsupported index was provided and will be ignored when e.g. forecasting.\n",
      "  ' ignored when e.g. forecasting.', ValueWarning)\n",
      "D:\\Programy\\anaconda\\lib\\site-packages\\statsmodels\\tsa\\base\\tsa_model.py:579: ValueWarning: An unsupported index was provided and will be ignored when e.g. forecasting.\n",
      "  ' ignored when e.g. forecasting.', ValueWarning)\n"
     ]
    },
    {
     "name": "stdout",
     "output_type": "stream",
     "text": [
      " ARIMA(5,1,1)(0,0,0)[0]             : AIC=4060.156, Time=0.22 sec\n",
      "\n",
      "Best model:  ARIMA(4,1,0)(0,0,0)[0]          \n",
      "Total fit time: 4.800 seconds\n",
      "autoARIMA time: 0:00:04.812401\n",
      "(4, 1, 0)\n",
      "(0, 0, 0, 0)\n",
      "fit time = 0:00:00.052035\n",
      "##### Koniec dopasowania modelu dla godziny: 27\n",
      "#####\n",
      "##### startuje dopasowanie modelu dla godziny: 28\n",
      "Performing stepwise search to minimize aic\n",
      " ARIMA(2,1,2)(0,0,0)[0] intercept   : AIC=4142.157, Time=0.18 sec\n",
      " ARIMA(0,1,0)(0,0,0)[0] intercept   : AIC=4201.819, Time=0.01 sec\n",
      " ARIMA(1,1,0)(0,0,0)[0] intercept   : AIC=4176.265, Time=0.04 sec\n",
      " ARIMA(0,1,1)(0,0,0)[0] intercept   : AIC=4147.653, Time=0.03 sec\n",
      " ARIMA(0,1,0)(0,0,0)[0]             : AIC=4199.830, Time=0.01 sec\n",
      " ARIMA(1,1,2)(0,0,0)[0] intercept   : AIC=4140.530, Time=0.10 sec\n",
      " ARIMA(0,1,2)(0,0,0)[0] intercept   : AIC=4143.520, Time=0.15 sec\n",
      " ARIMA(1,1,1)(0,0,0)[0] intercept   : AIC=4145.636, Time=0.15 sec\n",
      " ARIMA(1,1,3)(0,0,0)[0] intercept   : AIC=4142.191, Time=0.14 sec\n"
     ]
    },
    {
     "name": "stderr",
     "output_type": "stream",
     "text": [
      "D:\\Programy\\anaconda\\lib\\site-packages\\statsmodels\\base\\model.py:568: ConvergenceWarning: Maximum Likelihood optimization failed to converge. Check mle_retvals\n",
      "  ConvergenceWarning)\n"
     ]
    },
    {
     "name": "stdout",
     "output_type": "stream",
     "text": [
      " ARIMA(0,1,3)(0,0,0)[0] intercept   : AIC=4140.638, Time=0.20 sec\n",
      " ARIMA(2,1,1)(0,0,0)[0] intercept   : AIC=4142.863, Time=0.11 sec\n"
     ]
    },
    {
     "name": "stderr",
     "output_type": "stream",
     "text": [
      "D:\\Programy\\anaconda\\lib\\site-packages\\statsmodels\\base\\model.py:568: ConvergenceWarning: Maximum Likelihood optimization failed to converge. Check mle_retvals\n",
      "  ConvergenceWarning)\n"
     ]
    },
    {
     "name": "stdout",
     "output_type": "stream",
     "text": [
      " ARIMA(2,1,3)(0,0,0)[0] intercept   : AIC=4144.191, Time=0.27 sec\n",
      " ARIMA(1,1,2)(0,0,0)[0]             : AIC=4138.942, Time=0.06 sec\n",
      " ARIMA(0,1,2)(0,0,0)[0]             : AIC=4142.005, Time=0.03 sec\n",
      " ARIMA(1,1,1)(0,0,0)[0]             : AIC=4144.075, Time=0.04 sec\n",
      " ARIMA(2,1,2)(0,0,0)[0]             : AIC=4140.540, Time=0.11 sec\n",
      " ARIMA(1,1,3)(0,0,0)[0]             : AIC=4140.515, Time=0.09 sec\n",
      " ARIMA(0,1,1)(0,0,0)[0]             : AIC=4145.962, Time=0.02 sec\n",
      " ARIMA(0,1,3)(0,0,0)[0]             : AIC=4138.995, Time=0.05 sec\n",
      " ARIMA(2,1,1)(0,0,0)[0]             : AIC=4141.219, Time=0.06 sec\n",
      " ARIMA(2,1,3)(0,0,0)[0]             : AIC=4141.809, Time=0.16 sec\n",
      "\n",
      "Best model:  ARIMA(1,1,2)(0,0,0)[0]          \n",
      "Total fit time: 2.036 seconds\n",
      "autoARIMA time: 0:00:02.046447\n",
      "(1, 1, 2)\n",
      "(0, 0, 0, 0)\n"
     ]
    },
    {
     "name": "stderr",
     "output_type": "stream",
     "text": [
      "D:\\Programy\\anaconda\\lib\\site-packages\\statsmodels\\base\\model.py:568: ConvergenceWarning: Maximum Likelihood optimization failed to converge. Check mle_retvals\n",
      "  ConvergenceWarning)\n",
      "D:\\Programy\\anaconda\\lib\\site-packages\\statsmodels\\tsa\\base\\tsa_model.py:579: ValueWarning: An unsupported index was provided and will be ignored when e.g. forecasting.\n",
      "  ' ignored when e.g. forecasting.', ValueWarning)\n",
      "D:\\Programy\\anaconda\\lib\\site-packages\\statsmodels\\tsa\\base\\tsa_model.py:579: ValueWarning: An unsupported index was provided and will be ignored when e.g. forecasting.\n",
      "  ' ignored when e.g. forecasting.', ValueWarning)\n"
     ]
    },
    {
     "name": "stdout",
     "output_type": "stream",
     "text": [
      "fit time = 0:00:00.068048\n",
      "##### Koniec dopasowania modelu dla godziny: 28\n",
      "#####\n",
      "##### startuje dopasowanie modelu dla godziny: 29\n",
      "Performing stepwise search to minimize aic\n"
     ]
    },
    {
     "name": "stderr",
     "output_type": "stream",
     "text": [
      "D:\\Programy\\anaconda\\lib\\site-packages\\statsmodels\\base\\model.py:568: ConvergenceWarning: Maximum Likelihood optimization failed to converge. Check mle_retvals\n",
      "  ConvergenceWarning)\n"
     ]
    },
    {
     "name": "stdout",
     "output_type": "stream",
     "text": [
      " ARIMA(2,1,2)(0,0,0)[0] intercept   : AIC=4360.472, Time=0.22 sec\n",
      " ARIMA(0,1,0)(0,0,0)[0] intercept   : AIC=4416.750, Time=0.01 sec\n",
      " ARIMA(1,1,0)(0,0,0)[0] intercept   : AIC=4393.941, Time=0.04 sec\n",
      " ARIMA(0,1,1)(0,0,0)[0] intercept   : AIC=4366.749, Time=0.04 sec\n",
      " ARIMA(0,1,0)(0,0,0)[0]             : AIC=4414.760, Time=0.01 sec\n"
     ]
    },
    {
     "name": "stderr",
     "output_type": "stream",
     "text": [
      "D:\\Programy\\anaconda\\lib\\site-packages\\statsmodels\\base\\model.py:568: ConvergenceWarning: Maximum Likelihood optimization failed to converge. Check mle_retvals\n",
      "  ConvergenceWarning)\n"
     ]
    },
    {
     "name": "stdout",
     "output_type": "stream",
     "text": [
      " ARIMA(1,1,2)(0,0,0)[0] intercept   : AIC=4358.709, Time=0.20 sec\n",
      " ARIMA(0,1,2)(0,0,0)[0] intercept   : AIC=4356.754, Time=0.13 sec\n"
     ]
    },
    {
     "name": "stderr",
     "output_type": "stream",
     "text": [
      "D:\\Programy\\anaconda\\lib\\site-packages\\statsmodels\\base\\model.py:568: ConvergenceWarning: Maximum Likelihood optimization failed to converge. Check mle_retvals\n",
      "  ConvergenceWarning)\n"
     ]
    },
    {
     "name": "stdout",
     "output_type": "stream",
     "text": [
      " ARIMA(0,1,3)(0,0,0)[0] intercept   : AIC=4358.646, Time=0.20 sec\n",
      " ARIMA(1,1,1)(0,0,0)[0] intercept   : AIC=4357.920, Time=0.15 sec\n"
     ]
    },
    {
     "name": "stderr",
     "output_type": "stream",
     "text": [
      "D:\\Programy\\anaconda\\lib\\site-packages\\statsmodels\\base\\model.py:568: ConvergenceWarning: Maximum Likelihood optimization failed to converge. Check mle_retvals\n",
      "  ConvergenceWarning)\n"
     ]
    },
    {
     "name": "stdout",
     "output_type": "stream",
     "text": [
      " ARIMA(1,1,3)(0,0,0)[0] intercept   : AIC=4359.703, Time=0.24 sec\n",
      " ARIMA(0,1,2)(0,0,0)[0]             : AIC=4355.411, Time=0.03 sec\n",
      " ARIMA(0,1,1)(0,0,0)[0]             : AIC=4365.087, Time=0.02 sec\n",
      " ARIMA(1,1,2)(0,0,0)[0]             : AIC=4357.377, Time=0.07 sec\n",
      " ARIMA(0,1,3)(0,0,0)[0]             : AIC=4357.311, Time=0.05 sec\n",
      " ARIMA(1,1,1)(0,0,0)[0]             : AIC=4356.599, Time=0.05 sec\n",
      " ARIMA(1,1,3)(0,0,0)[0]             : AIC=4358.368, Time=0.17 sec\n",
      "\n",
      "Best model:  ARIMA(0,1,2)(0,0,0)[0]          \n",
      "Total fit time: 1.648 seconds\n",
      "autoARIMA time: 0:00:01.653168\n",
      "(0, 1, 2)\n",
      "(0, 0, 0, 0)\n"
     ]
    },
    {
     "name": "stderr",
     "output_type": "stream",
     "text": [
      "D:\\Programy\\anaconda\\lib\\site-packages\\statsmodels\\tsa\\base\\tsa_model.py:579: ValueWarning: An unsupported index was provided and will be ignored when e.g. forecasting.\n",
      "  ' ignored when e.g. forecasting.', ValueWarning)\n",
      "D:\\Programy\\anaconda\\lib\\site-packages\\statsmodels\\tsa\\base\\tsa_model.py:579: ValueWarning: An unsupported index was provided and will be ignored when e.g. forecasting.\n",
      "  ' ignored when e.g. forecasting.', ValueWarning)\n"
     ]
    },
    {
     "name": "stdout",
     "output_type": "stream",
     "text": [
      "fit time = 0:00:00.048035\n",
      "##### Koniec dopasowania modelu dla godziny: 29\n",
      "#####\n",
      "##### startuje dopasowanie modelu dla godziny: 30\n",
      "Performing stepwise search to minimize aic\n"
     ]
    },
    {
     "name": "stderr",
     "output_type": "stream",
     "text": [
      "D:\\Programy\\anaconda\\lib\\site-packages\\statsmodels\\base\\model.py:568: ConvergenceWarning: Maximum Likelihood optimization failed to converge. Check mle_retvals\n",
      "  ConvergenceWarning)\n"
     ]
    },
    {
     "name": "stdout",
     "output_type": "stream",
     "text": [
      " ARIMA(2,1,2)(0,0,0)[0] intercept   : AIC=4311.608, Time=0.22 sec\n",
      " ARIMA(0,1,0)(0,0,0)[0] intercept   : AIC=4343.002, Time=0.02 sec\n",
      " ARIMA(1,1,0)(0,0,0)[0] intercept   : AIC=4328.664, Time=0.03 sec\n",
      " ARIMA(0,1,1)(0,0,0)[0] intercept   : AIC=4317.670, Time=0.06 sec\n",
      " ARIMA(0,1,0)(0,0,0)[0]             : AIC=4341.008, Time=0.01 sec\n",
      " ARIMA(1,1,2)(0,0,0)[0] intercept   : AIC=4309.654, Time=0.13 sec\n",
      " ARIMA(0,1,2)(0,0,0)[0] intercept   : AIC=4307.538, Time=0.15 sec\n",
      " ARIMA(0,1,3)(0,0,0)[0] intercept   : AIC=4309.311, Time=0.22 sec\n",
      " ARIMA(1,1,1)(0,0,0)[0] intercept   : AIC=4308.364, Time=0.16 sec\n"
     ]
    },
    {
     "name": "stderr",
     "output_type": "stream",
     "text": [
      "D:\\Programy\\anaconda\\lib\\site-packages\\statsmodels\\base\\model.py:568: ConvergenceWarning: Maximum Likelihood optimization failed to converge. Check mle_retvals\n",
      "  ConvergenceWarning)\n",
      "D:\\Programy\\anaconda\\lib\\site-packages\\statsmodels\\base\\model.py:568: ConvergenceWarning: Maximum Likelihood optimization failed to converge. Check mle_retvals\n",
      "  ConvergenceWarning)\n"
     ]
    },
    {
     "name": "stdout",
     "output_type": "stream",
     "text": [
      " ARIMA(1,1,3)(0,0,0)[0] intercept   : AIC=4311.319, Time=0.23 sec\n",
      " ARIMA(0,1,2)(0,0,0)[0]             : AIC=4305.937, Time=0.04 sec\n",
      " ARIMA(0,1,1)(0,0,0)[0]             : AIC=4315.816, Time=0.03 sec\n",
      " ARIMA(1,1,2)(0,0,0)[0]             : AIC=4307.685, Time=0.06 sec\n",
      " ARIMA(0,1,3)(0,0,0)[0]             : AIC=4307.607, Time=0.14 sec\n",
      " ARIMA(1,1,1)(0,0,0)[0]             : AIC=4306.819, Time=0.04 sec\n",
      " ARIMA(1,1,3)(0,0,0)[0]             : AIC=4309.796, Time=0.05 sec\n",
      "\n",
      "Best model:  ARIMA(0,1,2)(0,0,0)[0]          \n",
      "Total fit time: 1.586 seconds\n",
      "autoARIMA time: 0:00:01.592124\n",
      "(0, 1, 2)\n",
      "(0, 0, 0, 0)\n",
      "fit time = 0:00:00.038026\n",
      "##### Koniec dopasowania modelu dla godziny: 30\n",
      "#####\n",
      "##### startuje dopasowanie modelu dla godziny: 31\n",
      "Performing stepwise search to minimize aic\n"
     ]
    },
    {
     "name": "stderr",
     "output_type": "stream",
     "text": [
      "D:\\Programy\\anaconda\\lib\\site-packages\\statsmodels\\tsa\\base\\tsa_model.py:579: ValueWarning: An unsupported index was provided and will be ignored when e.g. forecasting.\n",
      "  ' ignored when e.g. forecasting.', ValueWarning)\n",
      "D:\\Programy\\anaconda\\lib\\site-packages\\statsmodels\\tsa\\base\\tsa_model.py:579: ValueWarning: An unsupported index was provided and will be ignored when e.g. forecasting.\n",
      "  ' ignored when e.g. forecasting.', ValueWarning)\n",
      "D:\\Programy\\anaconda\\lib\\site-packages\\statsmodels\\base\\model.py:568: ConvergenceWarning: Maximum Likelihood optimization failed to converge. Check mle_retvals\n",
      "  ConvergenceWarning)\n"
     ]
    },
    {
     "name": "stdout",
     "output_type": "stream",
     "text": [
      " ARIMA(2,1,2)(0,0,0)[0] intercept   : AIC=inf, Time=0.22 sec\n",
      " ARIMA(0,1,0)(0,0,0)[0] intercept   : AIC=4579.038, Time=0.02 sec\n",
      " ARIMA(1,1,0)(0,0,0)[0] intercept   : AIC=4556.230, Time=0.04 sec\n",
      " ARIMA(0,1,1)(0,0,0)[0] intercept   : AIC=4533.491, Time=0.03 sec\n",
      " ARIMA(0,1,0)(0,0,0)[0]             : AIC=4577.045, Time=0.01 sec\n",
      " ARIMA(1,1,1)(0,0,0)[0] intercept   : AIC=4524.230, Time=0.07 sec\n",
      " ARIMA(2,1,1)(0,0,0)[0] intercept   : AIC=4525.026, Time=0.10 sec\n",
      " ARIMA(1,1,2)(0,0,0)[0] intercept   : AIC=4525.813, Time=0.10 sec\n",
      " ARIMA(0,1,2)(0,0,0)[0] intercept   : AIC=4523.529, Time=0.15 sec\n",
      " ARIMA(0,1,3)(0,0,0)[0] intercept   : AIC=4526.528, Time=0.07 sec\n"
     ]
    },
    {
     "name": "stderr",
     "output_type": "stream",
     "text": [
      "D:\\Programy\\anaconda\\lib\\site-packages\\statsmodels\\base\\model.py:568: ConvergenceWarning: Maximum Likelihood optimization failed to converge. Check mle_retvals\n",
      "  ConvergenceWarning)\n"
     ]
    },
    {
     "name": "stdout",
     "output_type": "stream",
     "text": [
      " ARIMA(1,1,3)(0,0,0)[0] intercept   : AIC=4528.118, Time=0.24 sec\n",
      " ARIMA(0,1,2)(0,0,0)[0]             : AIC=4522.136, Time=0.05 sec\n",
      " ARIMA(0,1,1)(0,0,0)[0]             : AIC=4531.827, Time=0.02 sec\n",
      " ARIMA(1,1,2)(0,0,0)[0]             : AIC=4524.048, Time=0.06 sec\n",
      " ARIMA(0,1,3)(0,0,0)[0]             : AIC=4524.586, Time=0.05 sec\n",
      " ARIMA(1,1,1)(0,0,0)[0]             : AIC=4522.781, Time=0.05 sec\n",
      " ARIMA(1,1,3)(0,0,0)[0]             : AIC=4525.700, Time=0.13 sec\n",
      "\n",
      "Best model:  ARIMA(0,1,2)(0,0,0)[0]          \n",
      "Total fit time: 1.422 seconds\n",
      "autoARIMA time: 0:00:01.428008\n",
      "(0, 1, 2)\n",
      "(0, 0, 0, 0)\n",
      "fit time = 0:00:00.040026\n",
      "##### Koniec dopasowania modelu dla godziny: 31"
     ]
    },
    {
     "name": "stderr",
     "output_type": "stream",
     "text": [
      "D:\\Programy\\anaconda\\lib\\site-packages\\statsmodels\\tsa\\base\\tsa_model.py:579: ValueWarning: An unsupported index was provided and will be ignored when e.g. forecasting.\n",
      "  ' ignored when e.g. forecasting.', ValueWarning)\n",
      "D:\\Programy\\anaconda\\lib\\site-packages\\statsmodels\\tsa\\base\\tsa_model.py:579: ValueWarning: An unsupported index was provided and will be ignored when e.g. forecasting.\n",
      "  ' ignored when e.g. forecasting.', ValueWarning)\n"
     ]
    },
    {
     "name": "stdout",
     "output_type": "stream",
     "text": [
      "\n",
      "#####\n",
      "##### startuje dopasowanie modelu dla godziny: 32\n",
      "Performing stepwise search to minimize aic\n"
     ]
    },
    {
     "name": "stderr",
     "output_type": "stream",
     "text": [
      "D:\\Programy\\anaconda\\lib\\site-packages\\statsmodels\\base\\model.py:568: ConvergenceWarning: Maximum Likelihood optimization failed to converge. Check mle_retvals\n",
      "  ConvergenceWarning)\n"
     ]
    },
    {
     "name": "stdout",
     "output_type": "stream",
     "text": [
      " ARIMA(2,1,2)(0,0,0)[0] intercept   : AIC=4581.412, Time=0.23 sec\n",
      " ARIMA(0,1,0)(0,0,0)[0] intercept   : AIC=4636.931, Time=0.01 sec\n",
      " ARIMA(1,1,0)(0,0,0)[0] intercept   : AIC=4623.861, Time=0.04 sec\n",
      " ARIMA(0,1,1)(0,0,0)[0] intercept   : AIC=4602.498, Time=0.04 sec\n",
      " ARIMA(0,1,0)(0,0,0)[0]             : AIC=4634.940, Time=0.01 sec\n"
     ]
    },
    {
     "name": "stderr",
     "output_type": "stream",
     "text": [
      "D:\\Programy\\anaconda\\lib\\site-packages\\statsmodels\\base\\model.py:568: ConvergenceWarning: Maximum Likelihood optimization failed to converge. Check mle_retvals\n",
      "  ConvergenceWarning)\n"
     ]
    },
    {
     "name": "stdout",
     "output_type": "stream",
     "text": [
      " ARIMA(1,1,2)(0,0,0)[0] intercept   : AIC=4579.379, Time=0.22 sec\n",
      " ARIMA(0,1,2)(0,0,0)[0] intercept   : AIC=4578.105, Time=0.06 sec\n"
     ]
    },
    {
     "name": "stderr",
     "output_type": "stream",
     "text": [
      "D:\\Programy\\anaconda\\lib\\site-packages\\statsmodels\\base\\model.py:568: ConvergenceWarning: Maximum Likelihood optimization failed to converge. Check mle_retvals\n",
      "  ConvergenceWarning)\n",
      "D:\\Programy\\anaconda\\lib\\site-packages\\statsmodels\\base\\model.py:568: ConvergenceWarning: Maximum Likelihood optimization failed to converge. Check mle_retvals\n",
      "  ConvergenceWarning)\n"
     ]
    },
    {
     "name": "stdout",
     "output_type": "stream",
     "text": [
      " ARIMA(0,1,3)(0,0,0)[0] intercept   : AIC=4579.440, Time=0.20 sec\n",
      " ARIMA(1,1,1)(0,0,0)[0] intercept   : AIC=4580.611, Time=0.16 sec\n"
     ]
    },
    {
     "name": "stderr",
     "output_type": "stream",
     "text": [
      "D:\\Programy\\anaconda\\lib\\site-packages\\statsmodels\\base\\model.py:568: ConvergenceWarning: Maximum Likelihood optimization failed to converge. Check mle_retvals\n",
      "  ConvergenceWarning)\n"
     ]
    },
    {
     "name": "stdout",
     "output_type": "stream",
     "text": [
      " ARIMA(1,1,3)(0,0,0)[0] intercept   : AIC=4581.394, Time=0.24 sec\n",
      " ARIMA(0,1,2)(0,0,0)[0]             : AIC=4576.521, Time=0.04 sec\n",
      " ARIMA(0,1,1)(0,0,0)[0]             : AIC=4600.932, Time=0.03 sec\n",
      " ARIMA(1,1,2)(0,0,0)[0]             : AIC=4578.439, Time=0.06 sec\n",
      " ARIMA(0,1,3)(0,0,0)[0]             : AIC=4578.521, Time=0.07 sec\n",
      " ARIMA(1,1,1)(0,0,0)[0]             : AIC=4579.783, Time=0.07 sec\n",
      " ARIMA(1,1,3)(0,0,0)[0]             : AIC=4580.498, Time=0.14 sec\n",
      "\n",
      "Best model:  ARIMA(0,1,2)(0,0,0)[0]          \n",
      "Total fit time: 1.630 seconds\n",
      "autoARIMA time: 0:00:01.638158\n",
      "(0, 1, 2)\n",
      "(0, 0, 0, 0)\n",
      "fit time = 0:00:00.056038\n",
      "##### Koniec dopasowania modelu dla godziny: 32\n",
      "#####\n",
      "##### startuje dopasowanie modelu dla godziny: 33\n",
      "Performing stepwise search to minimize aic\n"
     ]
    },
    {
     "name": "stderr",
     "output_type": "stream",
     "text": [
      "D:\\Programy\\anaconda\\lib\\site-packages\\statsmodels\\tsa\\base\\tsa_model.py:579: ValueWarning: An unsupported index was provided and will be ignored when e.g. forecasting.\n",
      "  ' ignored when e.g. forecasting.', ValueWarning)\n",
      "D:\\Programy\\anaconda\\lib\\site-packages\\statsmodels\\tsa\\base\\tsa_model.py:579: ValueWarning: An unsupported index was provided and will be ignored when e.g. forecasting.\n",
      "  ' ignored when e.g. forecasting.', ValueWarning)\n",
      "D:\\Programy\\anaconda\\lib\\site-packages\\statsmodels\\base\\model.py:568: ConvergenceWarning: Maximum Likelihood optimization failed to converge. Check mle_retvals\n",
      "  ConvergenceWarning)\n"
     ]
    },
    {
     "name": "stdout",
     "output_type": "stream",
     "text": [
      " ARIMA(2,1,2)(0,0,0)[0] intercept   : AIC=4358.724, Time=0.22 sec\n",
      " ARIMA(0,1,0)(0,0,0)[0] intercept   : AIC=4415.845, Time=0.01 sec\n",
      " ARIMA(1,1,0)(0,0,0)[0] intercept   : AIC=4393.518, Time=0.05 sec\n",
      " ARIMA(0,1,1)(0,0,0)[0] intercept   : AIC=4373.711, Time=0.04 sec\n",
      " ARIMA(0,1,0)(0,0,0)[0]             : AIC=4413.854, Time=0.01 sec\n"
     ]
    },
    {
     "name": "stderr",
     "output_type": "stream",
     "text": [
      "D:\\Programy\\anaconda\\lib\\site-packages\\statsmodels\\base\\model.py:568: ConvergenceWarning: Maximum Likelihood optimization failed to converge. Check mle_retvals\n",
      "  ConvergenceWarning)\n",
      "D:\\Programy\\anaconda\\lib\\site-packages\\statsmodels\\base\\model.py:568: ConvergenceWarning: Maximum Likelihood optimization failed to converge. Check mle_retvals\n",
      "  ConvergenceWarning)\n"
     ]
    },
    {
     "name": "stdout",
     "output_type": "stream",
     "text": [
      " ARIMA(1,1,2)(0,0,0)[0] intercept   : AIC=4358.712, Time=0.20 sec\n"
     ]
    },
    {
     "name": "stderr",
     "output_type": "stream",
     "text": [
      "D:\\Programy\\anaconda\\lib\\site-packages\\statsmodels\\base\\model.py:568: ConvergenceWarning: Maximum Likelihood optimization failed to converge. Check mle_retvals\n",
      "  ConvergenceWarning)\n"
     ]
    },
    {
     "name": "stdout",
     "output_type": "stream",
     "text": [
      " ARIMA(0,1,2)(0,0,0)[0] intercept   : AIC=4357.518, Time=0.20 sec\n"
     ]
    },
    {
     "name": "stderr",
     "output_type": "stream",
     "text": [
      "D:\\Programy\\anaconda\\lib\\site-packages\\statsmodels\\base\\model.py:568: ConvergenceWarning: Maximum Likelihood optimization failed to converge. Check mle_retvals\n",
      "  ConvergenceWarning)\n"
     ]
    },
    {
     "name": "stdout",
     "output_type": "stream",
     "text": [
      " ARIMA(0,1,3)(0,0,0)[0] intercept   : AIC=4358.780, Time=0.20 sec\n",
      " ARIMA(1,1,1)(0,0,0)[0] intercept   : AIC=4356.696, Time=0.15 sec\n"
     ]
    },
    {
     "name": "stderr",
     "output_type": "stream",
     "text": [
      "D:\\Programy\\anaconda\\lib\\site-packages\\statsmodels\\base\\model.py:568: ConvergenceWarning: Maximum Likelihood optimization failed to converge. Check mle_retvals\n",
      "  ConvergenceWarning)\n"
     ]
    },
    {
     "name": "stdout",
     "output_type": "stream",
     "text": [
      " ARIMA(2,1,1)(0,0,0)[0] intercept   : AIC=4358.564, Time=0.19 sec\n",
      " ARIMA(2,1,0)(0,0,0)[0] intercept   : AIC=4382.219, Time=0.06 sec\n",
      " ARIMA(1,1,1)(0,0,0)[0]             : AIC=4356.049, Time=0.04 sec\n",
      " ARIMA(0,1,1)(0,0,0)[0]             : AIC=4372.127, Time=0.03 sec\n",
      " ARIMA(1,1,0)(0,0,0)[0]             : AIC=4391.556, Time=0.03 sec\n",
      " ARIMA(2,1,1)(0,0,0)[0]             : AIC=4357.831, Time=0.08 sec\n",
      " ARIMA(1,1,2)(0,0,0)[0]             : AIC=4357.617, Time=0.08 sec\n",
      " ARIMA(0,1,2)(0,0,0)[0]             : AIC=4356.633, Time=0.05 sec\n",
      " ARIMA(2,1,0)(0,0,0)[0]             : AIC=4380.341, Time=0.03 sec\n"
     ]
    },
    {
     "name": "stderr",
     "output_type": "stream",
     "text": [
      "D:\\Programy\\anaconda\\lib\\site-packages\\statsmodels\\base\\model.py:568: ConvergenceWarning: Maximum Likelihood optimization failed to converge. Check mle_retvals\n",
      "  ConvergenceWarning)\n",
      "D:\\Programy\\anaconda\\lib\\site-packages\\statsmodels\\tsa\\base\\tsa_model.py:579: ValueWarning: An unsupported index was provided and will be ignored when e.g. forecasting.\n",
      "  ' ignored when e.g. forecasting.', ValueWarning)\n",
      "D:\\Programy\\anaconda\\lib\\site-packages\\statsmodels\\tsa\\base\\tsa_model.py:579: ValueWarning: An unsupported index was provided and will be ignored when e.g. forecasting.\n",
      "  ' ignored when e.g. forecasting.', ValueWarning)\n"
     ]
    },
    {
     "name": "stdout",
     "output_type": "stream",
     "text": [
      " ARIMA(2,1,2)(0,0,0)[0]             : AIC=4357.808, Time=0.16 sec\n",
      "\n",
      "Best model:  ARIMA(1,1,1)(0,0,0)[0]          \n",
      "Total fit time: 1.866 seconds\n",
      "autoARIMA time: 0:00:01.872324\n",
      "(1, 1, 1)\n",
      "(0, 0, 0, 0)\n",
      "fit time = 0:00:00.056039\n",
      "##### Koniec dopasowania modelu dla godziny: 33\n",
      "#####\n",
      "##### startuje dopasowanie modelu dla godziny: 34\n",
      "Performing stepwise search to minimize aic\n",
      " ARIMA(2,1,2)(0,0,0)[0] intercept   : AIC=4175.795, Time=0.17 sec\n",
      " ARIMA(0,1,0)(0,0,0)[0] intercept   : AIC=4239.500, Time=0.01 sec\n",
      " ARIMA(1,1,0)(0,0,0)[0] intercept   : AIC=4218.879, Time=0.04 sec\n",
      " ARIMA(0,1,1)(0,0,0)[0] intercept   : AIC=4190.933, Time=0.09 sec\n",
      " ARIMA(0,1,0)(0,0,0)[0]             : AIC=4237.504, Time=0.01 sec\n",
      " ARIMA(1,1,2)(0,0,0)[0] intercept   : AIC=4173.793, Time=0.10 sec\n",
      " ARIMA(0,1,2)(0,0,0)[0] intercept   : AIC=4180.833, Time=0.05 sec\n",
      " ARIMA(1,1,1)(0,0,0)[0] intercept   : AIC=4184.872, Time=0.11 sec\n",
      " ARIMA(1,1,3)(0,0,0)[0] intercept   : AIC=4175.840, Time=0.16 sec\n",
      " ARIMA(0,1,3)(0,0,0)[0] intercept   : AIC=4177.554, Time=0.08 sec\n",
      " ARIMA(2,1,1)(0,0,0)[0] intercept   : AIC=4181.733, Time=0.08 sec\n",
      " ARIMA(2,1,3)(0,0,0)[0] intercept   : AIC=4177.835, Time=0.15 sec\n",
      " ARIMA(1,1,2)(0,0,0)[0]             : AIC=4172.138, Time=0.06 sec\n",
      " ARIMA(0,1,2)(0,0,0)[0]             : AIC=4179.106, Time=0.03 sec\n",
      " ARIMA(1,1,1)(0,0,0)[0]             : AIC=4183.240, Time=0.04 sec\n",
      " ARIMA(2,1,2)(0,0,0)[0]             : AIC=4174.140, Time=0.11 sec\n",
      " ARIMA(1,1,3)(0,0,0)[0]             : AIC=4174.179, Time=0.11 sec\n",
      " ARIMA(0,1,1)(0,0,0)[0]             : AIC=4189.170, Time=0.05 sec\n",
      " ARIMA(0,1,3)(0,0,0)[0]             : AIC=4175.679, Time=0.06 sec\n",
      " ARIMA(2,1,1)(0,0,0)[0]             : AIC=4180.042, Time=0.06 sec\n",
      " ARIMA(2,1,3)(0,0,0)[0]             : AIC=4176.181, Time=0.11 sec\n",
      "\n",
      "Best model:  ARIMA(1,1,2)(0,0,0)[0]          \n",
      "Total fit time: 1.701 seconds\n",
      "autoARIMA time: 0:00:01.710210\n",
      "(1, 1, 2)\n",
      "(0, 0, 0, 0)\n",
      "fit time = 0:00:00.079055\n",
      "##### Koniec dopasowania modelu dla godziny: 34\n",
      "#####\n",
      "##### startuje dopasowanie modelu dla godziny: 35\n",
      "Performing stepwise search to minimize aic\n"
     ]
    },
    {
     "name": "stderr",
     "output_type": "stream",
     "text": [
      "D:\\Programy\\anaconda\\lib\\site-packages\\statsmodels\\tsa\\base\\tsa_model.py:579: ValueWarning: An unsupported index was provided and will be ignored when e.g. forecasting.\n",
      "  ' ignored when e.g. forecasting.', ValueWarning)\n",
      "D:\\Programy\\anaconda\\lib\\site-packages\\statsmodels\\tsa\\base\\tsa_model.py:579: ValueWarning: An unsupported index was provided and will be ignored when e.g. forecasting.\n",
      "  ' ignored when e.g. forecasting.', ValueWarning)\n"
     ]
    },
    {
     "name": "stdout",
     "output_type": "stream",
     "text": [
      " ARIMA(2,1,2)(0,0,0)[0] intercept   : AIC=4641.923, Time=0.20 sec\n",
      " ARIMA(0,1,0)(0,0,0)[0] intercept   : AIC=4720.592, Time=0.01 sec\n",
      " ARIMA(1,1,0)(0,0,0)[0] intercept   : AIC=4688.531, Time=0.05 sec\n",
      " ARIMA(0,1,1)(0,0,0)[0] intercept   : AIC=4645.401, Time=0.05 sec\n",
      " ARIMA(0,1,0)(0,0,0)[0]             : AIC=4718.596, Time=0.01 sec\n",
      " ARIMA(1,1,2)(0,0,0)[0] intercept   : AIC=4639.844, Time=0.11 sec\n",
      " ARIMA(0,1,2)(0,0,0)[0] intercept   : AIC=4639.409, Time=0.06 sec\n",
      " ARIMA(0,1,3)(0,0,0)[0] intercept   : AIC=4640.498, Time=0.09 sec\n"
     ]
    },
    {
     "name": "stderr",
     "output_type": "stream",
     "text": [
      "D:\\Programy\\anaconda\\lib\\site-packages\\statsmodels\\base\\model.py:568: ConvergenceWarning: Maximum Likelihood optimization failed to converge. Check mle_retvals\n",
      "  ConvergenceWarning)\n"
     ]
    },
    {
     "name": "stdout",
     "output_type": "stream",
     "text": [
      " ARIMA(1,1,1)(0,0,0)[0] intercept   : AIC=4640.470, Time=0.17 sec\n",
      " ARIMA(1,1,3)(0,0,0)[0] intercept   : AIC=4641.841, Time=0.22 sec\n",
      " ARIMA(0,1,2)(0,0,0)[0]             : AIC=4638.094, Time=0.04 sec\n",
      " ARIMA(0,1,1)(0,0,0)[0]             : AIC=4643.990, Time=0.03 sec\n",
      " ARIMA(1,1,2)(0,0,0)[0]             : AIC=4638.658, Time=0.07 sec\n",
      " ARIMA(0,1,3)(0,0,0)[0]             : AIC=4639.006, Time=0.06 sec\n",
      " ARIMA(1,1,1)(0,0,0)[0]             : AIC=4639.396, Time=0.06 sec\n",
      " ARIMA(1,1,3)(0,0,0)[0]             : AIC=4640.646, Time=0.16 sec\n",
      "\n",
      "Best model:  ARIMA(0,1,2)(0,0,0)[0]          \n",
      "Total fit time: 1.394 seconds\n",
      "autoARIMA time: 0:00:01.399989\n",
      "(0, 1, 2)\n",
      "(0, 0, 0, 0)\n",
      "fit time = 0:00:00.053038\n",
      "##### Koniec dopasowania modelu dla godziny: 35\n",
      "#####\n",
      "##### startuje dopasowanie modelu dla godziny: 36\n",
      "Performing stepwise search to minimize aic\n"
     ]
    },
    {
     "name": "stderr",
     "output_type": "stream",
     "text": [
      "D:\\Programy\\anaconda\\lib\\site-packages\\statsmodels\\tsa\\base\\tsa_model.py:579: ValueWarning: An unsupported index was provided and will be ignored when e.g. forecasting.\n",
      "  ' ignored when e.g. forecasting.', ValueWarning)\n",
      "D:\\Programy\\anaconda\\lib\\site-packages\\statsmodels\\tsa\\base\\tsa_model.py:579: ValueWarning: An unsupported index was provided and will be ignored when e.g. forecasting.\n",
      "  ' ignored when e.g. forecasting.', ValueWarning)\n",
      "D:\\Programy\\anaconda\\lib\\site-packages\\statsmodels\\base\\model.py:568: ConvergenceWarning: Maximum Likelihood optimization failed to converge. Check mle_retvals\n",
      "  ConvergenceWarning)\n"
     ]
    },
    {
     "name": "stdout",
     "output_type": "stream",
     "text": [
      " ARIMA(2,1,2)(0,0,0)[0] intercept   : AIC=4602.426, Time=0.21 sec\n",
      " ARIMA(0,1,0)(0,0,0)[0] intercept   : AIC=4661.397, Time=0.02 sec\n",
      " ARIMA(1,1,0)(0,0,0)[0] intercept   : AIC=4640.160, Time=0.04 sec\n",
      " ARIMA(0,1,1)(0,0,0)[0] intercept   : AIC=4617.022, Time=0.04 sec\n",
      " ARIMA(0,1,0)(0,0,0)[0]             : AIC=4659.405, Time=0.01 sec\n"
     ]
    },
    {
     "name": "stderr",
     "output_type": "stream",
     "text": [
      "D:\\Programy\\anaconda\\lib\\site-packages\\statsmodels\\base\\model.py:568: ConvergenceWarning: Maximum Likelihood optimization failed to converge. Check mle_retvals\n",
      "  ConvergenceWarning)\n"
     ]
    },
    {
     "name": "stdout",
     "output_type": "stream",
     "text": [
      " ARIMA(1,1,2)(0,0,0)[0] intercept   : AIC=4600.192, Time=0.22 sec\n",
      " ARIMA(0,1,2)(0,0,0)[0] intercept   : AIC=4599.532, Time=0.06 sec\n"
     ]
    },
    {
     "name": "stderr",
     "output_type": "stream",
     "text": [
      "D:\\Programy\\anaconda\\lib\\site-packages\\statsmodels\\base\\model.py:568: ConvergenceWarning: Maximum Likelihood optimization failed to converge. Check mle_retvals\n",
      "  ConvergenceWarning)\n",
      "D:\\Programy\\anaconda\\lib\\site-packages\\statsmodels\\base\\model.py:568: ConvergenceWarning: Maximum Likelihood optimization failed to converge. Check mle_retvals\n",
      "  ConvergenceWarning)\n"
     ]
    },
    {
     "name": "stdout",
     "output_type": "stream",
     "text": [
      " ARIMA(0,1,3)(0,0,0)[0] intercept   : AIC=4600.121, Time=0.22 sec\n",
      " ARIMA(1,1,1)(0,0,0)[0] intercept   : AIC=4598.838, Time=0.17 sec\n"
     ]
    },
    {
     "name": "stderr",
     "output_type": "stream",
     "text": [
      "D:\\Programy\\anaconda\\lib\\site-packages\\statsmodels\\base\\model.py:568: ConvergenceWarning: Maximum Likelihood optimization failed to converge. Check mle_retvals\n",
      "  ConvergenceWarning)\n"
     ]
    },
    {
     "name": "stdout",
     "output_type": "stream",
     "text": [
      " ARIMA(2,1,1)(0,0,0)[0] intercept   : AIC=4600.449, Time=0.19 sec\n",
      " ARIMA(2,1,0)(0,0,0)[0] intercept   : AIC=4626.674, Time=0.05 sec\n",
      " ARIMA(1,1,1)(0,0,0)[0]             : AIC=4598.010, Time=0.06 sec\n",
      " ARIMA(0,1,1)(0,0,0)[0]             : AIC=4615.431, Time=0.02 sec\n",
      " ARIMA(1,1,0)(0,0,0)[0]             : AIC=4638.199, Time=0.02 sec\n",
      " ARIMA(2,1,1)(0,0,0)[0]             : AIC=4599.481, Time=0.08 sec\n",
      " ARIMA(1,1,2)(0,0,0)[0]             : AIC=4599.093, Time=0.09 sec\n",
      " ARIMA(0,1,2)(0,0,0)[0]             : AIC=4598.182, Time=0.13 sec\n",
      " ARIMA(2,1,0)(0,0,0)[0]             : AIC=4624.744, Time=0.03 sec\n"
     ]
    },
    {
     "name": "stderr",
     "output_type": "stream",
     "text": [
      "D:\\Programy\\anaconda\\lib\\site-packages\\statsmodels\\base\\model.py:568: ConvergenceWarning: Maximum Likelihood optimization failed to converge. Check mle_retvals\n",
      "  ConvergenceWarning)\n",
      "D:\\Programy\\anaconda\\lib\\site-packages\\statsmodels\\tsa\\base\\tsa_model.py:579: ValueWarning: An unsupported index was provided and will be ignored when e.g. forecasting.\n",
      "  ' ignored when e.g. forecasting.', ValueWarning)\n",
      "D:\\Programy\\anaconda\\lib\\site-packages\\statsmodels\\tsa\\base\\tsa_model.py:579: ValueWarning: An unsupported index was provided and will be ignored when e.g. forecasting.\n",
      "  ' ignored when e.g. forecasting.', ValueWarning)\n"
     ]
    },
    {
     "name": "stdout",
     "output_type": "stream",
     "text": [
      " ARIMA(2,1,2)(0,0,0)[0]             : AIC=4601.386, Time=0.17 sec\n",
      "\n",
      "Best model:  ARIMA(1,1,1)(0,0,0)[0]          \n",
      "Total fit time: 1.853 seconds\n",
      "autoARIMA time: 0:00:01.860315\n",
      "(1, 1, 1)\n",
      "(0, 0, 0, 0)\n",
      "fit time = 0:00:00.121086\n",
      "##### Koniec dopasowania modelu dla godziny: 36\n",
      "#####\n",
      "##### startuje dopasowanie modelu dla godziny: 37\n",
      "Performing stepwise search to minimize aic\n"
     ]
    },
    {
     "name": "stderr",
     "output_type": "stream",
     "text": [
      "D:\\Programy\\anaconda\\lib\\site-packages\\statsmodels\\base\\model.py:568: ConvergenceWarning: Maximum Likelihood optimization failed to converge. Check mle_retvals\n",
      "  ConvergenceWarning)\n"
     ]
    },
    {
     "name": "stdout",
     "output_type": "stream",
     "text": [
      " ARIMA(2,1,2)(0,0,0)[0] intercept   : AIC=4516.264, Time=0.22 sec\n",
      " ARIMA(0,1,0)(0,0,0)[0] intercept   : AIC=4575.231, Time=0.02 sec\n",
      " ARIMA(1,1,0)(0,0,0)[0] intercept   : AIC=4544.302, Time=0.04 sec\n",
      " ARIMA(0,1,1)(0,0,0)[0] intercept   : AIC=4522.935, Time=0.12 sec\n",
      " ARIMA(0,1,0)(0,0,0)[0]             : AIC=4573.237, Time=0.01 sec\n",
      " ARIMA(1,1,2)(0,0,0)[0] intercept   : AIC=4514.956, Time=0.19 sec"
     ]
    },
    {
     "name": "stderr",
     "output_type": "stream",
     "text": [
      "D:\\Programy\\anaconda\\lib\\site-packages\\statsmodels\\base\\model.py:568: ConvergenceWarning: Maximum Likelihood optimization failed to converge. Check mle_retvals\n",
      "  ConvergenceWarning)\n"
     ]
    },
    {
     "name": "stdout",
     "output_type": "stream",
     "text": [
      "\n",
      " ARIMA(0,1,2)(0,0,0)[0] intercept   : AIC=4513.773, Time=0.16 sec\n"
     ]
    },
    {
     "name": "stderr",
     "output_type": "stream",
     "text": [
      "D:\\Programy\\anaconda\\lib\\site-packages\\statsmodels\\base\\model.py:568: ConvergenceWarning: Maximum Likelihood optimization failed to converge. Check mle_retvals\n",
      "  ConvergenceWarning)\n",
      "D:\\Programy\\anaconda\\lib\\site-packages\\statsmodels\\base\\model.py:568: ConvergenceWarning: Maximum Likelihood optimization failed to converge. Check mle_retvals\n",
      "  ConvergenceWarning)\n"
     ]
    },
    {
     "name": "stdout",
     "output_type": "stream",
     "text": [
      " ARIMA(0,1,3)(0,0,0)[0] intercept   : AIC=4513.919, Time=0.22 sec\n",
      " ARIMA(1,1,1)(0,0,0)[0] intercept   : AIC=4512.570, Time=0.18 sec\n",
      " ARIMA(2,1,1)(0,0,0)[0] intercept   : AIC=4514.652, Time=0.11 sec\n",
      " ARIMA(2,1,0)(0,0,0)[0] intercept   : AIC=4536.250, Time=0.16 sec\n",
      " ARIMA(1,1,1)(0,0,0)[0]             : AIC=4511.515, Time=0.07 sec\n",
      " ARIMA(0,1,1)(0,0,0)[0]             : AIC=4521.386, Time=0.03 sec\n",
      " ARIMA(1,1,0)(0,0,0)[0]             : AIC=4542.341, Time=0.03 sec\n",
      " ARIMA(2,1,1)(0,0,0)[0]             : AIC=4513.514, Time=0.08 sec\n",
      " ARIMA(1,1,2)(0,0,0)[0]             : AIC=4513.254, Time=0.09 sec\n",
      " ARIMA(0,1,2)(0,0,0)[0]             : AIC=4512.542, Time=0.05 sec\n",
      " ARIMA(2,1,0)(0,0,0)[0]             : AIC=4534.368, Time=0.09 sec\n",
      " ARIMA(2,1,2)(0,0,0)[0]             : AIC=4515.142, Time=0.07 sec\n",
      "\n",
      "Best model:  ARIMA(1,1,1)(0,0,0)[0]          \n",
      "Total fit time: 1.927 seconds\n",
      "autoARIMA time: 0:00:01.933365\n",
      "(1, 1, 1)\n",
      "(0, 0, 0, 0)\n",
      "fit time = 0:00:00.060044\n",
      "##### Koniec dopasowania modelu dla godziny: 37\n",
      "#####\n",
      "##### startuje dopasowanie modelu dla godziny: 38\n",
      "Performing stepwise search to minimize aic\n"
     ]
    },
    {
     "name": "stderr",
     "output_type": "stream",
     "text": [
      "D:\\Programy\\anaconda\\lib\\site-packages\\statsmodels\\tsa\\base\\tsa_model.py:579: ValueWarning: An unsupported index was provided and will be ignored when e.g. forecasting.\n",
      "  ' ignored when e.g. forecasting.', ValueWarning)\n",
      "D:\\Programy\\anaconda\\lib\\site-packages\\statsmodels\\tsa\\base\\tsa_model.py:579: ValueWarning: An unsupported index was provided and will be ignored when e.g. forecasting.\n",
      "  ' ignored when e.g. forecasting.', ValueWarning)\n",
      "D:\\Programy\\anaconda\\lib\\site-packages\\statsmodels\\tsa\\statespace\\sarimax.py:966: UserWarning: Non-stationary starting autoregressive parameters found. Using zeros as starting parameters.\n",
      "  warn('Non-stationary starting autoregressive parameters'\n",
      "D:\\Programy\\anaconda\\lib\\site-packages\\statsmodels\\tsa\\statespace\\sarimax.py:978: UserWarning: Non-invertible starting MA parameters found. Using zeros as starting parameters.\n",
      "  warn('Non-invertible starting MA parameters found.'\n"
     ]
    },
    {
     "name": "stdout",
     "output_type": "stream",
     "text": [
      " ARIMA(2,1,2)(0,0,0)[0] intercept   : AIC=4605.685, Time=0.21 sec\n",
      " ARIMA(0,1,0)(0,0,0)[0] intercept   : AIC=4664.543, Time=0.02 sec\n",
      " ARIMA(1,1,0)(0,0,0)[0] intercept   : AIC=4639.897, Time=0.05 sec\n"
     ]
    },
    {
     "name": "stderr",
     "output_type": "stream",
     "text": [
      "D:\\Programy\\anaconda\\lib\\site-packages\\statsmodels\\base\\model.py:568: ConvergenceWarning: Maximum Likelihood optimization failed to converge. Check mle_retvals\n",
      "  ConvergenceWarning)\n",
      "D:\\Programy\\anaconda\\lib\\site-packages\\statsmodels\\base\\model.py:568: ConvergenceWarning: Maximum Likelihood optimization failed to converge. Check mle_retvals\n",
      "  ConvergenceWarning)\n"
     ]
    },
    {
     "name": "stdout",
     "output_type": "stream",
     "text": [
      " ARIMA(0,1,1)(0,0,0)[0] intercept   : AIC=4613.836, Time=0.13 sec\n",
      " ARIMA(0,1,0)(0,0,0)[0]             : AIC=4662.551, Time=0.01 sec\n",
      " ARIMA(1,1,2)(0,0,0)[0] intercept   : AIC=4603.744, Time=0.17 sec"
     ]
    },
    {
     "name": "stderr",
     "output_type": "stream",
     "text": [
      "D:\\Programy\\anaconda\\lib\\site-packages\\statsmodels\\base\\model.py:568: ConvergenceWarning: Maximum Likelihood optimization failed to converge. Check mle_retvals\n",
      "  ConvergenceWarning)\n"
     ]
    },
    {
     "name": "stdout",
     "output_type": "stream",
     "text": [
      "\n",
      " ARIMA(0,1,2)(0,0,0)[0] intercept   : AIC=4601.739, Time=0.16 sec\n"
     ]
    },
    {
     "name": "stderr",
     "output_type": "stream",
     "text": [
      "D:\\Programy\\anaconda\\lib\\site-packages\\statsmodels\\base\\model.py:568: ConvergenceWarning: Maximum Likelihood optimization failed to converge. Check mle_retvals\n",
      "  ConvergenceWarning)\n"
     ]
    },
    {
     "name": "stdout",
     "output_type": "stream",
     "text": [
      " ARIMA(0,1,3)(0,0,0)[0] intercept   : AIC=4603.771, Time=0.21 sec\n",
      " ARIMA(1,1,1)(0,0,0)[0] intercept   : AIC=4601.395, Time=0.15 sec\n",
      " ARIMA(2,1,1)(0,0,0)[0] intercept   : AIC=4603.016, Time=0.10 sec\n",
      " ARIMA(2,1,0)(0,0,0)[0] intercept   : AIC=4626.882, Time=0.05 sec\n",
      " ARIMA(1,1,1)(0,0,0)[0]             : AIC=4600.397, Time=0.04 sec\n",
      " ARIMA(0,1,1)(0,0,0)[0]             : AIC=4612.397, Time=0.03 sec\n",
      " ARIMA(1,1,0)(0,0,0)[0]             : AIC=4637.933, Time=0.03 sec\n",
      " ARIMA(2,1,1)(0,0,0)[0]             : AIC=4601.908, Time=0.07 sec\n",
      " ARIMA(1,1,2)(0,0,0)[0]             : AIC=4602.186, Time=0.09 sec\n",
      " ARIMA(0,1,2)(0,0,0)[0]             : AIC=4600.615, Time=0.04 sec\n",
      " ARIMA(2,1,0)(0,0,0)[0]             : AIC=4624.957, Time=0.03 sec\n"
     ]
    },
    {
     "name": "stderr",
     "output_type": "stream",
     "text": [
      "D:\\Programy\\anaconda\\lib\\site-packages\\statsmodels\\tsa\\statespace\\sarimax.py:966: UserWarning: Non-stationary starting autoregressive parameters found. Using zeros as starting parameters.\n",
      "  warn('Non-stationary starting autoregressive parameters'\n",
      "D:\\Programy\\anaconda\\lib\\site-packages\\statsmodels\\tsa\\statespace\\sarimax.py:978: UserWarning: Non-invertible starting MA parameters found. Using zeros as starting parameters.\n",
      "  warn('Non-invertible starting MA parameters found.'\n",
      "D:\\Programy\\anaconda\\lib\\site-packages\\statsmodels\\base\\model.py:568: ConvergenceWarning: Maximum Likelihood optimization failed to converge. Check mle_retvals\n",
      "  ConvergenceWarning)\n"
     ]
    },
    {
     "name": "stdout",
     "output_type": "stream",
     "text": [
      " ARIMA(2,1,2)(0,0,0)[0]             : AIC=4604.113, Time=0.19 sec\n",
      "\n",
      "Best model:  ARIMA(1,1,1)(0,0,0)[0]          \n",
      "Total fit time: 1.789 seconds\n",
      "autoARIMA time: 0:00:01.796270\n",
      "(1, 1, 1)\n",
      "(0, 0, 0, 0)\n",
      "fit time = 0:00:00.063044\n",
      "##### Koniec dopasowania modelu dla godziny: 38\n",
      "#####\n",
      "##### startuje dopasowanie modelu dla godziny: 39\n",
      "Performing stepwise search to minimize aic\n"
     ]
    },
    {
     "name": "stderr",
     "output_type": "stream",
     "text": [
      "D:\\Programy\\anaconda\\lib\\site-packages\\statsmodels\\tsa\\base\\tsa_model.py:579: ValueWarning: An unsupported index was provided and will be ignored when e.g. forecasting.\n",
      "  ' ignored when e.g. forecasting.', ValueWarning)\n",
      "D:\\Programy\\anaconda\\lib\\site-packages\\statsmodels\\tsa\\base\\tsa_model.py:579: ValueWarning: An unsupported index was provided and will be ignored when e.g. forecasting.\n",
      "  ' ignored when e.g. forecasting.', ValueWarning)\n"
     ]
    },
    {
     "name": "stdout",
     "output_type": "stream",
     "text": [
      " ARIMA(2,1,2)(0,0,0)[0] intercept   : AIC=4493.353, Time=0.19 sec\n",
      " ARIMA(0,1,0)(0,0,0)[0] intercept   : AIC=4541.085, Time=0.01 sec\n",
      " ARIMA(1,1,0)(0,0,0)[0] intercept   : AIC=4531.072, Time=0.04 sec\n",
      " ARIMA(0,1,1)(0,0,0)[0] intercept   : AIC=4519.016, Time=0.12 sec\n",
      " ARIMA(0,1,0)(0,0,0)[0]             : AIC=4539.093, Time=0.01 sec\n"
     ]
    },
    {
     "name": "stderr",
     "output_type": "stream",
     "text": [
      "D:\\Programy\\anaconda\\lib\\site-packages\\statsmodels\\base\\model.py:568: ConvergenceWarning: Maximum Likelihood optimization failed to converge. Check mle_retvals\n",
      "  ConvergenceWarning)\n",
      "D:\\Programy\\anaconda\\lib\\site-packages\\statsmodels\\base\\model.py:568: ConvergenceWarning: Maximum Likelihood optimization failed to converge. Check mle_retvals\n",
      "  ConvergenceWarning)\n"
     ]
    },
    {
     "name": "stdout",
     "output_type": "stream",
     "text": [
      " ARIMA(1,1,2)(0,0,0)[0] intercept   : AIC=4494.810, Time=0.19 sec\n",
      " ARIMA(2,1,1)(0,0,0)[0] intercept   : AIC=4495.543, Time=0.20 sec\n",
      " ARIMA(3,1,2)(0,0,0)[0] intercept   : AIC=4495.356, Time=0.23 sec\n"
     ]
    },
    {
     "name": "stderr",
     "output_type": "stream",
     "text": [
      "D:\\Programy\\anaconda\\lib\\site-packages\\statsmodels\\base\\model.py:568: ConvergenceWarning: Maximum Likelihood optimization failed to converge. Check mle_retvals\n",
      "  ConvergenceWarning)\n",
      "D:\\Programy\\anaconda\\lib\\site-packages\\statsmodels\\base\\model.py:568: ConvergenceWarning: Maximum Likelihood optimization failed to converge. Check mle_retvals\n",
      "  ConvergenceWarning)\n"
     ]
    },
    {
     "name": "stdout",
     "output_type": "stream",
     "text": [
      " ARIMA(2,1,3)(0,0,0)[0] intercept   : AIC=4495.390, Time=0.24 sec\n",
      " ARIMA(1,1,1)(0,0,0)[0] intercept   : AIC=4496.005, Time=0.15 sec\n"
     ]
    },
    {
     "name": "stderr",
     "output_type": "stream",
     "text": [
      "D:\\Programy\\anaconda\\lib\\site-packages\\statsmodels\\base\\model.py:568: ConvergenceWarning: Maximum Likelihood optimization failed to converge. Check mle_retvals\n",
      "  ConvergenceWarning)\n"
     ]
    },
    {
     "name": "stdout",
     "output_type": "stream",
     "text": [
      " ARIMA(1,1,3)(0,0,0)[0] intercept   : AIC=4495.336, Time=0.27 sec\n",
      " ARIMA(3,1,1)(0,0,0)[0] intercept   : AIC=4497.468, Time=0.15 sec\n"
     ]
    },
    {
     "name": "stderr",
     "output_type": "stream",
     "text": [
      "D:\\Programy\\anaconda\\lib\\site-packages\\statsmodels\\base\\model.py:568: ConvergenceWarning: Maximum Likelihood optimization failed to converge. Check mle_retvals\n",
      "  ConvergenceWarning)\n"
     ]
    },
    {
     "name": "stdout",
     "output_type": "stream",
     "text": [
      " ARIMA(3,1,3)(0,0,0)[0] intercept   : AIC=4496.465, Time=0.34 sec\n",
      " ARIMA(2,1,2)(0,0,0)[0]             : AIC=4492.310, Time=0.10 sec\n",
      " ARIMA(1,1,2)(0,0,0)[0]             : AIC=4493.668, Time=0.07 sec\n",
      " ARIMA(2,1,1)(0,0,0)[0]             : AIC=4494.541, Time=0.10 sec\n",
      " ARIMA(3,1,2)(0,0,0)[0]             : AIC=4494.311, Time=0.14 sec\n"
     ]
    },
    {
     "name": "stderr",
     "output_type": "stream",
     "text": [
      "D:\\Programy\\anaconda\\lib\\site-packages\\statsmodels\\base\\model.py:568: ConvergenceWarning: Maximum Likelihood optimization failed to converge. Check mle_retvals\n",
      "  ConvergenceWarning)\n",
      "D:\\Programy\\anaconda\\lib\\site-packages\\statsmodels\\base\\model.py:568: ConvergenceWarning: Maximum Likelihood optimization failed to converge. Check mle_retvals\n",
      "  ConvergenceWarning)\n"
     ]
    },
    {
     "name": "stdout",
     "output_type": "stream",
     "text": [
      " ARIMA(2,1,3)(0,0,0)[0]             : AIC=4494.266, Time=0.22 sec\n",
      " ARIMA(1,1,1)(0,0,0)[0]             : AIC=4495.023, Time=0.10 sec\n"
     ]
    },
    {
     "name": "stderr",
     "output_type": "stream",
     "text": [
      "D:\\Programy\\anaconda\\lib\\site-packages\\statsmodels\\base\\model.py:568: ConvergenceWarning: Maximum Likelihood optimization failed to converge. Check mle_retvals\n",
      "  ConvergenceWarning)\n"
     ]
    },
    {
     "name": "stdout",
     "output_type": "stream",
     "text": [
      " ARIMA(1,1,3)(0,0,0)[0]             : AIC=4495.422, Time=0.19 sec\n",
      " ARIMA(3,1,1)(0,0,0)[0]             : AIC=4496.434, Time=0.12 sec\n",
      " ARIMA(3,1,3)(0,0,0)[0]             : AIC=4496.111, Time=0.19 sec\n",
      "\n",
      "Best model:  ARIMA(2,1,2)(0,0,0)[0]          \n",
      "Total fit time: 3.397 seconds\n",
      "autoARIMA time: 0:00:03.407406\n",
      "(2, 1, 2)\n",
      "(0, 0, 0, 0)\n",
      "fit time = 0:00:00.142100\n",
      "##### Koniec dopasowania modelu dla godziny: 39\n",
      "#####\n",
      "##### startuje dopasowanie modelu dla godziny: 40\n",
      "Performing stepwise search to minimize aic\n"
     ]
    },
    {
     "name": "stderr",
     "output_type": "stream",
     "text": [
      "D:\\Programy\\anaconda\\lib\\site-packages\\statsmodels\\tsa\\base\\tsa_model.py:579: ValueWarning: An unsupported index was provided and will be ignored when e.g. forecasting.\n",
      "  ' ignored when e.g. forecasting.', ValueWarning)\n",
      "D:\\Programy\\anaconda\\lib\\site-packages\\statsmodels\\tsa\\base\\tsa_model.py:579: ValueWarning: An unsupported index was provided and will be ignored when e.g. forecasting.\n",
      "  ' ignored when e.g. forecasting.', ValueWarning)\n"
     ]
    },
    {
     "name": "stdout",
     "output_type": "stream",
     "text": [
      " ARIMA(2,1,2)(0,0,0)[0] intercept   : AIC=4308.377, Time=0.16 sec\n",
      " ARIMA(0,1,0)(0,0,0)[0] intercept   : AIC=4348.253, Time=0.01 sec\n",
      " ARIMA(1,1,0)(0,0,0)[0] intercept   : AIC=4326.736, Time=0.04 sec\n",
      " ARIMA(0,1,1)(0,0,0)[0] intercept   : AIC=4311.979, Time=0.04 sec\n",
      " ARIMA(0,1,0)(0,0,0)[0]             : AIC=4346.256, Time=0.01 sec\n",
      " ARIMA(1,1,2)(0,0,0)[0] intercept   : AIC=4306.412, Time=0.11 sec\n",
      " ARIMA(0,1,2)(0,0,0)[0] intercept   : AIC=4307.572, Time=0.05 sec\n",
      " ARIMA(1,1,1)(0,0,0)[0] intercept   : AIC=4309.021, Time=0.06 sec\n"
     ]
    },
    {
     "name": "stderr",
     "output_type": "stream",
     "text": [
      "D:\\Programy\\anaconda\\lib\\site-packages\\statsmodels\\tsa\\statespace\\sarimax.py:978: UserWarning: Non-invertible starting MA parameters found. Using zeros as starting parameters.\n",
      "  warn('Non-invertible starting MA parameters found.'\n",
      "D:\\Programy\\anaconda\\lib\\site-packages\\statsmodels\\base\\model.py:568: ConvergenceWarning: Maximum Likelihood optimization failed to converge. Check mle_retvals\n",
      "  ConvergenceWarning)\n"
     ]
    },
    {
     "name": "stdout",
     "output_type": "stream",
     "text": [
      " ARIMA(1,1,3)(0,0,0)[0] intercept   : AIC=4310.949, Time=0.29 sec\n",
      " ARIMA(0,1,3)(0,0,0)[0] intercept   : AIC=4308.115, Time=0.07 sec\n",
      " ARIMA(2,1,1)(0,0,0)[0] intercept   : AIC=4309.697, Time=0.11 sec\n"
     ]
    },
    {
     "name": "stderr",
     "output_type": "stream",
     "text": [
      "D:\\Programy\\anaconda\\lib\\site-packages\\statsmodels\\tsa\\statespace\\sarimax.py:966: UserWarning: Non-stationary starting autoregressive parameters found. Using zeros as starting parameters.\n",
      "  warn('Non-stationary starting autoregressive parameters'\n",
      "D:\\Programy\\anaconda\\lib\\site-packages\\statsmodels\\tsa\\statespace\\sarimax.py:978: UserWarning: Non-invertible starting MA parameters found. Using zeros as starting parameters.\n",
      "  warn('Non-invertible starting MA parameters found.'\n",
      "D:\\Programy\\anaconda\\lib\\site-packages\\statsmodels\\base\\model.py:568: ConvergenceWarning: Maximum Likelihood optimization failed to converge. Check mle_retvals\n",
      "  ConvergenceWarning)\n"
     ]
    },
    {
     "name": "stdout",
     "output_type": "stream",
     "text": [
      " ARIMA(2,1,3)(0,0,0)[0] intercept   : AIC=4310.314, Time=0.29 sec\n",
      " ARIMA(1,1,2)(0,0,0)[0]             : AIC=4304.590, Time=0.07 sec\n",
      " ARIMA(0,1,2)(0,0,0)[0]             : AIC=4305.804, Time=0.04 sec\n",
      " ARIMA(1,1,1)(0,0,0)[0]             : AIC=4307.246, Time=0.04 sec\n",
      " ARIMA(2,1,2)(0,0,0)[0]             : AIC=4306.562, Time=0.10 sec\n"
     ]
    },
    {
     "name": "stderr",
     "output_type": "stream",
     "text": [
      "D:\\Programy\\anaconda\\lib\\site-packages\\statsmodels\\tsa\\statespace\\sarimax.py:978: UserWarning: Non-invertible starting MA parameters found. Using zeros as starting parameters.\n",
      "  warn('Non-invertible starting MA parameters found.'\n",
      "D:\\Programy\\anaconda\\lib\\site-packages\\statsmodels\\base\\model.py:568: ConvergenceWarning: Maximum Likelihood optimization failed to converge. Check mle_retvals\n",
      "  ConvergenceWarning)\n",
      "D:\\Programy\\anaconda\\lib\\site-packages\\statsmodels\\tsa\\statespace\\sarimax.py:966: UserWarning: Non-stationary starting autoregressive parameters found. Using zeros as starting parameters.\n",
      "  warn('Non-stationary starting autoregressive parameters'\n",
      "D:\\Programy\\anaconda\\lib\\site-packages\\statsmodels\\tsa\\statespace\\sarimax.py:978: UserWarning: Non-invertible starting MA parameters found. Using zeros as starting parameters.\n",
      "  warn('Non-invertible starting MA parameters found.'\n"
     ]
    },
    {
     "name": "stdout",
     "output_type": "stream",
     "text": [
      " ARIMA(1,1,3)(0,0,0)[0]             : AIC=4308.989, Time=0.21 sec\n",
      " ARIMA(0,1,1)(0,0,0)[0]             : AIC=4310.098, Time=0.03 sec\n",
      " ARIMA(0,1,3)(0,0,0)[0]             : AIC=4306.308, Time=0.05 sec\n",
      " ARIMA(2,1,1)(0,0,0)[0]             : AIC=4307.874, Time=0.07 sec\n"
     ]
    },
    {
     "name": "stderr",
     "output_type": "stream",
     "text": [
      "D:\\Programy\\anaconda\\lib\\site-packages\\statsmodels\\base\\model.py:568: ConvergenceWarning: Maximum Likelihood optimization failed to converge. Check mle_retvals\n",
      "  ConvergenceWarning)\n",
      "D:\\Programy\\anaconda\\lib\\site-packages\\statsmodels\\tsa\\base\\tsa_model.py:579: ValueWarning: An unsupported index was provided and will be ignored when e.g. forecasting.\n",
      "  ' ignored when e.g. forecasting.', ValueWarning)\n",
      "D:\\Programy\\anaconda\\lib\\site-packages\\statsmodels\\tsa\\base\\tsa_model.py:579: ValueWarning: An unsupported index was provided and will be ignored when e.g. forecasting.\n",
      "  ' ignored when e.g. forecasting.', ValueWarning)\n"
     ]
    },
    {
     "name": "stdout",
     "output_type": "stream",
     "text": [
      " ARIMA(2,1,3)(0,0,0)[0]             : AIC=4308.521, Time=0.18 sec\n",
      "\n",
      "Best model:  ARIMA(1,1,2)(0,0,0)[0]          \n",
      "Total fit time: 2.043 seconds\n",
      "autoARIMA time: 0:00:02.052449\n",
      "(1, 1, 2)\n",
      "(0, 0, 0, 0)\n",
      "fit time = 0:00:00.071049\n",
      "##### Koniec dopasowania modelu dla godziny: 40\n",
      "#####\n",
      "##### startuje dopasowanie modelu dla godziny: 41\n",
      "Performing stepwise search to minimize aic\n"
     ]
    },
    {
     "name": "stderr",
     "output_type": "stream",
     "text": [
      "D:\\Programy\\anaconda\\lib\\site-packages\\statsmodels\\base\\model.py:568: ConvergenceWarning: Maximum Likelihood optimization failed to converge. Check mle_retvals\n",
      "  ConvergenceWarning)\n"
     ]
    },
    {
     "name": "stdout",
     "output_type": "stream",
     "text": [
      " ARIMA(2,1,2)(0,0,0)[0] intercept   : AIC=4290.106, Time=0.28 sec\n",
      " ARIMA(0,1,0)(0,0,0)[0] intercept   : AIC=4334.955, Time=0.01 sec\n",
      " ARIMA(1,1,0)(0,0,0)[0] intercept   : AIC=4314.679, Time=0.04 sec\n",
      " ARIMA(0,1,1)(0,0,0)[0] intercept   : AIC=4303.467, Time=0.11 sec\n",
      " ARIMA(0,1,0)(0,0,0)[0]             : AIC=4332.959, Time=0.01 sec\n",
      " ARIMA(1,1,2)(0,0,0)[0] intercept   : AIC=4297.878, Time=0.15 sec\n",
      " ARIMA(2,1,1)(0,0,0)[0] intercept   : AIC=4296.109, Time=0.18 sec"
     ]
    },
    {
     "name": "stderr",
     "output_type": "stream",
     "text": [
      "D:\\Programy\\anaconda\\lib\\site-packages\\statsmodels\\base\\model.py:568: ConvergenceWarning: Maximum Likelihood optimization failed to converge. Check mle_retvals\n",
      "  ConvergenceWarning)\n",
      "D:\\Programy\\anaconda\\lib\\site-packages\\statsmodels\\tsa\\statespace\\sarimax.py:966: UserWarning: Non-stationary starting autoregressive parameters found. Using zeros as starting parameters.\n",
      "  warn('Non-stationary starting autoregressive parameters'\n",
      "D:\\Programy\\anaconda\\lib\\site-packages\\statsmodels\\tsa\\statespace\\sarimax.py:978: UserWarning: Non-invertible starting MA parameters found. Using zeros as starting parameters.\n",
      "  warn('Non-invertible starting MA parameters found.'\n"
     ]
    },
    {
     "name": "stdout",
     "output_type": "stream",
     "text": [
      "\n"
     ]
    },
    {
     "name": "stderr",
     "output_type": "stream",
     "text": [
      "D:\\Programy\\anaconda\\lib\\site-packages\\statsmodels\\base\\model.py:568: ConvergenceWarning: Maximum Likelihood optimization failed to converge. Check mle_retvals\n",
      "  ConvergenceWarning)\n"
     ]
    },
    {
     "name": "stdout",
     "output_type": "stream",
     "text": [
      " ARIMA(3,1,2)(0,0,0)[0] intercept   : AIC=4290.855, Time=0.33 sec\n",
      " ARIMA(2,1,3)(0,0,0)[0] intercept   : AIC=4286.277, Time=0.18 sec\n",
      " ARIMA(1,1,3)(0,0,0)[0] intercept   : AIC=4286.274, Time=0.19 sec\n",
      " ARIMA(0,1,3)(0,0,0)[0] intercept   : AIC=4288.089, Time=0.08 sec\n"
     ]
    },
    {
     "name": "stderr",
     "output_type": "stream",
     "text": [
      "D:\\Programy\\anaconda\\lib\\site-packages\\statsmodels\\base\\model.py:568: ConvergenceWarning: Maximum Likelihood optimization failed to converge. Check mle_retvals\n",
      "  ConvergenceWarning)\n"
     ]
    },
    {
     "name": "stdout",
     "output_type": "stream",
     "text": [
      " ARIMA(1,1,4)(0,0,0)[0] intercept   : AIC=4287.807, Time=0.29 sec\n",
      " ARIMA(0,1,2)(0,0,0)[0] intercept   : AIC=4304.847, Time=0.05 sec\n",
      " ARIMA(0,1,4)(0,0,0)[0] intercept   : AIC=4289.286, Time=0.11 sec\n",
      " ARIMA(2,1,4)(0,0,0)[0] intercept   : AIC=4287.582, Time=0.29 sec\n",
      " ARIMA(1,1,3)(0,0,0)[0]             : AIC=4284.255, Time=0.11 sec\n",
      " ARIMA(0,1,3)(0,0,0)[0]             : AIC=4286.131, Time=0.05 sec\n",
      " ARIMA(1,1,2)(0,0,0)[0]             : AIC=4295.945, Time=0.11 sec\n",
      " ARIMA(2,1,3)(0,0,0)[0]             : AIC=4284.256, Time=0.12 sec\n"
     ]
    },
    {
     "name": "stderr",
     "output_type": "stream",
     "text": [
      "D:\\Programy\\anaconda\\lib\\site-packages\\statsmodels\\base\\model.py:568: ConvergenceWarning: Maximum Likelihood optimization failed to converge. Check mle_retvals\n",
      "  ConvergenceWarning)\n"
     ]
    },
    {
     "name": "stdout",
     "output_type": "stream",
     "text": [
      " ARIMA(1,1,4)(0,0,0)[0]             : AIC=4285.773, Time=0.22 sec\n",
      " ARIMA(0,1,2)(0,0,0)[0]             : AIC=4302.934, Time=0.04 sec\n",
      " ARIMA(0,1,4)(0,0,0)[0]             : AIC=4287.312, Time=0.08 sec\n"
     ]
    },
    {
     "name": "stderr",
     "output_type": "stream",
     "text": [
      "D:\\Programy\\anaconda\\lib\\site-packages\\statsmodels\\base\\model.py:568: ConvergenceWarning: Maximum Likelihood optimization failed to converge. Check mle_retvals\n",
      "  ConvergenceWarning)\n"
     ]
    },
    {
     "name": "stdout",
     "output_type": "stream",
     "text": [
      " ARIMA(2,1,2)(0,0,0)[0]             : AIC=4288.001, Time=0.19 sec\n",
      " ARIMA(2,1,4)(0,0,0)[0]             : AIC=4285.588, Time=0.25 sec\n",
      "\n",
      "Best model:  ARIMA(1,1,3)(0,0,0)[0]          \n",
      "Total fit time: 3.479 seconds\n",
      "autoARIMA time: 0:00:03.486841\n",
      "(1, 1, 3)\n",
      "(0, 0, 0, 0)\n",
      "fit time = 0:00:00.092065\n",
      "##### Koniec dopasowania modelu dla godziny: 41\n",
      "#####\n",
      "##### startuje dopasowanie modelu dla godziny: 42\n",
      "Performing stepwise search to minimize aic\n"
     ]
    },
    {
     "name": "stderr",
     "output_type": "stream",
     "text": [
      "D:\\Programy\\anaconda\\lib\\site-packages\\statsmodels\\tsa\\base\\tsa_model.py:579: ValueWarning: An unsupported index was provided and will be ignored when e.g. forecasting.\n",
      "  ' ignored when e.g. forecasting.', ValueWarning)\n",
      "D:\\Programy\\anaconda\\lib\\site-packages\\statsmodels\\tsa\\base\\tsa_model.py:579: ValueWarning: An unsupported index was provided and will be ignored when e.g. forecasting.\n",
      "  ' ignored when e.g. forecasting.', ValueWarning)\n"
     ]
    },
    {
     "name": "stdout",
     "output_type": "stream",
     "text": [
      " ARIMA(2,1,2)(0,0,0)[0] intercept   : AIC=4650.432, Time=0.19 sec\n",
      " ARIMA(0,1,0)(0,0,0)[0] intercept   : AIC=4706.243, Time=0.01 sec\n",
      " ARIMA(1,1,0)(0,0,0)[0] intercept   : AIC=4678.407, Time=0.05 sec\n",
      " ARIMA(0,1,1)(0,0,0)[0] intercept   : AIC=4652.062, Time=0.12 sec\n",
      " ARIMA(0,1,0)(0,0,0)[0]             : AIC=4704.251, Time=0.01 sec\n",
      " ARIMA(1,1,2)(0,0,0)[0] intercept   : AIC=4649.197, Time=0.13 sec\n",
      " ARIMA(0,1,2)(0,0,0)[0] intercept   : AIC=4650.113, Time=0.05 sec\n",
      " ARIMA(1,1,1)(0,0,0)[0] intercept   : AIC=4651.681, Time=0.07 sec\n",
      " ARIMA(1,1,3)(0,0,0)[0] intercept   : AIC=4650.234, Time=0.25 sec\n",
      " ARIMA(0,1,3)(0,0,0)[0] intercept   : AIC=4648.230, Time=0.07 sec\n",
      " ARIMA(0,1,4)(0,0,0)[0] intercept   : AIC=4650.149, Time=0.09 sec\n"
     ]
    },
    {
     "name": "stderr",
     "output_type": "stream",
     "text": [
      "D:\\Programy\\anaconda\\lib\\site-packages\\statsmodels\\base\\model.py:568: ConvergenceWarning: Maximum Likelihood optimization failed to converge. Check mle_retvals\n",
      "  ConvergenceWarning)\n"
     ]
    },
    {
     "name": "stdout",
     "output_type": "stream",
     "text": [
      " ARIMA(1,1,4)(0,0,0)[0] intercept   : AIC=4652.150, Time=0.26 sec\n",
      " ARIMA(0,1,3)(0,0,0)[0]             : AIC=4646.537, Time=0.07 sec\n",
      " ARIMA(0,1,2)(0,0,0)[0]             : AIC=4648.504, Time=0.04 sec\n"
     ]
    },
    {
     "name": "stderr",
     "output_type": "stream",
     "text": [
      "D:\\Programy\\anaconda\\lib\\site-packages\\statsmodels\\base\\model.py:568: ConvergenceWarning: Maximum Likelihood optimization failed to converge. Check mle_retvals\n",
      "  ConvergenceWarning)\n"
     ]
    },
    {
     "name": "stdout",
     "output_type": "stream",
     "text": [
      " ARIMA(1,1,3)(0,0,0)[0]             : AIC=4648.538, Time=0.23 sec\n",
      " ARIMA(0,1,4)(0,0,0)[0]             : AIC=4648.458, Time=0.06 sec\n",
      " ARIMA(1,1,2)(0,0,0)[0]             : AIC=4647.558, Time=0.08 sec\n"
     ]
    },
    {
     "name": "stderr",
     "output_type": "stream",
     "text": [
      "D:\\Programy\\anaconda\\lib\\site-packages\\statsmodels\\base\\model.py:568: ConvergenceWarning: Maximum Likelihood optimization failed to converge. Check mle_retvals\n",
      "  ConvergenceWarning)\n",
      "D:\\Programy\\anaconda\\lib\\site-packages\\statsmodels\\tsa\\base\\tsa_model.py:579: ValueWarning: An unsupported index was provided and will be ignored when e.g. forecasting.\n",
      "  ' ignored when e.g. forecasting.', ValueWarning)\n",
      "D:\\Programy\\anaconda\\lib\\site-packages\\statsmodels\\tsa\\base\\tsa_model.py:579: ValueWarning: An unsupported index was provided and will be ignored when e.g. forecasting.\n",
      "  ' ignored when e.g. forecasting.', ValueWarning)\n"
     ]
    },
    {
     "name": "stdout",
     "output_type": "stream",
     "text": [
      " ARIMA(1,1,4)(0,0,0)[0]             : AIC=4647.664, Time=0.23 sec\n",
      "\n",
      "Best model:  ARIMA(0,1,3)(0,0,0)[0]          \n",
      "Total fit time: 2.031 seconds\n",
      "autoARIMA time: 0:00:02.038439\n",
      "(0, 1, 3)\n",
      "(0, 0, 0, 0)\n",
      "fit time = 0:00:00.053038\n",
      "##### Koniec dopasowania modelu dla godziny: 42\n",
      "#####\n",
      "##### startuje dopasowanie modelu dla godziny: 43\n",
      "Performing stepwise search to minimize aic\n"
     ]
    },
    {
     "name": "stderr",
     "output_type": "stream",
     "text": [
      "D:\\Programy\\anaconda\\lib\\site-packages\\statsmodels\\base\\model.py:568: ConvergenceWarning: Maximum Likelihood optimization failed to converge. Check mle_retvals\n",
      "  ConvergenceWarning)\n"
     ]
    },
    {
     "name": "stdout",
     "output_type": "stream",
     "text": [
      " ARIMA(2,1,2)(0,0,0)[0] intercept   : AIC=4560.176, Time=0.23 sec\n",
      " ARIMA(0,1,0)(0,0,0)[0] intercept   : AIC=4589.821, Time=0.01 sec\n",
      " ARIMA(1,1,0)(0,0,0)[0] intercept   : AIC=4572.328, Time=0.05 sec\n",
      " ARIMA(0,1,1)(0,0,0)[0] intercept   : AIC=4561.265, Time=0.03 sec\n",
      " ARIMA(0,1,0)(0,0,0)[0]             : AIC=4587.842, Time=0.01 sec\n",
      " ARIMA(1,1,2)(0,0,0)[0] intercept   : AIC=4558.223, Time=0.12 sec\n",
      " ARIMA(0,1,2)(0,0,0)[0] intercept   : AIC=4556.236, Time=0.05 sec\n",
      " ARIMA(0,1,3)(0,0,0)[0] intercept   : AIC=4558.235, Time=0.08 sec\n",
      " ARIMA(1,1,1)(0,0,0)[0] intercept   : AIC=4556.941, Time=0.09 sec\n"
     ]
    },
    {
     "name": "stderr",
     "output_type": "stream",
     "text": [
      "D:\\Programy\\anaconda\\lib\\site-packages\\statsmodels\\base\\model.py:568: ConvergenceWarning: Maximum Likelihood optimization failed to converge. Check mle_retvals\n",
      "  ConvergenceWarning)\n"
     ]
    },
    {
     "name": "stdout",
     "output_type": "stream",
     "text": [
      " ARIMA(1,1,3)(0,0,0)[0] intercept   : AIC=4560.192, Time=0.24 sec\n",
      " ARIMA(0,1,2)(0,0,0)[0]             : AIC=4554.581, Time=0.04 sec\n",
      " ARIMA(0,1,1)(0,0,0)[0]             : AIC=4559.517, Time=0.02 sec\n",
      " ARIMA(1,1,2)(0,0,0)[0]             : AIC=4556.570, Time=0.07 sec\n",
      " ARIMA(0,1,3)(0,0,0)[0]             : AIC=4556.600, Time=0.05 sec\n",
      " ARIMA(1,1,1)(0,0,0)[0]             : AIC=4555.278, Time=0.06 sec\n",
      " ARIMA(1,1,3)(0,0,0)[0]             : AIC=4558.602, Time=0.06 sec\n",
      "\n",
      "Best model:  ARIMA(0,1,2)(0,0,0)[0]          \n",
      "Total fit time: 1.228 seconds\n",
      "autoARIMA time: 0:00:01.232761\n",
      "(0, 1, 2)\n",
      "(0, 0, 0, 0)\n",
      "fit time = 0:00:00.049033\n",
      "##### Koniec dopasowania modelu dla godziny: 43\n",
      "#####\n",
      "##### startuje dopasowanie modelu dla godziny: 44\n",
      "Performing stepwise search to minimize aic"
     ]
    },
    {
     "name": "stderr",
     "output_type": "stream",
     "text": [
      "D:\\Programy\\anaconda\\lib\\site-packages\\statsmodels\\tsa\\base\\tsa_model.py:579: ValueWarning: An unsupported index was provided and will be ignored when e.g. forecasting.\n",
      "  ' ignored when e.g. forecasting.', ValueWarning)\n",
      "D:\\Programy\\anaconda\\lib\\site-packages\\statsmodels\\tsa\\base\\tsa_model.py:579: ValueWarning: An unsupported index was provided and will be ignored when e.g. forecasting.\n",
      "  ' ignored when e.g. forecasting.', ValueWarning)\n"
     ]
    },
    {
     "name": "stdout",
     "output_type": "stream",
     "text": [
      "\n",
      " ARIMA(2,1,2)(0,0,0)[0] intercept   : AIC=4495.557, Time=0.22 sec\n",
      " ARIMA(0,1,0)(0,0,0)[0] intercept   : AIC=4529.419, Time=0.01 sec\n",
      " ARIMA(1,1,0)(0,0,0)[0] intercept   : AIC=4507.147, Time=0.04 sec\n",
      " ARIMA(0,1,1)(0,0,0)[0] intercept   : AIC=4495.364, Time=0.04 sec\n",
      " ARIMA(0,1,0)(0,0,0)[0]             : AIC=4527.432, Time=0.01 sec\n",
      " ARIMA(1,1,1)(0,0,0)[0] intercept   : AIC=4491.905, Time=0.07 sec\n",
      " ARIMA(2,1,1)(0,0,0)[0] intercept   : AIC=4493.644, Time=0.11 sec\n",
      " ARIMA(1,1,2)(0,0,0)[0] intercept   : AIC=4493.725, Time=0.15 sec\n",
      " ARIMA(0,1,2)(0,0,0)[0] intercept   : AIC=4491.748, Time=0.06 sec\n",
      " ARIMA(0,1,3)(0,0,0)[0] intercept   : AIC=4493.782, Time=0.11 sec\n"
     ]
    },
    {
     "name": "stderr",
     "output_type": "stream",
     "text": [
      "D:\\Programy\\anaconda\\lib\\site-packages\\statsmodels\\base\\model.py:568: ConvergenceWarning: Maximum Likelihood optimization failed to converge. Check mle_retvals\n",
      "  ConvergenceWarning)\n"
     ]
    },
    {
     "name": "stdout",
     "output_type": "stream",
     "text": [
      " ARIMA(1,1,3)(0,0,0)[0] intercept   : AIC=4495.718, Time=0.24 sec\n",
      " ARIMA(0,1,2)(0,0,0)[0]             : AIC=4490.078, Time=0.04 sec\n",
      " ARIMA(0,1,1)(0,0,0)[0]             : AIC=4493.620, Time=0.02 sec\n",
      " ARIMA(1,1,2)(0,0,0)[0]             : AIC=4492.036, Time=0.10 sec\n",
      " ARIMA(0,1,3)(0,0,0)[0]             : AIC=4492.076, Time=0.06 sec\n",
      " ARIMA(1,1,1)(0,0,0)[0]             : AIC=4490.273, Time=0.04 sec\n",
      " ARIMA(1,1,3)(0,0,0)[0]             : AIC=4494.079, Time=0.13 sec\n",
      "\n",
      "Best model:  ARIMA(0,1,2)(0,0,0)[0]          \n",
      "Total fit time: 1.474 seconds\n",
      "autoARIMA time: 0:00:01.480046\n",
      "(0, 1, 2)\n",
      "(0, 0, 0, 0)\n",
      "fit time = 0:00:00.051036\n",
      "##### Koniec dopasowania modelu dla godziny: 44\n",
      "#####\n",
      "##### startuje dopasowanie modelu dla godziny: 45\n",
      "Performing stepwise search to minimize aic\n"
     ]
    },
    {
     "name": "stderr",
     "output_type": "stream",
     "text": [
      "D:\\Programy\\anaconda\\lib\\site-packages\\statsmodels\\tsa\\base\\tsa_model.py:579: ValueWarning: An unsupported index was provided and will be ignored when e.g. forecasting.\n",
      "  ' ignored when e.g. forecasting.', ValueWarning)\n",
      "D:\\Programy\\anaconda\\lib\\site-packages\\statsmodels\\tsa\\base\\tsa_model.py:579: ValueWarning: An unsupported index was provided and will be ignored when e.g. forecasting.\n",
      "  ' ignored when e.g. forecasting.', ValueWarning)\n"
     ]
    },
    {
     "name": "stdout",
     "output_type": "stream",
     "text": [
      " ARIMA(2,1,2)(0,0,0)[0] intercept   : AIC=4528.454, Time=0.18 sec\n",
      " ARIMA(0,1,0)(0,0,0)[0] intercept   : AIC=4574.237, Time=0.01 sec\n",
      " ARIMA(1,1,0)(0,0,0)[0] intercept   : AIC=4552.929, Time=0.05 sec\n",
      " ARIMA(0,1,1)(0,0,0)[0] intercept   : AIC=4535.431, Time=0.03 sec\n",
      " ARIMA(0,1,0)(0,0,0)[0]             : AIC=4572.241, Time=0.01 sec\n",
      " ARIMA(1,1,2)(0,0,0)[0] intercept   : AIC=4526.672, Time=0.11 sec\n",
      " ARIMA(0,1,2)(0,0,0)[0] intercept   : AIC=4524.883, Time=0.06 sec\n",
      " ARIMA(0,1,3)(0,0,0)[0] intercept   : AIC=4527.278, Time=0.07 sec\n",
      " ARIMA(1,1,1)(0,0,0)[0] intercept   : AIC=4524.808, Time=0.08 sec\n",
      " ARIMA(2,1,1)(0,0,0)[0] intercept   : AIC=4526.116, Time=0.10 sec\n",
      " ARIMA(2,1,0)(0,0,0)[0] intercept   : AIC=4542.010, Time=0.05 sec\n",
      " ARIMA(1,1,1)(0,0,0)[0]             : AIC=4523.337, Time=0.05 sec\n",
      " ARIMA(0,1,1)(0,0,0)[0]             : AIC=4533.638, Time=0.02 sec\n",
      " ARIMA(1,1,0)(0,0,0)[0]             : AIC=4550.950, Time=0.03 sec\n",
      " ARIMA(2,1,1)(0,0,0)[0]             : AIC=4524.571, Time=0.05 sec\n",
      " ARIMA(1,1,2)(0,0,0)[0]             : AIC=4524.869, Time=0.08 sec\n",
      " ARIMA(0,1,2)(0,0,0)[0]             : AIC=4523.198, Time=0.05 sec\n",
      " ARIMA(0,1,3)(0,0,0)[0]             : AIC=4525.434, Time=0.05 sec\n",
      " ARIMA(1,1,3)(0,0,0)[0]             : AIC=4527.928, Time=0.07 sec\n",
      "\n",
      "Best model:  ARIMA(0,1,2)(0,0,0)[0]          \n",
      "Total fit time: 1.179 seconds\n",
      "autoARIMA time: 0:00:01.185847\n",
      "(0, 1, 2)\n",
      "(0, 0, 0, 0)\n",
      "fit time = 0:00:00.061043\n",
      "##### Koniec dopasowania modelu dla godziny: 45\n",
      "#####\n",
      "##### startuje dopasowanie modelu dla godziny: 46\n",
      "Performing stepwise search to minimize aic\n"
     ]
    },
    {
     "name": "stderr",
     "output_type": "stream",
     "text": [
      "D:\\Programy\\anaconda\\lib\\site-packages\\statsmodels\\tsa\\base\\tsa_model.py:579: ValueWarning: An unsupported index was provided and will be ignored when e.g. forecasting.\n",
      "  ' ignored when e.g. forecasting.', ValueWarning)\n",
      "D:\\Programy\\anaconda\\lib\\site-packages\\statsmodels\\tsa\\base\\tsa_model.py:579: ValueWarning: An unsupported index was provided and will be ignored when e.g. forecasting.\n",
      "  ' ignored when e.g. forecasting.', ValueWarning)\n",
      "D:\\Programy\\anaconda\\lib\\site-packages\\statsmodels\\base\\model.py:568: ConvergenceWarning: Maximum Likelihood optimization failed to converge. Check mle_retvals\n",
      "  ConvergenceWarning)\n"
     ]
    },
    {
     "name": "stdout",
     "output_type": "stream",
     "text": [
      " ARIMA(2,1,2)(0,0,0)[0] intercept   : AIC=4304.973, Time=0.22 sec\n",
      " ARIMA(0,1,0)(0,0,0)[0] intercept   : AIC=4356.732, Time=0.02 sec\n",
      " ARIMA(1,1,0)(0,0,0)[0] intercept   : AIC=4341.657, Time=0.04 sec\n",
      " ARIMA(0,1,1)(0,0,0)[0] intercept   : AIC=4327.753, Time=0.04 sec\n",
      " ARIMA(0,1,0)(0,0,0)[0]             : AIC=4354.737, Time=0.01 sec\n"
     ]
    },
    {
     "name": "stderr",
     "output_type": "stream",
     "text": [
      "D:\\Programy\\anaconda\\lib\\site-packages\\statsmodels\\base\\model.py:568: ConvergenceWarning: Maximum Likelihood optimization failed to converge. Check mle_retvals\n",
      "  ConvergenceWarning)\n",
      "D:\\Programy\\anaconda\\lib\\site-packages\\statsmodels\\base\\model.py:568: ConvergenceWarning: Maximum Likelihood optimization failed to converge. Check mle_retvals\n",
      "  ConvergenceWarning)\n"
     ]
    },
    {
     "name": "stdout",
     "output_type": "stream",
     "text": [
      " ARIMA(1,1,2)(0,0,0)[0] intercept   : AIC=4306.801, Time=0.20 sec\n",
      " ARIMA(2,1,1)(0,0,0)[0] intercept   : AIC=4306.968, Time=0.18 sec\n"
     ]
    },
    {
     "name": "stderr",
     "output_type": "stream",
     "text": [
      "D:\\Programy\\anaconda\\lib\\site-packages\\statsmodels\\base\\model.py:568: ConvergenceWarning: Maximum Likelihood optimization failed to converge. Check mle_retvals\n",
      "  ConvergenceWarning)\n"
     ]
    },
    {
     "name": "stdout",
     "output_type": "stream",
     "text": [
      " ARIMA(3,1,2)(0,0,0)[0] intercept   : AIC=4307.045, Time=0.26 sec\n"
     ]
    },
    {
     "name": "stderr",
     "output_type": "stream",
     "text": [
      "D:\\Programy\\anaconda\\lib\\site-packages\\statsmodels\\base\\model.py:568: ConvergenceWarning: Maximum Likelihood optimization failed to converge. Check mle_retvals\n",
      "  ConvergenceWarning)\n",
      "D:\\Programy\\anaconda\\lib\\site-packages\\statsmodels\\base\\model.py:568: ConvergenceWarning: Maximum Likelihood optimization failed to converge. Check mle_retvals\n",
      "  ConvergenceWarning)\n"
     ]
    },
    {
     "name": "stdout",
     "output_type": "stream",
     "text": [
      " ARIMA(2,1,3)(0,0,0)[0] intercept   : AIC=4307.321, Time=0.31 sec\n",
      " ARIMA(1,1,1)(0,0,0)[0] intercept   : AIC=4305.775, Time=0.20 sec\n"
     ]
    },
    {
     "name": "stderr",
     "output_type": "stream",
     "text": [
      "D:\\Programy\\anaconda\\lib\\site-packages\\statsmodels\\base\\model.py:568: ConvergenceWarning: Maximum Likelihood optimization failed to converge. Check mle_retvals\n",
      "  ConvergenceWarning)\n"
     ]
    },
    {
     "name": "stdout",
     "output_type": "stream",
     "text": [
      " ARIMA(1,1,3)(0,0,0)[0] intercept   : AIC=4307.356, Time=0.30 sec\n",
      " ARIMA(3,1,1)(0,0,0)[0] intercept   : AIC=4308.866, Time=0.14 sec\n"
     ]
    },
    {
     "name": "stderr",
     "output_type": "stream",
     "text": [
      "D:\\Programy\\anaconda\\lib\\site-packages\\statsmodels\\base\\model.py:568: ConvergenceWarning: Maximum Likelihood optimization failed to converge. Check mle_retvals\n",
      "  ConvergenceWarning)\n"
     ]
    },
    {
     "name": "stdout",
     "output_type": "stream",
     "text": [
      " ARIMA(3,1,3)(0,0,0)[0] intercept   : AIC=4309.655, Time=0.45 sec\n",
      " ARIMA(2,1,2)(0,0,0)[0]             : AIC=4303.855, Time=0.16 sec\n",
      " ARIMA(1,1,2)(0,0,0)[0]             : AIC=4305.487, Time=0.22 sec\n"
     ]
    },
    {
     "name": "stderr",
     "output_type": "stream",
     "text": [
      "D:\\Programy\\anaconda\\lib\\site-packages\\statsmodels\\base\\model.py:568: ConvergenceWarning: Maximum Likelihood optimization failed to converge. Check mle_retvals\n",
      "  ConvergenceWarning)\n"
     ]
    },
    {
     "name": "stdout",
     "output_type": "stream",
     "text": [
      " ARIMA(2,1,1)(0,0,0)[0]             : AIC=4305.701, Time=0.26 sec\n",
      " ARIMA(3,1,2)(0,0,0)[0]             : AIC=4305.848, Time=0.37 sec\n"
     ]
    },
    {
     "name": "stderr",
     "output_type": "stream",
     "text": [
      "D:\\Programy\\anaconda\\lib\\site-packages\\statsmodels\\base\\model.py:568: ConvergenceWarning: Maximum Likelihood optimization failed to converge. Check mle_retvals\n",
      "  ConvergenceWarning)\n",
      "D:\\Programy\\anaconda\\lib\\site-packages\\statsmodels\\base\\model.py:568: ConvergenceWarning: Maximum Likelihood optimization failed to converge. Check mle_retvals\n",
      "  ConvergenceWarning)\n"
     ]
    },
    {
     "name": "stdout",
     "output_type": "stream",
     "text": [
      " ARIMA(2,1,3)(0,0,0)[0]             : AIC=4305.803, Time=0.36 sec\n",
      " ARIMA(1,1,1)(0,0,0)[0]             : AIC=4304.643, Time=0.14 sec\n",
      " ARIMA(1,1,3)(0,0,0)[0]             : AIC=4307.473, Time=0.18 sec\n",
      " ARIMA(3,1,1)(0,0,0)[0]             : AIC=4307.642, Time=0.15 sec\n"
     ]
    },
    {
     "name": "stderr",
     "output_type": "stream",
     "text": [
      "D:\\Programy\\anaconda\\lib\\site-packages\\statsmodels\\base\\model.py:568: ConvergenceWarning: Maximum Likelihood optimization failed to converge. Check mle_retvals\n",
      "  ConvergenceWarning)\n",
      "D:\\Programy\\anaconda\\lib\\site-packages\\statsmodels\\tsa\\base\\tsa_model.py:579: ValueWarning: An unsupported index was provided and will be ignored when e.g. forecasting.\n",
      "  ' ignored when e.g. forecasting.', ValueWarning)\n",
      "D:\\Programy\\anaconda\\lib\\site-packages\\statsmodels\\tsa\\base\\tsa_model.py:579: ValueWarning: An unsupported index was provided and will be ignored when e.g. forecasting.\n",
      "  ' ignored when e.g. forecasting.', ValueWarning)\n"
     ]
    },
    {
     "name": "stdout",
     "output_type": "stream",
     "text": [
      " ARIMA(3,1,3)(0,0,0)[0]             : AIC=4306.931, Time=0.32 sec\n",
      "\n",
      "Best model:  ARIMA(2,1,2)(0,0,0)[0]          \n",
      "Total fit time: 4.547 seconds\n",
      "autoARIMA time: 0:00:04.556077\n",
      "(2, 1, 2)\n",
      "(0, 0, 0, 0)\n",
      "fit time = 0:00:00.166118\n",
      "##### Koniec dopasowania modelu dla godziny: 46\n",
      "#####\n",
      "##### startuje dopasowanie modelu dla godziny: 47\n",
      "Performing stepwise search to minimize aic\n",
      " ARIMA(2,1,2)(0,0,0)[0] intercept   : AIC=4110.864, Time=0.27 sec\n",
      " ARIMA(0,1,0)(0,0,0)[0] intercept   : AIC=4168.220, Time=0.02 sec\n",
      " ARIMA(1,1,0)(0,0,0)[0] intercept   : AIC=4135.382, Time=0.18 sec\n",
      " ARIMA(0,1,1)(0,0,0)[0] intercept   : AIC=4113.167, Time=0.05 sec\n",
      " ARIMA(0,1,0)(0,0,0)[0]             : AIC=4166.223, Time=0.01 sec\n",
      " ARIMA(1,1,2)(0,0,0)[0] intercept   : AIC=4108.932, Time=0.16 sec\n",
      " ARIMA(0,1,2)(0,0,0)[0] intercept   : AIC=4111.801, Time=0.08 sec\n",
      " ARIMA(1,1,1)(0,0,0)[0] intercept   : AIC=4112.322, Time=0.10 sec\n",
      " ARIMA(1,1,3)(0,0,0)[0] intercept   : AIC=4110.936, Time=0.28 sec\n",
      " ARIMA(0,1,3)(0,0,0)[0] intercept   : AIC=4112.464, Time=0.14 sec\n",
      " ARIMA(2,1,1)(0,0,0)[0] intercept   : AIC=4113.602, Time=0.22 sec\n"
     ]
    },
    {
     "name": "stderr",
     "output_type": "stream",
     "text": [
      "D:\\Programy\\anaconda\\lib\\site-packages\\statsmodels\\base\\model.py:568: ConvergenceWarning: Maximum Likelihood optimization failed to converge. Check mle_retvals\n",
      "  ConvergenceWarning)\n"
     ]
    },
    {
     "name": "stdout",
     "output_type": "stream",
     "text": [
      " ARIMA(2,1,3)(0,0,0)[0] intercept   : AIC=4104.729, Time=0.39 sec\n"
     ]
    },
    {
     "name": "stderr",
     "output_type": "stream",
     "text": [
      "D:\\Programy\\anaconda\\lib\\site-packages\\statsmodels\\base\\model.py:568: ConvergenceWarning: Maximum Likelihood optimization failed to converge. Check mle_retvals\n",
      "  ConvergenceWarning)\n"
     ]
    },
    {
     "name": "stdout",
     "output_type": "stream",
     "text": [
      " ARIMA(3,1,3)(0,0,0)[0] intercept   : AIC=4105.796, Time=0.44 sec\n"
     ]
    },
    {
     "name": "stderr",
     "output_type": "stream",
     "text": [
      "D:\\Programy\\anaconda\\lib\\site-packages\\statsmodels\\base\\model.py:568: ConvergenceWarning: Maximum Likelihood optimization failed to converge. Check mle_retvals\n",
      "  ConvergenceWarning)\n"
     ]
    },
    {
     "name": "stdout",
     "output_type": "stream",
     "text": [
      " ARIMA(2,1,4)(0,0,0)[0] intercept   : AIC=4106.112, Time=0.33 sec\n",
      " ARIMA(1,1,4)(0,0,0)[0] intercept   : AIC=4111.524, Time=0.22 sec\n",
      " ARIMA(3,1,2)(0,0,0)[0] intercept   : AIC=4111.315, Time=0.19 sec\n"
     ]
    },
    {
     "name": "stderr",
     "output_type": "stream",
     "text": [
      "D:\\Programy\\anaconda\\lib\\site-packages\\statsmodels\\base\\model.py:568: ConvergenceWarning: Maximum Likelihood optimization failed to converge. Check mle_retvals\n",
      "  ConvergenceWarning)\n"
     ]
    },
    {
     "name": "stdout",
     "output_type": "stream",
     "text": [
      " ARIMA(3,1,4)(0,0,0)[0] intercept   : AIC=4107.966, Time=0.48 sec\n"
     ]
    },
    {
     "name": "stderr",
     "output_type": "stream",
     "text": [
      "D:\\Programy\\anaconda\\lib\\site-packages\\statsmodels\\base\\model.py:568: ConvergenceWarning: Maximum Likelihood optimization failed to converge. Check mle_retvals\n",
      "  ConvergenceWarning)\n"
     ]
    },
    {
     "name": "stdout",
     "output_type": "stream",
     "text": [
      " ARIMA(2,1,3)(0,0,0)[0]             : AIC=4102.858, Time=0.46 sec\n",
      " ARIMA(1,1,3)(0,0,0)[0]             : AIC=4109.156, Time=0.18 sec\n",
      " ARIMA(2,1,2)(0,0,0)[0]             : AIC=4109.084, Time=0.15 sec\n"
     ]
    },
    {
     "name": "stderr",
     "output_type": "stream",
     "text": [
      "D:\\Programy\\anaconda\\lib\\site-packages\\statsmodels\\base\\model.py:568: ConvergenceWarning: Maximum Likelihood optimization failed to converge. Check mle_retvals\n",
      "  ConvergenceWarning)\n"
     ]
    },
    {
     "name": "stdout",
     "output_type": "stream",
     "text": [
      " ARIMA(3,1,3)(0,0,0)[0]             : AIC=4104.029, Time=0.37 sec\n"
     ]
    },
    {
     "name": "stderr",
     "output_type": "stream",
     "text": [
      "D:\\Programy\\anaconda\\lib\\site-packages\\statsmodels\\base\\model.py:568: ConvergenceWarning: Maximum Likelihood optimization failed to converge. Check mle_retvals\n",
      "  ConvergenceWarning)\n"
     ]
    },
    {
     "name": "stdout",
     "output_type": "stream",
     "text": [
      " ARIMA(2,1,4)(0,0,0)[0]             : AIC=4104.311, Time=0.43 sec\n",
      " ARIMA(1,1,2)(0,0,0)[0]             : AIC=4107.167, Time=0.14 sec\n",
      " ARIMA(1,1,4)(0,0,0)[0]             : AIC=4109.818, Time=0.25 sec\n",
      " ARIMA(3,1,2)(0,0,0)[0]             : AIC=4109.576, Time=0.19 sec\n"
     ]
    },
    {
     "name": "stderr",
     "output_type": "stream",
     "text": [
      "D:\\Programy\\anaconda\\lib\\site-packages\\statsmodels\\base\\model.py:568: ConvergenceWarning: Maximum Likelihood optimization failed to converge. Check mle_retvals\n",
      "  ConvergenceWarning)\n",
      "D:\\Programy\\anaconda\\lib\\site-packages\\statsmodels\\tsa\\base\\tsa_model.py:579: ValueWarning: An unsupported index was provided and will be ignored when e.g. forecasting.\n",
      "  ' ignored when e.g. forecasting.', ValueWarning)\n",
      "D:\\Programy\\anaconda\\lib\\site-packages\\statsmodels\\tsa\\base\\tsa_model.py:579: ValueWarning: An unsupported index was provided and will be ignored when e.g. forecasting.\n",
      "  ' ignored when e.g. forecasting.', ValueWarning)\n"
     ]
    },
    {
     "name": "stdout",
     "output_type": "stream",
     "text": [
      " ARIMA(3,1,4)(0,0,0)[0]             : AIC=4106.219, Time=0.41 sec\n",
      "\n",
      "Best model:  ARIMA(2,1,3)(0,0,0)[0]          \n",
      "Total fit time: 6.172 seconds\n",
      "autoARIMA time: 0:00:06.187592\n",
      "(2, 1, 3)\n",
      "(0, 0, 0, 0)\n",
      "fit time = 0:00:00.346244\n",
      "##### Koniec dopasowania modelu dla godziny: 47\n",
      "#####\n",
      "##### startuje dopasowanie modelu dla godziny: 48\n",
      "Performing stepwise search to minimize aic\n",
      " ARIMA(2,1,2)(0,0,0)[0] intercept   : AIC=4115.237, Time=0.38 sec\n",
      " ARIMA(0,1,0)(0,0,0)[0] intercept   : AIC=4172.881, Time=0.03 sec\n",
      " ARIMA(1,1,0)(0,0,0)[0] intercept   : AIC=4144.656, Time=0.08 sec\n",
      " ARIMA(0,1,1)(0,0,0)[0] intercept   : AIC=4119.100, Time=0.07 sec\n",
      " ARIMA(0,1,0)(0,0,0)[0]             : AIC=4170.891, Time=0.01 sec\n",
      " ARIMA(1,1,2)(0,0,0)[0] intercept   : AIC=4114.003, Time=0.19 sec\n",
      " ARIMA(0,1,2)(0,0,0)[0] intercept   : AIC=4117.749, Time=0.10 sec\n",
      " ARIMA(1,1,1)(0,0,0)[0] intercept   : AIC=4118.958, Time=0.26 sec\n",
      " ARIMA(1,1,3)(0,0,0)[0] intercept   : AIC=4115.124, Time=0.47 sec\n",
      " ARIMA(0,1,3)(0,0,0)[0] intercept   : AIC=4113.663, Time=0.13 sec\n",
      " ARIMA(0,1,4)(0,0,0)[0] intercept   : AIC=4115.617, Time=0.16 sec\n",
      " ARIMA(1,1,4)(0,0,0)[0] intercept   : AIC=4117.051, Time=0.36 sec\n",
      " ARIMA(0,1,3)(0,0,0)[0]             : AIC=4111.866, Time=0.09 sec\n",
      " ARIMA(0,1,2)(0,0,0)[0]             : AIC=4115.984, Time=0.05 sec\n",
      " ARIMA(1,1,3)(0,0,0)[0]             : AIC=4113.380, Time=0.11 sec\n",
      " ARIMA(0,1,4)(0,0,0)[0]             : AIC=4113.839, Time=0.08 sec\n",
      " ARIMA(1,1,2)(0,0,0)[0]             : AIC=4112.299, Time=0.09 sec\n",
      " ARIMA(1,1,4)(0,0,0)[0]             : AIC=4115.284, Time=0.13 sec\n",
      "\n",
      "Best model:  ARIMA(0,1,3)(0,0,0)[0]          \n",
      "Total fit time: 2.808 seconds\n",
      "autoARIMA time: 0:00:02.823954\n",
      "(0, 1, 3)\n",
      "(0, 0, 0, 0)\n",
      "fit time = 0:00:00.062501\n",
      "##### Koniec dopasowania modelu dla godziny: 48\n",
      "#####\n",
      "##### startuje dopasowanie modelu dla godziny: 49\n",
      "Performing stepwise search to minimize aic\n"
     ]
    },
    {
     "name": "stderr",
     "output_type": "stream",
     "text": [
      "D:\\Programy\\anaconda\\lib\\site-packages\\statsmodels\\tsa\\base\\tsa_model.py:579: ValueWarning: An unsupported index was provided and will be ignored when e.g. forecasting.\n",
      "  ' ignored when e.g. forecasting.', ValueWarning)\n",
      "D:\\Programy\\anaconda\\lib\\site-packages\\statsmodels\\tsa\\base\\tsa_model.py:579: ValueWarning: An unsupported index was provided and will be ignored when e.g. forecasting.\n",
      "  ' ignored when e.g. forecasting.', ValueWarning)\n"
     ]
    },
    {
     "name": "stdout",
     "output_type": "stream",
     "text": [
      " ARIMA(2,1,2)(0,0,0)[0] intercept   : AIC=4086.990, Time=0.17 sec\n",
      " ARIMA(0,1,0)(0,0,0)[0] intercept   : AIC=4144.662, Time=0.02 sec\n",
      " ARIMA(1,1,0)(0,0,0)[0] intercept   : AIC=4116.449, Time=0.05 sec\n",
      " ARIMA(0,1,1)(0,0,0)[0] intercept   : AIC=4091.279, Time=0.05 sec\n",
      " ARIMA(0,1,0)(0,0,0)[0]             : AIC=4142.672, Time=0.01 sec\n",
      " ARIMA(1,1,2)(0,0,0)[0] intercept   : AIC=4085.753, Time=0.09 sec\n",
      " ARIMA(0,1,2)(0,0,0)[0] intercept   : AIC=4090.074, Time=0.06 sec\n",
      " ARIMA(1,1,1)(0,0,0)[0] intercept   : AIC=4091.262, Time=0.08 sec\n",
      " ARIMA(1,1,3)(0,0,0)[0] intercept   : AIC=4086.970, Time=0.16 sec\n",
      " ARIMA(0,1,3)(0,0,0)[0] intercept   : AIC=4086.070, Time=0.09 sec\n",
      " ARIMA(2,1,1)(0,0,0)[0] intercept   : AIC=4088.176, Time=0.27 sec\n"
     ]
    },
    {
     "name": "stderr",
     "output_type": "stream",
     "text": [
      "D:\\Programy\\anaconda\\lib\\site-packages\\statsmodels\\base\\model.py:568: ConvergenceWarning: Maximum Likelihood optimization failed to converge. Check mle_retvals\n",
      "  ConvergenceWarning)\n"
     ]
    },
    {
     "name": "stdout",
     "output_type": "stream",
     "text": [
      " ARIMA(2,1,3)(0,0,0)[0] intercept   : AIC=4088.725, Time=0.47 sec\n",
      " ARIMA(1,1,2)(0,0,0)[0]             : AIC=4084.082, Time=0.09 sec\n",
      " ARIMA(0,1,2)(0,0,0)[0]             : AIC=4088.282, Time=0.05 sec\n",
      " ARIMA(1,1,1)(0,0,0)[0]             : AIC=4089.514, Time=0.06 sec\n",
      " ARIMA(2,1,2)(0,0,0)[0]             : AIC=4085.283, Time=0.10 sec\n",
      " ARIMA(1,1,3)(0,0,0)[0]             : AIC=4085.249, Time=0.15 sec\n",
      " ARIMA(0,1,1)(0,0,0)[0]             : AIC=4089.528, Time=0.03 sec\n",
      " ARIMA(0,1,3)(0,0,0)[0]             : AIC=4084.236, Time=0.09 sec\n",
      " ARIMA(2,1,1)(0,0,0)[0]             : AIC=4086.438, Time=0.09 sec\n"
     ]
    },
    {
     "name": "stderr",
     "output_type": "stream",
     "text": [
      "D:\\Programy\\anaconda\\lib\\site-packages\\statsmodels\\base\\model.py:568: ConvergenceWarning: Maximum Likelihood optimization failed to converge. Check mle_retvals\n",
      "  ConvergenceWarning)\n",
      "D:\\Programy\\anaconda\\lib\\site-packages\\statsmodels\\tsa\\base\\tsa_model.py:579: ValueWarning: An unsupported index was provided and will be ignored when e.g. forecasting.\n",
      "  ' ignored when e.g. forecasting.', ValueWarning)\n",
      "D:\\Programy\\anaconda\\lib\\site-packages\\statsmodels\\tsa\\base\\tsa_model.py:579: ValueWarning: An unsupported index was provided and will be ignored when e.g. forecasting.\n",
      "  ' ignored when e.g. forecasting.', ValueWarning)\n"
     ]
    },
    {
     "name": "stdout",
     "output_type": "stream",
     "text": [
      " ARIMA(2,1,3)(0,0,0)[0]             : AIC=4086.495, Time=0.25 sec\n",
      "\n",
      "Best model:  ARIMA(1,1,2)(0,0,0)[0]          \n",
      "Total fit time: 2.444 seconds\n",
      "autoARIMA time: 0:00:02.455193\n",
      "(1, 1, 2)\n",
      "(0, 0, 0, 0)\n",
      "fit time = 0:00:00.155110\n",
      "##### Koniec dopasowania modelu dla godziny: 49\n",
      "#####\n",
      "##### startuje dopasowanie modelu dla godziny: 50\n",
      "Performing stepwise search to minimize aic\n"
     ]
    },
    {
     "name": "stderr",
     "output_type": "stream",
     "text": [
      "D:\\Programy\\anaconda\\lib\\site-packages\\statsmodels\\base\\model.py:568: ConvergenceWarning: Maximum Likelihood optimization failed to converge. Check mle_retvals\n",
      "  ConvergenceWarning)\n"
     ]
    },
    {
     "name": "stdout",
     "output_type": "stream",
     "text": [
      " ARIMA(2,1,2)(0,0,0)[0] intercept   : AIC=4331.680, Time=0.30 sec\n",
      " ARIMA(0,1,0)(0,0,0)[0] intercept   : AIC=4396.181, Time=0.02 sec\n",
      " ARIMA(1,1,0)(0,0,0)[0] intercept   : AIC=4369.953, Time=0.04 sec\n",
      " ARIMA(0,1,1)(0,0,0)[0] intercept   : AIC=4336.566, Time=0.13 sec\n",
      " ARIMA(0,1,0)(0,0,0)[0]             : AIC=4394.190, Time=0.01 sec\n"
     ]
    },
    {
     "name": "stderr",
     "output_type": "stream",
     "text": [
      "D:\\Programy\\anaconda\\lib\\site-packages\\statsmodels\\base\\model.py:568: ConvergenceWarning: Maximum Likelihood optimization failed to converge. Check mle_retvals\n",
      "  ConvergenceWarning)\n"
     ]
    },
    {
     "name": "stdout",
     "output_type": "stream",
     "text": [
      " ARIMA(1,1,2)(0,0,0)[0] intercept   : AIC=4329.012, Time=0.27 sec\n"
     ]
    },
    {
     "name": "stderr",
     "output_type": "stream",
     "text": [
      "D:\\Programy\\anaconda\\lib\\site-packages\\statsmodels\\base\\model.py:568: ConvergenceWarning: Maximum Likelihood optimization failed to converge. Check mle_retvals\n",
      "  ConvergenceWarning)\n"
     ]
    },
    {
     "name": "stdout",
     "output_type": "stream",
     "text": [
      " ARIMA(0,1,2)(0,0,0)[0] intercept   : AIC=4327.029, Time=0.24 sec\n",
      " ARIMA(0,1,3)(0,0,0)[0] intercept   : AIC=4328.934, Time=0.26 sec\n"
     ]
    },
    {
     "name": "stderr",
     "output_type": "stream",
     "text": [
      "D:\\Programy\\anaconda\\lib\\site-packages\\statsmodels\\base\\model.py:568: ConvergenceWarning: Maximum Likelihood optimization failed to converge. Check mle_retvals\n",
      "  ConvergenceWarning)\n"
     ]
    },
    {
     "name": "stdout",
     "output_type": "stream",
     "text": [
      " ARIMA(1,1,1)(0,0,0)[0] intercept   : AIC=4327.929, Time=0.38 sec\n"
     ]
    },
    {
     "name": "stderr",
     "output_type": "stream",
     "text": [
      "D:\\Programy\\anaconda\\lib\\site-packages\\statsmodels\\base\\model.py:568: ConvergenceWarning: Maximum Likelihood optimization failed to converge. Check mle_retvals\n",
      "  ConvergenceWarning)\n"
     ]
    },
    {
     "name": "stdout",
     "output_type": "stream",
     "text": [
      " ARIMA(1,1,3)(0,0,0)[0] intercept   : AIC=4329.980, Time=0.42 sec\n",
      " ARIMA(0,1,2)(0,0,0)[0]             : AIC=4325.897, Time=0.07 sec\n",
      " ARIMA(0,1,1)(0,0,0)[0]             : AIC=4335.080, Time=0.22 sec\n",
      " ARIMA(1,1,2)(0,0,0)[0]             : AIC=4327.875, Time=0.12 sec\n",
      " ARIMA(0,1,3)(0,0,0)[0]             : AIC=4327.821, Time=0.08 sec\n",
      " ARIMA(1,1,1)(0,0,0)[0]             : AIC=4326.821, Time=0.12 sec\n"
     ]
    },
    {
     "name": "stderr",
     "output_type": "stream",
     "text": [
      "D:\\Programy\\anaconda\\lib\\site-packages\\statsmodels\\base\\model.py:568: ConvergenceWarning: Maximum Likelihood optimization failed to converge. Check mle_retvals\n",
      "  ConvergenceWarning)\n",
      "D:\\Programy\\anaconda\\lib\\site-packages\\statsmodels\\tsa\\base\\tsa_model.py:579: ValueWarning: An unsupported index was provided and will be ignored when e.g. forecasting.\n",
      "  ' ignored when e.g. forecasting.', ValueWarning)\n",
      "D:\\Programy\\anaconda\\lib\\site-packages\\statsmodels\\tsa\\base\\tsa_model.py:579: ValueWarning: An unsupported index was provided and will be ignored when e.g. forecasting.\n",
      "  ' ignored when e.g. forecasting.', ValueWarning)\n"
     ]
    },
    {
     "name": "stdout",
     "output_type": "stream",
     "text": [
      " ARIMA(1,1,3)(0,0,0)[0]             : AIC=4328.954, Time=0.25 sec\n",
      "\n",
      "Best model:  ARIMA(0,1,2)(0,0,0)[0]          \n",
      "Total fit time: 2.939 seconds\n",
      "autoARIMA time: 0:00:02.945184\n",
      "(0, 1, 2)\n",
      "(0, 0, 0, 0)\n",
      "fit time = 0:00:00.048034\n",
      "##### Koniec dopasowania modelu dla godziny: 50\n",
      "#####\n",
      "##### startuje dopasowanie modelu dla godziny: 51\n",
      "Performing stepwise search to minimize aic\n"
     ]
    },
    {
     "name": "stderr",
     "output_type": "stream",
     "text": [
      "D:\\Programy\\anaconda\\lib\\site-packages\\statsmodels\\base\\model.py:568: ConvergenceWarning: Maximum Likelihood optimization failed to converge. Check mle_retvals\n",
      "  ConvergenceWarning)\n"
     ]
    },
    {
     "name": "stdout",
     "output_type": "stream",
     "text": [
      " ARIMA(2,1,2)(0,0,0)[0] intercept   : AIC=4243.510, Time=0.25 sec\n",
      " ARIMA(0,1,0)(0,0,0)[0] intercept   : AIC=4290.119, Time=0.01 sec\n",
      " ARIMA(1,1,0)(0,0,0)[0] intercept   : AIC=4273.856, Time=0.04 sec\n",
      " ARIMA(0,1,1)(0,0,0)[0] intercept   : AIC=4256.046, Time=0.12 sec\n",
      " ARIMA(0,1,0)(0,0,0)[0]             : AIC=4288.132, Time=0.01 sec\n"
     ]
    },
    {
     "name": "stderr",
     "output_type": "stream",
     "text": [
      "D:\\Programy\\anaconda\\lib\\site-packages\\statsmodels\\base\\model.py:568: ConvergenceWarning: Maximum Likelihood optimization failed to converge. Check mle_retvals\n",
      "  ConvergenceWarning)\n"
     ]
    },
    {
     "name": "stdout",
     "output_type": "stream",
     "text": [
      " ARIMA(1,1,2)(0,0,0)[0] intercept   : AIC=4241.250, Time=0.21 sec\n",
      " ARIMA(0,1,2)(0,0,0)[0] intercept   : AIC=4239.361, Time=0.18 sec"
     ]
    },
    {
     "name": "stderr",
     "output_type": "stream",
     "text": [
      "D:\\Programy\\anaconda\\lib\\site-packages\\statsmodels\\base\\model.py:568: ConvergenceWarning: Maximum Likelihood optimization failed to converge. Check mle_retvals\n",
      "  ConvergenceWarning)\n",
      "D:\\Programy\\anaconda\\lib\\site-packages\\statsmodels\\base\\model.py:568: ConvergenceWarning: Maximum Likelihood optimization failed to converge. Check mle_retvals\n",
      "  ConvergenceWarning)\n"
     ]
    },
    {
     "name": "stdout",
     "output_type": "stream",
     "text": [
      "\n",
      " ARIMA(0,1,3)(0,0,0)[0] intercept   : AIC=4240.961, Time=0.25 sec\n",
      " ARIMA(1,1,1)(0,0,0)[0] intercept   : AIC=4240.829, Time=0.19 sec\n"
     ]
    },
    {
     "name": "stderr",
     "output_type": "stream",
     "text": [
      "D:\\Programy\\anaconda\\lib\\site-packages\\statsmodels\\base\\model.py:568: ConvergenceWarning: Maximum Likelihood optimization failed to converge. Check mle_retvals\n",
      "  ConvergenceWarning)\n"
     ]
    },
    {
     "name": "stdout",
     "output_type": "stream",
     "text": [
      " ARIMA(1,1,3)(0,0,0)[0] intercept   : AIC=4243.066, Time=0.33 sec\n",
      " ARIMA(0,1,2)(0,0,0)[0]             : AIC=4237.908, Time=0.10 sec\n",
      " ARIMA(0,1,1)(0,0,0)[0]             : AIC=4254.347, Time=0.08 sec\n",
      " ARIMA(1,1,2)(0,0,0)[0]             : AIC=4239.743, Time=0.07 sec\n",
      " ARIMA(0,1,3)(0,0,0)[0]             : AIC=4239.761, Time=0.07 sec\n",
      " ARIMA(1,1,1)(0,0,0)[0]             : AIC=4239.145, Time=0.11 sec\n"
     ]
    },
    {
     "name": "stderr",
     "output_type": "stream",
     "text": [
      "D:\\Programy\\anaconda\\lib\\site-packages\\statsmodels\\base\\model.py:568: ConvergenceWarning: Maximum Likelihood optimization failed to converge. Check mle_retvals\n",
      "  ConvergenceWarning)\n",
      "D:\\Programy\\anaconda\\lib\\site-packages\\statsmodels\\base\\model.py:568: ConvergenceWarning: Maximum Likelihood optimization failed to converge. Check mle_retvals\n",
      "  ConvergenceWarning)\n",
      "D:\\Programy\\anaconda\\lib\\site-packages\\statsmodels\\tsa\\base\\tsa_model.py:579: ValueWarning: An unsupported index was provided and will be ignored when e.g. forecasting.\n",
      "  ' ignored when e.g. forecasting.', ValueWarning)\n",
      "D:\\Programy\\anaconda\\lib\\site-packages\\statsmodels\\tsa\\base\\tsa_model.py:579: ValueWarning: An unsupported index was provided and will be ignored when e.g. forecasting.\n",
      "  ' ignored when e.g. forecasting.', ValueWarning)\n"
     ]
    },
    {
     "name": "stdout",
     "output_type": "stream",
     "text": [
      " ARIMA(1,1,3)(0,0,0)[0]             : AIC=4241.712, Time=0.18 sec\n",
      "\n",
      "Best model:  ARIMA(0,1,2)(0,0,0)[0]          \n",
      "Total fit time: 2.227 seconds\n",
      "autoARIMA time: 0:00:02.233394\n",
      "(0, 1, 2)\n",
      "(0, 0, 0, 0)\n",
      "fit time = 0:00:00.058042\n",
      "##### Koniec dopasowania modelu dla godziny: 51\n",
      "#####\n",
      "##### startuje dopasowanie modelu dla godziny: 52\n",
      "Performing stepwise search to minimize aic\n"
     ]
    },
    {
     "name": "stderr",
     "output_type": "stream",
     "text": [
      "D:\\Programy\\anaconda\\lib\\site-packages\\statsmodels\\base\\model.py:568: ConvergenceWarning: Maximum Likelihood optimization failed to converge. Check mle_retvals\n",
      "  ConvergenceWarning)\n"
     ]
    },
    {
     "name": "stdout",
     "output_type": "stream",
     "text": [
      " ARIMA(2,1,2)(0,0,0)[0] intercept   : AIC=4229.441, Time=0.26 sec\n",
      " ARIMA(0,1,0)(0,0,0)[0] intercept   : AIC=4275.026, Time=0.01 sec\n",
      " ARIMA(1,1,0)(0,0,0)[0] intercept   : AIC=4256.211, Time=0.05 sec\n",
      " ARIMA(0,1,1)(0,0,0)[0] intercept   : AIC=4238.193, Time=0.11 sec\n",
      " ARIMA(0,1,0)(0,0,0)[0]             : AIC=4273.042, Time=0.02 sec\n"
     ]
    },
    {
     "name": "stderr",
     "output_type": "stream",
     "text": [
      "D:\\Programy\\anaconda\\lib\\site-packages\\statsmodels\\base\\model.py:568: ConvergenceWarning: Maximum Likelihood optimization failed to converge. Check mle_retvals\n",
      "  ConvergenceWarning)\n",
      "D:\\Programy\\anaconda\\lib\\site-packages\\statsmodels\\base\\model.py:568: ConvergenceWarning: Maximum Likelihood optimization failed to converge. Check mle_retvals\n",
      "  ConvergenceWarning)\n"
     ]
    },
    {
     "name": "stdout",
     "output_type": "stream",
     "text": [
      " ARIMA(1,1,2)(0,0,0)[0] intercept   : AIC=4227.426, Time=0.22 sec\n",
      " ARIMA(0,1,2)(0,0,0)[0] intercept   : AIC=4225.557, Time=0.19 sec\n"
     ]
    },
    {
     "name": "stderr",
     "output_type": "stream",
     "text": [
      "D:\\Programy\\anaconda\\lib\\site-packages\\statsmodels\\base\\model.py:568: ConvergenceWarning: Maximum Likelihood optimization failed to converge. Check mle_retvals\n",
      "  ConvergenceWarning)\n",
      "D:\\Programy\\anaconda\\lib\\site-packages\\statsmodels\\base\\model.py:568: ConvergenceWarning: Maximum Likelihood optimization failed to converge. Check mle_retvals\n",
      "  ConvergenceWarning)\n"
     ]
    },
    {
     "name": "stdout",
     "output_type": "stream",
     "text": [
      " ARIMA(0,1,3)(0,0,0)[0] intercept   : AIC=4227.440, Time=0.23 sec\n",
      " ARIMA(1,1,1)(0,0,0)[0] intercept   : AIC=4226.572, Time=0.17 sec\n"
     ]
    },
    {
     "name": "stderr",
     "output_type": "stream",
     "text": [
      "D:\\Programy\\anaconda\\lib\\site-packages\\statsmodels\\base\\model.py:568: ConvergenceWarning: Maximum Likelihood optimization failed to converge. Check mle_retvals\n",
      "  ConvergenceWarning)\n"
     ]
    },
    {
     "name": "stdout",
     "output_type": "stream",
     "text": [
      " ARIMA(1,1,3)(0,0,0)[0] intercept   : AIC=4229.626, Time=0.23 sec\n",
      " ARIMA(0,1,2)(0,0,0)[0]             : AIC=4224.147, Time=0.13 sec\n",
      " ARIMA(0,1,1)(0,0,0)[0]             : AIC=4236.508, Time=0.08 sec\n",
      " ARIMA(1,1,2)(0,0,0)[0]             : AIC=4226.070, Time=0.07 sec\n",
      " ARIMA(0,1,3)(0,0,0)[0]             : AIC=4226.111, Time=0.06 sec\n"
     ]
    },
    {
     "name": "stderr",
     "output_type": "stream",
     "text": [
      "D:\\Programy\\anaconda\\lib\\site-packages\\statsmodels\\base\\model.py:568: ConvergenceWarning: Maximum Likelihood optimization failed to converge. Check mle_retvals\n",
      "  ConvergenceWarning)\n",
      "D:\\Programy\\anaconda\\lib\\site-packages\\statsmodels\\tsa\\base\\tsa_model.py:579: ValueWarning: An unsupported index was provided and will be ignored when e.g. forecasting.\n",
      "  ' ignored when e.g. forecasting.', ValueWarning)\n",
      "D:\\Programy\\anaconda\\lib\\site-packages\\statsmodels\\tsa\\base\\tsa_model.py:579: ValueWarning: An unsupported index was provided and will be ignored when e.g. forecasting.\n",
      "  ' ignored when e.g. forecasting.', ValueWarning)\n"
     ]
    },
    {
     "name": "stdout",
     "output_type": "stream",
     "text": [
      " ARIMA(1,1,1)(0,0,0)[0]             : AIC=4224.925, Time=0.10 sec\n",
      " ARIMA(1,1,3)(0,0,0)[0]             : AIC=4228.082, Time=0.16 sec\n",
      "\n",
      "Best model:  ARIMA(0,1,2)(0,0,0)[0]          \n",
      "Total fit time: 2.099 seconds\n",
      "autoARIMA time: 0:00:02.114203\n",
      "(0, 1, 2)\n",
      "(0, 0, 0, 0)\n",
      "fit time = 0:00:00.046935\n",
      "##### Koniec dopasowania modelu dla godziny: 52\n",
      "#####\n",
      "##### startuje dopasowanie modelu dla godziny: 53\n",
      "Performing stepwise search to minimize aic\n",
      " ARIMA(2,1,2)(0,0,0)[0] intercept   : AIC=4288.791, Time=0.20 sec\n",
      " ARIMA(0,1,0)(0,0,0)[0] intercept   : AIC=4325.602, Time=0.02 sec\n",
      " ARIMA(1,1,0)(0,0,0)[0] intercept   : AIC=4312.145, Time=0.04 sec\n",
      " ARIMA(0,1,1)(0,0,0)[0] intercept   : AIC=4299.824, Time=0.04 sec\n",
      " ARIMA(0,1,0)(0,0,0)[0]             : AIC=4323.614, Time=0.01 sec\n",
      " ARIMA(1,1,2)(0,0,0)[0] intercept   : AIC=4288.553, Time=0.14 sec\n",
      " ARIMA(0,1,2)(0,0,0)[0] intercept   : AIC=4286.376, Time=0.17 sec\n"
     ]
    },
    {
     "name": "stderr",
     "output_type": "stream",
     "text": [
      "D:\\Programy\\anaconda\\lib\\site-packages\\statsmodels\\base\\model.py:568: ConvergenceWarning: Maximum Likelihood optimization failed to converge. Check mle_retvals\n",
      "  ConvergenceWarning)\n"
     ]
    },
    {
     "name": "stdout",
     "output_type": "stream",
     "text": [
      " ARIMA(0,1,3)(0,0,0)[0] intercept   : AIC=4288.309, Time=0.30 sec\n"
     ]
    },
    {
     "name": "stderr",
     "output_type": "stream",
     "text": [
      "D:\\Programy\\anaconda\\lib\\site-packages\\statsmodels\\base\\model.py:568: ConvergenceWarning: Maximum Likelihood optimization failed to converge. Check mle_retvals\n",
      "  ConvergenceWarning)\n"
     ]
    },
    {
     "name": "stdout",
     "output_type": "stream",
     "text": [
      " ARIMA(1,1,1)(0,0,0)[0] intercept   : AIC=4287.512, Time=0.22 sec\n"
     ]
    },
    {
     "name": "stderr",
     "output_type": "stream",
     "text": [
      "D:\\Programy\\anaconda\\lib\\site-packages\\statsmodels\\base\\model.py:568: ConvergenceWarning: Maximum Likelihood optimization failed to converge. Check mle_retvals\n",
      "  ConvergenceWarning)\n"
     ]
    },
    {
     "name": "stdout",
     "output_type": "stream",
     "text": [
      " ARIMA(1,1,3)(0,0,0)[0] intercept   : AIC=4289.649, Time=0.27 sec\n",
      " ARIMA(0,1,2)(0,0,0)[0]             : AIC=4284.827, Time=0.04 sec\n",
      " ARIMA(0,1,1)(0,0,0)[0]             : AIC=4298.006, Time=0.02 sec\n",
      " ARIMA(1,1,2)(0,0,0)[0]             : AIC=4286.708, Time=0.07 sec\n",
      " ARIMA(0,1,3)(0,0,0)[0]             : AIC=4286.819, Time=0.05 sec\n",
      " ARIMA(1,1,1)(0,0,0)[0]             : AIC=4286.058, Time=0.04 sec\n",
      " ARIMA(1,1,3)(0,0,0)[0]             : AIC=4288.766, Time=0.12 sec\n",
      "\n",
      "Best model:  ARIMA(0,1,2)(0,0,0)[0]          \n",
      "Total fit time: 1.765 seconds\n",
      "autoARIMA time: 0:00:01.780532\n",
      "(0, 1, 2)\n",
      "(0, 0, 0, 0)\n",
      "fit time = 0:00:00.046876"
     ]
    },
    {
     "name": "stderr",
     "output_type": "stream",
     "text": [
      "D:\\Programy\\anaconda\\lib\\site-packages\\statsmodels\\tsa\\base\\tsa_model.py:579: ValueWarning: An unsupported index was provided and will be ignored when e.g. forecasting.\n",
      "  ' ignored when e.g. forecasting.', ValueWarning)\n",
      "D:\\Programy\\anaconda\\lib\\site-packages\\statsmodels\\tsa\\base\\tsa_model.py:579: ValueWarning: An unsupported index was provided and will be ignored when e.g. forecasting.\n",
      "  ' ignored when e.g. forecasting.', ValueWarning)\n"
     ]
    },
    {
     "name": "stdout",
     "output_type": "stream",
     "text": [
      "\n",
      "##### Koniec dopasowania modelu dla godziny: 53\n",
      "#####\n",
      "##### startuje dopasowanie modelu dla godziny: 54\n",
      "Performing stepwise search to minimize aic\n",
      " ARIMA(2,1,2)(0,0,0)[0] intercept   : AIC=4208.725, Time=0.22 sec\n",
      " ARIMA(0,1,0)(0,0,0)[0] intercept   : AIC=4238.031, Time=0.02 sec\n",
      " ARIMA(1,1,0)(0,0,0)[0] intercept   : AIC=4221.941, Time=0.04 sec\n",
      " ARIMA(0,1,1)(0,0,0)[0] intercept   : AIC=4213.335, Time=0.12 sec\n",
      " ARIMA(0,1,0)(0,0,0)[0]             : AIC=4236.039, Time=0.01 sec\n",
      " ARIMA(1,1,2)(0,0,0)[0] intercept   : AIC=4208.143, Time=0.15 sec\n",
      " ARIMA(0,1,2)(0,0,0)[0] intercept   : AIC=4208.311, Time=0.05 sec\n",
      " ARIMA(1,1,1)(0,0,0)[0] intercept   : AIC=4208.571, Time=0.18 sec"
     ]
    },
    {
     "name": "stderr",
     "output_type": "stream",
     "text": [
      "D:\\Programy\\anaconda\\lib\\site-packages\\statsmodels\\base\\model.py:568: ConvergenceWarning: Maximum Likelihood optimization failed to converge. Check mle_retvals\n",
      "  ConvergenceWarning)\n"
     ]
    },
    {
     "name": "stdout",
     "output_type": "stream",
     "text": [
      "\n",
      " ARIMA(1,1,3)(0,0,0)[0] intercept   : AIC=4209.372, Time=0.19 sec\n",
      " ARIMA(0,1,3)(0,0,0)[0] intercept   : AIC=4210.141, Time=0.20 sec\n",
      " ARIMA(2,1,1)(0,0,0)[0] intercept   : AIC=4210.417, Time=0.12 sec\n"
     ]
    },
    {
     "name": "stderr",
     "output_type": "stream",
     "text": [
      "D:\\Programy\\anaconda\\lib\\site-packages\\statsmodels\\base\\model.py:568: ConvergenceWarning: Maximum Likelihood optimization failed to converge. Check mle_retvals\n",
      "  ConvergenceWarning)\n"
     ]
    },
    {
     "name": "stdout",
     "output_type": "stream",
     "text": [
      " ARIMA(2,1,3)(0,0,0)[0] intercept   : AIC=4210.536, Time=0.32 sec\n",
      " ARIMA(1,1,2)(0,0,0)[0]             : AIC=4206.348, Time=0.11 sec\n",
      " ARIMA(0,1,2)(0,0,0)[0]             : AIC=4206.495, Time=0.03 sec\n",
      " ARIMA(1,1,1)(0,0,0)[0]             : AIC=4206.876, Time=0.04 sec\n",
      " ARIMA(2,1,2)(0,0,0)[0]             : AIC=4207.001, Time=0.13 sec\n",
      " ARIMA(1,1,3)(0,0,0)[0]             : AIC=4207.614, Time=0.12 sec\n",
      " ARIMA(0,1,1)(0,0,0)[0]             : AIC=4211.460, Time=0.09 sec\n",
      " ARIMA(0,1,3)(0,0,0)[0]             : AIC=4208.405, Time=0.04 sec\n",
      " ARIMA(2,1,1)(0,0,0)[0]             : AIC=4208.665, Time=0.06 sec\n"
     ]
    },
    {
     "name": "stderr",
     "output_type": "stream",
     "text": [
      "D:\\Programy\\anaconda\\lib\\site-packages\\statsmodels\\base\\model.py:568: ConvergenceWarning: Maximum Likelihood optimization failed to converge. Check mle_retvals\n",
      "  ConvergenceWarning)\n",
      "D:\\Programy\\anaconda\\lib\\site-packages\\statsmodels\\tsa\\base\\tsa_model.py:579: ValueWarning: An unsupported index was provided and will be ignored when e.g. forecasting.\n",
      "  ' ignored when e.g. forecasting.', ValueWarning)\n",
      "D:\\Programy\\anaconda\\lib\\site-packages\\statsmodels\\tsa\\base\\tsa_model.py:579: ValueWarning: An unsupported index was provided and will be ignored when e.g. forecasting.\n",
      "  ' ignored when e.g. forecasting.', ValueWarning)\n"
     ]
    },
    {
     "name": "stdout",
     "output_type": "stream",
     "text": [
      " ARIMA(2,1,3)(0,0,0)[0]             : AIC=4208.758, Time=0.26 sec\n",
      "\n",
      "Best model:  ARIMA(1,1,2)(0,0,0)[0]          \n",
      "Total fit time: 2.490 seconds\n",
      "autoARIMA time: 0:00:02.498951\n",
      "(1, 1, 2)\n",
      "(0, 0, 0, 0)\n",
      "fit time = 0:00:00.100069\n",
      "##### Koniec dopasowania modelu dla godziny: 54\n",
      "#####\n",
      "##### startuje dopasowanie modelu dla godziny: 55\n",
      "Performing stepwise search to minimize aic\n",
      " ARIMA(2,1,2)(0,0,0)[0] intercept   : AIC=4108.867, Time=0.20 sec\n",
      " ARIMA(0,1,0)(0,0,0)[0] intercept   : AIC=4139.931, Time=0.02 sec\n",
      " ARIMA(1,1,0)(0,0,0)[0] intercept   : AIC=4121.899, Time=0.03 sec\n",
      " ARIMA(0,1,1)(0,0,0)[0] intercept   : AIC=4111.386, Time=0.05 sec\n",
      " ARIMA(0,1,0)(0,0,0)[0]             : AIC=4137.945, Time=0.01 sec\n",
      " ARIMA(1,1,2)(0,0,0)[0] intercept   : AIC=4107.352, Time=0.12 sec\n",
      " ARIMA(0,1,2)(0,0,0)[0] intercept   : AIC=4110.017, Time=0.06 sec\n",
      " ARIMA(1,1,1)(0,0,0)[0] intercept   : AIC=4111.308, Time=0.07 sec\n",
      " ARIMA(1,1,3)(0,0,0)[0] intercept   : AIC=4108.980, Time=0.16 sec\n",
      " ARIMA(0,1,3)(0,0,0)[0] intercept   : AIC=4108.350, Time=0.09 sec\n",
      " ARIMA(2,1,1)(0,0,0)[0] intercept   : AIC=4109.239, Time=0.19 sec\n"
     ]
    },
    {
     "name": "stderr",
     "output_type": "stream",
     "text": [
      "D:\\Programy\\anaconda\\lib\\site-packages\\statsmodels\\base\\model.py:568: ConvergenceWarning: Maximum Likelihood optimization failed to converge. Check mle_retvals\n",
      "  ConvergenceWarning)\n"
     ]
    },
    {
     "name": "stdout",
     "output_type": "stream",
     "text": [
      " ARIMA(2,1,3)(0,0,0)[0] intercept   : AIC=4106.325, Time=0.34 sec\n"
     ]
    },
    {
     "name": "stderr",
     "output_type": "stream",
     "text": [
      "D:\\Programy\\anaconda\\lib\\site-packages\\statsmodels\\base\\model.py:568: ConvergenceWarning: Maximum Likelihood optimization failed to converge. Check mle_retvals\n",
      "  ConvergenceWarning)\n"
     ]
    },
    {
     "name": "stdout",
     "output_type": "stream",
     "text": [
      " ARIMA(3,1,3)(0,0,0)[0] intercept   : AIC=4107.595, Time=0.31 sec\n"
     ]
    },
    {
     "name": "stderr",
     "output_type": "stream",
     "text": [
      "D:\\Programy\\anaconda\\lib\\site-packages\\statsmodels\\base\\model.py:568: ConvergenceWarning: Maximum Likelihood optimization failed to converge. Check mle_retvals\n",
      "  ConvergenceWarning)\n"
     ]
    },
    {
     "name": "stdout",
     "output_type": "stream",
     "text": [
      " ARIMA(2,1,4)(0,0,0)[0] intercept   : AIC=4109.800, Time=0.37 sec\n",
      " ARIMA(1,1,4)(0,0,0)[0] intercept   : AIC=4110.940, Time=0.09 sec\n",
      " ARIMA(3,1,2)(0,0,0)[0] intercept   : AIC=4110.580, Time=0.20 sec\n"
     ]
    },
    {
     "name": "stderr",
     "output_type": "stream",
     "text": [
      "D:\\Programy\\anaconda\\lib\\site-packages\\statsmodels\\base\\model.py:568: ConvergenceWarning: Maximum Likelihood optimization failed to converge. Check mle_retvals\n",
      "  ConvergenceWarning)\n"
     ]
    },
    {
     "name": "stdout",
     "output_type": "stream",
     "text": [
      " ARIMA(3,1,4)(0,0,0)[0] intercept   : AIC=4110.047, Time=0.34 sec\n"
     ]
    },
    {
     "name": "stderr",
     "output_type": "stream",
     "text": [
      "D:\\Programy\\anaconda\\lib\\site-packages\\statsmodels\\base\\model.py:568: ConvergenceWarning: Maximum Likelihood optimization failed to converge. Check mle_retvals\n",
      "  ConvergenceWarning)\n"
     ]
    },
    {
     "name": "stdout",
     "output_type": "stream",
     "text": [
      " ARIMA(2,1,3)(0,0,0)[0]             : AIC=4104.517, Time=0.21 sec\n",
      " ARIMA(1,1,3)(0,0,0)[0]             : AIC=4107.138, Time=0.13 sec\n",
      " ARIMA(2,1,2)(0,0,0)[0]             : AIC=4107.023, Time=0.11 sec\n"
     ]
    },
    {
     "name": "stderr",
     "output_type": "stream",
     "text": [
      "D:\\Programy\\anaconda\\lib\\site-packages\\statsmodels\\base\\model.py:568: ConvergenceWarning: Maximum Likelihood optimization failed to converge. Check mle_retvals\n",
      "  ConvergenceWarning)\n"
     ]
    },
    {
     "name": "stdout",
     "output_type": "stream",
     "text": [
      " ARIMA(3,1,3)(0,0,0)[0]             : AIC=4105.751, Time=0.22 sec\n"
     ]
    },
    {
     "name": "stderr",
     "output_type": "stream",
     "text": [
      "D:\\Programy\\anaconda\\lib\\site-packages\\statsmodels\\base\\model.py:568: ConvergenceWarning: Maximum Likelihood optimization failed to converge. Check mle_retvals\n",
      "  ConvergenceWarning)\n"
     ]
    },
    {
     "name": "stdout",
     "output_type": "stream",
     "text": [
      " ARIMA(2,1,4)(0,0,0)[0]             : AIC=4106.667, Time=0.27 sec\n",
      " ARIMA(1,1,2)(0,0,0)[0]             : AIC=4105.530, Time=0.08 sec\n",
      " ARIMA(1,1,4)(0,0,0)[0]             : AIC=4109.106, Time=0.08 sec\n",
      " ARIMA(3,1,2)(0,0,0)[0]             : AIC=4108.745, Time=0.16 sec\n"
     ]
    },
    {
     "name": "stderr",
     "output_type": "stream",
     "text": [
      "D:\\Programy\\anaconda\\lib\\site-packages\\statsmodels\\base\\model.py:568: ConvergenceWarning: Maximum Likelihood optimization failed to converge. Check mle_retvals\n",
      "  ConvergenceWarning)\n",
      "D:\\Programy\\anaconda\\lib\\site-packages\\statsmodels\\tsa\\base\\tsa_model.py:579: ValueWarning: An unsupported index was provided and will be ignored when e.g. forecasting.\n",
      "  ' ignored when e.g. forecasting.', ValueWarning)\n",
      "D:\\Programy\\anaconda\\lib\\site-packages\\statsmodels\\tsa\\base\\tsa_model.py:579: ValueWarning: An unsupported index was provided and will be ignored when e.g. forecasting.\n",
      "  ' ignored when e.g. forecasting.', ValueWarning)\n"
     ]
    },
    {
     "name": "stdout",
     "output_type": "stream",
     "text": [
      " ARIMA(3,1,4)(0,0,0)[0]             : AIC=4108.035, Time=0.25 sec\n",
      "\n",
      "Best model:  ARIMA(2,1,3)(0,0,0)[0]          \n",
      "Total fit time: 4.178 seconds\n",
      "autoARIMA time: 0:00:04.193384\n",
      "(2, 1, 3)\n",
      "(0, 0, 0, 0)\n",
      "fit time = 0:00:00.175832\n",
      "##### Koniec dopasowania modelu dla godziny: 55\n",
      "#####\n",
      "##### startuje dopasowanie modelu dla godziny: 56\n",
      "Performing stepwise search to minimize aic\n",
      " ARIMA(2,1,2)(0,0,0)[0] intercept   : AIC=4665.496, Time=0.19 sec\n",
      " ARIMA(0,1,0)(0,0,0)[0] intercept   : AIC=4747.917, Time=0.01 sec\n",
      " ARIMA(1,1,0)(0,0,0)[0] intercept   : AIC=4714.958, Time=0.03 sec\n",
      " ARIMA(0,1,1)(0,0,0)[0] intercept   : AIC=4667.975, Time=0.06 sec\n",
      " ARIMA(0,1,0)(0,0,0)[0]             : AIC=4745.922, Time=0.02 sec\n",
      " ARIMA(1,1,2)(0,0,0)[0] intercept   : AIC=4663.318, Time=0.14 sec\n",
      " ARIMA(0,1,2)(0,0,0)[0] intercept   : AIC=4663.040, Time=0.05 sec\n",
      " ARIMA(0,1,3)(0,0,0)[0] intercept   : AIC=4664.250, Time=0.06 sec\n"
     ]
    },
    {
     "name": "stderr",
     "output_type": "stream",
     "text": [
      "D:\\Programy\\anaconda\\lib\\site-packages\\statsmodels\\base\\model.py:568: ConvergenceWarning: Maximum Likelihood optimization failed to converge. Check mle_retvals\n",
      "  ConvergenceWarning)\n"
     ]
    },
    {
     "name": "stdout",
     "output_type": "stream",
     "text": [
      " ARIMA(1,1,1)(0,0,0)[0] intercept   : AIC=4663.768, Time=0.16 sec\n"
     ]
    },
    {
     "name": "stderr",
     "output_type": "stream",
     "text": [
      "D:\\Programy\\anaconda\\lib\\site-packages\\statsmodels\\base\\model.py:568: ConvergenceWarning: Maximum Likelihood optimization failed to converge. Check mle_retvals\n",
      "  ConvergenceWarning)\n"
     ]
    },
    {
     "name": "stdout",
     "output_type": "stream",
     "text": [
      " ARIMA(1,1,3)(0,0,0)[0] intercept   : AIC=4665.388, Time=0.21 sec\n",
      " ARIMA(0,1,2)(0,0,0)[0]             : AIC=4661.228, Time=0.11 sec\n",
      " ARIMA(0,1,1)(0,0,0)[0]             : AIC=4666.584, Time=0.03 sec\n",
      " ARIMA(1,1,2)(0,0,0)[0]             : AIC=4662.103, Time=0.09 sec\n",
      " ARIMA(0,1,3)(0,0,0)[0]             : AIC=4662.217, Time=0.06 sec\n",
      " ARIMA(1,1,1)(0,0,0)[0]             : AIC=4662.660, Time=0.05 sec\n"
     ]
    },
    {
     "name": "stderr",
     "output_type": "stream",
     "text": [
      "D:\\Programy\\anaconda\\lib\\site-packages\\statsmodels\\base\\model.py:568: ConvergenceWarning: Maximum Likelihood optimization failed to converge. Check mle_retvals\n",
      "  ConvergenceWarning)\n",
      "D:\\Programy\\anaconda\\lib\\site-packages\\statsmodels\\tsa\\base\\tsa_model.py:579: ValueWarning: An unsupported index was provided and will be ignored when e.g. forecasting.\n",
      "  ' ignored when e.g. forecasting.', ValueWarning)\n",
      "D:\\Programy\\anaconda\\lib\\site-packages\\statsmodels\\tsa\\base\\tsa_model.py:579: ValueWarning: An unsupported index was provided and will be ignored when e.g. forecasting.\n",
      "  ' ignored when e.g. forecasting.', ValueWarning)\n"
     ]
    },
    {
     "name": "stdout",
     "output_type": "stream",
     "text": [
      " ARIMA(1,1,3)(0,0,0)[0]             : AIC=4664.078, Time=0.21 sec\n",
      "\n",
      "Best model:  ARIMA(0,1,2)(0,0,0)[0]          \n",
      "Total fit time: 1.496 seconds\n",
      "autoARIMA time: 0:00:01.511179\n",
      "(0, 1, 2)\n",
      "(0, 0, 0, 0)\n",
      "fit time = 0:00:00.046875\n",
      "##### Koniec dopasowania modelu dla godziny: 56\n",
      "#####\n",
      "##### startuje dopasowanie modelu dla godziny: 57\n",
      "Performing stepwise search to minimize aic\n"
     ]
    },
    {
     "name": "stderr",
     "output_type": "stream",
     "text": [
      "D:\\Programy\\anaconda\\lib\\site-packages\\statsmodels\\base\\model.py:568: ConvergenceWarning: Maximum Likelihood optimization failed to converge. Check mle_retvals\n",
      "  ConvergenceWarning)\n"
     ]
    },
    {
     "name": "stdout",
     "output_type": "stream",
     "text": [
      " ARIMA(2,1,2)(0,0,0)[0] intercept   : AIC=4647.173, Time=0.23 sec\n",
      " ARIMA(0,1,0)(0,0,0)[0] intercept   : AIC=4708.997, Time=0.00 sec\n",
      " ARIMA(1,1,0)(0,0,0)[0] intercept   : AIC=4687.724, Time=0.05 sec\n",
      " ARIMA(0,1,1)(0,0,0)[0] intercept   : AIC=4661.166, Time=0.05 sec\n",
      " ARIMA(0,1,0)(0,0,0)[0]             : AIC=4707.004, Time=0.00 sec\n"
     ]
    },
    {
     "name": "stderr",
     "output_type": "stream",
     "text": [
      "D:\\Programy\\anaconda\\lib\\site-packages\\statsmodels\\base\\model.py:568: ConvergenceWarning: Maximum Likelihood optimization failed to converge. Check mle_retvals\n",
      "  ConvergenceWarning)\n"
     ]
    },
    {
     "name": "stdout",
     "output_type": "stream",
     "text": [
      " ARIMA(1,1,2)(0,0,0)[0] intercept   : AIC=4644.590, Time=0.22 sec\n",
      " ARIMA(0,1,2)(0,0,0)[0] intercept   : AIC=4643.717, Time=0.08 sec\n"
     ]
    },
    {
     "name": "stderr",
     "output_type": "stream",
     "text": [
      "D:\\Programy\\anaconda\\lib\\site-packages\\statsmodels\\base\\model.py:568: ConvergenceWarning: Maximum Likelihood optimization failed to converge. Check mle_retvals\n",
      "  ConvergenceWarning)\n"
     ]
    },
    {
     "name": "stdout",
     "output_type": "stream",
     "text": [
      " ARIMA(0,1,3)(0,0,0)[0] intercept   : AIC=4644.544, Time=0.20 sec\n"
     ]
    },
    {
     "name": "stderr",
     "output_type": "stream",
     "text": [
      "D:\\Programy\\anaconda\\lib\\site-packages\\statsmodels\\base\\model.py:568: ConvergenceWarning: Maximum Likelihood optimization failed to converge. Check mle_retvals\n",
      "  ConvergenceWarning)\n"
     ]
    },
    {
     "name": "stdout",
     "output_type": "stream",
     "text": [
      " ARIMA(1,1,1)(0,0,0)[0] intercept   : AIC=4643.605, Time=0.20 sec\n"
     ]
    },
    {
     "name": "stderr",
     "output_type": "stream",
     "text": [
      "D:\\Programy\\anaconda\\lib\\site-packages\\statsmodels\\base\\model.py:568: ConvergenceWarning: Maximum Likelihood optimization failed to converge. Check mle_retvals\n",
      "  ConvergenceWarning)\n"
     ]
    },
    {
     "name": "stdout",
     "output_type": "stream",
     "text": [
      " ARIMA(2,1,1)(0,0,0)[0] intercept   : AIC=4644.965, Time=0.33 sec\n",
      " ARIMA(2,1,0)(0,0,0)[0] intercept   : AIC=4672.908, Time=0.04 sec\n",
      " ARIMA(1,1,1)(0,0,0)[0]             : AIC=4642.709, Time=0.06 sec\n",
      " ARIMA(0,1,1)(0,0,0)[0]             : AIC=4659.635, Time=0.04 sec\n",
      " ARIMA(1,1,0)(0,0,0)[0]             : AIC=4685.757, Time=0.03 sec\n"
     ]
    },
    {
     "name": "stderr",
     "output_type": "stream",
     "text": [
      "D:\\Programy\\anaconda\\lib\\site-packages\\statsmodels\\base\\model.py:568: ConvergenceWarning: Maximum Likelihood optimization failed to converge. Check mle_retvals\n",
      "  ConvergenceWarning)\n"
     ]
    },
    {
     "name": "stdout",
     "output_type": "stream",
     "text": [
      " ARIMA(2,1,1)(0,0,0)[0]             : AIC=4643.483, Time=0.13 sec\n",
      " ARIMA(1,1,2)(0,0,0)[0]             : AIC=4643.534, Time=0.09 sec\n",
      " ARIMA(0,1,2)(0,0,0)[0]             : AIC=4642.294, Time=0.05 sec\n",
      " ARIMA(0,1,3)(0,0,0)[0]             : AIC=4643.405, Time=0.09 sec\n"
     ]
    },
    {
     "name": "stderr",
     "output_type": "stream",
     "text": [
      "D:\\Programy\\anaconda\\lib\\site-packages\\statsmodels\\base\\model.py:568: ConvergenceWarning: Maximum Likelihood optimization failed to converge. Check mle_retvals\n",
      "  ConvergenceWarning)\n",
      "D:\\Programy\\anaconda\\lib\\site-packages\\statsmodels\\tsa\\base\\tsa_model.py:579: ValueWarning: An unsupported index was provided and will be ignored when e.g. forecasting.\n",
      "  ' ignored when e.g. forecasting.', ValueWarning)\n",
      "D:\\Programy\\anaconda\\lib\\site-packages\\statsmodels\\tsa\\base\\tsa_model.py:579: ValueWarning: An unsupported index was provided and will be ignored when e.g. forecasting.\n",
      "  ' ignored when e.g. forecasting.', ValueWarning)\n"
     ]
    },
    {
     "name": "stdout",
     "output_type": "stream",
     "text": [
      " ARIMA(1,1,3)(0,0,0)[0]             : AIC=4645.399, Time=0.22 sec\n",
      "\n",
      "Best model:  ARIMA(0,1,2)(0,0,0)[0]          \n",
      "Total fit time: 2.113 seconds\n",
      "autoARIMA time: 0:00:02.121904\n",
      "(0, 1, 2)\n",
      "(0, 0, 0, 0)\n",
      "fit time = 0:00:00.036662\n",
      "##### Koniec dopasowania modelu dla godziny: 57\n",
      "#####\n",
      "##### startuje dopasowanie modelu dla godziny: 58\n",
      "Performing stepwise search to minimize aic\n"
     ]
    },
    {
     "name": "stderr",
     "output_type": "stream",
     "text": [
      "D:\\Programy\\anaconda\\lib\\site-packages\\statsmodels\\base\\model.py:568: ConvergenceWarning: Maximum Likelihood optimization failed to converge. Check mle_retvals\n",
      "  ConvergenceWarning)\n"
     ]
    },
    {
     "name": "stdout",
     "output_type": "stream",
     "text": [
      " ARIMA(2,1,2)(0,0,0)[0] intercept   : AIC=4536.910, Time=0.24 sec\n",
      " ARIMA(0,1,0)(0,0,0)[0] intercept   : AIC=4595.591, Time=0.02 sec\n",
      " ARIMA(1,1,0)(0,0,0)[0] intercept   : AIC=4566.955, Time=0.05 sec\n",
      " ARIMA(0,1,1)(0,0,0)[0] intercept   : AIC=4543.850, Time=0.13 sec\n",
      " ARIMA(0,1,0)(0,0,0)[0]             : AIC=4593.598, Time=0.02 sec\n"
     ]
    },
    {
     "name": "stderr",
     "output_type": "stream",
     "text": [
      "D:\\Programy\\anaconda\\lib\\site-packages\\statsmodels\\base\\model.py:568: ConvergenceWarning: Maximum Likelihood optimization failed to converge. Check mle_retvals\n",
      "  ConvergenceWarning)\n"
     ]
    },
    {
     "name": "stdout",
     "output_type": "stream",
     "text": [
      " ARIMA(1,1,2)(0,0,0)[0] intercept   : AIC=4535.256, Time=0.24 sec\n",
      " ARIMA(0,1,2)(0,0,0)[0] intercept   : AIC=4533.550, Time=0.17 sec\n"
     ]
    },
    {
     "name": "stderr",
     "output_type": "stream",
     "text": [
      "D:\\Programy\\anaconda\\lib\\site-packages\\statsmodels\\base\\model.py:568: ConvergenceWarning: Maximum Likelihood optimization failed to converge. Check mle_retvals\n",
      "  ConvergenceWarning)\n",
      "D:\\Programy\\anaconda\\lib\\site-packages\\statsmodels\\base\\model.py:568: ConvergenceWarning: Maximum Likelihood optimization failed to converge. Check mle_retvals\n",
      "  ConvergenceWarning)\n"
     ]
    },
    {
     "name": "stdout",
     "output_type": "stream",
     "text": [
      " ARIMA(0,1,3)(0,0,0)[0] intercept   : AIC=4534.572, Time=0.22 sec\n",
      " ARIMA(1,1,1)(0,0,0)[0] intercept   : AIC=4533.114, Time=0.16 sec\n",
      " ARIMA(2,1,1)(0,0,0)[0] intercept   : AIC=4535.051, Time=0.11 sec\n",
      " ARIMA(2,1,0)(0,0,0)[0] intercept   : AIC=4557.025, Time=0.05 sec\n",
      " ARIMA(1,1,1)(0,0,0)[0]             : AIC=4531.737, Time=0.11 sec\n"
     ]
    },
    {
     "name": "stderr",
     "output_type": "stream",
     "text": [
      "D:\\Programy\\anaconda\\lib\\site-packages\\statsmodels\\base\\model.py:568: ConvergenceWarning: Maximum Likelihood optimization failed to converge. Check mle_retvals\n",
      "  ConvergenceWarning)\n"
     ]
    },
    {
     "name": "stdout",
     "output_type": "stream",
     "text": [
      " ARIMA(0,1,1)(0,0,0)[0]             : AIC=4542.294, Time=0.06 sec\n",
      " ARIMA(1,1,0)(0,0,0)[0]             : AIC=4564.997, Time=0.03 sec\n",
      " ARIMA(2,1,1)(0,0,0)[0]             : AIC=4533.858, Time=0.09 sec\n",
      " ARIMA(1,1,2)(0,0,0)[0]             : AIC=4533.625, Time=0.07 sec\n",
      " ARIMA(0,1,2)(0,0,0)[0]             : AIC=4532.332, Time=0.04 sec\n",
      " ARIMA(2,1,0)(0,0,0)[0]             : AIC=4555.100, Time=0.03 sec\n",
      " ARIMA(2,1,2)(0,0,0)[0]             : AIC=4535.755, Time=0.06 sec\n",
      "\n",
      "Best model:  ARIMA(1,1,1)(0,0,0)[0]          \n",
      "Total fit time: 1.905 seconds\n",
      "autoARIMA time: 0:00:01.920593\n",
      "(1, 1, 1)\n",
      "(0, 0, 0, 0)\n"
     ]
    },
    {
     "name": "stderr",
     "output_type": "stream",
     "text": [
      "D:\\Programy\\anaconda\\lib\\site-packages\\statsmodels\\tsa\\base\\tsa_model.py:579: ValueWarning: An unsupported index was provided and will be ignored when e.g. forecasting.\n",
      "  ' ignored when e.g. forecasting.', ValueWarning)\n",
      "D:\\Programy\\anaconda\\lib\\site-packages\\statsmodels\\tsa\\base\\tsa_model.py:579: ValueWarning: An unsupported index was provided and will be ignored when e.g. forecasting.\n",
      "  ' ignored when e.g. forecasting.', ValueWarning)\n",
      "D:\\Programy\\anaconda\\lib\\site-packages\\statsmodels\\tsa\\statespace\\sarimax.py:966: UserWarning: Non-stationary starting autoregressive parameters found. Using zeros as starting parameters.\n",
      "  warn('Non-stationary starting autoregressive parameters'\n",
      "D:\\Programy\\anaconda\\lib\\site-packages\\statsmodels\\tsa\\statespace\\sarimax.py:978: UserWarning: Non-invertible starting MA parameters found. Using zeros as starting parameters.\n",
      "  warn('Non-invertible starting MA parameters found.'\n"
     ]
    },
    {
     "name": "stdout",
     "output_type": "stream",
     "text": [
      "fit time = 0:00:00.065816\n",
      "##### Koniec dopasowania modelu dla godziny: 58\n",
      "#####\n",
      "##### startuje dopasowanie modelu dla godziny: 59\n",
      "Performing stepwise search to minimize aic\n"
     ]
    },
    {
     "name": "stderr",
     "output_type": "stream",
     "text": [
      "D:\\Programy\\anaconda\\lib\\site-packages\\statsmodels\\base\\model.py:568: ConvergenceWarning: Maximum Likelihood optimization failed to converge. Check mle_retvals\n",
      "  ConvergenceWarning)\n"
     ]
    },
    {
     "name": "stdout",
     "output_type": "stream",
     "text": [
      " ARIMA(2,1,2)(0,0,0)[0] intercept   : AIC=4587.404, Time=0.25 sec\n",
      " ARIMA(0,1,0)(0,0,0)[0] intercept   : AIC=4643.400, Time=0.00 sec\n",
      " ARIMA(1,1,0)(0,0,0)[0] intercept   : AIC=4622.380, Time=0.05 sec\n",
      " ARIMA(0,1,1)(0,0,0)[0] intercept   : AIC=4598.968, Time=0.13 sec\n",
      " ARIMA(0,1,0)(0,0,0)[0]             : AIC=4641.407, Time=0.02 sec"
     ]
    },
    {
     "name": "stderr",
     "output_type": "stream",
     "text": [
      "D:\\Programy\\anaconda\\lib\\site-packages\\statsmodels\\base\\model.py:568: ConvergenceWarning: Maximum Likelihood optimization failed to converge. Check mle_retvals\n",
      "  ConvergenceWarning)\n"
     ]
    },
    {
     "name": "stdout",
     "output_type": "stream",
     "text": [
      "\n",
      " ARIMA(1,1,2)(0,0,0)[0] intercept   : AIC=4585.339, Time=0.22 sec\n",
      " ARIMA(0,1,2)(0,0,0)[0] intercept   : AIC=4583.763, Time=0.10 sec\n",
      " ARIMA(0,1,3)(0,0,0)[0] intercept   : AIC=4586.196, Time=0.13 sec\n",
      " ARIMA(1,1,1)(0,0,0)[0] intercept   : AIC=4583.522, Time=0.10 sec\n",
      " ARIMA(2,1,1)(0,0,0)[0] intercept   : AIC=4584.755, Time=0.08 sec\n",
      " ARIMA(2,1,0)(0,0,0)[0] intercept   : AIC=4608.964, Time=0.07 sec\n",
      " ARIMA(1,1,1)(0,0,0)[0]             : AIC=4582.471, Time=0.06 sec\n",
      " ARIMA(0,1,1)(0,0,0)[0]             : AIC=4597.408, Time=0.02 sec\n",
      " ARIMA(1,1,0)(0,0,0)[0]             : AIC=4620.411, Time=0.02 sec\n",
      " ARIMA(2,1,1)(0,0,0)[0]             : AIC=4583.621, Time=0.06 sec\n",
      " ARIMA(1,1,2)(0,0,0)[0]             : AIC=4583.837, Time=0.09 sec\n",
      " ARIMA(0,1,2)(0,0,0)[0]             : AIC=4582.375, Time=0.06 sec\n",
      " ARIMA(0,1,3)(0,0,0)[0]             : AIC=4584.589, Time=0.06 sec\n",
      " ARIMA(1,1,3)(0,0,0)[0]             : AIC=4586.588, Time=0.33 sec\n",
      "\n",
      "Best model:  ARIMA(0,1,2)(0,0,0)[0]          \n",
      "Total fit time: 1.844 seconds\n",
      "autoARIMA time: 0:00:01.859636\n",
      "(0, 1, 2)\n",
      "(0, 0, 0, 0)\n",
      "fit time = 0:00:00.078125\n",
      "##### Koniec dopasowania modelu dla godziny: 59\n",
      "#####\n",
      "##### startuje dopasowanie modelu dla godziny: 60\n",
      "Performing stepwise search to minimize aic\n"
     ]
    },
    {
     "name": "stderr",
     "output_type": "stream",
     "text": [
      "D:\\Programy\\anaconda\\lib\\site-packages\\statsmodels\\tsa\\base\\tsa_model.py:579: ValueWarning: An unsupported index was provided and will be ignored when e.g. forecasting.\n",
      "  ' ignored when e.g. forecasting.', ValueWarning)\n",
      "D:\\Programy\\anaconda\\lib\\site-packages\\statsmodels\\tsa\\base\\tsa_model.py:579: ValueWarning: An unsupported index was provided and will be ignored when e.g. forecasting.\n",
      "  ' ignored when e.g. forecasting.', ValueWarning)\n",
      "D:\\Programy\\anaconda\\lib\\site-packages\\statsmodels\\base\\model.py:568: ConvergenceWarning: Maximum Likelihood optimization failed to converge. Check mle_retvals\n",
      "  ConvergenceWarning)\n"
     ]
    },
    {
     "name": "stdout",
     "output_type": "stream",
     "text": [
      " ARIMA(2,1,2)(0,0,0)[0] intercept   : AIC=4510.701, Time=0.39 sec\n",
      " ARIMA(0,1,0)(0,0,0)[0] intercept   : AIC=4559.862, Time=0.02 sec\n",
      " ARIMA(1,1,0)(0,0,0)[0] intercept   : AIC=4551.427, Time=0.10 sec\n",
      " ARIMA(0,1,1)(0,0,0)[0] intercept   : AIC=4541.138, Time=0.10 sec\n",
      " ARIMA(0,1,0)(0,0,0)[0]             : AIC=4557.871, Time=0.01 sec\n"
     ]
    },
    {
     "name": "stderr",
     "output_type": "stream",
     "text": [
      "D:\\Programy\\anaconda\\lib\\site-packages\\statsmodels\\base\\model.py:568: ConvergenceWarning: Maximum Likelihood optimization failed to converge. Check mle_retvals\n",
      "  ConvergenceWarning)\n"
     ]
    },
    {
     "name": "stdout",
     "output_type": "stream",
     "text": [
      " ARIMA(1,1,2)(0,0,0)[0] intercept   : AIC=4511.733, Time=0.21 sec\n"
     ]
    },
    {
     "name": "stderr",
     "output_type": "stream",
     "text": [
      "D:\\Programy\\anaconda\\lib\\site-packages\\statsmodels\\base\\model.py:568: ConvergenceWarning: Maximum Likelihood optimization failed to converge. Check mle_retvals\n",
      "  ConvergenceWarning)\n"
     ]
    },
    {
     "name": "stdout",
     "output_type": "stream",
     "text": [
      " ARIMA(2,1,1)(0,0,0)[0] intercept   : AIC=4512.552, Time=0.30 sec\n"
     ]
    },
    {
     "name": "stderr",
     "output_type": "stream",
     "text": [
      "D:\\Programy\\anaconda\\lib\\site-packages\\statsmodels\\base\\model.py:568: ConvergenceWarning: Maximum Likelihood optimization failed to converge. Check mle_retvals\n",
      "  ConvergenceWarning)\n"
     ]
    },
    {
     "name": "stdout",
     "output_type": "stream",
     "text": [
      " ARIMA(3,1,2)(0,0,0)[0] intercept   : AIC=4512.716, Time=0.35 sec\n"
     ]
    },
    {
     "name": "stderr",
     "output_type": "stream",
     "text": [
      "D:\\Programy\\anaconda\\lib\\site-packages\\statsmodels\\base\\model.py:568: ConvergenceWarning: Maximum Likelihood optimization failed to converge. Check mle_retvals\n",
      "  ConvergenceWarning)\n",
      "D:\\Programy\\anaconda\\lib\\site-packages\\statsmodels\\base\\model.py:568: ConvergenceWarning: Maximum Likelihood optimization failed to converge. Check mle_retvals\n",
      "  ConvergenceWarning)\n"
     ]
    },
    {
     "name": "stdout",
     "output_type": "stream",
     "text": [
      " ARIMA(2,1,3)(0,0,0)[0] intercept   : AIC=4512.824, Time=0.33 sec\n",
      " ARIMA(1,1,1)(0,0,0)[0] intercept   : AIC=4513.176, Time=0.17 sec\n"
     ]
    },
    {
     "name": "stderr",
     "output_type": "stream",
     "text": [
      "D:\\Programy\\anaconda\\lib\\site-packages\\statsmodels\\base\\model.py:568: ConvergenceWarning: Maximum Likelihood optimization failed to converge. Check mle_retvals\n",
      "  ConvergenceWarning)\n"
     ]
    },
    {
     "name": "stdout",
     "output_type": "stream",
     "text": [
      " ARIMA(1,1,3)(0,0,0)[0] intercept   : AIC=4513.368, Time=0.28 sec\n"
     ]
    },
    {
     "name": "stderr",
     "output_type": "stream",
     "text": [
      "D:\\Programy\\anaconda\\lib\\site-packages\\statsmodels\\base\\model.py:568: ConvergenceWarning: Maximum Likelihood optimization failed to converge. Check mle_retvals\n",
      "  ConvergenceWarning)\n"
     ]
    },
    {
     "name": "stdout",
     "output_type": "stream",
     "text": [
      " ARIMA(3,1,1)(0,0,0)[0] intercept   : AIC=4514.552, Time=0.24 sec\n"
     ]
    },
    {
     "name": "stderr",
     "output_type": "stream",
     "text": [
      "D:\\Programy\\anaconda\\lib\\site-packages\\statsmodels\\base\\model.py:568: ConvergenceWarning: Maximum Likelihood optimization failed to converge. Check mle_retvals\n",
      "  ConvergenceWarning)\n"
     ]
    },
    {
     "name": "stdout",
     "output_type": "stream",
     "text": [
      " ARIMA(3,1,3)(0,0,0)[0] intercept   : AIC=4513.734, Time=0.31 sec\n",
      " ARIMA(2,1,2)(0,0,0)[0]             : AIC=4509.833, Time=0.18 sec\n",
      " ARIMA(1,1,2)(0,0,0)[0]             : AIC=4511.010, Time=0.08 sec\n",
      " ARIMA(2,1,1)(0,0,0)[0]             : AIC=4511.803, Time=0.11 sec\n",
      " ARIMA(3,1,2)(0,0,0)[0]             : AIC=4511.823, Time=0.16 sec\n"
     ]
    },
    {
     "name": "stderr",
     "output_type": "stream",
     "text": [
      "D:\\Programy\\anaconda\\lib\\site-packages\\statsmodels\\base\\model.py:568: ConvergenceWarning: Maximum Likelihood optimization failed to converge. Check mle_retvals\n",
      "  ConvergenceWarning)\n"
     ]
    },
    {
     "name": "stdout",
     "output_type": "stream",
     "text": [
      " ARIMA(2,1,3)(0,0,0)[0]             : AIC=4511.762, Time=0.34 sec\n",
      " ARIMA(1,1,1)(0,0,0)[0]             : AIC=4512.979, Time=0.07 sec\n",
      " ARIMA(1,1,3)(0,0,0)[0]             : AIC=4512.760, Time=0.15 sec\n",
      " ARIMA(3,1,1)(0,0,0)[0]             : AIC=4513.779, Time=0.11 sec\n"
     ]
    },
    {
     "name": "stderr",
     "output_type": "stream",
     "text": [
      "D:\\Programy\\anaconda\\lib\\site-packages\\statsmodels\\base\\model.py:568: ConvergenceWarning: Maximum Likelihood optimization failed to converge. Check mle_retvals\n",
      "  ConvergenceWarning)\n",
      "D:\\Programy\\anaconda\\lib\\site-packages\\statsmodels\\tsa\\base\\tsa_model.py:579: ValueWarning: An unsupported index was provided and will be ignored when e.g. forecasting.\n",
      "  ' ignored when e.g. forecasting.', ValueWarning)\n",
      "D:\\Programy\\anaconda\\lib\\site-packages\\statsmodels\\tsa\\base\\tsa_model.py:579: ValueWarning: An unsupported index was provided and will be ignored when e.g. forecasting.\n",
      "  ' ignored when e.g. forecasting.', ValueWarning)\n"
     ]
    },
    {
     "name": "stdout",
     "output_type": "stream",
     "text": [
      " ARIMA(3,1,3)(0,0,0)[0]             : AIC=4513.504, Time=0.24 sec\n",
      "\n",
      "Best model:  ARIMA(2,1,2)(0,0,0)[0]          \n",
      "Total fit time: 4.308 seconds\n",
      "autoARIMA time: 0:00:04.314666\n",
      "(2, 1, 2)\n",
      "(0, 0, 0, 0)\n",
      "fit time = 0:00:00.231527\n",
      "##### Koniec dopasowania modelu dla godziny: 60\n",
      "#####\n",
      "##### startuje dopasowanie modelu dla godziny: 61\n",
      "Performing stepwise search to minimize aic\n",
      " ARIMA(2,1,2)(0,0,0)[0] intercept   : AIC=4358.811, Time=0.20 sec\n",
      " ARIMA(0,1,0)(0,0,0)[0] intercept   : AIC=4410.537, Time=0.03 sec\n",
      " ARIMA(1,1,0)(0,0,0)[0] intercept   : AIC=4388.738, Time=0.04 sec\n",
      " ARIMA(0,1,1)(0,0,0)[0] intercept   : AIC=4369.609, Time=0.05 sec\n",
      " ARIMA(0,1,0)(0,0,0)[0]             : AIC=4408.541, Time=0.00 sec\n",
      " ARIMA(1,1,2)(0,0,0)[0] intercept   : AIC=4359.580, Time=0.13 sec\n",
      " ARIMA(2,1,1)(0,0,0)[0] intercept   : AIC=4360.337, Time=0.10 sec\n"
     ]
    },
    {
     "name": "stderr",
     "output_type": "stream",
     "text": [
      "D:\\Programy\\anaconda\\lib\\site-packages\\statsmodels\\base\\model.py:568: ConvergenceWarning: Maximum Likelihood optimization failed to converge. Check mle_retvals\n",
      "  ConvergenceWarning)\n"
     ]
    },
    {
     "name": "stdout",
     "output_type": "stream",
     "text": [
      " ARIMA(3,1,2)(0,0,0)[0] intercept   : AIC=4360.778, Time=0.27 sec\n"
     ]
    },
    {
     "name": "stderr",
     "output_type": "stream",
     "text": [
      "D:\\Programy\\anaconda\\lib\\site-packages\\statsmodels\\base\\model.py:568: ConvergenceWarning: Maximum Likelihood optimization failed to converge. Check mle_retvals\n",
      "  ConvergenceWarning)\n"
     ]
    },
    {
     "name": "stdout",
     "output_type": "stream",
     "text": [
      " ARIMA(2,1,3)(0,0,0)[0] intercept   : AIC=4360.805, Time=0.28 sec\n",
      " ARIMA(1,1,1)(0,0,0)[0] intercept   : AIC=4358.907, Time=0.06 sec\n"
     ]
    },
    {
     "name": "stderr",
     "output_type": "stream",
     "text": [
      "D:\\Programy\\anaconda\\lib\\site-packages\\statsmodels\\base\\model.py:568: ConvergenceWarning: Maximum Likelihood optimization failed to converge. Check mle_retvals\n",
      "  ConvergenceWarning)\n"
     ]
    },
    {
     "name": "stdout",
     "output_type": "stream",
     "text": [
      " ARIMA(1,1,3)(0,0,0)[0] intercept   : AIC=4359.576, Time=0.23 sec\n",
      " ARIMA(3,1,1)(0,0,0)[0] intercept   : AIC=4362.203, Time=0.18 sec"
     ]
    },
    {
     "name": "stderr",
     "output_type": "stream",
     "text": [
      "D:\\Programy\\anaconda\\lib\\site-packages\\statsmodels\\base\\model.py:568: ConvergenceWarning: Maximum Likelihood optimization failed to converge. Check mle_retvals\n",
      "  ConvergenceWarning)\n"
     ]
    },
    {
     "name": "stdout",
     "output_type": "stream",
     "text": [
      "\n",
      " ARIMA(3,1,3)(0,0,0)[0] intercept   : AIC=4363.205, Time=0.33 sec\n",
      " ARIMA(2,1,2)(0,0,0)[0]             : AIC=4357.421, Time=0.19 sec\n",
      " ARIMA(1,1,2)(0,0,0)[0]             : AIC=4358.067, Time=0.14 sec\n",
      " ARIMA(2,1,1)(0,0,0)[0]             : AIC=4358.907, Time=0.08 sec\n"
     ]
    },
    {
     "name": "stderr",
     "output_type": "stream",
     "text": [
      "D:\\Programy\\anaconda\\lib\\site-packages\\statsmodels\\base\\model.py:568: ConvergenceWarning: Maximum Likelihood optimization failed to converge. Check mle_retvals\n",
      "  ConvergenceWarning)\n"
     ]
    },
    {
     "name": "stdout",
     "output_type": "stream",
     "text": [
      " ARIMA(3,1,2)(0,0,0)[0]             : AIC=4359.418, Time=0.24 sec\n",
      " ARIMA(2,1,3)(0,0,0)[0]             : AIC=4361.026, Time=0.25 sec\n",
      " ARIMA(1,1,1)(0,0,0)[0]             : AIC=4357.545, Time=0.06 sec\n"
     ]
    },
    {
     "name": "stderr",
     "output_type": "stream",
     "text": [
      "D:\\Programy\\anaconda\\lib\\site-packages\\statsmodels\\base\\model.py:568: ConvergenceWarning: Maximum Likelihood optimization failed to converge. Check mle_retvals\n",
      "  ConvergenceWarning)\n"
     ]
    },
    {
     "name": "stdout",
     "output_type": "stream",
     "text": [
      " ARIMA(1,1,3)(0,0,0)[0]             : AIC=4358.186, Time=0.23 sec\n",
      " ARIMA(3,1,1)(0,0,0)[0]             : AIC=4360.805, Time=0.15 sec\n"
     ]
    },
    {
     "name": "stderr",
     "output_type": "stream",
     "text": [
      "D:\\Programy\\anaconda\\lib\\site-packages\\statsmodels\\base\\model.py:568: ConvergenceWarning: Maximum Likelihood optimization failed to converge. Check mle_retvals\n",
      "  ConvergenceWarning)\n",
      "D:\\Programy\\anaconda\\lib\\site-packages\\statsmodels\\tsa\\base\\tsa_model.py:579: ValueWarning: An unsupported index was provided and will be ignored when e.g. forecasting.\n",
      "  ' ignored when e.g. forecasting.', ValueWarning)\n",
      "D:\\Programy\\anaconda\\lib\\site-packages\\statsmodels\\tsa\\base\\tsa_model.py:579: ValueWarning: An unsupported index was provided and will be ignored when e.g. forecasting.\n",
      "  ' ignored when e.g. forecasting.', ValueWarning)\n"
     ]
    },
    {
     "name": "stdout",
     "output_type": "stream",
     "text": [
      " ARIMA(3,1,3)(0,0,0)[0]             : AIC=4361.174, Time=0.28 sec\n",
      "\n",
      "Best model:  ARIMA(2,1,2)(0,0,0)[0]          \n",
      "Total fit time: 3.522 seconds\n",
      "autoARIMA time: 0:00:03.521800\n",
      "(2, 1, 2)\n",
      "(0, 0, 0, 0)\n",
      "fit time = 0:00:00.109378\n",
      "##### Koniec dopasowania modelu dla godziny: 61\n",
      "#####\n",
      "##### startuje dopasowanie modelu dla godziny: 62\n",
      "Performing stepwise search to minimize aic\n",
      " ARIMA(2,1,2)(0,0,0)[0] intercept   : AIC=4266.034, Time=0.17 sec\n",
      " ARIMA(0,1,0)(0,0,0)[0] intercept   : AIC=4328.058, Time=0.02 sec\n",
      " ARIMA(1,1,0)(0,0,0)[0] intercept   : AIC=4305.735, Time=0.03 sec\n",
      " ARIMA(0,1,1)(0,0,0)[0] intercept   : AIC=4277.516, Time=0.03 sec\n",
      " ARIMA(0,1,0)(0,0,0)[0]             : AIC=4326.061, Time=0.02 sec\n",
      " ARIMA(1,1,2)(0,0,0)[0] intercept   : AIC=4265.007, Time=0.13 sec\n",
      " ARIMA(0,1,2)(0,0,0)[0] intercept   : AIC=4272.140, Time=0.17 sec\n",
      " ARIMA(1,1,1)(0,0,0)[0] intercept   : AIC=4275.860, Time=0.07 sec\n",
      " ARIMA(1,1,3)(0,0,0)[0] intercept   : AIC=4265.013, Time=0.22 sec\n",
      " ARIMA(0,1,3)(0,0,0)[0] intercept   : AIC=4263.060, Time=0.08 sec\n",
      " ARIMA(0,1,4)(0,0,0)[0] intercept   : AIC=4265.036, Time=0.09 sec\n"
     ]
    },
    {
     "name": "stderr",
     "output_type": "stream",
     "text": [
      "D:\\Programy\\anaconda\\lib\\site-packages\\statsmodels\\base\\model.py:568: ConvergenceWarning: Maximum Likelihood optimization failed to converge. Check mle_retvals\n",
      "  ConvergenceWarning)\n"
     ]
    },
    {
     "name": "stdout",
     "output_type": "stream",
     "text": [
      " ARIMA(1,1,4)(0,0,0)[0] intercept   : AIC=4266.426, Time=0.28 sec\n",
      " ARIMA(0,1,3)(0,0,0)[0]             : AIC=4261.228, Time=0.06 sec\n",
      " ARIMA(0,1,2)(0,0,0)[0]             : AIC=4270.388, Time=0.11 sec\n",
      " ARIMA(1,1,3)(0,0,0)[0]             : AIC=4263.077, Time=0.14 sec\n",
      " ARIMA(0,1,4)(0,0,0)[0]             : AIC=4263.215, Time=0.08 sec\n",
      " ARIMA(1,1,2)(0,0,0)[0]             : AIC=4263.262, Time=0.06 sec\n"
     ]
    },
    {
     "name": "stderr",
     "output_type": "stream",
     "text": [
      "D:\\Programy\\anaconda\\lib\\site-packages\\statsmodels\\base\\model.py:568: ConvergenceWarning: Maximum Likelihood optimization failed to converge. Check mle_retvals\n",
      "  ConvergenceWarning)\n",
      "D:\\Programy\\anaconda\\lib\\site-packages\\statsmodels\\tsa\\base\\tsa_model.py:579: ValueWarning: An unsupported index was provided and will be ignored when e.g. forecasting.\n",
      "  ' ignored when e.g. forecasting.', ValueWarning)\n",
      "D:\\Programy\\anaconda\\lib\\site-packages\\statsmodels\\tsa\\base\\tsa_model.py:579: ValueWarning: An unsupported index was provided and will be ignored when e.g. forecasting.\n",
      "  ' ignored when e.g. forecasting.', ValueWarning)\n"
     ]
    },
    {
     "name": "stdout",
     "output_type": "stream",
     "text": [
      " ARIMA(1,1,4)(0,0,0)[0]             : AIC=4264.574, Time=0.19 sec\n",
      "\n",
      "Best model:  ARIMA(0,1,3)(0,0,0)[0]          \n",
      "Total fit time: 1.955 seconds\n",
      "autoARIMA time: 0:00:01.954946\n",
      "(0, 1, 3)\n",
      "(0, 0, 0, 0)\n",
      "fit time = 0:00:00.062502\n",
      "##### Koniec dopasowania modelu dla godziny: 62\n",
      "#####\n",
      "##### startuje dopasowanie modelu dla godziny: 63\n",
      "Performing stepwise search to minimize aic\n",
      " ARIMA(2,1,2)(0,0,0)[0] intercept   : AIC=4647.053, Time=0.20 sec\n",
      " ARIMA(0,1,0)(0,0,0)[0] intercept   : AIC=4727.752, Time=0.02 sec\n",
      " ARIMA(1,1,0)(0,0,0)[0] intercept   : AIC=4692.929, Time=0.05 sec\n",
      " ARIMA(0,1,1)(0,0,0)[0] intercept   : AIC=4649.185, Time=0.03 sec\n",
      " ARIMA(0,1,0)(0,0,0)[0]             : AIC=4725.758, Time=0.02 sec\n",
      " ARIMA(1,1,2)(0,0,0)[0] intercept   : AIC=4644.972, Time=0.11 sec\n",
      " ARIMA(0,1,2)(0,0,0)[0] intercept   : AIC=4645.099, Time=0.16 sec\n"
     ]
    },
    {
     "name": "stderr",
     "output_type": "stream",
     "text": [
      "D:\\Programy\\anaconda\\lib\\site-packages\\statsmodels\\base\\model.py:568: ConvergenceWarning: Maximum Likelihood optimization failed to converge. Check mle_retvals\n",
      "  ConvergenceWarning)\n",
      "D:\\Programy\\anaconda\\lib\\site-packages\\statsmodels\\base\\model.py:568: ConvergenceWarning: Maximum Likelihood optimization failed to converge. Check mle_retvals\n",
      "  ConvergenceWarning)\n"
     ]
    },
    {
     "name": "stdout",
     "output_type": "stream",
     "text": [
      " ARIMA(1,1,1)(0,0,0)[0] intercept   : AIC=4646.094, Time=0.16 sec\n",
      " ARIMA(1,1,3)(0,0,0)[0] intercept   : AIC=4646.927, Time=0.22 sec\n",
      " ARIMA(0,1,3)(0,0,0)[0] intercept   : AIC=4645.881, Time=0.10 sec\n",
      " ARIMA(2,1,1)(0,0,0)[0] intercept   : AIC=4646.501, Time=0.05 sec\n"
     ]
    },
    {
     "name": "stderr",
     "output_type": "stream",
     "text": [
      "D:\\Programy\\anaconda\\lib\\site-packages\\statsmodels\\base\\model.py:568: ConvergenceWarning: Maximum Likelihood optimization failed to converge. Check mle_retvals\n",
      "  ConvergenceWarning)\n"
     ]
    },
    {
     "name": "stdout",
     "output_type": "stream",
     "text": [
      " ARIMA(2,1,3)(0,0,0)[0] intercept   : AIC=4648.926, Time=0.25 sec\n",
      " ARIMA(1,1,2)(0,0,0)[0]             : AIC=4643.734, Time=0.09 sec\n",
      " ARIMA(0,1,2)(0,0,0)[0]             : AIC=4643.649, Time=0.11 sec\n",
      " ARIMA(0,1,1)(0,0,0)[0]             : AIC=4647.752, Time=0.01 sec\n",
      " ARIMA(0,1,3)(0,0,0)[0]             : AIC=4644.455, Time=0.06 sec\n",
      " ARIMA(1,1,1)(0,0,0)[0]             : AIC=4644.950, Time=0.05 sec\n",
      " ARIMA(1,1,3)(0,0,0)[0]             : AIC=4645.691, Time=0.16 sec\n",
      "\n",
      "Best model:  ARIMA(0,1,2)(0,0,0)[0]          \n",
      "Total fit time: 1.907 seconds\n",
      "autoARIMA time: 0:00:01.907152\n",
      "(0, 1, 2)\n",
      "(0, 0, 0, 0)\n",
      "fit time = 0:00:00.046878\n",
      "##### Koniec dopasowania modelu dla godziny: 63\n",
      "#####\n",
      "##### startuje dopasowanie modelu dla godziny: 64\n",
      "Performing stepwise search to minimize aic\n"
     ]
    },
    {
     "name": "stderr",
     "output_type": "stream",
     "text": [
      "D:\\Programy\\anaconda\\lib\\site-packages\\statsmodels\\tsa\\base\\tsa_model.py:579: ValueWarning: An unsupported index was provided and will be ignored when e.g. forecasting.\n",
      "  ' ignored when e.g. forecasting.', ValueWarning)\n",
      "D:\\Programy\\anaconda\\lib\\site-packages\\statsmodels\\tsa\\base\\tsa_model.py:579: ValueWarning: An unsupported index was provided and will be ignored when e.g. forecasting.\n",
      "  ' ignored when e.g. forecasting.', ValueWarning)\n",
      "D:\\Programy\\anaconda\\lib\\site-packages\\statsmodels\\base\\model.py:568: ConvergenceWarning: Maximum Likelihood optimization failed to converge. Check mle_retvals\n",
      "  ConvergenceWarning)\n"
     ]
    },
    {
     "name": "stdout",
     "output_type": "stream",
     "text": [
      " ARIMA(2,1,2)(0,0,0)[0] intercept   : AIC=4597.981, Time=0.26 sec\n",
      " ARIMA(0,1,0)(0,0,0)[0] intercept   : AIC=4654.290, Time=0.02 sec\n",
      " ARIMA(1,1,0)(0,0,0)[0] intercept   : AIC=4630.645, Time=0.06 sec\n",
      " ARIMA(0,1,1)(0,0,0)[0] intercept   : AIC=4608.705, Time=0.05 sec\n",
      " ARIMA(0,1,0)(0,0,0)[0]             : AIC=4652.299, Time=0.01 sec\n"
     ]
    },
    {
     "name": "stderr",
     "output_type": "stream",
     "text": [
      "D:\\Programy\\anaconda\\lib\\site-packages\\statsmodels\\base\\model.py:568: ConvergenceWarning: Maximum Likelihood optimization failed to converge. Check mle_retvals\n",
      "  ConvergenceWarning)\n"
     ]
    },
    {
     "name": "stdout",
     "output_type": "stream",
     "text": [
      " ARIMA(1,1,2)(0,0,0)[0] intercept   : AIC=4596.782, Time=0.16 sec\n",
      " ARIMA(0,1,2)(0,0,0)[0] intercept   : AIC=4595.866, Time=0.09 sec\n"
     ]
    },
    {
     "name": "stderr",
     "output_type": "stream",
     "text": [
      "D:\\Programy\\anaconda\\lib\\site-packages\\statsmodels\\base\\model.py:568: ConvergenceWarning: Maximum Likelihood optimization failed to converge. Check mle_retvals\n",
      "  ConvergenceWarning)\n",
      "D:\\Programy\\anaconda\\lib\\site-packages\\statsmodels\\base\\model.py:568: ConvergenceWarning: Maximum Likelihood optimization failed to converge. Check mle_retvals\n",
      "  ConvergenceWarning)\n"
     ]
    },
    {
     "name": "stdout",
     "output_type": "stream",
     "text": [
      " ARIMA(0,1,3)(0,0,0)[0] intercept   : AIC=4596.472, Time=0.24 sec\n",
      " ARIMA(1,1,1)(0,0,0)[0] intercept   : AIC=4595.051, Time=0.17 sec\n",
      " ARIMA(2,1,1)(0,0,0)[0] intercept   : AIC=4596.836, Time=0.20 sec\n",
      " ARIMA(2,1,0)(0,0,0)[0] intercept   : AIC=4619.153, Time=0.06 sec\n",
      " ARIMA(1,1,1)(0,0,0)[0]             : AIC=4593.891, Time=0.06 sec\n",
      " ARIMA(0,1,1)(0,0,0)[0]             : AIC=4607.065, Time=0.02 sec\n",
      " ARIMA(1,1,0)(0,0,0)[0]             : AIC=4628.688, Time=0.03 sec\n",
      " ARIMA(2,1,1)(0,0,0)[0]             : AIC=4595.632, Time=0.05 sec\n",
      " ARIMA(1,1,2)(0,0,0)[0]             : AIC=4595.454, Time=0.06 sec\n",
      " ARIMA(0,1,2)(0,0,0)[0]             : AIC=4594.442, Time=0.04 sec\n",
      " ARIMA(2,1,0)(0,0,0)[0]             : AIC=4617.227, Time=0.03 sec\n",
      " ARIMA(2,1,2)(0,0,0)[0]             : AIC=4597.276, Time=0.10 sec\n",
      "\n",
      "Best model:  ARIMA(1,1,1)(0,0,0)[0]          \n",
      "Total fit time: 1.747 seconds\n",
      "autoARIMA time: 0:00:01.762952\n",
      "(1, 1, 1)\n",
      "(0, 0, 0, 0)\n",
      "fit time = 0:00:00.072647\n",
      "##### Koniec dopasowania modelu dla godziny: 64\n",
      "#####\n",
      "##### startuje dopasowanie modelu dla godziny: 65\n",
      "Performing stepwise search to minimize aic\n"
     ]
    },
    {
     "name": "stderr",
     "output_type": "stream",
     "text": [
      "D:\\Programy\\anaconda\\lib\\site-packages\\statsmodels\\tsa\\base\\tsa_model.py:579: ValueWarning: An unsupported index was provided and will be ignored when e.g. forecasting.\n",
      "  ' ignored when e.g. forecasting.', ValueWarning)\n",
      "D:\\Programy\\anaconda\\lib\\site-packages\\statsmodels\\tsa\\base\\tsa_model.py:579: ValueWarning: An unsupported index was provided and will be ignored when e.g. forecasting.\n",
      "  ' ignored when e.g. forecasting.', ValueWarning)\n"
     ]
    },
    {
     "name": "stdout",
     "output_type": "stream",
     "text": [
      " ARIMA(2,1,2)(0,0,0)[0] intercept   : AIC=4520.049, Time=0.11 sec\n",
      " ARIMA(0,1,0)(0,0,0)[0] intercept   : AIC=4558.175, Time=0.02 sec\n",
      " ARIMA(1,1,0)(0,0,0)[0] intercept   : AIC=4530.706, Time=0.05 sec\n",
      " ARIMA(0,1,1)(0,0,0)[0] intercept   : AIC=4517.771, Time=0.03 sec\n",
      " ARIMA(0,1,0)(0,0,0)[0]             : AIC=4556.184, Time=0.02 sec\n",
      " ARIMA(1,1,1)(0,0,0)[0] intercept   : AIC=4516.069, Time=0.08 sec\n",
      " ARIMA(2,1,1)(0,0,0)[0] intercept   : AIC=4518.017, Time=0.11 sec\n",
      " ARIMA(1,1,2)(0,0,0)[0] intercept   : AIC=4518.019, Time=0.16 sec\n",
      " ARIMA(0,1,2)(0,0,0)[0] intercept   : AIC=4516.080, Time=0.06 sec\n",
      " ARIMA(2,1,0)(0,0,0)[0] intercept   : AIC=4522.732, Time=0.18 sec\n",
      " ARIMA(1,1,1)(0,0,0)[0]             : AIC=4514.370, Time=0.05 sec\n",
      " ARIMA(0,1,1)(0,0,0)[0]             : AIC=4515.962, Time=0.02 sec\n",
      " ARIMA(1,1,0)(0,0,0)[0]             : AIC=4528.750, Time=0.03 sec\n",
      " ARIMA(2,1,1)(0,0,0)[0]             : AIC=4516.306, Time=0.12 sec\n",
      " ARIMA(1,1,2)(0,0,0)[0]             : AIC=4516.312, Time=0.24 sec\n",
      " ARIMA(0,1,2)(0,0,0)[0]             : AIC=4514.369, Time=0.10 sec\n",
      " ARIMA(0,1,3)(0,0,0)[0]             : AIC=4516.277, Time=0.18 sec\n",
      " ARIMA(1,1,3)(0,0,0)[0]             : AIC=4518.354, Time=0.07 sec\n",
      "\n",
      "Best model:  ARIMA(0,1,2)(0,0,0)[0]          \n",
      "Total fit time: 1.681 seconds\n",
      "autoARIMA time: 0:00:01.688981\n",
      "(0, 1, 2)\n",
      "(0, 0, 0, 0)\n",
      "fit time = 0:00:00.042028\n",
      "##### Koniec dopasowania modelu dla godziny: 65\n",
      "#####\n",
      "##### startuje dopasowanie modelu dla godziny: 66\n",
      "Performing stepwise search to minimize aic\n"
     ]
    },
    {
     "name": "stderr",
     "output_type": "stream",
     "text": [
      "D:\\Programy\\anaconda\\lib\\site-packages\\statsmodels\\tsa\\base\\tsa_model.py:579: ValueWarning: An unsupported index was provided and will be ignored when e.g. forecasting.\n",
      "  ' ignored when e.g. forecasting.', ValueWarning)\n",
      "D:\\Programy\\anaconda\\lib\\site-packages\\statsmodels\\tsa\\base\\tsa_model.py:579: ValueWarning: An unsupported index was provided and will be ignored when e.g. forecasting.\n",
      "  ' ignored when e.g. forecasting.', ValueWarning)\n"
     ]
    },
    {
     "name": "stdout",
     "output_type": "stream",
     "text": [
      " ARIMA(2,1,2)(0,0,0)[0] intercept   : AIC=4603.652, Time=0.13 sec\n",
      " ARIMA(0,1,0)(0,0,0)[0] intercept   : AIC=4641.192, Time=0.01 sec\n",
      " ARIMA(1,1,0)(0,0,0)[0] intercept   : AIC=4617.686, Time=0.05 sec\n",
      " ARIMA(0,1,1)(0,0,0)[0] intercept   : AIC=4603.457, Time=0.05 sec\n",
      " ARIMA(0,1,0)(0,0,0)[0]             : AIC=4639.201, Time=0.02 sec\n",
      " ARIMA(1,1,1)(0,0,0)[0] intercept   : AIC=4599.982, Time=0.09 sec\n",
      " ARIMA(2,1,1)(0,0,0)[0] intercept   : AIC=4601.537, Time=0.10 sec\n",
      " ARIMA(1,1,2)(0,0,0)[0] intercept   : AIC=4601.644, Time=0.14 sec\n",
      " ARIMA(0,1,2)(0,0,0)[0] intercept   : AIC=4599.646, Time=0.06 sec\n",
      " ARIMA(0,1,3)(0,0,0)[0] intercept   : AIC=4602.340, Time=0.11 sec\n",
      " ARIMA(1,1,3)(0,0,0)[0] intercept   : AIC=4604.331, Time=0.19 sec\n",
      " ARIMA(0,1,2)(0,0,0)[0]             : AIC=4597.962, Time=0.05 sec\n",
      " ARIMA(0,1,1)(0,0,0)[0]             : AIC=4601.658, Time=0.04 sec\n",
      " ARIMA(1,1,2)(0,0,0)[0]             : AIC=4599.957, Time=0.10 sec\n",
      " ARIMA(0,1,3)(0,0,0)[0]             : AIC=4600.676, Time=0.07 sec\n",
      " ARIMA(1,1,1)(0,0,0)[0]             : AIC=4598.328, Time=0.05 sec\n",
      " ARIMA(1,1,3)(0,0,0)[0]             : AIC=4602.666, Time=0.12 sec\n",
      "\n",
      "Best model:  ARIMA(0,1,2)(0,0,0)[0]          \n",
      "Total fit time: 1.367 seconds\n",
      "autoARIMA time: 0:00:01.382283\n",
      "(0, 1, 2)\n",
      "(0, 0, 0, 0)\n",
      "fit time = 0:00:00.057631\n",
      "##### Koniec dopasowania modelu dla godziny: 66\n",
      "#####\n",
      "##### startuje dopasowanie modelu dla godziny: 67\n",
      "Performing stepwise search to minimize aic\n"
     ]
    },
    {
     "name": "stderr",
     "output_type": "stream",
     "text": [
      "D:\\Programy\\anaconda\\lib\\site-packages\\statsmodels\\tsa\\base\\tsa_model.py:579: ValueWarning: An unsupported index was provided and will be ignored when e.g. forecasting.\n",
      "  ' ignored when e.g. forecasting.', ValueWarning)\n",
      "D:\\Programy\\anaconda\\lib\\site-packages\\statsmodels\\tsa\\base\\tsa_model.py:579: ValueWarning: An unsupported index was provided and will be ignored when e.g. forecasting.\n",
      "  ' ignored when e.g. forecasting.', ValueWarning)\n"
     ]
    },
    {
     "name": "stdout",
     "output_type": "stream",
     "text": [
      " ARIMA(2,1,2)(0,0,0)[0] intercept   : AIC=4469.791, Time=0.18 sec\n",
      " ARIMA(0,1,0)(0,0,0)[0] intercept   : AIC=4489.333, Time=0.02 sec\n",
      " ARIMA(1,1,0)(0,0,0)[0] intercept   : AIC=4481.539, Time=0.05 sec\n",
      " ARIMA(0,1,1)(0,0,0)[0] intercept   : AIC=4476.187, Time=0.05 sec\n",
      " ARIMA(0,1,0)(0,0,0)[0]             : AIC=4487.355, Time=0.02 sec\n",
      " ARIMA(1,1,2)(0,0,0)[0] intercept   : AIC=4468.599, Time=0.13 sec\n",
      " ARIMA(0,1,2)(0,0,0)[0] intercept   : AIC=4468.267, Time=0.06 sec\n",
      " ARIMA(0,1,3)(0,0,0)[0] intercept   : AIC=4469.768, Time=0.10 sec\n",
      " ARIMA(1,1,1)(0,0,0)[0] intercept   : AIC=4470.852, Time=0.07 sec\n",
      " ARIMA(1,1,3)(0,0,0)[0] intercept   : AIC=4470.075, Time=0.16 sec\n",
      " ARIMA(0,1,2)(0,0,0)[0]             : AIC=4466.579, Time=0.04 sec\n",
      " ARIMA(0,1,1)(0,0,0)[0]             : AIC=4474.332, Time=0.03 sec\n",
      " ARIMA(1,1,2)(0,0,0)[0]             : AIC=4466.837, Time=0.08 sec\n",
      " ARIMA(0,1,3)(0,0,0)[0]             : AIC=4468.048, Time=0.05 sec\n",
      " ARIMA(1,1,1)(0,0,0)[0]             : AIC=4469.144, Time=0.05 sec\n",
      " ARIMA(1,1,3)(0,0,0)[0]             : AIC=4468.327, Time=0.10 sec\n",
      "\n",
      "Best model:  ARIMA(0,1,2)(0,0,0)[0]          \n",
      "Total fit time: 1.178 seconds\n",
      "autoARIMA time: 0:00:01.178356\n",
      "(0, 1, 2)\n",
      "(0, 0, 0, 0)\n",
      "fit time = 0:00:00.031251\n",
      "##### Koniec dopasowania modelu dla godziny: 67\n",
      "#####\n",
      "##### startuje dopasowanie modelu dla godziny: 68\n",
      "Performing stepwise search to minimize aic\n"
     ]
    },
    {
     "name": "stderr",
     "output_type": "stream",
     "text": [
      "D:\\Programy\\anaconda\\lib\\site-packages\\statsmodels\\tsa\\base\\tsa_model.py:579: ValueWarning: An unsupported index was provided and will be ignored when e.g. forecasting.\n",
      "  ' ignored when e.g. forecasting.', ValueWarning)\n",
      "D:\\Programy\\anaconda\\lib\\site-packages\\statsmodels\\tsa\\base\\tsa_model.py:579: ValueWarning: An unsupported index was provided and will be ignored when e.g. forecasting.\n",
      "  ' ignored when e.g. forecasting.', ValueWarning)\n"
     ]
    },
    {
     "name": "stdout",
     "output_type": "stream",
     "text": [
      " ARIMA(2,1,2)(0,0,0)[0] intercept   : AIC=4314.907, Time=0.18 sec\n",
      " ARIMA(0,1,0)(0,0,0)[0] intercept   : AIC=4348.473, Time=0.00 sec\n",
      " ARIMA(1,1,0)(0,0,0)[0] intercept   : AIC=4324.946, Time=0.03 sec\n",
      " ARIMA(0,1,1)(0,0,0)[0] intercept   : AIC=4315.214, Time=0.15 sec\n",
      " ARIMA(0,1,0)(0,0,0)[0]             : AIC=4346.483, Time=0.01 sec\n",
      " ARIMA(1,1,2)(0,0,0)[0] intercept   : AIC=4313.874, Time=0.15 sec\n",
      " ARIMA(0,1,2)(0,0,0)[0] intercept   : AIC=4315.604, Time=0.07 sec\n",
      " ARIMA(1,1,1)(0,0,0)[0] intercept   : AIC=4316.162, Time=0.07 sec\n",
      " ARIMA(1,1,3)(0,0,0)[0] intercept   : AIC=4315.169, Time=0.22 sec\n",
      " ARIMA(0,1,3)(0,0,0)[0] intercept   : AIC=4314.713, Time=0.08 sec\n",
      " ARIMA(2,1,1)(0,0,0)[0] intercept   : AIC=4313.987, Time=0.14 sec\n"
     ]
    },
    {
     "name": "stderr",
     "output_type": "stream",
     "text": [
      "D:\\Programy\\anaconda\\lib\\site-packages\\statsmodels\\base\\model.py:568: ConvergenceWarning: Maximum Likelihood optimization failed to converge. Check mle_retvals\n",
      "  ConvergenceWarning)\n"
     ]
    },
    {
     "name": "stdout",
     "output_type": "stream",
     "text": [
      " ARIMA(2,1,3)(0,0,0)[0] intercept   : AIC=4312.785, Time=0.28 sec\n"
     ]
    },
    {
     "name": "stderr",
     "output_type": "stream",
     "text": [
      "D:\\Programy\\anaconda\\lib\\site-packages\\statsmodels\\base\\model.py:568: ConvergenceWarning: Maximum Likelihood optimization failed to converge. Check mle_retvals\n",
      "  ConvergenceWarning)\n"
     ]
    },
    {
     "name": "stdout",
     "output_type": "stream",
     "text": [
      " ARIMA(3,1,3)(0,0,0)[0] intercept   : AIC=4314.479, Time=0.35 sec\n"
     ]
    },
    {
     "name": "stderr",
     "output_type": "stream",
     "text": [
      "D:\\Programy\\anaconda\\lib\\site-packages\\statsmodels\\base\\model.py:568: ConvergenceWarning: Maximum Likelihood optimization failed to converge. Check mle_retvals\n",
      "  ConvergenceWarning)\n"
     ]
    },
    {
     "name": "stdout",
     "output_type": "stream",
     "text": [
      " ARIMA(2,1,4)(0,0,0)[0] intercept   : AIC=4314.475, Time=0.32 sec\n",
      " ARIMA(1,1,4)(0,0,0)[0] intercept   : AIC=4316.958, Time=0.22 sec\n"
     ]
    },
    {
     "name": "stderr",
     "output_type": "stream",
     "text": [
      "D:\\Programy\\anaconda\\lib\\site-packages\\statsmodels\\base\\model.py:568: ConvergenceWarning: Maximum Likelihood optimization failed to converge. Check mle_retvals\n",
      "  ConvergenceWarning)\n"
     ]
    },
    {
     "name": "stdout",
     "output_type": "stream",
     "text": [
      " ARIMA(3,1,2)(0,0,0)[0] intercept   : AIC=4317.008, Time=0.33 sec\n"
     ]
    },
    {
     "name": "stderr",
     "output_type": "stream",
     "text": [
      "D:\\Programy\\anaconda\\lib\\site-packages\\statsmodels\\base\\model.py:568: ConvergenceWarning: Maximum Likelihood optimization failed to converge. Check mle_retvals\n",
      "  ConvergenceWarning)\n"
     ]
    },
    {
     "name": "stdout",
     "output_type": "stream",
     "text": [
      " ARIMA(3,1,4)(0,0,0)[0] intercept   : AIC=4315.246, Time=0.40 sec\n"
     ]
    },
    {
     "name": "stderr",
     "output_type": "stream",
     "text": [
      "D:\\Programy\\anaconda\\lib\\site-packages\\statsmodels\\base\\model.py:568: ConvergenceWarning: Maximum Likelihood optimization failed to converge. Check mle_retvals\n",
      "  ConvergenceWarning)\n"
     ]
    },
    {
     "name": "stdout",
     "output_type": "stream",
     "text": [
      " ARIMA(2,1,3)(0,0,0)[0]             : AIC=4310.793, Time=0.24 sec\n",
      " ARIMA(1,1,3)(0,0,0)[0]             : AIC=4313.359, Time=0.13 sec\n",
      " ARIMA(2,1,2)(0,0,0)[0]             : AIC=4313.078, Time=0.11 sec\n"
     ]
    },
    {
     "name": "stderr",
     "output_type": "stream",
     "text": [
      "D:\\Programy\\anaconda\\lib\\site-packages\\statsmodels\\base\\model.py:568: ConvergenceWarning: Maximum Likelihood optimization failed to converge. Check mle_retvals\n",
      "  ConvergenceWarning)\n"
     ]
    },
    {
     "name": "stdout",
     "output_type": "stream",
     "text": [
      " ARIMA(3,1,3)(0,0,0)[0]             : AIC=4312.660, Time=0.20 sec\n"
     ]
    },
    {
     "name": "stderr",
     "output_type": "stream",
     "text": [
      "D:\\Programy\\anaconda\\lib\\site-packages\\statsmodels\\base\\model.py:568: ConvergenceWarning: Maximum Likelihood optimization failed to converge. Check mle_retvals\n",
      "  ConvergenceWarning)\n"
     ]
    },
    {
     "name": "stdout",
     "output_type": "stream",
     "text": [
      " ARIMA(2,1,4)(0,0,0)[0]             : AIC=4312.636, Time=0.26 sec\n",
      " ARIMA(1,1,2)(0,0,0)[0]             : AIC=4312.092, Time=0.09 sec\n",
      " ARIMA(1,1,4)(0,0,0)[0]             : AIC=4315.164, Time=0.20 sec\n"
     ]
    },
    {
     "name": "stderr",
     "output_type": "stream",
     "text": [
      "D:\\Programy\\anaconda\\lib\\site-packages\\statsmodels\\base\\model.py:568: ConvergenceWarning: Maximum Likelihood optimization failed to converge. Check mle_retvals\n",
      "  ConvergenceWarning)\n"
     ]
    },
    {
     "name": "stdout",
     "output_type": "stream",
     "text": [
      " ARIMA(3,1,2)(0,0,0)[0]             : AIC=4315.088, Time=0.23 sec\n"
     ]
    },
    {
     "name": "stderr",
     "output_type": "stream",
     "text": [
      "D:\\Programy\\anaconda\\lib\\site-packages\\statsmodels\\base\\model.py:568: ConvergenceWarning: Maximum Likelihood optimization failed to converge. Check mle_retvals\n",
      "  ConvergenceWarning)\n",
      "D:\\Programy\\anaconda\\lib\\site-packages\\statsmodels\\tsa\\base\\tsa_model.py:579: ValueWarning: An unsupported index was provided and will be ignored when e.g. forecasting.\n",
      "  ' ignored when e.g. forecasting.', ValueWarning)\n",
      "D:\\Programy\\anaconda\\lib\\site-packages\\statsmodels\\tsa\\base\\tsa_model.py:579: ValueWarning: An unsupported index was provided and will be ignored when e.g. forecasting.\n",
      "  ' ignored when e.g. forecasting.', ValueWarning)\n"
     ]
    },
    {
     "name": "stdout",
     "output_type": "stream",
     "text": [
      " ARIMA(3,1,4)(0,0,0)[0]             : AIC=4313.317, Time=0.29 sec\n",
      "\n",
      "Best model:  ARIMA(2,1,3)(0,0,0)[0]          \n",
      "Total fit time: 4.791 seconds\n",
      "autoARIMA time: 0:00:04.806330\n",
      "(2, 1, 3)\n",
      "(0, 0, 0, 0)\n",
      "fit time = 0:00:00.150793\n",
      "##### Koniec dopasowania modelu dla godziny: 68\n",
      "#####\n",
      "##### startuje dopasowanie modelu dla godziny: 69\n",
      "Performing stepwise search to minimize aic\n",
      " ARIMA(2,1,2)(0,0,0)[0] intercept   : AIC=4259.180, Time=0.17 sec\n",
      " ARIMA(0,1,0)(0,0,0)[0] intercept   : AIC=4312.320, Time=0.02 sec\n",
      " ARIMA(1,1,0)(0,0,0)[0] intercept   : AIC=4287.408, Time=0.06 sec\n",
      " ARIMA(0,1,1)(0,0,0)[0] intercept   : AIC=4265.168, Time=0.05 sec\n",
      " ARIMA(0,1,0)(0,0,0)[0]             : AIC=4310.324, Time=0.00 sec\n",
      " ARIMA(1,1,2)(0,0,0)[0] intercept   : AIC=4258.218, Time=0.12 sec\n",
      " ARIMA(0,1,2)(0,0,0)[0] intercept   : AIC=4263.095, Time=0.04 sec\n"
     ]
    },
    {
     "name": "stderr",
     "output_type": "stream",
     "text": [
      "D:\\Programy\\anaconda\\lib\\site-packages\\statsmodels\\base\\model.py:568: ConvergenceWarning: Maximum Likelihood optimization failed to converge. Check mle_retvals\n",
      "  ConvergenceWarning)\n"
     ]
    },
    {
     "name": "stdout",
     "output_type": "stream",
     "text": [
      " ARIMA(1,1,1)(0,0,0)[0] intercept   : AIC=4264.780, Time=0.22 sec\n"
     ]
    },
    {
     "name": "stderr",
     "output_type": "stream",
     "text": [
      "D:\\Programy\\anaconda\\lib\\site-packages\\statsmodels\\base\\model.py:568: ConvergenceWarning: Maximum Likelihood optimization failed to converge. Check mle_retvals\n",
      "  ConvergenceWarning)\n"
     ]
    },
    {
     "name": "stdout",
     "output_type": "stream",
     "text": [
      " ARIMA(1,1,3)(0,0,0)[0] intercept   : AIC=4258.119, Time=0.28 sec\n",
      " ARIMA(0,1,3)(0,0,0)[0] intercept   : AIC=4256.440, Time=0.16 sec\n",
      " ARIMA(0,1,4)(0,0,0)[0] intercept   : AIC=4258.288, Time=0.12 sec\n"
     ]
    },
    {
     "name": "stderr",
     "output_type": "stream",
     "text": [
      "D:\\Programy\\anaconda\\lib\\site-packages\\statsmodels\\base\\model.py:568: ConvergenceWarning: Maximum Likelihood optimization failed to converge. Check mle_retvals\n",
      "  ConvergenceWarning)\n"
     ]
    },
    {
     "name": "stdout",
     "output_type": "stream",
     "text": [
      " ARIMA(1,1,4)(0,0,0)[0] intercept   : AIC=4259.711, Time=0.30 sec\n",
      " ARIMA(0,1,3)(0,0,0)[0]             : AIC=4254.387, Time=0.07 sec\n",
      " ARIMA(0,1,2)(0,0,0)[0]             : AIC=4261.209, Time=0.06 sec\n"
     ]
    },
    {
     "name": "stderr",
     "output_type": "stream",
     "text": [
      "D:\\Programy\\anaconda\\lib\\site-packages\\statsmodels\\base\\model.py:568: ConvergenceWarning: Maximum Likelihood optimization failed to converge. Check mle_retvals\n",
      "  ConvergenceWarning)\n"
     ]
    },
    {
     "name": "stdout",
     "output_type": "stream",
     "text": [
      " ARIMA(1,1,3)(0,0,0)[0]             : AIC=4254.890, Time=0.21 sec\n",
      " ARIMA(0,1,4)(0,0,0)[0]             : AIC=4256.315, Time=0.11 sec\n",
      " ARIMA(1,1,2)(0,0,0)[0]             : AIC=4256.436, Time=0.10 sec\n"
     ]
    },
    {
     "name": "stderr",
     "output_type": "stream",
     "text": [
      "D:\\Programy\\anaconda\\lib\\site-packages\\statsmodels\\base\\model.py:568: ConvergenceWarning: Maximum Likelihood optimization failed to converge. Check mle_retvals\n",
      "  ConvergenceWarning)\n",
      "D:\\Programy\\anaconda\\lib\\site-packages\\statsmodels\\tsa\\base\\tsa_model.py:579: ValueWarning: An unsupported index was provided and will be ignored when e.g. forecasting.\n",
      "  ' ignored when e.g. forecasting.', ValueWarning)\n",
      "D:\\Programy\\anaconda\\lib\\site-packages\\statsmodels\\tsa\\base\\tsa_model.py:579: ValueWarning: An unsupported index was provided and will be ignored when e.g. forecasting.\n",
      "  ' ignored when e.g. forecasting.', ValueWarning)\n"
     ]
    },
    {
     "name": "stdout",
     "output_type": "stream",
     "text": [
      " ARIMA(1,1,4)(0,0,0)[0]             : AIC=4256.101, Time=0.22 sec\n",
      "\n",
      "Best model:  ARIMA(0,1,3)(0,0,0)[0]          \n",
      "Total fit time: 2.318 seconds\n",
      "autoARIMA time: 0:00:02.333310\n",
      "(0, 1, 3)\n",
      "(0, 0, 0, 0)\n",
      "fit time = 0:00:00.069821\n",
      "##### Koniec dopasowania modelu dla godziny: 69\n",
      "#####\n",
      "##### startuje dopasowanie modelu dla godziny: 70\n",
      "Performing stepwise search to minimize aic\n",
      " ARIMA(2,1,2)(0,0,0)[0] intercept   : AIC=4484.450, Time=0.24 sec\n",
      " ARIMA(0,1,0)(0,0,0)[0] intercept   : AIC=4568.644, Time=0.02 sec\n",
      " ARIMA(1,1,0)(0,0,0)[0] intercept   : AIC=4540.540, Time=0.06 sec\n",
      " ARIMA(0,1,1)(0,0,0)[0] intercept   : AIC=4492.164, Time=0.05 sec\n",
      " ARIMA(0,1,0)(0,0,0)[0]             : AIC=4566.648, Time=0.01 sec\n",
      " ARIMA(1,1,2)(0,0,0)[0] intercept   : AIC=4482.300, Time=0.13 sec\n",
      " ARIMA(0,1,2)(0,0,0)[0] intercept   : AIC=4482.206, Time=0.17 sec\n"
     ]
    },
    {
     "name": "stderr",
     "output_type": "stream",
     "text": [
      "D:\\Programy\\anaconda\\lib\\site-packages\\statsmodels\\base\\model.py:568: ConvergenceWarning: Maximum Likelihood optimization failed to converge. Check mle_retvals\n",
      "  ConvergenceWarning)\n",
      "D:\\Programy\\anaconda\\lib\\site-packages\\statsmodels\\base\\model.py:568: ConvergenceWarning: Maximum Likelihood optimization failed to converge. Check mle_retvals\n",
      "  ConvergenceWarning)\n"
     ]
    },
    {
     "name": "stdout",
     "output_type": "stream",
     "text": [
      " ARIMA(0,1,3)(0,0,0)[0] intercept   : AIC=4482.258, Time=0.24 sec\n",
      " ARIMA(1,1,1)(0,0,0)[0] intercept   : AIC=4485.064, Time=0.19 sec\n"
     ]
    },
    {
     "name": "stderr",
     "output_type": "stream",
     "text": [
      "D:\\Programy\\anaconda\\lib\\site-packages\\statsmodels\\base\\model.py:568: ConvergenceWarning: Maximum Likelihood optimization failed to converge. Check mle_retvals\n",
      "  ConvergenceWarning)\n"
     ]
    },
    {
     "name": "stdout",
     "output_type": "stream",
     "text": [
      " ARIMA(1,1,3)(0,0,0)[0] intercept   : AIC=4484.633, Time=0.26 sec\n",
      " ARIMA(0,1,2)(0,0,0)[0]             : AIC=4481.377, Time=0.06 sec\n",
      " ARIMA(0,1,1)(0,0,0)[0]             : AIC=4490.868, Time=0.09 sec\n",
      " ARIMA(1,1,2)(0,0,0)[0]             : AIC=4481.269, Time=0.09 sec\n",
      " ARIMA(1,1,1)(0,0,0)[0]             : AIC=4484.162, Time=0.06 sec\n",
      " ARIMA(2,1,2)(0,0,0)[0]             : AIC=4483.267, Time=0.23 sec\n",
      " ARIMA(1,1,3)(0,0,0)[0]             : AIC=4483.210, Time=0.27 sec\n",
      " ARIMA(0,1,3)(0,0,0)[0]             : AIC=4481.294, Time=0.13 sec\n",
      " ARIMA(2,1,1)(0,0,0)[0]             : AIC=4482.409, Time=0.11 sec\n",
      " ARIMA(2,1,3)(0,0,0)[0]             : AIC=4485.230, Time=0.21 sec\n",
      "\n",
      "Best model:  ARIMA(1,1,2)(0,0,0)[0]          \n",
      "Total fit time: 2.634 seconds\n",
      "autoARIMA time: 0:00:02.642808\n",
      "(1, 1, 2)\n",
      "(0, 0, 0, 0)\n",
      "fit time = 0:00:00.114080\n",
      "##### Koniec dopasowania modelu dla godziny: 70\n",
      "#####\n",
      "##### startuje dopasowanie modelu dla godziny: 71\n",
      "Performing stepwise search to minimize aic\n"
     ]
    },
    {
     "name": "stderr",
     "output_type": "stream",
     "text": [
      "D:\\Programy\\anaconda\\lib\\site-packages\\statsmodels\\tsa\\base\\tsa_model.py:579: ValueWarning: An unsupported index was provided and will be ignored when e.g. forecasting.\n",
      "  ' ignored when e.g. forecasting.', ValueWarning)\n",
      "D:\\Programy\\anaconda\\lib\\site-packages\\statsmodels\\tsa\\base\\tsa_model.py:579: ValueWarning: An unsupported index was provided and will be ignored when e.g. forecasting.\n",
      "  ' ignored when e.g. forecasting.', ValueWarning)\n",
      "D:\\Programy\\anaconda\\lib\\site-packages\\statsmodels\\base\\model.py:568: ConvergenceWarning: Maximum Likelihood optimization failed to converge. Check mle_retvals\n",
      "  ConvergenceWarning)\n"
     ]
    },
    {
     "name": "stdout",
     "output_type": "stream",
     "text": [
      " ARIMA(2,1,2)(0,0,0)[0] intercept   : AIC=4338.100, Time=0.41 sec\n",
      " ARIMA(0,1,0)(0,0,0)[0] intercept   : AIC=4394.665, Time=0.02 sec\n",
      " ARIMA(1,1,0)(0,0,0)[0] intercept   : AIC=4371.545, Time=0.06 sec\n"
     ]
    },
    {
     "name": "stderr",
     "output_type": "stream",
     "text": [
      "D:\\Programy\\anaconda\\lib\\site-packages\\statsmodels\\base\\model.py:568: ConvergenceWarning: Maximum Likelihood optimization failed to converge. Check mle_retvals\n",
      "  ConvergenceWarning)\n"
     ]
    },
    {
     "name": "stdout",
     "output_type": "stream",
     "text": [
      " ARIMA(0,1,1)(0,0,0)[0] intercept   : AIC=4350.249, Time=0.20 sec\n",
      " ARIMA(0,1,0)(0,0,0)[0]             : AIC=4392.671, Time=0.01 sec\n"
     ]
    },
    {
     "name": "stderr",
     "output_type": "stream",
     "text": [
      "D:\\Programy\\anaconda\\lib\\site-packages\\statsmodels\\base\\model.py:568: ConvergenceWarning: Maximum Likelihood optimization failed to converge. Check mle_retvals\n",
      "  ConvergenceWarning)\n"
     ]
    },
    {
     "name": "stdout",
     "output_type": "stream",
     "text": [
      " ARIMA(1,1,2)(0,0,0)[0] intercept   : AIC=4337.202, Time=0.28 sec\n",
      " ARIMA(0,1,2)(0,0,0)[0] intercept   : AIC=4336.574, Time=0.07 sec\n"
     ]
    },
    {
     "name": "stderr",
     "output_type": "stream",
     "text": [
      "D:\\Programy\\anaconda\\lib\\site-packages\\statsmodels\\base\\model.py:568: ConvergenceWarning: Maximum Likelihood optimization failed to converge. Check mle_retvals\n",
      "  ConvergenceWarning)\n"
     ]
    },
    {
     "name": "stdout",
     "output_type": "stream",
     "text": [
      " ARIMA(0,1,3)(0,0,0)[0] intercept   : AIC=4336.794, Time=0.23 sec\n"
     ]
    },
    {
     "name": "stderr",
     "output_type": "stream",
     "text": [
      "D:\\Programy\\anaconda\\lib\\site-packages\\statsmodels\\base\\model.py:568: ConvergenceWarning: Maximum Likelihood optimization failed to converge. Check mle_retvals\n",
      "  ConvergenceWarning)\n"
     ]
    },
    {
     "name": "stdout",
     "output_type": "stream",
     "text": [
      " ARIMA(1,1,1)(0,0,0)[0] intercept   : AIC=4335.588, Time=0.21 sec\n"
     ]
    },
    {
     "name": "stderr",
     "output_type": "stream",
     "text": [
      "D:\\Programy\\anaconda\\lib\\site-packages\\statsmodels\\base\\model.py:568: ConvergenceWarning: Maximum Likelihood optimization failed to converge. Check mle_retvals\n",
      "  ConvergenceWarning)\n",
      "D:\\Programy\\anaconda\\lib\\site-packages\\statsmodels\\base\\model.py:568: ConvergenceWarning: Maximum Likelihood optimization failed to converge. Check mle_retvals\n",
      "  ConvergenceWarning)\n"
     ]
    },
    {
     "name": "stdout",
     "output_type": "stream",
     "text": [
      " ARIMA(2,1,1)(0,0,0)[0] intercept   : AIC=4337.367, Time=0.25 sec\n",
      " ARIMA(2,1,0)(0,0,0)[0] intercept   : AIC=4358.361, Time=0.06 sec\n",
      " ARIMA(1,1,1)(0,0,0)[0]             : AIC=4333.778, Time=0.09 sec\n",
      " ARIMA(0,1,1)(0,0,0)[0]             : AIC=4348.862, Time=0.03 sec\n",
      " ARIMA(1,1,0)(0,0,0)[0]             : AIC=4369.585, Time=0.04 sec\n",
      " ARIMA(2,1,1)(0,0,0)[0]             : AIC=4336.309, Time=0.07 sec\n"
     ]
    },
    {
     "name": "stderr",
     "output_type": "stream",
     "text": [
      "D:\\Programy\\anaconda\\lib\\site-packages\\statsmodels\\base\\model.py:568: ConvergenceWarning: Maximum Likelihood optimization failed to converge. Check mle_retvals\n",
      "  ConvergenceWarning)\n"
     ]
    },
    {
     "name": "stdout",
     "output_type": "stream",
     "text": [
      " ARIMA(1,1,2)(0,0,0)[0]             : AIC=4335.888, Time=0.16 sec\n",
      " ARIMA(0,1,2)(0,0,0)[0]             : AIC=4335.096, Time=0.06 sec\n",
      " ARIMA(2,1,0)(0,0,0)[0]             : AIC=4356.436, Time=0.02 sec\n"
     ]
    },
    {
     "name": "stderr",
     "output_type": "stream",
     "text": [
      "D:\\Programy\\anaconda\\lib\\site-packages\\statsmodels\\base\\model.py:568: ConvergenceWarning: Maximum Likelihood optimization failed to converge. Check mle_retvals\n",
      "  ConvergenceWarning)\n",
      "D:\\Programy\\anaconda\\lib\\site-packages\\statsmodels\\tsa\\base\\tsa_model.py:579: ValueWarning: An unsupported index was provided and will be ignored when e.g. forecasting.\n",
      "  ' ignored when e.g. forecasting.', ValueWarning)\n",
      "D:\\Programy\\anaconda\\lib\\site-packages\\statsmodels\\tsa\\base\\tsa_model.py:579: ValueWarning: An unsupported index was provided and will be ignored when e.g. forecasting.\n",
      "  ' ignored when e.g. forecasting.', ValueWarning)\n"
     ]
    },
    {
     "name": "stdout",
     "output_type": "stream",
     "text": [
      " ARIMA(2,1,2)(0,0,0)[0]             : AIC=4336.736, Time=0.20 sec\n",
      "\n",
      "Best model:  ARIMA(1,1,1)(0,0,0)[0]          \n",
      "Total fit time: 2.488 seconds\n",
      "autoARIMA time: 0:00:02.495430\n",
      "(1, 1, 1)\n",
      "(0, 0, 0, 0)\n",
      "fit time = 0:00:00.060303\n",
      "##### Koniec dopasowania modelu dla godziny: 71\n",
      "#####\n",
      "##### startuje dopasowanie modelu dla godziny: 72\n",
      "Performing stepwise search to minimize aic\n"
     ]
    },
    {
     "name": "stderr",
     "output_type": "stream",
     "text": [
      "D:\\Programy\\anaconda\\lib\\site-packages\\statsmodels\\base\\model.py:568: ConvergenceWarning: Maximum Likelihood optimization failed to converge. Check mle_retvals\n",
      "  ConvergenceWarning)\n",
      "D:\\Programy\\anaconda\\lib\\site-packages\\statsmodels\\base\\model.py:568: ConvergenceWarning: Maximum Likelihood optimization failed to converge. Check mle_retvals\n",
      "  ConvergenceWarning)\n"
     ]
    },
    {
     "name": "stdout",
     "output_type": "stream",
     "text": [
      " ARIMA(2,1,2)(0,0,0)[0] intercept   : AIC=4241.901, Time=0.25 sec\n",
      " ARIMA(0,1,0)(0,0,0)[0] intercept   : AIC=4293.769, Time=0.02 sec\n",
      " ARIMA(1,1,0)(0,0,0)[0] intercept   : AIC=4267.435, Time=0.03 sec\n",
      " ARIMA(0,1,1)(0,0,0)[0] intercept   : AIC=4246.653, Time=0.15 sec\n",
      " ARIMA(0,1,0)(0,0,0)[0]             : AIC=4291.777, Time=0.01 sec\n"
     ]
    },
    {
     "name": "stderr",
     "output_type": "stream",
     "text": [
      "D:\\Programy\\anaconda\\lib\\site-packages\\statsmodels\\base\\model.py:568: ConvergenceWarning: Maximum Likelihood optimization failed to converge. Check mle_retvals\n",
      "  ConvergenceWarning)\n",
      "D:\\Programy\\anaconda\\lib\\site-packages\\statsmodels\\base\\model.py:568: ConvergenceWarning: Maximum Likelihood optimization failed to converge. Check mle_retvals\n",
      "  ConvergenceWarning)\n"
     ]
    },
    {
     "name": "stdout",
     "output_type": "stream",
     "text": [
      " ARIMA(1,1,2)(0,0,0)[0] intercept   : AIC=4240.329, Time=0.18 sec\n",
      " ARIMA(0,1,2)(0,0,0)[0] intercept   : AIC=4238.320, Time=0.15 sec\n"
     ]
    },
    {
     "name": "stderr",
     "output_type": "stream",
     "text": [
      "D:\\Programy\\anaconda\\lib\\site-packages\\statsmodels\\base\\model.py:568: ConvergenceWarning: Maximum Likelihood optimization failed to converge. Check mle_retvals\n",
      "  ConvergenceWarning)\n",
      "D:\\Programy\\anaconda\\lib\\site-packages\\statsmodels\\base\\model.py:568: ConvergenceWarning: Maximum Likelihood optimization failed to converge. Check mle_retvals\n",
      "  ConvergenceWarning)\n"
     ]
    },
    {
     "name": "stdout",
     "output_type": "stream",
     "text": [
      " ARIMA(0,1,3)(0,0,0)[0] intercept   : AIC=4240.027, Time=0.23 sec\n",
      " ARIMA(1,1,1)(0,0,0)[0] intercept   : AIC=4238.360, Time=0.17 sec\n"
     ]
    },
    {
     "name": "stderr",
     "output_type": "stream",
     "text": [
      "D:\\Programy\\anaconda\\lib\\site-packages\\statsmodels\\base\\model.py:568: ConvergenceWarning: Maximum Likelihood optimization failed to converge. Check mle_retvals\n",
      "  ConvergenceWarning)\n"
     ]
    },
    {
     "name": "stdout",
     "output_type": "stream",
     "text": [
      " ARIMA(1,1,3)(0,0,0)[0] intercept   : AIC=4242.371, Time=0.27 sec\n",
      " ARIMA(0,1,2)(0,0,0)[0]             : AIC=4236.941, Time=0.05 sec\n",
      " ARIMA(0,1,1)(0,0,0)[0]             : AIC=4244.951, Time=0.05 sec\n",
      " ARIMA(1,1,2)(0,0,0)[0]             : AIC=4238.578, Time=0.06 sec\n",
      " ARIMA(0,1,3)(0,0,0)[0]             : AIC=4238.662, Time=0.08 sec\n",
      " ARIMA(1,1,1)(0,0,0)[0]             : AIC=4236.681, Time=0.11 sec\n",
      " ARIMA(1,1,0)(0,0,0)[0]             : AIC=4265.480, Time=0.03 sec\n"
     ]
    },
    {
     "name": "stderr",
     "output_type": "stream",
     "text": [
      "D:\\Programy\\anaconda\\lib\\site-packages\\statsmodels\\base\\model.py:568: ConvergenceWarning: Maximum Likelihood optimization failed to converge. Check mle_retvals\n",
      "  ConvergenceWarning)\n",
      "D:\\Programy\\anaconda\\lib\\site-packages\\statsmodels\\base\\model.py:568: ConvergenceWarning: Maximum Likelihood optimization failed to converge. Check mle_retvals\n",
      "  ConvergenceWarning)\n"
     ]
    },
    {
     "name": "stdout",
     "output_type": "stream",
     "text": [
      " ARIMA(2,1,1)(0,0,0)[0]             : AIC=4238.631, Time=0.13 sec\n",
      " ARIMA(2,1,0)(0,0,0)[0]             : AIC=4252.629, Time=0.03 sec\n"
     ]
    },
    {
     "name": "stderr",
     "output_type": "stream",
     "text": [
      "D:\\Programy\\anaconda\\lib\\site-packages\\statsmodels\\base\\model.py:568: ConvergenceWarning: Maximum Likelihood optimization failed to converge. Check mle_retvals\n",
      "  ConvergenceWarning)\n",
      "D:\\Programy\\anaconda\\lib\\site-packages\\statsmodels\\tsa\\base\\tsa_model.py:579: ValueWarning: An unsupported index was provided and will be ignored when e.g. forecasting.\n",
      "  ' ignored when e.g. forecasting.', ValueWarning)\n",
      "D:\\Programy\\anaconda\\lib\\site-packages\\statsmodels\\tsa\\base\\tsa_model.py:579: ValueWarning: An unsupported index was provided and will be ignored when e.g. forecasting.\n",
      "  ' ignored when e.g. forecasting.', ValueWarning)\n"
     ]
    },
    {
     "name": "stdout",
     "output_type": "stream",
     "text": [
      " ARIMA(2,1,2)(0,0,0)[0]             : AIC=4240.439, Time=0.18 sec\n",
      "\n",
      "Best model:  ARIMA(1,1,1)(0,0,0)[0]          \n",
      "Total fit time: 2.218 seconds\n",
      "autoARIMA time: 0:00:02.229486\n",
      "(1, 1, 1)\n",
      "(0, 0, 0, 0)\n",
      "fit time = 0:00:00.056038\n",
      "##### Koniec dopasowania modelu dla godziny: 72\n",
      "#####\n",
      "##### startuje dopasowanie modelu dla godziny: 73\n",
      "Performing stepwise search to minimize aic\n"
     ]
    },
    {
     "name": "stderr",
     "output_type": "stream",
     "text": [
      "D:\\Programy\\anaconda\\lib\\site-packages\\statsmodels\\base\\model.py:568: ConvergenceWarning: Maximum Likelihood optimization failed to converge. Check mle_retvals\n",
      "  ConvergenceWarning)\n"
     ]
    },
    {
     "name": "stdout",
     "output_type": "stream",
     "text": [
      " ARIMA(2,1,2)(0,0,0)[0] intercept   : AIC=4220.801, Time=0.24 sec\n",
      " ARIMA(0,1,0)(0,0,0)[0] intercept   : AIC=4270.974, Time=0.02 sec\n",
      " ARIMA(1,1,0)(0,0,0)[0] intercept   : AIC=4245.667, Time=0.05 sec\n",
      " ARIMA(0,1,1)(0,0,0)[0] intercept   : AIC=4225.315, Time=0.11 sec\n",
      " ARIMA(0,1,0)(0,0,0)[0]             : AIC=4268.985, Time=0.02 sec\n"
     ]
    },
    {
     "name": "stderr",
     "output_type": "stream",
     "text": [
      "D:\\Programy\\anaconda\\lib\\site-packages\\statsmodels\\base\\model.py:568: ConvergenceWarning: Maximum Likelihood optimization failed to converge. Check mle_retvals\n",
      "  ConvergenceWarning)\n",
      "D:\\Programy\\anaconda\\lib\\site-packages\\statsmodels\\base\\model.py:568: ConvergenceWarning: Maximum Likelihood optimization failed to converge. Check mle_retvals\n",
      "  ConvergenceWarning)\n"
     ]
    },
    {
     "name": "stdout",
     "output_type": "stream",
     "text": [
      " ARIMA(1,1,2)(0,0,0)[0] intercept   : AIC=4218.979, Time=0.19 sec\n",
      " ARIMA(0,1,2)(0,0,0)[0] intercept   : AIC=4216.978, Time=0.19 sec\n",
      " ARIMA(0,1,3)(0,0,0)[0] intercept   : AIC=4218.728, Time=0.20 sec"
     ]
    },
    {
     "name": "stderr",
     "output_type": "stream",
     "text": [
      "D:\\Programy\\anaconda\\lib\\site-packages\\statsmodels\\base\\model.py:568: ConvergenceWarning: Maximum Likelihood optimization failed to converge. Check mle_retvals\n",
      "  ConvergenceWarning)\n"
     ]
    },
    {
     "name": "stdout",
     "output_type": "stream",
     "text": [
      "\n",
      " ARIMA(1,1,1)(0,0,0)[0] intercept   : AIC=4217.134, Time=0.16 sec\n"
     ]
    },
    {
     "name": "stderr",
     "output_type": "stream",
     "text": [
      "D:\\Programy\\anaconda\\lib\\site-packages\\statsmodels\\base\\model.py:568: ConvergenceWarning: Maximum Likelihood optimization failed to converge. Check mle_retvals\n",
      "  ConvergenceWarning)\n"
     ]
    },
    {
     "name": "stdout",
     "output_type": "stream",
     "text": [
      " ARIMA(1,1,3)(0,0,0)[0] intercept   : AIC=4221.048, Time=0.27 sec\n",
      " ARIMA(0,1,2)(0,0,0)[0]             : AIC=4215.474, Time=0.08 sec\n",
      " ARIMA(0,1,1)(0,0,0)[0]             : AIC=4223.636, Time=0.05 sec\n"
     ]
    },
    {
     "name": "stderr",
     "output_type": "stream",
     "text": [
      "D:\\Programy\\anaconda\\lib\\site-packages\\statsmodels\\base\\model.py:568: ConvergenceWarning: Maximum Likelihood optimization failed to converge. Check mle_retvals\n",
      "  ConvergenceWarning)\n"
     ]
    },
    {
     "name": "stdout",
     "output_type": "stream",
     "text": [
      " ARIMA(1,1,2)(0,0,0)[0]             : AIC=4217.252, Time=0.16 sec\n",
      " ARIMA(0,1,3)(0,0,0)[0]             : AIC=4217.381, Time=0.06 sec\n",
      " ARIMA(1,1,1)(0,0,0)[0]             : AIC=4215.449, Time=0.10 sec\n",
      " ARIMA(1,1,0)(0,0,0)[0]             : AIC=4243.723, Time=0.02 sec\n",
      " ARIMA(2,1,1)(0,0,0)[0]             : AIC=4217.529, Time=0.09 sec\n",
      " ARIMA(2,1,0)(0,0,0)[0]             : AIC=4231.478, Time=0.03 sec\n",
      " ARIMA(2,1,2)(0,0,0)[0]             : AIC=4219.253, Time=0.14 sec\n",
      "\n",
      "Best model:  ARIMA(1,1,1)(0,0,0)[0]          \n",
      "Total fit time: 2.175 seconds\n",
      "autoARIMA time: 0:00:02.183444\n",
      "(1, 1, 1)\n",
      "(0, 0, 0, 0)\n",
      "fit time = 0:00:00.155455\n",
      "##### Koniec dopasowania modelu dla godziny: 73\n",
      "#####\n",
      "##### startuje dopasowanie modelu dla godziny: 74\n",
      "Performing stepwise search to minimize aic\n"
     ]
    },
    {
     "name": "stderr",
     "output_type": "stream",
     "text": [
      "D:\\Programy\\anaconda\\lib\\site-packages\\statsmodels\\tsa\\base\\tsa_model.py:579: ValueWarning: An unsupported index was provided and will be ignored when e.g. forecasting.\n",
      "  ' ignored when e.g. forecasting.', ValueWarning)\n",
      "D:\\Programy\\anaconda\\lib\\site-packages\\statsmodels\\tsa\\base\\tsa_model.py:579: ValueWarning: An unsupported index was provided and will be ignored when e.g. forecasting.\n",
      "  ' ignored when e.g. forecasting.', ValueWarning)\n"
     ]
    },
    {
     "name": "stdout",
     "output_type": "stream",
     "text": [
      " ARIMA(2,1,2)(0,0,0)[0] intercept   : AIC=4264.962, Time=0.18 sec\n",
      " ARIMA(0,1,0)(0,0,0)[0] intercept   : AIC=4312.662, Time=0.02 sec\n",
      " ARIMA(1,1,0)(0,0,0)[0] intercept   : AIC=4292.797, Time=0.03 sec\n",
      " ARIMA(0,1,1)(0,0,0)[0] intercept   : AIC=4274.085, Time=0.06 sec\n",
      " ARIMA(0,1,0)(0,0,0)[0]             : AIC=4310.673, Time=0.01 sec\n"
     ]
    },
    {
     "name": "stderr",
     "output_type": "stream",
     "text": [
      "D:\\Programy\\anaconda\\lib\\site-packages\\statsmodels\\base\\model.py:568: ConvergenceWarning: Maximum Likelihood optimization failed to converge. Check mle_retvals\n",
      "  ConvergenceWarning)\n",
      "D:\\Programy\\anaconda\\lib\\site-packages\\statsmodels\\base\\model.py:568: ConvergenceWarning: Maximum Likelihood optimization failed to converge. Check mle_retvals\n",
      "  ConvergenceWarning)\n"
     ]
    },
    {
     "name": "stdout",
     "output_type": "stream",
     "text": [
      " ARIMA(1,1,2)(0,0,0)[0] intercept   : AIC=4263.815, Time=0.20 sec\n",
      " ARIMA(0,1,2)(0,0,0)[0] intercept   : AIC=4261.710, Time=0.17 sec\n"
     ]
    },
    {
     "name": "stderr",
     "output_type": "stream",
     "text": [
      "D:\\Programy\\anaconda\\lib\\site-packages\\statsmodels\\base\\model.py:568: ConvergenceWarning: Maximum Likelihood optimization failed to converge. Check mle_retvals\n",
      "  ConvergenceWarning)\n"
     ]
    },
    {
     "name": "stdout",
     "output_type": "stream",
     "text": [
      " ARIMA(0,1,3)(0,0,0)[0] intercept   : AIC=4263.532, Time=0.20 sec\n",
      " ARIMA(1,1,1)(0,0,0)[0] intercept   : AIC=4262.021, Time=0.15 sec\n"
     ]
    },
    {
     "name": "stderr",
     "output_type": "stream",
     "text": [
      "D:\\Programy\\anaconda\\lib\\site-packages\\statsmodels\\base\\model.py:568: ConvergenceWarning: Maximum Likelihood optimization failed to converge. Check mle_retvals\n",
      "  ConvergenceWarning)\n"
     ]
    },
    {
     "name": "stdout",
     "output_type": "stream",
     "text": [
      " ARIMA(1,1,3)(0,0,0)[0] intercept   : AIC=4265.753, Time=0.30 sec\n",
      " ARIMA(0,1,2)(0,0,0)[0]             : AIC=4260.344, Time=0.04 sec\n",
      " ARIMA(0,1,1)(0,0,0)[0]             : AIC=4272.376, Time=0.03 sec\n",
      " ARIMA(1,1,2)(0,0,0)[0]             : AIC=4262.087, Time=0.10 sec\n",
      " ARIMA(0,1,3)(0,0,0)[0]             : AIC=4262.257, Time=0.06 sec\n",
      " ARIMA(1,1,1)(0,0,0)[0]             : AIC=4260.807, Time=0.05 sec\n"
     ]
    },
    {
     "name": "stderr",
     "output_type": "stream",
     "text": [
      "D:\\Programy\\anaconda\\lib\\site-packages\\statsmodels\\base\\model.py:568: ConvergenceWarning: Maximum Likelihood optimization failed to converge. Check mle_retvals\n",
      "  ConvergenceWarning)\n",
      "D:\\Programy\\anaconda\\lib\\site-packages\\statsmodels\\tsa\\base\\tsa_model.py:579: ValueWarning: An unsupported index was provided and will be ignored when e.g. forecasting.\n",
      "  ' ignored when e.g. forecasting.', ValueWarning)\n",
      "D:\\Programy\\anaconda\\lib\\site-packages\\statsmodels\\tsa\\base\\tsa_model.py:579: ValueWarning: An unsupported index was provided and will be ignored when e.g. forecasting.\n",
      "  ' ignored when e.g. forecasting.', ValueWarning)\n"
     ]
    },
    {
     "name": "stdout",
     "output_type": "stream",
     "text": [
      " ARIMA(1,1,3)(0,0,0)[0]             : AIC=4264.201, Time=0.18 sec\n",
      "\n",
      "Best model:  ARIMA(0,1,2)(0,0,0)[0]          \n",
      "Total fit time: 1.805 seconds\n",
      "autoARIMA time: 0:00:01.812382\n",
      "(0, 1, 2)\n",
      "(0, 0, 0, 0)\n",
      "fit time = 0:00:00.041290\n",
      "##### Koniec dopasowania modelu dla godziny: 74\n",
      "#####\n",
      "##### startuje dopasowanie modelu dla godziny: 75\n",
      "Performing stepwise search to minimize aic\n"
     ]
    },
    {
     "name": "stderr",
     "output_type": "stream",
     "text": [
      "D:\\Programy\\anaconda\\lib\\site-packages\\statsmodels\\base\\model.py:568: ConvergenceWarning: Maximum Likelihood optimization failed to converge. Check mle_retvals\n",
      "  ConvergenceWarning)\n"
     ]
    },
    {
     "name": "stdout",
     "output_type": "stream",
     "text": [
      " ARIMA(2,1,2)(0,0,0)[0] intercept   : AIC=inf, Time=0.27 sec\n",
      " ARIMA(0,1,0)(0,0,0)[0] intercept   : AIC=4224.464, Time=0.02 sec\n",
      " ARIMA(1,1,0)(0,0,0)[0] intercept   : AIC=4207.765, Time=0.02 sec\n",
      " ARIMA(0,1,1)(0,0,0)[0] intercept   : AIC=4194.329, Time=0.05 sec\n",
      " ARIMA(0,1,0)(0,0,0)[0]             : AIC=4222.476, Time=0.02 sec\n"
     ]
    },
    {
     "name": "stderr",
     "output_type": "stream",
     "text": [
      "D:\\Programy\\anaconda\\lib\\site-packages\\statsmodels\\base\\model.py:568: ConvergenceWarning: Maximum Likelihood optimization failed to converge. Check mle_retvals\n",
      "  ConvergenceWarning)\n"
     ]
    },
    {
     "name": "stdout",
     "output_type": "stream",
     "text": [
      " ARIMA(1,1,1)(0,0,0)[0] intercept   : AIC=4180.773, Time=0.18 sec\n"
     ]
    },
    {
     "name": "stderr",
     "output_type": "stream",
     "text": [
      "D:\\Programy\\anaconda\\lib\\site-packages\\statsmodels\\base\\model.py:568: ConvergenceWarning: Maximum Likelihood optimization failed to converge. Check mle_retvals\n",
      "  ConvergenceWarning)\n"
     ]
    },
    {
     "name": "stdout",
     "output_type": "stream",
     "text": [
      " ARIMA(2,1,1)(0,0,0)[0] intercept   : AIC=4182.508, Time=0.23 sec\n"
     ]
    },
    {
     "name": "stderr",
     "output_type": "stream",
     "text": [
      "D:\\Programy\\anaconda\\lib\\site-packages\\statsmodels\\base\\model.py:568: ConvergenceWarning: Maximum Likelihood optimization failed to converge. Check mle_retvals\n",
      "  ConvergenceWarning)\n",
      "D:\\Programy\\anaconda\\lib\\site-packages\\statsmodels\\base\\model.py:568: ConvergenceWarning: Maximum Likelihood optimization failed to converge. Check mle_retvals\n",
      "  ConvergenceWarning)\n"
     ]
    },
    {
     "name": "stdout",
     "output_type": "stream",
     "text": [
      " ARIMA(1,1,2)(0,0,0)[0] intercept   : AIC=4182.793, Time=0.23 sec\n",
      " ARIMA(0,1,2)(0,0,0)[0] intercept   : AIC=4180.679, Time=0.18 sec\n",
      " ARIMA(0,1,3)(0,0,0)[0] intercept   : AIC=4182.629, Time=0.22 sec\n"
     ]
    },
    {
     "name": "stderr",
     "output_type": "stream",
     "text": [
      "D:\\Programy\\anaconda\\lib\\site-packages\\statsmodels\\base\\model.py:568: ConvergenceWarning: Maximum Likelihood optimization failed to converge. Check mle_retvals\n",
      "  ConvergenceWarning)\n"
     ]
    },
    {
     "name": "stdout",
     "output_type": "stream",
     "text": [
      " ARIMA(1,1,3)(0,0,0)[0] intercept   : AIC=4181.931, Time=0.26 sec\n",
      " ARIMA(0,1,2)(0,0,0)[0]             : AIC=4179.294, Time=0.05 sec\n",
      " ARIMA(0,1,1)(0,0,0)[0]             : AIC=4192.538, Time=0.03 sec\n",
      " ARIMA(1,1,2)(0,0,0)[0]             : AIC=4180.944, Time=0.14 sec\n",
      " ARIMA(0,1,3)(0,0,0)[0]             : AIC=4181.272, Time=0.07 sec\n",
      " ARIMA(1,1,1)(0,0,0)[0]             : AIC=4179.612, Time=0.04 sec\n"
     ]
    },
    {
     "name": "stderr",
     "output_type": "stream",
     "text": [
      "D:\\Programy\\anaconda\\lib\\site-packages\\statsmodels\\base\\model.py:568: ConvergenceWarning: Maximum Likelihood optimization failed to converge. Check mle_retvals\n",
      "  ConvergenceWarning)\n",
      "D:\\Programy\\anaconda\\lib\\site-packages\\statsmodels\\tsa\\base\\tsa_model.py:579: ValueWarning: An unsupported index was provided and will be ignored when e.g. forecasting.\n",
      "  ' ignored when e.g. forecasting.', ValueWarning)\n",
      "D:\\Programy\\anaconda\\lib\\site-packages\\statsmodels\\tsa\\base\\tsa_model.py:579: ValueWarning: An unsupported index was provided and will be ignored when e.g. forecasting.\n",
      "  ' ignored when e.g. forecasting.', ValueWarning)\n"
     ]
    },
    {
     "name": "stdout",
     "output_type": "stream",
     "text": [
      " ARIMA(1,1,3)(0,0,0)[0]             : AIC=4180.437, Time=0.26 sec\n",
      "\n",
      "Best model:  ARIMA(0,1,2)(0,0,0)[0]          \n",
      "Total fit time: 2.266 seconds\n",
      "autoARIMA time: 0:00:02.274321\n",
      "(0, 1, 2)\n",
      "(0, 0, 0, 0)\n",
      "fit time = 0:00:00.043029\n",
      "##### Koniec dopasowania modelu dla godziny: 75\n",
      "#####\n",
      "##### startuje dopasowanie modelu dla godziny: 76\n",
      "Performing stepwise search to minimize aic\n",
      " ARIMA(2,1,2)(0,0,0)[0] intercept   : AIC=4075.886, Time=0.16 sec\n",
      " ARIMA(0,1,0)(0,0,0)[0] intercept   : AIC=4123.590, Time=0.00 sec\n",
      " ARIMA(1,1,0)(0,0,0)[0] intercept   : AIC=4095.185, Time=0.03 sec\n",
      " ARIMA(0,1,1)(0,0,0)[0] intercept   : AIC=4076.800, Time=0.05 sec\n",
      " ARIMA(0,1,0)(0,0,0)[0]             : AIC=4121.601, Time=0.00 sec\n",
      " ARIMA(1,1,2)(0,0,0)[0] intercept   : AIC=4073.944, Time=0.13 sec\n",
      " ARIMA(0,1,2)(0,0,0)[0] intercept   : AIC=4075.220, Time=0.15 sec\n",
      " ARIMA(1,1,1)(0,0,0)[0] intercept   : AIC=4075.875, Time=0.15 sec\n",
      " ARIMA(1,1,3)(0,0,0)[0] intercept   : AIC=4075.931, Time=0.16 sec\n"
     ]
    },
    {
     "name": "stderr",
     "output_type": "stream",
     "text": [
      "D:\\Programy\\anaconda\\lib\\site-packages\\statsmodels\\base\\model.py:568: ConvergenceWarning: Maximum Likelihood optimization failed to converge. Check mle_retvals\n",
      "  ConvergenceWarning)\n"
     ]
    },
    {
     "name": "stdout",
     "output_type": "stream",
     "text": [
      " ARIMA(0,1,3)(0,0,0)[0] intercept   : AIC=4075.911, Time=0.20 sec\n",
      " ARIMA(2,1,1)(0,0,0)[0] intercept   : AIC=4077.204, Time=0.12 sec\n"
     ]
    },
    {
     "name": "stderr",
     "output_type": "stream",
     "text": [
      "D:\\Programy\\anaconda\\lib\\site-packages\\statsmodels\\base\\model.py:568: ConvergenceWarning: Maximum Likelihood optimization failed to converge. Check mle_retvals\n",
      "  ConvergenceWarning)\n"
     ]
    },
    {
     "name": "stdout",
     "output_type": "stream",
     "text": [
      " ARIMA(2,1,3)(0,0,0)[0] intercept   : AIC=4070.819, Time=0.37 sec\n"
     ]
    },
    {
     "name": "stderr",
     "output_type": "stream",
     "text": [
      "D:\\Programy\\anaconda\\lib\\site-packages\\statsmodels\\base\\model.py:568: ConvergenceWarning: Maximum Likelihood optimization failed to converge. Check mle_retvals\n",
      "  ConvergenceWarning)\n"
     ]
    },
    {
     "name": "stdout",
     "output_type": "stream",
     "text": [
      " ARIMA(3,1,3)(0,0,0)[0] intercept   : AIC=4071.015, Time=0.32 sec\n"
     ]
    },
    {
     "name": "stderr",
     "output_type": "stream",
     "text": [
      "D:\\Programy\\anaconda\\lib\\site-packages\\statsmodels\\base\\model.py:568: ConvergenceWarning: Maximum Likelihood optimization failed to converge. Check mle_retvals\n",
      "  ConvergenceWarning)\n"
     ]
    },
    {
     "name": "stdout",
     "output_type": "stream",
     "text": [
      " ARIMA(2,1,4)(0,0,0)[0] intercept   : AIC=4071.412, Time=0.36 sec\n",
      " ARIMA(1,1,4)(0,0,0)[0] intercept   : AIC=4076.718, Time=0.21 sec\n",
      " ARIMA(3,1,2)(0,0,0)[0] intercept   : AIC=4076.747, Time=0.20 sec\n"
     ]
    },
    {
     "name": "stderr",
     "output_type": "stream",
     "text": [
      "D:\\Programy\\anaconda\\lib\\site-packages\\statsmodels\\base\\model.py:568: ConvergenceWarning: Maximum Likelihood optimization failed to converge. Check mle_retvals\n",
      "  ConvergenceWarning)\n"
     ]
    },
    {
     "name": "stdout",
     "output_type": "stream",
     "text": [
      " ARIMA(3,1,4)(0,0,0)[0] intercept   : AIC=4073.263, Time=0.32 sec\n"
     ]
    },
    {
     "name": "stderr",
     "output_type": "stream",
     "text": [
      "D:\\Programy\\anaconda\\lib\\site-packages\\statsmodels\\base\\model.py:568: ConvergenceWarning: Maximum Likelihood optimization failed to converge. Check mle_retvals\n",
      "  ConvergenceWarning)\n"
     ]
    },
    {
     "name": "stdout",
     "output_type": "stream",
     "text": [
      " ARIMA(2,1,3)(0,0,0)[0]             : AIC=4069.330, Time=0.23 sec\n",
      " ARIMA(1,1,3)(0,0,0)[0]             : AIC=4074.222, Time=0.14 sec\n",
      " ARIMA(2,1,2)(0,0,0)[0]             : AIC=4074.181, Time=0.10 sec\n",
      " ARIMA(3,1,3)(0,0,0)[0]             : AIC=4069.348, Time=0.26 sec\n"
     ]
    },
    {
     "name": "stderr",
     "output_type": "stream",
     "text": [
      "D:\\Programy\\anaconda\\lib\\site-packages\\statsmodels\\base\\model.py:568: ConvergenceWarning: Maximum Likelihood optimization failed to converge. Check mle_retvals\n",
      "  ConvergenceWarning)\n"
     ]
    },
    {
     "name": "stdout",
     "output_type": "stream",
     "text": [
      " ARIMA(2,1,4)(0,0,0)[0]             : AIC=4069.717, Time=0.28 sec\n",
      " ARIMA(1,1,2)(0,0,0)[0]             : AIC=4072.251, Time=0.10 sec\n",
      " ARIMA(1,1,4)(0,0,0)[0]             : AIC=4075.027, Time=0.14 sec\n",
      " ARIMA(3,1,2)(0,0,0)[0]             : AIC=4074.992, Time=0.18 sec\n"
     ]
    },
    {
     "name": "stderr",
     "output_type": "stream",
     "text": [
      "D:\\Programy\\anaconda\\lib\\site-packages\\statsmodels\\base\\model.py:568: ConvergenceWarning: Maximum Likelihood optimization failed to converge. Check mle_retvals\n",
      "  ConvergenceWarning)\n",
      "D:\\Programy\\anaconda\\lib\\site-packages\\statsmodels\\tsa\\base\\tsa_model.py:579: ValueWarning: An unsupported index was provided and will be ignored when e.g. forecasting.\n",
      "  ' ignored when e.g. forecasting.', ValueWarning)\n",
      "D:\\Programy\\anaconda\\lib\\site-packages\\statsmodels\\tsa\\base\\tsa_model.py:579: ValueWarning: An unsupported index was provided and will be ignored when e.g. forecasting.\n",
      "  ' ignored when e.g. forecasting.', ValueWarning)\n"
     ]
    },
    {
     "name": "stdout",
     "output_type": "stream",
     "text": [
      " ARIMA(3,1,4)(0,0,0)[0]             : AIC=4071.573, Time=0.28 sec\n",
      "\n",
      "Best model:  ARIMA(2,1,3)(0,0,0)[0]          \n",
      "Total fit time: 4.677 seconds\n",
      "autoARIMA time: 0:00:04.693127\n",
      "(2, 1, 3)\n",
      "(0, 0, 0, 0)\n",
      "fit time = 0:00:00.205798\n",
      "##### Koniec dopasowania modelu dla godziny: 76\n",
      "#####\n",
      "##### startuje dopasowanie modelu dla godziny: 77\n",
      "Performing stepwise search to minimize aic\n",
      " ARIMA(2,1,2)(0,0,0)[0] intercept   : AIC=4192.870, Time=0.17 sec\n",
      " ARIMA(0,1,0)(0,0,0)[0] intercept   : AIC=4248.598, Time=0.02 sec\n",
      " ARIMA(1,1,0)(0,0,0)[0] intercept   : AIC=4225.089, Time=0.05 sec\n",
      " ARIMA(0,1,1)(0,0,0)[0] intercept   : AIC=4198.524, Time=0.07 sec\n",
      " ARIMA(0,1,0)(0,0,0)[0]             : AIC=4246.609, Time=0.02 sec\n",
      " ARIMA(1,1,2)(0,0,0)[0] intercept   : AIC=4191.316, Time=0.16 sec\n"
     ]
    },
    {
     "name": "stderr",
     "output_type": "stream",
     "text": [
      "D:\\Programy\\anaconda\\lib\\site-packages\\statsmodels\\base\\model.py:568: ConvergenceWarning: Maximum Likelihood optimization failed to converge. Check mle_retvals\n",
      "  ConvergenceWarning)\n"
     ]
    },
    {
     "name": "stdout",
     "output_type": "stream",
     "text": [
      " ARIMA(0,1,2)(0,0,0)[0] intercept   : AIC=4193.832, Time=0.22 sec\n",
      " ARIMA(1,1,1)(0,0,0)[0] intercept   : AIC=4196.418, Time=0.13 sec\n",
      " ARIMA(1,1,3)(0,0,0)[0] intercept   : AIC=4192.880, Time=0.26 sec\n"
     ]
    },
    {
     "name": "stderr",
     "output_type": "stream",
     "text": [
      "D:\\Programy\\anaconda\\lib\\site-packages\\statsmodels\\base\\model.py:568: ConvergenceWarning: Maximum Likelihood optimization failed to converge. Check mle_retvals\n",
      "  ConvergenceWarning)\n"
     ]
    },
    {
     "name": "stdout",
     "output_type": "stream",
     "text": [
      " ARIMA(0,1,3)(0,0,0)[0] intercept   : AIC=4190.735, Time=0.21 sec\n"
     ]
    },
    {
     "name": "stderr",
     "output_type": "stream",
     "text": [
      "D:\\Programy\\anaconda\\lib\\site-packages\\statsmodels\\base\\model.py:568: ConvergenceWarning: Maximum Likelihood optimization failed to converge. Check mle_retvals\n",
      "  ConvergenceWarning)\n"
     ]
    },
    {
     "name": "stdout",
     "output_type": "stream",
     "text": [
      " ARIMA(0,1,4)(0,0,0)[0] intercept   : AIC=4192.743, Time=0.26 sec\n",
      " ARIMA(1,1,4)(0,0,0)[0] intercept   : AIC=4194.642, Time=0.35 sec\n",
      " ARIMA(0,1,3)(0,0,0)[0]             : AIC=4189.075, Time=0.16 sec\n",
      " ARIMA(0,1,2)(0,0,0)[0]             : AIC=4192.238, Time=0.14 sec\n",
      " ARIMA(1,1,3)(0,0,0)[0]             : AIC=4191.077, Time=0.09 sec\n",
      " ARIMA(0,1,4)(0,0,0)[0]             : AIC=4191.083, Time=0.11 sec\n",
      " ARIMA(1,1,2)(0,0,0)[0]             : AIC=4189.693, Time=0.08 sec\n",
      " ARIMA(1,1,4)(0,0,0)[0]             : AIC=4192.929, Time=0.20 sec\n",
      "\n",
      "Best model:  ARIMA(0,1,3)(0,0,0)[0]          \n",
      "Total fit time: 2.713 seconds\n",
      "autoARIMA time: 0:00:02.719417\n",
      "(0, 1, 3)\n",
      "(0, 0, 0, 0)\n",
      "fit time = 0:00:00.092066\n",
      "##### Koniec dopasowania modelu dla godziny: 77\n",
      "#####\n",
      "##### startuje dopasowanie modelu dla godziny: 78\n",
      "Performing stepwise search to minimize aic\n"
     ]
    },
    {
     "name": "stderr",
     "output_type": "stream",
     "text": [
      "D:\\Programy\\anaconda\\lib\\site-packages\\statsmodels\\tsa\\base\\tsa_model.py:579: ValueWarning: An unsupported index was provided and will be ignored when e.g. forecasting.\n",
      "  ' ignored when e.g. forecasting.', ValueWarning)\n",
      "D:\\Programy\\anaconda\\lib\\site-packages\\statsmodels\\tsa\\base\\tsa_model.py:579: ValueWarning: An unsupported index was provided and will be ignored when e.g. forecasting.\n",
      "  ' ignored when e.g. forecasting.', ValueWarning)\n",
      "D:\\Programy\\anaconda\\lib\\site-packages\\statsmodels\\base\\model.py:568: ConvergenceWarning: Maximum Likelihood optimization failed to converge. Check mle_retvals\n",
      "  ConvergenceWarning)\n"
     ]
    },
    {
     "name": "stdout",
     "output_type": "stream",
     "text": [
      " ARIMA(2,1,2)(0,0,0)[0] intercept   : AIC=4407.264, Time=0.32 sec\n",
      " ARIMA(0,1,0)(0,0,0)[0] intercept   : AIC=4452.021, Time=0.02 sec\n",
      " ARIMA(1,1,0)(0,0,0)[0] intercept   : AIC=4431.826, Time=0.05 sec\n",
      " ARIMA(0,1,1)(0,0,0)[0] intercept   : AIC=4412.688, Time=0.10 sec\n",
      " ARIMA(0,1,0)(0,0,0)[0]             : AIC=4450.028, Time=0.01 sec\n",
      " ARIMA(1,1,2)(0,0,0)[0] intercept   : AIC=4405.808, Time=0.09 sec\n",
      " ARIMA(0,1,2)(0,0,0)[0] intercept   : AIC=4403.660, Time=0.18 sec\n"
     ]
    },
    {
     "name": "stderr",
     "output_type": "stream",
     "text": [
      "D:\\Programy\\anaconda\\lib\\site-packages\\statsmodels\\base\\model.py:568: ConvergenceWarning: Maximum Likelihood optimization failed to converge. Check mle_retvals\n",
      "  ConvergenceWarning)\n"
     ]
    },
    {
     "name": "stdout",
     "output_type": "stream",
     "text": [
      " ARIMA(0,1,3)(0,0,0)[0] intercept   : AIC=4405.188, Time=0.28 sec\n"
     ]
    },
    {
     "name": "stderr",
     "output_type": "stream",
     "text": [
      "D:\\Programy\\anaconda\\lib\\site-packages\\statsmodels\\base\\model.py:568: ConvergenceWarning: Maximum Likelihood optimization failed to converge. Check mle_retvals\n",
      "  ConvergenceWarning)\n"
     ]
    },
    {
     "name": "stdout",
     "output_type": "stream",
     "text": [
      " ARIMA(1,1,1)(0,0,0)[0] intercept   : AIC=4404.238, Time=0.27 sec\n"
     ]
    },
    {
     "name": "stderr",
     "output_type": "stream",
     "text": [
      "D:\\Programy\\anaconda\\lib\\site-packages\\statsmodels\\base\\model.py:568: ConvergenceWarning: Maximum Likelihood optimization failed to converge. Check mle_retvals\n",
      "  ConvergenceWarning)\n"
     ]
    },
    {
     "name": "stdout",
     "output_type": "stream",
     "text": [
      " ARIMA(1,1,3)(0,0,0)[0] intercept   : AIC=4405.751, Time=0.29 sec\n",
      " ARIMA(0,1,2)(0,0,0)[0]             : AIC=4402.113, Time=0.03 sec\n",
      " ARIMA(0,1,1)(0,0,0)[0]             : AIC=4410.954, Time=0.01 sec\n",
      " ARIMA(1,1,2)(0,0,0)[0]             : AIC=4403.894, Time=0.08 sec\n",
      " ARIMA(0,1,3)(0,0,0)[0]             : AIC=4403.682, Time=0.06 sec\n",
      " ARIMA(1,1,1)(0,0,0)[0]             : AIC=4402.730, Time=0.06 sec\n",
      " ARIMA(1,1,3)(0,0,0)[0]             : AIC=4405.848, Time=0.17 sec\n",
      "\n",
      "Best model:  ARIMA(0,1,2)(0,0,0)[0]          \n",
      "Total fit time: 2.056 seconds\n",
      "autoARIMA time: 0:00:02.064178"
     ]
    },
    {
     "name": "stderr",
     "output_type": "stream",
     "text": [
      "D:\\Programy\\anaconda\\lib\\site-packages\\statsmodels\\base\\model.py:568: ConvergenceWarning: Maximum Likelihood optimization failed to converge. Check mle_retvals\n",
      "  ConvergenceWarning)\n",
      "D:\\Programy\\anaconda\\lib\\site-packages\\statsmodels\\tsa\\base\\tsa_model.py:579: ValueWarning: An unsupported index was provided and will be ignored when e.g. forecasting.\n",
      "  ' ignored when e.g. forecasting.', ValueWarning)\n",
      "D:\\Programy\\anaconda\\lib\\site-packages\\statsmodels\\tsa\\base\\tsa_model.py:579: ValueWarning: An unsupported index was provided and will be ignored when e.g. forecasting.\n",
      "  ' ignored when e.g. forecasting.', ValueWarning)\n"
     ]
    },
    {
     "name": "stdout",
     "output_type": "stream",
     "text": [
      "\n",
      "(0, 1, 2)\n",
      "(0, 0, 0, 0)\n",
      "fit time = 0:00:00.046033\n",
      "##### Koniec dopasowania modelu dla godziny: 78\n",
      "#####\n",
      "##### startuje dopasowanie modelu dla godziny: 79\n",
      "Performing stepwise search to minimize aic\n"
     ]
    },
    {
     "name": "stderr",
     "output_type": "stream",
     "text": [
      "D:\\Programy\\anaconda\\lib\\site-packages\\statsmodels\\base\\model.py:568: ConvergenceWarning: Maximum Likelihood optimization failed to converge. Check mle_retvals\n",
      "  ConvergenceWarning)\n"
     ]
    },
    {
     "name": "stdout",
     "output_type": "stream",
     "text": [
      " ARIMA(2,1,2)(0,0,0)[0] intercept   : AIC=4472.894, Time=0.27 sec\n",
      " ARIMA(0,1,0)(0,0,0)[0] intercept   : AIC=4516.749, Time=0.02 sec\n",
      " ARIMA(1,1,0)(0,0,0)[0] intercept   : AIC=4495.362, Time=0.03 sec\n",
      " ARIMA(0,1,1)(0,0,0)[0] intercept   : AIC=4479.018, Time=0.07 sec\n",
      " ARIMA(0,1,0)(0,0,0)[0]             : AIC=4514.758, Time=0.01 sec\n",
      " ARIMA(1,1,2)(0,0,0)[0] intercept   : AIC=4470.943, Time=0.13 sec\n",
      " ARIMA(0,1,2)(0,0,0)[0] intercept   : AIC=4469.267, Time=0.06 sec\n",
      " ARIMA(0,1,3)(0,0,0)[0] intercept   : AIC=4470.964, Time=0.09 sec\n",
      " ARIMA(1,1,1)(0,0,0)[0] intercept   : AIC=4469.054, Time=0.17 sec\n",
      " ARIMA(2,1,1)(0,0,0)[0] intercept   : AIC=4470.720, Time=0.11 sec\n",
      " ARIMA(2,1,0)(0,0,0)[0] intercept   : AIC=4485.193, Time=0.06 sec\n",
      " ARIMA(1,1,1)(0,0,0)[0]             : AIC=4467.670, Time=0.05 sec\n",
      " ARIMA(0,1,1)(0,0,0)[0]             : AIC=4477.286, Time=0.03 sec\n",
      " ARIMA(1,1,0)(0,0,0)[0]             : AIC=4493.411, Time=0.04 sec\n",
      " ARIMA(2,1,1)(0,0,0)[0]             : AIC=4469.201, Time=0.06 sec\n",
      " ARIMA(1,1,2)(0,0,0)[0]             : AIC=4469.094, Time=0.09 sec\n",
      " ARIMA(0,1,2)(0,0,0)[0]             : AIC=4467.582, Time=0.10 sec\n",
      " ARIMA(0,1,3)(0,0,0)[0]             : AIC=4468.998, Time=0.04 sec\n"
     ]
    },
    {
     "name": "stderr",
     "output_type": "stream",
     "text": [
      "D:\\Programy\\anaconda\\lib\\site-packages\\statsmodels\\tsa\\statespace\\sarimax.py:966: UserWarning: Non-stationary starting autoregressive parameters found. Using zeros as starting parameters.\n",
      "  warn('Non-stationary starting autoregressive parameters'\n",
      "D:\\Programy\\anaconda\\lib\\site-packages\\statsmodels\\tsa\\statespace\\sarimax.py:978: UserWarning: Non-invertible starting MA parameters found. Using zeros as starting parameters.\n",
      "  warn('Non-invertible starting MA parameters found.'\n",
      "D:\\Programy\\anaconda\\lib\\site-packages\\statsmodels\\tsa\\base\\tsa_model.py:579: ValueWarning: An unsupported index was provided and will be ignored when e.g. forecasting.\n",
      "  ' ignored when e.g. forecasting.', ValueWarning)\n",
      "D:\\Programy\\anaconda\\lib\\site-packages\\statsmodels\\tsa\\base\\tsa_model.py:579: ValueWarning: An unsupported index was provided and will be ignored when e.g. forecasting.\n",
      "  ' ignored when e.g. forecasting.', ValueWarning)\n"
     ]
    },
    {
     "name": "stdout",
     "output_type": "stream",
     "text": [
      " ARIMA(1,1,3)(0,0,0)[0]             : AIC=4470.949, Time=0.15 sec\n",
      "\n",
      "Best model:  ARIMA(0,1,2)(0,0,0)[0]          \n",
      "Total fit time: 1.604 seconds\n",
      "autoARIMA time: 0:00:01.619549\n",
      "(0, 1, 2)\n",
      "(0, 0, 0, 0)\n",
      "fit time = 0:00:00.036280\n",
      "##### Koniec dopasowania modelu dla godziny: 79\n",
      "#####\n",
      "##### startuje dopasowanie modelu dla godziny: 80\n",
      "Performing stepwise search to minimize aic\n"
     ]
    },
    {
     "name": "stderr",
     "output_type": "stream",
     "text": [
      "D:\\Programy\\anaconda\\lib\\site-packages\\statsmodels\\base\\model.py:568: ConvergenceWarning: Maximum Likelihood optimization failed to converge. Check mle_retvals\n",
      "  ConvergenceWarning)\n"
     ]
    },
    {
     "name": "stdout",
     "output_type": "stream",
     "text": [
      " ARIMA(2,1,2)(0,0,0)[0] intercept   : AIC=inf, Time=0.25 sec\n",
      " ARIMA(0,1,0)(0,0,0)[0] intercept   : AIC=4684.713, Time=0.02 sec\n",
      " ARIMA(1,1,0)(0,0,0)[0] intercept   : AIC=4660.897, Time=0.03 sec\n",
      " ARIMA(0,1,1)(0,0,0)[0] intercept   : AIC=4628.076, Time=0.06 sec\n",
      " ARIMA(0,1,0)(0,0,0)[0]             : AIC=4682.720, Time=0.01 sec\n"
     ]
    },
    {
     "name": "stderr",
     "output_type": "stream",
     "text": [
      "D:\\Programy\\anaconda\\lib\\site-packages\\statsmodels\\base\\model.py:568: ConvergenceWarning: Maximum Likelihood optimization failed to converge. Check mle_retvals\n",
      "  ConvergenceWarning)\n"
     ]
    },
    {
     "name": "stdout",
     "output_type": "stream",
     "text": [
      " ARIMA(1,1,1)(0,0,0)[0] intercept   : AIC=4617.079, Time=0.14 sec\n",
      " ARIMA(2,1,1)(0,0,0)[0] intercept   : AIC=4617.176, Time=0.10 sec\n",
      " ARIMA(1,1,2)(0,0,0)[0] intercept   : AIC=4618.558, Time=0.10 sec\n",
      " ARIMA(0,1,2)(0,0,0)[0] intercept   : AIC=4615.957, Time=0.30 sec\n"
     ]
    },
    {
     "name": "stderr",
     "output_type": "stream",
     "text": [
      "D:\\Programy\\anaconda\\lib\\site-packages\\statsmodels\\base\\model.py:568: ConvergenceWarning: Maximum Likelihood optimization failed to converge. Check mle_retvals\n",
      "  ConvergenceWarning)\n"
     ]
    },
    {
     "name": "stdout",
     "output_type": "stream",
     "text": [
      " ARIMA(0,1,3)(0,0,0)[0] intercept   : AIC=4618.604, Time=0.38 sec\n"
     ]
    },
    {
     "name": "stderr",
     "output_type": "stream",
     "text": [
      "D:\\Programy\\anaconda\\lib\\site-packages\\statsmodels\\base\\model.py:568: ConvergenceWarning: Maximum Likelihood optimization failed to converge. Check mle_retvals\n",
      "  ConvergenceWarning)\n"
     ]
    },
    {
     "name": "stdout",
     "output_type": "stream",
     "text": [
      " ARIMA(1,1,3)(0,0,0)[0] intercept   : AIC=4621.077, Time=0.31 sec\n",
      " ARIMA(0,1,2)(0,0,0)[0]             : AIC=4614.636, Time=0.16 sec\n",
      " ARIMA(0,1,1)(0,0,0)[0]             : AIC=4626.603, Time=0.02 sec\n",
      " ARIMA(1,1,2)(0,0,0)[0]             : AIC=4616.827, Time=0.08 sec\n",
      " ARIMA(0,1,3)(0,0,0)[0]             : AIC=4617.807, Time=0.05 sec\n",
      " ARIMA(1,1,1)(0,0,0)[0]             : AIC=4615.946, Time=0.05 sec\n"
     ]
    },
    {
     "name": "stderr",
     "output_type": "stream",
     "text": [
      "D:\\Programy\\anaconda\\lib\\site-packages\\statsmodels\\base\\model.py:568: ConvergenceWarning: Maximum Likelihood optimization failed to converge. Check mle_retvals\n",
      "  ConvergenceWarning)\n",
      "D:\\Programy\\anaconda\\lib\\site-packages\\statsmodels\\tsa\\base\\tsa_model.py:579: ValueWarning: An unsupported index was provided and will be ignored when e.g. forecasting.\n",
      "  ' ignored when e.g. forecasting.', ValueWarning)\n",
      "D:\\Programy\\anaconda\\lib\\site-packages\\statsmodels\\tsa\\base\\tsa_model.py:579: ValueWarning: An unsupported index was provided and will be ignored when e.g. forecasting.\n",
      "  ' ignored when e.g. forecasting.', ValueWarning)\n"
     ]
    },
    {
     "name": "stdout",
     "output_type": "stream",
     "text": [
      " ARIMA(1,1,3)(0,0,0)[0]             : AIC=4618.589, Time=0.17 sec\n",
      "\n",
      "Best model:  ARIMA(0,1,2)(0,0,0)[0]          \n",
      "Total fit time: 2.223 seconds\n",
      "autoARIMA time: 0:00:02.238895\n",
      "(0, 1, 2)\n",
      "(0, 0, 0, 0)\n",
      "fit time = 0:00:00.046873\n",
      "##### Koniec dopasowania modelu dla godziny: 80\n",
      "#####\n",
      "##### startuje dopasowanie modelu dla godziny: 81\n",
      "Performing stepwise search to minimize aic\n"
     ]
    },
    {
     "name": "stderr",
     "output_type": "stream",
     "text": [
      "D:\\Programy\\anaconda\\lib\\site-packages\\statsmodels\\base\\model.py:568: ConvergenceWarning: Maximum Likelihood optimization failed to converge. Check mle_retvals\n",
      "  ConvergenceWarning)\n"
     ]
    },
    {
     "name": "stdout",
     "output_type": "stream",
     "text": [
      " ARIMA(2,1,2)(0,0,0)[0] intercept   : AIC=4578.095, Time=0.25 sec\n",
      " ARIMA(0,1,0)(0,0,0)[0] intercept   : AIC=4632.990, Time=0.02 sec\n",
      " ARIMA(1,1,0)(0,0,0)[0] intercept   : AIC=4622.780, Time=0.06 sec\n",
      " ARIMA(0,1,1)(0,0,0)[0] intercept   : AIC=4606.997, Time=0.04 sec\n",
      " ARIMA(0,1,0)(0,0,0)[0]             : AIC=4630.998, Time=0.00 sec\n"
     ]
    },
    {
     "name": "stderr",
     "output_type": "stream",
     "text": [
      "D:\\Programy\\anaconda\\lib\\site-packages\\statsmodels\\base\\model.py:568: ConvergenceWarning: Maximum Likelihood optimization failed to converge. Check mle_retvals\n",
      "  ConvergenceWarning)\n",
      "D:\\Programy\\anaconda\\lib\\site-packages\\statsmodels\\base\\model.py:568: ConvergenceWarning: Maximum Likelihood optimization failed to converge. Check mle_retvals\n",
      "  ConvergenceWarning)\n"
     ]
    },
    {
     "name": "stdout",
     "output_type": "stream",
     "text": [
      " ARIMA(1,1,2)(0,0,0)[0] intercept   : AIC=4577.203, Time=0.22 sec\n",
      " ARIMA(0,1,2)(0,0,0)[0] intercept   : AIC=4575.667, Time=0.14 sec\n"
     ]
    },
    {
     "name": "stderr",
     "output_type": "stream",
     "text": [
      "D:\\Programy\\anaconda\\lib\\site-packages\\statsmodels\\base\\model.py:568: ConvergenceWarning: Maximum Likelihood optimization failed to converge. Check mle_retvals\n",
      "  ConvergenceWarning)\n",
      "D:\\Programy\\anaconda\\lib\\site-packages\\statsmodels\\base\\model.py:568: ConvergenceWarning: Maximum Likelihood optimization failed to converge. Check mle_retvals\n",
      "  ConvergenceWarning)\n"
     ]
    },
    {
     "name": "stdout",
     "output_type": "stream",
     "text": [
      " ARIMA(0,1,3)(0,0,0)[0] intercept   : AIC=4577.271, Time=0.20 sec\n",
      " ARIMA(1,1,1)(0,0,0)[0] intercept   : AIC=4578.607, Time=0.16 sec\n"
     ]
    },
    {
     "name": "stderr",
     "output_type": "stream",
     "text": [
      "D:\\Programy\\anaconda\\lib\\site-packages\\statsmodels\\base\\model.py:568: ConvergenceWarning: Maximum Likelihood optimization failed to converge. Check mle_retvals\n",
      "  ConvergenceWarning)\n"
     ]
    },
    {
     "name": "stdout",
     "output_type": "stream",
     "text": [
      " ARIMA(1,1,3)(0,0,0)[0] intercept   : AIC=4579.582, Time=0.26 sec\n",
      " ARIMA(0,1,2)(0,0,0)[0]             : AIC=4574.869, Time=0.05 sec\n",
      " ARIMA(0,1,1)(0,0,0)[0]             : AIC=4605.306, Time=0.03 sec\n",
      " ARIMA(1,1,2)(0,0,0)[0]             : AIC=4576.456, Time=0.08 sec\n",
      " ARIMA(0,1,3)(0,0,0)[0]             : AIC=4576.599, Time=0.08 sec\n",
      " ARIMA(1,1,1)(0,0,0)[0]             : AIC=4578.324, Time=0.07 sec\n",
      " ARIMA(1,1,3)(0,0,0)[0]             : AIC=4578.507, Time=0.17 sec\n",
      "\n",
      "Best model:  ARIMA(0,1,2)(0,0,0)[0]          \n",
      "Total fit time: 1.836 seconds\n",
      "autoARIMA time: 0:00:01.844132\n",
      "(0, 1, 2)\n",
      "(0, 0, 0, 0)\n",
      "fit time = 0:00:00.039294\n",
      "##### Koniec dopasowania modelu dla godziny: 81\n",
      "#####\n",
      "##### startuje dopasowanie modelu dla godziny: 82\n",
      "Performing stepwise search to minimize aic\n"
     ]
    },
    {
     "name": "stderr",
     "output_type": "stream",
     "text": [
      "D:\\Programy\\anaconda\\lib\\site-packages\\statsmodels\\tsa\\base\\tsa_model.py:579: ValueWarning: An unsupported index was provided and will be ignored when e.g. forecasting.\n",
      "  ' ignored when e.g. forecasting.', ValueWarning)\n",
      "D:\\Programy\\anaconda\\lib\\site-packages\\statsmodels\\tsa\\base\\tsa_model.py:579: ValueWarning: An unsupported index was provided and will be ignored when e.g. forecasting.\n",
      "  ' ignored when e.g. forecasting.', ValueWarning)\n",
      "D:\\Programy\\anaconda\\lib\\site-packages\\statsmodels\\base\\model.py:568: ConvergenceWarning: Maximum Likelihood optimization failed to converge. Check mle_retvals\n",
      "  ConvergenceWarning)\n"
     ]
    },
    {
     "name": "stdout",
     "output_type": "stream",
     "text": [
      " ARIMA(2,1,2)(0,0,0)[0] intercept   : AIC=4362.349, Time=0.24 sec\n",
      " ARIMA(0,1,0)(0,0,0)[0] intercept   : AIC=4417.200, Time=0.02 sec\n",
      " ARIMA(1,1,0)(0,0,0)[0] intercept   : AIC=4395.374, Time=0.05 sec\n",
      " ARIMA(0,1,1)(0,0,0)[0] intercept   : AIC=4376.926, Time=0.05 sec\n",
      " ARIMA(0,1,0)(0,0,0)[0]             : AIC=4415.206, Time=0.00 sec\n"
     ]
    },
    {
     "name": "stderr",
     "output_type": "stream",
     "text": [
      "D:\\Programy\\anaconda\\lib\\site-packages\\statsmodels\\base\\model.py:568: ConvergenceWarning: Maximum Likelihood optimization failed to converge. Check mle_retvals\n",
      "  ConvergenceWarning)\n"
     ]
    },
    {
     "name": "stdout",
     "output_type": "stream",
     "text": [
      " ARIMA(1,1,2)(0,0,0)[0] intercept   : AIC=4362.573, Time=0.26 sec\n",
      " ARIMA(2,1,1)(0,0,0)[0] intercept   : AIC=4362.787, Time=0.09 sec\n"
     ]
    },
    {
     "name": "stderr",
     "output_type": "stream",
     "text": [
      "D:\\Programy\\anaconda\\lib\\site-packages\\statsmodels\\base\\model.py:568: ConvergenceWarning: Maximum Likelihood optimization failed to converge. Check mle_retvals\n",
      "  ConvergenceWarning)\n"
     ]
    },
    {
     "name": "stdout",
     "output_type": "stream",
     "text": [
      " ARIMA(3,1,2)(0,0,0)[0] intercept   : AIC=4364.582, Time=0.28 sec\n"
     ]
    },
    {
     "name": "stderr",
     "output_type": "stream",
     "text": [
      "D:\\Programy\\anaconda\\lib\\site-packages\\statsmodels\\base\\model.py:568: ConvergenceWarning: Maximum Likelihood optimization failed to converge. Check mle_retvals\n",
      "  ConvergenceWarning)\n"
     ]
    },
    {
     "name": "stdout",
     "output_type": "stream",
     "text": [
      " ARIMA(2,1,3)(0,0,0)[0] intercept   : AIC=4366.800, Time=0.33 sec\n",
      " ARIMA(1,1,1)(0,0,0)[0] intercept   : AIC=4360.942, Time=0.15 sec\n",
      " ARIMA(0,1,2)(0,0,0)[0] intercept   : AIC=4361.718, Time=0.06 sec\n",
      " ARIMA(2,1,0)(0,0,0)[0] intercept   : AIC=4383.928, Time=0.06 sec\n",
      " ARIMA(1,1,1)(0,0,0)[0]             : AIC=4359.841, Time=0.10 sec\n"
     ]
    },
    {
     "name": "stderr",
     "output_type": "stream",
     "text": [
      "D:\\Programy\\anaconda\\lib\\site-packages\\statsmodels\\base\\model.py:568: ConvergenceWarning: Maximum Likelihood optimization failed to converge. Check mle_retvals\n",
      "  ConvergenceWarning)\n"
     ]
    },
    {
     "name": "stdout",
     "output_type": "stream",
     "text": [
      " ARIMA(0,1,1)(0,0,0)[0]             : AIC=4375.248, Time=0.04 sec\n",
      " ARIMA(1,1,0)(0,0,0)[0]             : AIC=4393.401, Time=0.03 sec\n",
      " ARIMA(2,1,1)(0,0,0)[0]             : AIC=4361.781, Time=0.06 sec\n",
      " ARIMA(1,1,2)(0,0,0)[0]             : AIC=4361.614, Time=0.10 sec\n",
      " ARIMA(0,1,2)(0,0,0)[0]             : AIC=4360.420, Time=0.03 sec\n",
      " ARIMA(2,1,0)(0,0,0)[0]             : AIC=4382.031, Time=0.05 sec\n"
     ]
    },
    {
     "name": "stderr",
     "output_type": "stream",
     "text": [
      "D:\\Programy\\anaconda\\lib\\site-packages\\statsmodels\\base\\model.py:568: ConvergenceWarning: Maximum Likelihood optimization failed to converge. Check mle_retvals\n",
      "  ConvergenceWarning)\n",
      "D:\\Programy\\anaconda\\lib\\site-packages\\statsmodels\\tsa\\base\\tsa_model.py:579: ValueWarning: An unsupported index was provided and will be ignored when e.g. forecasting.\n",
      "  ' ignored when e.g. forecasting.', ValueWarning)\n",
      "D:\\Programy\\anaconda\\lib\\site-packages\\statsmodels\\tsa\\base\\tsa_model.py:579: ValueWarning: An unsupported index was provided and will be ignored when e.g. forecasting.\n",
      "  ' ignored when e.g. forecasting.', ValueWarning)\n"
     ]
    },
    {
     "name": "stdout",
     "output_type": "stream",
     "text": [
      " ARIMA(2,1,2)(0,0,0)[0]             : AIC=4361.354, Time=0.17 sec\n",
      "\n",
      "Best model:  ARIMA(1,1,1)(0,0,0)[0]          \n",
      "Total fit time: 2.237 seconds\n",
      "autoARIMA time: 0:00:02.236739\n",
      "(1, 1, 1)\n",
      "(0, 0, 0, 0)\n",
      "fit time = 0:00:00.046876\n",
      "##### Koniec dopasowania modelu dla godziny: 82\n",
      "#####\n",
      "##### startuje dopasowanie modelu dla godziny: 83\n",
      "Performing stepwise search to minimize aic\n",
      " ARIMA(2,1,2)(0,0,0)[0] intercept   : AIC=4226.186, Time=0.14 sec\n",
      " ARIMA(0,1,0)(0,0,0)[0] intercept   : AIC=4292.219, Time=0.02 sec\n",
      " ARIMA(1,1,0)(0,0,0)[0] intercept   : AIC=4269.763, Time=0.02 sec\n",
      " ARIMA(0,1,1)(0,0,0)[0] intercept   : AIC=4239.245, Time=0.05 sec\n",
      " ARIMA(0,1,0)(0,0,0)[0]             : AIC=4290.222, Time=0.00 sec\n",
      " ARIMA(1,1,2)(0,0,0)[0] intercept   : AIC=4224.203, Time=0.13 sec\n",
      " ARIMA(0,1,2)(0,0,0)[0] intercept   : AIC=4230.992, Time=0.16 sec\n",
      " ARIMA(1,1,1)(0,0,0)[0] intercept   : AIC=4234.783, Time=0.07 sec\n",
      " ARIMA(1,1,3)(0,0,0)[0] intercept   : AIC=4226.147, Time=0.18 sec\n",
      " ARIMA(0,1,3)(0,0,0)[0] intercept   : AIC=4226.608, Time=0.11 sec\n",
      " ARIMA(2,1,1)(0,0,0)[0] intercept   : AIC=4230.268, Time=0.09 sec\n"
     ]
    },
    {
     "name": "stderr",
     "output_type": "stream",
     "text": [
      "D:\\Programy\\anaconda\\lib\\site-packages\\statsmodels\\base\\model.py:568: ConvergenceWarning: Maximum Likelihood optimization failed to converge. Check mle_retvals\n",
      "  ConvergenceWarning)\n"
     ]
    },
    {
     "name": "stdout",
     "output_type": "stream",
     "text": [
      " ARIMA(2,1,3)(0,0,0)[0] intercept   : AIC=4228.120, Time=0.30 sec\n",
      " ARIMA(1,1,2)(0,0,0)[0]             : AIC=4222.536, Time=0.06 sec\n",
      " ARIMA(0,1,2)(0,0,0)[0]             : AIC=4229.455, Time=0.05 sec\n",
      " ARIMA(1,1,1)(0,0,0)[0]             : AIC=4233.142, Time=0.04 sec\n",
      " ARIMA(2,1,2)(0,0,0)[0]             : AIC=4224.514, Time=0.10 sec\n",
      " ARIMA(1,1,3)(0,0,0)[0]             : AIC=4224.471, Time=0.13 sec\n",
      " ARIMA(0,1,1)(0,0,0)[0]             : AIC=4237.494, Time=0.02 sec\n",
      " ARIMA(0,1,3)(0,0,0)[0]             : AIC=4224.777, Time=0.06 sec\n",
      " ARIMA(2,1,1)(0,0,0)[0]             : AIC=4228.548, Time=0.07 sec\n"
     ]
    },
    {
     "name": "stderr",
     "output_type": "stream",
     "text": [
      "D:\\Programy\\anaconda\\lib\\site-packages\\statsmodels\\base\\model.py:568: ConvergenceWarning: Maximum Likelihood optimization failed to converge. Check mle_retvals\n",
      "  ConvergenceWarning)\n",
      "D:\\Programy\\anaconda\\lib\\site-packages\\statsmodels\\tsa\\base\\tsa_model.py:579: ValueWarning: An unsupported index was provided and will be ignored when e.g. forecasting.\n",
      "  ' ignored when e.g. forecasting.', ValueWarning)\n",
      "D:\\Programy\\anaconda\\lib\\site-packages\\statsmodels\\tsa\\base\\tsa_model.py:579: ValueWarning: An unsupported index was provided and will be ignored when e.g. forecasting.\n",
      "  ' ignored when e.g. forecasting.', ValueWarning)\n"
     ]
    },
    {
     "name": "stdout",
     "output_type": "stream",
     "text": [
      " ARIMA(2,1,3)(0,0,0)[0]             : AIC=4226.057, Time=0.20 sec\n",
      "\n",
      "Best model:  ARIMA(1,1,2)(0,0,0)[0]          \n",
      "Total fit time: 2.024 seconds\n",
      "autoARIMA time: 0:00:02.039278\n",
      "(1, 1, 2)\n",
      "(0, 0, 0, 0)\n",
      "fit time = 0:00:00.078124\n",
      "##### Koniec dopasowania modelu dla godziny: 83\n",
      "#####\n",
      "##### startuje dopasowanie modelu dla godziny: 84\n",
      "Performing stepwise search to minimize aic\n",
      " ARIMA(2,1,2)(0,0,0)[0] intercept   : AIC=4649.635, Time=0.20 sec\n",
      " ARIMA(0,1,0)(0,0,0)[0] intercept   : AIC=4729.990, Time=0.02 sec\n",
      " ARIMA(1,1,0)(0,0,0)[0] intercept   : AIC=4697.319, Time=0.05 sec\n",
      " ARIMA(0,1,1)(0,0,0)[0] intercept   : AIC=4653.040, Time=0.05 sec\n",
      " ARIMA(0,1,0)(0,0,0)[0]             : AIC=4727.995, Time=0.00 sec\n",
      " ARIMA(1,1,2)(0,0,0)[0] intercept   : AIC=4647.571, Time=0.12 sec\n",
      " ARIMA(0,1,2)(0,0,0)[0] intercept   : AIC=4646.791, Time=0.16 sec\n"
     ]
    },
    {
     "name": "stderr",
     "output_type": "stream",
     "text": [
      "D:\\Programy\\anaconda\\lib\\site-packages\\statsmodels\\base\\model.py:568: ConvergenceWarning: Maximum Likelihood optimization failed to converge. Check mle_retvals\n",
      "  ConvergenceWarning)\n"
     ]
    },
    {
     "name": "stdout",
     "output_type": "stream",
     "text": [
      " ARIMA(0,1,3)(0,0,0)[0] intercept   : AIC=4648.319, Time=0.09 sec\n",
      " ARIMA(1,1,1)(0,0,0)[0] intercept   : AIC=4648.021, Time=0.16 sec\n"
     ]
    },
    {
     "name": "stderr",
     "output_type": "stream",
     "text": [
      "D:\\Programy\\anaconda\\lib\\site-packages\\statsmodels\\base\\model.py:568: ConvergenceWarning: Maximum Likelihood optimization failed to converge. Check mle_retvals\n",
      "  ConvergenceWarning)\n"
     ]
    },
    {
     "name": "stdout",
     "output_type": "stream",
     "text": [
      " ARIMA(1,1,3)(0,0,0)[0] intercept   : AIC=4649.537, Time=0.22 sec\n",
      " ARIMA(0,1,2)(0,0,0)[0]             : AIC=4645.830, Time=0.03 sec\n",
      " ARIMA(0,1,1)(0,0,0)[0]             : AIC=4651.654, Time=0.03 sec\n",
      " ARIMA(1,1,2)(0,0,0)[0]             : AIC=4646.431, Time=0.09 sec\n",
      " ARIMA(0,1,3)(0,0,0)[0]             : AIC=4646.842, Time=0.10 sec\n",
      " ARIMA(1,1,1)(0,0,0)[0]             : AIC=4647.014, Time=0.05 sec\n"
     ]
    },
    {
     "name": "stderr",
     "output_type": "stream",
     "text": [
      "D:\\Programy\\anaconda\\lib\\site-packages\\statsmodels\\base\\model.py:568: ConvergenceWarning: Maximum Likelihood optimization failed to converge. Check mle_retvals\n",
      "  ConvergenceWarning)\n",
      "D:\\Programy\\anaconda\\lib\\site-packages\\statsmodels\\tsa\\base\\tsa_model.py:579: ValueWarning: An unsupported index was provided and will be ignored when e.g. forecasting.\n",
      "  ' ignored when e.g. forecasting.', ValueWarning)\n",
      "D:\\Programy\\anaconda\\lib\\site-packages\\statsmodels\\tsa\\base\\tsa_model.py:579: ValueWarning: An unsupported index was provided and will be ignored when e.g. forecasting.\n",
      "  ' ignored when e.g. forecasting.', ValueWarning)\n"
     ]
    },
    {
     "name": "stdout",
     "output_type": "stream",
     "text": [
      " ARIMA(1,1,3)(0,0,0)[0]             : AIC=4648.411, Time=0.19 sec\n",
      "\n",
      "Best model:  ARIMA(0,1,2)(0,0,0)[0]          \n",
      "Total fit time: 1.574 seconds\n",
      "autoARIMA time: 0:00:01.574204\n",
      "(0, 1, 2)\n",
      "(0, 0, 0, 0)\n",
      "fit time = 0:00:00.093000\n",
      "##### Koniec dopasowania modelu dla godziny: 84\n",
      "#####\n",
      "##### startuje dopasowanie modelu dla godziny: 85\n",
      "Performing stepwise search to minimize aic\n"
     ]
    },
    {
     "name": "stderr",
     "output_type": "stream",
     "text": [
      "D:\\Programy\\anaconda\\lib\\site-packages\\statsmodels\\base\\model.py:568: ConvergenceWarning: Maximum Likelihood optimization failed to converge. Check mle_retvals\n",
      "  ConvergenceWarning)\n"
     ]
    },
    {
     "name": "stdout",
     "output_type": "stream",
     "text": [
      " ARIMA(2,1,2)(0,0,0)[0] intercept   : AIC=4602.748, Time=0.33 sec\n",
      " ARIMA(0,1,0)(0,0,0)[0] intercept   : AIC=4661.870, Time=0.02 sec\n",
      " ARIMA(1,1,0)(0,0,0)[0] intercept   : AIC=4640.796, Time=0.06 sec\n",
      " ARIMA(0,1,1)(0,0,0)[0] intercept   : AIC=4617.352, Time=0.14 sec\n",
      " ARIMA(0,1,0)(0,0,0)[0]             : AIC=4659.879, Time=0.03 sec\n"
     ]
    },
    {
     "name": "stderr",
     "output_type": "stream",
     "text": [
      "D:\\Programy\\anaconda\\lib\\site-packages\\statsmodels\\base\\model.py:568: ConvergenceWarning: Maximum Likelihood optimization failed to converge. Check mle_retvals\n",
      "  ConvergenceWarning)\n"
     ]
    },
    {
     "name": "stdout",
     "output_type": "stream",
     "text": [
      " ARIMA(1,1,2)(0,0,0)[0] intercept   : AIC=4600.525, Time=0.22 sec\n",
      " ARIMA(0,1,2)(0,0,0)[0] intercept   : AIC=4599.958, Time=0.09 sec\n"
     ]
    },
    {
     "name": "stderr",
     "output_type": "stream",
     "text": [
      "D:\\Programy\\anaconda\\lib\\site-packages\\statsmodels\\base\\model.py:568: ConvergenceWarning: Maximum Likelihood optimization failed to converge. Check mle_retvals\n",
      "  ConvergenceWarning)\n",
      "D:\\Programy\\anaconda\\lib\\site-packages\\statsmodels\\base\\model.py:568: ConvergenceWarning: Maximum Likelihood optimization failed to converge. Check mle_retvals\n",
      "  ConvergenceWarning)\n"
     ]
    },
    {
     "name": "stdout",
     "output_type": "stream",
     "text": [
      " ARIMA(0,1,3)(0,0,0)[0] intercept   : AIC=4600.505, Time=0.25 sec\n",
      " ARIMA(1,1,1)(0,0,0)[0] intercept   : AIC=4599.088, Time=0.16 sec\n"
     ]
    },
    {
     "name": "stderr",
     "output_type": "stream",
     "text": [
      "D:\\Programy\\anaconda\\lib\\site-packages\\statsmodels\\base\\model.py:568: ConvergenceWarning: Maximum Likelihood optimization failed to converge. Check mle_retvals\n",
      "  ConvergenceWarning)\n"
     ]
    },
    {
     "name": "stdout",
     "output_type": "stream",
     "text": [
      " ARIMA(2,1,1)(0,0,0)[0] intercept   : AIC=4600.762, Time=0.22 sec\n",
      " ARIMA(2,1,0)(0,0,0)[0] intercept   : AIC=4627.515, Time=0.05 sec\n",
      " ARIMA(1,1,1)(0,0,0)[0]             : AIC=4598.377, Time=0.07 sec\n",
      " ARIMA(0,1,1)(0,0,0)[0]             : AIC=4615.849, Time=0.03 sec\n",
      " ARIMA(1,1,0)(0,0,0)[0]             : AIC=4638.839, Time=0.02 sec\n"
     ]
    },
    {
     "name": "stderr",
     "output_type": "stream",
     "text": [
      "D:\\Programy\\anaconda\\lib\\site-packages\\statsmodels\\base\\model.py:568: ConvergenceWarning: Maximum Likelihood optimization failed to converge. Check mle_retvals\n",
      "  ConvergenceWarning)\n"
     ]
    },
    {
     "name": "stdout",
     "output_type": "stream",
     "text": [
      " ARIMA(2,1,1)(0,0,0)[0]             : AIC=4599.633, Time=0.19 sec\n",
      " ARIMA(1,1,2)(0,0,0)[0]             : AIC=4599.487, Time=0.15 sec\n",
      " ARIMA(0,1,2)(0,0,0)[0]             : AIC=4598.599, Time=0.08 sec\n",
      " ARIMA(2,1,0)(0,0,0)[0]             : AIC=4625.591, Time=0.06 sec\n"
     ]
    },
    {
     "name": "stderr",
     "output_type": "stream",
     "text": [
      "D:\\Programy\\anaconda\\lib\\site-packages\\statsmodels\\base\\model.py:568: ConvergenceWarning: Maximum Likelihood optimization failed to converge. Check mle_retvals\n",
      "  ConvergenceWarning)\n",
      "D:\\Programy\\anaconda\\lib\\site-packages\\statsmodels\\tsa\\base\\tsa_model.py:579: ValueWarning: An unsupported index was provided and will be ignored when e.g. forecasting.\n",
      "  ' ignored when e.g. forecasting.', ValueWarning)\n",
      "D:\\Programy\\anaconda\\lib\\site-packages\\statsmodels\\tsa\\base\\tsa_model.py:579: ValueWarning: An unsupported index was provided and will be ignored when e.g. forecasting.\n",
      "  ' ignored when e.g. forecasting.', ValueWarning)\n"
     ]
    },
    {
     "name": "stdout",
     "output_type": "stream",
     "text": [
      " ARIMA(2,1,2)(0,0,0)[0]             : AIC=4601.707, Time=0.28 sec\n",
      "\n",
      "Best model:  ARIMA(1,1,1)(0,0,0)[0]          \n",
      "Total fit time: 2.446 seconds\n",
      "autoARIMA time: 0:00:02.446992\n",
      "(1, 1, 1)\n",
      "(0, 0, 0, 0)\n",
      "fit time = 0:00:00.161238\n",
      "##### Koniec dopasowania modelu dla godziny: 85\n",
      "#####\n",
      "##### startuje dopasowanie modelu dla godziny: 86\n",
      "Performing stepwise search to minimize aic\n",
      " ARIMA(2,1,2)(0,0,0)[0] intercept   : AIC=4518.782, Time=0.24 sec\n",
      " ARIMA(0,1,0)(0,0,0)[0] intercept   : AIC=4575.824, Time=0.02 sec\n",
      " ARIMA(1,1,0)(0,0,0)[0] intercept   : AIC=4543.391, Time=0.04 sec\n",
      " ARIMA(0,1,1)(0,0,0)[0] intercept   : AIC=4523.563, Time=0.05 sec\n",
      " ARIMA(0,1,0)(0,0,0)[0]             : AIC=4573.830, Time=0.02 sec\n"
     ]
    },
    {
     "name": "stderr",
     "output_type": "stream",
     "text": [
      "D:\\Programy\\anaconda\\lib\\site-packages\\statsmodels\\base\\model.py:568: ConvergenceWarning: Maximum Likelihood optimization failed to converge. Check mle_retvals\n",
      "  ConvergenceWarning)\n"
     ]
    },
    {
     "name": "stdout",
     "output_type": "stream",
     "text": [
      " ARIMA(1,1,2)(0,0,0)[0] intercept   : AIC=4517.402, Time=0.20 sec\n",
      " ARIMA(0,1,2)(0,0,0)[0] intercept   : AIC=4516.435, Time=0.06 sec\n"
     ]
    },
    {
     "name": "stderr",
     "output_type": "stream",
     "text": [
      "D:\\Programy\\anaconda\\lib\\site-packages\\statsmodels\\base\\model.py:568: ConvergenceWarning: Maximum Likelihood optimization failed to converge. Check mle_retvals\n",
      "  ConvergenceWarning)\n"
     ]
    },
    {
     "name": "stdout",
     "output_type": "stream",
     "text": [
      " ARIMA(0,1,3)(0,0,0)[0] intercept   : AIC=4516.436, Time=0.22 sec\n",
      " ARIMA(1,1,1)(0,0,0)[0] intercept   : AIC=4515.117, Time=0.06 sec\n",
      " ARIMA(2,1,1)(0,0,0)[0] intercept   : AIC=4517.069, Time=0.12 sec\n",
      " ARIMA(2,1,0)(0,0,0)[0] intercept   : AIC=4536.095, Time=0.16 sec\n",
      " ARIMA(1,1,1)(0,0,0)[0]             : AIC=4513.884, Time=0.06 sec\n",
      " ARIMA(0,1,1)(0,0,0)[0]             : AIC=4521.920, Time=0.02 sec\n",
      " ARIMA(1,1,0)(0,0,0)[0]             : AIC=4541.435, Time=0.03 sec\n",
      " ARIMA(2,1,1)(0,0,0)[0]             : AIC=4515.850, Time=0.08 sec\n",
      " ARIMA(1,1,2)(0,0,0)[0]             : AIC=4515.729, Time=0.11 sec\n",
      " ARIMA(0,1,2)(0,0,0)[0]             : AIC=4515.056, Time=0.04 sec\n",
      " ARIMA(2,1,0)(0,0,0)[0]             : AIC=4534.219, Time=0.08 sec\n",
      " ARIMA(2,1,2)(0,0,0)[0]             : AIC=4517.577, Time=0.06 sec\n",
      "\n",
      "Best model:  ARIMA(1,1,1)(0,0,0)[0]          \n",
      "Total fit time: 1.662 seconds\n",
      "autoARIMA time: 0:00:01.661948\n",
      "(1, 1, 1)\n",
      "(0, 0, 0, 0)\n",
      "fit time = 0:00:00.070576\n",
      "##### Koniec dopasowania modelu dla godziny: 86\n",
      "#####\n",
      "##### startuje dopasowanie modelu dla godziny: 87\n",
      "Performing stepwise search to minimize aic\n"
     ]
    },
    {
     "name": "stderr",
     "output_type": "stream",
     "text": [
      "D:\\Programy\\anaconda\\lib\\site-packages\\statsmodels\\tsa\\base\\tsa_model.py:579: ValueWarning: An unsupported index was provided and will be ignored when e.g. forecasting.\n",
      "  ' ignored when e.g. forecasting.', ValueWarning)\n",
      "D:\\Programy\\anaconda\\lib\\site-packages\\statsmodels\\tsa\\base\\tsa_model.py:579: ValueWarning: An unsupported index was provided and will be ignored when e.g. forecasting.\n",
      "  ' ignored when e.g. forecasting.', ValueWarning)\n",
      "D:\\Programy\\anaconda\\lib\\site-packages\\statsmodels\\tsa\\statespace\\sarimax.py:966: UserWarning: Non-stationary starting autoregressive parameters found. Using zeros as starting parameters.\n",
      "  warn('Non-stationary starting autoregressive parameters'\n",
      "D:\\Programy\\anaconda\\lib\\site-packages\\statsmodels\\tsa\\statespace\\sarimax.py:978: UserWarning: Non-invertible starting MA parameters found. Using zeros as starting parameters.\n",
      "  warn('Non-invertible starting MA parameters found.'\n",
      "D:\\Programy\\anaconda\\lib\\site-packages\\statsmodels\\base\\model.py:568: ConvergenceWarning: Maximum Likelihood optimization failed to converge. Check mle_retvals\n",
      "  ConvergenceWarning)\n"
     ]
    },
    {
     "name": "stdout",
     "output_type": "stream",
     "text": [
      " ARIMA(2,1,2)(0,0,0)[0] intercept   : AIC=4600.209, Time=0.23 sec\n",
      " ARIMA(0,1,0)(0,0,0)[0] intercept   : AIC=4659.118, Time=0.01 sec\n",
      " ARIMA(1,1,0)(0,0,0)[0] intercept   : AIC=4634.241, Time=0.04 sec\n",
      " ARIMA(0,1,1)(0,0,0)[0] intercept   : AIC=4607.833, Time=0.12 sec\n",
      " ARIMA(0,1,0)(0,0,0)[0]             : AIC=4657.125, Time=0.01 sec\n"
     ]
    },
    {
     "name": "stderr",
     "output_type": "stream",
     "text": [
      "D:\\Programy\\anaconda\\lib\\site-packages\\statsmodels\\base\\model.py:568: ConvergenceWarning: Maximum Likelihood optimization failed to converge. Check mle_retvals\n",
      "  ConvergenceWarning)\n"
     ]
    },
    {
     "name": "stdout",
     "output_type": "stream",
     "text": [
      " ARIMA(1,1,2)(0,0,0)[0] intercept   : AIC=4598.288, Time=0.24 sec\n",
      " ARIMA(0,1,2)(0,0,0)[0] intercept   : AIC=4596.470, Time=0.05 sec\n"
     ]
    },
    {
     "name": "stderr",
     "output_type": "stream",
     "text": [
      "D:\\Programy\\anaconda\\lib\\site-packages\\statsmodels\\base\\model.py:568: ConvergenceWarning: Maximum Likelihood optimization failed to converge. Check mle_retvals\n",
      "  ConvergenceWarning)\n"
     ]
    },
    {
     "name": "stdout",
     "output_type": "stream",
     "text": [
      " ARIMA(0,1,3)(0,0,0)[0] intercept   : AIC=4598.296, Time=0.23 sec\n",
      " ARIMA(1,1,1)(0,0,0)[0] intercept   : AIC=4595.943, Time=0.07 sec\n",
      " ARIMA(2,1,1)(0,0,0)[0] intercept   : AIC=4597.504, Time=0.11 sec\n",
      " ARIMA(2,1,0)(0,0,0)[0] intercept   : AIC=4621.376, Time=0.05 sec\n",
      " ARIMA(1,1,1)(0,0,0)[0]             : AIC=4594.884, Time=0.06 sec\n",
      " ARIMA(0,1,1)(0,0,0)[0]             : AIC=4606.362, Time=0.02 sec\n",
      " ARIMA(1,1,0)(0,0,0)[0]             : AIC=4632.275, Time=0.03 sec\n",
      " ARIMA(2,1,1)(0,0,0)[0]             : AIC=4596.352, Time=0.09 sec\n",
      " ARIMA(1,1,2)(0,0,0)[0]             : AIC=4596.669, Time=0.11 sec\n",
      " ARIMA(0,1,2)(0,0,0)[0]             : AIC=4595.052, Time=0.05 sec\n",
      " ARIMA(2,1,0)(0,0,0)[0]             : AIC=4619.446, Time=0.03 sec\n",
      " ARIMA(2,1,2)(0,0,0)[0]             : AIC=4598.403, Time=0.19 sec"
     ]
    },
    {
     "name": "stderr",
     "output_type": "stream",
     "text": [
      "D:\\Programy\\anaconda\\lib\\site-packages\\statsmodels\\tsa\\statespace\\sarimax.py:966: UserWarning: Non-stationary starting autoregressive parameters found. Using zeros as starting parameters.\n",
      "  warn('Non-stationary starting autoregressive parameters'\n",
      "D:\\Programy\\anaconda\\lib\\site-packages\\statsmodels\\tsa\\statespace\\sarimax.py:978: UserWarning: Non-invertible starting MA parameters found. Using zeros as starting parameters.\n",
      "  warn('Non-invertible starting MA parameters found.'\n",
      "D:\\Programy\\anaconda\\lib\\site-packages\\statsmodels\\base\\model.py:568: ConvergenceWarning: Maximum Likelihood optimization failed to converge. Check mle_retvals\n",
      "  ConvergenceWarning)\n"
     ]
    },
    {
     "name": "stdout",
     "output_type": "stream",
     "text": [
      "\n",
      "\n",
      "Best model:  ARIMA(1,1,1)(0,0,0)[0]          \n",
      "Total fit time: 1.767 seconds\n",
      "autoARIMA time: 0:00:01.773581\n",
      "(1, 1, 1)\n",
      "(0, 0, 0, 0)\n",
      "fit time = 0:00:00.072052\n",
      "##### Koniec dopasowania modelu dla godziny: 87\n",
      "#####\n",
      "##### startuje dopasowanie modelu dla godziny: 88\n",
      "Performing stepwise search to minimize aic\n"
     ]
    },
    {
     "name": "stderr",
     "output_type": "stream",
     "text": [
      "D:\\Programy\\anaconda\\lib\\site-packages\\statsmodels\\tsa\\base\\tsa_model.py:579: ValueWarning: An unsupported index was provided and will be ignored when e.g. forecasting.\n",
      "  ' ignored when e.g. forecasting.', ValueWarning)\n",
      "D:\\Programy\\anaconda\\lib\\site-packages\\statsmodels\\tsa\\base\\tsa_model.py:579: ValueWarning: An unsupported index was provided and will be ignored when e.g. forecasting.\n",
      "  ' ignored when e.g. forecasting.', ValueWarning)\n"
     ]
    },
    {
     "name": "stdout",
     "output_type": "stream",
     "text": [
      " ARIMA(2,1,2)(0,0,0)[0] intercept   : AIC=4496.117, Time=0.17 sec\n",
      " ARIMA(0,1,0)(0,0,0)[0] intercept   : AIC=4542.704, Time=0.02 sec\n",
      " ARIMA(1,1,0)(0,0,0)[0] intercept   : AIC=4531.801, Time=0.05 sec\n",
      " ARIMA(0,1,1)(0,0,0)[0] intercept   : AIC=4518.993, Time=0.04 sec\n",
      " ARIMA(0,1,0)(0,0,0)[0]             : AIC=4540.712, Time=0.01 sec\n",
      " ARIMA(1,1,2)(0,0,0)[0] intercept   : AIC=4497.205, Time=0.13 sec\n",
      " ARIMA(2,1,1)(0,0,0)[0] intercept   : AIC=4497.865, Time=0.11 sec\n",
      " ARIMA(3,1,2)(0,0,0)[0] intercept   : AIC=4498.121, Time=0.21 sec\n",
      " ARIMA(2,1,3)(0,0,0)[0] intercept   : AIC=4498.066, Time=0.24 sec\n"
     ]
    },
    {
     "name": "stderr",
     "output_type": "stream",
     "text": [
      "D:\\Programy\\anaconda\\lib\\site-packages\\statsmodels\\base\\model.py:568: ConvergenceWarning: Maximum Likelihood optimization failed to converge. Check mle_retvals\n",
      "  ConvergenceWarning)\n"
     ]
    },
    {
     "name": "stdout",
     "output_type": "stream",
     "text": [
      " ARIMA(1,1,1)(0,0,0)[0] intercept   : AIC=4498.298, Time=0.19 sec\n"
     ]
    },
    {
     "name": "stderr",
     "output_type": "stream",
     "text": [
      "D:\\Programy\\anaconda\\lib\\site-packages\\statsmodels\\base\\model.py:568: ConvergenceWarning: Maximum Likelihood optimization failed to converge. Check mle_retvals\n",
      "  ConvergenceWarning)\n"
     ]
    },
    {
     "name": "stdout",
     "output_type": "stream",
     "text": [
      " ARIMA(1,1,3)(0,0,0)[0] intercept   : AIC=4497.554, Time=0.33 sec\n",
      " ARIMA(3,1,1)(0,0,0)[0] intercept   : AIC=4499.804, Time=0.18 sec"
     ]
    },
    {
     "name": "stderr",
     "output_type": "stream",
     "text": [
      "D:\\Programy\\anaconda\\lib\\site-packages\\statsmodels\\base\\model.py:568: ConvergenceWarning: Maximum Likelihood optimization failed to converge. Check mle_retvals\n",
      "  ConvergenceWarning)\n"
     ]
    },
    {
     "name": "stdout",
     "output_type": "stream",
     "text": [
      "\n",
      " ARIMA(3,1,3)(0,0,0)[0] intercept   : AIC=4499.823, Time=0.35 sec\n",
      " ARIMA(2,1,2)(0,0,0)[0]             : AIC=4494.943, Time=0.13 sec\n",
      " ARIMA(1,1,2)(0,0,0)[0]             : AIC=4495.888, Time=0.07 sec\n",
      " ARIMA(2,1,1)(0,0,0)[0]             : AIC=4496.644, Time=0.09 sec\n",
      " ARIMA(3,1,2)(0,0,0)[0]             : AIC=4496.945, Time=0.14 sec\n"
     ]
    },
    {
     "name": "stderr",
     "output_type": "stream",
     "text": [
      "D:\\Programy\\anaconda\\lib\\site-packages\\statsmodels\\base\\model.py:568: ConvergenceWarning: Maximum Likelihood optimization failed to converge. Check mle_retvals\n",
      "  ConvergenceWarning)\n",
      "D:\\Programy\\anaconda\\lib\\site-packages\\statsmodels\\base\\model.py:568: ConvergenceWarning: Maximum Likelihood optimization failed to converge. Check mle_retvals\n",
      "  ConvergenceWarning)\n"
     ]
    },
    {
     "name": "stdout",
     "output_type": "stream",
     "text": [
      " ARIMA(2,1,3)(0,0,0)[0]             : AIC=4496.869, Time=0.22 sec\n",
      " ARIMA(1,1,1)(0,0,0)[0]             : AIC=4496.957, Time=0.09 sec\n",
      " ARIMA(1,1,3)(0,0,0)[0]             : AIC=4497.870, Time=0.08 sec\n",
      " ARIMA(3,1,1)(0,0,0)[0]             : AIC=4498.610, Time=0.12 sec\n"
     ]
    },
    {
     "name": "stderr",
     "output_type": "stream",
     "text": [
      "D:\\Programy\\anaconda\\lib\\site-packages\\statsmodels\\base\\model.py:568: ConvergenceWarning: Maximum Likelihood optimization failed to converge. Check mle_retvals\n",
      "  ConvergenceWarning)\n",
      "D:\\Programy\\anaconda\\lib\\site-packages\\statsmodels\\tsa\\base\\tsa_model.py:579: ValueWarning: An unsupported index was provided and will be ignored when e.g. forecasting.\n",
      "  ' ignored when e.g. forecasting.', ValueWarning)\n",
      "D:\\Programy\\anaconda\\lib\\site-packages\\statsmodels\\tsa\\base\\tsa_model.py:579: ValueWarning: An unsupported index was provided and will be ignored when e.g. forecasting.\n",
      "  ' ignored when e.g. forecasting.', ValueWarning)\n"
     ]
    },
    {
     "name": "stdout",
     "output_type": "stream",
     "text": [
      " ARIMA(3,1,3)(0,0,0)[0]             : AIC=4498.496, Time=0.24 sec\n",
      "\n",
      "Best model:  ARIMA(2,1,2)(0,0,0)[0]          \n",
      "Total fit time: 3.233 seconds\n",
      "autoARIMA time: 0:00:03.232558\n",
      "(2, 1, 2)\n",
      "(0, 0, 0, 0)\n",
      "fit time = 0:00:00.109376\n",
      "##### Koniec dopasowania modelu dla godziny: 88\n",
      "#####\n",
      "##### startuje dopasowanie modelu dla godziny: 89\n",
      "Performing stepwise search to minimize aic\n",
      " ARIMA(2,1,2)(0,0,0)[0] intercept   : AIC=4329.622, Time=0.20 sec\n",
      " ARIMA(0,1,0)(0,0,0)[0] intercept   : AIC=4354.628, Time=0.02 sec\n",
      " ARIMA(1,1,0)(0,0,0)[0] intercept   : AIC=4335.916, Time=0.06 sec\n",
      " ARIMA(0,1,1)(0,0,0)[0] intercept   : AIC=4329.431, Time=0.10 sec\n",
      " ARIMA(0,1,0)(0,0,0)[0]             : AIC=4352.632, Time=0.00 sec\n",
      " ARIMA(1,1,1)(0,0,0)[0] intercept   : AIC=4330.784, Time=0.11 sec\n",
      " ARIMA(0,1,2)(0,0,0)[0] intercept   : AIC=4330.334, Time=0.06 sec\n",
      " ARIMA(1,1,2)(0,0,0)[0] intercept   : AIC=4328.810, Time=0.17 sec\n",
      " ARIMA(1,1,3)(0,0,0)[0] intercept   : AIC=4329.963, Time=0.25 sec\n",
      " ARIMA(0,1,3)(0,0,0)[0] intercept   : AIC=4329.292, Time=0.14 sec\n",
      " ARIMA(2,1,1)(0,0,0)[0] intercept   : AIC=4327.788, Time=0.12 sec\n",
      " ARIMA(2,1,0)(0,0,0)[0] intercept   : AIC=4327.995, Time=0.06 sec\n",
      " ARIMA(3,1,1)(0,0,0)[0] intercept   : AIC=4329.736, Time=0.26 sec\n",
      " ARIMA(3,1,0)(0,0,0)[0] intercept   : AIC=4329.485, Time=0.07 sec\n"
     ]
    },
    {
     "name": "stderr",
     "output_type": "stream",
     "text": [
      "D:\\Programy\\anaconda\\lib\\site-packages\\statsmodels\\tsa\\statespace\\sarimax.py:966: UserWarning: Non-stationary starting autoregressive parameters found. Using zeros as starting parameters.\n",
      "  warn('Non-stationary starting autoregressive parameters'\n",
      "D:\\Programy\\anaconda\\lib\\site-packages\\statsmodels\\tsa\\statespace\\sarimax.py:978: UserWarning: Non-invertible starting MA parameters found. Using zeros as starting parameters.\n",
      "  warn('Non-invertible starting MA parameters found.'\n",
      "D:\\Programy\\anaconda\\lib\\site-packages\\statsmodels\\base\\model.py:568: ConvergenceWarning: Maximum Likelihood optimization failed to converge. Check mle_retvals\n",
      "  ConvergenceWarning)\n"
     ]
    },
    {
     "name": "stdout",
     "output_type": "stream",
     "text": [
      " ARIMA(3,1,2)(0,0,0)[0] intercept   : AIC=4331.342, Time=0.40 sec\n",
      " ARIMA(2,1,1)(0,0,0)[0]             : AIC=4325.820, Time=0.12 sec\n",
      " ARIMA(1,1,1)(0,0,0)[0]             : AIC=4328.870, Time=0.05 sec\n",
      " ARIMA(2,1,0)(0,0,0)[0]             : AIC=4326.061, Time=0.04 sec\n",
      " ARIMA(3,1,1)(0,0,0)[0]             : AIC=4327.768, Time=0.19 sec\n",
      " ARIMA(2,1,2)(0,0,0)[0]             : AIC=4327.665, Time=0.15 sec\n",
      " ARIMA(1,1,0)(0,0,0)[0]             : AIC=4333.927, Time=0.02 sec\n",
      " ARIMA(1,1,2)(0,0,0)[0]             : AIC=4326.878, Time=0.12 sec\n",
      " ARIMA(3,1,0)(0,0,0)[0]             : AIC=4327.531, Time=0.04 sec\n"
     ]
    },
    {
     "name": "stderr",
     "output_type": "stream",
     "text": [
      "D:\\Programy\\anaconda\\lib\\site-packages\\statsmodels\\tsa\\statespace\\sarimax.py:966: UserWarning: Non-stationary starting autoregressive parameters found. Using zeros as starting parameters.\n",
      "  warn('Non-stationary starting autoregressive parameters'\n",
      "D:\\Programy\\anaconda\\lib\\site-packages\\statsmodels\\tsa\\statespace\\sarimax.py:978: UserWarning: Non-invertible starting MA parameters found. Using zeros as starting parameters.\n",
      "  warn('Non-invertible starting MA parameters found.'\n",
      "D:\\Programy\\anaconda\\lib\\site-packages\\statsmodels\\base\\model.py:568: ConvergenceWarning: Maximum Likelihood optimization failed to converge. Check mle_retvals\n",
      "  ConvergenceWarning)\n"
     ]
    },
    {
     "name": "stdout",
     "output_type": "stream",
     "text": [
      " ARIMA(3,1,2)(0,0,0)[0]             : AIC=4329.398, Time=0.17 sec\n",
      "\n",
      "Best model:  ARIMA(2,1,1)(0,0,0)[0]          \n",
      "Total fit time: 2.911 seconds\n",
      "autoARIMA time: 0:00:02.920690\n",
      "(2, 1, 1)\n",
      "(0, 0, 0, 0)\n",
      "fit time = 0:00:00.075053\n",
      "##### Koniec dopasowania modelu dla godziny: 89\n",
      "#####\n",
      "##### startuje dopasowanie modelu dla godziny: 90\n",
      "Performing stepwise search to minimize aic\n"
     ]
    },
    {
     "name": "stderr",
     "output_type": "stream",
     "text": [
      "D:\\Programy\\anaconda\\lib\\site-packages\\statsmodels\\tsa\\base\\tsa_model.py:579: ValueWarning: An unsupported index was provided and will be ignored when e.g. forecasting.\n",
      "  ' ignored when e.g. forecasting.', ValueWarning)\n",
      "D:\\Programy\\anaconda\\lib\\site-packages\\statsmodels\\tsa\\base\\tsa_model.py:579: ValueWarning: An unsupported index was provided and will be ignored when e.g. forecasting.\n",
      "  ' ignored when e.g. forecasting.', ValueWarning)\n",
      "D:\\Programy\\anaconda\\lib\\site-packages\\statsmodels\\base\\model.py:568: ConvergenceWarning: Maximum Likelihood optimization failed to converge. Check mle_retvals\n",
      "  ConvergenceWarning)\n"
     ]
    },
    {
     "name": "stdout",
     "output_type": "stream",
     "text": [
      " ARIMA(2,0,2)(0,0,0)[0] intercept   : AIC=4338.300, Time=0.25 sec\n",
      " ARIMA(0,0,0)(0,0,0)[0] intercept   : AIC=4717.257, Time=0.02 sec\n",
      " ARIMA(1,0,0)(0,0,0)[0] intercept   : AIC=4356.089, Time=0.08 sec\n"
     ]
    },
    {
     "name": "stderr",
     "output_type": "stream",
     "text": [
      "D:\\Programy\\anaconda\\lib\\site-packages\\statsmodels\\base\\model.py:568: ConvergenceWarning: Maximum Likelihood optimization failed to converge. Check mle_retvals\n",
      "  ConvergenceWarning)\n"
     ]
    },
    {
     "name": "stdout",
     "output_type": "stream",
     "text": [
      " ARIMA(0,0,1)(0,0,0)[0] intercept   : AIC=4541.949, Time=0.12 sec\n",
      " ARIMA(0,0,0)(0,0,0)[0]             : AIC=5834.876, Time=0.00 sec\n",
      " ARIMA(1,0,2)(0,0,0)[0] intercept   : AIC=4337.571, Time=0.08 sec\n"
     ]
    },
    {
     "name": "stderr",
     "output_type": "stream",
     "text": [
      "D:\\Programy\\anaconda\\lib\\site-packages\\statsmodels\\base\\model.py:568: ConvergenceWarning: Maximum Likelihood optimization failed to converge. Check mle_retvals\n",
      "  ConvergenceWarning)\n"
     ]
    },
    {
     "name": "stdout",
     "output_type": "stream",
     "text": [
      " ARIMA(0,0,2)(0,0,0)[0] intercept   : AIC=4478.087, Time=0.16 sec\n",
      " ARIMA(1,0,1)(0,0,0)[0] intercept   : AIC=4337.873, Time=0.07 sec\n",
      " ARIMA(1,0,3)(0,0,0)[0] intercept   : AIC=4329.976, Time=0.11 sec\n"
     ]
    },
    {
     "name": "stderr",
     "output_type": "stream",
     "text": [
      "D:\\Programy\\anaconda\\lib\\site-packages\\statsmodels\\base\\model.py:568: ConvergenceWarning: Maximum Likelihood optimization failed to converge. Check mle_retvals\n",
      "  ConvergenceWarning)\n"
     ]
    },
    {
     "name": "stdout",
     "output_type": "stream",
     "text": [
      " ARIMA(0,0,3)(0,0,0)[0] intercept   : AIC=4457.109, Time=0.21 sec\n"
     ]
    },
    {
     "name": "stderr",
     "output_type": "stream",
     "text": [
      "D:\\Programy\\anaconda\\lib\\site-packages\\statsmodels\\base\\model.py:568: ConvergenceWarning: Maximum Likelihood optimization failed to converge. Check mle_retvals\n",
      "  ConvergenceWarning)\n"
     ]
    },
    {
     "name": "stdout",
     "output_type": "stream",
     "text": [
      " ARIMA(2,0,3)(0,0,0)[0] intercept   : AIC=4328.386, Time=0.25 sec\n"
     ]
    },
    {
     "name": "stderr",
     "output_type": "stream",
     "text": [
      "D:\\Programy\\anaconda\\lib\\site-packages\\statsmodels\\base\\model.py:568: ConvergenceWarning: Maximum Likelihood optimization failed to converge. Check mle_retvals\n",
      "  ConvergenceWarning)\n"
     ]
    },
    {
     "name": "stdout",
     "output_type": "stream",
     "text": [
      " ARIMA(3,0,3)(0,0,0)[0] intercept   : AIC=4330.822, Time=0.29 sec\n",
      " ARIMA(2,0,4)(0,0,0)[0] intercept   : AIC=4327.116, Time=0.37 sec\n",
      " ARIMA(1,0,4)(0,0,0)[0] intercept   : AIC=4328.518, Time=0.15 sec\n"
     ]
    },
    {
     "name": "stderr",
     "output_type": "stream",
     "text": [
      "D:\\Programy\\anaconda\\lib\\site-packages\\statsmodels\\base\\model.py:568: ConvergenceWarning: Maximum Likelihood optimization failed to converge. Check mle_retvals\n",
      "  ConvergenceWarning)\n"
     ]
    },
    {
     "name": "stdout",
     "output_type": "stream",
     "text": [
      " ARIMA(3,0,4)(0,0,0)[0] intercept   : AIC=4329.240, Time=0.35 sec\n"
     ]
    },
    {
     "name": "stderr",
     "output_type": "stream",
     "text": [
      "D:\\Programy\\anaconda\\lib\\site-packages\\statsmodels\\base\\model.py:568: ConvergenceWarning: Maximum Likelihood optimization failed to converge. Check mle_retvals\n",
      "  ConvergenceWarning)\n"
     ]
    },
    {
     "name": "stdout",
     "output_type": "stream",
     "text": [
      " ARIMA(2,0,5)(0,0,0)[0] intercept   : AIC=4322.341, Time=0.41 sec\n",
      " ARIMA(1,0,5)(0,0,0)[0] intercept   : AIC=4320.352, Time=0.21 sec\n"
     ]
    },
    {
     "name": "stderr",
     "output_type": "stream",
     "text": [
      "D:\\Programy\\anaconda\\lib\\site-packages\\statsmodels\\base\\model.py:568: ConvergenceWarning: Maximum Likelihood optimization failed to converge. Check mle_retvals\n",
      "  ConvergenceWarning)\n"
     ]
    },
    {
     "name": "stdout",
     "output_type": "stream",
     "text": [
      " ARIMA(0,0,5)(0,0,0)[0] intercept   : AIC=4507.081, Time=0.32 sec\n"
     ]
    },
    {
     "name": "stderr",
     "output_type": "stream",
     "text": [
      "D:\\Programy\\anaconda\\lib\\site-packages\\statsmodels\\base\\model.py:568: ConvergenceWarning: Maximum Likelihood optimization failed to converge. Check mle_retvals\n",
      "  ConvergenceWarning)\n",
      "D:\\Programy\\anaconda\\lib\\site-packages\\statsmodels\\tsa\\base\\tsa_model.py:579: ValueWarning: An unsupported index was provided and will be ignored when e.g. forecasting.\n",
      "  ' ignored when e.g. forecasting.', ValueWarning)\n",
      "D:\\Programy\\anaconda\\lib\\site-packages\\statsmodels\\tsa\\base\\tsa_model.py:579: ValueWarning: An unsupported index was provided and will be ignored when e.g. forecasting.\n",
      "  ' ignored when e.g. forecasting.', ValueWarning)\n"
     ]
    },
    {
     "name": "stdout",
     "output_type": "stream",
     "text": [
      " ARIMA(0,0,4)(0,0,0)[0] intercept   : AIC=4510.271, Time=0.26 sec\n",
      " ARIMA(1,0,5)(0,0,0)[0]             : AIC=4336.267, Time=0.10 sec\n",
      "\n",
      "Best model:  ARIMA(1,0,5)(0,0,0)[0] intercept\n",
      "Total fit time: 3.863 seconds\n",
      "autoARIMA time: 0:00:03.863037\n",
      "(1, 0, 5)\n",
      "(0, 0, 0, 0)\n",
      "fit time = 0:00:00.116016\n",
      "##### Koniec dopasowania modelu dla godziny: 90\n",
      "#####\n",
      "##### startuje dopasowanie modelu dla godziny: 91\n",
      "Performing stepwise search to minimize aic\n",
      " ARIMA(2,1,2)(0,0,0)[0] intercept   : AIC=4633.498, Time=0.21 sec\n",
      " ARIMA(0,1,0)(0,0,0)[0] intercept   : AIC=4686.843, Time=0.02 sec\n",
      " ARIMA(1,1,0)(0,0,0)[0] intercept   : AIC=4662.677, Time=0.07 sec\n",
      " ARIMA(0,1,1)(0,0,0)[0] intercept   : AIC=4637.188, Time=0.13 sec\n",
      " ARIMA(0,1,0)(0,0,0)[0]             : AIC=4684.858, Time=0.02 sec\n",
      " ARIMA(1,1,2)(0,0,0)[0] intercept   : AIC=4631.991, Time=0.14 sec\n"
     ]
    },
    {
     "name": "stderr",
     "output_type": "stream",
     "text": [
      "D:\\Programy\\anaconda\\lib\\site-packages\\statsmodels\\base\\model.py:568: ConvergenceWarning: Maximum Likelihood optimization failed to converge. Check mle_retvals\n",
      "  ConvergenceWarning)\n"
     ]
    },
    {
     "name": "stdout",
     "output_type": "stream",
     "text": [
      " ARIMA(0,1,2)(0,0,0)[0] intercept   : AIC=4632.878, Time=0.18 sec\n",
      " ARIMA(1,1,1)(0,0,0)[0] intercept   : AIC=4635.501, Time=0.07 sec\n",
      " ARIMA(1,1,3)(0,0,0)[0] intercept   : AIC=4633.230, Time=0.27 sec\n",
      " ARIMA(0,1,3)(0,0,0)[0] intercept   : AIC=4631.235, Time=0.12 sec\n",
      " ARIMA(0,1,4)(0,0,0)[0] intercept   : AIC=4633.182, Time=0.14 sec\n"
     ]
    },
    {
     "name": "stderr",
     "output_type": "stream",
     "text": [
      "D:\\Programy\\anaconda\\lib\\site-packages\\statsmodels\\base\\model.py:568: ConvergenceWarning: Maximum Likelihood optimization failed to converge. Check mle_retvals\n",
      "  ConvergenceWarning)\n"
     ]
    },
    {
     "name": "stdout",
     "output_type": "stream",
     "text": [
      " ARIMA(1,1,4)(0,0,0)[0] intercept   : AIC=4635.161, Time=0.28 sec\n",
      " ARIMA(0,1,3)(0,0,0)[0]             : AIC=4629.627, Time=0.06 sec\n",
      " ARIMA(0,1,2)(0,0,0)[0]             : AIC=4631.304, Time=0.13 sec\n"
     ]
    },
    {
     "name": "stderr",
     "output_type": "stream",
     "text": [
      "D:\\Programy\\anaconda\\lib\\site-packages\\statsmodels\\base\\model.py:568: ConvergenceWarning: Maximum Likelihood optimization failed to converge. Check mle_retvals\n",
      "  ConvergenceWarning)\n"
     ]
    },
    {
     "name": "stdout",
     "output_type": "stream",
     "text": [
      " ARIMA(1,1,3)(0,0,0)[0]             : AIC=4631.629, Time=0.23 sec\n",
      " ARIMA(0,1,4)(0,0,0)[0]             : AIC=4631.570, Time=0.08 sec\n",
      " ARIMA(1,1,2)(0,0,0)[0]             : AIC=4630.476, Time=0.12 sec\n",
      " ARIMA(1,1,4)(0,0,0)[0]             : AIC=4633.541, Time=0.08 sec\n",
      "\n",
      "Best model:  ARIMA(0,1,3)(0,0,0)[0]          \n",
      "Total fit time: 2.355 seconds\n",
      "autoARIMA time: 0:00:02.370647\n",
      "(0, 1, 3)\n",
      "(0, 0, 0, 0)\n",
      "fit time = 0:00:00.046874\n",
      "##### Koniec dopasowania modelu dla godziny: 91\n",
      "#####\n",
      "##### startuje dopasowanie modelu dla godziny: 92\n",
      "Performing stepwise search to minimize aic\n"
     ]
    },
    {
     "name": "stderr",
     "output_type": "stream",
     "text": [
      "D:\\Programy\\anaconda\\lib\\site-packages\\statsmodels\\tsa\\base\\tsa_model.py:579: ValueWarning: An unsupported index was provided and will be ignored when e.g. forecasting.\n",
      "  ' ignored when e.g. forecasting.', ValueWarning)\n",
      "D:\\Programy\\anaconda\\lib\\site-packages\\statsmodels\\tsa\\base\\tsa_model.py:579: ValueWarning: An unsupported index was provided and will be ignored when e.g. forecasting.\n",
      "  ' ignored when e.g. forecasting.', ValueWarning)\n",
      "D:\\Programy\\anaconda\\lib\\site-packages\\statsmodels\\base\\model.py:568: ConvergenceWarning: Maximum Likelihood optimization failed to converge. Check mle_retvals\n",
      "  ConvergenceWarning)\n"
     ]
    },
    {
     "name": "stdout",
     "output_type": "stream",
     "text": [
      " ARIMA(2,1,2)(0,0,0)[0] intercept   : AIC=4542.352, Time=0.23 sec\n",
      " ARIMA(0,1,0)(0,0,0)[0] intercept   : AIC=4574.876, Time=0.02 sec\n",
      " ARIMA(1,1,0)(0,0,0)[0] intercept   : AIC=4556.721, Time=0.06 sec\n",
      " ARIMA(0,1,1)(0,0,0)[0] intercept   : AIC=4545.181, Time=0.05 sec\n",
      " ARIMA(0,1,0)(0,0,0)[0]             : AIC=4572.889, Time=0.02 sec\n"
     ]
    },
    {
     "name": "stderr",
     "output_type": "stream",
     "text": [
      "D:\\Programy\\anaconda\\lib\\site-packages\\statsmodels\\base\\model.py:568: ConvergenceWarning: Maximum Likelihood optimization failed to converge. Check mle_retvals\n",
      "  ConvergenceWarning)\n"
     ]
    },
    {
     "name": "stdout",
     "output_type": "stream",
     "text": [
      " ARIMA(1,1,2)(0,0,0)[0] intercept   : AIC=4540.349, Time=0.22 sec\n",
      " ARIMA(0,1,2)(0,0,0)[0] intercept   : AIC=4538.559, Time=0.06 sec\n",
      " ARIMA(0,1,3)(0,0,0)[0] intercept   : AIC=4540.352, Time=0.06 sec\n",
      " ARIMA(1,1,1)(0,0,0)[0] intercept   : AIC=4538.726, Time=0.09 sec\n",
      " ARIMA(1,1,3)(0,0,0)[0] intercept   : AIC=4542.244, Time=0.12 sec\n",
      " ARIMA(0,1,2)(0,0,0)[0]             : AIC=4536.871, Time=0.03 sec\n",
      " ARIMA(0,1,1)(0,0,0)[0]             : AIC=4543.408, Time=0.03 sec\n"
     ]
    },
    {
     "name": "stderr",
     "output_type": "stream",
     "text": [
      "D:\\Programy\\anaconda\\lib\\site-packages\\statsmodels\\tsa\\statespace\\sarimax.py:966: UserWarning: Non-stationary starting autoregressive parameters found. Using zeros as starting parameters.\n",
      "  warn('Non-stationary starting autoregressive parameters'\n",
      "D:\\Programy\\anaconda\\lib\\site-packages\\statsmodels\\tsa\\statespace\\sarimax.py:978: UserWarning: Non-invertible starting MA parameters found. Using zeros as starting parameters.\n",
      "  warn('Non-invertible starting MA parameters found.'\n"
     ]
    },
    {
     "name": "stdout",
     "output_type": "stream",
     "text": [
      " ARIMA(1,1,2)(0,0,0)[0]             : AIC=4538.638, Time=0.08 sec\n",
      " ARIMA(0,1,3)(0,0,0)[0]             : AIC=4538.656, Time=0.07 sec\n",
      " ARIMA(1,1,1)(0,0,0)[0]             : AIC=4537.060, Time=0.05 sec\n"
     ]
    },
    {
     "name": "stderr",
     "output_type": "stream",
     "text": [
      "D:\\Programy\\anaconda\\lib\\site-packages\\statsmodels\\tsa\\statespace\\sarimax.py:966: UserWarning: Non-stationary starting autoregressive parameters found. Using zeros as starting parameters.\n",
      "  warn('Non-stationary starting autoregressive parameters'\n",
      "D:\\Programy\\anaconda\\lib\\site-packages\\statsmodels\\tsa\\statespace\\sarimax.py:978: UserWarning: Non-invertible starting MA parameters found. Using zeros as starting parameters.\n",
      "  warn('Non-invertible starting MA parameters found.'\n"
     ]
    },
    {
     "name": "stdout",
     "output_type": "stream",
     "text": [
      " ARIMA(1,1,3)(0,0,0)[0]             : AIC=4540.633, Time=0.17 sec\n",
      "\n",
      "Best model:  ARIMA(0,1,2)(0,0,0)[0]          \n",
      "Total fit time: 1.357 seconds\n",
      "autoARIMA time: 0:00:01.372452\n",
      "(0, 1, 2)\n",
      "(0, 0, 0, 0)\n",
      "fit time = 0:00:00.064046\n",
      "##### Koniec dopasowania modelu dla godziny: 92\n",
      "#####\n",
      "##### startuje dopasowanie modelu dla godziny: 93\n",
      "Performing stepwise search to minimize aic\n"
     ]
    },
    {
     "name": "stderr",
     "output_type": "stream",
     "text": [
      "D:\\Programy\\anaconda\\lib\\site-packages\\statsmodels\\tsa\\base\\tsa_model.py:579: ValueWarning: An unsupported index was provided and will be ignored when e.g. forecasting.\n",
      "  ' ignored when e.g. forecasting.', ValueWarning)\n",
      "D:\\Programy\\anaconda\\lib\\site-packages\\statsmodels\\tsa\\base\\tsa_model.py:579: ValueWarning: An unsupported index was provided and will be ignored when e.g. forecasting.\n",
      "  ' ignored when e.g. forecasting.', ValueWarning)\n"
     ]
    },
    {
     "name": "stdout",
     "output_type": "stream",
     "text": [
      " ARIMA(2,1,2)(0,0,0)[0] intercept   : AIC=4454.505, Time=0.23 sec\n",
      " ARIMA(0,1,0)(0,0,0)[0] intercept   : AIC=4497.662, Time=0.02 sec\n",
      " ARIMA(1,1,0)(0,0,0)[0] intercept   : AIC=4475.688, Time=0.05 sec\n",
      " ARIMA(0,1,1)(0,0,0)[0] intercept   : AIC=4460.134, Time=0.03 sec\n",
      " ARIMA(0,1,0)(0,0,0)[0]             : AIC=4495.666, Time=0.00 sec\n",
      " ARIMA(1,1,2)(0,0,0)[0] intercept   : AIC=4452.603, Time=0.16 sec\n",
      " ARIMA(0,1,2)(0,0,0)[0] intercept   : AIC=4450.839, Time=0.06 sec\n"
     ]
    },
    {
     "name": "stderr",
     "output_type": "stream",
     "text": [
      "D:\\Programy\\anaconda\\lib\\site-packages\\statsmodels\\base\\model.py:568: ConvergenceWarning: Maximum Likelihood optimization failed to converge. Check mle_retvals\n",
      "  ConvergenceWarning)\n"
     ]
    },
    {
     "name": "stdout",
     "output_type": "stream",
     "text": [
      " ARIMA(0,1,3)(0,0,0)[0] intercept   : AIC=4452.384, Time=0.23 sec\n",
      " ARIMA(1,1,1)(0,0,0)[0] intercept   : AIC=4450.798, Time=0.06 sec\n",
      " ARIMA(2,1,1)(0,0,0)[0] intercept   : AIC=4452.372, Time=0.20 sec\n",
      " ARIMA(2,1,0)(0,0,0)[0] intercept   : AIC=4464.313, Time=0.10 sec\n",
      " ARIMA(1,1,1)(0,0,0)[0]             : AIC=4449.283, Time=0.10 sec\n",
      " ARIMA(0,1,1)(0,0,0)[0]             : AIC=4458.331, Time=0.04 sec\n",
      " ARIMA(1,1,0)(0,0,0)[0]             : AIC=4473.717, Time=0.05 sec\n",
      " ARIMA(2,1,1)(0,0,0)[0]             : AIC=4450.822, Time=0.13 sec\n",
      " ARIMA(1,1,2)(0,0,0)[0]             : AIC=4450.851, Time=0.08 sec\n",
      " ARIMA(0,1,2)(0,0,0)[0]             : AIC=4449.178, Time=0.04 sec\n",
      " ARIMA(0,1,3)(0,0,0)[0]             : AIC=4450.842, Time=0.08 sec\n",
      " ARIMA(1,1,3)(0,0,0)[0]             : AIC=4452.834, Time=0.18 sec"
     ]
    },
    {
     "name": "stderr",
     "output_type": "stream",
     "text": [
      "D:\\Programy\\anaconda\\lib\\site-packages\\statsmodels\\tsa\\statespace\\sarimax.py:966: UserWarning: Non-stationary starting autoregressive parameters found. Using zeros as starting parameters.\n",
      "  warn('Non-stationary starting autoregressive parameters'\n",
      "D:\\Programy\\anaconda\\lib\\site-packages\\statsmodels\\tsa\\statespace\\sarimax.py:978: UserWarning: Non-invertible starting MA parameters found. Using zeros as starting parameters.\n",
      "  warn('Non-invertible starting MA parameters found.'\n",
      "D:\\Programy\\anaconda\\lib\\site-packages\\statsmodels\\base\\model.py:568: ConvergenceWarning: Maximum Likelihood optimization failed to converge. Check mle_retvals\n",
      "  ConvergenceWarning)\n"
     ]
    },
    {
     "name": "stdout",
     "output_type": "stream",
     "text": [
      "\n",
      "\n",
      "Best model:  ARIMA(0,1,2)(0,0,0)[0]          \n",
      "Total fit time: 1.875 seconds\n",
      "autoARIMA time: 0:00:01.880906\n",
      "(0, 1, 2)\n",
      "(0, 0, 0, 0)\n",
      "fit time = 0:00:00.047215\n",
      "##### Koniec dopasowania modelu dla godziny: 93\n",
      "#####\n",
      "##### startuje dopasowanie modelu dla godziny: 94\n",
      "Performing stepwise search to minimize aic\n"
     ]
    },
    {
     "name": "stderr",
     "output_type": "stream",
     "text": [
      "D:\\Programy\\anaconda\\lib\\site-packages\\statsmodels\\tsa\\base\\tsa_model.py:579: ValueWarning: An unsupported index was provided and will be ignored when e.g. forecasting.\n",
      "  ' ignored when e.g. forecasting.', ValueWarning)\n",
      "D:\\Programy\\anaconda\\lib\\site-packages\\statsmodels\\tsa\\base\\tsa_model.py:579: ValueWarning: An unsupported index was provided and will be ignored when e.g. forecasting.\n",
      "  ' ignored when e.g. forecasting.', ValueWarning)\n",
      "D:\\Programy\\anaconda\\lib\\site-packages\\statsmodels\\tsa\\statespace\\sarimax.py:966: UserWarning: Non-stationary starting autoregressive parameters found. Using zeros as starting parameters.\n",
      "  warn('Non-stationary starting autoregressive parameters'\n",
      "D:\\Programy\\anaconda\\lib\\site-packages\\statsmodels\\tsa\\statespace\\sarimax.py:978: UserWarning: Non-invertible starting MA parameters found. Using zeros as starting parameters.\n",
      "  warn('Non-invertible starting MA parameters found.'\n",
      "D:\\Programy\\anaconda\\lib\\site-packages\\statsmodels\\base\\model.py:568: ConvergenceWarning: Maximum Likelihood optimization failed to converge. Check mle_retvals\n",
      "  ConvergenceWarning)\n"
     ]
    },
    {
     "name": "stdout",
     "output_type": "stream",
     "text": [
      " ARIMA(2,1,2)(0,0,0)[0] intercept   : AIC=4438.359, Time=0.28 sec\n",
      " ARIMA(0,1,0)(0,0,0)[0] intercept   : AIC=4500.544, Time=0.01 sec\n",
      " ARIMA(1,1,0)(0,0,0)[0] intercept   : AIC=4476.364, Time=0.07 sec\n",
      " ARIMA(0,1,1)(0,0,0)[0] intercept   : AIC=4449.901, Time=0.11 sec\n",
      " ARIMA(0,1,0)(0,0,0)[0]             : AIC=4498.548, Time=0.02 sec\n"
     ]
    },
    {
     "name": "stderr",
     "output_type": "stream",
     "text": [
      "D:\\Programy\\anaconda\\lib\\site-packages\\statsmodels\\base\\model.py:568: ConvergenceWarning: Maximum Likelihood optimization failed to converge. Check mle_retvals\n",
      "  ConvergenceWarning)\n",
      "D:\\Programy\\anaconda\\lib\\site-packages\\statsmodels\\base\\model.py:568: ConvergenceWarning: Maximum Likelihood optimization failed to converge. Check mle_retvals\n",
      "  ConvergenceWarning)\n"
     ]
    },
    {
     "name": "stdout",
     "output_type": "stream",
     "text": [
      " ARIMA(1,1,2)(0,0,0)[0] intercept   : AIC=4436.274, Time=0.23 sec\n",
      " ARIMA(0,1,2)(0,0,0)[0] intercept   : AIC=4434.896, Time=0.17 sec\n"
     ]
    },
    {
     "name": "stderr",
     "output_type": "stream",
     "text": [
      "D:\\Programy\\anaconda\\lib\\site-packages\\statsmodels\\base\\model.py:568: ConvergenceWarning: Maximum Likelihood optimization failed to converge. Check mle_retvals\n",
      "  ConvergenceWarning)\n",
      "D:\\Programy\\anaconda\\lib\\site-packages\\statsmodels\\base\\model.py:568: ConvergenceWarning: Maximum Likelihood optimization failed to converge. Check mle_retvals\n",
      "  ConvergenceWarning)\n"
     ]
    },
    {
     "name": "stdout",
     "output_type": "stream",
     "text": [
      " ARIMA(0,1,3)(0,0,0)[0] intercept   : AIC=4436.734, Time=0.23 sec\n",
      " ARIMA(1,1,1)(0,0,0)[0] intercept   : AIC=4434.685, Time=0.16 sec\n"
     ]
    },
    {
     "name": "stderr",
     "output_type": "stream",
     "text": [
      "D:\\Programy\\anaconda\\lib\\site-packages\\statsmodels\\base\\model.py:568: ConvergenceWarning: Maximum Likelihood optimization failed to converge. Check mle_retvals\n",
      "  ConvergenceWarning)\n"
     ]
    },
    {
     "name": "stdout",
     "output_type": "stream",
     "text": [
      " ARIMA(2,1,1)(0,0,0)[0] intercept   : AIC=4436.149, Time=0.19 sec\n",
      " ARIMA(2,1,0)(0,0,0)[0] intercept   : AIC=4463.991, Time=0.07 sec\n",
      " ARIMA(1,1,1)(0,0,0)[0]             : AIC=4433.760, Time=0.03 sec\n",
      " ARIMA(0,1,1)(0,0,0)[0]             : AIC=4448.366, Time=0.03 sec\n",
      " ARIMA(1,1,0)(0,0,0)[0]             : AIC=4474.386, Time=0.03 sec\n",
      " ARIMA(2,1,1)(0,0,0)[0]             : AIC=4435.090, Time=0.08 sec\n",
      " ARIMA(1,1,2)(0,0,0)[0]             : AIC=4435.295, Time=0.10 sec\n",
      " ARIMA(0,1,2)(0,0,0)[0]             : AIC=4433.795, Time=0.05 sec\n",
      " ARIMA(2,1,0)(0,0,0)[0]             : AIC=4462.032, Time=0.03 sec\n"
     ]
    },
    {
     "name": "stderr",
     "output_type": "stream",
     "text": [
      "D:\\Programy\\anaconda\\lib\\site-packages\\statsmodels\\tsa\\statespace\\sarimax.py:966: UserWarning: Non-stationary starting autoregressive parameters found. Using zeros as starting parameters.\n",
      "  warn('Non-stationary starting autoregressive parameters'\n",
      "D:\\Programy\\anaconda\\lib\\site-packages\\statsmodels\\tsa\\statespace\\sarimax.py:978: UserWarning: Non-invertible starting MA parameters found. Using zeros as starting parameters.\n",
      "  warn('Non-invertible starting MA parameters found.'\n",
      "D:\\Programy\\anaconda\\lib\\site-packages\\statsmodels\\base\\model.py:568: ConvergenceWarning: Maximum Likelihood optimization failed to converge. Check mle_retvals\n",
      "  ConvergenceWarning)\n",
      "D:\\Programy\\anaconda\\lib\\site-packages\\statsmodels\\tsa\\base\\tsa_model.py:579: ValueWarning: An unsupported index was provided and will be ignored when e.g. forecasting.\n",
      "  ' ignored when e.g. forecasting.', ValueWarning)\n",
      "D:\\Programy\\anaconda\\lib\\site-packages\\statsmodels\\tsa\\base\\tsa_model.py:579: ValueWarning: An unsupported index was provided and will be ignored when e.g. forecasting.\n",
      "  ' ignored when e.g. forecasting.', ValueWarning)\n"
     ]
    },
    {
     "name": "stdout",
     "output_type": "stream",
     "text": [
      " ARIMA(2,1,2)(0,0,0)[0]             : AIC=4437.223, Time=0.21 sec\n",
      "\n",
      "Best model:  ARIMA(1,1,1)(0,0,0)[0]          \n",
      "Total fit time: 2.091 seconds\n",
      "autoARIMA time: 0:00:02.097007\n",
      "(1, 1, 1)\n",
      "(0, 0, 0, 0)\n",
      "fit time = 0:00:00.048671\n",
      "##### Koniec dopasowania modelu dla godziny: 94\n",
      "#####\n",
      "##### startuje dopasowanie modelu dla godziny: 95\n",
      "Performing stepwise search to minimize aic\n"
     ]
    },
    {
     "name": "stderr",
     "output_type": "stream",
     "text": [
      "D:\\Programy\\anaconda\\lib\\site-packages\\statsmodels\\base\\model.py:568: ConvergenceWarning: Maximum Likelihood optimization failed to converge. Check mle_retvals\n",
      "  ConvergenceWarning)\n"
     ]
    },
    {
     "name": "stdout",
     "output_type": "stream",
     "text": [
      " ARIMA(2,1,2)(0,0,0)[0] intercept   : AIC=4232.852, Time=0.27 sec\n",
      " ARIMA(0,1,0)(0,0,0)[0] intercept   : AIC=4281.834, Time=0.02 sec\n",
      " ARIMA(1,1,0)(0,0,0)[0] intercept   : AIC=4265.991, Time=0.05 sec\n",
      " ARIMA(0,1,1)(0,0,0)[0] intercept   : AIC=4253.036, Time=0.04 sec\n",
      " ARIMA(0,1,0)(0,0,0)[0]             : AIC=4279.842, Time=0.00 sec\n"
     ]
    },
    {
     "name": "stderr",
     "output_type": "stream",
     "text": [
      "D:\\Programy\\anaconda\\lib\\site-packages\\statsmodels\\base\\model.py:568: ConvergenceWarning: Maximum Likelihood optimization failed to converge. Check mle_retvals\n",
      "  ConvergenceWarning)\n"
     ]
    },
    {
     "name": "stdout",
     "output_type": "stream",
     "text": [
      " ARIMA(1,1,2)(0,0,0)[0] intercept   : AIC=4236.261, Time=0.24 sec\n"
     ]
    },
    {
     "name": "stderr",
     "output_type": "stream",
     "text": [
      "D:\\Programy\\anaconda\\lib\\site-packages\\statsmodels\\base\\model.py:568: ConvergenceWarning: Maximum Likelihood optimization failed to converge. Check mle_retvals\n",
      "  ConvergenceWarning)\n",
      "D:\\Programy\\anaconda\\lib\\site-packages\\statsmodels\\tsa\\statespace\\sarimax.py:978: UserWarning: Non-invertible starting MA parameters found. Using zeros as starting parameters.\n",
      "  warn('Non-invertible starting MA parameters found.'\n"
     ]
    },
    {
     "name": "stdout",
     "output_type": "stream",
     "text": [
      " ARIMA(2,1,1)(0,0,0)[0] intercept   : AIC=4235.976, Time=0.22 sec\n"
     ]
    },
    {
     "name": "stderr",
     "output_type": "stream",
     "text": [
      "D:\\Programy\\anaconda\\lib\\site-packages\\statsmodels\\base\\model.py:568: ConvergenceWarning: Maximum Likelihood optimization failed to converge. Check mle_retvals\n",
      "  ConvergenceWarning)\n"
     ]
    },
    {
     "name": "stdout",
     "output_type": "stream",
     "text": [
      " ARIMA(3,1,2)(0,0,0)[0] intercept   : AIC=4234.530, Time=0.27 sec\n"
     ]
    },
    {
     "name": "stderr",
     "output_type": "stream",
     "text": [
      "D:\\Programy\\anaconda\\lib\\site-packages\\statsmodels\\base\\model.py:568: ConvergenceWarning: Maximum Likelihood optimization failed to converge. Check mle_retvals\n",
      "  ConvergenceWarning)\n",
      "D:\\Programy\\anaconda\\lib\\site-packages\\statsmodels\\base\\model.py:568: ConvergenceWarning: Maximum Likelihood optimization failed to converge. Check mle_retvals\n",
      "  ConvergenceWarning)\n"
     ]
    },
    {
     "name": "stdout",
     "output_type": "stream",
     "text": [
      " ARIMA(2,1,3)(0,0,0)[0] intercept   : AIC=4234.951, Time=0.31 sec\n",
      " ARIMA(1,1,1)(0,0,0)[0] intercept   : AIC=4234.355, Time=0.16 sec\n"
     ]
    },
    {
     "name": "stderr",
     "output_type": "stream",
     "text": [
      "D:\\Programy\\anaconda\\lib\\site-packages\\statsmodels\\base\\model.py:568: ConvergenceWarning: Maximum Likelihood optimization failed to converge. Check mle_retvals\n",
      "  ConvergenceWarning)\n"
     ]
    },
    {
     "name": "stdout",
     "output_type": "stream",
     "text": [
      " ARIMA(1,1,3)(0,0,0)[0] intercept   : AIC=4238.575, Time=0.41 sec\n"
     ]
    },
    {
     "name": "stderr",
     "output_type": "stream",
     "text": [
      "D:\\Programy\\anaconda\\lib\\site-packages\\statsmodels\\base\\model.py:568: ConvergenceWarning: Maximum Likelihood optimization failed to converge. Check mle_retvals\n",
      "  ConvergenceWarning)\n"
     ]
    },
    {
     "name": "stdout",
     "output_type": "stream",
     "text": [
      " ARIMA(3,1,1)(0,0,0)[0] intercept   : AIC=4238.102, Time=0.23 sec\n"
     ]
    },
    {
     "name": "stderr",
     "output_type": "stream",
     "text": [
      "D:\\Programy\\anaconda\\lib\\site-packages\\statsmodels\\base\\model.py:568: ConvergenceWarning: Maximum Likelihood optimization failed to converge. Check mle_retvals\n",
      "  ConvergenceWarning)\n"
     ]
    },
    {
     "name": "stdout",
     "output_type": "stream",
     "text": [
      " ARIMA(3,1,3)(0,0,0)[0] intercept   : AIC=4229.273, Time=0.37 sec\n"
     ]
    },
    {
     "name": "stderr",
     "output_type": "stream",
     "text": [
      "D:\\Programy\\anaconda\\lib\\site-packages\\statsmodels\\base\\model.py:568: ConvergenceWarning: Maximum Likelihood optimization failed to converge. Check mle_retvals\n",
      "  ConvergenceWarning)\n"
     ]
    },
    {
     "name": "stdout",
     "output_type": "stream",
     "text": [
      " ARIMA(4,1,3)(0,0,0)[0] intercept   : AIC=4231.068, Time=0.38 sec\n"
     ]
    },
    {
     "name": "stderr",
     "output_type": "stream",
     "text": [
      "D:\\Programy\\anaconda\\lib\\site-packages\\statsmodels\\base\\model.py:568: ConvergenceWarning: Maximum Likelihood optimization failed to converge. Check mle_retvals\n",
      "  ConvergenceWarning)\n"
     ]
    },
    {
     "name": "stdout",
     "output_type": "stream",
     "text": [
      " ARIMA(3,1,4)(0,0,0)[0] intercept   : AIC=4229.866, Time=0.38 sec\n",
      " ARIMA(2,1,4)(0,0,0)[0] intercept   : AIC=4230.465, Time=0.29 sec\n",
      " ARIMA(4,1,2)(0,0,0)[0] intercept   : AIC=4229.888, Time=0.22 sec\n"
     ]
    },
    {
     "name": "stderr",
     "output_type": "stream",
     "text": [
      "D:\\Programy\\anaconda\\lib\\site-packages\\statsmodels\\base\\model.py:568: ConvergenceWarning: Maximum Likelihood optimization failed to converge. Check mle_retvals\n",
      "  ConvergenceWarning)\n"
     ]
    },
    {
     "name": "stdout",
     "output_type": "stream",
     "text": [
      " ARIMA(4,1,4)(0,0,0)[0] intercept   : AIC=4230.913, Time=0.42 sec\n"
     ]
    },
    {
     "name": "stderr",
     "output_type": "stream",
     "text": [
      "D:\\Programy\\anaconda\\lib\\site-packages\\statsmodels\\base\\model.py:568: ConvergenceWarning: Maximum Likelihood optimization failed to converge. Check mle_retvals\n",
      "  ConvergenceWarning)\n"
     ]
    },
    {
     "name": "stdout",
     "output_type": "stream",
     "text": [
      " ARIMA(3,1,3)(0,0,0)[0]             : AIC=4224.927, Time=0.28 sec\n"
     ]
    },
    {
     "name": "stderr",
     "output_type": "stream",
     "text": [
      "D:\\Programy\\anaconda\\lib\\site-packages\\statsmodels\\base\\model.py:568: ConvergenceWarning: Maximum Likelihood optimization failed to converge. Check mle_retvals\n",
      "  ConvergenceWarning)\n"
     ]
    },
    {
     "name": "stdout",
     "output_type": "stream",
     "text": [
      " ARIMA(2,1,3)(0,0,0)[0]             : AIC=4233.494, Time=0.26 sec\n",
      " ARIMA(3,1,2)(0,0,0)[0]             : AIC=inf, Time=0.16 sec\n"
     ]
    },
    {
     "name": "stderr",
     "output_type": "stream",
     "text": [
      "D:\\Programy\\anaconda\\lib\\site-packages\\statsmodels\\base\\model.py:568: ConvergenceWarning: Maximum Likelihood optimization failed to converge. Check mle_retvals\n",
      "  ConvergenceWarning)\n"
     ]
    },
    {
     "name": "stdout",
     "output_type": "stream",
     "text": [
      " ARIMA(4,1,3)(0,0,0)[0]             : AIC=4229.969, Time=0.26 sec\n"
     ]
    },
    {
     "name": "stderr",
     "output_type": "stream",
     "text": [
      "D:\\Programy\\anaconda\\lib\\site-packages\\statsmodels\\base\\model.py:568: ConvergenceWarning: Maximum Likelihood optimization failed to converge. Check mle_retvals\n",
      "  ConvergenceWarning)\n"
     ]
    },
    {
     "name": "stdout",
     "output_type": "stream",
     "text": [
      " ARIMA(3,1,4)(0,0,0)[0]             : AIC=4228.686, Time=0.33 sec\n",
      " ARIMA(2,1,2)(0,0,0)[0]             : AIC=4231.754, Time=0.09 sec\n"
     ]
    },
    {
     "name": "stderr",
     "output_type": "stream",
     "text": [
      "D:\\Programy\\anaconda\\lib\\site-packages\\statsmodels\\base\\model.py:568: ConvergenceWarning: Maximum Likelihood optimization failed to converge. Check mle_retvals\n",
      "  ConvergenceWarning)\n"
     ]
    },
    {
     "name": "stdout",
     "output_type": "stream",
     "text": [
      " ARIMA(2,1,4)(0,0,0)[0]             : AIC=4229.346, Time=0.33 sec\n",
      " ARIMA(4,1,2)(0,0,0)[0]             : AIC=4228.481, Time=0.22 sec\n"
     ]
    },
    {
     "name": "stderr",
     "output_type": "stream",
     "text": [
      "D:\\Programy\\anaconda\\lib\\site-packages\\statsmodels\\base\\model.py:568: ConvergenceWarning: Maximum Likelihood optimization failed to converge. Check mle_retvals\n",
      "  ConvergenceWarning)\n",
      "D:\\Programy\\anaconda\\lib\\site-packages\\statsmodels\\tsa\\base\\tsa_model.py:579: ValueWarning: An unsupported index was provided and will be ignored when e.g. forecasting.\n",
      "  ' ignored when e.g. forecasting.', ValueWarning)\n",
      "D:\\Programy\\anaconda\\lib\\site-packages\\statsmodels\\tsa\\base\\tsa_model.py:579: ValueWarning: An unsupported index was provided and will be ignored when e.g. forecasting.\n",
      "  ' ignored when e.g. forecasting.', ValueWarning)\n"
     ]
    },
    {
     "name": "stdout",
     "output_type": "stream",
     "text": [
      " ARIMA(4,1,4)(0,0,0)[0]             : AIC=4228.810, Time=0.40 sec\n",
      "\n",
      "Best model:  ARIMA(3,1,3)(0,0,0)[0]          \n",
      "Total fit time: 6.687 seconds\n",
      "autoARIMA time: 0:00:06.702939\n",
      "(3, 1, 3)\n",
      "(0, 0, 0, 0)\n",
      "fit time = 0:00:00.226271\n",
      "##### Koniec dopasowania modelu dla godziny: 95\n",
      "#####\n",
      "##### startuje dopasowanie modelu dla godziny: 96\n",
      "Performing stepwise search to minimize aic\n",
      " ARIMA(2,1,2)(0,0,0)[0] intercept   : AIC=4082.136, Time=0.15 sec\n",
      " ARIMA(0,1,0)(0,0,0)[0] intercept   : AIC=4135.933, Time=0.01 sec\n",
      " ARIMA(1,1,0)(0,0,0)[0] intercept   : AIC=4102.498, Time=0.03 sec\n",
      " ARIMA(0,1,1)(0,0,0)[0] intercept   : AIC=4083.447, Time=0.05 sec\n",
      " ARIMA(0,1,0)(0,0,0)[0]             : AIC=4133.937, Time=0.00 sec\n",
      " ARIMA(1,1,2)(0,0,0)[0] intercept   : AIC=4080.338, Time=0.11 sec\n",
      " ARIMA(0,1,2)(0,0,0)[0] intercept   : AIC=4083.559, Time=0.08 sec\n",
      " ARIMA(1,1,1)(0,0,0)[0] intercept   : AIC=4083.829, Time=0.05 sec\n",
      " ARIMA(1,1,3)(0,0,0)[0] intercept   : AIC=4082.249, Time=0.16 sec\n",
      " ARIMA(0,1,3)(0,0,0)[0] intercept   : AIC=4084.102, Time=0.09 sec\n",
      " ARIMA(2,1,1)(0,0,0)[0] intercept   : AIC=4085.122, Time=0.12 sec\n"
     ]
    },
    {
     "name": "stderr",
     "output_type": "stream",
     "text": [
      "D:\\Programy\\anaconda\\lib\\site-packages\\statsmodels\\base\\model.py:568: ConvergenceWarning: Maximum Likelihood optimization failed to converge. Check mle_retvals\n",
      "  ConvergenceWarning)\n"
     ]
    },
    {
     "name": "stdout",
     "output_type": "stream",
     "text": [
      " ARIMA(2,1,3)(0,0,0)[0] intercept   : AIC=4075.701, Time=0.28 sec\n",
      " ARIMA(3,1,3)(0,0,0)[0] intercept   : AIC=4077.392, Time=0.30 sec\n"
     ]
    },
    {
     "name": "stderr",
     "output_type": "stream",
     "text": [
      "D:\\Programy\\anaconda\\lib\\site-packages\\statsmodels\\base\\model.py:568: ConvergenceWarning: Maximum Likelihood optimization failed to converge. Check mle_retvals\n",
      "  ConvergenceWarning)\n"
     ]
    },
    {
     "name": "stdout",
     "output_type": "stream",
     "text": [
      " ARIMA(2,1,4)(0,0,0)[0] intercept   : AIC=4077.642, Time=0.34 sec\n",
      " ARIMA(1,1,4)(0,0,0)[0] intercept   : AIC=4083.000, Time=0.19 sec\n",
      " ARIMA(3,1,2)(0,0,0)[0] intercept   : AIC=4082.782, Time=0.16 sec\n"
     ]
    },
    {
     "name": "stderr",
     "output_type": "stream",
     "text": [
      "D:\\Programy\\anaconda\\lib\\site-packages\\statsmodels\\base\\model.py:568: ConvergenceWarning: Maximum Likelihood optimization failed to converge. Check mle_retvals\n",
      "  ConvergenceWarning)\n"
     ]
    },
    {
     "name": "stdout",
     "output_type": "stream",
     "text": [
      " ARIMA(3,1,4)(0,0,0)[0] intercept   : AIC=4079.595, Time=0.40 sec\n"
     ]
    },
    {
     "name": "stderr",
     "output_type": "stream",
     "text": [
      "D:\\Programy\\anaconda\\lib\\site-packages\\statsmodels\\base\\model.py:568: ConvergenceWarning: Maximum Likelihood optimization failed to converge. Check mle_retvals\n",
      "  ConvergenceWarning)\n"
     ]
    },
    {
     "name": "stdout",
     "output_type": "stream",
     "text": [
      " ARIMA(2,1,3)(0,0,0)[0]             : AIC=4073.814, Time=0.23 sec\n",
      " ARIMA(1,1,3)(0,0,0)[0]             : AIC=4080.429, Time=0.13 sec\n",
      " ARIMA(2,1,2)(0,0,0)[0]             : AIC=4080.311, Time=0.12 sec\n",
      " ARIMA(3,1,3)(0,0,0)[0]             : AIC=4075.584, Time=0.21 sec\n"
     ]
    },
    {
     "name": "stderr",
     "output_type": "stream",
     "text": [
      "D:\\Programy\\anaconda\\lib\\site-packages\\statsmodels\\base\\model.py:568: ConvergenceWarning: Maximum Likelihood optimization failed to converge. Check mle_retvals\n",
      "  ConvergenceWarning)\n"
     ]
    },
    {
     "name": "stdout",
     "output_type": "stream",
     "text": [
      " ARIMA(2,1,4)(0,0,0)[0]             : AIC=4075.803, Time=0.26 sec\n",
      " ARIMA(1,1,2)(0,0,0)[0]             : AIC=4078.534, Time=0.06 sec\n",
      " ARIMA(1,1,4)(0,0,0)[0]             : AIC=4081.238, Time=0.16 sec\n",
      " ARIMA(3,1,2)(0,0,0)[0]             : AIC=4080.990, Time=0.13 sec\n"
     ]
    },
    {
     "name": "stderr",
     "output_type": "stream",
     "text": [
      "D:\\Programy\\anaconda\\lib\\site-packages\\statsmodels\\base\\model.py:568: ConvergenceWarning: Maximum Likelihood optimization failed to converge. Check mle_retvals\n",
      "  ConvergenceWarning)\n",
      "D:\\Programy\\anaconda\\lib\\site-packages\\statsmodels\\tsa\\base\\tsa_model.py:579: ValueWarning: An unsupported index was provided and will be ignored when e.g. forecasting.\n",
      "  ' ignored when e.g. forecasting.', ValueWarning)\n",
      "D:\\Programy\\anaconda\\lib\\site-packages\\statsmodels\\tsa\\base\\tsa_model.py:579: ValueWarning: An unsupported index was provided and will be ignored when e.g. forecasting.\n",
      "  ' ignored when e.g. forecasting.', ValueWarning)\n"
     ]
    },
    {
     "name": "stdout",
     "output_type": "stream",
     "text": [
      " ARIMA(3,1,4)(0,0,0)[0]             : AIC=4077.793, Time=0.30 sec\n",
      "\n",
      "Best model:  ARIMA(2,1,3)(0,0,0)[0]          \n",
      "Total fit time: 4.120 seconds\n",
      "autoARIMA time: 0:00:04.133367\n",
      "(2, 1, 3)\n",
      "(0, 0, 0, 0)\n",
      "fit time = 0:00:00.166774\n",
      "##### Koniec dopasowania modelu dla godziny: 96\n",
      "#####\n",
      "##### startuje dopasowanie modelu dla godziny: 97\n",
      "Performing stepwise search to minimize aic\n",
      " ARIMA(2,1,2)(0,0,0)[0] intercept   : AIC=4074.975, Time=0.17 sec\n",
      " ARIMA(0,1,0)(0,0,0)[0] intercept   : AIC=4126.404, Time=0.02 sec\n",
      " ARIMA(1,1,0)(0,0,0)[0] intercept   : AIC=4093.233, Time=0.07 sec\n",
      " ARIMA(0,1,1)(0,0,0)[0] intercept   : AIC=4075.316, Time=0.07 sec\n",
      " ARIMA(0,1,0)(0,0,0)[0]             : AIC=4124.411, Time=0.02 sec\n",
      " ARIMA(1,1,2)(0,0,0)[0] intercept   : AIC=4073.258, Time=0.23 sec\n",
      " ARIMA(0,1,2)(0,0,0)[0] intercept   : AIC=4075.497, Time=0.28 sec\n",
      " ARIMA(1,1,1)(0,0,0)[0] intercept   : AIC=4075.805, Time=0.06 sec\n",
      " ARIMA(1,1,3)(0,0,0)[0] intercept   : AIC=4075.109, Time=0.20 sec\n"
     ]
    },
    {
     "name": "stderr",
     "output_type": "stream",
     "text": [
      "D:\\Programy\\anaconda\\lib\\site-packages\\statsmodels\\base\\model.py:568: ConvergenceWarning: Maximum Likelihood optimization failed to converge. Check mle_retvals\n",
      "  ConvergenceWarning)\n"
     ]
    },
    {
     "name": "stdout",
     "output_type": "stream",
     "text": [
      " ARIMA(0,1,3)(0,0,0)[0] intercept   : AIC=4076.290, Time=0.21 sec\n",
      " ARIMA(2,1,1)(0,0,0)[0] intercept   : AIC=4077.315, Time=0.19 sec\n"
     ]
    },
    {
     "name": "stderr",
     "output_type": "stream",
     "text": [
      "D:\\Programy\\anaconda\\lib\\site-packages\\statsmodels\\base\\model.py:568: ConvergenceWarning: Maximum Likelihood optimization failed to converge. Check mle_retvals\n",
      "  ConvergenceWarning)\n"
     ]
    },
    {
     "name": "stdout",
     "output_type": "stream",
     "text": [
      " ARIMA(2,1,3)(0,0,0)[0] intercept   : AIC=4069.307, Time=0.30 sec\n"
     ]
    },
    {
     "name": "stderr",
     "output_type": "stream",
     "text": [
      "D:\\Programy\\anaconda\\lib\\site-packages\\statsmodels\\base\\model.py:568: ConvergenceWarning: Maximum Likelihood optimization failed to converge. Check mle_retvals\n",
      "  ConvergenceWarning)\n"
     ]
    },
    {
     "name": "stdout",
     "output_type": "stream",
     "text": [
      " ARIMA(3,1,3)(0,0,0)[0] intercept   : AIC=4069.238, Time=0.33 sec\n",
      " ARIMA(3,1,2)(0,0,0)[0] intercept   : AIC=4075.273, Time=0.20 sec\n"
     ]
    },
    {
     "name": "stderr",
     "output_type": "stream",
     "text": [
      "D:\\Programy\\anaconda\\lib\\site-packages\\statsmodels\\base\\model.py:568: ConvergenceWarning: Maximum Likelihood optimization failed to converge. Check mle_retvals\n",
      "  ConvergenceWarning)\n"
     ]
    },
    {
     "name": "stdout",
     "output_type": "stream",
     "text": [
      " ARIMA(4,1,3)(0,0,0)[0] intercept   : AIC=4071.783, Time=0.33 sec\n"
     ]
    },
    {
     "name": "stderr",
     "output_type": "stream",
     "text": [
      "D:\\Programy\\anaconda\\lib\\site-packages\\statsmodels\\base\\model.py:568: ConvergenceWarning: Maximum Likelihood optimization failed to converge. Check mle_retvals\n",
      "  ConvergenceWarning)\n"
     ]
    },
    {
     "name": "stdout",
     "output_type": "stream",
     "text": [
      " ARIMA(3,1,4)(0,0,0)[0] intercept   : AIC=4071.335, Time=0.35 sec\n"
     ]
    },
    {
     "name": "stderr",
     "output_type": "stream",
     "text": [
      "D:\\Programy\\anaconda\\lib\\site-packages\\statsmodels\\base\\model.py:568: ConvergenceWarning: Maximum Likelihood optimization failed to converge. Check mle_retvals\n",
      "  ConvergenceWarning)\n"
     ]
    },
    {
     "name": "stdout",
     "output_type": "stream",
     "text": [
      " ARIMA(2,1,4)(0,0,0)[0] intercept   : AIC=4069.589, Time=0.35 sec\n",
      " ARIMA(4,1,2)(0,0,0)[0] intercept   : AIC=4070.247, Time=0.30 sec\n"
     ]
    },
    {
     "name": "stderr",
     "output_type": "stream",
     "text": [
      "D:\\Programy\\anaconda\\lib\\site-packages\\statsmodels\\base\\model.py:568: ConvergenceWarning: Maximum Likelihood optimization failed to converge. Check mle_retvals\n",
      "  ConvergenceWarning)\n"
     ]
    },
    {
     "name": "stdout",
     "output_type": "stream",
     "text": [
      " ARIMA(4,1,4)(0,0,0)[0] intercept   : AIC=4071.507, Time=0.39 sec\n"
     ]
    },
    {
     "name": "stderr",
     "output_type": "stream",
     "text": [
      "D:\\Programy\\anaconda\\lib\\site-packages\\statsmodels\\base\\model.py:568: ConvergenceWarning: Maximum Likelihood optimization failed to converge. Check mle_retvals\n",
      "  ConvergenceWarning)\n"
     ]
    },
    {
     "name": "stdout",
     "output_type": "stream",
     "text": [
      " ARIMA(3,1,3)(0,0,0)[0]             : AIC=4067.480, Time=0.26 sec\n"
     ]
    },
    {
     "name": "stderr",
     "output_type": "stream",
     "text": [
      "D:\\Programy\\anaconda\\lib\\site-packages\\statsmodels\\base\\model.py:568: ConvergenceWarning: Maximum Likelihood optimization failed to converge. Check mle_retvals\n",
      "  ConvergenceWarning)\n"
     ]
    },
    {
     "name": "stdout",
     "output_type": "stream",
     "text": [
      " ARIMA(2,1,3)(0,0,0)[0]             : AIC=4067.446, Time=0.22 sec\n",
      " ARIMA(1,1,3)(0,0,0)[0]             : AIC=4073.328, Time=0.10 sec\n",
      " ARIMA(2,1,2)(0,0,0)[0]             : AIC=4073.180, Time=0.13 sec\n"
     ]
    },
    {
     "name": "stderr",
     "output_type": "stream",
     "text": [
      "D:\\Programy\\anaconda\\lib\\site-packages\\statsmodels\\base\\model.py:568: ConvergenceWarning: Maximum Likelihood optimization failed to converge. Check mle_retvals\n",
      "  ConvergenceWarning)\n"
     ]
    },
    {
     "name": "stdout",
     "output_type": "stream",
     "text": [
      " ARIMA(2,1,4)(0,0,0)[0]             : AIC=4067.721, Time=0.30 sec\n",
      " ARIMA(1,1,2)(0,0,0)[0]             : AIC=4071.492, Time=0.06 sec\n",
      " ARIMA(1,1,4)(0,0,0)[0]             : AIC=4073.682, Time=0.15 sec\n",
      " ARIMA(3,1,2)(0,0,0)[0]             : AIC=4073.496, Time=0.14 sec\n"
     ]
    },
    {
     "name": "stderr",
     "output_type": "stream",
     "text": [
      "D:\\Programy\\anaconda\\lib\\site-packages\\statsmodels\\base\\model.py:568: ConvergenceWarning: Maximum Likelihood optimization failed to converge. Check mle_retvals\n",
      "  ConvergenceWarning)\n",
      "D:\\Programy\\anaconda\\lib\\site-packages\\statsmodels\\tsa\\base\\tsa_model.py:579: ValueWarning: An unsupported index was provided and will be ignored when e.g. forecasting.\n",
      "  ' ignored when e.g. forecasting.', ValueWarning)\n",
      "D:\\Programy\\anaconda\\lib\\site-packages\\statsmodels\\tsa\\base\\tsa_model.py:579: ValueWarning: An unsupported index was provided and will be ignored when e.g. forecasting.\n",
      "  ' ignored when e.g. forecasting.', ValueWarning)\n"
     ]
    },
    {
     "name": "stdout",
     "output_type": "stream",
     "text": [
      " ARIMA(3,1,4)(0,0,0)[0]             : AIC=4069.557, Time=0.26 sec\n",
      "\n",
      "Best model:  ARIMA(2,1,3)(0,0,0)[0]          \n",
      "Total fit time: 5.757 seconds\n",
      "autoARIMA time: 0:00:05.772187\n",
      "(2, 1, 3)\n",
      "(0, 0, 0, 0)\n",
      "fit time = 0:00:00.201438\n",
      "##### Koniec dopasowania modelu dla godziny: 97\n",
      "#####\n",
      "##### startuje dopasowanie modelu dla godziny: 98\n",
      "Performing stepwise search to minimize aic\n",
      " ARIMA(2,1,2)(0,0,0)[0] intercept   : AIC=4097.352, Time=0.19 sec\n",
      " ARIMA(0,1,0)(0,0,0)[0] intercept   : AIC=4156.582, Time=0.02 sec\n",
      " ARIMA(1,1,0)(0,0,0)[0] intercept   : AIC=4130.711, Time=0.05 sec\n",
      " ARIMA(0,1,1)(0,0,0)[0] intercept   : AIC=4103.528, Time=0.04 sec\n",
      " ARIMA(0,1,0)(0,0,0)[0]             : AIC=4154.592, Time=0.01 sec\n",
      " ARIMA(1,1,2)(0,0,0)[0] intercept   : AIC=4096.023, Time=0.13 sec\n",
      " ARIMA(0,1,2)(0,0,0)[0] intercept   : AIC=4100.474, Time=0.20 sec\n",
      " ARIMA(1,1,1)(0,0,0)[0] intercept   : AIC=4102.559, Time=0.07 sec\n",
      " ARIMA(1,1,3)(0,0,0)[0] intercept   : AIC=4097.321, Time=0.31 sec\n",
      " ARIMA(0,1,3)(0,0,0)[0] intercept   : AIC=4096.250, Time=0.13 sec\n",
      " ARIMA(2,1,1)(0,0,0)[0] intercept   : AIC=4098.737, Time=0.15 sec\n"
     ]
    },
    {
     "name": "stderr",
     "output_type": "stream",
     "text": [
      "D:\\Programy\\anaconda\\lib\\site-packages\\statsmodels\\base\\model.py:568: ConvergenceWarning: Maximum Likelihood optimization failed to converge. Check mle_retvals\n",
      "  ConvergenceWarning)\n"
     ]
    },
    {
     "name": "stdout",
     "output_type": "stream",
     "text": [
      " ARIMA(2,1,3)(0,0,0)[0] intercept   : AIC=4099.181, Time=0.37 sec\n",
      " ARIMA(1,1,2)(0,0,0)[0]             : AIC=4094.398, Time=0.08 sec\n",
      " ARIMA(0,1,2)(0,0,0)[0]             : AIC=4098.902, Time=0.03 sec\n",
      " ARIMA(1,1,1)(0,0,0)[0]             : AIC=4100.797, Time=0.04 sec\n",
      " ARIMA(2,1,2)(0,0,0)[0]             : AIC=4095.695, Time=0.11 sec\n",
      " ARIMA(1,1,3)(0,0,0)[0]             : AIC=4095.623, Time=0.10 sec\n",
      " ARIMA(0,1,1)(0,0,0)[0]             : AIC=4101.795, Time=0.03 sec\n",
      " ARIMA(0,1,3)(0,0,0)[0]             : AIC=4094.379, Time=0.09 sec\n",
      " ARIMA(0,1,4)(0,0,0)[0]             : AIC=4096.206, Time=0.06 sec\n",
      " ARIMA(1,1,4)(0,0,0)[0]             : AIC=4097.579, Time=0.17 sec\n",
      "\n",
      "Best model:  ARIMA(0,1,3)(0,0,0)[0]          \n",
      "Total fit time: 2.402 seconds\n",
      "autoARIMA time: 0:00:02.415123\n",
      "(0, 1, 3)\n",
      "(0, 0, 0, 0)\n",
      "fit time = 0:00:00.057040\n",
      "##### Koniec dopasowania modelu dla godziny: 98\n",
      "#####\n",
      "##### startuje dopasowanie modelu dla godziny: 99\n",
      "Performing stepwise search to minimize aic\n"
     ]
    },
    {
     "name": "stderr",
     "output_type": "stream",
     "text": [
      "D:\\Programy\\anaconda\\lib\\site-packages\\statsmodels\\tsa\\base\\tsa_model.py:579: ValueWarning: An unsupported index was provided and will be ignored when e.g. forecasting.\n",
      "  ' ignored when e.g. forecasting.', ValueWarning)\n",
      "D:\\Programy\\anaconda\\lib\\site-packages\\statsmodels\\tsa\\base\\tsa_model.py:579: ValueWarning: An unsupported index was provided and will be ignored when e.g. forecasting.\n",
      "  ' ignored when e.g. forecasting.', ValueWarning)\n",
      "D:\\Programy\\anaconda\\lib\\site-packages\\statsmodels\\base\\model.py:568: ConvergenceWarning: Maximum Likelihood optimization failed to converge. Check mle_retvals\n",
      "  ConvergenceWarning)\n"
     ]
    },
    {
     "name": "stdout",
     "output_type": "stream",
     "text": [
      " ARIMA(2,1,2)(0,0,0)[0] intercept   : AIC=4323.672, Time=0.25 sec\n",
      " ARIMA(0,1,0)(0,0,0)[0] intercept   : AIC=4385.836, Time=0.02 sec\n",
      " ARIMA(1,1,0)(0,0,0)[0] intercept   : AIC=4362.396, Time=0.05 sec\n"
     ]
    },
    {
     "name": "stderr",
     "output_type": "stream",
     "text": [
      "D:\\Programy\\anaconda\\lib\\site-packages\\statsmodels\\base\\model.py:568: ConvergenceWarning: Maximum Likelihood optimization failed to converge. Check mle_retvals\n",
      "  ConvergenceWarning)\n"
     ]
    },
    {
     "name": "stdout",
     "output_type": "stream",
     "text": [
      " ARIMA(0,1,1)(0,0,0)[0] intercept   : AIC=4330.428, Time=0.14 sec\n",
      " ARIMA(0,1,0)(0,0,0)[0]             : AIC=4383.847, Time=0.02 sec\n"
     ]
    },
    {
     "name": "stderr",
     "output_type": "stream",
     "text": [
      "D:\\Programy\\anaconda\\lib\\site-packages\\statsmodels\\base\\model.py:568: ConvergenceWarning: Maximum Likelihood optimization failed to converge. Check mle_retvals\n",
      "  ConvergenceWarning)\n"
     ]
    },
    {
     "name": "stdout",
     "output_type": "stream",
     "text": [
      " ARIMA(1,1,2)(0,0,0)[0] intercept   : AIC=4321.203, Time=0.20 sec\n",
      " ARIMA(0,1,2)(0,0,0)[0] intercept   : AIC=4319.235, Time=0.16 sec\n"
     ]
    },
    {
     "name": "stderr",
     "output_type": "stream",
     "text": [
      "D:\\Programy\\anaconda\\lib\\site-packages\\statsmodels\\base\\model.py:568: ConvergenceWarning: Maximum Likelihood optimization failed to converge. Check mle_retvals\n",
      "  ConvergenceWarning)\n",
      "D:\\Programy\\anaconda\\lib\\site-packages\\statsmodels\\base\\model.py:568: ConvergenceWarning: Maximum Likelihood optimization failed to converge. Check mle_retvals\n",
      "  ConvergenceWarning)\n"
     ]
    },
    {
     "name": "stdout",
     "output_type": "stream",
     "text": [
      " ARIMA(0,1,3)(0,0,0)[0] intercept   : AIC=4321.166, Time=0.22 sec\n",
      " ARIMA(1,1,1)(0,0,0)[0] intercept   : AIC=4320.619, Time=0.14 sec\n"
     ]
    },
    {
     "name": "stderr",
     "output_type": "stream",
     "text": [
      "D:\\Programy\\anaconda\\lib\\site-packages\\statsmodels\\base\\model.py:568: ConvergenceWarning: Maximum Likelihood optimization failed to converge. Check mle_retvals\n",
      "  ConvergenceWarning)\n"
     ]
    },
    {
     "name": "stdout",
     "output_type": "stream",
     "text": [
      " ARIMA(1,1,3)(0,0,0)[0] intercept   : AIC=4322.376, Time=0.28 sec\n",
      " ARIMA(0,1,2)(0,0,0)[0]             : AIC=4318.069, Time=0.05 sec\n",
      " ARIMA(0,1,1)(0,0,0)[0]             : AIC=4328.955, Time=0.15 sec\n",
      " ARIMA(1,1,2)(0,0,0)[0]             : AIC=4320.052, Time=0.09 sec\n",
      " ARIMA(0,1,3)(0,0,0)[0]             : AIC=4320.016, Time=0.03 sec\n",
      " ARIMA(1,1,1)(0,0,0)[0]             : AIC=4319.517, Time=0.05 sec\n"
     ]
    },
    {
     "name": "stderr",
     "output_type": "stream",
     "text": [
      "D:\\Programy\\anaconda\\lib\\site-packages\\statsmodels\\base\\model.py:568: ConvergenceWarning: Maximum Likelihood optimization failed to converge. Check mle_retvals\n",
      "  ConvergenceWarning)\n",
      "D:\\Programy\\anaconda\\lib\\site-packages\\statsmodels\\tsa\\base\\tsa_model.py:579: ValueWarning: An unsupported index was provided and will be ignored when e.g. forecasting.\n",
      "  ' ignored when e.g. forecasting.', ValueWarning)\n",
      "D:\\Programy\\anaconda\\lib\\site-packages\\statsmodels\\tsa\\base\\tsa_model.py:579: ValueWarning: An unsupported index was provided and will be ignored when e.g. forecasting.\n",
      "  ' ignored when e.g. forecasting.', ValueWarning)\n"
     ]
    },
    {
     "name": "stdout",
     "output_type": "stream",
     "text": [
      " ARIMA(1,1,3)(0,0,0)[0]             : AIC=4321.855, Time=0.19 sec\n",
      "\n",
      "Best model:  ARIMA(0,1,2)(0,0,0)[0]          \n",
      "Total fit time: 2.045 seconds\n",
      "autoARIMA time: 0:00:02.045415\n",
      "(0, 1, 2)\n",
      "(0, 0, 0, 0)\n",
      "fit time = 0:00:00.060697\n",
      "##### Koniec dopasowania modelu dla godziny: 99\n",
      "#####\n",
      "##### startuje dopasowanie modelu dla godziny: 100\n",
      "Performing stepwise search to minimize aic\n"
     ]
    },
    {
     "name": "stderr",
     "output_type": "stream",
     "text": [
      "D:\\Programy\\anaconda\\lib\\site-packages\\statsmodels\\base\\model.py:568: ConvergenceWarning: Maximum Likelihood optimization failed to converge. Check mle_retvals\n",
      "  ConvergenceWarning)\n"
     ]
    },
    {
     "name": "stdout",
     "output_type": "stream",
     "text": [
      " ARIMA(2,1,2)(0,0,0)[0] intercept   : AIC=4253.556, Time=0.29 sec\n",
      " ARIMA(0,1,0)(0,0,0)[0] intercept   : AIC=4300.590, Time=0.02 sec\n",
      " ARIMA(1,1,0)(0,0,0)[0] intercept   : AIC=4283.676, Time=0.05 sec\n",
      " ARIMA(0,1,1)(0,0,0)[0] intercept   : AIC=4265.287, Time=0.14 sec\n",
      " ARIMA(0,1,0)(0,0,0)[0]             : AIC=4298.603, Time=0.01 sec\n"
     ]
    },
    {
     "name": "stderr",
     "output_type": "stream",
     "text": [
      "D:\\Programy\\anaconda\\lib\\site-packages\\statsmodels\\base\\model.py:568: ConvergenceWarning: Maximum Likelihood optimization failed to converge. Check mle_retvals\n",
      "  ConvergenceWarning)\n"
     ]
    },
    {
     "name": "stdout",
     "output_type": "stream",
     "text": [
      " ARIMA(1,1,2)(0,0,0)[0] intercept   : AIC=4251.293, Time=0.25 sec\n",
      " ARIMA(0,1,2)(0,0,0)[0] intercept   : AIC=4249.321, Time=0.16 sec\n"
     ]
    },
    {
     "name": "stderr",
     "output_type": "stream",
     "text": [
      "D:\\Programy\\anaconda\\lib\\site-packages\\statsmodels\\base\\model.py:568: ConvergenceWarning: Maximum Likelihood optimization failed to converge. Check mle_retvals\n",
      "  ConvergenceWarning)\n",
      "D:\\Programy\\anaconda\\lib\\site-packages\\statsmodels\\base\\model.py:568: ConvergenceWarning: Maximum Likelihood optimization failed to converge. Check mle_retvals\n",
      "  ConvergenceWarning)\n"
     ]
    },
    {
     "name": "stdout",
     "output_type": "stream",
     "text": [
      " ARIMA(0,1,3)(0,0,0)[0] intercept   : AIC=4251.103, Time=0.24 sec\n",
      " ARIMA(1,1,1)(0,0,0)[0] intercept   : AIC=4250.992, Time=0.17 sec\n"
     ]
    },
    {
     "name": "stderr",
     "output_type": "stream",
     "text": [
      "D:\\Programy\\anaconda\\lib\\site-packages\\statsmodels\\base\\model.py:568: ConvergenceWarning: Maximum Likelihood optimization failed to converge. Check mle_retvals\n",
      "  ConvergenceWarning)\n"
     ]
    },
    {
     "name": "stdout",
     "output_type": "stream",
     "text": [
      " ARIMA(1,1,3)(0,0,0)[0] intercept   : AIC=4253.282, Time=0.27 sec\n",
      " ARIMA(0,1,2)(0,0,0)[0]             : AIC=4248.072, Time=0.05 sec\n",
      " ARIMA(0,1,1)(0,0,0)[0]             : AIC=4263.603, Time=0.06 sec\n",
      " ARIMA(1,1,2)(0,0,0)[0]             : AIC=4249.835, Time=0.08 sec\n",
      " ARIMA(0,1,3)(0,0,0)[0]             : AIC=4249.884, Time=0.06 sec\n",
      " ARIMA(1,1,1)(0,0,0)[0]             : AIC=4249.050, Time=0.09 sec\n"
     ]
    },
    {
     "name": "stderr",
     "output_type": "stream",
     "text": [
      "D:\\Programy\\anaconda\\lib\\site-packages\\statsmodels\\base\\model.py:568: ConvergenceWarning: Maximum Likelihood optimization failed to converge. Check mle_retvals\n",
      "  ConvergenceWarning)\n",
      "D:\\Programy\\anaconda\\lib\\site-packages\\statsmodels\\base\\model.py:568: ConvergenceWarning: Maximum Likelihood optimization failed to converge. Check mle_retvals\n",
      "  ConvergenceWarning)\n"
     ]
    },
    {
     "name": "stdout",
     "output_type": "stream",
     "text": [
      " ARIMA(1,1,3)(0,0,0)[0]             : AIC=4251.838, Time=0.17 sec\n",
      "\n",
      "Best model:  ARIMA(0,1,2)(0,0,0)[0]          \n",
      "Total fit time: 2.115 seconds\n",
      "autoARIMA time: 0:00:02.130687\n",
      "(0, 1, 2)\n",
      "(0, 0, 0, 0)\n",
      "fit time = 0:00:00.046179\n",
      "##### Koniec dopasowania modelu dla godziny: 100\n",
      "#####\n",
      "##### startuje dopasowanie modelu dla godziny: 101\n",
      "Performing stepwise search to minimize aic\n"
     ]
    },
    {
     "name": "stderr",
     "output_type": "stream",
     "text": [
      "D:\\Programy\\anaconda\\lib\\site-packages\\statsmodels\\tsa\\base\\tsa_model.py:579: ValueWarning: An unsupported index was provided and will be ignored when e.g. forecasting.\n",
      "  ' ignored when e.g. forecasting.', ValueWarning)\n",
      "D:\\Programy\\anaconda\\lib\\site-packages\\statsmodels\\tsa\\base\\tsa_model.py:579: ValueWarning: An unsupported index was provided and will be ignored when e.g. forecasting.\n",
      "  ' ignored when e.g. forecasting.', ValueWarning)\n",
      "D:\\Programy\\anaconda\\lib\\site-packages\\statsmodels\\base\\model.py:568: ConvergenceWarning: Maximum Likelihood optimization failed to converge. Check mle_retvals\n",
      "  ConvergenceWarning)\n"
     ]
    },
    {
     "name": "stdout",
     "output_type": "stream",
     "text": [
      " ARIMA(2,1,2)(0,0,0)[0] intercept   : AIC=4263.305, Time=0.25 sec\n",
      " ARIMA(0,1,0)(0,0,0)[0] intercept   : AIC=4302.188, Time=0.02 sec\n",
      " ARIMA(1,1,0)(0,0,0)[0] intercept   : AIC=4284.368, Time=0.06 sec\n",
      " ARIMA(0,1,1)(0,0,0)[0] intercept   : AIC=4269.408, Time=0.14 sec\n",
      " ARIMA(0,1,0)(0,0,0)[0]             : AIC=4300.202, Time=0.01 sec\n",
      " ARIMA(1,1,2)(0,0,0)[0] intercept   : AIC=4261.619, Time=0.12 sec\n"
     ]
    },
    {
     "name": "stderr",
     "output_type": "stream",
     "text": [
      "D:\\Programy\\anaconda\\lib\\site-packages\\statsmodels\\base\\model.py:568: ConvergenceWarning: Maximum Likelihood optimization failed to converge. Check mle_retvals\n",
      "  ConvergenceWarning)\n"
     ]
    },
    {
     "name": "stdout",
     "output_type": "stream",
     "text": [
      " ARIMA(0,1,2)(0,0,0)[0] intercept   : AIC=4259.352, Time=0.20 sec\n"
     ]
    },
    {
     "name": "stderr",
     "output_type": "stream",
     "text": [
      "D:\\Programy\\anaconda\\lib\\site-packages\\statsmodels\\base\\model.py:568: ConvergenceWarning: Maximum Likelihood optimization failed to converge. Check mle_retvals\n",
      "  ConvergenceWarning)\n",
      "D:\\Programy\\anaconda\\lib\\site-packages\\statsmodels\\base\\model.py:568: ConvergenceWarning: Maximum Likelihood optimization failed to converge. Check mle_retvals\n",
      "  ConvergenceWarning)\n"
     ]
    },
    {
     "name": "stdout",
     "output_type": "stream",
     "text": [
      " ARIMA(0,1,3)(0,0,0)[0] intercept   : AIC=4261.269, Time=0.22 sec\n",
      " ARIMA(1,1,1)(0,0,0)[0] intercept   : AIC=4260.168, Time=0.17 sec\n"
     ]
    },
    {
     "name": "stderr",
     "output_type": "stream",
     "text": [
      "D:\\Programy\\anaconda\\lib\\site-packages\\statsmodels\\base\\model.py:568: ConvergenceWarning: Maximum Likelihood optimization failed to converge. Check mle_retvals\n",
      "  ConvergenceWarning)\n"
     ]
    },
    {
     "name": "stdout",
     "output_type": "stream",
     "text": [
      " ARIMA(1,1,3)(0,0,0)[0] intercept   : AIC=4263.361, Time=0.27 sec\n",
      " ARIMA(0,1,2)(0,0,0)[0]             : AIC=4257.824, Time=0.05 sec\n",
      " ARIMA(0,1,1)(0,0,0)[0]             : AIC=4267.653, Time=0.07 sec\n",
      " ARIMA(1,1,2)(0,0,0)[0]             : AIC=4259.745, Time=0.07 sec\n",
      " ARIMA(0,1,3)(0,0,0)[0]             : AIC=4259.752, Time=0.08 sec\n",
      " ARIMA(1,1,1)(0,0,0)[0]             : AIC=4258.718, Time=0.05 sec\n",
      " ARIMA(1,1,3)(0,0,0)[0]             : AIC=4261.742, Time=0.08 sec\n",
      "\n",
      "Best model:  ARIMA(0,1,2)(0,0,0)[0]          \n",
      "Total fit time: 1.886 seconds\n",
      "autoARIMA time: 0:00:01.890520\n",
      "(0, 1, 2)\n",
      "(0, 0, 0, 0)\n",
      "fit time = 0:00:00.033668\n",
      "##### Koniec dopasowania modelu dla godziny: 101\n",
      "#####\n",
      "##### startuje dopasowanie modelu dla godziny: 102\n",
      "Performing stepwise search to minimize aic"
     ]
    },
    {
     "name": "stderr",
     "output_type": "stream",
     "text": [
      "D:\\Programy\\anaconda\\lib\\site-packages\\statsmodels\\tsa\\base\\tsa_model.py:579: ValueWarning: An unsupported index was provided and will be ignored when e.g. forecasting.\n",
      "  ' ignored when e.g. forecasting.', ValueWarning)\n",
      "D:\\Programy\\anaconda\\lib\\site-packages\\statsmodels\\tsa\\base\\tsa_model.py:579: ValueWarning: An unsupported index was provided and will be ignored when e.g. forecasting.\n",
      "  ' ignored when e.g. forecasting.', ValueWarning)\n"
     ]
    },
    {
     "name": "stdout",
     "output_type": "stream",
     "text": [
      "\n",
      " ARIMA(2,1,2)(0,0,0)[0] intercept   : AIC=4336.112, Time=0.15 sec\n",
      " ARIMA(0,1,0)(0,0,0)[0] intercept   : AIC=4369.391, Time=0.02 sec\n",
      " ARIMA(1,1,0)(0,0,0)[0] intercept   : AIC=4358.564, Time=0.03 sec\n",
      " ARIMA(0,1,1)(0,0,0)[0] intercept   : AIC=4348.060, Time=0.03 sec\n",
      " ARIMA(0,1,0)(0,0,0)[0]             : AIC=4367.398, Time=0.02 sec\n",
      " ARIMA(1,1,2)(0,0,0)[0] intercept   : AIC=4335.975, Time=0.14 sec\n",
      " ARIMA(0,1,2)(0,0,0)[0] intercept   : AIC=4334.087, Time=0.06 sec\n"
     ]
    },
    {
     "name": "stderr",
     "output_type": "stream",
     "text": [
      "D:\\Programy\\anaconda\\lib\\site-packages\\statsmodels\\base\\model.py:568: ConvergenceWarning: Maximum Likelihood optimization failed to converge. Check mle_retvals\n",
      "  ConvergenceWarning)\n"
     ]
    },
    {
     "name": "stdout",
     "output_type": "stream",
     "text": [
      " ARIMA(0,1,3)(0,0,0)[0] intercept   : AIC=4335.903, Time=0.24 sec\n",
      " ARIMA(1,1,1)(0,0,0)[0] intercept   : AIC=4336.484, Time=0.14 sec\n"
     ]
    },
    {
     "name": "stderr",
     "output_type": "stream",
     "text": [
      "D:\\Programy\\anaconda\\lib\\site-packages\\statsmodels\\base\\model.py:568: ConvergenceWarning: Maximum Likelihood optimization failed to converge. Check mle_retvals\n",
      "  ConvergenceWarning)\n"
     ]
    },
    {
     "name": "stdout",
     "output_type": "stream",
     "text": [
      " ARIMA(1,1,3)(0,0,0)[0] intercept   : AIC=4336.610, Time=0.27 sec\n",
      " ARIMA(0,1,2)(0,0,0)[0]             : AIC=4332.282, Time=0.03 sec\n",
      " ARIMA(0,1,1)(0,0,0)[0]             : AIC=4346.197, Time=0.03 sec\n",
      " ARIMA(1,1,2)(0,0,0)[0]             : AIC=4334.233, Time=0.08 sec\n",
      " ARIMA(0,1,3)(0,0,0)[0]             : AIC=4334.245, Time=0.12 sec\n",
      " ARIMA(1,1,1)(0,0,0)[0]             : AIC=4334.902, Time=0.06 sec\n",
      " ARIMA(1,1,3)(0,0,0)[0]             : AIC=4334.951, Time=0.17 sec\n",
      "\n",
      "Best model:  ARIMA(0,1,2)(0,0,0)[0]          \n",
      "Total fit time: 1.588 seconds\n",
      "autoARIMA time: 0:00:01.587984\n",
      "(0, 1, 2)\n",
      "(0, 0, 0, 0)\n",
      "fit time = 0:00:00.046874\n",
      "##### Koniec dopasowania modelu dla godziny: 102\n",
      "#####\n",
      "##### startuje dopasowanie modelu dla godziny: 103\n",
      "Performing stepwise search to minimize aic\n"
     ]
    },
    {
     "name": "stderr",
     "output_type": "stream",
     "text": [
      "D:\\Programy\\anaconda\\lib\\site-packages\\statsmodels\\tsa\\base\\tsa_model.py:579: ValueWarning: An unsupported index was provided and will be ignored when e.g. forecasting.\n",
      "  ' ignored when e.g. forecasting.', ValueWarning)\n",
      "D:\\Programy\\anaconda\\lib\\site-packages\\statsmodels\\tsa\\base\\tsa_model.py:579: ValueWarning: An unsupported index was provided and will be ignored when e.g. forecasting.\n",
      "  ' ignored when e.g. forecasting.', ValueWarning)\n",
      "D:\\Programy\\anaconda\\lib\\site-packages\\statsmodels\\base\\model.py:568: ConvergenceWarning: Maximum Likelihood optimization failed to converge. Check mle_retvals\n",
      "  ConvergenceWarning)\n"
     ]
    },
    {
     "name": "stdout",
     "output_type": "stream",
     "text": [
      " ARIMA(2,1,2)(0,0,0)[0] intercept   : AIC=4280.582, Time=0.27 sec\n",
      " ARIMA(0,1,0)(0,0,0)[0] intercept   : AIC=4319.311, Time=0.01 sec\n",
      " ARIMA(1,1,0)(0,0,0)[0] intercept   : AIC=4297.537, Time=0.05 sec\n",
      " ARIMA(0,1,1)(0,0,0)[0] intercept   : AIC=4284.526, Time=0.08 sec\n",
      " ARIMA(0,1,0)(0,0,0)[0]             : AIC=4317.325, Time=0.01 sec\n"
     ]
    },
    {
     "name": "stderr",
     "output_type": "stream",
     "text": [
      "D:\\Programy\\anaconda\\lib\\site-packages\\statsmodels\\base\\model.py:568: ConvergenceWarning: Maximum Likelihood optimization failed to converge. Check mle_retvals\n",
      "  ConvergenceWarning)\n"
     ]
    },
    {
     "name": "stdout",
     "output_type": "stream",
     "text": [
      " ARIMA(1,1,2)(0,0,0)[0] intercept   : AIC=4280.597, Time=0.26 sec\n",
      " ARIMA(2,1,1)(0,0,0)[0] intercept   : AIC=4280.359, Time=0.16 sec\n",
      " ARIMA(1,1,1)(0,0,0)[0] intercept   : AIC=4278.489, Time=0.09 sec\n",
      " ARIMA(0,1,2)(0,0,0)[0] intercept   : AIC=4278.704, Time=0.05 sec\n",
      " ARIMA(2,1,0)(0,0,0)[0] intercept   : AIC=4288.529, Time=0.06 sec\n",
      " ARIMA(1,1,1)(0,0,0)[0]             : AIC=4276.879, Time=0.02 sec\n",
      " ARIMA(0,1,1)(0,0,0)[0]             : AIC=4282.761, Time=0.03 sec\n",
      " ARIMA(1,1,0)(0,0,0)[0]             : AIC=4295.591, Time=0.02 sec\n",
      " ARIMA(2,1,1)(0,0,0)[0]             : AIC=4278.769, Time=0.08 sec\n"
     ]
    },
    {
     "name": "stderr",
     "output_type": "stream",
     "text": [
      "D:\\Programy\\anaconda\\lib\\site-packages\\statsmodels\\base\\model.py:568: ConvergenceWarning: Maximum Likelihood optimization failed to converge. Check mle_retvals\n",
      "  ConvergenceWarning)\n"
     ]
    },
    {
     "name": "stdout",
     "output_type": "stream",
     "text": [
      " ARIMA(1,1,2)(0,0,0)[0]             : AIC=4278.806, Time=0.13 sec\n",
      " ARIMA(0,1,2)(0,0,0)[0]             : AIC=4277.027, Time=0.03 sec\n",
      " ARIMA(2,1,0)(0,0,0)[0]             : AIC=4286.665, Time=0.05 sec\n"
     ]
    },
    {
     "name": "stderr",
     "output_type": "stream",
     "text": [
      "D:\\Programy\\anaconda\\lib\\site-packages\\statsmodels\\base\\model.py:568: ConvergenceWarning: Maximum Likelihood optimization failed to converge. Check mle_retvals\n",
      "  ConvergenceWarning)\n",
      "D:\\Programy\\anaconda\\lib\\site-packages\\statsmodels\\tsa\\base\\tsa_model.py:579: ValueWarning: An unsupported index was provided and will be ignored when e.g. forecasting.\n",
      "  ' ignored when e.g. forecasting.', ValueWarning)\n",
      "D:\\Programy\\anaconda\\lib\\site-packages\\statsmodels\\tsa\\base\\tsa_model.py:579: ValueWarning: An unsupported index was provided and will be ignored when e.g. forecasting.\n",
      "  ' ignored when e.g. forecasting.', ValueWarning)\n"
     ]
    },
    {
     "name": "stdout",
     "output_type": "stream",
     "text": [
      " ARIMA(2,1,2)(0,0,0)[0]             : AIC=4279.042, Time=0.17 sec\n",
      "\n",
      "Best model:  ARIMA(1,1,1)(0,0,0)[0]          \n",
      "Total fit time: 1.618 seconds\n",
      "autoARIMA time: 0:00:01.633954\n",
      "(1, 1, 1)\n",
      "(0, 0, 0, 0)\n",
      "fit time = 0:00:00.046878\n",
      "##### Koniec dopasowania modelu dla godziny: 103\n",
      "#####\n",
      "##### startuje dopasowanie modelu dla godziny: 104\n",
      "Performing stepwise search to minimize aic\n",
      " ARIMA(2,1,2)(0,0,0)[0] intercept   : AIC=4112.133, Time=0.16 sec\n",
      " ARIMA(0,1,0)(0,0,0)[0] intercept   : AIC=4164.490, Time=0.02 sec\n",
      " ARIMA(1,1,0)(0,0,0)[0] intercept   : AIC=4143.454, Time=0.04 sec\n",
      " ARIMA(0,1,1)(0,0,0)[0] intercept   : AIC=4121.533, Time=0.02 sec\n",
      " ARIMA(0,1,0)(0,0,0)[0]             : AIC=4162.498, Time=0.02 sec\n",
      " ARIMA(1,1,2)(0,0,0)[0] intercept   : AIC=4110.242, Time=0.11 sec\n",
      " ARIMA(0,1,2)(0,0,0)[0] intercept   : AIC=4115.869, Time=0.15 sec\n",
      " ARIMA(1,1,1)(0,0,0)[0] intercept   : AIC=4118.657, Time=0.05 sec"
     ]
    },
    {
     "name": "stderr",
     "output_type": "stream",
     "text": [
      "D:\\Programy\\anaconda\\lib\\site-packages\\statsmodels\\base\\model.py:568: ConvergenceWarning: Maximum Likelihood optimization failed to converge. Check mle_retvals\n",
      "  ConvergenceWarning)\n"
     ]
    },
    {
     "name": "stdout",
     "output_type": "stream",
     "text": [
      "\n",
      " ARIMA(1,1,3)(0,0,0)[0] intercept   : AIC=4112.206, Time=0.19 sec\n",
      " ARIMA(0,1,3)(0,0,0)[0] intercept   : AIC=4112.163, Time=0.18 sec\n"
     ]
    },
    {
     "name": "stderr",
     "output_type": "stream",
     "text": [
      "D:\\Programy\\anaconda\\lib\\site-packages\\statsmodels\\base\\model.py:568: ConvergenceWarning: Maximum Likelihood optimization failed to converge. Check mle_retvals\n",
      "  ConvergenceWarning)\n"
     ]
    },
    {
     "name": "stdout",
     "output_type": "stream",
     "text": [
      " ARIMA(2,1,1)(0,0,0)[0] intercept   : AIC=4116.205, Time=0.11 sec\n"
     ]
    },
    {
     "name": "stderr",
     "output_type": "stream",
     "text": [
      "D:\\Programy\\anaconda\\lib\\site-packages\\statsmodels\\base\\model.py:568: ConvergenceWarning: Maximum Likelihood optimization failed to converge. Check mle_retvals\n",
      "  ConvergenceWarning)\n"
     ]
    },
    {
     "name": "stdout",
     "output_type": "stream",
     "text": [
      " ARIMA(2,1,3)(0,0,0)[0] intercept   : AIC=4112.526, Time=0.32 sec\n",
      " ARIMA(1,1,2)(0,0,0)[0]             : AIC=4108.532, Time=0.06 sec\n",
      " ARIMA(0,1,2)(0,0,0)[0]             : AIC=4114.205, Time=0.03 sec\n",
      " ARIMA(1,1,1)(0,0,0)[0]             : AIC=4116.890, Time=0.03 sec\n",
      " ARIMA(2,1,2)(0,0,0)[0]             : AIC=4110.409, Time=0.09 sec\n",
      " ARIMA(1,1,3)(0,0,0)[0]             : AIC=4110.465, Time=0.13 sec\n",
      " ARIMA(0,1,1)(0,0,0)[0]             : AIC=4119.737, Time=0.03 sec\n",
      " ARIMA(0,1,3)(0,0,0)[0]             : AIC=4110.527, Time=0.05 sec\n",
      " ARIMA(2,1,1)(0,0,0)[0]             : AIC=4114.471, Time=0.09 sec\n"
     ]
    },
    {
     "name": "stderr",
     "output_type": "stream",
     "text": [
      "D:\\Programy\\anaconda\\lib\\site-packages\\statsmodels\\base\\model.py:568: ConvergenceWarning: Maximum Likelihood optimization failed to converge. Check mle_retvals\n",
      "  ConvergenceWarning)\n",
      "D:\\Programy\\anaconda\\lib\\site-packages\\statsmodels\\tsa\\base\\tsa_model.py:579: ValueWarning: An unsupported index was provided and will be ignored when e.g. forecasting.\n",
      "  ' ignored when e.g. forecasting.', ValueWarning)\n",
      "D:\\Programy\\anaconda\\lib\\site-packages\\statsmodels\\tsa\\base\\tsa_model.py:579: ValueWarning: An unsupported index was provided and will be ignored when e.g. forecasting.\n",
      "  ' ignored when e.g. forecasting.', ValueWarning)\n"
     ]
    },
    {
     "name": "stdout",
     "output_type": "stream",
     "text": [
      " ARIMA(2,1,3)(0,0,0)[0]             : AIC=4110.781, Time=0.25 sec\n",
      "\n",
      "Best model:  ARIMA(1,1,2)(0,0,0)[0]          \n",
      "Total fit time: 2.139 seconds\n",
      "autoARIMA time: 0:00:02.149474\n",
      "(1, 1, 2)\n",
      "(0, 0, 0, 0)\n",
      "fit time = 0:00:00.073456\n",
      "##### Koniec dopasowania modelu dla godziny: 104\n",
      "#####\n",
      "##### startuje dopasowanie modelu dla godziny: 105\n",
      "Performing stepwise search to minimize aic\n",
      " ARIMA(2,1,2)(0,0,0)[0] intercept   : AIC=4688.170, Time=0.18 sec\n",
      " ARIMA(0,1,0)(0,0,0)[0] intercept   : AIC=4772.176, Time=0.02 sec\n",
      " ARIMA(1,1,0)(0,0,0)[0] intercept   : AIC=4739.430, Time=0.03 sec\n",
      " ARIMA(0,1,1)(0,0,0)[0] intercept   : AIC=4691.891, Time=0.05 sec\n",
      " ARIMA(0,1,0)(0,0,0)[0]             : AIC=4770.180, Time=0.02 sec\n",
      " ARIMA(1,1,2)(0,0,0)[0] intercept   : AIC=4686.080, Time=0.12 sec\n",
      " ARIMA(0,1,2)(0,0,0)[0] intercept   : AIC=4685.007, Time=0.13 sec\n"
     ]
    },
    {
     "name": "stderr",
     "output_type": "stream",
     "text": [
      "D:\\Programy\\anaconda\\lib\\site-packages\\statsmodels\\base\\model.py:568: ConvergenceWarning: Maximum Likelihood optimization failed to converge. Check mle_retvals\n",
      "  ConvergenceWarning)\n"
     ]
    },
    {
     "name": "stdout",
     "output_type": "stream",
     "text": [
      " ARIMA(0,1,3)(0,0,0)[0] intercept   : AIC=4687.194, Time=0.09 sec\n",
      " ARIMA(1,1,1)(0,0,0)[0] intercept   : AIC=4686.347, Time=0.15 sec\n"
     ]
    },
    {
     "name": "stderr",
     "output_type": "stream",
     "text": [
      "D:\\Programy\\anaconda\\lib\\site-packages\\statsmodels\\base\\model.py:568: ConvergenceWarning: Maximum Likelihood optimization failed to converge. Check mle_retvals\n",
      "  ConvergenceWarning)\n"
     ]
    },
    {
     "name": "stdout",
     "output_type": "stream",
     "text": [
      " ARIMA(1,1,3)(0,0,0)[0] intercept   : AIC=4688.119, Time=0.26 sec\n",
      " ARIMA(0,1,2)(0,0,0)[0]             : AIC=4684.089, Time=0.03 sec\n",
      " ARIMA(0,1,1)(0,0,0)[0]             : AIC=4690.547, Time=0.06 sec\n",
      " ARIMA(1,1,2)(0,0,0)[0]             : AIC=4684.978, Time=0.09 sec\n",
      " ARIMA(0,1,3)(0,0,0)[0]             : AIC=4685.291, Time=0.09 sec\n",
      " ARIMA(1,1,1)(0,0,0)[0]             : AIC=4685.412, Time=0.05 sec\n"
     ]
    },
    {
     "name": "stderr",
     "output_type": "stream",
     "text": [
      "D:\\Programy\\anaconda\\lib\\site-packages\\statsmodels\\base\\model.py:568: ConvergenceWarning: Maximum Likelihood optimization failed to converge. Check mle_retvals\n",
      "  ConvergenceWarning)\n",
      "D:\\Programy\\anaconda\\lib\\site-packages\\statsmodels\\tsa\\base\\tsa_model.py:579: ValueWarning: An unsupported index was provided and will be ignored when e.g. forecasting.\n",
      "  ' ignored when e.g. forecasting.', ValueWarning)\n",
      "D:\\Programy\\anaconda\\lib\\site-packages\\statsmodels\\tsa\\base\\tsa_model.py:579: ValueWarning: An unsupported index was provided and will be ignored when e.g. forecasting.\n",
      "  ' ignored when e.g. forecasting.', ValueWarning)\n"
     ]
    },
    {
     "name": "stdout",
     "output_type": "stream",
     "text": [
      " ARIMA(1,1,3)(0,0,0)[0]             : AIC=4686.964, Time=0.18 sec\n",
      "\n",
      "Best model:  ARIMA(0,1,2)(0,0,0)[0]          \n",
      "Total fit time: 1.572 seconds\n",
      "autoARIMA time: 0:00:01.588089\n",
      "(0, 1, 2)\n",
      "(0, 0, 0, 0)\n",
      "fit time = 0:00:00.086430\n",
      "##### Koniec dopasowania modelu dla godziny: 105\n",
      "#####\n",
      "##### startuje dopasowanie modelu dla godziny: 106\n",
      "Performing stepwise search to minimize aic\n"
     ]
    },
    {
     "name": "stderr",
     "output_type": "stream",
     "text": [
      "D:\\Programy\\anaconda\\lib\\site-packages\\statsmodels\\base\\model.py:568: ConvergenceWarning: Maximum Likelihood optimization failed to converge. Check mle_retvals\n",
      "  ConvergenceWarning)\n"
     ]
    },
    {
     "name": "stdout",
     "output_type": "stream",
     "text": [
      " ARIMA(2,1,2)(0,0,0)[0] intercept   : AIC=4621.857, Time=0.25 sec\n",
      " ARIMA(0,1,0)(0,0,0)[0] intercept   : AIC=4680.170, Time=0.02 sec\n",
      " ARIMA(1,1,0)(0,0,0)[0] intercept   : AIC=4659.968, Time=0.05 sec\n",
      " ARIMA(0,1,1)(0,0,0)[0] intercept   : AIC=4636.919, Time=0.10 sec\n",
      " ARIMA(0,1,0)(0,0,0)[0]             : AIC=4678.177, Time=0.00 sec\n"
     ]
    },
    {
     "name": "stderr",
     "output_type": "stream",
     "text": [
      "D:\\Programy\\anaconda\\lib\\site-packages\\statsmodels\\base\\model.py:568: ConvergenceWarning: Maximum Likelihood optimization failed to converge. Check mle_retvals\n",
      "  ConvergenceWarning)\n"
     ]
    },
    {
     "name": "stdout",
     "output_type": "stream",
     "text": [
      " ARIMA(1,1,2)(0,0,0)[0] intercept   : AIC=4619.538, Time=0.33 sec\n",
      " ARIMA(0,1,2)(0,0,0)[0] intercept   : AIC=4618.355, Time=0.32 sec\n"
     ]
    },
    {
     "name": "stderr",
     "output_type": "stream",
     "text": [
      "D:\\Programy\\anaconda\\lib\\site-packages\\statsmodels\\base\\model.py:568: ConvergenceWarning: Maximum Likelihood optimization failed to converge. Check mle_retvals\n",
      "  ConvergenceWarning)\n"
     ]
    },
    {
     "name": "stdout",
     "output_type": "stream",
     "text": [
      " ARIMA(0,1,3)(0,0,0)[0] intercept   : AIC=4619.229, Time=0.32 sec\n"
     ]
    },
    {
     "name": "stderr",
     "output_type": "stream",
     "text": [
      "D:\\Programy\\anaconda\\lib\\site-packages\\statsmodels\\base\\model.py:568: ConvergenceWarning: Maximum Likelihood optimization failed to converge. Check mle_retvals\n",
      "  ConvergenceWarning)\n"
     ]
    },
    {
     "name": "stdout",
     "output_type": "stream",
     "text": [
      " ARIMA(1,1,1)(0,0,0)[0] intercept   : AIC=4618.276, Time=0.26 sec\n"
     ]
    },
    {
     "name": "stderr",
     "output_type": "stream",
     "text": [
      "D:\\Programy\\anaconda\\lib\\site-packages\\statsmodels\\base\\model.py:568: ConvergenceWarning: Maximum Likelihood optimization failed to converge. Check mle_retvals\n",
      "  ConvergenceWarning)\n"
     ]
    },
    {
     "name": "stdout",
     "output_type": "stream",
     "text": [
      " ARIMA(2,1,1)(0,0,0)[0] intercept   : AIC=4619.778, Time=0.30 sec\n",
      " ARIMA(2,1,0)(0,0,0)[0] intercept   : AIC=4645.868, Time=0.17 sec\n",
      " ARIMA(1,1,1)(0,0,0)[0]             : AIC=4617.399, Time=0.12 sec\n",
      " ARIMA(0,1,1)(0,0,0)[0]             : AIC=4635.388, Time=0.03 sec\n",
      " ARIMA(1,1,0)(0,0,0)[0]             : AIC=4658.003, Time=0.04 sec\n",
      " ARIMA(2,1,1)(0,0,0)[0]             : AIC=4618.694, Time=0.11 sec\n",
      " ARIMA(1,1,2)(0,0,0)[0]             : AIC=4618.259, Time=0.12 sec\n",
      " ARIMA(0,1,2)(0,0,0)[0]             : AIC=4617.226, Time=0.05 sec\n",
      " ARIMA(0,1,3)(0,0,0)[0]             : AIC=4618.166, Time=0.12 sec\n"
     ]
    },
    {
     "name": "stderr",
     "output_type": "stream",
     "text": [
      "D:\\Programy\\anaconda\\lib\\site-packages\\statsmodels\\base\\model.py:568: ConvergenceWarning: Maximum Likelihood optimization failed to converge. Check mle_retvals\n",
      "  ConvergenceWarning)\n",
      "D:\\Programy\\anaconda\\lib\\site-packages\\statsmodels\\tsa\\base\\tsa_model.py:579: ValueWarning: An unsupported index was provided and will be ignored when e.g. forecasting.\n",
      "  ' ignored when e.g. forecasting.', ValueWarning)\n",
      "D:\\Programy\\anaconda\\lib\\site-packages\\statsmodels\\tsa\\base\\tsa_model.py:579: ValueWarning: An unsupported index was provided and will be ignored when e.g. forecasting.\n",
      "  ' ignored when e.g. forecasting.', ValueWarning)\n"
     ]
    },
    {
     "name": "stdout",
     "output_type": "stream",
     "text": [
      " ARIMA(1,1,3)(0,0,0)[0]             : AIC=4620.167, Time=0.20 sec\n",
      "\n",
      "Best model:  ARIMA(0,1,2)(0,0,0)[0]          \n",
      "Total fit time: 2.953 seconds\n",
      "autoARIMA time: 0:00:02.962585\n",
      "(0, 1, 2)\n",
      "(0, 0, 0, 0)\n",
      "fit time = 0:00:00.042687\n",
      "##### Koniec dopasowania modelu dla godziny: 106\n",
      "#####\n",
      "##### startuje dopasowanie modelu dla godziny: 107\n",
      "Performing stepwise search to minimize aic\n",
      " ARIMA(2,1,2)(0,0,0)[0] intercept   : AIC=4506.671, Time=0.22 sec\n",
      " ARIMA(0,1,0)(0,0,0)[0] intercept   : AIC=4563.490, Time=0.01 sec\n",
      " ARIMA(1,1,0)(0,0,0)[0] intercept   : AIC=4533.361, Time=0.04 sec\n",
      " ARIMA(0,1,1)(0,0,0)[0] intercept   : AIC=4512.792, Time=0.08 sec\n",
      " ARIMA(0,1,0)(0,0,0)[0]             : AIC=4561.495, Time=0.02 sec\n"
     ]
    },
    {
     "name": "stderr",
     "output_type": "stream",
     "text": [
      "D:\\Programy\\anaconda\\lib\\site-packages\\statsmodels\\base\\model.py:568: ConvergenceWarning: Maximum Likelihood optimization failed to converge. Check mle_retvals\n",
      "  ConvergenceWarning)\n"
     ]
    },
    {
     "name": "stdout",
     "output_type": "stream",
     "text": [
      " ARIMA(1,1,2)(0,0,0)[0] intercept   : AIC=4505.142, Time=0.18 sec\n",
      " ARIMA(0,1,2)(0,0,0)[0] intercept   : AIC=4503.895, Time=0.19 sec\n"
     ]
    },
    {
     "name": "stderr",
     "output_type": "stream",
     "text": [
      "D:\\Programy\\anaconda\\lib\\site-packages\\statsmodels\\base\\model.py:568: ConvergenceWarning: Maximum Likelihood optimization failed to converge. Check mle_retvals\n",
      "  ConvergenceWarning)\n",
      "D:\\Programy\\anaconda\\lib\\site-packages\\statsmodels\\base\\model.py:568: ConvergenceWarning: Maximum Likelihood optimization failed to converge. Check mle_retvals\n",
      "  ConvergenceWarning)\n"
     ]
    },
    {
     "name": "stdout",
     "output_type": "stream",
     "text": [
      " ARIMA(0,1,3)(0,0,0)[0] intercept   : AIC=4504.309, Time=0.20 sec\n",
      " ARIMA(1,1,1)(0,0,0)[0] intercept   : AIC=4502.849, Time=0.14 sec\n",
      " ARIMA(2,1,1)(0,0,0)[0] intercept   : AIC=4504.963, Time=0.10 sec\n",
      " ARIMA(2,1,0)(0,0,0)[0] intercept   : AIC=4525.319, Time=0.17 sec\n",
      " ARIMA(1,1,1)(0,0,0)[0]             : AIC=4501.736, Time=0.04 sec\n",
      " ARIMA(0,1,1)(0,0,0)[0]             : AIC=4511.180, Time=0.06 sec\n",
      " ARIMA(1,1,0)(0,0,0)[0]             : AIC=4531.399, Time=0.02 sec\n",
      " ARIMA(2,1,1)(0,0,0)[0]             : AIC=4503.725, Time=0.06 sec\n",
      " ARIMA(1,1,2)(0,0,0)[0]             : AIC=4503.494, Time=0.09 sec\n",
      " ARIMA(0,1,2)(0,0,0)[0]             : AIC=4502.595, Time=0.03 sec\n",
      " ARIMA(2,1,0)(0,0,0)[0]             : AIC=4523.433, Time=0.10 sec\n",
      " ARIMA(2,1,2)(0,0,0)[0]             : AIC=4505.441, Time=0.07 sec\n",
      "\n",
      "Best model:  ARIMA(1,1,1)(0,0,0)[0]          \n",
      "Total fit time: 1.836 seconds\n",
      "autoARIMA time: 0:00:01.835939\n",
      "(1, 1, 1)\n",
      "(0, 0, 0, 0)\n",
      "fit time = 0:00:00.064863\n",
      "##### Koniec dopasowania modelu dla godziny: 107\n",
      "#####\n",
      "##### startuje dopasowanie modelu dla godziny: 108\n",
      "Performing stepwise search to minimize aic\n"
     ]
    },
    {
     "name": "stderr",
     "output_type": "stream",
     "text": [
      "D:\\Programy\\anaconda\\lib\\site-packages\\statsmodels\\tsa\\base\\tsa_model.py:579: ValueWarning: An unsupported index was provided and will be ignored when e.g. forecasting.\n",
      "  ' ignored when e.g. forecasting.', ValueWarning)\n",
      "D:\\Programy\\anaconda\\lib\\site-packages\\statsmodels\\tsa\\base\\tsa_model.py:579: ValueWarning: An unsupported index was provided and will be ignored when e.g. forecasting.\n",
      "  ' ignored when e.g. forecasting.', ValueWarning)\n",
      "D:\\Programy\\anaconda\\lib\\site-packages\\statsmodels\\tsa\\statespace\\sarimax.py:966: UserWarning: Non-stationary starting autoregressive parameters found. Using zeros as starting parameters.\n",
      "  warn('Non-stationary starting autoregressive parameters'\n",
      "D:\\Programy\\anaconda\\lib\\site-packages\\statsmodels\\tsa\\statespace\\sarimax.py:978: UserWarning: Non-invertible starting MA parameters found. Using zeros as starting parameters.\n",
      "  warn('Non-invertible starting MA parameters found.'\n",
      "D:\\Programy\\anaconda\\lib\\site-packages\\statsmodels\\base\\model.py:568: ConvergenceWarning: Maximum Likelihood optimization failed to converge. Check mle_retvals\n",
      "  ConvergenceWarning)\n",
      "D:\\Programy\\anaconda\\lib\\site-packages\\statsmodels\\base\\model.py:568: ConvergenceWarning: Maximum Likelihood optimization failed to converge. Check mle_retvals\n",
      "  ConvergenceWarning)\n"
     ]
    },
    {
     "name": "stdout",
     "output_type": "stream",
     "text": [
      " ARIMA(2,1,2)(0,0,0)[0] intercept   : AIC=4605.441, Time=0.22 sec\n",
      " ARIMA(0,1,0)(0,0,0)[0] intercept   : AIC=4666.308, Time=0.02 sec\n",
      " ARIMA(1,1,0)(0,0,0)[0] intercept   : AIC=4642.392, Time=0.05 sec\n"
     ]
    },
    {
     "name": "stderr",
     "output_type": "stream",
     "text": [
      "D:\\Programy\\anaconda\\lib\\site-packages\\statsmodels\\base\\model.py:568: ConvergenceWarning: Maximum Likelihood optimization failed to converge. Check mle_retvals\n",
      "  ConvergenceWarning)\n"
     ]
    },
    {
     "name": "stdout",
     "output_type": "stream",
     "text": [
      " ARIMA(0,1,1)(0,0,0)[0] intercept   : AIC=4615.148, Time=0.14 sec\n",
      " ARIMA(0,1,0)(0,0,0)[0]             : AIC=4664.314, Time=0.00 sec\n"
     ]
    },
    {
     "name": "stderr",
     "output_type": "stream",
     "text": [
      "D:\\Programy\\anaconda\\lib\\site-packages\\statsmodels\\base\\model.py:568: ConvergenceWarning: Maximum Likelihood optimization failed to converge. Check mle_retvals\n",
      "  ConvergenceWarning)\n"
     ]
    },
    {
     "name": "stdout",
     "output_type": "stream",
     "text": [
      " ARIMA(1,1,2)(0,0,0)[0] intercept   : AIC=4602.853, Time=0.21 sec\n",
      " ARIMA(0,1,2)(0,0,0)[0] intercept   : AIC=4601.428, Time=0.17 sec\n"
     ]
    },
    {
     "name": "stderr",
     "output_type": "stream",
     "text": [
      "D:\\Programy\\anaconda\\lib\\site-packages\\statsmodels\\base\\model.py:568: ConvergenceWarning: Maximum Likelihood optimization failed to converge. Check mle_retvals\n",
      "  ConvergenceWarning)\n"
     ]
    },
    {
     "name": "stdout",
     "output_type": "stream",
     "text": [
      " ARIMA(0,1,3)(0,0,0)[0] intercept   : AIC=4603.474, Time=0.22 sec\n",
      " ARIMA(1,1,1)(0,0,0)[0] intercept   : AIC=4601.260, Time=0.06 sec\n",
      " ARIMA(2,1,1)(0,0,0)[0] intercept   : AIC=4602.715, Time=0.11 sec\n",
      " ARIMA(2,1,0)(0,0,0)[0] intercept   : AIC=4628.834, Time=0.05 sec\n",
      " ARIMA(1,1,1)(0,0,0)[0]             : AIC=4600.299, Time=0.06 sec\n",
      " ARIMA(0,1,1)(0,0,0)[0]             : AIC=4613.680, Time=0.04 sec\n",
      " ARIMA(1,1,0)(0,0,0)[0]             : AIC=4640.423, Time=0.02 sec\n",
      " ARIMA(2,1,1)(0,0,0)[0]             : AIC=4601.659, Time=0.08 sec\n",
      " ARIMA(1,1,2)(0,0,0)[0]             : AIC=4601.878, Time=0.09 sec\n",
      " ARIMA(0,1,2)(0,0,0)[0]             : AIC=4600.336, Time=0.05 sec\n",
      " ARIMA(2,1,0)(0,0,0)[0]             : AIC=4626.898, Time=0.03 sec\n"
     ]
    },
    {
     "name": "stderr",
     "output_type": "stream",
     "text": [
      "D:\\Programy\\anaconda\\lib\\site-packages\\statsmodels\\tsa\\statespace\\sarimax.py:966: UserWarning: Non-stationary starting autoregressive parameters found. Using zeros as starting parameters.\n",
      "  warn('Non-stationary starting autoregressive parameters'\n",
      "D:\\Programy\\anaconda\\lib\\site-packages\\statsmodels\\tsa\\statespace\\sarimax.py:978: UserWarning: Non-invertible starting MA parameters found. Using zeros as starting parameters.\n",
      "  warn('Non-invertible starting MA parameters found.'\n",
      "D:\\Programy\\anaconda\\lib\\site-packages\\statsmodels\\base\\model.py:568: ConvergenceWarning: Maximum Likelihood optimization failed to converge. Check mle_retvals\n",
      "  ConvergenceWarning)\n",
      "D:\\Programy\\anaconda\\lib\\site-packages\\statsmodels\\tsa\\base\\tsa_model.py:579: ValueWarning: An unsupported index was provided and will be ignored when e.g. forecasting.\n",
      "  ' ignored when e.g. forecasting.', ValueWarning)\n",
      "D:\\Programy\\anaconda\\lib\\site-packages\\statsmodels\\tsa\\base\\tsa_model.py:579: ValueWarning: An unsupported index was provided and will be ignored when e.g. forecasting.\n",
      "  ' ignored when e.g. forecasting.', ValueWarning)\n"
     ]
    },
    {
     "name": "stdout",
     "output_type": "stream",
     "text": [
      " ARIMA(2,1,2)(0,0,0)[0]             : AIC=4603.563, Time=0.16 sec\n",
      "\n",
      "Best model:  ARIMA(1,1,1)(0,0,0)[0]          \n",
      "Total fit time: 1.764 seconds\n",
      "autoARIMA time: 0:00:01.779725\n",
      "(1, 1, 1)\n",
      "(0, 0, 0, 0)\n",
      "fit time = 0:00:00.055625\n",
      "##### Koniec dopasowania modelu dla godziny: 108\n",
      "#####\n",
      "##### startuje dopasowanie modelu dla godziny: 109\n",
      "Performing stepwise search to minimize aic\n"
     ]
    },
    {
     "name": "stderr",
     "output_type": "stream",
     "text": [
      "D:\\Programy\\anaconda\\lib\\site-packages\\statsmodels\\base\\model.py:568: ConvergenceWarning: Maximum Likelihood optimization failed to converge. Check mle_retvals\n",
      "  ConvergenceWarning)\n"
     ]
    },
    {
     "name": "stdout",
     "output_type": "stream",
     "text": [
      " ARIMA(2,1,2)(0,0,0)[0] intercept   : AIC=4507.242, Time=0.27 sec\n",
      " ARIMA(0,1,0)(0,0,0)[0] intercept   : AIC=4558.419, Time=0.00 sec\n",
      " ARIMA(1,1,0)(0,0,0)[0] intercept   : AIC=4549.404, Time=0.05 sec\n",
      " ARIMA(0,1,1)(0,0,0)[0] intercept   : AIC=4538.387, Time=0.05 sec\n",
      " ARIMA(0,1,0)(0,0,0)[0]             : AIC=4556.428, Time=0.00 sec\n"
     ]
    },
    {
     "name": "stderr",
     "output_type": "stream",
     "text": [
      "D:\\Programy\\anaconda\\lib\\site-packages\\statsmodels\\base\\model.py:568: ConvergenceWarning: Maximum Likelihood optimization failed to converge. Check mle_retvals\n",
      "  ConvergenceWarning)\n"
     ]
    },
    {
     "name": "stdout",
     "output_type": "stream",
     "text": [
      " ARIMA(1,1,2)(0,0,0)[0] intercept   : AIC=4509.633, Time=0.24 sec\n"
     ]
    },
    {
     "name": "stderr",
     "output_type": "stream",
     "text": [
      "D:\\Programy\\anaconda\\lib\\site-packages\\statsmodels\\base\\model.py:568: ConvergenceWarning: Maximum Likelihood optimization failed to converge. Check mle_retvals\n",
      "  ConvergenceWarning)\n"
     ]
    },
    {
     "name": "stdout",
     "output_type": "stream",
     "text": [
      " ARIMA(2,1,1)(0,0,0)[0] intercept   : AIC=4510.231, Time=0.20 sec\n"
     ]
    },
    {
     "name": "stderr",
     "output_type": "stream",
     "text": [
      "D:\\Programy\\anaconda\\lib\\site-packages\\statsmodels\\base\\model.py:568: ConvergenceWarning: Maximum Likelihood optimization failed to converge. Check mle_retvals\n",
      "  ConvergenceWarning)\n"
     ]
    },
    {
     "name": "stdout",
     "output_type": "stream",
     "text": [
      " ARIMA(3,1,2)(0,0,0)[0] intercept   : AIC=4509.689, Time=0.27 sec\n"
     ]
    },
    {
     "name": "stderr",
     "output_type": "stream",
     "text": [
      "D:\\Programy\\anaconda\\lib\\site-packages\\statsmodels\\base\\model.py:568: ConvergenceWarning: Maximum Likelihood optimization failed to converge. Check mle_retvals\n",
      "  ConvergenceWarning)\n",
      "D:\\Programy\\anaconda\\lib\\site-packages\\statsmodels\\base\\model.py:568: ConvergenceWarning: Maximum Likelihood optimization failed to converge. Check mle_retvals\n",
      "  ConvergenceWarning)\n"
     ]
    },
    {
     "name": "stdout",
     "output_type": "stream",
     "text": [
      " ARIMA(2,1,3)(0,0,0)[0] intercept   : AIC=4509.791, Time=0.28 sec\n",
      " ARIMA(1,1,1)(0,0,0)[0] intercept   : AIC=4510.665, Time=0.21 sec\n"
     ]
    },
    {
     "name": "stderr",
     "output_type": "stream",
     "text": [
      "D:\\Programy\\anaconda\\lib\\site-packages\\statsmodels\\base\\model.py:568: ConvergenceWarning: Maximum Likelihood optimization failed to converge. Check mle_retvals\n",
      "  ConvergenceWarning)\n"
     ]
    },
    {
     "name": "stdout",
     "output_type": "stream",
     "text": [
      " ARIMA(1,1,3)(0,0,0)[0] intercept   : AIC=4510.356, Time=0.24 sec\n"
     ]
    },
    {
     "name": "stderr",
     "output_type": "stream",
     "text": [
      "D:\\Programy\\anaconda\\lib\\site-packages\\statsmodels\\base\\model.py:568: ConvergenceWarning: Maximum Likelihood optimization failed to converge. Check mle_retvals\n",
      "  ConvergenceWarning)\n"
     ]
    },
    {
     "name": "stdout",
     "output_type": "stream",
     "text": [
      " ARIMA(3,1,1)(0,0,0)[0] intercept   : AIC=4512.227, Time=0.23 sec\n"
     ]
    },
    {
     "name": "stderr",
     "output_type": "stream",
     "text": [
      "D:\\Programy\\anaconda\\lib\\site-packages\\statsmodels\\base\\model.py:568: ConvergenceWarning: Maximum Likelihood optimization failed to converge. Check mle_retvals\n",
      "  ConvergenceWarning)\n"
     ]
    },
    {
     "name": "stdout",
     "output_type": "stream",
     "text": [
      " ARIMA(3,1,3)(0,0,0)[0] intercept   : AIC=4510.845, Time=0.30 sec\n",
      " ARIMA(2,1,2)(0,0,0)[0]             : AIC=4506.885, Time=0.14 sec\n",
      " ARIMA(1,1,2)(0,0,0)[0]             : AIC=4508.739, Time=0.09 sec\n",
      " ARIMA(2,1,1)(0,0,0)[0]             : AIC=4509.531, Time=0.09 sec\n",
      " ARIMA(3,1,2)(0,0,0)[0]             : AIC=4508.869, Time=0.19 sec\n"
     ]
    },
    {
     "name": "stderr",
     "output_type": "stream",
     "text": [
      "D:\\Programy\\anaconda\\lib\\site-packages\\statsmodels\\base\\model.py:568: ConvergenceWarning: Maximum Likelihood optimization failed to converge. Check mle_retvals\n",
      "  ConvergenceWarning)\n",
      "D:\\Programy\\anaconda\\lib\\site-packages\\statsmodels\\base\\model.py:568: ConvergenceWarning: Maximum Likelihood optimization failed to converge. Check mle_retvals\n",
      "  ConvergenceWarning)\n"
     ]
    },
    {
     "name": "stdout",
     "output_type": "stream",
     "text": [
      " ARIMA(2,1,3)(0,0,0)[0]             : AIC=4508.809, Time=0.24 sec\n",
      " ARIMA(1,1,1)(0,0,0)[0]             : AIC=4509.754, Time=0.12 sec\n"
     ]
    },
    {
     "name": "stderr",
     "output_type": "stream",
     "text": [
      "D:\\Programy\\anaconda\\lib\\site-packages\\statsmodels\\base\\model.py:568: ConvergenceWarning: Maximum Likelihood optimization failed to converge. Check mle_retvals\n",
      "  ConvergenceWarning)\n"
     ]
    },
    {
     "name": "stdout",
     "output_type": "stream",
     "text": [
      " ARIMA(1,1,3)(0,0,0)[0]             : AIC=4510.474, Time=0.17 sec\n",
      " ARIMA(3,1,1)(0,0,0)[0]             : AIC=4511.492, Time=0.13 sec\n"
     ]
    },
    {
     "name": "stderr",
     "output_type": "stream",
     "text": [
      "D:\\Programy\\anaconda\\lib\\site-packages\\statsmodels\\base\\model.py:568: ConvergenceWarning: Maximum Likelihood optimization failed to converge. Check mle_retvals\n",
      "  ConvergenceWarning)\n",
      "D:\\Programy\\anaconda\\lib\\site-packages\\statsmodels\\tsa\\base\\tsa_model.py:579: ValueWarning: An unsupported index was provided and will be ignored when e.g. forecasting.\n",
      "  ' ignored when e.g. forecasting.', ValueWarning)\n",
      "D:\\Programy\\anaconda\\lib\\site-packages\\statsmodels\\tsa\\base\\tsa_model.py:579: ValueWarning: An unsupported index was provided and will be ignored when e.g. forecasting.\n",
      "  ' ignored when e.g. forecasting.', ValueWarning)\n"
     ]
    },
    {
     "name": "stdout",
     "output_type": "stream",
     "text": [
      " ARIMA(3,1,3)(0,0,0)[0]             : AIC=4510.577, Time=0.23 sec\n",
      "\n",
      "Best model:  ARIMA(2,1,2)(0,0,0)[0]          \n",
      "Total fit time: 3.754 seconds\n",
      "autoARIMA time: 0:00:03.778461\n",
      "(2, 1, 2)\n",
      "(0, 0, 0, 0)\n",
      "fit time = 0:00:00.281199\n",
      "##### Koniec dopasowania modelu dla godziny: 109\n",
      "#####\n",
      "##### startuje dopasowanie modelu dla godziny: 110\n",
      "Performing stepwise search to minimize aic\n",
      " ARIMA(2,1,2)(0,0,0)[0] intercept   : AIC=4340.615, Time=0.25 sec\n",
      " ARIMA(0,1,0)(0,0,0)[0] intercept   : AIC=4388.294, Time=0.02 sec\n",
      " ARIMA(1,1,0)(0,0,0)[0] intercept   : AIC=4366.338, Time=0.07 sec\n",
      " ARIMA(0,1,1)(0,0,0)[0] intercept   : AIC=4348.667, Time=0.15 sec\n",
      " ARIMA(0,1,0)(0,0,0)[0]             : AIC=4386.297, Time=0.01 sec\n",
      " ARIMA(1,1,2)(0,0,0)[0] intercept   : AIC=4340.230, Time=0.19 sec\n",
      " ARIMA(0,1,2)(0,0,0)[0] intercept   : AIC=4339.904, Time=0.08 sec\n",
      " ARIMA(0,1,3)(0,0,0)[0] intercept   : AIC=4341.577, Time=0.09 sec\n",
      " ARIMA(1,1,1)(0,0,0)[0] intercept   : AIC=4341.220, Time=0.08 sec\n",
      " ARIMA(1,1,3)(0,0,0)[0] intercept   : AIC=4341.046, Time=0.19 sec\n",
      " ARIMA(0,1,2)(0,0,0)[0]             : AIC=4338.313, Time=0.11 sec\n",
      " ARIMA(0,1,1)(0,0,0)[0]             : AIC=4346.864, Time=0.02 sec\n",
      " ARIMA(1,1,2)(0,0,0)[0]             : AIC=4338.544, Time=0.09 sec\n",
      " ARIMA(0,1,3)(0,0,0)[0]             : AIC=4339.945, Time=0.07 sec\n",
      " ARIMA(1,1,1)(0,0,0)[0]             : AIC=4339.661, Time=0.03 sec\n",
      " ARIMA(1,1,3)(0,0,0)[0]             : AIC=4339.380, Time=0.15 sec\n",
      "\n",
      "Best model:  ARIMA(0,1,2)(0,0,0)[0]          \n",
      "Total fit time: 1.615 seconds\n",
      "autoARIMA time: 0:00:01.635751\n",
      "(0, 1, 2)\n",
      "(0, 0, 0, 0)\n",
      "fit time = 0:00:00.046033\n",
      "##### Koniec dopasowania modelu dla godziny: 110\n",
      "#####\n",
      "##### startuje dopasowanie modelu dla godziny: 111\n",
      "Performing stepwise search to minimize aic\n"
     ]
    },
    {
     "name": "stderr",
     "output_type": "stream",
     "text": [
      "D:\\Programy\\anaconda\\lib\\site-packages\\statsmodels\\tsa\\base\\tsa_model.py:579: ValueWarning: An unsupported index was provided and will be ignored when e.g. forecasting.\n",
      "  ' ignored when e.g. forecasting.', ValueWarning)\n",
      "D:\\Programy\\anaconda\\lib\\site-packages\\statsmodels\\tsa\\base\\tsa_model.py:579: ValueWarning: An unsupported index was provided and will be ignored when e.g. forecasting.\n",
      "  ' ignored when e.g. forecasting.', ValueWarning)\n"
     ]
    },
    {
     "name": "stdout",
     "output_type": "stream",
     "text": [
      " ARIMA(2,1,2)(0,0,0)[0] intercept   : AIC=4259.744, Time=0.22 sec\n",
      " ARIMA(0,1,0)(0,0,0)[0] intercept   : AIC=4321.459, Time=0.01 sec\n",
      " ARIMA(1,1,0)(0,0,0)[0] intercept   : AIC=4299.084, Time=0.04 sec\n",
      " ARIMA(0,1,1)(0,0,0)[0] intercept   : AIC=4271.152, Time=0.03 sec\n",
      " ARIMA(0,1,0)(0,0,0)[0]             : AIC=4319.463, Time=0.02 sec\n",
      " ARIMA(1,1,2)(0,0,0)[0] intercept   : AIC=4259.089, Time=0.17 sec\n",
      " ARIMA(0,1,2)(0,0,0)[0] intercept   : AIC=4266.782, Time=0.15 sec\n",
      " ARIMA(1,1,1)(0,0,0)[0] intercept   : AIC=4270.249, Time=0.10 sec\n",
      " ARIMA(1,1,3)(0,0,0)[0] intercept   : AIC=4256.989, Time=0.20 sec\n",
      " ARIMA(0,1,3)(0,0,0)[0] intercept   : AIC=4255.501, Time=0.09 sec\n",
      " ARIMA(0,1,4)(0,0,0)[0] intercept   : AIC=4257.376, Time=0.12 sec\n"
     ]
    },
    {
     "name": "stderr",
     "output_type": "stream",
     "text": [
      "D:\\Programy\\anaconda\\lib\\site-packages\\statsmodels\\base\\model.py:568: ConvergenceWarning: Maximum Likelihood optimization failed to converge. Check mle_retvals\n",
      "  ConvergenceWarning)\n"
     ]
    },
    {
     "name": "stdout",
     "output_type": "stream",
     "text": [
      " ARIMA(1,1,4)(0,0,0)[0] intercept   : AIC=4259.083, Time=0.34 sec\n",
      " ARIMA(0,1,3)(0,0,0)[0]             : AIC=4253.641, Time=0.05 sec\n",
      " ARIMA(0,1,2)(0,0,0)[0]             : AIC=4265.006, Time=0.09 sec\n",
      " ARIMA(1,1,3)(0,0,0)[0]             : AIC=4255.014, Time=0.11 sec\n",
      " ARIMA(0,1,4)(0,0,0)[0]             : AIC=4255.510, Time=0.08 sec\n",
      " ARIMA(1,1,2)(0,0,0)[0]             : AIC=4257.309, Time=0.08 sec\n"
     ]
    },
    {
     "name": "stderr",
     "output_type": "stream",
     "text": [
      "D:\\Programy\\anaconda\\lib\\site-packages\\statsmodels\\base\\model.py:568: ConvergenceWarning: Maximum Likelihood optimization failed to converge. Check mle_retvals\n",
      "  ConvergenceWarning)\n",
      "D:\\Programy\\anaconda\\lib\\site-packages\\statsmodels\\tsa\\base\\tsa_model.py:579: ValueWarning: An unsupported index was provided and will be ignored when e.g. forecasting.\n",
      "  ' ignored when e.g. forecasting.', ValueWarning)\n",
      "D:\\Programy\\anaconda\\lib\\site-packages\\statsmodels\\tsa\\base\\tsa_model.py:579: ValueWarning: An unsupported index was provided and will be ignored when e.g. forecasting.\n",
      "  ' ignored when e.g. forecasting.', ValueWarning)\n"
     ]
    },
    {
     "name": "stdout",
     "output_type": "stream",
     "text": [
      " ARIMA(1,1,4)(0,0,0)[0]             : AIC=4257.112, Time=0.20 sec\n",
      "\n",
      "Best model:  ARIMA(0,1,3)(0,0,0)[0]          \n",
      "Total fit time: 2.096 seconds\n",
      "autoARIMA time: 0:00:02.111673\n",
      "(0, 1, 3)\n",
      "(0, 0, 0, 0)\n",
      "fit time = 0:00:00.051076\n",
      "##### Koniec dopasowania modelu dla godziny: 111\n",
      "#####\n",
      "##### startuje dopasowanie modelu dla godziny: 112\n",
      "Performing stepwise search to minimize aic\n",
      " ARIMA(2,1,2)(0,0,0)[0] intercept   : AIC=4651.223, Time=0.18 sec\n",
      " ARIMA(0,1,0)(0,0,0)[0] intercept   : AIC=4732.171, Time=0.01 sec\n",
      " ARIMA(1,1,0)(0,0,0)[0] intercept   : AIC=4696.669, Time=0.04 sec\n",
      " ARIMA(0,1,1)(0,0,0)[0] intercept   : AIC=4652.543, Time=0.04 sec\n",
      " ARIMA(0,1,0)(0,0,0)[0]             : AIC=4730.177, Time=0.01 sec\n",
      " ARIMA(1,1,2)(0,0,0)[0] intercept   : AIC=4649.145, Time=0.15 sec\n",
      " ARIMA(0,1,2)(0,0,0)[0] intercept   : AIC=4649.366, Time=0.15 sec\n",
      " ARIMA(1,1,1)(0,0,0)[0] intercept   : AIC=4650.642, Time=0.07 sec\n",
      " ARIMA(1,1,3)(0,0,0)[0] intercept   : AIC=4651.067, Time=0.19 sec\n"
     ]
    },
    {
     "name": "stderr",
     "output_type": "stream",
     "text": [
      "D:\\Programy\\anaconda\\lib\\site-packages\\statsmodels\\base\\model.py:568: ConvergenceWarning: Maximum Likelihood optimization failed to converge. Check mle_retvals\n",
      "  ConvergenceWarning)\n"
     ]
    },
    {
     "name": "stdout",
     "output_type": "stream",
     "text": [
      " ARIMA(0,1,3)(0,0,0)[0] intercept   : AIC=4649.529, Time=0.22 sec\n",
      " ARIMA(2,1,1)(0,0,0)[0] intercept   : AIC=4650.203, Time=0.08 sec\n"
     ]
    },
    {
     "name": "stderr",
     "output_type": "stream",
     "text": [
      "D:\\Programy\\anaconda\\lib\\site-packages\\statsmodels\\base\\model.py:568: ConvergenceWarning: Maximum Likelihood optimization failed to converge. Check mle_retvals\n",
      "  ConvergenceWarning)\n"
     ]
    },
    {
     "name": "stdout",
     "output_type": "stream",
     "text": [
      " ARIMA(2,1,3)(0,0,0)[0] intercept   : AIC=4653.072, Time=0.27 sec\n",
      " ARIMA(1,1,2)(0,0,0)[0]             : AIC=4647.855, Time=0.08 sec\n",
      " ARIMA(0,1,2)(0,0,0)[0]             : AIC=4648.274, Time=0.07 sec\n",
      " ARIMA(1,1,1)(0,0,0)[0]             : AIC=4649.064, Time=0.04 sec\n",
      " ARIMA(2,1,2)(0,0,0)[0]             : AIC=4649.916, Time=0.15 sec\n",
      " ARIMA(1,1,3)(0,0,0)[0]             : AIC=4649.762, Time=0.16 sec\n",
      " ARIMA(0,1,1)(0,0,0)[0]             : AIC=4651.083, Time=0.02 sec\n",
      " ARIMA(0,1,3)(0,0,0)[0]             : AIC=4648.284, Time=0.08 sec\n",
      " ARIMA(2,1,1)(0,0,0)[0]             : AIC=4648.773, Time=0.06 sec\n",
      " ARIMA(2,1,3)(0,0,0)[0]             : AIC=4651.780, Time=0.15 sec\n",
      "\n",
      "Best model:  ARIMA(1,1,2)(0,0,0)[0]          \n",
      "Total fit time: 2.218 seconds\n",
      "autoARIMA time: 0:00:02.241058\n",
      "(1, 1, 2)\n",
      "(0, 0, 0, 0)\n",
      "fit time = 0:00:00.070750\n",
      "##### Koniec dopasowania modelu dla godziny: 112\n",
      "#####\n",
      "##### startuje dopasowanie modelu dla godziny: 113\n",
      "Performing stepwise search to minimize aic\n"
     ]
    },
    {
     "name": "stderr",
     "output_type": "stream",
     "text": [
      "D:\\Programy\\anaconda\\lib\\site-packages\\statsmodels\\tsa\\base\\tsa_model.py:579: ValueWarning: An unsupported index was provided and will be ignored when e.g. forecasting.\n",
      "  ' ignored when e.g. forecasting.', ValueWarning)\n",
      "D:\\Programy\\anaconda\\lib\\site-packages\\statsmodels\\tsa\\base\\tsa_model.py:579: ValueWarning: An unsupported index was provided and will be ignored when e.g. forecasting.\n",
      "  ' ignored when e.g. forecasting.', ValueWarning)\n",
      "D:\\Programy\\anaconda\\lib\\site-packages\\statsmodels\\base\\model.py:568: ConvergenceWarning: Maximum Likelihood optimization failed to converge. Check mle_retvals\n",
      "  ConvergenceWarning)\n"
     ]
    },
    {
     "name": "stdout",
     "output_type": "stream",
     "text": [
      " ARIMA(2,1,2)(0,0,0)[0] intercept   : AIC=4596.687, Time=0.27 sec\n",
      " ARIMA(0,1,0)(0,0,0)[0] intercept   : AIC=4637.156, Time=0.00 sec\n",
      " ARIMA(1,1,0)(0,0,0)[0] intercept   : AIC=4615.765, Time=0.05 sec\n",
      " ARIMA(0,1,1)(0,0,0)[0] intercept   : AIC=4600.196, Time=0.05 sec\n",
      " ARIMA(0,1,0)(0,0,0)[0]             : AIC=4635.166, Time=0.00 sec\n",
      " ARIMA(1,1,2)(0,0,0)[0] intercept   : AIC=4594.692, Time=0.14 sec\n",
      " ARIMA(0,1,2)(0,0,0)[0] intercept   : AIC=4592.935, Time=0.08 sec\n",
      " ARIMA(0,1,3)(0,0,0)[0] intercept   : AIC=4594.584, Time=0.08 sec\n",
      " ARIMA(1,1,1)(0,0,0)[0] intercept   : AIC=4593.008, Time=0.09 sec\n",
      " ARIMA(1,1,3)(0,0,0)[0] intercept   : AIC=4596.494, Time=0.10 sec\n",
      " ARIMA(0,1,2)(0,0,0)[0]             : AIC=4591.302, Time=0.05 sec\n",
      " ARIMA(0,1,1)(0,0,0)[0]             : AIC=4598.418, Time=0.02 sec\n"
     ]
    },
    {
     "name": "stderr",
     "output_type": "stream",
     "text": [
      "D:\\Programy\\anaconda\\lib\\site-packages\\statsmodels\\tsa\\statespace\\sarimax.py:966: UserWarning: Non-stationary starting autoregressive parameters found. Using zeros as starting parameters.\n",
      "  warn('Non-stationary starting autoregressive parameters'\n",
      "D:\\Programy\\anaconda\\lib\\site-packages\\statsmodels\\tsa\\statespace\\sarimax.py:978: UserWarning: Non-invertible starting MA parameters found. Using zeros as starting parameters.\n",
      "  warn('Non-invertible starting MA parameters found.'\n"
     ]
    },
    {
     "name": "stdout",
     "output_type": "stream",
     "text": [
      " ARIMA(1,1,2)(0,0,0)[0]             : AIC=4593.036, Time=0.10 sec\n",
      " ARIMA(0,1,3)(0,0,0)[0]             : AIC=4592.961, Time=0.04 sec\n",
      " ARIMA(1,1,1)(0,0,0)[0]             : AIC=4591.407, Time=0.05 sec\n"
     ]
    },
    {
     "name": "stderr",
     "output_type": "stream",
     "text": [
      "D:\\Programy\\anaconda\\lib\\site-packages\\statsmodels\\tsa\\statespace\\sarimax.py:966: UserWarning: Non-stationary starting autoregressive parameters found. Using zeros as starting parameters.\n",
      "  warn('Non-stationary starting autoregressive parameters'\n",
      "D:\\Programy\\anaconda\\lib\\site-packages\\statsmodels\\tsa\\statespace\\sarimax.py:978: UserWarning: Non-invertible starting MA parameters found. Using zeros as starting parameters.\n",
      "  warn('Non-invertible starting MA parameters found.'\n",
      "D:\\Programy\\anaconda\\lib\\site-packages\\statsmodels\\base\\model.py:568: ConvergenceWarning: Maximum Likelihood optimization failed to converge. Check mle_retvals\n",
      "  ConvergenceWarning)\n",
      "D:\\Programy\\anaconda\\lib\\site-packages\\statsmodels\\tsa\\base\\tsa_model.py:579: ValueWarning: An unsupported index was provided and will be ignored when e.g. forecasting.\n",
      "  ' ignored when e.g. forecasting.', ValueWarning)\n",
      "D:\\Programy\\anaconda\\lib\\site-packages\\statsmodels\\tsa\\base\\tsa_model.py:579: ValueWarning: An unsupported index was provided and will be ignored when e.g. forecasting.\n",
      "  ' ignored when e.g. forecasting.', ValueWarning)\n"
     ]
    },
    {
     "name": "stdout",
     "output_type": "stream",
     "text": [
      " ARIMA(1,1,3)(0,0,0)[0]             : AIC=4594.765, Time=0.20 sec\n",
      "\n",
      "Best model:  ARIMA(0,1,2)(0,0,0)[0]          \n",
      "Total fit time: 1.298 seconds\n",
      "autoARIMA time: 0:00:01.298257\n",
      "(0, 1, 2)\n",
      "(0, 0, 0, 0)\n",
      "fit time = 0:00:00.046877\n",
      "##### Koniec dopasowania modelu dla godziny: 113\n",
      "#####\n",
      "##### startuje dopasowanie modelu dla godziny: 114\n",
      "Performing stepwise search to minimize aic\n",
      " ARIMA(2,1,2)(0,0,0)[0] intercept   : AIC=4521.186, Time=0.12 sec\n",
      " ARIMA(0,1,0)(0,0,0)[0] intercept   : AIC=4553.087, Time=0.02 sec\n",
      " ARIMA(1,1,0)(0,0,0)[0] intercept   : AIC=4529.313, Time=0.05 sec\n",
      " ARIMA(0,1,1)(0,0,0)[0] intercept   : AIC=4518.319, Time=0.03 sec\n",
      " ARIMA(0,1,0)(0,0,0)[0]             : AIC=4551.098, Time=0.02 sec\n",
      " ARIMA(1,1,1)(0,0,0)[0] intercept   : AIC=4517.570, Time=0.08 sec\n",
      " ARIMA(2,1,1)(0,0,0)[0] intercept   : AIC=4519.161, Time=0.12 sec\n",
      " ARIMA(1,1,2)(0,0,0)[0] intercept   : AIC=4519.178, Time=0.15 sec\n",
      " ARIMA(0,1,2)(0,0,0)[0] intercept   : AIC=4517.216, Time=0.07 sec\n",
      " ARIMA(0,1,3)(0,0,0)[0] intercept   : AIC=4519.176, Time=0.08 sec\n",
      " ARIMA(1,1,3)(0,0,0)[0] intercept   : AIC=4521.180, Time=0.09 sec\n",
      " ARIMA(0,1,2)(0,0,0)[0]             : AIC=4515.477, Time=0.05 sec\n",
      " ARIMA(0,1,1)(0,0,0)[0]             : AIC=4516.505, Time=0.02 sec\n",
      " ARIMA(1,1,2)(0,0,0)[0]             : AIC=4517.432, Time=0.07 sec\n",
      " ARIMA(0,1,3)(0,0,0)[0]             : AIC=4517.427, Time=0.05 sec\n",
      " ARIMA(1,1,1)(0,0,0)[0]             : AIC=4515.838, Time=0.03 sec\n"
     ]
    },
    {
     "name": "stderr",
     "output_type": "stream",
     "text": [
      "D:\\Programy\\anaconda\\lib\\site-packages\\statsmodels\\base\\model.py:568: ConvergenceWarning: Maximum Likelihood optimization failed to converge. Check mle_retvals\n",
      "  ConvergenceWarning)\n",
      "D:\\Programy\\anaconda\\lib\\site-packages\\statsmodels\\tsa\\base\\tsa_model.py:579: ValueWarning: An unsupported index was provided and will be ignored when e.g. forecasting.\n",
      "  ' ignored when e.g. forecasting.', ValueWarning)\n",
      "D:\\Programy\\anaconda\\lib\\site-packages\\statsmodels\\tsa\\base\\tsa_model.py:579: ValueWarning: An unsupported index was provided and will be ignored when e.g. forecasting.\n",
      "  ' ignored when e.g. forecasting.', ValueWarning)\n"
     ]
    },
    {
     "name": "stdout",
     "output_type": "stream",
     "text": [
      " ARIMA(1,1,3)(0,0,0)[0]             : AIC=4519.066, Time=0.20 sec\n",
      "\n",
      "Best model:  ARIMA(0,1,2)(0,0,0)[0]          \n",
      "Total fit time: 1.262 seconds\n",
      "autoARIMA time: 0:00:01.262019\n",
      "(0, 1, 2)\n",
      "(0, 0, 0, 0)\n",
      "fit time = 0:00:00.031250\n",
      "##### Koniec dopasowania modelu dla godziny: 114\n",
      "#####\n",
      "##### startuje dopasowanie modelu dla godziny: 115\n",
      "Performing stepwise search to minimize aic\n",
      " ARIMA(2,1,2)(0,0,0)[0] intercept   : AIC=4585.786, Time=0.12 sec\n",
      " ARIMA(0,1,0)(0,0,0)[0] intercept   : AIC=4621.441, Time=0.02 sec\n",
      " ARIMA(1,1,0)(0,0,0)[0] intercept   : AIC=4601.349, Time=0.05 sec\n",
      " ARIMA(0,1,1)(0,0,0)[0] intercept   : AIC=4587.151, Time=0.03 sec\n",
      " ARIMA(0,1,0)(0,0,0)[0]             : AIC=4619.457, Time=0.00 sec\n",
      " ARIMA(1,1,2)(0,0,0)[0] intercept   : AIC=4583.787, Time=0.14 sec\n",
      " ARIMA(0,1,2)(0,0,0)[0] intercept   : AIC=4581.841, Time=0.05 sec\n",
      " ARIMA(0,1,3)(0,0,0)[0] intercept   : AIC=4584.368, Time=0.08 sec\n",
      " ARIMA(1,1,1)(0,0,0)[0] intercept   : AIC=4582.768, Time=0.10 sec\n",
      " ARIMA(1,1,3)(0,0,0)[0] intercept   : AIC=4586.526, Time=0.09 sec\n",
      " ARIMA(0,1,2)(0,0,0)[0]             : AIC=4580.205, Time=0.03 sec\n",
      " ARIMA(0,1,1)(0,0,0)[0]             : AIC=4585.431, Time=0.03 sec\n"
     ]
    },
    {
     "name": "stderr",
     "output_type": "stream",
     "text": [
      "D:\\Programy\\anaconda\\lib\\site-packages\\statsmodels\\tsa\\statespace\\sarimax.py:966: UserWarning: Non-stationary starting autoregressive parameters found. Using zeros as starting parameters.\n",
      "  warn('Non-stationary starting autoregressive parameters'\n",
      "D:\\Programy\\anaconda\\lib\\site-packages\\statsmodels\\tsa\\statespace\\sarimax.py:978: UserWarning: Non-invertible starting MA parameters found. Using zeros as starting parameters.\n",
      "  warn('Non-invertible starting MA parameters found.'\n"
     ]
    },
    {
     "name": "stdout",
     "output_type": "stream",
     "text": [
      " ARIMA(1,1,2)(0,0,0)[0]             : AIC=4582.174, Time=0.09 sec\n",
      " ARIMA(0,1,3)(0,0,0)[0]             : AIC=4582.752, Time=0.05 sec\n",
      " ARIMA(1,1,1)(0,0,0)[0]             : AIC=4581.174, Time=0.05 sec\n"
     ]
    },
    {
     "name": "stderr",
     "output_type": "stream",
     "text": [
      "D:\\Programy\\anaconda\\lib\\site-packages\\statsmodels\\tsa\\statespace\\sarimax.py:966: UserWarning: Non-stationary starting autoregressive parameters found. Using zeros as starting parameters.\n",
      "  warn('Non-stationary starting autoregressive parameters'\n",
      "D:\\Programy\\anaconda\\lib\\site-packages\\statsmodels\\tsa\\statespace\\sarimax.py:978: UserWarning: Non-invertible starting MA parameters found. Using zeros as starting parameters.\n",
      "  warn('Non-invertible starting MA parameters found.'\n",
      "D:\\Programy\\anaconda\\lib\\site-packages\\statsmodels\\base\\model.py:568: ConvergenceWarning: Maximum Likelihood optimization failed to converge. Check mle_retvals\n",
      "  ConvergenceWarning)\n",
      "D:\\Programy\\anaconda\\lib\\site-packages\\statsmodels\\tsa\\base\\tsa_model.py:579: ValueWarning: An unsupported index was provided and will be ignored when e.g. forecasting.\n",
      "  ' ignored when e.g. forecasting.', ValueWarning)\n",
      "D:\\Programy\\anaconda\\lib\\site-packages\\statsmodels\\tsa\\base\\tsa_model.py:579: ValueWarning: An unsupported index was provided and will be ignored when e.g. forecasting.\n",
      "  ' ignored when e.g. forecasting.', ValueWarning)\n"
     ]
    },
    {
     "name": "stdout",
     "output_type": "stream",
     "text": [
      " ARIMA(1,1,3)(0,0,0)[0]             : AIC=4584.777, Time=0.17 sec\n",
      "\n",
      "Best model:  ARIMA(0,1,2)(0,0,0)[0]          \n",
      "Total fit time: 1.104 seconds\n",
      "autoARIMA time: 0:00:01.103923\n",
      "(0, 1, 2)\n",
      "(0, 0, 0, 0)\n",
      "fit time = 0:00:00.039552\n",
      "##### Koniec dopasowania modelu dla godziny: 115\n",
      "#####\n",
      "##### startuje dopasowanie modelu dla godziny: 116\n",
      "Performing stepwise search to minimize aic\n",
      " ARIMA(2,1,2)(0,0,0)[0] intercept   : AIC=4443.461, Time=0.15 sec\n",
      " ARIMA(0,1,0)(0,0,0)[0] intercept   : AIC=4467.480, Time=0.02 sec\n",
      " ARIMA(1,1,0)(0,0,0)[0] intercept   : AIC=4458.812, Time=0.04 sec\n",
      " ARIMA(0,1,1)(0,0,0)[0] intercept   : AIC=4452.468, Time=0.03 sec\n",
      " ARIMA(0,1,0)(0,0,0)[0]             : AIC=4465.496, Time=0.02 sec\n",
      " ARIMA(1,1,2)(0,0,0)[0] intercept   : AIC=4443.014, Time=0.11 sec\n",
      " ARIMA(0,1,2)(0,0,0)[0] intercept   : AIC=4442.181, Time=0.06 sec\n",
      " ARIMA(0,1,3)(0,0,0)[0] intercept   : AIC=4443.956, Time=0.06 sec\n",
      " ARIMA(1,1,1)(0,0,0)[0] intercept   : AIC=4444.878, Time=0.08 sec\n",
      " ARIMA(1,1,3)(0,0,0)[0] intercept   : AIC=4444.030, Time=0.17 sec\n",
      " ARIMA(0,1,2)(0,0,0)[0]             : AIC=4440.500, Time=0.04 sec\n",
      " ARIMA(0,1,1)(0,0,0)[0]             : AIC=4450.613, Time=0.03 sec\n",
      " ARIMA(1,1,2)(0,0,0)[0]             : AIC=4441.291, Time=0.06 sec\n",
      " ARIMA(0,1,3)(0,0,0)[0]             : AIC=4442.243, Time=0.05 sec\n",
      " ARIMA(1,1,1)(0,0,0)[0]             : AIC=4443.173, Time=0.04 sec\n",
      " ARIMA(1,1,3)(0,0,0)[0]             : AIC=4442.335, Time=0.10 sec\n",
      "\n",
      "Best model:  ARIMA(0,1,2)(0,0,0)[0]          \n",
      "Total fit time: 1.058 seconds\n",
      "autoARIMA time: 0:00:01.058124\n",
      "(0, 1, 2)\n",
      "(0, 0, 0, 0)\n",
      "fit time = 0:00:00.031252\n",
      "##### Koniec dopasowania modelu dla godziny: 116\n",
      "#####\n",
      "##### startuje dopasowanie modelu dla godziny: 117\n",
      "Performing stepwise search to minimize aic\n"
     ]
    },
    {
     "name": "stderr",
     "output_type": "stream",
     "text": [
      "D:\\Programy\\anaconda\\lib\\site-packages\\statsmodels\\tsa\\base\\tsa_model.py:579: ValueWarning: An unsupported index was provided and will be ignored when e.g. forecasting.\n",
      "  ' ignored when e.g. forecasting.', ValueWarning)\n",
      "D:\\Programy\\anaconda\\lib\\site-packages\\statsmodels\\tsa\\base\\tsa_model.py:579: ValueWarning: An unsupported index was provided and will be ignored when e.g. forecasting.\n",
      "  ' ignored when e.g. forecasting.', ValueWarning)\n"
     ]
    },
    {
     "name": "stdout",
     "output_type": "stream",
     "text": [
      " ARIMA(2,1,2)(0,0,0)[0] intercept   : AIC=4264.672, Time=0.19 sec\n",
      " ARIMA(0,1,0)(0,0,0)[0] intercept   : AIC=4314.713, Time=0.02 sec\n",
      " ARIMA(1,1,0)(0,0,0)[0] intercept   : AIC=4285.103, Time=0.05 sec\n",
      " ARIMA(0,1,1)(0,0,0)[0] intercept   : AIC=4266.557, Time=0.12 sec\n",
      " ARIMA(0,1,0)(0,0,0)[0]             : AIC=4312.716, Time=0.02 sec\n",
      " ARIMA(1,1,2)(0,0,0)[0] intercept   : AIC=4262.998, Time=0.09 sec\n",
      " ARIMA(0,1,2)(0,0,0)[0] intercept   : AIC=4265.732, Time=0.07 sec\n",
      " ARIMA(1,1,1)(0,0,0)[0] intercept   : AIC=4266.489, Time=0.09 sec\n",
      " ARIMA(1,1,3)(0,0,0)[0] intercept   : AIC=4264.732, Time=0.18 sec\n",
      " ARIMA(0,1,3)(0,0,0)[0] intercept   : AIC=4264.783, Time=0.07 sec\n",
      " ARIMA(2,1,1)(0,0,0)[0] intercept   : AIC=4266.475, Time=0.15 sec\n"
     ]
    },
    {
     "name": "stderr",
     "output_type": "stream",
     "text": [
      "D:\\Programy\\anaconda\\lib\\site-packages\\statsmodels\\base\\model.py:568: ConvergenceWarning: Maximum Likelihood optimization failed to converge. Check mle_retvals\n",
      "  ConvergenceWarning)\n"
     ]
    },
    {
     "name": "stdout",
     "output_type": "stream",
     "text": [
      " ARIMA(2,1,3)(0,0,0)[0] intercept   : AIC=4261.558, Time=0.36 sec\n"
     ]
    },
    {
     "name": "stderr",
     "output_type": "stream",
     "text": [
      "D:\\Programy\\anaconda\\lib\\site-packages\\statsmodels\\base\\model.py:568: ConvergenceWarning: Maximum Likelihood optimization failed to converge. Check mle_retvals\n",
      "  ConvergenceWarning)\n"
     ]
    },
    {
     "name": "stdout",
     "output_type": "stream",
     "text": [
      " ARIMA(3,1,3)(0,0,0)[0] intercept   : AIC=4262.323, Time=0.36 sec\n"
     ]
    },
    {
     "name": "stderr",
     "output_type": "stream",
     "text": [
      "D:\\Programy\\anaconda\\lib\\site-packages\\statsmodels\\base\\model.py:568: ConvergenceWarning: Maximum Likelihood optimization failed to converge. Check mle_retvals\n",
      "  ConvergenceWarning)\n"
     ]
    },
    {
     "name": "stdout",
     "output_type": "stream",
     "text": [
      " ARIMA(2,1,4)(0,0,0)[0] intercept   : AIC=4263.058, Time=0.37 sec\n",
      " ARIMA(1,1,4)(0,0,0)[0] intercept   : AIC=4266.604, Time=0.12 sec\n",
      " ARIMA(3,1,2)(0,0,0)[0] intercept   : AIC=4266.341, Time=0.21 sec\n"
     ]
    },
    {
     "name": "stderr",
     "output_type": "stream",
     "text": [
      "D:\\Programy\\anaconda\\lib\\site-packages\\statsmodels\\base\\model.py:568: ConvergenceWarning: Maximum Likelihood optimization failed to converge. Check mle_retvals\n",
      "  ConvergenceWarning)\n"
     ]
    },
    {
     "name": "stdout",
     "output_type": "stream",
     "text": [
      " ARIMA(3,1,4)(0,0,0)[0] intercept   : AIC=4263.621, Time=0.38 sec\n"
     ]
    },
    {
     "name": "stderr",
     "output_type": "stream",
     "text": [
      "D:\\Programy\\anaconda\\lib\\site-packages\\statsmodels\\base\\model.py:568: ConvergenceWarning: Maximum Likelihood optimization failed to converge. Check mle_retvals\n",
      "  ConvergenceWarning)\n"
     ]
    },
    {
     "name": "stdout",
     "output_type": "stream",
     "text": [
      " ARIMA(2,1,3)(0,0,0)[0]             : AIC=4259.207, Time=0.37 sec\n",
      " ARIMA(1,1,3)(0,0,0)[0]             : AIC=4262.887, Time=0.10 sec\n",
      " ARIMA(2,1,2)(0,0,0)[0]             : AIC=4262.857, Time=0.12 sec\n"
     ]
    },
    {
     "name": "stderr",
     "output_type": "stream",
     "text": [
      "D:\\Programy\\anaconda\\lib\\site-packages\\statsmodels\\base\\model.py:568: ConvergenceWarning: Maximum Likelihood optimization failed to converge. Check mle_retvals\n",
      "  ConvergenceWarning)\n"
     ]
    },
    {
     "name": "stdout",
     "output_type": "stream",
     "text": [
      " ARIMA(3,1,3)(0,0,0)[0]             : AIC=4260.818, Time=0.51 sec\n"
     ]
    },
    {
     "name": "stderr",
     "output_type": "stream",
     "text": [
      "D:\\Programy\\anaconda\\lib\\site-packages\\statsmodels\\base\\model.py:568: ConvergenceWarning: Maximum Likelihood optimization failed to converge. Check mle_retvals\n",
      "  ConvergenceWarning)\n"
     ]
    },
    {
     "name": "stdout",
     "output_type": "stream",
     "text": [
      " ARIMA(2,1,4)(0,0,0)[0]             : AIC=4261.246, Time=0.53 sec\n",
      " ARIMA(1,1,2)(0,0,0)[0]             : AIC=4261.199, Time=0.08 sec\n",
      " ARIMA(1,1,4)(0,0,0)[0]             : AIC=4264.763, Time=0.14 sec\n",
      " ARIMA(3,1,2)(0,0,0)[0]             : AIC=4264.527, Time=0.18 sec\n"
     ]
    },
    {
     "name": "stderr",
     "output_type": "stream",
     "text": [
      "D:\\Programy\\anaconda\\lib\\site-packages\\statsmodels\\base\\model.py:568: ConvergenceWarning: Maximum Likelihood optimization failed to converge. Check mle_retvals\n",
      "  ConvergenceWarning)\n",
      "D:\\Programy\\anaconda\\lib\\site-packages\\statsmodels\\tsa\\base\\tsa_model.py:579: ValueWarning: An unsupported index was provided and will be ignored when e.g. forecasting.\n",
      "  ' ignored when e.g. forecasting.', ValueWarning)\n",
      "D:\\Programy\\anaconda\\lib\\site-packages\\statsmodels\\tsa\\base\\tsa_model.py:579: ValueWarning: An unsupported index was provided and will be ignored when e.g. forecasting.\n",
      "  ' ignored when e.g. forecasting.', ValueWarning)\n"
     ]
    },
    {
     "name": "stdout",
     "output_type": "stream",
     "text": [
      " ARIMA(3,1,4)(0,0,0)[0]             : AIC=4259.549, Time=0.32 sec\n",
      "\n",
      "Best model:  ARIMA(2,1,3)(0,0,0)[0]          \n",
      "Total fit time: 5.227 seconds\n",
      "autoARIMA time: 0:00:05.242416\n",
      "(2, 1, 3)\n",
      "(0, 0, 0, 0)\n",
      "fit time = 0:00:00.133711\n",
      "##### Koniec dopasowania modelu dla godziny: 117\n",
      "#####\n",
      "##### startuje dopasowanie modelu dla godziny: 118\n",
      "Performing stepwise search to minimize aic\n",
      " ARIMA(2,1,2)(0,0,0)[0] intercept   : AIC=4177.697, Time=0.19 sec\n",
      " ARIMA(0,1,0)(0,0,0)[0] intercept   : AIC=4245.429, Time=0.02 sec\n",
      " ARIMA(1,1,0)(0,0,0)[0] intercept   : AIC=4217.425, Time=0.05 sec\n",
      " ARIMA(0,1,1)(0,0,0)[0] intercept   : AIC=4185.018, Time=0.05 sec\n",
      " ARIMA(0,1,0)(0,0,0)[0]             : AIC=4243.434, Time=0.00 sec\n",
      " ARIMA(1,1,2)(0,0,0)[0] intercept   : AIC=4176.070, Time=0.12 sec\n",
      " ARIMA(0,1,2)(0,0,0)[0] intercept   : AIC=4181.043, Time=0.14 sec\n",
      " ARIMA(1,1,1)(0,0,0)[0] intercept   : AIC=4183.240, Time=0.05 sec\n",
      " ARIMA(1,1,3)(0,0,0)[0] intercept   : AIC=4177.653, Time=0.20 sec\n",
      " ARIMA(0,1,3)(0,0,0)[0] intercept   : AIC=4176.746, Time=0.07 sec\n",
      " ARIMA(2,1,1)(0,0,0)[0] intercept   : AIC=4179.185, Time=0.10 sec\n"
     ]
    },
    {
     "name": "stderr",
     "output_type": "stream",
     "text": [
      "D:\\Programy\\anaconda\\lib\\site-packages\\statsmodels\\base\\model.py:568: ConvergenceWarning: Maximum Likelihood optimization failed to converge. Check mle_retvals\n",
      "  ConvergenceWarning)\n"
     ]
    },
    {
     "name": "stdout",
     "output_type": "stream",
     "text": [
      " ARIMA(2,1,3)(0,0,0)[0] intercept   : AIC=4179.415, Time=0.26 sec\n",
      " ARIMA(1,1,2)(0,0,0)[0]             : AIC=4174.382, Time=0.10 sec\n",
      " ARIMA(0,1,2)(0,0,0)[0]             : AIC=4179.417, Time=0.02 sec\n",
      " ARIMA(1,1,1)(0,0,0)[0]             : AIC=4181.548, Time=0.06 sec\n",
      " ARIMA(2,1,2)(0,0,0)[0]             : AIC=4175.986, Time=0.12 sec\n",
      " ARIMA(1,1,3)(0,0,0)[0]             : AIC=4175.933, Time=0.11 sec\n",
      " ARIMA(0,1,1)(0,0,0)[0]             : AIC=4183.273, Time=0.02 sec\n",
      " ARIMA(0,1,3)(0,0,0)[0]             : AIC=4174.887, Time=0.04 sec\n",
      " ARIMA(2,1,1)(0,0,0)[0]             : AIC=4177.448, Time=0.07 sec\n"
     ]
    },
    {
     "name": "stderr",
     "output_type": "stream",
     "text": [
      "D:\\Programy\\anaconda\\lib\\site-packages\\statsmodels\\base\\model.py:568: ConvergenceWarning: Maximum Likelihood optimization failed to converge. Check mle_retvals\n",
      "  ConvergenceWarning)\n",
      "D:\\Programy\\anaconda\\lib\\site-packages\\statsmodels\\tsa\\base\\tsa_model.py:579: ValueWarning: An unsupported index was provided and will be ignored when e.g. forecasting.\n",
      "  ' ignored when e.g. forecasting.', ValueWarning)\n",
      "D:\\Programy\\anaconda\\lib\\site-packages\\statsmodels\\tsa\\base\\tsa_model.py:579: ValueWarning: An unsupported index was provided and will be ignored when e.g. forecasting.\n",
      "  ' ignored when e.g. forecasting.', ValueWarning)\n"
     ]
    },
    {
     "name": "stdout",
     "output_type": "stream",
     "text": [
      " ARIMA(2,1,3)(0,0,0)[0]             : AIC=4177.060, Time=0.22 sec\n",
      "\n",
      "Best model:  ARIMA(1,1,2)(0,0,0)[0]          \n",
      "Total fit time: 2.016 seconds\n",
      "autoARIMA time: 0:00:02.031401\n",
      "(1, 1, 2)\n",
      "(0, 0, 0, 0)\n",
      "fit time = 0:00:00.075482\n",
      "##### Koniec dopasowania modelu dla godziny: 118\n",
      "#####\n",
      "##### startuje dopasowanie modelu dla godziny: 119\n",
      "Performing stepwise search to minimize aic\n",
      " ARIMA(2,1,2)(0,0,0)[0] intercept   : AIC=4397.886, Time=0.19 sec\n",
      " ARIMA(0,1,0)(0,0,0)[0] intercept   : AIC=4471.277, Time=0.02 sec\n",
      " ARIMA(1,1,0)(0,0,0)[0] intercept   : AIC=4445.379, Time=0.05 sec\n",
      " ARIMA(0,1,1)(0,0,0)[0] intercept   : AIC=4406.454, Time=0.05 sec\n",
      " ARIMA(0,1,0)(0,0,0)[0]             : AIC=4469.283, Time=0.01 sec\n",
      " ARIMA(1,1,2)(0,0,0)[0] intercept   : AIC=4395.846, Time=0.11 sec\n",
      " ARIMA(0,1,2)(0,0,0)[0] intercept   : AIC=4395.709, Time=0.15 sec\n"
     ]
    },
    {
     "name": "stderr",
     "output_type": "stream",
     "text": [
      "D:\\Programy\\anaconda\\lib\\site-packages\\statsmodels\\base\\model.py:568: ConvergenceWarning: Maximum Likelihood optimization failed to converge. Check mle_retvals\n",
      "  ConvergenceWarning)\n",
      "D:\\Programy\\anaconda\\lib\\site-packages\\statsmodels\\base\\model.py:568: ConvergenceWarning: Maximum Likelihood optimization failed to converge. Check mle_retvals\n",
      "  ConvergenceWarning)\n"
     ]
    },
    {
     "name": "stdout",
     "output_type": "stream",
     "text": [
      " ARIMA(0,1,3)(0,0,0)[0] intercept   : AIC=4396.246, Time=0.22 sec\n",
      " ARIMA(1,1,1)(0,0,0)[0] intercept   : AIC=4398.551, Time=0.15 sec\n",
      " ARIMA(1,1,3)(0,0,0)[0] intercept   : AIC=4397.807, Time=0.23 sec\n",
      " ARIMA(0,1,2)(0,0,0)[0]             : AIC=4394.588, Time=0.09 sec\n",
      " ARIMA(0,1,1)(0,0,0)[0]             : AIC=4405.003, Time=0.04 sec\n"
     ]
    },
    {
     "name": "stderr",
     "output_type": "stream",
     "text": [
      "D:\\Programy\\anaconda\\lib\\site-packages\\statsmodels\\base\\model.py:568: ConvergenceWarning: Maximum Likelihood optimization failed to converge. Check mle_retvals\n",
      "  ConvergenceWarning)\n"
     ]
    },
    {
     "name": "stdout",
     "output_type": "stream",
     "text": [
      " ARIMA(1,1,2)(0,0,0)[0]             : AIC=4394.639, Time=0.09 sec\n",
      " ARIMA(0,1,3)(0,0,0)[0]             : AIC=4395.022, Time=0.08 sec\n",
      " ARIMA(1,1,1)(0,0,0)[0]             : AIC=4397.534, Time=0.06 sec\n"
     ]
    },
    {
     "name": "stderr",
     "output_type": "stream",
     "text": [
      "D:\\Programy\\anaconda\\lib\\site-packages\\statsmodels\\base\\model.py:568: ConvergenceWarning: Maximum Likelihood optimization failed to converge. Check mle_retvals\n",
      "  ConvergenceWarning)\n",
      "D:\\Programy\\anaconda\\lib\\site-packages\\statsmodels\\tsa\\base\\tsa_model.py:579: ValueWarning: An unsupported index was provided and will be ignored when e.g. forecasting.\n",
      "  ' ignored when e.g. forecasting.', ValueWarning)\n",
      "D:\\Programy\\anaconda\\lib\\site-packages\\statsmodels\\tsa\\base\\tsa_model.py:579: ValueWarning: An unsupported index was provided and will be ignored when e.g. forecasting.\n",
      "  ' ignored when e.g. forecasting.', ValueWarning)\n"
     ]
    },
    {
     "name": "stdout",
     "output_type": "stream",
     "text": [
      " ARIMA(1,1,3)(0,0,0)[0]             : AIC=4396.611, Time=0.15 sec\n",
      "\n",
      "Best model:  ARIMA(0,1,2)(0,0,0)[0]          \n",
      "Total fit time: 1.705 seconds\n",
      "autoARIMA time: 0:00:01.704722\n",
      "(0, 1, 2)\n",
      "(0, 0, 0, 0)\n",
      "fit time = 0:00:00.046873\n",
      "##### Koniec dopasowania modelu dla godziny: 119\n",
      "#####\n",
      "##### startuje dopasowanie modelu dla godziny: 120\n",
      "Performing stepwise search to minimize aic\n"
     ]
    },
    {
     "name": "stderr",
     "output_type": "stream",
     "text": [
      "D:\\Programy\\anaconda\\lib\\site-packages\\statsmodels\\base\\model.py:568: ConvergenceWarning: Maximum Likelihood optimization failed to converge. Check mle_retvals\n",
      "  ConvergenceWarning)\n"
     ]
    },
    {
     "name": "stdout",
     "output_type": "stream",
     "text": [
      " ARIMA(2,1,2)(0,0,0)[0] intercept   : AIC=4303.181, Time=0.27 sec\n",
      " ARIMA(0,1,0)(0,0,0)[0] intercept   : AIC=4355.664, Time=0.00 sec\n",
      " ARIMA(1,1,0)(0,0,0)[0] intercept   : AIC=4333.985, Time=0.06 sec\n",
      " ARIMA(0,1,1)(0,0,0)[0] intercept   : AIC=4313.745, Time=0.04 sec\n",
      " ARIMA(0,1,0)(0,0,0)[0]             : AIC=4353.671, Time=0.00 sec\n"
     ]
    },
    {
     "name": "stderr",
     "output_type": "stream",
     "text": [
      "D:\\Programy\\anaconda\\lib\\site-packages\\statsmodels\\base\\model.py:568: ConvergenceWarning: Maximum Likelihood optimization failed to converge. Check mle_retvals\n",
      "  ConvergenceWarning)\n",
      "D:\\Programy\\anaconda\\lib\\site-packages\\statsmodels\\base\\model.py:568: ConvergenceWarning: Maximum Likelihood optimization failed to converge. Check mle_retvals\n",
      "  ConvergenceWarning)\n"
     ]
    },
    {
     "name": "stdout",
     "output_type": "stream",
     "text": [
      " ARIMA(1,1,2)(0,0,0)[0] intercept   : AIC=4301.372, Time=0.20 sec\n",
      " ARIMA(0,1,2)(0,0,0)[0] intercept   : AIC=4300.078, Time=0.16 sec\n"
     ]
    },
    {
     "name": "stderr",
     "output_type": "stream",
     "text": [
      "D:\\Programy\\anaconda\\lib\\site-packages\\statsmodels\\base\\model.py:568: ConvergenceWarning: Maximum Likelihood optimization failed to converge. Check mle_retvals\n",
      "  ConvergenceWarning)\n",
      "D:\\Programy\\anaconda\\lib\\site-packages\\statsmodels\\base\\model.py:568: ConvergenceWarning: Maximum Likelihood optimization failed to converge. Check mle_retvals\n",
      "  ConvergenceWarning)\n"
     ]
    },
    {
     "name": "stdout",
     "output_type": "stream",
     "text": [
      " ARIMA(0,1,3)(0,0,0)[0] intercept   : AIC=4301.108, Time=0.22 sec\n",
      " ARIMA(1,1,1)(0,0,0)[0] intercept   : AIC=4299.958, Time=0.15 sec\n"
     ]
    },
    {
     "name": "stderr",
     "output_type": "stream",
     "text": [
      "D:\\Programy\\anaconda\\lib\\site-packages\\statsmodels\\base\\model.py:568: ConvergenceWarning: Maximum Likelihood optimization failed to converge. Check mle_retvals\n",
      "  ConvergenceWarning)\n"
     ]
    },
    {
     "name": "stdout",
     "output_type": "stream",
     "text": [
      " ARIMA(2,1,1)(0,0,0)[0] intercept   : AIC=4301.530, Time=0.20 sec\n",
      " ARIMA(2,1,0)(0,0,0)[0] intercept   : AIC=4320.221, Time=0.06 sec\n",
      " ARIMA(1,1,1)(0,0,0)[0]             : AIC=4298.849, Time=0.05 sec\n",
      " ARIMA(0,1,1)(0,0,0)[0]             : AIC=4312.044, Time=0.05 sec\n",
      " ARIMA(1,1,0)(0,0,0)[0]             : AIC=4332.029, Time=0.02 sec\n",
      " ARIMA(2,1,1)(0,0,0)[0]             : AIC=4300.344, Time=0.07 sec\n",
      " ARIMA(1,1,2)(0,0,0)[0]             : AIC=4300.035, Time=0.06 sec\n"
     ]
    },
    {
     "name": "stderr",
     "output_type": "stream",
     "text": [
      "D:\\Programy\\anaconda\\lib\\site-packages\\statsmodels\\base\\model.py:568: ConvergenceWarning: Maximum Likelihood optimization failed to converge. Check mle_retvals\n",
      "  ConvergenceWarning)\n"
     ]
    },
    {
     "name": "stdout",
     "output_type": "stream",
     "text": [
      " ARIMA(0,1,2)(0,0,0)[0]             : AIC=4298.540, Time=0.15 sec\n",
      " ARIMA(0,1,3)(0,0,0)[0]             : AIC=4299.887, Time=0.06 sec\n",
      " ARIMA(1,1,3)(0,0,0)[0]             : AIC=4299.911, Time=0.21 sec\n",
      "\n",
      "Best model:  ARIMA(0,1,2)(0,0,0)[0]          \n",
      "Total fit time: 2.064 seconds\n",
      "autoARIMA time: 0:00:02.069052\n",
      "(0, 1, 2)\n",
      "(0, 0, 0, 0)\n",
      "fit time = 0:00:00.046893\n",
      "##### Koniec dopasowania modelu dla godziny: 120\n",
      "#####\n",
      "##### startuje dopasowanie modelu dla godziny: 121\n",
      "Performing stepwise search to minimize aic\n"
     ]
    },
    {
     "name": "stderr",
     "output_type": "stream",
     "text": [
      "D:\\Programy\\anaconda\\lib\\site-packages\\statsmodels\\tsa\\base\\tsa_model.py:579: ValueWarning: An unsupported index was provided and will be ignored when e.g. forecasting.\n",
      "  ' ignored when e.g. forecasting.', ValueWarning)\n",
      "D:\\Programy\\anaconda\\lib\\site-packages\\statsmodels\\tsa\\base\\tsa_model.py:579: ValueWarning: An unsupported index was provided and will be ignored when e.g. forecasting.\n",
      "  ' ignored when e.g. forecasting.', ValueWarning)\n",
      "D:\\Programy\\anaconda\\lib\\site-packages\\statsmodels\\base\\model.py:568: ConvergenceWarning: Maximum Likelihood optimization failed to converge. Check mle_retvals\n",
      "  ConvergenceWarning)\n"
     ]
    },
    {
     "name": "stdout",
     "output_type": "stream",
     "text": [
      " ARIMA(2,1,2)(0,0,0)[0] intercept   : AIC=4273.103, Time=0.23 sec\n",
      " ARIMA(0,1,0)(0,0,0)[0] intercept   : AIC=4322.228, Time=0.02 sec\n",
      " ARIMA(1,1,0)(0,0,0)[0] intercept   : AIC=4302.230, Time=0.05 sec\n",
      " ARIMA(0,1,1)(0,0,0)[0] intercept   : AIC=4283.080, Time=0.10 sec\n",
      " ARIMA(0,1,0)(0,0,0)[0]             : AIC=4320.238, Time=0.02 sec"
     ]
    },
    {
     "name": "stderr",
     "output_type": "stream",
     "text": [
      "D:\\Programy\\anaconda\\lib\\site-packages\\statsmodels\\base\\model.py:568: ConvergenceWarning: Maximum Likelihood optimization failed to converge. Check mle_retvals\n",
      "  ConvergenceWarning)\n",
      "D:\\Programy\\anaconda\\lib\\site-packages\\statsmodels\\base\\model.py:568: ConvergenceWarning: Maximum Likelihood optimization failed to converge. Check mle_retvals\n",
      "  ConvergenceWarning)\n"
     ]
    },
    {
     "name": "stdout",
     "output_type": "stream",
     "text": [
      "\n",
      " ARIMA(1,1,2)(0,0,0)[0] intercept   : AIC=4270.629, Time=0.17 sec\n",
      " ARIMA(0,1,2)(0,0,0)[0] intercept   : AIC=4269.347, Time=0.17 sec"
     ]
    },
    {
     "name": "stderr",
     "output_type": "stream",
     "text": [
      "D:\\Programy\\anaconda\\lib\\site-packages\\statsmodels\\base\\model.py:568: ConvergenceWarning: Maximum Likelihood optimization failed to converge. Check mle_retvals\n",
      "  ConvergenceWarning)\n",
      "D:\\Programy\\anaconda\\lib\\site-packages\\statsmodels\\base\\model.py:568: ConvergenceWarning: Maximum Likelihood optimization failed to converge. Check mle_retvals\n",
      "  ConvergenceWarning)\n"
     ]
    },
    {
     "name": "stdout",
     "output_type": "stream",
     "text": [
      "\n",
      " ARIMA(0,1,3)(0,0,0)[0] intercept   : AIC=4270.510, Time=0.20 sec\n",
      " ARIMA(1,1,1)(0,0,0)[0] intercept   : AIC=4269.493, Time=0.16 sec\n"
     ]
    },
    {
     "name": "stderr",
     "output_type": "stream",
     "text": [
      "D:\\Programy\\anaconda\\lib\\site-packages\\statsmodels\\base\\model.py:568: ConvergenceWarning: Maximum Likelihood optimization failed to converge. Check mle_retvals\n",
      "  ConvergenceWarning)\n"
     ]
    },
    {
     "name": "stdout",
     "output_type": "stream",
     "text": [
      " ARIMA(1,1,3)(0,0,0)[0] intercept   : AIC=4272.403, Time=0.29 sec\n",
      " ARIMA(0,1,2)(0,0,0)[0]             : AIC=4268.094, Time=0.03 sec\n",
      " ARIMA(0,1,1)(0,0,0)[0]             : AIC=4281.703, Time=0.02 sec\n",
      " ARIMA(1,1,2)(0,0,0)[0]             : AIC=4269.372, Time=0.08 sec\n",
      " ARIMA(0,1,3)(0,0,0)[0]             : AIC=4269.293, Time=0.05 sec"
     ]
    },
    {
     "name": "stderr",
     "output_type": "stream",
     "text": [
      "D:\\Programy\\anaconda\\lib\\site-packages\\statsmodels\\base\\model.py:568: ConvergenceWarning: Maximum Likelihood optimization failed to converge. Check mle_retvals\n",
      "  ConvergenceWarning)\n",
      "D:\\Programy\\anaconda\\lib\\site-packages\\statsmodels\\base\\model.py:568: ConvergenceWarning: Maximum Likelihood optimization failed to converge. Check mle_retvals\n",
      "  ConvergenceWarning)\n"
     ]
    },
    {
     "name": "stdout",
     "output_type": "stream",
     "text": [
      "\n",
      " ARIMA(1,1,1)(0,0,0)[0]             : AIC=4267.674, Time=0.12 sec\n",
      " ARIMA(1,1,0)(0,0,0)[0]             : AIC=4300.281, Time=0.02 sec\n",
      " ARIMA(2,1,1)(0,0,0)[0]             : AIC=4269.120, Time=0.13 sec\n",
      " ARIMA(2,1,0)(0,0,0)[0]             : AIC=4286.834, Time=0.04 sec\n"
     ]
    },
    {
     "name": "stderr",
     "output_type": "stream",
     "text": [
      "D:\\Programy\\anaconda\\lib\\site-packages\\statsmodels\\base\\model.py:568: ConvergenceWarning: Maximum Likelihood optimization failed to converge. Check mle_retvals\n",
      "  ConvergenceWarning)\n",
      "D:\\Programy\\anaconda\\lib\\site-packages\\statsmodels\\tsa\\base\\tsa_model.py:579: ValueWarning: An unsupported index was provided and will be ignored when e.g. forecasting.\n",
      "  ' ignored when e.g. forecasting.', ValueWarning)\n",
      "D:\\Programy\\anaconda\\lib\\site-packages\\statsmodels\\tsa\\base\\tsa_model.py:579: ValueWarning: An unsupported index was provided and will be ignored when e.g. forecasting.\n",
      "  ' ignored when e.g. forecasting.', ValueWarning)\n"
     ]
    },
    {
     "name": "stdout",
     "output_type": "stream",
     "text": [
      " ARIMA(2,1,2)(0,0,0)[0]             : AIC=4271.312, Time=0.15 sec\n",
      "\n",
      "Best model:  ARIMA(1,1,1)(0,0,0)[0]          \n",
      "Total fit time: 2.066 seconds\n",
      "autoARIMA time: 0:00:02.081290\n",
      "(1, 1, 1)\n",
      "(0, 0, 0, 0)\n",
      "fit time = 0:00:00.117126\n",
      "##### Koniec dopasowania modelu dla godziny: 121\n",
      "#####\n",
      "##### startuje dopasowanie modelu dla godziny: 122\n",
      "Performing stepwise search to minimize aic\n"
     ]
    },
    {
     "name": "stderr",
     "output_type": "stream",
     "text": [
      "D:\\Programy\\anaconda\\lib\\site-packages\\statsmodels\\base\\model.py:568: ConvergenceWarning: Maximum Likelihood optimization failed to converge. Check mle_retvals\n",
      "  ConvergenceWarning)\n"
     ]
    },
    {
     "name": "stdout",
     "output_type": "stream",
     "text": [
      " ARIMA(2,1,2)(0,0,0)[0] intercept   : AIC=4211.714, Time=0.24 sec\n",
      " ARIMA(0,1,0)(0,0,0)[0] intercept   : AIC=4260.710, Time=0.02 sec\n",
      " ARIMA(1,1,0)(0,0,0)[0] intercept   : AIC=4237.638, Time=0.04 sec\n",
      " ARIMA(0,1,1)(0,0,0)[0] intercept   : AIC=4217.357, Time=0.11 sec\n",
      " ARIMA(0,1,0)(0,0,0)[0]             : AIC=4258.724, Time=0.02 sec\n"
     ]
    },
    {
     "name": "stderr",
     "output_type": "stream",
     "text": [
      "D:\\Programy\\anaconda\\lib\\site-packages\\statsmodels\\base\\model.py:568: ConvergenceWarning: Maximum Likelihood optimization failed to converge. Check mle_retvals\n",
      "  ConvergenceWarning)\n"
     ]
    },
    {
     "name": "stdout",
     "output_type": "stream",
     "text": [
      " ARIMA(1,1,2)(0,0,0)[0] intercept   : AIC=4209.923, Time=0.19 sec\n",
      " ARIMA(0,1,2)(0,0,0)[0] intercept   : AIC=4207.782, Time=0.16 sec\n"
     ]
    },
    {
     "name": "stderr",
     "output_type": "stream",
     "text": [
      "D:\\Programy\\anaconda\\lib\\site-packages\\statsmodels\\base\\model.py:568: ConvergenceWarning: Maximum Likelihood optimization failed to converge. Check mle_retvals\n",
      "  ConvergenceWarning)\n",
      "D:\\Programy\\anaconda\\lib\\site-packages\\statsmodels\\base\\model.py:568: ConvergenceWarning: Maximum Likelihood optimization failed to converge. Check mle_retvals\n",
      "  ConvergenceWarning)\n"
     ]
    },
    {
     "name": "stdout",
     "output_type": "stream",
     "text": [
      " ARIMA(0,1,3)(0,0,0)[0] intercept   : AIC=4209.712, Time=0.21 sec\n",
      " ARIMA(1,1,1)(0,0,0)[0] intercept   : AIC=4208.459, Time=0.16 sec\n"
     ]
    },
    {
     "name": "stderr",
     "output_type": "stream",
     "text": [
      "D:\\Programy\\anaconda\\lib\\site-packages\\statsmodels\\base\\model.py:568: ConvergenceWarning: Maximum Likelihood optimization failed to converge. Check mle_retvals\n",
      "  ConvergenceWarning)\n"
     ]
    },
    {
     "name": "stdout",
     "output_type": "stream",
     "text": [
      " ARIMA(1,1,3)(0,0,0)[0] intercept   : AIC=4211.870, Time=0.24 sec\n",
      " ARIMA(0,1,2)(0,0,0)[0]             : AIC=4206.317, Time=0.10 sec\n",
      " ARIMA(0,1,1)(0,0,0)[0]             : AIC=4215.692, Time=0.06 sec\n",
      " ARIMA(1,1,2)(0,0,0)[0]             : AIC=4208.329, Time=0.09 sec\n",
      " ARIMA(0,1,3)(0,0,0)[0]             : AIC=4208.390, Time=0.08 sec\n"
     ]
    },
    {
     "name": "stderr",
     "output_type": "stream",
     "text": [
      "D:\\Programy\\anaconda\\lib\\site-packages\\statsmodels\\base\\model.py:568: ConvergenceWarning: Maximum Likelihood optimization failed to converge. Check mle_retvals\n",
      "  ConvergenceWarning)\n"
     ]
    },
    {
     "name": "stdout",
     "output_type": "stream",
     "text": [
      " ARIMA(1,1,1)(0,0,0)[0]             : AIC=4206.751, Time=0.12 sec\n",
      " ARIMA(1,1,3)(0,0,0)[0]             : AIC=4210.359, Time=0.19 sec\n",
      "\n",
      "Best model:  ARIMA(0,1,2)(0,0,0)[0]          \n",
      "Total fit time: 2.043 seconds\n",
      "autoARIMA time: 0:00:02.043139\n",
      "(0, 1, 2)\n",
      "(0, 0, 0, 0)\n",
      "fit time = 0:00:00.046887\n",
      "##### Koniec dopasowania modelu dla godziny: 122\n",
      "#####\n",
      "##### startuje dopasowanie modelu dla godziny: 123\n",
      "Performing stepwise search to minimize aic\n"
     ]
    },
    {
     "name": "stderr",
     "output_type": "stream",
     "text": [
      "D:\\Programy\\anaconda\\lib\\site-packages\\statsmodels\\tsa\\base\\tsa_model.py:579: ValueWarning: An unsupported index was provided and will be ignored when e.g. forecasting.\n",
      "  ' ignored when e.g. forecasting.', ValueWarning)\n",
      "D:\\Programy\\anaconda\\lib\\site-packages\\statsmodels\\tsa\\base\\tsa_model.py:579: ValueWarning: An unsupported index was provided and will be ignored when e.g. forecasting.\n",
      "  ' ignored when e.g. forecasting.', ValueWarning)\n",
      "D:\\Programy\\anaconda\\lib\\site-packages\\statsmodels\\base\\model.py:568: ConvergenceWarning: Maximum Likelihood optimization failed to converge. Check mle_retvals\n",
      "  ConvergenceWarning)\n"
     ]
    },
    {
     "name": "stdout",
     "output_type": "stream",
     "text": [
      " ARIMA(2,1,2)(0,0,0)[0] intercept   : AIC=4254.610, Time=0.26 sec\n",
      " ARIMA(0,1,0)(0,0,0)[0] intercept   : AIC=4301.156, Time=0.00 sec\n",
      " ARIMA(1,1,0)(0,0,0)[0] intercept   : AIC=4283.055, Time=0.06 sec\n",
      " ARIMA(0,1,1)(0,0,0)[0] intercept   : AIC=4265.282, Time=0.05 sec\n",
      " ARIMA(0,1,0)(0,0,0)[0]             : AIC=4299.169, Time=0.03 sec\n"
     ]
    },
    {
     "name": "stderr",
     "output_type": "stream",
     "text": [
      "D:\\Programy\\anaconda\\lib\\site-packages\\statsmodels\\base\\model.py:568: ConvergenceWarning: Maximum Likelihood optimization failed to converge. Check mle_retvals\n",
      "  ConvergenceWarning)\n",
      "D:\\Programy\\anaconda\\lib\\site-packages\\statsmodels\\base\\model.py:568: ConvergenceWarning: Maximum Likelihood optimization failed to converge. Check mle_retvals\n",
      "  ConvergenceWarning)\n"
     ]
    },
    {
     "name": "stdout",
     "output_type": "stream",
     "text": [
      " ARIMA(1,1,2)(0,0,0)[0] intercept   : AIC=4254.092, Time=0.18 sec\n",
      " ARIMA(0,1,2)(0,0,0)[0] intercept   : AIC=4251.905, Time=0.17 sec\n"
     ]
    },
    {
     "name": "stderr",
     "output_type": "stream",
     "text": [
      "D:\\Programy\\anaconda\\lib\\site-packages\\statsmodels\\base\\model.py:568: ConvergenceWarning: Maximum Likelihood optimization failed to converge. Check mle_retvals\n",
      "  ConvergenceWarning)\n"
     ]
    },
    {
     "name": "stdout",
     "output_type": "stream",
     "text": [
      " ARIMA(0,1,3)(0,0,0)[0] intercept   : AIC=4253.794, Time=0.23 sec\n",
      " ARIMA(1,1,1)(0,0,0)[0] intercept   : AIC=4252.602, Time=0.13 sec\n"
     ]
    },
    {
     "name": "stderr",
     "output_type": "stream",
     "text": [
      "D:\\Programy\\anaconda\\lib\\site-packages\\statsmodels\\base\\model.py:568: ConvergenceWarning: Maximum Likelihood optimization failed to converge. Check mle_retvals\n",
      "  ConvergenceWarning)\n"
     ]
    },
    {
     "name": "stdout",
     "output_type": "stream",
     "text": [
      " ARIMA(1,1,3)(0,0,0)[0] intercept   : AIC=4255.508, Time=0.29 sec\n",
      " ARIMA(0,1,2)(0,0,0)[0]             : AIC=4250.537, Time=0.02 sec\n",
      " ARIMA(0,1,1)(0,0,0)[0]             : AIC=4263.565, Time=0.03 sec\n",
      " ARIMA(1,1,2)(0,0,0)[0]             : AIC=4252.381, Time=0.07 sec\n",
      " ARIMA(0,1,3)(0,0,0)[0]             : AIC=4252.483, Time=0.06 sec\n",
      " ARIMA(1,1,1)(0,0,0)[0]             : AIC=4251.383, Time=0.06 sec\n",
      " ARIMA(1,1,3)(0,0,0)[0]             : AIC=4254.420, Time=0.21 sec\n",
      "\n",
      "Best model:  ARIMA(0,1,2)(0,0,0)[0]          \n",
      "Total fit time: 1.848 seconds\n",
      "autoARIMA time: 0:00:01.856467\n",
      "(0, 1, 2)\n",
      "(0, 0, 0, 0)\n",
      "fit time = 0:00:00.076106\n",
      "##### Koniec dopasowania modelu dla godziny: 123\n",
      "#####\n",
      "##### startuje dopasowanie modelu dla godziny: 124\n",
      "Performing stepwise search to minimize aic\n"
     ]
    },
    {
     "name": "stderr",
     "output_type": "stream",
     "text": [
      "D:\\Programy\\anaconda\\lib\\site-packages\\statsmodels\\tsa\\base\\tsa_model.py:579: ValueWarning: An unsupported index was provided and will be ignored when e.g. forecasting.\n",
      "  ' ignored when e.g. forecasting.', ValueWarning)\n",
      "D:\\Programy\\anaconda\\lib\\site-packages\\statsmodels\\tsa\\base\\tsa_model.py:579: ValueWarning: An unsupported index was provided and will be ignored when e.g. forecasting.\n",
      "  ' ignored when e.g. forecasting.', ValueWarning)\n",
      "D:\\Programy\\anaconda\\lib\\site-packages\\statsmodels\\base\\model.py:568: ConvergenceWarning: Maximum Likelihood optimization failed to converge. Check mle_retvals\n",
      "  ConvergenceWarning)\n"
     ]
    },
    {
     "name": "stdout",
     "output_type": "stream",
     "text": [
      " ARIMA(2,1,2)(0,0,0)[0] intercept   : AIC=4183.391, Time=0.33 sec\n",
      " ARIMA(0,1,0)(0,0,0)[0] intercept   : AIC=4226.124, Time=0.02 sec\n",
      " ARIMA(1,1,0)(0,0,0)[0] intercept   : AIC=4209.887, Time=0.03 sec\n",
      " ARIMA(0,1,1)(0,0,0)[0] intercept   : AIC=4197.125, Time=0.05 sec\n",
      " ARIMA(0,1,0)(0,0,0)[0]             : AIC=4224.136, Time=0.00 sec\n"
     ]
    },
    {
     "name": "stderr",
     "output_type": "stream",
     "text": [
      "D:\\Programy\\anaconda\\lib\\site-packages\\statsmodels\\base\\model.py:568: ConvergenceWarning: Maximum Likelihood optimization failed to converge. Check mle_retvals\n",
      "  ConvergenceWarning)\n"
     ]
    },
    {
     "name": "stdout",
     "output_type": "stream",
     "text": [
      " ARIMA(1,1,2)(0,0,0)[0] intercept   : AIC=4184.921, Time=0.20 sec\n"
     ]
    },
    {
     "name": "stderr",
     "output_type": "stream",
     "text": [
      "D:\\Programy\\anaconda\\lib\\site-packages\\statsmodels\\base\\model.py:568: ConvergenceWarning: Maximum Likelihood optimization failed to converge. Check mle_retvals\n",
      "  ConvergenceWarning)\n"
     ]
    },
    {
     "name": "stdout",
     "output_type": "stream",
     "text": [
      " ARIMA(2,1,1)(0,0,0)[0] intercept   : AIC=4184.932, Time=0.21 sec\n"
     ]
    },
    {
     "name": "stderr",
     "output_type": "stream",
     "text": [
      "D:\\Programy\\anaconda\\lib\\site-packages\\statsmodels\\base\\model.py:568: ConvergenceWarning: Maximum Likelihood optimization failed to converge. Check mle_retvals\n",
      "  ConvergenceWarning)\n"
     ]
    },
    {
     "name": "stdout",
     "output_type": "stream",
     "text": [
      " ARIMA(3,1,2)(0,0,0)[0] intercept   : AIC=inf, Time=0.33 sec\n"
     ]
    },
    {
     "name": "stderr",
     "output_type": "stream",
     "text": [
      "D:\\Programy\\anaconda\\lib\\site-packages\\statsmodels\\base\\model.py:568: ConvergenceWarning: Maximum Likelihood optimization failed to converge. Check mle_retvals\n",
      "  ConvergenceWarning)\n"
     ]
    },
    {
     "name": "stdout",
     "output_type": "stream",
     "text": [
      " ARIMA(2,1,3)(0,0,0)[0] intercept   : AIC=4185.827, Time=0.31 sec\n"
     ]
    },
    {
     "name": "stderr",
     "output_type": "stream",
     "text": [
      "D:\\Programy\\anaconda\\lib\\site-packages\\statsmodels\\base\\model.py:568: ConvergenceWarning: Maximum Likelihood optimization failed to converge. Check mle_retvals\n",
      "  ConvergenceWarning)\n",
      "D:\\Programy\\anaconda\\lib\\site-packages\\statsmodels\\base\\model.py:568: ConvergenceWarning: Maximum Likelihood optimization failed to converge. Check mle_retvals\n",
      "  ConvergenceWarning)\n"
     ]
    },
    {
     "name": "stdout",
     "output_type": "stream",
     "text": [
      " ARIMA(1,1,1)(0,0,0)[0] intercept   : AIC=4183.225, Time=0.21 sec\n",
      " ARIMA(0,1,2)(0,0,0)[0] intercept   : AIC=4183.397, Time=0.15 sec\n",
      " ARIMA(2,1,0)(0,0,0)[0] intercept   : AIC=4199.296, Time=0.05 sec\n",
      " ARIMA(1,1,1)(0,0,0)[0]             : AIC=4182.049, Time=0.07 sec\n",
      " ARIMA(0,1,1)(0,0,0)[0]             : AIC=4195.334, Time=0.03 sec\n",
      " ARIMA(1,1,0)(0,0,0)[0]             : AIC=4207.930, Time=0.02 sec\n"
     ]
    },
    {
     "name": "stderr",
     "output_type": "stream",
     "text": [
      "D:\\Programy\\anaconda\\lib\\site-packages\\statsmodels\\base\\model.py:568: ConvergenceWarning: Maximum Likelihood optimization failed to converge. Check mle_retvals\n",
      "  ConvergenceWarning)\n"
     ]
    },
    {
     "name": "stdout",
     "output_type": "stream",
     "text": [
      " ARIMA(2,1,1)(0,0,0)[0]             : AIC=4183.470, Time=0.14 sec\n",
      " ARIMA(1,1,2)(0,0,0)[0]             : AIC=4183.413, Time=0.10 sec\n",
      " ARIMA(0,1,2)(0,0,0)[0]             : AIC=4182.008, Time=0.03 sec\n",
      " ARIMA(0,1,3)(0,0,0)[0]             : AIC=4183.861, Time=0.05 sec\n",
      " ARIMA(1,1,3)(0,0,0)[0]             : AIC=4185.378, Time=0.17 sec\n",
      "\n",
      "Best model:  ARIMA(0,1,2)(0,0,0)[0]          \n",
      "Total fit time: 2.483 seconds\n",
      "autoARIMA time: 0:00:02.485923\n",
      "(0, 1, 2)\n",
      "(0, 0, 0, 0)\n",
      "fit time = 0:00:00.046877\n",
      "##### Koniec dopasowania modelu dla godziny: 124\n",
      "#####\n",
      "##### startuje dopasowanie modelu dla godziny: 125\n",
      "Performing stepwise search to minimize aic\n",
      " ARIMA(2,1,2)(0,0,0)[0] intercept   : AIC=4084.826, Time=0.13 sec"
     ]
    },
    {
     "name": "stderr",
     "output_type": "stream",
     "text": [
      "D:\\Programy\\anaconda\\lib\\site-packages\\statsmodels\\tsa\\base\\tsa_model.py:579: ValueWarning: An unsupported index was provided and will be ignored when e.g. forecasting.\n",
      "  ' ignored when e.g. forecasting.', ValueWarning)\n",
      "D:\\Programy\\anaconda\\lib\\site-packages\\statsmodels\\tsa\\base\\tsa_model.py:579: ValueWarning: An unsupported index was provided and will be ignored when e.g. forecasting.\n",
      "  ' ignored when e.g. forecasting.', ValueWarning)\n"
     ]
    },
    {
     "name": "stdout",
     "output_type": "stream",
     "text": [
      "\n",
      " ARIMA(0,1,0)(0,0,0)[0] intercept   : AIC=4124.805, Time=0.03 sec\n",
      " ARIMA(1,1,0)(0,0,0)[0] intercept   : AIC=4098.482, Time=0.03 sec\n",
      " ARIMA(0,1,1)(0,0,0)[0] intercept   : AIC=4084.726, Time=0.04 sec\n",
      " ARIMA(0,1,0)(0,0,0)[0]             : AIC=4122.817, Time=0.01 sec\n",
      " ARIMA(1,1,1)(0,0,0)[0] intercept   : AIC=4085.146, Time=0.06 sec\n",
      " ARIMA(0,1,2)(0,0,0)[0] intercept   : AIC=4084.737, Time=0.07 sec\n",
      " ARIMA(1,1,2)(0,0,0)[0] intercept   : AIC=4083.152, Time=0.15 sec\n",
      " ARIMA(1,1,3)(0,0,0)[0] intercept   : AIC=4084.982, Time=0.17 sec\n"
     ]
    },
    {
     "name": "stderr",
     "output_type": "stream",
     "text": [
      "D:\\Programy\\anaconda\\lib\\site-packages\\statsmodels\\base\\model.py:568: ConvergenceWarning: Maximum Likelihood optimization failed to converge. Check mle_retvals\n",
      "  ConvergenceWarning)\n"
     ]
    },
    {
     "name": "stdout",
     "output_type": "stream",
     "text": [
      " ARIMA(0,1,3)(0,0,0)[0] intercept   : AIC=4084.818, Time=0.21 sec\n",
      " ARIMA(2,1,1)(0,0,0)[0] intercept   : AIC=4086.114, Time=0.18 sec"
     ]
    },
    {
     "name": "stderr",
     "output_type": "stream",
     "text": [
      "D:\\Programy\\anaconda\\lib\\site-packages\\statsmodels\\base\\model.py:568: ConvergenceWarning: Maximum Likelihood optimization failed to converge. Check mle_retvals\n",
      "  ConvergenceWarning)\n"
     ]
    },
    {
     "name": "stdout",
     "output_type": "stream",
     "text": [
      "\n",
      " ARIMA(2,1,3)(0,0,0)[0] intercept   : AIC=4080.875, Time=0.33 sec\n",
      " ARIMA(3,1,3)(0,0,0)[0] intercept   : AIC=4082.024, Time=0.30 sec\n"
     ]
    },
    {
     "name": "stderr",
     "output_type": "stream",
     "text": [
      "D:\\Programy\\anaconda\\lib\\site-packages\\statsmodels\\base\\model.py:568: ConvergenceWarning: Maximum Likelihood optimization failed to converge. Check mle_retvals\n",
      "  ConvergenceWarning)\n"
     ]
    },
    {
     "name": "stdout",
     "output_type": "stream",
     "text": [
      " ARIMA(2,1,4)(0,0,0)[0] intercept   : AIC=4082.308, Time=0.30 sec\n",
      " ARIMA(1,1,4)(0,0,0)[0] intercept   : AIC=4086.394, Time=0.19 sec\n",
      " ARIMA(3,1,2)(0,0,0)[0] intercept   : AIC=4086.059, Time=0.35 sec\n"
     ]
    },
    {
     "name": "stderr",
     "output_type": "stream",
     "text": [
      "D:\\Programy\\anaconda\\lib\\site-packages\\statsmodels\\base\\model.py:568: ConvergenceWarning: Maximum Likelihood optimization failed to converge. Check mle_retvals\n",
      "  ConvergenceWarning)\n"
     ]
    },
    {
     "name": "stdout",
     "output_type": "stream",
     "text": [
      " ARIMA(3,1,4)(0,0,0)[0] intercept   : AIC=4084.931, Time=0.41 sec\n"
     ]
    },
    {
     "name": "stderr",
     "output_type": "stream",
     "text": [
      "D:\\Programy\\anaconda\\lib\\site-packages\\statsmodels\\base\\model.py:568: ConvergenceWarning: Maximum Likelihood optimization failed to converge. Check mle_retvals\n",
      "  ConvergenceWarning)\n"
     ]
    },
    {
     "name": "stdout",
     "output_type": "stream",
     "text": [
      " ARIMA(2,1,3)(0,0,0)[0]             : AIC=4079.069, Time=0.24 sec\n",
      " ARIMA(1,1,3)(0,0,0)[0]             : AIC=4083.154, Time=0.11 sec\n",
      " ARIMA(2,1,2)(0,0,0)[0]             : AIC=4083.025, Time=0.10 sec\n"
     ]
    },
    {
     "name": "stderr",
     "output_type": "stream",
     "text": [
      "D:\\Programy\\anaconda\\lib\\site-packages\\statsmodels\\base\\model.py:568: ConvergenceWarning: Maximum Likelihood optimization failed to converge. Check mle_retvals\n",
      "  ConvergenceWarning)\n"
     ]
    },
    {
     "name": "stdout",
     "output_type": "stream",
     "text": [
      " ARIMA(3,1,3)(0,0,0)[0]             : AIC=4080.251, Time=0.26 sec\n"
     ]
    },
    {
     "name": "stderr",
     "output_type": "stream",
     "text": [
      "D:\\Programy\\anaconda\\lib\\site-packages\\statsmodels\\base\\model.py:568: ConvergenceWarning: Maximum Likelihood optimization failed to converge. Check mle_retvals\n",
      "  ConvergenceWarning)\n"
     ]
    },
    {
     "name": "stdout",
     "output_type": "stream",
     "text": [
      " ARIMA(2,1,4)(0,0,0)[0]             : AIC=4080.542, Time=0.25 sec\n",
      " ARIMA(1,1,2)(0,0,0)[0]             : AIC=4081.373, Time=0.08 sec\n",
      " ARIMA(1,1,4)(0,0,0)[0]             : AIC=4084.566, Time=0.11 sec\n",
      " ARIMA(3,1,2)(0,0,0)[0]             : AIC=4084.243, Time=0.15 sec\n"
     ]
    },
    {
     "name": "stderr",
     "output_type": "stream",
     "text": [
      "D:\\Programy\\anaconda\\lib\\site-packages\\statsmodels\\base\\model.py:568: ConvergenceWarning: Maximum Likelihood optimization failed to converge. Check mle_retvals\n",
      "  ConvergenceWarning)\n",
      "D:\\Programy\\anaconda\\lib\\site-packages\\statsmodels\\tsa\\base\\tsa_model.py:579: ValueWarning: An unsupported index was provided and will be ignored when e.g. forecasting.\n",
      "  ' ignored when e.g. forecasting.', ValueWarning)\n",
      "D:\\Programy\\anaconda\\lib\\site-packages\\statsmodels\\tsa\\base\\tsa_model.py:579: ValueWarning: An unsupported index was provided and will be ignored when e.g. forecasting.\n",
      "  ' ignored when e.g. forecasting.', ValueWarning)\n"
     ]
    },
    {
     "name": "stdout",
     "output_type": "stream",
     "text": [
      " ARIMA(3,1,4)(0,0,0)[0]             : AIC=4083.018, Time=0.26 sec\n",
      "\n",
      "Best model:  ARIMA(2,1,3)(0,0,0)[0]          \n",
      "Total fit time: 4.535 seconds\n",
      "autoARIMA time: 0:00:04.550598\n",
      "(2, 1, 3)\n",
      "(0, 0, 0, 0)\n",
      "fit time = 0:00:00.158921\n",
      "##### Koniec dopasowania modelu dla godziny: 125\n",
      "#####\n",
      "##### startuje dopasowanie modelu dla godziny: 126\n",
      "Performing stepwise search to minimize aic\n",
      " ARIMA(2,1,2)(0,0,0)[0] intercept   : AIC=4295.873, Time=0.19 sec\n",
      " ARIMA(0,1,0)(0,0,0)[0] intercept   : AIC=4349.302, Time=0.02 sec\n",
      " ARIMA(1,1,0)(0,0,0)[0] intercept   : AIC=4325.173, Time=0.04 sec\n",
      " ARIMA(0,1,1)(0,0,0)[0] intercept   : AIC=4300.234, Time=0.05 sec\n",
      " ARIMA(0,1,0)(0,0,0)[0]             : AIC=4347.310, Time=0.01 sec\n",
      " ARIMA(1,1,2)(0,0,0)[0] intercept   : AIC=4294.617, Time=0.16 sec\n",
      " ARIMA(0,1,2)(0,0,0)[0] intercept   : AIC=4296.342, Time=0.16 sec\n",
      " ARIMA(1,1,1)(0,0,0)[0] intercept   : AIC=4298.796, Time=0.07 sec\n",
      " ARIMA(1,1,3)(0,0,0)[0] intercept   : AIC=4295.561, Time=0.20 sec\n",
      " ARIMA(0,1,3)(0,0,0)[0] intercept   : AIC=4293.603, Time=0.09 sec\n",
      " ARIMA(0,1,4)(0,0,0)[0] intercept   : AIC=4295.559, Time=0.09 sec\n"
     ]
    },
    {
     "name": "stderr",
     "output_type": "stream",
     "text": [
      "D:\\Programy\\anaconda\\lib\\site-packages\\statsmodels\\base\\model.py:568: ConvergenceWarning: Maximum Likelihood optimization failed to converge. Check mle_retvals\n",
      "  ConvergenceWarning)\n"
     ]
    },
    {
     "name": "stdout",
     "output_type": "stream",
     "text": [
      " ARIMA(1,1,4)(0,0,0)[0] intercept   : AIC=4297.422, Time=0.34 sec\n",
      " ARIMA(0,1,3)(0,0,0)[0]             : AIC=4291.721, Time=0.06 sec\n",
      " ARIMA(0,1,2)(0,0,0)[0]             : AIC=4294.857, Time=0.05 sec\n",
      " ARIMA(1,1,3)(0,0,0)[0]             : AIC=4293.327, Time=0.16 sec\n",
      " ARIMA(0,1,4)(0,0,0)[0]             : AIC=4293.677, Time=0.11 sec\n",
      " ARIMA(1,1,2)(0,0,0)[0]             : AIC=4292.975, Time=0.10 sec\n",
      " ARIMA(1,1,4)(0,0,0)[0]             : AIC=4295.080, Time=0.30 sec\n",
      "\n",
      "Best model:  ARIMA(0,1,3)(0,0,0)[0]          \n",
      "Total fit time: 2.206 seconds\n",
      "autoARIMA time: 0:00:02.214386\n",
      "(0, 1, 3)\n",
      "(0, 0, 0, 0)\n",
      "fit time = 0:00:00.041292\n",
      "##### Koniec dopasowania modelu dla godziny: 126\n",
      "#####\n",
      "##### startuje dopasowanie modelu dla godziny: 127\n",
      "Performing stepwise search to minimize aic\n"
     ]
    },
    {
     "name": "stderr",
     "output_type": "stream",
     "text": [
      "D:\\Programy\\anaconda\\lib\\site-packages\\statsmodels\\tsa\\base\\tsa_model.py:579: ValueWarning: An unsupported index was provided and will be ignored when e.g. forecasting.\n",
      "  ' ignored when e.g. forecasting.', ValueWarning)\n",
      "D:\\Programy\\anaconda\\lib\\site-packages\\statsmodels\\tsa\\base\\tsa_model.py:579: ValueWarning: An unsupported index was provided and will be ignored when e.g. forecasting.\n",
      "  ' ignored when e.g. forecasting.', ValueWarning)\n"
     ]
    },
    {
     "name": "stdout",
     "output_type": "stream",
     "text": [
      " ARIMA(2,1,2)(0,0,0)[0] intercept   : AIC=4555.739, Time=0.20 sec\n",
      " ARIMA(0,1,0)(0,0,0)[0] intercept   : AIC=4606.160, Time=0.03 sec\n",
      " ARIMA(1,1,0)(0,0,0)[0] intercept   : AIC=4583.857, Time=0.08 sec\n",
      " ARIMA(0,1,1)(0,0,0)[0] intercept   : AIC=4562.705, Time=0.05 sec\n",
      " ARIMA(0,1,0)(0,0,0)[0]             : AIC=4604.169, Time=0.02 sec\n",
      " ARIMA(1,1,2)(0,0,0)[0] intercept   : AIC=4553.841, Time=0.10 sec\n",
      " ARIMA(0,1,2)(0,0,0)[0] intercept   : AIC=4552.205, Time=0.06 sec\n",
      " ARIMA(0,1,3)(0,0,0)[0] intercept   : AIC=4553.703, Time=0.07 sec\n",
      " ARIMA(1,1,1)(0,0,0)[0] intercept   : AIC=4551.982, Time=0.18 sec\n",
      " ARIMA(2,1,1)(0,0,0)[0] intercept   : AIC=4553.629, Time=0.09 sec\n",
      " ARIMA(2,1,0)(0,0,0)[0] intercept   : AIC=4572.261, Time=0.06 sec\n",
      " ARIMA(1,1,1)(0,0,0)[0]             : AIC=4550.620, Time=0.04 sec\n",
      " ARIMA(0,1,1)(0,0,0)[0]             : AIC=4561.021, Time=0.04 sec\n",
      " ARIMA(1,1,0)(0,0,0)[0]             : AIC=4581.899, Time=0.03 sec\n",
      " ARIMA(2,1,1)(0,0,0)[0]             : AIC=4552.012, Time=0.05 sec\n",
      " ARIMA(1,1,2)(0,0,0)[0]             : AIC=4552.064, Time=0.09 sec\n",
      " ARIMA(0,1,2)(0,0,0)[0]             : AIC=4550.608, Time=0.02 sec\n",
      " ARIMA(0,1,3)(0,0,0)[0]             : AIC=4551.776, Time=0.06 sec\n"
     ]
    },
    {
     "name": "stderr",
     "output_type": "stream",
     "text": [
      "D:\\Programy\\anaconda\\lib\\site-packages\\statsmodels\\tsa\\statespace\\sarimax.py:966: UserWarning: Non-stationary starting autoregressive parameters found. Using zeros as starting parameters.\n",
      "  warn('Non-stationary starting autoregressive parameters'\n",
      "D:\\Programy\\anaconda\\lib\\site-packages\\statsmodels\\tsa\\statespace\\sarimax.py:978: UserWarning: Non-invertible starting MA parameters found. Using zeros as starting parameters.\n",
      "  warn('Non-invertible starting MA parameters found.'\n",
      "D:\\Programy\\anaconda\\lib\\site-packages\\statsmodels\\base\\model.py:568: ConvergenceWarning: Maximum Likelihood optimization failed to converge. Check mle_retvals\n",
      "  ConvergenceWarning)\n",
      "D:\\Programy\\anaconda\\lib\\site-packages\\statsmodels\\tsa\\base\\tsa_model.py:579: ValueWarning: An unsupported index was provided and will be ignored when e.g. forecasting.\n",
      "  ' ignored when e.g. forecasting.', ValueWarning)\n",
      "D:\\Programy\\anaconda\\lib\\site-packages\\statsmodels\\tsa\\base\\tsa_model.py:579: ValueWarning: An unsupported index was provided and will be ignored when e.g. forecasting.\n",
      "  ' ignored when e.g. forecasting.', ValueWarning)\n"
     ]
    },
    {
     "name": "stdout",
     "output_type": "stream",
     "text": [
      " ARIMA(1,1,3)(0,0,0)[0]             : AIC=4553.058, Time=0.17 sec\n",
      "\n",
      "Best model:  ARIMA(0,1,2)(0,0,0)[0]          \n",
      "Total fit time: 1.452 seconds\n",
      "autoARIMA time: 0:00:01.455012\n",
      "(0, 1, 2)\n",
      "(0, 0, 0, 0)\n",
      "fit time = 0:00:00.056849\n",
      "##### Koniec dopasowania modelu dla godziny: 127\n",
      "#####\n",
      "##### startuje dopasowanie modelu dla godziny: 128\n",
      "Performing stepwise search to minimize aic\n"
     ]
    },
    {
     "name": "stderr",
     "output_type": "stream",
     "text": [
      "D:\\Programy\\anaconda\\lib\\site-packages\\statsmodels\\base\\model.py:568: ConvergenceWarning: Maximum Likelihood optimization failed to converge. Check mle_retvals\n",
      "  ConvergenceWarning)\n"
     ]
    },
    {
     "name": "stdout",
     "output_type": "stream",
     "text": [
      " ARIMA(2,1,2)(0,0,0)[0] intercept   : AIC=4558.759, Time=0.23 sec\n",
      " ARIMA(0,1,0)(0,0,0)[0] intercept   : AIC=4617.196, Time=0.02 sec\n",
      " ARIMA(1,1,0)(0,0,0)[0] intercept   : AIC=4590.575, Time=0.03 sec\n",
      " ARIMA(0,1,1)(0,0,0)[0] intercept   : AIC=4565.477, Time=0.03 sec\n",
      " ARIMA(0,1,0)(0,0,0)[0]             : AIC=4615.204, Time=0.02 sec\n"
     ]
    },
    {
     "name": "stderr",
     "output_type": "stream",
     "text": [
      "D:\\Programy\\anaconda\\lib\\site-packages\\statsmodels\\base\\model.py:568: ConvergenceWarning: Maximum Likelihood optimization failed to converge. Check mle_retvals\n",
      "  ConvergenceWarning)\n"
     ]
    },
    {
     "name": "stdout",
     "output_type": "stream",
     "text": [
      " ARIMA(1,1,2)(0,0,0)[0] intercept   : AIC=4556.518, Time=0.19 sec\n",
      " ARIMA(0,1,2)(0,0,0)[0] intercept   : AIC=4554.738, Time=0.16 sec\n"
     ]
    },
    {
     "name": "stderr",
     "output_type": "stream",
     "text": [
      "D:\\Programy\\anaconda\\lib\\site-packages\\statsmodels\\base\\model.py:568: ConvergenceWarning: Maximum Likelihood optimization failed to converge. Check mle_retvals\n",
      "  ConvergenceWarning)\n",
      "D:\\Programy\\anaconda\\lib\\site-packages\\statsmodels\\tsa\\statespace\\sarimax.py:978: UserWarning: Non-invertible starting MA parameters found. Using zeros as starting parameters.\n",
      "  warn('Non-invertible starting MA parameters found.'\n"
     ]
    },
    {
     "name": "stdout",
     "output_type": "stream",
     "text": [
      " ARIMA(0,1,3)(0,0,0)[0] intercept   : AIC=4556.158, Time=0.20 sec\n",
      " ARIMA(1,1,1)(0,0,0)[0] intercept   : AIC=4555.083, Time=0.08 sec\n"
     ]
    },
    {
     "name": "stderr",
     "output_type": "stream",
     "text": [
      "D:\\Programy\\anaconda\\lib\\site-packages\\statsmodels\\base\\model.py:568: ConvergenceWarning: Maximum Likelihood optimization failed to converge. Check mle_retvals\n",
      "  ConvergenceWarning)\n"
     ]
    },
    {
     "name": "stdout",
     "output_type": "stream",
     "text": [
      " ARIMA(1,1,3)(0,0,0)[0] intercept   : AIC=4558.484, Time=0.25 sec\n",
      " ARIMA(0,1,2)(0,0,0)[0]             : AIC=4553.474, Time=0.06 sec\n",
      " ARIMA(0,1,1)(0,0,0)[0]             : AIC=4563.939, Time=0.02 sec\n",
      " ARIMA(1,1,2)(0,0,0)[0]             : AIC=4555.097, Time=0.08 sec\n",
      " ARIMA(0,1,3)(0,0,0)[0]             : AIC=4554.950, Time=0.06 sec\n",
      " ARIMA(1,1,1)(0,0,0)[0]             : AIC=4553.767, Time=0.06 sec\n"
     ]
    },
    {
     "name": "stderr",
     "output_type": "stream",
     "text": [
      "D:\\Programy\\anaconda\\lib\\site-packages\\statsmodels\\tsa\\statespace\\sarimax.py:978: UserWarning: Non-invertible starting MA parameters found. Using zeros as starting parameters.\n",
      "  warn('Non-invertible starting MA parameters found.'\n",
      "D:\\Programy\\anaconda\\lib\\site-packages\\statsmodels\\base\\model.py:568: ConvergenceWarning: Maximum Likelihood optimization failed to converge. Check mle_retvals\n",
      "  ConvergenceWarning)\n",
      "D:\\Programy\\anaconda\\lib\\site-packages\\statsmodels\\tsa\\base\\tsa_model.py:579: ValueWarning: An unsupported index was provided and will be ignored when e.g. forecasting.\n",
      "  ' ignored when e.g. forecasting.', ValueWarning)\n",
      "D:\\Programy\\anaconda\\lib\\site-packages\\statsmodels\\tsa\\base\\tsa_model.py:579: ValueWarning: An unsupported index was provided and will be ignored when e.g. forecasting.\n",
      "  ' ignored when e.g. forecasting.', ValueWarning)\n"
     ]
    },
    {
     "name": "stdout",
     "output_type": "stream",
     "text": [
      " ARIMA(1,1,3)(0,0,0)[0]             : AIC=4556.913, Time=0.18 sec\n",
      "\n",
      "Best model:  ARIMA(0,1,2)(0,0,0)[0]          \n",
      "Total fit time: 1.686 seconds\n",
      "autoARIMA time: 0:00:01.689538\n",
      "(0, 1, 2)\n",
      "(0, 0, 0, 0)\n",
      "fit time = 0:00:00.040987\n",
      "##### Koniec dopasowania modelu dla godziny: 128\n",
      "#####\n",
      "##### startuje dopasowanie modelu dla godziny: 129\n",
      "Performing stepwise search to minimize aic\n"
     ]
    },
    {
     "name": "stderr",
     "output_type": "stream",
     "text": [
      "D:\\Programy\\anaconda\\lib\\site-packages\\statsmodels\\base\\model.py:568: ConvergenceWarning: Maximum Likelihood optimization failed to converge. Check mle_retvals\n",
      "  ConvergenceWarning)\n"
     ]
    },
    {
     "name": "stdout",
     "output_type": "stream",
     "text": [
      " ARIMA(2,1,2)(0,0,0)[0] intercept   : AIC=inf, Time=0.21 sec\n",
      " ARIMA(0,1,0)(0,0,0)[0] intercept   : AIC=4692.006, Time=0.02 sec\n",
      " ARIMA(1,1,0)(0,0,0)[0] intercept   : AIC=4670.029, Time=0.05 sec\n",
      " ARIMA(0,1,1)(0,0,0)[0] intercept   : AIC=4640.332, Time=0.09 sec\n",
      " ARIMA(0,1,0)(0,0,0)[0]             : AIC=4690.012, Time=0.01 sec\n",
      " ARIMA(1,1,1)(0,0,0)[0] intercept   : AIC=4625.849, Time=0.15 sec\n",
      " ARIMA(2,1,1)(0,0,0)[0] intercept   : AIC=4626.496, Time=0.08 sec\n"
     ]
    },
    {
     "name": "stderr",
     "output_type": "stream",
     "text": [
      "D:\\Programy\\anaconda\\lib\\site-packages\\statsmodels\\base\\model.py:568: ConvergenceWarning: Maximum Likelihood optimization failed to converge. Check mle_retvals\n",
      "  ConvergenceWarning)\n"
     ]
    },
    {
     "name": "stdout",
     "output_type": "stream",
     "text": [
      " ARIMA(1,1,2)(0,0,0)[0] intercept   : AIC=4627.052, Time=0.21 sec\n",
      " ARIMA(0,1,2)(0,0,0)[0] intercept   : AIC=4625.569, Time=0.06 sec\n"
     ]
    },
    {
     "name": "stderr",
     "output_type": "stream",
     "text": [
      "D:\\Programy\\anaconda\\lib\\site-packages\\statsmodels\\base\\model.py:568: ConvergenceWarning: Maximum Likelihood optimization failed to converge. Check mle_retvals\n",
      "  ConvergenceWarning)\n"
     ]
    },
    {
     "name": "stdout",
     "output_type": "stream",
     "text": [
      " ARIMA(0,1,3)(0,0,0)[0] intercept   : AIC=4627.484, Time=0.22 sec\n"
     ]
    },
    {
     "name": "stderr",
     "output_type": "stream",
     "text": [
      "D:\\Programy\\anaconda\\lib\\site-packages\\statsmodels\\base\\model.py:568: ConvergenceWarning: Maximum Likelihood optimization failed to converge. Check mle_retvals\n",
      "  ConvergenceWarning)\n"
     ]
    },
    {
     "name": "stdout",
     "output_type": "stream",
     "text": [
      " ARIMA(1,1,3)(0,0,0)[0] intercept   : AIC=4630.087, Time=0.24 sec\n",
      " ARIMA(0,1,2)(0,0,0)[0]             : AIC=4623.998, Time=0.03 sec\n",
      " ARIMA(0,1,1)(0,0,0)[0]             : AIC=4638.874, Time=0.07 sec\n",
      " ARIMA(1,1,2)(0,0,0)[0]             : AIC=4625.828, Time=0.12 sec\n",
      " ARIMA(0,1,3)(0,0,0)[0]             : AIC=4626.773, Time=0.21 sec\n",
      " ARIMA(1,1,1)(0,0,0)[0]             : AIC=4624.892, Time=0.13 sec\n"
     ]
    },
    {
     "name": "stderr",
     "output_type": "stream",
     "text": [
      "D:\\Programy\\anaconda\\lib\\site-packages\\statsmodels\\base\\model.py:568: ConvergenceWarning: Maximum Likelihood optimization failed to converge. Check mle_retvals\n",
      "  ConvergenceWarning)\n",
      "D:\\Programy\\anaconda\\lib\\site-packages\\statsmodels\\tsa\\base\\tsa_model.py:579: ValueWarning: An unsupported index was provided and will be ignored when e.g. forecasting.\n",
      "  ' ignored when e.g. forecasting.', ValueWarning)\n",
      "D:\\Programy\\anaconda\\lib\\site-packages\\statsmodels\\tsa\\base\\tsa_model.py:579: ValueWarning: An unsupported index was provided and will be ignored when e.g. forecasting.\n",
      "  ' ignored when e.g. forecasting.', ValueWarning)\n"
     ]
    },
    {
     "name": "stdout",
     "output_type": "stream",
     "text": [
      " ARIMA(1,1,3)(0,0,0)[0]             : AIC=4628.756, Time=0.28 sec\n",
      "\n",
      "Best model:  ARIMA(0,1,2)(0,0,0)[0]          \n",
      "Total fit time: 2.212 seconds\n",
      "autoARIMA time: 0:00:02.211518\n",
      "(0, 1, 2)\n",
      "(0, 0, 0, 0)\n",
      "fit time = 0:00:00.046876\n",
      "##### Koniec dopasowania modelu dla godziny: 129\n",
      "#####\n",
      "##### startuje dopasowanie modelu dla godziny: 130\n",
      "Performing stepwise search to minimize aic\n"
     ]
    },
    {
     "name": "stderr",
     "output_type": "stream",
     "text": [
      "D:\\Programy\\anaconda\\lib\\site-packages\\statsmodels\\base\\model.py:568: ConvergenceWarning: Maximum Likelihood optimization failed to converge. Check mle_retvals\n",
      "  ConvergenceWarning)\n"
     ]
    },
    {
     "name": "stdout",
     "output_type": "stream",
     "text": [
      " ARIMA(2,1,2)(0,0,0)[0] intercept   : AIC=4543.472, Time=0.23 sec\n",
      " ARIMA(0,1,0)(0,0,0)[0] intercept   : AIC=4593.087, Time=0.02 sec\n",
      " ARIMA(1,1,0)(0,0,0)[0] intercept   : AIC=4584.927, Time=0.05 sec\n",
      " ARIMA(0,1,1)(0,0,0)[0] intercept   : AIC=4573.896, Time=0.06 sec\n",
      " ARIMA(0,1,0)(0,0,0)[0]             : AIC=4591.095, Time=0.02 sec\n"
     ]
    },
    {
     "name": "stderr",
     "output_type": "stream",
     "text": [
      "D:\\Programy\\anaconda\\lib\\site-packages\\statsmodels\\base\\model.py:568: ConvergenceWarning: Maximum Likelihood optimization failed to converge. Check mle_retvals\n",
      "  ConvergenceWarning)\n"
     ]
    },
    {
     "name": "stdout",
     "output_type": "stream",
     "text": [
      " ARIMA(1,1,2)(0,0,0)[0] intercept   : AIC=4542.765, Time=0.21 sec\n",
      " ARIMA(0,1,2)(0,0,0)[0] intercept   : AIC=4541.501, Time=0.15 sec\n"
     ]
    },
    {
     "name": "stderr",
     "output_type": "stream",
     "text": [
      "D:\\Programy\\anaconda\\lib\\site-packages\\statsmodels\\base\\model.py:568: ConvergenceWarning: Maximum Likelihood optimization failed to converge. Check mle_retvals\n",
      "  ConvergenceWarning)\n",
      "D:\\Programy\\anaconda\\lib\\site-packages\\statsmodels\\base\\model.py:568: ConvergenceWarning: Maximum Likelihood optimization failed to converge. Check mle_retvals\n",
      "  ConvergenceWarning)\n"
     ]
    },
    {
     "name": "stdout",
     "output_type": "stream",
     "text": [
      " ARIMA(0,1,3)(0,0,0)[0] intercept   : AIC=4543.074, Time=0.22 sec\n",
      " ARIMA(1,1,1)(0,0,0)[0] intercept   : AIC=4544.704, Time=0.19 sec\n"
     ]
    },
    {
     "name": "stderr",
     "output_type": "stream",
     "text": [
      "D:\\Programy\\anaconda\\lib\\site-packages\\statsmodels\\base\\model.py:568: ConvergenceWarning: Maximum Likelihood optimization failed to converge. Check mle_retvals\n",
      "  ConvergenceWarning)\n"
     ]
    },
    {
     "name": "stdout",
     "output_type": "stream",
     "text": [
      " ARIMA(1,1,3)(0,0,0)[0] intercept   : AIC=4545.167, Time=0.24 sec\n",
      " ARIMA(0,1,2)(0,0,0)[0]             : AIC=4540.603, Time=0.05 sec\n",
      " ARIMA(0,1,1)(0,0,0)[0]             : AIC=4572.074, Time=0.03 sec\n",
      " ARIMA(1,1,2)(0,0,0)[0]             : AIC=4542.060, Time=0.08 sec\n",
      " ARIMA(0,1,3)(0,0,0)[0]             : AIC=4542.262, Time=0.07 sec\n",
      " ARIMA(1,1,1)(0,0,0)[0]             : AIC=4543.758, Time=0.11 sec\n"
     ]
    },
    {
     "name": "stderr",
     "output_type": "stream",
     "text": [
      "D:\\Programy\\anaconda\\lib\\site-packages\\statsmodels\\base\\model.py:568: ConvergenceWarning: Maximum Likelihood optimization failed to converge. Check mle_retvals\n",
      "  ConvergenceWarning)\n"
     ]
    },
    {
     "name": "stdout",
     "output_type": "stream",
     "text": [
      " ARIMA(1,1,3)(0,0,0)[0]             : AIC=4543.985, Time=0.15 sec\n",
      "\n",
      "Best model:  ARIMA(0,1,2)(0,0,0)[0]          \n",
      "Total fit time: 1.887 seconds\n",
      "autoARIMA time: 0:00:01.886995\n",
      "(0, 1, 2)\n",
      "(0, 0, 0, 0)\n",
      "fit time = 0:00:00.052719\n",
      "##### Koniec dopasowania modelu dla godziny: 130\n",
      "#####\n",
      "##### startuje dopasowanie modelu dla godziny: 131\n",
      "Performing stepwise search to minimize aic\n"
     ]
    },
    {
     "name": "stderr",
     "output_type": "stream",
     "text": [
      "D:\\Programy\\anaconda\\lib\\site-packages\\statsmodels\\tsa\\base\\tsa_model.py:579: ValueWarning: An unsupported index was provided and will be ignored when e.g. forecasting.\n",
      "  ' ignored when e.g. forecasting.', ValueWarning)\n",
      "D:\\Programy\\anaconda\\lib\\site-packages\\statsmodels\\tsa\\base\\tsa_model.py:579: ValueWarning: An unsupported index was provided and will be ignored when e.g. forecasting.\n",
      "  ' ignored when e.g. forecasting.', ValueWarning)\n"
     ]
    },
    {
     "name": "stdout",
     "output_type": "stream",
     "text": [
      " ARIMA(2,1,2)(0,0,0)[0] intercept   : AIC=4356.138, Time=0.18 sec\n",
      " ARIMA(0,1,0)(0,0,0)[0] intercept   : AIC=4408.467, Time=0.00 sec\n",
      " ARIMA(1,1,0)(0,0,0)[0] intercept   : AIC=4386.265, Time=0.07 sec\n",
      " ARIMA(0,1,1)(0,0,0)[0] intercept   : AIC=4368.387, Time=0.05 sec\n",
      " ARIMA(0,1,0)(0,0,0)[0]             : AIC=4406.471, Time=0.00 sec\n",
      " ARIMA(1,1,2)(0,0,0)[0] intercept   : AIC=4357.493, Time=0.19 sec\n",
      " ARIMA(2,1,1)(0,0,0)[0] intercept   : AIC=4357.296, Time=0.09 sec\n"
     ]
    },
    {
     "name": "stderr",
     "output_type": "stream",
     "text": [
      "D:\\Programy\\anaconda\\lib\\site-packages\\statsmodels\\base\\model.py:568: ConvergenceWarning: Maximum Likelihood optimization failed to converge. Check mle_retvals\n",
      "  ConvergenceWarning)\n"
     ]
    },
    {
     "name": "stdout",
     "output_type": "stream",
     "text": [
      " ARIMA(3,1,2)(0,0,0)[0] intercept   : AIC=4358.212, Time=0.28 sec\n"
     ]
    },
    {
     "name": "stderr",
     "output_type": "stream",
     "text": [
      "D:\\Programy\\anaconda\\lib\\site-packages\\statsmodels\\base\\model.py:568: ConvergenceWarning: Maximum Likelihood optimization failed to converge. Check mle_retvals\n",
      "  ConvergenceWarning)\n"
     ]
    },
    {
     "name": "stdout",
     "output_type": "stream",
     "text": [
      " ARIMA(2,1,3)(0,0,0)[0] intercept   : AIC=4358.188, Time=0.33 sec\n",
      " ARIMA(1,1,1)(0,0,0)[0] intercept   : AIC=4355.534, Time=0.09 sec\n"
     ]
    },
    {
     "name": "stderr",
     "output_type": "stream",
     "text": [
      "D:\\Programy\\anaconda\\lib\\site-packages\\statsmodels\\base\\model.py:568: ConvergenceWarning: Maximum Likelihood optimization failed to converge. Check mle_retvals\n",
      "  ConvergenceWarning)\n"
     ]
    },
    {
     "name": "stdout",
     "output_type": "stream",
     "text": [
      " ARIMA(0,1,2)(0,0,0)[0] intercept   : AIC=4355.540, Time=0.20 sec\n",
      " ARIMA(2,1,0)(0,0,0)[0] intercept   : AIC=4373.493, Time=0.06 sec\n",
      " ARIMA(1,1,1)(0,0,0)[0]             : AIC=4354.344, Time=0.05 sec\n",
      " ARIMA(0,1,1)(0,0,0)[0]             : AIC=4366.651, Time=0.03 sec\n",
      " ARIMA(1,1,0)(0,0,0)[0]             : AIC=4384.287, Time=0.03 sec\n",
      " ARIMA(2,1,1)(0,0,0)[0]             : AIC=4356.069, Time=0.05 sec\n",
      " ARIMA(1,1,2)(0,0,0)[0]             : AIC=4355.965, Time=0.12 sec\n",
      " ARIMA(0,1,2)(0,0,0)[0]             : AIC=4354.265, Time=0.06 sec\n",
      " ARIMA(0,1,3)(0,0,0)[0]             : AIC=4356.182, Time=0.08 sec\n",
      " ARIMA(1,1,3)(0,0,0)[0]             : AIC=4357.936, Time=0.13 sec\n",
      "\n",
      "Best model:  ARIMA(0,1,2)(0,0,0)[0]          \n",
      "Total fit time: 2.142 seconds\n",
      "autoARIMA time: 0:00:02.151113\n",
      "(0, 1, 2)\n",
      "(0, 0, 0, 0)\n",
      "fit time = 0:00:00.119607\n",
      "##### Koniec dopasowania modelu dla godziny: 131\n",
      "#####\n",
      "##### startuje dopasowanie modelu dla godziny: 132\n",
      "Performing stepwise search to minimize aic\n"
     ]
    },
    {
     "name": "stderr",
     "output_type": "stream",
     "text": [
      "D:\\Programy\\anaconda\\lib\\site-packages\\statsmodels\\tsa\\base\\tsa_model.py:579: ValueWarning: An unsupported index was provided and will be ignored when e.g. forecasting.\n",
      "  ' ignored when e.g. forecasting.', ValueWarning)\n",
      "D:\\Programy\\anaconda\\lib\\site-packages\\statsmodels\\tsa\\base\\tsa_model.py:579: ValueWarning: An unsupported index was provided and will be ignored when e.g. forecasting.\n",
      "  ' ignored when e.g. forecasting.', ValueWarning)\n"
     ]
    },
    {
     "name": "stdout",
     "output_type": "stream",
     "text": [
      " ARIMA(2,1,2)(0,0,0)[0] intercept   : AIC=4249.242, Time=0.19 sec\n",
      " ARIMA(0,1,0)(0,0,0)[0] intercept   : AIC=4311.546, Time=0.02 sec\n",
      " ARIMA(1,1,0)(0,0,0)[0] intercept   : AIC=4290.051, Time=0.05 sec\n",
      " ARIMA(0,1,1)(0,0,0)[0] intercept   : AIC=4260.546, Time=0.10 sec\n",
      " ARIMA(0,1,0)(0,0,0)[0]             : AIC=4309.549, Time=0.02 sec\n",
      " ARIMA(1,1,2)(0,0,0)[0] intercept   : AIC=4247.308, Time=0.13 sec\n",
      " ARIMA(0,1,2)(0,0,0)[0] intercept   : AIC=4252.480, Time=0.16 sec\n"
     ]
    },
    {
     "name": "stderr",
     "output_type": "stream",
     "text": [
      "D:\\Programy\\anaconda\\lib\\site-packages\\statsmodels\\base\\model.py:568: ConvergenceWarning: Maximum Likelihood optimization failed to converge. Check mle_retvals\n",
      "  ConvergenceWarning)\n",
      "D:\\Programy\\anaconda\\lib\\site-packages\\statsmodels\\base\\model.py:568: ConvergenceWarning: Maximum Likelihood optimization failed to converge. Check mle_retvals\n",
      "  ConvergenceWarning)\n"
     ]
    },
    {
     "name": "stdout",
     "output_type": "stream",
     "text": [
      " ARIMA(1,1,1)(0,0,0)[0] intercept   : AIC=4256.459, Time=0.17 sec\n"
     ]
    },
    {
     "name": "stderr",
     "output_type": "stream",
     "text": [
      "D:\\Programy\\anaconda\\lib\\site-packages\\statsmodels\\base\\model.py:568: ConvergenceWarning: Maximum Likelihood optimization failed to converge. Check mle_retvals\n",
      "  ConvergenceWarning)\n"
     ]
    },
    {
     "name": "stdout",
     "output_type": "stream",
     "text": [
      " ARIMA(1,1,3)(0,0,0)[0] intercept   : AIC=4249.110, Time=0.24 sec\n"
     ]
    },
    {
     "name": "stderr",
     "output_type": "stream",
     "text": [
      "D:\\Programy\\anaconda\\lib\\site-packages\\statsmodels\\base\\model.py:568: ConvergenceWarning: Maximum Likelihood optimization failed to converge. Check mle_retvals\n",
      "  ConvergenceWarning)\n"
     ]
    },
    {
     "name": "stdout",
     "output_type": "stream",
     "text": [
      " ARIMA(0,1,3)(0,0,0)[0] intercept   : AIC=4247.666, Time=0.22 sec\n",
      " ARIMA(2,1,1)(0,0,0)[0] intercept   : AIC=4250.733, Time=0.09 sec\n"
     ]
    },
    {
     "name": "stderr",
     "output_type": "stream",
     "text": [
      "D:\\Programy\\anaconda\\lib\\site-packages\\statsmodels\\base\\model.py:568: ConvergenceWarning: Maximum Likelihood optimization failed to converge. Check mle_retvals\n",
      "  ConvergenceWarning)\n"
     ]
    },
    {
     "name": "stdout",
     "output_type": "stream",
     "text": [
      " ARIMA(2,1,3)(0,0,0)[0] intercept   : AIC=4250.605, Time=0.31 sec\n",
      " ARIMA(1,1,2)(0,0,0)[0]             : AIC=4245.609, Time=0.08 sec\n",
      " ARIMA(0,1,2)(0,0,0)[0]             : AIC=4251.033, Time=0.03 sec\n",
      " ARIMA(1,1,1)(0,0,0)[0]             : AIC=4254.722, Time=0.12 sec\n",
      " ARIMA(2,1,2)(0,0,0)[0]             : AIC=4247.534, Time=0.12 sec\n",
      " ARIMA(1,1,3)(0,0,0)[0]             : AIC=4247.399, Time=0.14 sec\n",
      " ARIMA(0,1,1)(0,0,0)[0]             : AIC=4258.773, Time=0.05 sec\n",
      " ARIMA(0,1,3)(0,0,0)[0]             : AIC=4245.925, Time=0.06 sec\n",
      " ARIMA(2,1,1)(0,0,0)[0]             : AIC=4248.984, Time=0.05 sec\n",
      " ARIMA(2,1,3)(0,0,0)[0]             : AIC=4248.356, Time=0.20 sec\n",
      "\n",
      "Best model:  ARIMA(1,1,2)(0,0,0)[0]          \n",
      "Total fit time: 2.573 seconds\n",
      "autoARIMA time: 0:00:02.572778\n",
      "(1, 1, 2)\n",
      "(0, 0, 0, 0)\n",
      "fit time = 0:00:00.071525\n",
      "##### Koniec dopasowania modelu dla godziny: 132\n",
      "#####\n",
      "##### startuje dopasowanie modelu dla godziny: 133\n",
      "Performing stepwise search to minimize aic\n"
     ]
    },
    {
     "name": "stderr",
     "output_type": "stream",
     "text": [
      "D:\\Programy\\anaconda\\lib\\site-packages\\statsmodels\\tsa\\base\\tsa_model.py:579: ValueWarning: An unsupported index was provided and will be ignored when e.g. forecasting.\n",
      "  ' ignored when e.g. forecasting.', ValueWarning)\n",
      "D:\\Programy\\anaconda\\lib\\site-packages\\statsmodels\\tsa\\base\\tsa_model.py:579: ValueWarning: An unsupported index was provided and will be ignored when e.g. forecasting.\n",
      "  ' ignored when e.g. forecasting.', ValueWarning)\n"
     ]
    },
    {
     "name": "stdout",
     "output_type": "stream",
     "text": [
      " ARIMA(2,1,2)(0,0,0)[0] intercept   : AIC=4651.393, Time=0.19 sec\n",
      " ARIMA(0,1,0)(0,0,0)[0] intercept   : AIC=4733.252, Time=0.02 sec\n",
      " ARIMA(1,1,0)(0,0,0)[0] intercept   : AIC=4699.358, Time=0.07 sec\n",
      " ARIMA(0,1,1)(0,0,0)[0] intercept   : AIC=4654.362, Time=0.04 sec\n",
      " ARIMA(0,1,0)(0,0,0)[0]             : AIC=4731.258, Time=0.02 sec\n",
      " ARIMA(1,1,2)(0,0,0)[0] intercept   : AIC=4649.356, Time=0.10 sec\n",
      " ARIMA(0,1,2)(0,0,0)[0] intercept   : AIC=4648.801, Time=0.17 sec\n"
     ]
    },
    {
     "name": "stderr",
     "output_type": "stream",
     "text": [
      "D:\\Programy\\anaconda\\lib\\site-packages\\statsmodels\\base\\model.py:568: ConvergenceWarning: Maximum Likelihood optimization failed to converge. Check mle_retvals\n",
      "  ConvergenceWarning)\n"
     ]
    },
    {
     "name": "stdout",
     "output_type": "stream",
     "text": [
      " ARIMA(0,1,3)(0,0,0)[0] intercept   : AIC=4650.279, Time=0.07 sec\n",
      " ARIMA(1,1,1)(0,0,0)[0] intercept   : AIC=4649.883, Time=0.16 sec\n"
     ]
    },
    {
     "name": "stderr",
     "output_type": "stream",
     "text": [
      "D:\\Programy\\anaconda\\lib\\site-packages\\statsmodels\\base\\model.py:568: ConvergenceWarning: Maximum Likelihood optimization failed to converge. Check mle_retvals\n",
      "  ConvergenceWarning)\n",
      "D:\\Programy\\anaconda\\lib\\site-packages\\statsmodels\\base\\model.py:568: ConvergenceWarning: Maximum Likelihood optimization failed to converge. Check mle_retvals\n",
      "  ConvergenceWarning)\n"
     ]
    },
    {
     "name": "stdout",
     "output_type": "stream",
     "text": [
      " ARIMA(1,1,3)(0,0,0)[0] intercept   : AIC=4651.302, Time=0.23 sec\n",
      " ARIMA(0,1,2)(0,0,0)[0]             : AIC=4647.865, Time=0.03 sec\n",
      " ARIMA(0,1,1)(0,0,0)[0]             : AIC=4652.983, Time=0.03 sec\n",
      " ARIMA(1,1,2)(0,0,0)[0]             : AIC=4648.231, Time=0.08 sec\n",
      " ARIMA(0,1,3)(0,0,0)[0]             : AIC=4648.821, Time=0.07 sec\n",
      " ARIMA(1,1,1)(0,0,0)[0]             : AIC=4648.896, Time=0.04 sec\n",
      " ARIMA(1,1,3)(0,0,0)[0]             : AIC=4650.204, Time=0.16 sec"
     ]
    },
    {
     "name": "stderr",
     "output_type": "stream",
     "text": [
      "D:\\Programy\\anaconda\\lib\\site-packages\\statsmodels\\base\\model.py:568: ConvergenceWarning: Maximum Likelihood optimization failed to converge. Check mle_retvals\n",
      "  ConvergenceWarning)\n",
      "D:\\Programy\\anaconda\\lib\\site-packages\\statsmodels\\tsa\\base\\tsa_model.py:579: ValueWarning: An unsupported index was provided and will be ignored when e.g. forecasting.\n",
      "  ' ignored when e.g. forecasting.', ValueWarning)\n",
      "D:\\Programy\\anaconda\\lib\\site-packages\\statsmodels\\tsa\\base\\tsa_model.py:579: ValueWarning: An unsupported index was provided and will be ignored when e.g. forecasting.\n",
      "  ' ignored when e.g. forecasting.', ValueWarning)\n"
     ]
    },
    {
     "name": "stdout",
     "output_type": "stream",
     "text": [
      "\n",
      "\n",
      "Best model:  ARIMA(0,1,2)(0,0,0)[0]          \n",
      "Total fit time: 1.492 seconds\n",
      "autoARIMA time: 0:00:01.492310\n",
      "(0, 1, 2)\n",
      "(0, 0, 0, 0)\n",
      "fit time = 0:00:00.065942\n",
      "##### Koniec dopasowania modelu dla godziny: 133\n",
      "#####\n",
      "##### startuje dopasowanie modelu dla godziny: 134\n",
      "Performing stepwise search to minimize aic\n"
     ]
    },
    {
     "name": "stderr",
     "output_type": "stream",
     "text": [
      "D:\\Programy\\anaconda\\lib\\site-packages\\statsmodels\\base\\model.py:568: ConvergenceWarning: Maximum Likelihood optimization failed to converge. Check mle_retvals\n",
      "  ConvergenceWarning)\n"
     ]
    },
    {
     "name": "stdout",
     "output_type": "stream",
     "text": [
      " ARIMA(2,1,2)(0,0,0)[0] intercept   : AIC=4601.983, Time=0.24 sec\n",
      " ARIMA(0,1,0)(0,0,0)[0] intercept   : AIC=4658.558, Time=0.00 sec\n",
      " ARIMA(1,1,0)(0,0,0)[0] intercept   : AIC=4636.829, Time=0.05 sec\n",
      " ARIMA(0,1,1)(0,0,0)[0] intercept   : AIC=4614.806, Time=0.03 sec\n",
      " ARIMA(0,1,0)(0,0,0)[0]             : AIC=4656.567, Time=0.02 sec\n"
     ]
    },
    {
     "name": "stderr",
     "output_type": "stream",
     "text": [
      "D:\\Programy\\anaconda\\lib\\site-packages\\statsmodels\\base\\model.py:568: ConvergenceWarning: Maximum Likelihood optimization failed to converge. Check mle_retvals\n",
      "  ConvergenceWarning)\n"
     ]
    },
    {
     "name": "stdout",
     "output_type": "stream",
     "text": [
      " ARIMA(1,1,2)(0,0,0)[0] intercept   : AIC=4600.052, Time=0.21 sec\n",
      " ARIMA(0,1,2)(0,0,0)[0] intercept   : AIC=4599.283, Time=0.06 sec\n"
     ]
    },
    {
     "name": "stderr",
     "output_type": "stream",
     "text": [
      "D:\\Programy\\anaconda\\lib\\site-packages\\statsmodels\\base\\model.py:568: ConvergenceWarning: Maximum Likelihood optimization failed to converge. Check mle_retvals\n",
      "  ConvergenceWarning)\n",
      "D:\\Programy\\anaconda\\lib\\site-packages\\statsmodels\\base\\model.py:568: ConvergenceWarning: Maximum Likelihood optimization failed to converge. Check mle_retvals\n",
      "  ConvergenceWarning)\n"
     ]
    },
    {
     "name": "stdout",
     "output_type": "stream",
     "text": [
      " ARIMA(0,1,3)(0,0,0)[0] intercept   : AIC=4599.790, Time=0.22 sec\n",
      " ARIMA(1,1,1)(0,0,0)[0] intercept   : AIC=4598.502, Time=0.19 sec\n"
     ]
    },
    {
     "name": "stderr",
     "output_type": "stream",
     "text": [
      "D:\\Programy\\anaconda\\lib\\site-packages\\statsmodels\\base\\model.py:568: ConvergenceWarning: Maximum Likelihood optimization failed to converge. Check mle_retvals\n",
      "  ConvergenceWarning)\n"
     ]
    },
    {
     "name": "stdout",
     "output_type": "stream",
     "text": [
      " ARIMA(2,1,1)(0,0,0)[0] intercept   : AIC=4600.146, Time=0.22 sec\n",
      " ARIMA(2,1,0)(0,0,0)[0] intercept   : AIC=4624.214, Time=0.08 sec\n",
      " ARIMA(1,1,1)(0,0,0)[0]             : AIC=4597.516, Time=0.08 sec\n",
      " ARIMA(0,1,1)(0,0,0)[0]             : AIC=4613.200, Time=0.03 sec\n",
      " ARIMA(1,1,0)(0,0,0)[0]             : AIC=4634.874, Time=0.04 sec\n"
     ]
    },
    {
     "name": "stderr",
     "output_type": "stream",
     "text": [
      "D:\\Programy\\anaconda\\lib\\site-packages\\statsmodels\\base\\model.py:568: ConvergenceWarning: Maximum Likelihood optimization failed to converge. Check mle_retvals\n",
      "  ConvergenceWarning)\n"
     ]
    },
    {
     "name": "stdout",
     "output_type": "stream",
     "text": [
      " ARIMA(2,1,1)(0,0,0)[0]             : AIC=4598.821, Time=0.18 sec\n",
      " ARIMA(1,1,2)(0,0,0)[0]             : AIC=4598.843, Time=0.11 sec\n",
      " ARIMA(0,1,2)(0,0,0)[0]             : AIC=4597.908, Time=0.14 sec\n",
      " ARIMA(2,1,0)(0,0,0)[0]             : AIC=4622.294, Time=0.05 sec\n"
     ]
    },
    {
     "name": "stderr",
     "output_type": "stream",
     "text": [
      "D:\\Programy\\anaconda\\lib\\site-packages\\statsmodels\\base\\model.py:568: ConvergenceWarning: Maximum Likelihood optimization failed to converge. Check mle_retvals\n",
      "  ConvergenceWarning)\n",
      "D:\\Programy\\anaconda\\lib\\site-packages\\statsmodels\\tsa\\base\\tsa_model.py:579: ValueWarning: An unsupported index was provided and will be ignored when e.g. forecasting.\n",
      "  ' ignored when e.g. forecasting.', ValueWarning)\n",
      "D:\\Programy\\anaconda\\lib\\site-packages\\statsmodels\\tsa\\base\\tsa_model.py:579: ValueWarning: An unsupported index was provided and will be ignored when e.g. forecasting.\n",
      "  ' ignored when e.g. forecasting.', ValueWarning)\n"
     ]
    },
    {
     "name": "stdout",
     "output_type": "stream",
     "text": [
      " ARIMA(2,1,2)(0,0,0)[0]             : AIC=4600.931, Time=0.20 sec\n",
      "\n",
      "Best model:  ARIMA(1,1,1)(0,0,0)[0]          \n",
      "Total fit time: 2.155 seconds\n",
      "autoARIMA time: 0:00:02.161809\n",
      "(1, 1, 1)\n",
      "(0, 0, 0, 0)\n",
      "fit time = 0:00:00.067270\n",
      "##### Koniec dopasowania modelu dla godziny: 134\n",
      "#####\n",
      "##### startuje dopasowanie modelu dla godziny: 135\n",
      "Performing stepwise search to minimize aic\n"
     ]
    },
    {
     "name": "stderr",
     "output_type": "stream",
     "text": [
      "D:\\Programy\\anaconda\\lib\\site-packages\\statsmodels\\base\\model.py:568: ConvergenceWarning: Maximum Likelihood optimization failed to converge. Check mle_retvals\n",
      "  ConvergenceWarning)\n"
     ]
    },
    {
     "name": "stdout",
     "output_type": "stream",
     "text": [
      " ARIMA(2,1,2)(0,0,0)[0] intercept   : AIC=4513.351, Time=0.22 sec\n",
      " ARIMA(0,1,0)(0,0,0)[0] intercept   : AIC=4569.730, Time=0.01 sec\n",
      " ARIMA(1,1,0)(0,0,0)[0] intercept   : AIC=4538.906, Time=0.03 sec\n",
      " ARIMA(0,1,1)(0,0,0)[0] intercept   : AIC=4518.743, Time=0.09 sec\n",
      " ARIMA(0,1,0)(0,0,0)[0]             : AIC=4567.736, Time=0.02 sec\n"
     ]
    },
    {
     "name": "stderr",
     "output_type": "stream",
     "text": [
      "D:\\Programy\\anaconda\\lib\\site-packages\\statsmodels\\base\\model.py:568: ConvergenceWarning: Maximum Likelihood optimization failed to converge. Check mle_retvals\n",
      "  ConvergenceWarning)\n"
     ]
    },
    {
     "name": "stdout",
     "output_type": "stream",
     "text": [
      " ARIMA(1,1,2)(0,0,0)[0] intercept   : AIC=4511.588, Time=0.18 sec\n",
      " ARIMA(0,1,2)(0,0,0)[0] intercept   : AIC=4510.809, Time=0.06 sec\n"
     ]
    },
    {
     "name": "stderr",
     "output_type": "stream",
     "text": [
      "D:\\Programy\\anaconda\\lib\\site-packages\\statsmodels\\base\\model.py:568: ConvergenceWarning: Maximum Likelihood optimization failed to converge. Check mle_retvals\n",
      "  ConvergenceWarning)\n"
     ]
    },
    {
     "name": "stdout",
     "output_type": "stream",
     "text": [
      " ARIMA(0,1,3)(0,0,0)[0] intercept   : AIC=4511.098, Time=0.19 sec\n",
      " ARIMA(1,1,1)(0,0,0)[0] intercept   : AIC=4509.629, Time=0.10 sec\n",
      " ARIMA(2,1,1)(0,0,0)[0] intercept   : AIC=4511.621, Time=0.10 sec\n",
      " ARIMA(2,1,0)(0,0,0)[0] intercept   : AIC=4531.036, Time=0.15 sec\n",
      " ARIMA(1,1,1)(0,0,0)[0]             : AIC=4508.366, Time=0.05 sec\n",
      " ARIMA(0,1,1)(0,0,0)[0]             : AIC=4517.128, Time=0.03 sec\n",
      " ARIMA(1,1,0)(0,0,0)[0]             : AIC=4536.943, Time=0.03 sec\n",
      " ARIMA(2,1,1)(0,0,0)[0]             : AIC=4510.364, Time=0.09 sec\n",
      " ARIMA(1,1,2)(0,0,0)[0]             : AIC=4510.216, Time=0.08 sec\n",
      " ARIMA(0,1,2)(0,0,0)[0]             : AIC=4509.412, Time=0.04 sec\n",
      " ARIMA(2,1,0)(0,0,0)[0]             : AIC=4529.151, Time=0.09 sec\n",
      " ARIMA(2,1,2)(0,0,0)[0]             : AIC=4512.147, Time=0.07 sec\n",
      "\n",
      "Best model:  ARIMA(1,1,1)(0,0,0)[0]          \n",
      "Total fit time: 1.658 seconds\n",
      "autoARIMA time: 0:00:01.673549\n",
      "(1, 1, 1)\n",
      "(0, 0, 0, 0)\n",
      "fit time = 0:00:00.050077\n",
      "##### Koniec dopasowania modelu dla godziny: 135\n",
      "#####\n",
      "##### startuje dopasowanie modelu dla godziny: 136\n",
      "Performing stepwise search to minimize aic\n"
     ]
    },
    {
     "name": "stderr",
     "output_type": "stream",
     "text": [
      "D:\\Programy\\anaconda\\lib\\site-packages\\statsmodels\\tsa\\base\\tsa_model.py:579: ValueWarning: An unsupported index was provided and will be ignored when e.g. forecasting.\n",
      "  ' ignored when e.g. forecasting.', ValueWarning)\n",
      "D:\\Programy\\anaconda\\lib\\site-packages\\statsmodels\\tsa\\base\\tsa_model.py:579: ValueWarning: An unsupported index was provided and will be ignored when e.g. forecasting.\n",
      "  ' ignored when e.g. forecasting.', ValueWarning)\n",
      "D:\\Programy\\anaconda\\lib\\site-packages\\statsmodels\\tsa\\statespace\\sarimax.py:966: UserWarning: Non-stationary starting autoregressive parameters found. Using zeros as starting parameters.\n",
      "  warn('Non-stationary starting autoregressive parameters'\n",
      "D:\\Programy\\anaconda\\lib\\site-packages\\statsmodels\\tsa\\statespace\\sarimax.py:978: UserWarning: Non-invertible starting MA parameters found. Using zeros as starting parameters.\n",
      "  warn('Non-invertible starting MA parameters found.'\n"
     ]
    },
    {
     "name": "stdout",
     "output_type": "stream",
     "text": [
      " ARIMA(2,1,2)(0,0,0)[0] intercept   : AIC=4604.039, Time=0.21 sec\n",
      " ARIMA(0,1,0)(0,0,0)[0] intercept   : AIC=4663.857, Time=0.02 sec\n",
      " ARIMA(1,1,0)(0,0,0)[0] intercept   : AIC=4636.905, Time=0.06 sec\n",
      " ARIMA(0,1,1)(0,0,0)[0] intercept   : AIC=4609.158, Time=0.09 sec\n",
      " ARIMA(0,1,0)(0,0,0)[0]             : AIC=4661.864, Time=0.02 sec\n",
      " ARIMA(1,1,2)(0,0,0)[0] intercept   : AIC=4601.862, Time=0.19 sec"
     ]
    },
    {
     "name": "stderr",
     "output_type": "stream",
     "text": [
      "D:\\Programy\\anaconda\\lib\\site-packages\\statsmodels\\base\\model.py:568: ConvergenceWarning: Maximum Likelihood optimization failed to converge. Check mle_retvals\n",
      "  ConvergenceWarning)\n"
     ]
    },
    {
     "name": "stdout",
     "output_type": "stream",
     "text": [
      "\n",
      " ARIMA(0,1,2)(0,0,0)[0] intercept   : AIC=4600.009, Time=0.06 sec\n"
     ]
    },
    {
     "name": "stderr",
     "output_type": "stream",
     "text": [
      "D:\\Programy\\anaconda\\lib\\site-packages\\statsmodels\\base\\model.py:568: ConvergenceWarning: Maximum Likelihood optimization failed to converge. Check mle_retvals\n",
      "  ConvergenceWarning)\n"
     ]
    },
    {
     "name": "stdout",
     "output_type": "stream",
     "text": [
      " ARIMA(0,1,3)(0,0,0)[0] intercept   : AIC=4602.076, Time=0.22 sec\n",
      " ARIMA(1,1,1)(0,0,0)[0] intercept   : AIC=4599.806, Time=0.09 sec\n",
      " ARIMA(2,1,1)(0,0,0)[0] intercept   : AIC=4601.299, Time=0.10 sec\n",
      " ARIMA(2,1,0)(0,0,0)[0] intercept   : AIC=4623.787, Time=0.06 sec\n",
      " ARIMA(1,1,1)(0,0,0)[0]             : AIC=4598.605, Time=0.06 sec\n",
      " ARIMA(0,1,1)(0,0,0)[0]             : AIC=4607.533, Time=0.09 sec\n",
      " ARIMA(1,1,0)(0,0,0)[0]             : AIC=4634.938, Time=0.04 sec\n",
      " ARIMA(2,1,1)(0,0,0)[0]             : AIC=4600.023, Time=0.09 sec\n",
      " ARIMA(1,1,2)(0,0,0)[0]             : AIC=4600.394, Time=0.13 sec\n",
      " ARIMA(0,1,2)(0,0,0)[0]             : AIC=4598.557, Time=0.05 sec\n"
     ]
    },
    {
     "name": "stderr",
     "output_type": "stream",
     "text": [
      "D:\\Programy\\anaconda\\lib\\site-packages\\statsmodels\\base\\model.py:568: ConvergenceWarning: Maximum Likelihood optimization failed to converge. Check mle_retvals\n",
      "  ConvergenceWarning)\n"
     ]
    },
    {
     "name": "stdout",
     "output_type": "stream",
     "text": [
      " ARIMA(0,1,3)(0,0,0)[0]             : AIC=4600.064, Time=0.21 sec\n"
     ]
    },
    {
     "name": "stderr",
     "output_type": "stream",
     "text": [
      "D:\\Programy\\anaconda\\lib\\site-packages\\statsmodels\\base\\model.py:568: ConvergenceWarning: Maximum Likelihood optimization failed to converge. Check mle_retvals\n",
      "  ConvergenceWarning)\n",
      "D:\\Programy\\anaconda\\lib\\site-packages\\statsmodels\\tsa\\base\\tsa_model.py:579: ValueWarning: An unsupported index was provided and will be ignored when e.g. forecasting.\n",
      "  ' ignored when e.g. forecasting.', ValueWarning)\n",
      "D:\\Programy\\anaconda\\lib\\site-packages\\statsmodels\\tsa\\base\\tsa_model.py:579: ValueWarning: An unsupported index was provided and will be ignored when e.g. forecasting.\n",
      "  ' ignored when e.g. forecasting.', ValueWarning)\n"
     ]
    },
    {
     "name": "stdout",
     "output_type": "stream",
     "text": [
      " ARIMA(1,1,3)(0,0,0)[0]             : AIC=4603.206, Time=0.22 sec\n",
      "\n",
      "Best model:  ARIMA(0,1,2)(0,0,0)[0]          \n",
      "Total fit time: 1.996 seconds\n",
      "autoARIMA time: 0:00:02.005185\n",
      "(0, 1, 2)\n",
      "(0, 0, 0, 0)\n",
      "fit time = 0:00:00.053038\n",
      "##### Koniec dopasowania modelu dla godziny: 136\n",
      "#####\n",
      "##### startuje dopasowanie modelu dla godziny: 137\n",
      "Performing stepwise search to minimize aic\n",
      " ARIMA(2,1,2)(0,0,0)[0] intercept   : AIC=4503.572, Time=0.14 sec\n",
      " ARIMA(0,1,0)(0,0,0)[0] intercept   : AIC=4533.427, Time=0.02 sec\n",
      " ARIMA(1,1,0)(0,0,0)[0] intercept   : AIC=4523.899, Time=0.05 sec\n",
      " ARIMA(0,1,1)(0,0,0)[0] intercept   : AIC=4515.590, Time=0.04 sec\n",
      " ARIMA(0,1,0)(0,0,0)[0]             : AIC=4531.436, Time=0.00 sec\n",
      " ARIMA(1,1,2)(0,0,0)[0] intercept   : AIC=4503.541, Time=0.12 sec\n",
      " ARIMA(0,1,2)(0,0,0)[0] intercept   : AIC=4501.765, Time=0.07 sec\n",
      " ARIMA(0,1,3)(0,0,0)[0] intercept   : AIC=4503.693, Time=0.07 sec\n",
      " ARIMA(1,1,1)(0,0,0)[0] intercept   : AIC=4504.508, Time=0.10 sec\n",
      " ARIMA(1,1,3)(0,0,0)[0] intercept   : AIC=4504.345, Time=0.22 sec\n",
      " ARIMA(0,1,2)(0,0,0)[0]             : AIC=4500.113, Time=0.05 sec\n",
      " ARIMA(0,1,1)(0,0,0)[0]             : AIC=4513.705, Time=0.03 sec\n",
      " ARIMA(1,1,2)(0,0,0)[0]             : AIC=4501.842, Time=0.08 sec\n",
      " ARIMA(0,1,3)(0,0,0)[0]             : AIC=4502.028, Time=0.04 sec\n",
      " ARIMA(1,1,1)(0,0,0)[0]             : AIC=4502.907, Time=0.07 sec\n",
      " ARIMA(1,1,3)(0,0,0)[0]             : AIC=4502.624, Time=0.13 sec\n",
      "\n",
      "Best model:  ARIMA(0,1,2)(0,0,0)[0]          \n",
      "Total fit time: 1.233 seconds\n",
      "autoARIMA time: 0:00:01.237028\n",
      "(0, 1, 2)\n",
      "(0, 0, 0, 0)\n",
      "fit time = 0:00:00.042047\n",
      "##### Koniec dopasowania modelu dla godziny: 137\n",
      "#####\n",
      "##### startuje dopasowanie modelu dla godziny: 138\n",
      "Performing stepwise search to minimize aic\n"
     ]
    },
    {
     "name": "stderr",
     "output_type": "stream",
     "text": [
      "D:\\Programy\\anaconda\\lib\\site-packages\\statsmodels\\tsa\\base\\tsa_model.py:579: ValueWarning: An unsupported index was provided and will be ignored when e.g. forecasting.\n",
      "  ' ignored when e.g. forecasting.', ValueWarning)\n",
      "D:\\Programy\\anaconda\\lib\\site-packages\\statsmodels\\tsa\\base\\tsa_model.py:579: ValueWarning: An unsupported index was provided and will be ignored when e.g. forecasting.\n",
      "  ' ignored when e.g. forecasting.', ValueWarning)\n"
     ]
    },
    {
     "name": "stdout",
     "output_type": "stream",
     "text": [
      " ARIMA(2,1,2)(0,0,0)[0] intercept   : AIC=4326.381, Time=0.21 sec\n",
      " ARIMA(0,1,0)(0,0,0)[0] intercept   : AIC=4350.224, Time=0.02 sec\n",
      " ARIMA(1,1,0)(0,0,0)[0] intercept   : AIC=4331.256, Time=0.03 sec\n",
      " ARIMA(0,1,1)(0,0,0)[0] intercept   : AIC=4326.185, Time=0.12 sec\n",
      " ARIMA(0,1,0)(0,0,0)[0]             : AIC=4348.228, Time=0.00 sec\n",
      " ARIMA(1,1,1)(0,0,0)[0] intercept   : AIC=4328.101, Time=0.09 sec\n",
      " ARIMA(0,1,2)(0,0,0)[0] intercept   : AIC=4327.969, Time=0.06 sec\n",
      " ARIMA(1,1,2)(0,0,0)[0] intercept   : AIC=4327.111, Time=0.13 sec\n",
      " ARIMA(0,1,1)(0,0,0)[0]             : AIC=4324.258, Time=0.07 sec\n",
      " ARIMA(1,1,1)(0,0,0)[0]             : AIC=4326.176, Time=0.03 sec\n",
      " ARIMA(0,1,2)(0,0,0)[0]             : AIC=4326.048, Time=0.03 sec\n",
      " ARIMA(1,1,0)(0,0,0)[0]             : AIC=4329.273, Time=0.03 sec\n",
      " ARIMA(1,1,2)(0,0,0)[0]             : AIC=4325.179, Time=0.09 sec\n",
      "\n",
      "Best model:  ARIMA(0,1,1)(0,0,0)[0]          \n",
      "Total fit time: 0.908 seconds\n",
      "autoARIMA time: 0:00:00.912978\n",
      "(0, 1, 1)\n",
      "(0, 0, 0, 0)\n",
      "fit time = 0:00:00.061298\n",
      "##### Koniec dopasowania modelu dla godziny: 138\n",
      "#####\n",
      "##### startuje dopasowanie modelu dla godziny: 139\n",
      "Performing stepwise search to minimize aic\n"
     ]
    },
    {
     "name": "stderr",
     "output_type": "stream",
     "text": [
      "D:\\Programy\\anaconda\\lib\\site-packages\\statsmodels\\tsa\\base\\tsa_model.py:579: ValueWarning: An unsupported index was provided and will be ignored when e.g. forecasting.\n",
      "  ' ignored when e.g. forecasting.', ValueWarning)\n",
      "D:\\Programy\\anaconda\\lib\\site-packages\\statsmodels\\tsa\\base\\tsa_model.py:579: ValueWarning: An unsupported index was provided and will be ignored when e.g. forecasting.\n",
      "  ' ignored when e.g. forecasting.', ValueWarning)\n",
      "D:\\Programy\\anaconda\\lib\\site-packages\\statsmodels\\tsa\\statespace\\sarimax.py:978: UserWarning: Non-invertible starting MA parameters found. Using zeros as starting parameters.\n",
      "  warn('Non-invertible starting MA parameters found.'\n",
      "D:\\Programy\\anaconda\\lib\\site-packages\\statsmodels\\base\\model.py:568: ConvergenceWarning: Maximum Likelihood optimization failed to converge. Check mle_retvals\n",
      "  ConvergenceWarning)\n",
      "D:\\Programy\\anaconda\\lib\\site-packages\\statsmodels\\tsa\\statespace\\sarimax.py:966: UserWarning: Non-stationary starting autoregressive parameters found. Using zeros as starting parameters.\n",
      "  warn('Non-stationary starting autoregressive parameters'\n",
      "D:\\Programy\\anaconda\\lib\\site-packages\\statsmodels\\tsa\\statespace\\sarimax.py:978: UserWarning: Non-invertible starting MA parameters found. Using zeros as starting parameters.\n",
      "  warn('Non-invertible starting MA parameters found.'\n"
     ]
    },
    {
     "name": "stdout",
     "output_type": "stream",
     "text": [
      " ARIMA(2,1,2)(0,0,0)[0] intercept   : AIC=4341.254, Time=0.35 sec\n",
      " ARIMA(0,1,0)(0,0,0)[0] intercept   : AIC=4367.727, Time=0.02 sec\n",
      " ARIMA(1,1,0)(0,0,0)[0] intercept   : AIC=4351.480, Time=0.05 sec\n",
      " ARIMA(0,1,1)(0,0,0)[0] intercept   : AIC=4343.177, Time=0.05 sec\n",
      " ARIMA(0,1,0)(0,0,0)[0]             : AIC=4365.733, Time=0.01 sec\n",
      " ARIMA(1,1,2)(0,0,0)[0] intercept   : AIC=4336.548, Time=0.15 sec\n",
      " ARIMA(0,1,2)(0,0,0)[0] intercept   : AIC=4343.228, Time=0.06 sec\n",
      " ARIMA(1,1,1)(0,0,0)[0] intercept   : AIC=4344.324, Time=0.06 sec\n",
      " ARIMA(1,1,3)(0,0,0)[0] intercept   : AIC=4336.492, Time=0.14 sec\n",
      " ARIMA(0,1,3)(0,0,0)[0] intercept   : AIC=4335.027, Time=0.09 sec\n",
      " ARIMA(0,1,4)(0,0,0)[0] intercept   : AIC=4337.097, Time=0.12 sec\n",
      " ARIMA(1,1,4)(0,0,0)[0] intercept   : AIC=4337.687, Time=0.26 sec\n",
      " ARIMA(0,1,3)(0,0,0)[0]             : AIC=4333.100, Time=0.05 sec\n",
      " ARIMA(0,1,2)(0,0,0)[0]             : AIC=4341.363, Time=0.05 sec\n",
      " ARIMA(1,1,3)(0,0,0)[0]             : AIC=4334.580, Time=0.08 sec\n",
      " ARIMA(0,1,4)(0,0,0)[0]             : AIC=4335.161, Time=0.07 sec\n",
      " ARIMA(1,1,2)(0,0,0)[0]             : AIC=4334.653, Time=0.13 sec\n"
     ]
    },
    {
     "name": "stderr",
     "output_type": "stream",
     "text": [
      "D:\\Programy\\anaconda\\lib\\site-packages\\statsmodels\\tsa\\statespace\\sarimax.py:966: UserWarning: Non-stationary starting autoregressive parameters found. Using zeros as starting parameters.\n",
      "  warn('Non-stationary starting autoregressive parameters'\n",
      "D:\\Programy\\anaconda\\lib\\site-packages\\statsmodels\\tsa\\statespace\\sarimax.py:978: UserWarning: Non-invertible starting MA parameters found. Using zeros as starting parameters.\n",
      "  warn('Non-invertible starting MA parameters found.'\n"
     ]
    },
    {
     "name": "stdout",
     "output_type": "stream",
     "text": [
      " ARIMA(1,1,4)(0,0,0)[0]             : AIC=4335.742, Time=0.19 sec\n",
      "\n",
      "Best model:  ARIMA(0,1,3)(0,0,0)[0]          \n",
      "Total fit time: 1.902 seconds\n",
      "autoARIMA time: 0:00:01.922078\n",
      "(0, 1, 3)\n",
      "(0, 0, 0, 0)\n",
      "fit time = 0:00:00.071049\n",
      "##### Koniec dopasowania modelu dla godziny: 139\n",
      "#####\n",
      "##### startuje dopasowanie modelu dla godziny: 140\n",
      "Performing stepwise search to minimize aic\n"
     ]
    },
    {
     "name": "stderr",
     "output_type": "stream",
     "text": [
      "D:\\Programy\\anaconda\\lib\\site-packages\\statsmodels\\tsa\\base\\tsa_model.py:579: ValueWarning: An unsupported index was provided and will be ignored when e.g. forecasting.\n",
      "  ' ignored when e.g. forecasting.', ValueWarning)\n",
      "D:\\Programy\\anaconda\\lib\\site-packages\\statsmodels\\tsa\\base\\tsa_model.py:579: ValueWarning: An unsupported index was provided and will be ignored when e.g. forecasting.\n",
      "  ' ignored when e.g. forecasting.', ValueWarning)\n"
     ]
    },
    {
     "name": "stdout",
     "output_type": "stream",
     "text": [
      " ARIMA(2,1,2)(0,0,0)[0] intercept   : AIC=4614.292, Time=0.15 sec\n",
      " ARIMA(0,1,0)(0,0,0)[0] intercept   : AIC=4674.903, Time=0.03 sec\n",
      " ARIMA(1,1,0)(0,0,0)[0] intercept   : AIC=4650.011, Time=0.04 sec\n",
      " ARIMA(0,1,1)(0,0,0)[0] intercept   : AIC=4619.605, Time=0.12 sec\n",
      " ARIMA(0,1,0)(0,0,0)[0]             : AIC=4672.914, Time=0.02 sec\n",
      " ARIMA(1,1,2)(0,0,0)[0] intercept   : AIC=4612.809, Time=0.14 sec\n",
      " ARIMA(0,1,2)(0,0,0)[0] intercept   : AIC=4614.044, Time=0.08 sec\n",
      " ARIMA(1,1,1)(0,0,0)[0] intercept   : AIC=4616.370, Time=0.18 sec\n"
     ]
    },
    {
     "name": "stderr",
     "output_type": "stream",
     "text": [
      "D:\\Programy\\anaconda\\lib\\site-packages\\statsmodels\\tsa\\statespace\\sarimax.py:966: UserWarning: Non-stationary starting autoregressive parameters found. Using zeros as starting parameters.\n",
      "  warn('Non-stationary starting autoregressive parameters'\n",
      "D:\\Programy\\anaconda\\lib\\site-packages\\statsmodels\\tsa\\statespace\\sarimax.py:978: UserWarning: Non-invertible starting MA parameters found. Using zeros as starting parameters.\n",
      "  warn('Non-invertible starting MA parameters found.'\n"
     ]
    },
    {
     "name": "stdout",
     "output_type": "stream",
     "text": [
      " ARIMA(1,1,3)(0,0,0)[0] intercept   : AIC=4614.165, Time=0.23 sec\n",
      " ARIMA(0,1,3)(0,0,0)[0] intercept   : AIC=4612.242, Time=0.09 sec\n",
      " ARIMA(0,1,4)(0,0,0)[0] intercept   : AIC=4614.215, Time=0.12 sec\n"
     ]
    },
    {
     "name": "stderr",
     "output_type": "stream",
     "text": [
      "D:\\Programy\\anaconda\\lib\\site-packages\\statsmodels\\base\\model.py:568: ConvergenceWarning: Maximum Likelihood optimization failed to converge. Check mle_retvals\n",
      "  ConvergenceWarning)\n",
      "D:\\Programy\\anaconda\\lib\\site-packages\\statsmodels\\tsa\\statespace\\sarimax.py:966: UserWarning: Non-stationary starting autoregressive parameters found. Using zeros as starting parameters.\n",
      "  warn('Non-stationary starting autoregressive parameters'\n",
      "D:\\Programy\\anaconda\\lib\\site-packages\\statsmodels\\tsa\\statespace\\sarimax.py:978: UserWarning: Non-invertible starting MA parameters found. Using zeros as starting parameters.\n",
      "  warn('Non-invertible starting MA parameters found.'\n"
     ]
    },
    {
     "name": "stdout",
     "output_type": "stream",
     "text": [
      " ARIMA(1,1,4)(0,0,0)[0] intercept   : AIC=4616.067, Time=0.27 sec\n",
      " ARIMA(0,1,3)(0,0,0)[0]             : AIC=4610.613, Time=0.05 sec\n",
      " ARIMA(0,1,2)(0,0,0)[0]             : AIC=4612.438, Time=0.05 sec\n",
      " ARIMA(1,1,3)(0,0,0)[0]             : AIC=4612.626, Time=0.25 sec\n",
      " ARIMA(0,1,4)(0,0,0)[0]             : AIC=4612.567, Time=0.07 sec\n",
      " ARIMA(1,1,2)(0,0,0)[0]             : AIC=4611.371, Time=0.10 sec\n",
      " ARIMA(1,1,4)(0,0,0)[0]             : AIC=4614.556, Time=0.10 sec\n",
      "\n",
      "Best model:  ARIMA(0,1,3)(0,0,0)[0]          \n",
      "Total fit time: 2.107 seconds\n",
      "autoARIMA time: 0:00:02.113450\n",
      "(0, 1, 3)\n",
      "(0, 0, 0, 0)\n",
      "fit time = 0:00:00.040283\n",
      "##### Koniec dopasowania modelu dla godziny: 140\n",
      "#####\n",
      "##### startuje dopasowanie modelu dla godziny: 141\n",
      "Performing stepwise search to minimize aic\n"
     ]
    },
    {
     "name": "stderr",
     "output_type": "stream",
     "text": [
      "D:\\Programy\\anaconda\\lib\\site-packages\\statsmodels\\tsa\\base\\tsa_model.py:579: ValueWarning: An unsupported index was provided and will be ignored when e.g. forecasting.\n",
      "  ' ignored when e.g. forecasting.', ValueWarning)\n",
      "D:\\Programy\\anaconda\\lib\\site-packages\\statsmodels\\tsa\\base\\tsa_model.py:579: ValueWarning: An unsupported index was provided and will be ignored when e.g. forecasting.\n",
      "  ' ignored when e.g. forecasting.', ValueWarning)\n",
      "D:\\Programy\\anaconda\\lib\\site-packages\\statsmodels\\base\\model.py:568: ConvergenceWarning: Maximum Likelihood optimization failed to converge. Check mle_retvals\n",
      "  ConvergenceWarning)\n"
     ]
    },
    {
     "name": "stdout",
     "output_type": "stream",
     "text": [
      " ARIMA(2,1,2)(0,0,0)[0] intercept   : AIC=4498.996, Time=0.27 sec\n",
      " ARIMA(0,1,0)(0,0,0)[0] intercept   : AIC=4541.959, Time=0.01 sec\n",
      " ARIMA(1,1,0)(0,0,0)[0] intercept   : AIC=4522.269, Time=0.03 sec\n",
      " ARIMA(0,1,1)(0,0,0)[0] intercept   : AIC=4507.038, Time=0.03 sec\n",
      " ARIMA(0,1,0)(0,0,0)[0]             : AIC=4539.964, Time=0.00 sec\n"
     ]
    },
    {
     "name": "stderr",
     "output_type": "stream",
     "text": [
      "D:\\Programy\\anaconda\\lib\\site-packages\\statsmodels\\base\\model.py:568: ConvergenceWarning: Maximum Likelihood optimization failed to converge. Check mle_retvals\n",
      "  ConvergenceWarning)\n"
     ]
    },
    {
     "name": "stdout",
     "output_type": "stream",
     "text": [
      " ARIMA(1,1,2)(0,0,0)[0] intercept   : AIC=4496.869, Time=0.19 sec\n",
      " ARIMA(0,1,2)(0,0,0)[0] intercept   : AIC=4495.503, Time=0.08 sec\n"
     ]
    },
    {
     "name": "stderr",
     "output_type": "stream",
     "text": [
      "D:\\Programy\\anaconda\\lib\\site-packages\\statsmodels\\base\\model.py:568: ConvergenceWarning: Maximum Likelihood optimization failed to converge. Check mle_retvals\n",
      "  ConvergenceWarning)\n"
     ]
    },
    {
     "name": "stdout",
     "output_type": "stream",
     "text": [
      " ARIMA(0,1,3)(0,0,0)[0] intercept   : AIC=4496.671, Time=0.22 sec\n",
      " ARIMA(1,1,1)(0,0,0)[0] intercept   : AIC=4495.284, Time=0.11 sec\n",
      " ARIMA(2,1,1)(0,0,0)[0] intercept   : AIC=4496.733, Time=0.11 sec\n",
      " ARIMA(2,1,0)(0,0,0)[0] intercept   : AIC=4510.400, Time=0.06 sec\n",
      " ARIMA(1,1,1)(0,0,0)[0]             : AIC=4493.803, Time=0.07 sec\n",
      " ARIMA(0,1,1)(0,0,0)[0]             : AIC=4505.245, Time=0.03 sec\n",
      " ARIMA(1,1,0)(0,0,0)[0]             : AIC=4520.301, Time=0.03 sec\n",
      " ARIMA(2,1,1)(0,0,0)[0]             : AIC=4495.234, Time=0.06 sec\n",
      " ARIMA(1,1,2)(0,0,0)[0]             : AIC=4495.238, Time=0.08 sec\n",
      " ARIMA(0,1,2)(0,0,0)[0]             : AIC=4493.867, Time=0.05 sec\n",
      " ARIMA(2,1,0)(0,0,0)[0]             : AIC=4508.462, Time=0.02 sec\n"
     ]
    },
    {
     "name": "stderr",
     "output_type": "stream",
     "text": [
      "D:\\Programy\\anaconda\\lib\\site-packages\\statsmodels\\base\\model.py:568: ConvergenceWarning: Maximum Likelihood optimization failed to converge. Check mle_retvals\n",
      "  ConvergenceWarning)\n",
      "D:\\Programy\\anaconda\\lib\\site-packages\\statsmodels\\tsa\\base\\tsa_model.py:579: ValueWarning: An unsupported index was provided and will be ignored when e.g. forecasting.\n",
      "  ' ignored when e.g. forecasting.', ValueWarning)\n",
      "D:\\Programy\\anaconda\\lib\\site-packages\\statsmodels\\tsa\\base\\tsa_model.py:579: ValueWarning: An unsupported index was provided and will be ignored when e.g. forecasting.\n",
      "  ' ignored when e.g. forecasting.', ValueWarning)\n"
     ]
    },
    {
     "name": "stdout",
     "output_type": "stream",
     "text": [
      " ARIMA(2,1,2)(0,0,0)[0]             : AIC=4496.759, Time=0.19 sec\n",
      "\n",
      "Best model:  ARIMA(1,1,1)(0,0,0)[0]          \n",
      "Total fit time: 1.638 seconds\n",
      "autoARIMA time: 0:00:01.637824\n",
      "(1, 1, 1)\n",
      "(0, 0, 0, 0)\n",
      "fit time = 0:00:00.046876\n",
      "##### Koniec dopasowania modelu dla godziny: 141\n",
      "#####\n",
      "##### startuje dopasowanie modelu dla godziny: 142\n",
      "Performing stepwise search to minimize aic\n"
     ]
    },
    {
     "name": "stderr",
     "output_type": "stream",
     "text": [
      "D:\\Programy\\anaconda\\lib\\site-packages\\statsmodels\\base\\model.py:568: ConvergenceWarning: Maximum Likelihood optimization failed to converge. Check mle_retvals\n",
      "  ConvergenceWarning)\n"
     ]
    },
    {
     "name": "stdout",
     "output_type": "stream",
     "text": [
      " ARIMA(2,1,2)(0,0,0)[0] intercept   : AIC=4361.220, Time=0.24 sec\n",
      " ARIMA(0,1,0)(0,0,0)[0] intercept   : AIC=4422.597, Time=0.02 sec\n",
      " ARIMA(1,1,0)(0,0,0)[0] intercept   : AIC=4397.805, Time=0.05 sec\n"
     ]
    },
    {
     "name": "stderr",
     "output_type": "stream",
     "text": [
      "D:\\Programy\\anaconda\\lib\\site-packages\\statsmodels\\base\\model.py:568: ConvergenceWarning: Maximum Likelihood optimization failed to converge. Check mle_retvals\n",
      "  ConvergenceWarning)\n"
     ]
    },
    {
     "name": "stdout",
     "output_type": "stream",
     "text": [
      " ARIMA(0,1,1)(0,0,0)[0] intercept   : AIC=4372.214, Time=0.16 sec\n",
      " ARIMA(0,1,0)(0,0,0)[0]             : AIC=4420.601, Time=0.02 sec\n"
     ]
    },
    {
     "name": "stderr",
     "output_type": "stream",
     "text": [
      "D:\\Programy\\anaconda\\lib\\site-packages\\statsmodels\\base\\model.py:568: ConvergenceWarning: Maximum Likelihood optimization failed to converge. Check mle_retvals\n",
      "  ConvergenceWarning)\n",
      "D:\\Programy\\anaconda\\lib\\site-packages\\statsmodels\\base\\model.py:568: ConvergenceWarning: Maximum Likelihood optimization failed to converge. Check mle_retvals\n",
      "  ConvergenceWarning)\n"
     ]
    },
    {
     "name": "stdout",
     "output_type": "stream",
     "text": [
      " ARIMA(1,1,2)(0,0,0)[0] intercept   : AIC=4359.016, Time=0.22 sec\n",
      " ARIMA(0,1,2)(0,0,0)[0] intercept   : AIC=4357.287, Time=0.16 sec\n"
     ]
    },
    {
     "name": "stderr",
     "output_type": "stream",
     "text": [
      "D:\\Programy\\anaconda\\lib\\site-packages\\statsmodels\\base\\model.py:568: ConvergenceWarning: Maximum Likelihood optimization failed to converge. Check mle_retvals\n",
      "  ConvergenceWarning)\n",
      "D:\\Programy\\anaconda\\lib\\site-packages\\statsmodels\\base\\model.py:568: ConvergenceWarning: Maximum Likelihood optimization failed to converge. Check mle_retvals\n",
      "  ConvergenceWarning)\n"
     ]
    },
    {
     "name": "stdout",
     "output_type": "stream",
     "text": [
      " ARIMA(0,1,3)(0,0,0)[0] intercept   : AIC=4358.921, Time=0.25 sec\n",
      " ARIMA(1,1,1)(0,0,0)[0] intercept   : AIC=4357.898, Time=0.19 sec"
     ]
    },
    {
     "name": "stderr",
     "output_type": "stream",
     "text": [
      "D:\\Programy\\anaconda\\lib\\site-packages\\statsmodels\\base\\model.py:568: ConvergenceWarning: Maximum Likelihood optimization failed to converge. Check mle_retvals\n",
      "  ConvergenceWarning)\n"
     ]
    },
    {
     "name": "stdout",
     "output_type": "stream",
     "text": [
      "\n",
      " ARIMA(1,1,3)(0,0,0)[0] intercept   : AIC=4361.190, Time=0.28 sec\n",
      " ARIMA(0,1,2)(0,0,0)[0]             : AIC=4356.095, Time=0.03 sec\n",
      " ARIMA(0,1,1)(0,0,0)[0]             : AIC=4370.535, Time=0.08 sec\n",
      " ARIMA(1,1,2)(0,0,0)[0]             : AIC=4357.824, Time=0.08 sec\n",
      " ARIMA(0,1,3)(0,0,0)[0]             : AIC=4357.760, Time=0.09 sec\n",
      " ARIMA(1,1,1)(0,0,0)[0]             : AIC=4357.281, Time=0.05 sec\n"
     ]
    },
    {
     "name": "stderr",
     "output_type": "stream",
     "text": [
      "D:\\Programy\\anaconda\\lib\\site-packages\\statsmodels\\base\\model.py:568: ConvergenceWarning: Maximum Likelihood optimization failed to converge. Check mle_retvals\n",
      "  ConvergenceWarning)\n",
      "D:\\Programy\\anaconda\\lib\\site-packages\\statsmodels\\tsa\\base\\tsa_model.py:579: ValueWarning: An unsupported index was provided and will be ignored when e.g. forecasting.\n",
      "  ' ignored when e.g. forecasting.', ValueWarning)\n",
      "D:\\Programy\\anaconda\\lib\\site-packages\\statsmodels\\tsa\\base\\tsa_model.py:579: ValueWarning: An unsupported index was provided and will be ignored when e.g. forecasting.\n",
      "  ' ignored when e.g. forecasting.', ValueWarning)\n",
      "D:\\Programy\\anaconda\\lib\\site-packages\\statsmodels\\tsa\\statespace\\sarimax.py:966: UserWarning: Non-stationary starting autoregressive parameters found. Using zeros as starting parameters.\n",
      "  warn('Non-stationary starting autoregressive parameters'\n",
      "D:\\Programy\\anaconda\\lib\\site-packages\\statsmodels\\tsa\\statespace\\sarimax.py:978: UserWarning: Non-invertible starting MA parameters found. Using zeros as starting parameters.\n",
      "  warn('Non-invertible starting MA parameters found.'\n"
     ]
    },
    {
     "name": "stdout",
     "output_type": "stream",
     "text": [
      " ARIMA(1,1,3)(0,0,0)[0]             : AIC=4359.759, Time=0.19 sec\n",
      "\n",
      "Best model:  ARIMA(0,1,2)(0,0,0)[0]          \n",
      "Total fit time: 2.107 seconds\n",
      "autoARIMA time: 0:00:02.106624\n",
      "(0, 1, 2)\n",
      "(0, 0, 0, 0)\n",
      "fit time = 0:00:00.074433\n",
      "##### Koniec dopasowania modelu dla godziny: 142\n",
      "#####\n",
      "##### startuje dopasowanie modelu dla godziny: 143\n",
      "Performing stepwise search to minimize aic\n"
     ]
    },
    {
     "name": "stderr",
     "output_type": "stream",
     "text": [
      "D:\\Programy\\anaconda\\lib\\site-packages\\statsmodels\\base\\model.py:568: ConvergenceWarning: Maximum Likelihood optimization failed to converge. Check mle_retvals\n",
      "  ConvergenceWarning)\n"
     ]
    },
    {
     "name": "stdout",
     "output_type": "stream",
     "text": [
      " ARIMA(2,1,2)(0,0,0)[0] intercept   : AIC=4343.295, Time=0.28 sec\n",
      " ARIMA(0,1,0)(0,0,0)[0] intercept   : AIC=4401.626, Time=0.01 sec\n",
      " ARIMA(1,1,0)(0,0,0)[0] intercept   : AIC=4376.509, Time=0.07 sec\n",
      " ARIMA(0,1,1)(0,0,0)[0] intercept   : AIC=4353.158, Time=0.09 sec\n",
      " ARIMA(0,1,0)(0,0,0)[0]             : AIC=4399.633, Time=0.02 sec\n"
     ]
    },
    {
     "name": "stderr",
     "output_type": "stream",
     "text": [
      "D:\\Programy\\anaconda\\lib\\site-packages\\statsmodels\\base\\model.py:568: ConvergenceWarning: Maximum Likelihood optimization failed to converge. Check mle_retvals\n",
      "  ConvergenceWarning)\n"
     ]
    },
    {
     "name": "stdout",
     "output_type": "stream",
     "text": [
      " ARIMA(1,1,2)(0,0,0)[0] intercept   : AIC=4342.119, Time=0.19 sec\n"
     ]
    },
    {
     "name": "stderr",
     "output_type": "stream",
     "text": [
      "D:\\Programy\\anaconda\\lib\\site-packages\\statsmodels\\base\\model.py:568: ConvergenceWarning: Maximum Likelihood optimization failed to converge. Check mle_retvals\n",
      "  ConvergenceWarning)\n"
     ]
    },
    {
     "name": "stdout",
     "output_type": "stream",
     "text": [
      " ARIMA(0,1,2)(0,0,0)[0] intercept   : AIC=4340.297, Time=0.22 sec\n"
     ]
    },
    {
     "name": "stderr",
     "output_type": "stream",
     "text": [
      "D:\\Programy\\anaconda\\lib\\site-packages\\statsmodels\\base\\model.py:568: ConvergenceWarning: Maximum Likelihood optimization failed to converge. Check mle_retvals\n",
      "  ConvergenceWarning)\n"
     ]
    },
    {
     "name": "stdout",
     "output_type": "stream",
     "text": [
      " ARIMA(0,1,3)(0,0,0)[0] intercept   : AIC=4341.391, Time=0.28 sec\n"
     ]
    },
    {
     "name": "stderr",
     "output_type": "stream",
     "text": [
      "D:\\Programy\\anaconda\\lib\\site-packages\\statsmodels\\base\\model.py:568: ConvergenceWarning: Maximum Likelihood optimization failed to converge. Check mle_retvals\n",
      "  ConvergenceWarning)\n"
     ]
    },
    {
     "name": "stdout",
     "output_type": "stream",
     "text": [
      " ARIMA(1,1,1)(0,0,0)[0] intercept   : AIC=4339.330, Time=0.31 sec\n",
      " ARIMA(2,1,1)(0,0,0)[0] intercept   : AIC=4341.264, Time=0.11 sec\n",
      " ARIMA(2,1,0)(0,0,0)[0] intercept   : AIC=4365.549, Time=0.05 sec\n",
      " ARIMA(1,1,1)(0,0,0)[0]             : AIC=4338.417, Time=0.06 sec\n",
      " ARIMA(0,1,1)(0,0,0)[0]             : AIC=4351.563, Time=0.02 sec\n",
      " ARIMA(1,1,0)(0,0,0)[0]             : AIC=4374.541, Time=0.03 sec\n",
      " ARIMA(2,1,1)(0,0,0)[0]             : AIC=4340.260, Time=0.06 sec\n",
      " ARIMA(1,1,2)(0,0,0)[0]             : AIC=4340.192, Time=0.13 sec\n",
      " ARIMA(0,1,2)(0,0,0)[0]             : AIC=4339.137, Time=0.07 sec\n",
      " ARIMA(2,1,0)(0,0,0)[0]             : AIC=4363.606, Time=0.04 sec\n"
     ]
    },
    {
     "name": "stderr",
     "output_type": "stream",
     "text": [
      "D:\\Programy\\anaconda\\lib\\site-packages\\statsmodels\\tsa\\statespace\\sarimax.py:966: UserWarning: Non-stationary starting autoregressive parameters found. Using zeros as starting parameters.\n",
      "  warn('Non-stationary starting autoregressive parameters'\n",
      "D:\\Programy\\anaconda\\lib\\site-packages\\statsmodels\\tsa\\statespace\\sarimax.py:978: UserWarning: Non-invertible starting MA parameters found. Using zeros as starting parameters.\n",
      "  warn('Non-invertible starting MA parameters found.'\n",
      "D:\\Programy\\anaconda\\lib\\site-packages\\statsmodels\\base\\model.py:568: ConvergenceWarning: Maximum Likelihood optimization failed to converge. Check mle_retvals\n",
      "  ConvergenceWarning)\n"
     ]
    },
    {
     "name": "stdout",
     "output_type": "stream",
     "text": [
      " ARIMA(2,1,2)(0,0,0)[0]             : AIC=4342.109, Time=0.18 sec\n",
      "\n",
      "Best model:  ARIMA(1,1,1)(0,0,0)[0]          \n",
      "Total fit time: 2.235 seconds\n",
      "autoARIMA time: 0:00:02.250766\n",
      "(1, 1, 1)\n",
      "(0, 0, 0, 0)\n",
      "fit time = 0:00:00.041007\n",
      "##### Koniec dopasowania modelu dla godziny: 143\n",
      "#####\n",
      "##### startuje dopasowanie modelu dla godziny: 144\n",
      "Performing stepwise search to minimize aic\n"
     ]
    },
    {
     "name": "stderr",
     "output_type": "stream",
     "text": [
      "D:\\Programy\\anaconda\\lib\\site-packages\\statsmodels\\tsa\\base\\tsa_model.py:579: ValueWarning: An unsupported index was provided and will be ignored when e.g. forecasting.\n",
      "  ' ignored when e.g. forecasting.', ValueWarning)\n",
      "D:\\Programy\\anaconda\\lib\\site-packages\\statsmodels\\tsa\\base\\tsa_model.py:579: ValueWarning: An unsupported index was provided and will be ignored when e.g. forecasting.\n",
      "  ' ignored when e.g. forecasting.', ValueWarning)\n",
      "D:\\Programy\\anaconda\\lib\\site-packages\\statsmodels\\base\\model.py:568: ConvergenceWarning: Maximum Likelihood optimization failed to converge. Check mle_retvals\n",
      "  ConvergenceWarning)\n"
     ]
    },
    {
     "name": "stdout",
     "output_type": "stream",
     "text": [
      " ARIMA(2,1,2)(0,0,0)[0] intercept   : AIC=inf, Time=0.33 sec\n",
      " ARIMA(0,1,0)(0,0,0)[0] intercept   : AIC=4260.077, Time=0.02 sec\n",
      " ARIMA(1,1,0)(0,0,0)[0] intercept   : AIC=4244.925, Time=0.07 sec\n",
      " ARIMA(0,1,1)(0,0,0)[0] intercept   : AIC=4232.154, Time=0.06 sec\n",
      " ARIMA(0,1,0)(0,0,0)[0]             : AIC=4258.088, Time=0.01 sec\n"
     ]
    },
    {
     "name": "stderr",
     "output_type": "stream",
     "text": [
      "D:\\Programy\\anaconda\\lib\\site-packages\\statsmodels\\base\\model.py:568: ConvergenceWarning: Maximum Likelihood optimization failed to converge. Check mle_retvals\n",
      "  ConvergenceWarning)\n",
      "D:\\Programy\\anaconda\\lib\\site-packages\\statsmodels\\base\\model.py:568: ConvergenceWarning: Maximum Likelihood optimization failed to converge. Check mle_retvals\n",
      "  ConvergenceWarning)\n"
     ]
    },
    {
     "name": "stdout",
     "output_type": "stream",
     "text": [
      " ARIMA(1,1,1)(0,0,0)[0] intercept   : AIC=4215.948, Time=0.21 sec\n",
      " ARIMA(2,1,1)(0,0,0)[0] intercept   : AIC=4217.527, Time=0.18 sec\n",
      " ARIMA(1,1,2)(0,0,0)[0] intercept   : AIC=4217.887, Time=0.17 sec\n",
      " ARIMA(0,1,2)(0,0,0)[0] intercept   : AIC=4215.670, Time=0.18 sec\n",
      " ARIMA(0,1,3)(0,0,0)[0] intercept   : AIC=4217.610, Time=0.20 sec"
     ]
    },
    {
     "name": "stderr",
     "output_type": "stream",
     "text": [
      "D:\\Programy\\anaconda\\lib\\site-packages\\statsmodels\\base\\model.py:568: ConvergenceWarning: Maximum Likelihood optimization failed to converge. Check mle_retvals\n",
      "  ConvergenceWarning)\n"
     ]
    },
    {
     "name": "stdout",
     "output_type": "stream",
     "text": [
      "\n"
     ]
    },
    {
     "name": "stderr",
     "output_type": "stream",
     "text": [
      "D:\\Programy\\anaconda\\lib\\site-packages\\statsmodels\\base\\model.py:568: ConvergenceWarning: Maximum Likelihood optimization failed to converge. Check mle_retvals\n",
      "  ConvergenceWarning)\n"
     ]
    },
    {
     "name": "stdout",
     "output_type": "stream",
     "text": [
      " ARIMA(1,1,3)(0,0,0)[0] intercept   : AIC=4215.695, Time=0.27 sec\n",
      " ARIMA(0,1,2)(0,0,0)[0]             : AIC=4214.318, Time=0.05 sec\n",
      " ARIMA(0,1,1)(0,0,0)[0]             : AIC=4230.341, Time=0.03 sec\n",
      " ARIMA(1,1,2)(0,0,0)[0]             : AIC=4216.395, Time=0.11 sec\n",
      " ARIMA(0,1,3)(0,0,0)[0]             : AIC=4216.282, Time=0.07 sec\n",
      " ARIMA(1,1,1)(0,0,0)[0]             : AIC=4214.915, Time=0.06 sec\n"
     ]
    },
    {
     "name": "stderr",
     "output_type": "stream",
     "text": [
      "D:\\Programy\\anaconda\\lib\\site-packages\\statsmodels\\base\\model.py:568: ConvergenceWarning: Maximum Likelihood optimization failed to converge. Check mle_retvals\n",
      "  ConvergenceWarning)\n"
     ]
    },
    {
     "name": "stdout",
     "output_type": "stream",
     "text": [
      " ARIMA(1,1,3)(0,0,0)[0]             : AIC=4214.172, Time=0.21 sec\n"
     ]
    },
    {
     "name": "stderr",
     "output_type": "stream",
     "text": [
      "D:\\Programy\\anaconda\\lib\\site-packages\\statsmodels\\base\\model.py:568: ConvergenceWarning: Maximum Likelihood optimization failed to converge. Check mle_retvals\n",
      "  ConvergenceWarning)\n"
     ]
    },
    {
     "name": "stdout",
     "output_type": "stream",
     "text": [
      " ARIMA(2,1,3)(0,0,0)[0]             : AIC=4214.428, Time=0.24 sec\n",
      " ARIMA(1,1,4)(0,0,0)[0]             : AIC=4211.388, Time=0.16 sec\n",
      " ARIMA(0,1,4)(0,0,0)[0]             : AIC=4212.211, Time=0.09 sec\n"
     ]
    },
    {
     "name": "stderr",
     "output_type": "stream",
     "text": [
      "D:\\Programy\\anaconda\\lib\\site-packages\\statsmodels\\base\\model.py:568: ConvergenceWarning: Maximum Likelihood optimization failed to converge. Check mle_retvals\n",
      "  ConvergenceWarning)\n"
     ]
    },
    {
     "name": "stdout",
     "output_type": "stream",
     "text": [
      " ARIMA(2,1,4)(0,0,0)[0]             : AIC=4211.481, Time=0.23 sec\n",
      " ARIMA(1,1,5)(0,0,0)[0]             : AIC=4212.099, Time=0.23 sec\n",
      " ARIMA(0,1,5)(0,0,0)[0]             : AIC=4210.132, Time=0.11 sec\n"
     ]
    },
    {
     "name": "stderr",
     "output_type": "stream",
     "text": [
      "D:\\Programy\\anaconda\\lib\\site-packages\\statsmodels\\base\\model.py:568: ConvergenceWarning: Maximum Likelihood optimization failed to converge. Check mle_retvals\n",
      "  ConvergenceWarning)\n",
      "D:\\Programy\\anaconda\\lib\\site-packages\\statsmodels\\tsa\\base\\tsa_model.py:579: ValueWarning: An unsupported index was provided and will be ignored when e.g. forecasting.\n",
      "  ' ignored when e.g. forecasting.', ValueWarning)\n",
      "D:\\Programy\\anaconda\\lib\\site-packages\\statsmodels\\tsa\\base\\tsa_model.py:579: ValueWarning: An unsupported index was provided and will be ignored when e.g. forecasting.\n",
      "  ' ignored when e.g. forecasting.', ValueWarning)\n"
     ]
    },
    {
     "name": "stdout",
     "output_type": "stream",
     "text": [
      " ARIMA(0,1,5)(0,0,0)[0] intercept   : AIC=4211.465, Time=0.29 sec\n",
      "\n",
      "Best model:  ARIMA(0,1,5)(0,0,0)[0]          \n",
      "Total fit time: 3.589 seconds\n",
      "autoARIMA time: 0:00:03.598143\n",
      "(0, 1, 5)\n",
      "(0, 0, 0, 0)\n",
      "fit time = 0:00:00.082558\n",
      "##### Koniec dopasowania modelu dla godziny: 144\n",
      "#####\n",
      "##### startuje dopasowanie modelu dla godziny: 145\n",
      "Performing stepwise search to minimize aic\n"
     ]
    },
    {
     "name": "stderr",
     "output_type": "stream",
     "text": [
      "D:\\Programy\\anaconda\\lib\\site-packages\\statsmodels\\base\\model.py:568: ConvergenceWarning: Maximum Likelihood optimization failed to converge. Check mle_retvals\n",
      "  ConvergenceWarning)\n"
     ]
    },
    {
     "name": "stdout",
     "output_type": "stream",
     "text": [
      " ARIMA(2,1,2)(0,0,0)[0] intercept   : AIC=inf, Time=0.31 sec\n",
      " ARIMA(0,1,0)(0,0,0)[0] intercept   : AIC=4237.134, Time=0.02 sec\n",
      " ARIMA(1,1,0)(0,0,0)[0] intercept   : AIC=4223.051, Time=0.05 sec\n",
      " ARIMA(0,1,1)(0,0,0)[0] intercept   : AIC=4211.453, Time=0.05 sec\n",
      " ARIMA(0,1,0)(0,0,0)[0]             : AIC=4235.144, Time=0.01 sec\n"
     ]
    },
    {
     "name": "stderr",
     "output_type": "stream",
     "text": [
      "D:\\Programy\\anaconda\\lib\\site-packages\\statsmodels\\base\\model.py:568: ConvergenceWarning: Maximum Likelihood optimization failed to converge. Check mle_retvals\n",
      "  ConvergenceWarning)\n"
     ]
    },
    {
     "name": "stdout",
     "output_type": "stream",
     "text": [
      " ARIMA(1,1,1)(0,0,0)[0] intercept   : AIC=4195.047, Time=0.26 sec\n"
     ]
    },
    {
     "name": "stderr",
     "output_type": "stream",
     "text": [
      "D:\\Programy\\anaconda\\lib\\site-packages\\statsmodels\\base\\model.py:568: ConvergenceWarning: Maximum Likelihood optimization failed to converge. Check mle_retvals\n",
      "  ConvergenceWarning)\n"
     ]
    },
    {
     "name": "stdout",
     "output_type": "stream",
     "text": [
      " ARIMA(2,1,1)(0,0,0)[0] intercept   : AIC=4196.643, Time=0.22 sec\n"
     ]
    },
    {
     "name": "stderr",
     "output_type": "stream",
     "text": [
      "D:\\Programy\\anaconda\\lib\\site-packages\\statsmodels\\base\\model.py:568: ConvergenceWarning: Maximum Likelihood optimization failed to converge. Check mle_retvals\n",
      "  ConvergenceWarning)\n"
     ]
    },
    {
     "name": "stdout",
     "output_type": "stream",
     "text": [
      " ARIMA(1,1,2)(0,0,0)[0] intercept   : AIC=4196.695, Time=0.31 sec\n",
      " ARIMA(0,1,2)(0,0,0)[0] intercept   : AIC=4195.260, Time=0.08 sec\n",
      " ARIMA(2,1,0)(0,0,0)[0] intercept   : AIC=4211.924, Time=0.05 sec\n"
     ]
    },
    {
     "name": "stderr",
     "output_type": "stream",
     "text": [
      "D:\\Programy\\anaconda\\lib\\site-packages\\statsmodels\\base\\model.py:568: ConvergenceWarning: Maximum Likelihood optimization failed to converge. Check mle_retvals\n",
      "  ConvergenceWarning)\n"
     ]
    },
    {
     "name": "stdout",
     "output_type": "stream",
     "text": [
      " ARIMA(1,1,1)(0,0,0)[0]             : AIC=4193.580, Time=0.13 sec\n",
      " ARIMA(0,1,1)(0,0,0)[0]             : AIC=4209.624, Time=0.02 sec\n",
      " ARIMA(1,1,0)(0,0,0)[0]             : AIC=4221.084, Time=0.02 sec\n",
      " ARIMA(2,1,1)(0,0,0)[0]             : AIC=4195.496, Time=0.07 sec\n",
      " ARIMA(1,1,2)(0,0,0)[0]             : AIC=4195.057, Time=0.09 sec\n",
      " ARIMA(0,1,2)(0,0,0)[0]             : AIC=4193.730, Time=0.05 sec\n",
      " ARIMA(2,1,0)(0,0,0)[0]             : AIC=4210.021, Time=0.02 sec\n"
     ]
    },
    {
     "name": "stderr",
     "output_type": "stream",
     "text": [
      "D:\\Programy\\anaconda\\lib\\site-packages\\statsmodels\\base\\model.py:568: ConvergenceWarning: Maximum Likelihood optimization failed to converge. Check mle_retvals\n",
      "  ConvergenceWarning)\n",
      "D:\\Programy\\anaconda\\lib\\site-packages\\statsmodels\\tsa\\base\\tsa_model.py:579: ValueWarning: An unsupported index was provided and will be ignored when e.g. forecasting.\n",
      "  ' ignored when e.g. forecasting.', ValueWarning)\n",
      "D:\\Programy\\anaconda\\lib\\site-packages\\statsmodels\\tsa\\base\\tsa_model.py:579: ValueWarning: An unsupported index was provided and will be ignored when e.g. forecasting.\n",
      "  ' ignored when e.g. forecasting.', ValueWarning)\n"
     ]
    },
    {
     "name": "stdout",
     "output_type": "stream",
     "text": [
      " ARIMA(2,1,2)(0,0,0)[0]             : AIC=inf, Time=0.19 sec\n",
      "\n",
      "Best model:  ARIMA(1,1,1)(0,0,0)[0]          \n",
      "Total fit time: 1.957 seconds\n",
      "autoARIMA time: 0:00:01.957061\n",
      "(1, 1, 1)\n",
      "(0, 0, 0, 0)\n",
      "fit time = 0:00:00.062501\n",
      "##### Koniec dopasowania modelu dla godziny: 145\n",
      "#####\n",
      "##### startuje dopasowanie modelu dla godziny: 146\n",
      "Performing stepwise search to minimize aic\n"
     ]
    },
    {
     "name": "stderr",
     "output_type": "stream",
     "text": [
      "D:\\Programy\\anaconda\\lib\\site-packages\\statsmodels\\base\\model.py:568: ConvergenceWarning: Maximum Likelihood optimization failed to converge. Check mle_retvals\n",
      "  ConvergenceWarning)\n"
     ]
    },
    {
     "name": "stdout",
     "output_type": "stream",
     "text": [
      " ARIMA(2,1,2)(0,0,0)[0] intercept   : AIC=3993.897, Time=0.25 sec\n",
      " ARIMA(0,1,0)(0,0,0)[0] intercept   : AIC=4042.829, Time=0.02 sec\n",
      " ARIMA(1,1,0)(0,0,0)[0] intercept   : AIC=4009.680, Time=0.03 sec\n",
      " ARIMA(0,1,1)(0,0,0)[0] intercept   : AIC=3995.741, Time=0.05 sec\n",
      " ARIMA(0,1,0)(0,0,0)[0]             : AIC=4040.840, Time=0.01 sec\n",
      " ARIMA(1,1,2)(0,0,0)[0] intercept   : AIC=3991.998, Time=0.14 sec\n",
      " ARIMA(0,1,2)(0,0,0)[0] intercept   : AIC=3996.201, Time=0.06 sec\n",
      " ARIMA(1,1,1)(0,0,0)[0] intercept   : AIC=3996.067, Time=0.08 sec\n",
      " ARIMA(1,1,3)(0,0,0)[0] intercept   : AIC=3993.988, Time=0.20 sec\n"
     ]
    },
    {
     "name": "stderr",
     "output_type": "stream",
     "text": [
      "D:\\Programy\\anaconda\\lib\\site-packages\\statsmodels\\base\\model.py:568: ConvergenceWarning: Maximum Likelihood optimization failed to converge. Check mle_retvals\n",
      "  ConvergenceWarning)\n"
     ]
    },
    {
     "name": "stdout",
     "output_type": "stream",
     "text": [
      " ARIMA(0,1,3)(0,0,0)[0] intercept   : AIC=3998.112, Time=0.23 sec\n",
      " ARIMA(2,1,1)(0,0,0)[0] intercept   : AIC=3998.058, Time=0.11 sec\n"
     ]
    },
    {
     "name": "stderr",
     "output_type": "stream",
     "text": [
      "D:\\Programy\\anaconda\\lib\\site-packages\\statsmodels\\base\\model.py:568: ConvergenceWarning: Maximum Likelihood optimization failed to converge. Check mle_retvals\n",
      "  ConvergenceWarning)\n",
      "D:\\Programy\\anaconda\\lib\\site-packages\\statsmodels\\base\\model.py:568: ConvergenceWarning: Maximum Likelihood optimization failed to converge. Check mle_retvals\n",
      "  ConvergenceWarning)\n"
     ]
    },
    {
     "name": "stdout",
     "output_type": "stream",
     "text": [
      " ARIMA(2,1,3)(0,0,0)[0] intercept   : AIC=3995.784, Time=0.27 sec\n",
      " ARIMA(1,1,2)(0,0,0)[0]             : AIC=3990.257, Time=0.14 sec\n",
      " ARIMA(0,1,2)(0,0,0)[0]             : AIC=3994.432, Time=0.03 sec\n",
      " ARIMA(1,1,1)(0,0,0)[0]             : AIC=3994.351, Time=0.04 sec\n",
      " ARIMA(2,1,2)(0,0,0)[0]             : AIC=3992.188, Time=0.18 sec\n",
      " ARIMA(1,1,3)(0,0,0)[0]             : AIC=3992.268, Time=0.15 sec\n",
      " ARIMA(0,1,1)(0,0,0)[0]             : AIC=3993.965, Time=0.02 sec\n",
      " ARIMA(0,1,3)(0,0,0)[0]             : AIC=3996.387, Time=0.16 sec\n",
      " ARIMA(2,1,1)(0,0,0)[0]             : AIC=3996.341, Time=0.07 sec\n"
     ]
    },
    {
     "name": "stderr",
     "output_type": "stream",
     "text": [
      "D:\\Programy\\anaconda\\lib\\site-packages\\statsmodels\\base\\model.py:568: ConvergenceWarning: Maximum Likelihood optimization failed to converge. Check mle_retvals\n",
      "  ConvergenceWarning)\n",
      "D:\\Programy\\anaconda\\lib\\site-packages\\statsmodels\\tsa\\base\\tsa_model.py:579: ValueWarning: An unsupported index was provided and will be ignored when e.g. forecasting.\n",
      "  ' ignored when e.g. forecasting.', ValueWarning)\n",
      "D:\\Programy\\anaconda\\lib\\site-packages\\statsmodels\\tsa\\base\\tsa_model.py:579: ValueWarning: An unsupported index was provided and will be ignored when e.g. forecasting.\n",
      "  ' ignored when e.g. forecasting.', ValueWarning)\n"
     ]
    },
    {
     "name": "stdout",
     "output_type": "stream",
     "text": [
      " ARIMA(2,1,3)(0,0,0)[0]             : AIC=3994.113, Time=0.19 sec\n",
      "\n",
      "Best model:  ARIMA(1,1,2)(0,0,0)[0]          \n",
      "Total fit time: 2.459 seconds\n",
      "autoARIMA time: 0:00:02.459052\n",
      "(1, 1, 2)\n",
      "(0, 0, 0, 0)\n",
      "fit time = 0:00:00.078126\n",
      "##### Koniec dopasowania modelu dla godziny: 146\n",
      "#####\n",
      "##### startuje dopasowanie modelu dla godziny: 147\n",
      "Performing stepwise search to minimize aic\n",
      " ARIMA(2,1,2)(0,0,0)[0] intercept   : AIC=4112.858, Time=0.10 sec\n",
      " ARIMA(0,1,0)(0,0,0)[0] intercept   : AIC=4172.002, Time=0.02 sec\n",
      " ARIMA(1,1,0)(0,0,0)[0] intercept   : AIC=4146.249, Time=0.05 sec\n",
      " ARIMA(0,1,1)(0,0,0)[0] intercept   : AIC=4118.889, Time=0.05 sec\n",
      " ARIMA(0,1,0)(0,0,0)[0]             : AIC=4170.012, Time=0.01 sec\n",
      " ARIMA(1,1,2)(0,0,0)[0] intercept   : AIC=4111.465, Time=0.11 sec\n",
      " ARIMA(0,1,2)(0,0,0)[0] intercept   : AIC=4115.457, Time=0.13 sec\n",
      " ARIMA(1,1,1)(0,0,0)[0] intercept   : AIC=4117.458, Time=0.16 sec\n",
      " ARIMA(1,1,3)(0,0,0)[0] intercept   : AIC=4112.892, Time=0.19 sec\n",
      " ARIMA(0,1,3)(0,0,0)[0] intercept   : AIC=4111.691, Time=0.18 sec\n"
     ]
    },
    {
     "name": "stderr",
     "output_type": "stream",
     "text": [
      "D:\\Programy\\anaconda\\lib\\site-packages\\statsmodels\\base\\model.py:568: ConvergenceWarning: Maximum Likelihood optimization failed to converge. Check mle_retvals\n",
      "  ConvergenceWarning)\n"
     ]
    },
    {
     "name": "stdout",
     "output_type": "stream",
     "text": [
      " ARIMA(2,1,1)(0,0,0)[0] intercept   : AIC=4114.343, Time=0.13 sec\n",
      " ARIMA(2,1,3)(0,0,0)[0] intercept   : AIC=4114.893, Time=0.18 sec\n",
      " ARIMA(1,1,2)(0,0,0)[0]             : AIC=4109.841, Time=0.06 sec\n",
      " ARIMA(0,1,2)(0,0,0)[0]             : AIC=4113.893, Time=0.02 sec\n",
      " ARIMA(1,1,1)(0,0,0)[0]             : AIC=4115.851, Time=0.03 sec\n",
      " ARIMA(2,1,2)(0,0,0)[0]             : AIC=4111.200, Time=0.07 sec\n",
      " ARIMA(1,1,3)(0,0,0)[0]             : AIC=4111.197, Time=0.14 sec\n",
      " ARIMA(0,1,1)(0,0,0)[0]             : AIC=4117.165, Time=0.15 sec\n",
      " ARIMA(0,1,3)(0,0,0)[0]             : AIC=4110.002, Time=0.04 sec\n",
      " ARIMA(2,1,1)(0,0,0)[0]             : AIC=4112.654, Time=0.08 sec\n"
     ]
    },
    {
     "name": "stderr",
     "output_type": "stream",
     "text": [
      "D:\\Programy\\anaconda\\lib\\site-packages\\statsmodels\\base\\model.py:568: ConvergenceWarning: Maximum Likelihood optimization failed to converge. Check mle_retvals\n",
      "  ConvergenceWarning)\n",
      "D:\\Programy\\anaconda\\lib\\site-packages\\statsmodels\\tsa\\base\\tsa_model.py:579: ValueWarning: An unsupported index was provided and will be ignored when e.g. forecasting.\n",
      "  ' ignored when e.g. forecasting.', ValueWarning)\n",
      "D:\\Programy\\anaconda\\lib\\site-packages\\statsmodels\\tsa\\base\\tsa_model.py:579: ValueWarning: An unsupported index was provided and will be ignored when e.g. forecasting.\n",
      "  ' ignored when e.g. forecasting.', ValueWarning)\n"
     ]
    },
    {
     "name": "stdout",
     "output_type": "stream",
     "text": [
      " ARIMA(2,1,3)(0,0,0)[0]             : AIC=4112.619, Time=0.20 sec\n",
      "\n",
      "Best model:  ARIMA(1,1,2)(0,0,0)[0]          \n",
      "Total fit time: 2.136 seconds\n",
      "autoARIMA time: 0:00:02.136157\n",
      "(1, 1, 2)\n",
      "(0, 0, 0, 0)\n",
      "fit time = 0:00:00.078128\n",
      "##### Koniec dopasowania modelu dla godziny: 147\n",
      "#####\n",
      "##### startuje dopasowanie modelu dla godziny: 148\n",
      "Performing stepwise search to minimize aic\n"
     ]
    },
    {
     "name": "stderr",
     "output_type": "stream",
     "text": [
      "D:\\Programy\\anaconda\\lib\\site-packages\\statsmodels\\base\\model.py:568: ConvergenceWarning: Maximum Likelihood optimization failed to converge. Check mle_retvals\n",
      "  ConvergenceWarning)\n"
     ]
    },
    {
     "name": "stdout",
     "output_type": "stream",
     "text": [
      " ARIMA(2,1,2)(0,0,0)[0] intercept   : AIC=4341.724, Time=0.28 sec\n",
      " ARIMA(0,1,0)(0,0,0)[0] intercept   : AIC=4402.836, Time=0.02 sec\n",
      " ARIMA(1,1,0)(0,0,0)[0] intercept   : AIC=4379.582, Time=0.03 sec\n",
      " ARIMA(0,1,1)(0,0,0)[0] intercept   : AIC=4348.670, Time=0.15 sec\n",
      " ARIMA(0,1,0)(0,0,0)[0]             : AIC=4400.847, Time=0.02 sec\n"
     ]
    },
    {
     "name": "stderr",
     "output_type": "stream",
     "text": [
      "D:\\Programy\\anaconda\\lib\\site-packages\\statsmodels\\base\\model.py:568: ConvergenceWarning: Maximum Likelihood optimization failed to converge. Check mle_retvals\n",
      "  ConvergenceWarning)\n"
     ]
    },
    {
     "name": "stdout",
     "output_type": "stream",
     "text": [
      " ARIMA(1,1,2)(0,0,0)[0] intercept   : AIC=4339.111, Time=0.20 sec\n",
      " ARIMA(0,1,2)(0,0,0)[0] intercept   : AIC=4337.131, Time=0.13 sec\n"
     ]
    },
    {
     "name": "stderr",
     "output_type": "stream",
     "text": [
      "D:\\Programy\\anaconda\\lib\\site-packages\\statsmodels\\base\\model.py:568: ConvergenceWarning: Maximum Likelihood optimization failed to converge. Check mle_retvals\n",
      "  ConvergenceWarning)\n",
      "D:\\Programy\\anaconda\\lib\\site-packages\\statsmodels\\base\\model.py:568: ConvergenceWarning: Maximum Likelihood optimization failed to converge. Check mle_retvals\n",
      "  ConvergenceWarning)\n"
     ]
    },
    {
     "name": "stdout",
     "output_type": "stream",
     "text": [
      " ARIMA(0,1,3)(0,0,0)[0] intercept   : AIC=4338.978, Time=0.19 sec\n",
      " ARIMA(1,1,1)(0,0,0)[0] intercept   : AIC=4338.333, Time=0.17 sec\n"
     ]
    },
    {
     "name": "stderr",
     "output_type": "stream",
     "text": [
      "D:\\Programy\\anaconda\\lib\\site-packages\\statsmodels\\base\\model.py:568: ConvergenceWarning: Maximum Likelihood optimization failed to converge. Check mle_retvals\n",
      "  ConvergenceWarning)\n"
     ]
    },
    {
     "name": "stdout",
     "output_type": "stream",
     "text": [
      " ARIMA(1,1,3)(0,0,0)[0] intercept   : AIC=4340.113, Time=0.26 sec\n",
      " ARIMA(0,1,2)(0,0,0)[0]             : AIC=4335.975, Time=0.03 sec\n",
      " ARIMA(0,1,1)(0,0,0)[0]             : AIC=4347.203, Time=0.05 sec\n",
      " ARIMA(1,1,2)(0,0,0)[0]             : AIC=4337.912, Time=0.09 sec\n",
      " ARIMA(0,1,3)(0,0,0)[0]             : AIC=4337.851, Time=0.05 sec\n",
      " ARIMA(1,1,1)(0,0,0)[0]             : AIC=4337.246, Time=0.06 sec\n"
     ]
    },
    {
     "name": "stderr",
     "output_type": "stream",
     "text": [
      "D:\\Programy\\anaconda\\lib\\site-packages\\statsmodels\\base\\model.py:568: ConvergenceWarning: Maximum Likelihood optimization failed to converge. Check mle_retvals\n",
      "  ConvergenceWarning)\n",
      "D:\\Programy\\anaconda\\lib\\site-packages\\statsmodels\\tsa\\base\\tsa_model.py:579: ValueWarning: An unsupported index was provided and will be ignored when e.g. forecasting.\n",
      "  ' ignored when e.g. forecasting.', ValueWarning)\n",
      "D:\\Programy\\anaconda\\lib\\site-packages\\statsmodels\\tsa\\base\\tsa_model.py:579: ValueWarning: An unsupported index was provided and will be ignored when e.g. forecasting.\n",
      "  ' ignored when e.g. forecasting.', ValueWarning)\n"
     ]
    },
    {
     "name": "stdout",
     "output_type": "stream",
     "text": [
      " ARIMA(1,1,3)(0,0,0)[0]             : AIC=4339.233, Time=0.17 sec\n",
      "\n",
      "Best model:  ARIMA(0,1,2)(0,0,0)[0]          \n",
      "Total fit time: 1.913 seconds\n",
      "autoARIMA time: 0:00:01.913480\n",
      "(0, 1, 2)\n",
      "(0, 0, 0, 0)\n",
      "fit time = 0:00:00.031251\n",
      "##### Koniec dopasowania modelu dla godziny: 148\n",
      "#####\n",
      "##### startuje dopasowanie modelu dla godziny: 149\n",
      "Performing stepwise search to minimize aic\n"
     ]
    },
    {
     "name": "stderr",
     "output_type": "stream",
     "text": [
      "D:\\Programy\\anaconda\\lib\\site-packages\\statsmodels\\base\\model.py:568: ConvergenceWarning: Maximum Likelihood optimization failed to converge. Check mle_retvals\n",
      "  ConvergenceWarning)\n"
     ]
    },
    {
     "name": "stdout",
     "output_type": "stream",
     "text": [
      " ARIMA(2,1,2)(0,0,0)[0] intercept   : AIC=4267.678, Time=0.26 sec\n",
      " ARIMA(0,1,0)(0,0,0)[0] intercept   : AIC=4306.322, Time=0.02 sec\n",
      " ARIMA(1,1,0)(0,0,0)[0] intercept   : AIC=4290.840, Time=0.04 sec\n",
      " ARIMA(0,1,1)(0,0,0)[0] intercept   : AIC=4276.601, Time=0.03 sec\n",
      " ARIMA(0,1,0)(0,0,0)[0]             : AIC=4304.335, Time=0.02 sec\n",
      " ARIMA(1,1,2)(0,0,0)[0] intercept   : AIC=4265.765, Time=0.11 sec\n",
      " ARIMA(0,1,2)(0,0,0)[0] intercept   : AIC=4263.839, Time=0.05 sec\n",
      " ARIMA(0,1,3)(0,0,0)[0] intercept   : AIC=4265.329, Time=0.23 sec\n",
      " ARIMA(1,1,1)(0,0,0)[0] intercept   : AIC=4264.835, Time=0.16 sec\n"
     ]
    },
    {
     "name": "stderr",
     "output_type": "stream",
     "text": [
      "D:\\Programy\\anaconda\\lib\\site-packages\\statsmodels\\base\\model.py:568: ConvergenceWarning: Maximum Likelihood optimization failed to converge. Check mle_retvals\n",
      "  ConvergenceWarning)\n",
      "D:\\Programy\\anaconda\\lib\\site-packages\\statsmodels\\base\\model.py:568: ConvergenceWarning: Maximum Likelihood optimization failed to converge. Check mle_retvals\n",
      "  ConvergenceWarning)\n"
     ]
    },
    {
     "name": "stdout",
     "output_type": "stream",
     "text": [
      " ARIMA(1,1,3)(0,0,0)[0] intercept   : AIC=4267.435, Time=0.28 sec\n",
      " ARIMA(0,1,2)(0,0,0)[0]             : AIC=4262.032, Time=0.05 sec\n",
      " ARIMA(0,1,1)(0,0,0)[0]             : AIC=4274.831, Time=0.02 sec\n",
      " ARIMA(1,1,2)(0,0,0)[0]             : AIC=4263.850, Time=0.09 sec\n",
      " ARIMA(0,1,3)(0,0,0)[0]             : AIC=4263.926, Time=0.06 sec\n",
      " ARIMA(1,1,1)(0,0,0)[0]             : AIC=4263.085, Time=0.09 sec\n"
     ]
    },
    {
     "name": "stderr",
     "output_type": "stream",
     "text": [
      "D:\\Programy\\anaconda\\lib\\site-packages\\statsmodels\\base\\model.py:568: ConvergenceWarning: Maximum Likelihood optimization failed to converge. Check mle_retvals\n",
      "  ConvergenceWarning)\n",
      "D:\\Programy\\anaconda\\lib\\site-packages\\statsmodels\\base\\model.py:568: ConvergenceWarning: Maximum Likelihood optimization failed to converge. Check mle_retvals\n",
      "  ConvergenceWarning)\n"
     ]
    },
    {
     "name": "stdout",
     "output_type": "stream",
     "text": [
      " ARIMA(1,1,3)(0,0,0)[0]             : AIC=4263.831, Time=0.17 sec\n",
      "\n",
      "Best model:  ARIMA(0,1,2)(0,0,0)[0]          \n",
      "Total fit time: 1.700 seconds\n",
      "autoARIMA time: 0:00:01.699686\n",
      "(0, 1, 2)\n",
      "(0, 0, 0, 0)\n",
      "fit time = 0:00:00.043130\n",
      "##### Koniec dopasowania modelu dla godziny: 149\n",
      "#####\n",
      "##### startuje dopasowanie modelu dla godziny: 150\n",
      "Performing stepwise search to minimize aic\n"
     ]
    },
    {
     "name": "stderr",
     "output_type": "stream",
     "text": [
      "D:\\Programy\\anaconda\\lib\\site-packages\\statsmodels\\tsa\\base\\tsa_model.py:579: ValueWarning: An unsupported index was provided and will be ignored when e.g. forecasting.\n",
      "  ' ignored when e.g. forecasting.', ValueWarning)\n",
      "D:\\Programy\\anaconda\\lib\\site-packages\\statsmodels\\tsa\\base\\tsa_model.py:579: ValueWarning: An unsupported index was provided and will be ignored when e.g. forecasting.\n",
      "  ' ignored when e.g. forecasting.', ValueWarning)\n"
     ]
    },
    {
     "name": "stdout",
     "output_type": "stream",
     "text": [
      " ARIMA(2,1,2)(0,0,0)[0] intercept   : AIC=4333.158, Time=0.19 sec\n",
      " ARIMA(0,1,0)(0,0,0)[0] intercept   : AIC=4368.776, Time=0.02 sec\n",
      " ARIMA(1,1,0)(0,0,0)[0] intercept   : AIC=4351.309, Time=0.05 sec\n",
      " ARIMA(0,1,1)(0,0,0)[0] intercept   : AIC=4337.514, Time=0.03 sec\n",
      " ARIMA(0,1,0)(0,0,0)[0]             : AIC=4366.783, Time=0.02 sec\n",
      " ARIMA(1,1,2)(0,0,0)[0] intercept   : AIC=4331.287, Time=0.11 sec\n",
      " ARIMA(0,1,2)(0,0,0)[0] intercept   : AIC=4329.293, Time=0.06 sec\n",
      " ARIMA(0,1,3)(0,0,0)[0] intercept   : AIC=4331.399, Time=0.08 sec\n",
      " ARIMA(1,1,1)(0,0,0)[0] intercept   : AIC=4330.141, Time=0.08 sec\n"
     ]
    },
    {
     "name": "stderr",
     "output_type": "stream",
     "text": [
      "D:\\Programy\\anaconda\\lib\\site-packages\\statsmodels\\base\\model.py:568: ConvergenceWarning: Maximum Likelihood optimization failed to converge. Check mle_retvals\n",
      "  ConvergenceWarning)\n"
     ]
    },
    {
     "name": "stdout",
     "output_type": "stream",
     "text": [
      " ARIMA(1,1,3)(0,0,0)[0] intercept   : AIC=4333.144, Time=0.25 sec\n",
      " ARIMA(0,1,2)(0,0,0)[0]             : AIC=4327.438, Time=0.04 sec\n",
      " ARIMA(0,1,1)(0,0,0)[0]             : AIC=4335.700, Time=0.02 sec\n",
      " ARIMA(1,1,2)(0,0,0)[0]             : AIC=4329.425, Time=0.06 sec\n",
      " ARIMA(0,1,3)(0,0,0)[0]             : AIC=4329.473, Time=0.05 sec\n",
      " ARIMA(1,1,1)(0,0,0)[0]             : AIC=4328.445, Time=0.05 sec\n",
      " ARIMA(1,1,3)(0,0,0)[0]             : AIC=4331.481, Time=0.06 sec\n",
      "\n",
      "Best model:  ARIMA(0,1,2)(0,0,0)[0]          \n",
      "Total fit time: 1.161 seconds\n",
      "autoARIMA time: 0:00:01.160577\n",
      "(0, 1, 2)\n",
      "(0, 0, 0, 0)\n",
      "fit time = 0:00:00.052245\n",
      "##### Koniec dopasowania modelu dla godziny: 150\n",
      "#####\n",
      "##### startuje dopasowanie modelu dla godziny: 151\n",
      "Performing stepwise search to minimize aic\n"
     ]
    },
    {
     "name": "stderr",
     "output_type": "stream",
     "text": [
      "D:\\Programy\\anaconda\\lib\\site-packages\\statsmodels\\tsa\\base\\tsa_model.py:579: ValueWarning: An unsupported index was provided and will be ignored when e.g. forecasting.\n",
      "  ' ignored when e.g. forecasting.', ValueWarning)\n",
      "D:\\Programy\\anaconda\\lib\\site-packages\\statsmodels\\tsa\\base\\tsa_model.py:579: ValueWarning: An unsupported index was provided and will be ignored when e.g. forecasting.\n",
      "  ' ignored when e.g. forecasting.', ValueWarning)\n",
      "D:\\Programy\\anaconda\\lib\\site-packages\\statsmodels\\base\\model.py:568: ConvergenceWarning: Maximum Likelihood optimization failed to converge. Check mle_retvals\n",
      "  ConvergenceWarning)\n"
     ]
    },
    {
     "name": "stdout",
     "output_type": "stream",
     "text": [
      " ARIMA(2,1,2)(0,0,0)[0] intercept   : AIC=4496.123, Time=0.22 sec\n",
      " ARIMA(0,1,0)(0,0,0)[0] intercept   : AIC=4540.455, Time=0.00 sec\n",
      " ARIMA(1,1,0)(0,0,0)[0] intercept   : AIC=4528.275, Time=0.05 sec\n",
      " ARIMA(0,1,1)(0,0,0)[0] intercept   : AIC=4513.561, Time=0.03 sec\n",
      " ARIMA(0,1,0)(0,0,0)[0]             : AIC=4538.464, Time=0.02 sec\n",
      " ARIMA(1,1,2)(0,0,0)[0] intercept   : AIC=4495.970, Time=0.12 sec\n",
      " ARIMA(0,1,2)(0,0,0)[0] intercept   : AIC=4493.977, Time=0.05 sec\n",
      " ARIMA(0,1,3)(0,0,0)[0] intercept   : AIC=4496.183, Time=0.07 sec\n"
     ]
    },
    {
     "name": "stderr",
     "output_type": "stream",
     "text": [
      "D:\\Programy\\anaconda\\lib\\site-packages\\statsmodels\\base\\model.py:568: ConvergenceWarning: Maximum Likelihood optimization failed to converge. Check mle_retvals\n",
      "  ConvergenceWarning)\n"
     ]
    },
    {
     "name": "stdout",
     "output_type": "stream",
     "text": [
      " ARIMA(1,1,1)(0,0,0)[0] intercept   : AIC=4496.470, Time=0.18 sec\n"
     ]
    },
    {
     "name": "stderr",
     "output_type": "stream",
     "text": [
      "D:\\Programy\\anaconda\\lib\\site-packages\\statsmodels\\base\\model.py:568: ConvergenceWarning: Maximum Likelihood optimization failed to converge. Check mle_retvals\n",
      "  ConvergenceWarning)\n"
     ]
    },
    {
     "name": "stdout",
     "output_type": "stream",
     "text": [
      " ARIMA(1,1,3)(0,0,0)[0] intercept   : AIC=4496.698, Time=0.28 sec\n",
      " ARIMA(0,1,2)(0,0,0)[0]             : AIC=4492.360, Time=0.02 sec\n",
      " ARIMA(0,1,1)(0,0,0)[0]             : AIC=4511.794, Time=0.03 sec\n",
      " ARIMA(1,1,2)(0,0,0)[0]             : AIC=4494.349, Time=0.09 sec\n",
      " ARIMA(0,1,3)(0,0,0)[0]             : AIC=4494.359, Time=0.04 sec"
     ]
    },
    {
     "name": "stderr",
     "output_type": "stream",
     "text": [
      "D:\\Programy\\anaconda\\lib\\site-packages\\statsmodels\\base\\model.py:568: ConvergenceWarning: Maximum Likelihood optimization failed to converge. Check mle_retvals\n",
      "  ConvergenceWarning)\n",
      "D:\\Programy\\anaconda\\lib\\site-packages\\statsmodels\\base\\model.py:568: ConvergenceWarning: Maximum Likelihood optimization failed to converge. Check mle_retvals\n",
      "  ConvergenceWarning)\n",
      "D:\\Programy\\anaconda\\lib\\site-packages\\statsmodels\\tsa\\base\\tsa_model.py:579: ValueWarning: An unsupported index was provided and will be ignored when e.g. forecasting.\n",
      "  ' ignored when e.g. forecasting.', ValueWarning)\n",
      "D:\\Programy\\anaconda\\lib\\site-packages\\statsmodels\\tsa\\base\\tsa_model.py:579: ValueWarning: An unsupported index was provided and will be ignored when e.g. forecasting.\n",
      "  ' ignored when e.g. forecasting.', ValueWarning)\n"
     ]
    },
    {
     "name": "stdout",
     "output_type": "stream",
     "text": [
      "\n",
      " ARIMA(1,1,1)(0,0,0)[0]             : AIC=4495.079, Time=0.10 sec\n",
      " ARIMA(1,1,3)(0,0,0)[0]             : AIC=4496.157, Time=0.17 sec\n",
      "\n",
      "Best model:  ARIMA(0,1,2)(0,0,0)[0]          \n",
      "Total fit time: 1.507 seconds\n",
      "autoARIMA time: 0:00:01.506542\n",
      "(0, 1, 2)\n",
      "(0, 0, 0, 0)\n",
      "fit time = 0:00:00.054831\n",
      "##### Koniec dopasowania modelu dla godziny: 151\n",
      "#####\n",
      "##### startuje dopasowanie modelu dla godziny: 152\n",
      "Performing stepwise search to minimize aic\n"
     ]
    },
    {
     "name": "stderr",
     "output_type": "stream",
     "text": [
      "D:\\Programy\\anaconda\\lib\\site-packages\\statsmodels\\base\\model.py:568: ConvergenceWarning: Maximum Likelihood optimization failed to converge. Check mle_retvals\n",
      "  ConvergenceWarning)\n"
     ]
    },
    {
     "name": "stdout",
     "output_type": "stream",
     "text": [
      " ARIMA(2,1,2)(0,0,0)[0] intercept   : AIC=4330.286, Time=0.23 sec\n",
      " ARIMA(0,1,0)(0,0,0)[0] intercept   : AIC=4388.899, Time=0.02 sec\n",
      " ARIMA(1,1,0)(0,0,0)[0] intercept   : AIC=4364.426, Time=0.05 sec\n",
      " ARIMA(0,1,1)(0,0,0)[0] intercept   : AIC=4339.985, Time=0.06 sec\n",
      " ARIMA(0,1,0)(0,0,0)[0]             : AIC=4386.910, Time=0.01 sec\n"
     ]
    },
    {
     "name": "stderr",
     "output_type": "stream",
     "text": [
      "D:\\Programy\\anaconda\\lib\\site-packages\\statsmodels\\base\\model.py:568: ConvergenceWarning: Maximum Likelihood optimization failed to converge. Check mle_retvals\n",
      "  ConvergenceWarning)\n"
     ]
    },
    {
     "name": "stdout",
     "output_type": "stream",
     "text": [
      " ARIMA(1,1,2)(0,0,0)[0] intercept   : AIC=4330.544, Time=0.18 sec\n",
      " ARIMA(2,1,1)(0,0,0)[0] intercept   : AIC=4329.969, Time=0.10 sec\n"
     ]
    },
    {
     "name": "stderr",
     "output_type": "stream",
     "text": [
      "D:\\Programy\\anaconda\\lib\\site-packages\\statsmodels\\base\\model.py:568: ConvergenceWarning: Maximum Likelihood optimization failed to converge. Check mle_retvals\n",
      "  ConvergenceWarning)\n",
      "D:\\Programy\\anaconda\\lib\\site-packages\\statsmodels\\base\\model.py:568: ConvergenceWarning: Maximum Likelihood optimization failed to converge. Check mle_retvals\n",
      "  ConvergenceWarning)\n"
     ]
    },
    {
     "name": "stdout",
     "output_type": "stream",
     "text": [
      " ARIMA(1,1,1)(0,0,0)[0] intercept   : AIC=4328.422, Time=0.14 sec\n",
      " ARIMA(0,1,2)(0,0,0)[0] intercept   : AIC=4328.005, Time=0.19 sec"
     ]
    },
    {
     "name": "stderr",
     "output_type": "stream",
     "text": [
      "D:\\Programy\\anaconda\\lib\\site-packages\\statsmodels\\base\\model.py:568: ConvergenceWarning: Maximum Likelihood optimization failed to converge. Check mle_retvals\n",
      "  ConvergenceWarning)\n"
     ]
    },
    {
     "name": "stdout",
     "output_type": "stream",
     "text": [
      "\n",
      " ARIMA(0,1,3)(0,0,0)[0] intercept   : AIC=4329.902, Time=0.26 sec\n"
     ]
    },
    {
     "name": "stderr",
     "output_type": "stream",
     "text": [
      "D:\\Programy\\anaconda\\lib\\site-packages\\statsmodels\\base\\model.py:568: ConvergenceWarning: Maximum Likelihood optimization failed to converge. Check mle_retvals\n",
      "  ConvergenceWarning)\n"
     ]
    },
    {
     "name": "stdout",
     "output_type": "stream",
     "text": [
      " ARIMA(1,1,3)(0,0,0)[0] intercept   : AIC=4330.788, Time=0.37 sec\n",
      " ARIMA(0,1,2)(0,0,0)[0]             : AIC=4327.003, Time=0.04 sec\n",
      " ARIMA(0,1,1)(0,0,0)[0]             : AIC=4338.509, Time=0.03 sec\n",
      " ARIMA(1,1,2)(0,0,0)[0]             : AIC=4328.903, Time=0.10 sec\n",
      " ARIMA(0,1,3)(0,0,0)[0]             : AIC=4328.926, Time=0.06 sec\n",
      " ARIMA(1,1,1)(0,0,0)[0]             : AIC=4327.455, Time=0.05 sec\n",
      " ARIMA(1,1,3)(0,0,0)[0]             : AIC=4330.901, Time=0.13 sec\n",
      "\n",
      "Best model:  ARIMA(0,1,2)(0,0,0)[0]          \n",
      "Total fit time: 2.005 seconds\n",
      "autoARIMA time: 0:00:02.021792\n",
      "(0, 1, 2)\n",
      "(0, 0, 0, 0)\n",
      "fit time = 0:00:00.036454\n",
      "##### Koniec dopasowania modelu dla godziny: 152\n",
      "#####\n",
      "##### startuje dopasowanie modelu dla godziny: 153\n",
      "Performing stepwise search to minimize aic\n"
     ]
    },
    {
     "name": "stderr",
     "output_type": "stream",
     "text": [
      "D:\\Programy\\anaconda\\lib\\site-packages\\statsmodels\\tsa\\base\\tsa_model.py:579: ValueWarning: An unsupported index was provided and will be ignored when e.g. forecasting.\n",
      "  ' ignored when e.g. forecasting.', ValueWarning)\n",
      "D:\\Programy\\anaconda\\lib\\site-packages\\statsmodels\\tsa\\base\\tsa_model.py:579: ValueWarning: An unsupported index was provided and will be ignored when e.g. forecasting.\n",
      "  ' ignored when e.g. forecasting.', ValueWarning)\n"
     ]
    },
    {
     "name": "stdout",
     "output_type": "stream",
     "text": [
      " ARIMA(2,1,2)(0,0,0)[0] intercept   : AIC=4134.245, Time=0.19 sec\n",
      " ARIMA(0,1,0)(0,0,0)[0] intercept   : AIC=4190.778, Time=0.02 sec\n",
      " ARIMA(1,1,0)(0,0,0)[0] intercept   : AIC=4171.175, Time=0.05 sec\n",
      " ARIMA(0,1,1)(0,0,0)[0] intercept   : AIC=4147.276, Time=0.12 sec\n",
      " ARIMA(0,1,0)(0,0,0)[0]             : AIC=4188.784, Time=0.01 sec\n",
      " ARIMA(1,1,2)(0,0,0)[0] intercept   : AIC=4132.375, Time=0.09 sec\n"
     ]
    },
    {
     "name": "stderr",
     "output_type": "stream",
     "text": [
      "D:\\Programy\\anaconda\\lib\\site-packages\\statsmodels\\base\\model.py:568: ConvergenceWarning: Maximum Likelihood optimization failed to converge. Check mle_retvals\n",
      "  ConvergenceWarning)\n",
      "D:\\Programy\\anaconda\\lib\\site-packages\\statsmodels\\base\\model.py:568: ConvergenceWarning: Maximum Likelihood optimization failed to converge. Check mle_retvals\n",
      "  ConvergenceWarning)\n"
     ]
    },
    {
     "name": "stdout",
     "output_type": "stream",
     "text": [
      " ARIMA(0,1,2)(0,0,0)[0] intercept   : AIC=4137.128, Time=0.22 sec\n",
      " ARIMA(1,1,1)(0,0,0)[0] intercept   : AIC=4140.725, Time=0.17 sec\n",
      " ARIMA(1,1,3)(0,0,0)[0] intercept   : AIC=4134.405, Time=0.17 sec\n"
     ]
    },
    {
     "name": "stderr",
     "output_type": "stream",
     "text": [
      "D:\\Programy\\anaconda\\lib\\site-packages\\statsmodels\\base\\model.py:568: ConvergenceWarning: Maximum Likelihood optimization failed to converge. Check mle_retvals\n",
      "  ConvergenceWarning)\n"
     ]
    },
    {
     "name": "stdout",
     "output_type": "stream",
     "text": [
      " ARIMA(0,1,3)(0,0,0)[0] intercept   : AIC=4135.789, Time=0.22 sec\n",
      " ARIMA(2,1,1)(0,0,0)[0] intercept   : AIC=4139.316, Time=0.11 sec\n"
     ]
    },
    {
     "name": "stderr",
     "output_type": "stream",
     "text": [
      "D:\\Programy\\anaconda\\lib\\site-packages\\statsmodels\\base\\model.py:568: ConvergenceWarning: Maximum Likelihood optimization failed to converge. Check mle_retvals\n",
      "  ConvergenceWarning)\n"
     ]
    },
    {
     "name": "stdout",
     "output_type": "stream",
     "text": [
      " ARIMA(2,1,3)(0,0,0)[0] intercept   : AIC=4136.408, Time=0.29 sec\n",
      " ARIMA(1,1,2)(0,0,0)[0]             : AIC=4130.735, Time=0.09 sec\n",
      " ARIMA(0,1,2)(0,0,0)[0]             : AIC=4135.616, Time=0.05 sec\n",
      " ARIMA(1,1,1)(0,0,0)[0]             : AIC=4139.217, Time=0.04 sec\n",
      " ARIMA(2,1,2)(0,0,0)[0]             : AIC=4132.612, Time=0.13 sec\n",
      " ARIMA(1,1,3)(0,0,0)[0]             : AIC=4132.765, Time=0.12 sec\n",
      " ARIMA(0,1,1)(0,0,0)[0]             : AIC=4145.512, Time=0.06 sec\n",
      " ARIMA(0,1,3)(0,0,0)[0]             : AIC=4134.325, Time=0.07 sec\n",
      " ARIMA(2,1,1)(0,0,0)[0]             : AIC=4137.663, Time=0.07 sec\n"
     ]
    },
    {
     "name": "stderr",
     "output_type": "stream",
     "text": [
      "D:\\Programy\\anaconda\\lib\\site-packages\\statsmodels\\base\\model.py:568: ConvergenceWarning: Maximum Likelihood optimization failed to converge. Check mle_retvals\n",
      "  ConvergenceWarning)\n",
      "D:\\Programy\\anaconda\\lib\\site-packages\\statsmodels\\tsa\\base\\tsa_model.py:579: ValueWarning: An unsupported index was provided and will be ignored when e.g. forecasting.\n",
      "  ' ignored when e.g. forecasting.', ValueWarning)\n",
      "D:\\Programy\\anaconda\\lib\\site-packages\\statsmodels\\tsa\\base\\tsa_model.py:579: ValueWarning: An unsupported index was provided and will be ignored when e.g. forecasting.\n",
      "  ' ignored when e.g. forecasting.', ValueWarning)\n"
     ]
    },
    {
     "name": "stdout",
     "output_type": "stream",
     "text": [
      " ARIMA(2,1,3)(0,0,0)[0]             : AIC=4134.786, Time=0.22 sec\n",
      "\n",
      "Best model:  ARIMA(1,1,2)(0,0,0)[0]          \n",
      "Total fit time: 2.533 seconds\n",
      "autoARIMA time: 0:00:02.540575\n",
      "(1, 1, 2)\n",
      "(0, 0, 0, 0)\n",
      "fit time = 0:00:00.081310\n",
      "##### Koniec dopasowania modelu dla godziny: 153\n",
      "#####\n",
      "##### startuje dopasowanie modelu dla godziny: 154\n",
      "Performing stepwise search to minimize aic\n",
      " ARIMA(2,1,2)(0,0,0)[0] intercept   : AIC=4667.595, Time=0.19 sec\n",
      " ARIMA(0,1,0)(0,0,0)[0] intercept   : AIC=4748.700, Time=0.01 sec\n",
      " ARIMA(1,1,0)(0,0,0)[0] intercept   : AIC=4716.185, Time=0.06 sec\n",
      " ARIMA(0,1,1)(0,0,0)[0] intercept   : AIC=4671.344, Time=0.06 sec\n",
      " ARIMA(0,1,0)(0,0,0)[0]             : AIC=4746.704, Time=0.02 sec\n",
      " ARIMA(1,1,2)(0,0,0)[0] intercept   : AIC=4665.570, Time=0.11 sec\n",
      " ARIMA(0,1,2)(0,0,0)[0] intercept   : AIC=4665.048, Time=0.06 sec\n"
     ]
    },
    {
     "name": "stderr",
     "output_type": "stream",
     "text": [
      "D:\\Programy\\anaconda\\lib\\site-packages\\statsmodels\\base\\model.py:568: ConvergenceWarning: Maximum Likelihood optimization failed to converge. Check mle_retvals\n",
      "  ConvergenceWarning)\n",
      "D:\\Programy\\anaconda\\lib\\site-packages\\statsmodels\\base\\model.py:568: ConvergenceWarning: Maximum Likelihood optimization failed to converge. Check mle_retvals\n",
      "  ConvergenceWarning)\n"
     ]
    },
    {
     "name": "stdout",
     "output_type": "stream",
     "text": [
      " ARIMA(0,1,3)(0,0,0)[0] intercept   : AIC=4665.973, Time=0.20 sec\n",
      " ARIMA(1,1,1)(0,0,0)[0] intercept   : AIC=4665.923, Time=0.19 sec\n",
      " ARIMA(1,1,3)(0,0,0)[0] intercept   : AIC=4667.533, Time=0.24 sec\n",
      " ARIMA(0,1,2)(0,0,0)[0]             : AIC=4663.687, Time=0.05 sec\n",
      " ARIMA(0,1,1)(0,0,0)[0]             : AIC=4669.981, Time=0.03 sec\n",
      " ARIMA(1,1,2)(0,0,0)[0]             : AIC=4664.451, Time=0.11 sec\n",
      " ARIMA(0,1,3)(0,0,0)[0]             : AIC=4664.850, Time=0.10 sec\n",
      " ARIMA(1,1,1)(0,0,0)[0]             : AIC=4664.939, Time=0.04 sec\n"
     ]
    },
    {
     "name": "stderr",
     "output_type": "stream",
     "text": [
      "D:\\Programy\\anaconda\\lib\\site-packages\\statsmodels\\base\\model.py:568: ConvergenceWarning: Maximum Likelihood optimization failed to converge. Check mle_retvals\n",
      "  ConvergenceWarning)\n",
      "D:\\Programy\\anaconda\\lib\\site-packages\\statsmodels\\tsa\\base\\tsa_model.py:579: ValueWarning: An unsupported index was provided and will be ignored when e.g. forecasting.\n",
      "  ' ignored when e.g. forecasting.', ValueWarning)\n",
      "D:\\Programy\\anaconda\\lib\\site-packages\\statsmodels\\tsa\\base\\tsa_model.py:579: ValueWarning: An unsupported index was provided and will be ignored when e.g. forecasting.\n",
      "  ' ignored when e.g. forecasting.', ValueWarning)\n"
     ]
    },
    {
     "name": "stdout",
     "output_type": "stream",
     "text": [
      " ARIMA(1,1,3)(0,0,0)[0]             : AIC=4666.412, Time=0.26 sec\n",
      "\n",
      "Best model:  ARIMA(0,1,2)(0,0,0)[0]          \n",
      "Total fit time: 1.748 seconds\n",
      "autoARIMA time: 0:00:01.753306\n",
      "(0, 1, 2)\n",
      "(0, 0, 0, 0)\n",
      "fit time = 0:00:00.065074\n",
      "##### Koniec dopasowania modelu dla godziny: 154\n",
      "#####\n",
      "##### startuje dopasowanie modelu dla godziny: 155\n",
      "Performing stepwise search to minimize aic\n"
     ]
    },
    {
     "name": "stderr",
     "output_type": "stream",
     "text": [
      "D:\\Programy\\anaconda\\lib\\site-packages\\statsmodels\\base\\model.py:568: ConvergenceWarning: Maximum Likelihood optimization failed to converge. Check mle_retvals\n",
      "  ConvergenceWarning)\n"
     ]
    },
    {
     "name": "stdout",
     "output_type": "stream",
     "text": [
      " ARIMA(2,1,2)(0,0,0)[0] intercept   : AIC=4596.364, Time=0.33 sec\n",
      " ARIMA(0,1,0)(0,0,0)[0] intercept   : AIC=4653.242, Time=0.01 sec\n",
      " ARIMA(1,1,0)(0,0,0)[0] intercept   : AIC=4632.552, Time=0.05 sec\n",
      " ARIMA(0,1,1)(0,0,0)[0] intercept   : AIC=4610.635, Time=0.03 sec\n",
      " ARIMA(0,1,0)(0,0,0)[0]             : AIC=4651.249, Time=0.02 sec\n"
     ]
    },
    {
     "name": "stderr",
     "output_type": "stream",
     "text": [
      "D:\\Programy\\anaconda\\lib\\site-packages\\statsmodels\\base\\model.py:568: ConvergenceWarning: Maximum Likelihood optimization failed to converge. Check mle_retvals\n",
      "  ConvergenceWarning)\n"
     ]
    },
    {
     "name": "stdout",
     "output_type": "stream",
     "text": [
      " ARIMA(1,1,2)(0,0,0)[0] intercept   : AIC=4594.131, Time=0.26 sec\n",
      " ARIMA(0,1,2)(0,0,0)[0] intercept   : AIC=4593.239, Time=0.10 sec\n"
     ]
    },
    {
     "name": "stderr",
     "output_type": "stream",
     "text": [
      "D:\\Programy\\anaconda\\lib\\site-packages\\statsmodels\\base\\model.py:568: ConvergenceWarning: Maximum Likelihood optimization failed to converge. Check mle_retvals\n",
      "  ConvergenceWarning)\n"
     ]
    },
    {
     "name": "stdout",
     "output_type": "stream",
     "text": [
      " ARIMA(0,1,3)(0,0,0)[0] intercept   : AIC=4593.817, Time=0.34 sec\n"
     ]
    },
    {
     "name": "stderr",
     "output_type": "stream",
     "text": [
      "D:\\Programy\\anaconda\\lib\\site-packages\\statsmodels\\base\\model.py:568: ConvergenceWarning: Maximum Likelihood optimization failed to converge. Check mle_retvals\n",
      "  ConvergenceWarning)\n"
     ]
    },
    {
     "name": "stdout",
     "output_type": "stream",
     "text": [
      " ARIMA(1,1,1)(0,0,0)[0] intercept   : AIC=4592.758, Time=0.36 sec\n"
     ]
    },
    {
     "name": "stderr",
     "output_type": "stream",
     "text": [
      "D:\\Programy\\anaconda\\lib\\site-packages\\statsmodels\\base\\model.py:568: ConvergenceWarning: Maximum Likelihood optimization failed to converge. Check mle_retvals\n",
      "  ConvergenceWarning)\n"
     ]
    },
    {
     "name": "stdout",
     "output_type": "stream",
     "text": [
      " ARIMA(2,1,1)(0,0,0)[0] intercept   : AIC=4594.260, Time=0.29 sec\n",
      " ARIMA(2,1,0)(0,0,0)[0] intercept   : AIC=4619.249, Time=0.05 sec\n",
      " ARIMA(1,1,1)(0,0,0)[0]             : AIC=4591.815, Time=0.05 sec\n",
      " ARIMA(0,1,1)(0,0,0)[0]             : AIC=4609.009, Time=0.03 sec\n",
      " ARIMA(1,1,0)(0,0,0)[0]             : AIC=4630.591, Time=0.03 sec\n"
     ]
    },
    {
     "name": "stderr",
     "output_type": "stream",
     "text": [
      "D:\\Programy\\anaconda\\lib\\site-packages\\statsmodels\\base\\model.py:568: ConvergenceWarning: Maximum Likelihood optimization failed to converge. Check mle_retvals\n",
      "  ConvergenceWarning)\n"
     ]
    },
    {
     "name": "stdout",
     "output_type": "stream",
     "text": [
      " ARIMA(2,1,1)(0,0,0)[0]             : AIC=4592.900, Time=0.15 sec\n",
      " ARIMA(1,1,2)(0,0,0)[0]             : AIC=4592.842, Time=0.07 sec\n",
      " ARIMA(0,1,2)(0,0,0)[0]             : AIC=4591.873, Time=0.05 sec\n",
      " ARIMA(2,1,0)(0,0,0)[0]             : AIC=4617.319, Time=0.03 sec\n"
     ]
    },
    {
     "name": "stderr",
     "output_type": "stream",
     "text": [
      "D:\\Programy\\anaconda\\lib\\site-packages\\statsmodels\\base\\model.py:568: ConvergenceWarning: Maximum Likelihood optimization failed to converge. Check mle_retvals\n",
      "  ConvergenceWarning)\n",
      "D:\\Programy\\anaconda\\lib\\site-packages\\statsmodels\\tsa\\base\\tsa_model.py:579: ValueWarning: An unsupported index was provided and will be ignored when e.g. forecasting.\n",
      "  ' ignored when e.g. forecasting.', ValueWarning)\n",
      "D:\\Programy\\anaconda\\lib\\site-packages\\statsmodels\\tsa\\base\\tsa_model.py:579: ValueWarning: An unsupported index was provided and will be ignored when e.g. forecasting.\n",
      "  ' ignored when e.g. forecasting.', ValueWarning)\n"
     ]
    },
    {
     "name": "stdout",
     "output_type": "stream",
     "text": [
      " ARIMA(2,1,2)(0,0,0)[0]             : AIC=4595.255, Time=0.19 sec\n",
      "\n",
      "Best model:  ARIMA(1,1,1)(0,0,0)[0]          \n",
      "Total fit time: 2.448 seconds\n",
      "autoARIMA time: 0:00:02.448032\n",
      "(1, 1, 1)\n",
      "(0, 0, 0, 0)\n",
      "fit time = 0:00:00.066466\n",
      "##### Koniec dopasowania modelu dla godziny: 155\n",
      "#####\n",
      "##### startuje dopasowanie modelu dla godziny: 156\n",
      "Performing stepwise search to minimize aic\n",
      " ARIMA(2,1,2)(0,0,0)[0] intercept   : AIC=4517.217, Time=0.09 sec\n",
      " ARIMA(0,1,0)(0,0,0)[0] intercept   : AIC=4576.431, Time=0.03 sec\n",
      " ARIMA(1,1,0)(0,0,0)[0] intercept   : AIC=4544.691, Time=0.05 sec\n",
      " ARIMA(0,1,1)(0,0,0)[0] intercept   : AIC=4523.002, Time=0.11 sec\n",
      " ARIMA(0,1,0)(0,0,0)[0]             : AIC=4574.436, Time=0.03 sec\n"
     ]
    },
    {
     "name": "stderr",
     "output_type": "stream",
     "text": [
      "D:\\Programy\\anaconda\\lib\\site-packages\\statsmodels\\base\\model.py:568: ConvergenceWarning: Maximum Likelihood optimization failed to converge. Check mle_retvals\n",
      "  ConvergenceWarning)\n"
     ]
    },
    {
     "name": "stdout",
     "output_type": "stream",
     "text": [
      " ARIMA(1,1,2)(0,0,0)[0] intercept   : AIC=4515.365, Time=0.18 sec\n",
      " ARIMA(0,1,2)(0,0,0)[0] intercept   : AIC=4514.602, Time=0.08 sec\n"
     ]
    },
    {
     "name": "stderr",
     "output_type": "stream",
     "text": [
      "D:\\Programy\\anaconda\\lib\\site-packages\\statsmodels\\base\\model.py:568: ConvergenceWarning: Maximum Likelihood optimization failed to converge. Check mle_retvals\n",
      "  ConvergenceWarning)\n"
     ]
    },
    {
     "name": "stdout",
     "output_type": "stream",
     "text": [
      " ARIMA(0,1,3)(0,0,0)[0] intercept   : AIC=4514.854, Time=0.19 sec\n",
      " ARIMA(1,1,1)(0,0,0)[0] intercept   : AIC=4513.507, Time=0.08 sec\n",
      " ARIMA(2,1,1)(0,0,0)[0] intercept   : AIC=4515.505, Time=0.09 sec\n",
      " ARIMA(2,1,0)(0,0,0)[0] intercept   : AIC=4536.465, Time=0.19 sec\n",
      " ARIMA(1,1,1)(0,0,0)[0]             : AIC=4512.331, Time=0.04 sec\n",
      " ARIMA(0,1,1)(0,0,0)[0]             : AIC=4521.422, Time=0.06 sec\n",
      " ARIMA(1,1,0)(0,0,0)[0]             : AIC=4542.728, Time=0.02 sec\n",
      " ARIMA(2,1,1)(0,0,0)[0]             : AIC=4514.331, Time=0.07 sec\n",
      " ARIMA(1,1,2)(0,0,0)[0]             : AIC=4514.105, Time=0.10 sec\n",
      " ARIMA(0,1,2)(0,0,0)[0]             : AIC=4513.246, Time=0.06 sec\n",
      " ARIMA(2,1,0)(0,0,0)[0]             : AIC=4534.581, Time=0.14 sec\n",
      " ARIMA(2,1,2)(0,0,0)[0]             : AIC=4516.054, Time=0.10 sec\n",
      "\n",
      "Best model:  ARIMA(1,1,1)(0,0,0)[0]          \n",
      "Total fit time: 1.736 seconds\n",
      "autoARIMA time: 0:00:01.742560\n",
      "(1, 1, 1)\n",
      "(0, 0, 0, 0)\n",
      "fit time = 0:00:00.079056"
     ]
    },
    {
     "name": "stderr",
     "output_type": "stream",
     "text": [
      "D:\\Programy\\anaconda\\lib\\site-packages\\statsmodels\\tsa\\base\\tsa_model.py:579: ValueWarning: An unsupported index was provided and will be ignored when e.g. forecasting.\n",
      "  ' ignored when e.g. forecasting.', ValueWarning)\n",
      "D:\\Programy\\anaconda\\lib\\site-packages\\statsmodels\\tsa\\base\\tsa_model.py:579: ValueWarning: An unsupported index was provided and will be ignored when e.g. forecasting.\n",
      "  ' ignored when e.g. forecasting.', ValueWarning)\n",
      "D:\\Programy\\anaconda\\lib\\site-packages\\statsmodels\\tsa\\statespace\\sarimax.py:966: UserWarning: Non-stationary starting autoregressive parameters found. Using zeros as starting parameters.\n",
      "  warn('Non-stationary starting autoregressive parameters'\n",
      "D:\\Programy\\anaconda\\lib\\site-packages\\statsmodels\\tsa\\statespace\\sarimax.py:978: UserWarning: Non-invertible starting MA parameters found. Using zeros as starting parameters.\n",
      "  warn('Non-invertible starting MA parameters found.'\n"
     ]
    },
    {
     "name": "stdout",
     "output_type": "stream",
     "text": [
      "\n",
      "##### Koniec dopasowania modelu dla godziny: 156\n",
      "#####\n",
      "##### startuje dopasowanie modelu dla godziny: 157\n",
      "Performing stepwise search to minimize aic\n"
     ]
    },
    {
     "name": "stderr",
     "output_type": "stream",
     "text": [
      "D:\\Programy\\anaconda\\lib\\site-packages\\statsmodels\\base\\model.py:568: ConvergenceWarning: Maximum Likelihood optimization failed to converge. Check mle_retvals\n",
      "  ConvergenceWarning)\n"
     ]
    },
    {
     "name": "stdout",
     "output_type": "stream",
     "text": [
      " ARIMA(2,1,2)(0,0,0)[0] intercept   : AIC=4606.683, Time=0.32 sec\n",
      " ARIMA(0,1,0)(0,0,0)[0] intercept   : AIC=4668.357, Time=0.01 sec\n",
      " ARIMA(1,1,0)(0,0,0)[0] intercept   : AIC=4644.136, Time=0.05 sec\n",
      " ARIMA(0,1,1)(0,0,0)[0] intercept   : AIC=4616.204, Time=0.12 sec\n",
      " ARIMA(0,1,0)(0,0,0)[0]             : AIC=4666.364, Time=0.02 sec\n"
     ]
    },
    {
     "name": "stderr",
     "output_type": "stream",
     "text": [
      "D:\\Programy\\anaconda\\lib\\site-packages\\statsmodels\\base\\model.py:568: ConvergenceWarning: Maximum Likelihood optimization failed to converge. Check mle_retvals\n",
      "  ConvergenceWarning)\n"
     ]
    },
    {
     "name": "stdout",
     "output_type": "stream",
     "text": [
      " ARIMA(1,1,2)(0,0,0)[0] intercept   : AIC=4604.123, Time=0.25 sec\n",
      " ARIMA(0,1,2)(0,0,0)[0] intercept   : AIC=4603.016, Time=0.07 sec\n"
     ]
    },
    {
     "name": "stderr",
     "output_type": "stream",
     "text": [
      "D:\\Programy\\anaconda\\lib\\site-packages\\statsmodels\\base\\model.py:568: ConvergenceWarning: Maximum Likelihood optimization failed to converge. Check mle_retvals\n",
      "  ConvergenceWarning)\n"
     ]
    },
    {
     "name": "stdout",
     "output_type": "stream",
     "text": [
      " ARIMA(0,1,3)(0,0,0)[0] intercept   : AIC=4604.789, Time=0.24 sec\n",
      " ARIMA(1,1,1)(0,0,0)[0] intercept   : AIC=4602.497, Time=0.07 sec\n",
      " ARIMA(2,1,1)(0,0,0)[0] intercept   : AIC=4603.974, Time=0.12 sec\n",
      " ARIMA(2,1,0)(0,0,0)[0] intercept   : AIC=4630.181, Time=0.05 sec\n",
      " ARIMA(1,1,1)(0,0,0)[0]             : AIC=4601.581, Time=0.03 sec\n",
      " ARIMA(0,1,1)(0,0,0)[0]             : AIC=4614.745, Time=0.03 sec\n",
      " ARIMA(1,1,0)(0,0,0)[0]             : AIC=4642.170, Time=0.03 sec\n",
      " ARIMA(2,1,1)(0,0,0)[0]             : AIC=4602.965, Time=0.08 sec\n",
      " ARIMA(1,1,2)(0,0,0)[0]             : AIC=4603.213, Time=0.05 sec\n",
      " ARIMA(0,1,2)(0,0,0)[0]             : AIC=4601.612, Time=0.05 sec\n",
      " ARIMA(2,1,0)(0,0,0)[0]             : AIC=4628.251, Time=0.03 sec\n"
     ]
    },
    {
     "name": "stderr",
     "output_type": "stream",
     "text": [
      "D:\\Programy\\anaconda\\lib\\site-packages\\statsmodels\\tsa\\statespace\\sarimax.py:966: UserWarning: Non-stationary starting autoregressive parameters found. Using zeros as starting parameters.\n",
      "  warn('Non-stationary starting autoregressive parameters'\n",
      "D:\\Programy\\anaconda\\lib\\site-packages\\statsmodels\\tsa\\statespace\\sarimax.py:978: UserWarning: Non-invertible starting MA parameters found. Using zeros as starting parameters.\n",
      "  warn('Non-invertible starting MA parameters found.'\n",
      "D:\\Programy\\anaconda\\lib\\site-packages\\statsmodels\\base\\model.py:568: ConvergenceWarning: Maximum Likelihood optimization failed to converge. Check mle_retvals\n",
      "  ConvergenceWarning)\n",
      "D:\\Programy\\anaconda\\lib\\site-packages\\statsmodels\\tsa\\base\\tsa_model.py:579: ValueWarning: An unsupported index was provided and will be ignored when e.g. forecasting.\n",
      "  ' ignored when e.g. forecasting.', ValueWarning)\n",
      "D:\\Programy\\anaconda\\lib\\site-packages\\statsmodels\\tsa\\base\\tsa_model.py:579: ValueWarning: An unsupported index was provided and will be ignored when e.g. forecasting.\n",
      "  ' ignored when e.g. forecasting.', ValueWarning)\n"
     ]
    },
    {
     "name": "stdout",
     "output_type": "stream",
     "text": [
      " ARIMA(2,1,2)(0,0,0)[0]             : AIC=4605.003, Time=0.17 sec\n",
      "\n",
      "Best model:  ARIMA(1,1,1)(0,0,0)[0]          \n",
      "Total fit time: 1.820 seconds\n",
      "autoARIMA time: 0:00:01.819826\n",
      "(1, 1, 1)\n",
      "(0, 0, 0, 0)\n",
      "fit time = 0:00:00.069530\n",
      "##### Koniec dopasowania modelu dla godziny: 157\n",
      "#####\n",
      "##### startuje dopasowanie modelu dla godziny: 158\n",
      "Performing stepwise search to minimize aic\n"
     ]
    },
    {
     "name": "stderr",
     "output_type": "stream",
     "text": [
      "D:\\Programy\\anaconda\\lib\\site-packages\\statsmodels\\base\\model.py:568: ConvergenceWarning: Maximum Likelihood optimization failed to converge. Check mle_retvals\n",
      "  ConvergenceWarning)\n"
     ]
    },
    {
     "name": "stdout",
     "output_type": "stream",
     "text": [
      " ARIMA(2,1,2)(0,0,0)[0] intercept   : AIC=4500.263, Time=0.23 sec\n",
      " ARIMA(0,1,0)(0,0,0)[0] intercept   : AIC=4548.962, Time=0.02 sec\n",
      " ARIMA(1,1,0)(0,0,0)[0] intercept   : AIC=4539.918, Time=0.05 sec\n",
      " ARIMA(0,1,1)(0,0,0)[0] intercept   : AIC=4529.015, Time=0.05 sec\n",
      " ARIMA(0,1,0)(0,0,0)[0]             : AIC=4546.971, Time=0.02 sec\n"
     ]
    },
    {
     "name": "stderr",
     "output_type": "stream",
     "text": [
      "D:\\Programy\\anaconda\\lib\\site-packages\\statsmodels\\base\\model.py:568: ConvergenceWarning: Maximum Likelihood optimization failed to converge. Check mle_retvals\n",
      "  ConvergenceWarning)\n"
     ]
    },
    {
     "name": "stdout",
     "output_type": "stream",
     "text": [
      " ARIMA(1,1,2)(0,0,0)[0] intercept   : AIC=4503.081, Time=0.23 sec\n",
      " ARIMA(2,1,1)(0,0,0)[0] intercept   : AIC=4503.995, Time=0.12 sec\n",
      " ARIMA(3,1,2)(0,0,0)[0] intercept   : AIC=4502.271, Time=0.22 sec\n"
     ]
    },
    {
     "name": "stderr",
     "output_type": "stream",
     "text": [
      "D:\\Programy\\anaconda\\lib\\site-packages\\statsmodels\\base\\model.py:568: ConvergenceWarning: Maximum Likelihood optimization failed to converge. Check mle_retvals\n",
      "  ConvergenceWarning)\n",
      "D:\\Programy\\anaconda\\lib\\site-packages\\statsmodels\\base\\model.py:568: ConvergenceWarning: Maximum Likelihood optimization failed to converge. Check mle_retvals\n",
      "  ConvergenceWarning)\n"
     ]
    },
    {
     "name": "stdout",
     "output_type": "stream",
     "text": [
      " ARIMA(2,1,3)(0,0,0)[0] intercept   : AIC=4502.336, Time=0.30 sec\n",
      " ARIMA(1,1,1)(0,0,0)[0] intercept   : AIC=4504.520, Time=0.17 sec\n"
     ]
    },
    {
     "name": "stderr",
     "output_type": "stream",
     "text": [
      "D:\\Programy\\anaconda\\lib\\site-packages\\statsmodels\\base\\model.py:568: ConvergenceWarning: Maximum Likelihood optimization failed to converge. Check mle_retvals\n",
      "  ConvergenceWarning)\n"
     ]
    },
    {
     "name": "stdout",
     "output_type": "stream",
     "text": [
      " ARIMA(1,1,3)(0,0,0)[0] intercept   : AIC=4502.712, Time=0.25 sec\n"
     ]
    },
    {
     "name": "stderr",
     "output_type": "stream",
     "text": [
      "D:\\Programy\\anaconda\\lib\\site-packages\\statsmodels\\base\\model.py:568: ConvergenceWarning: Maximum Likelihood optimization failed to converge. Check mle_retvals\n",
      "  ConvergenceWarning)\n"
     ]
    },
    {
     "name": "stdout",
     "output_type": "stream",
     "text": [
      " ARIMA(3,1,1)(0,0,0)[0] intercept   : AIC=4505.781, Time=0.24 sec\n"
     ]
    },
    {
     "name": "stderr",
     "output_type": "stream",
     "text": [
      "D:\\Programy\\anaconda\\lib\\site-packages\\statsmodels\\base\\model.py:568: ConvergenceWarning: Maximum Likelihood optimization failed to converge. Check mle_retvals\n",
      "  ConvergenceWarning)\n"
     ]
    },
    {
     "name": "stdout",
     "output_type": "stream",
     "text": [
      " ARIMA(3,1,3)(0,0,0)[0] intercept   : AIC=4502.912, Time=0.31 sec\n",
      " ARIMA(2,1,2)(0,0,0)[0]             : AIC=4499.280, Time=0.15 sec\n",
      " ARIMA(1,1,2)(0,0,0)[0]             : AIC=4502.036, Time=0.10 sec\n",
      " ARIMA(2,1,1)(0,0,0)[0]             : AIC=4502.999, Time=0.08 sec\n",
      " ARIMA(3,1,2)(0,0,0)[0]             : AIC=4501.281, Time=0.19 sec\n",
      " ARIMA(2,1,3)(0,0,0)[0]             : AIC=4501.231, Time=0.20 sec\n",
      " ARIMA(1,1,1)(0,0,0)[0]             : AIC=4503.240, Time=0.10 sec\n"
     ]
    },
    {
     "name": "stderr",
     "output_type": "stream",
     "text": [
      "D:\\Programy\\anaconda\\lib\\site-packages\\statsmodels\\base\\model.py:568: ConvergenceWarning: Maximum Likelihood optimization failed to converge. Check mle_retvals\n",
      "  ConvergenceWarning)\n"
     ]
    },
    {
     "name": "stdout",
     "output_type": "stream",
     "text": [
      " ARIMA(1,1,3)(0,0,0)[0]             : AIC=4501.551, Time=0.18 sec\n",
      " ARIMA(3,1,1)(0,0,0)[0]             : AIC=4504.856, Time=0.11 sec\n"
     ]
    },
    {
     "name": "stderr",
     "output_type": "stream",
     "text": [
      "D:\\Programy\\anaconda\\lib\\site-packages\\statsmodels\\base\\model.py:568: ConvergenceWarning: Maximum Likelihood optimization failed to converge. Check mle_retvals\n",
      "  ConvergenceWarning)\n",
      "D:\\Programy\\anaconda\\lib\\site-packages\\statsmodels\\tsa\\base\\tsa_model.py:579: ValueWarning: An unsupported index was provided and will be ignored when e.g. forecasting.\n",
      "  ' ignored when e.g. forecasting.', ValueWarning)\n",
      "D:\\Programy\\anaconda\\lib\\site-packages\\statsmodels\\tsa\\base\\tsa_model.py:579: ValueWarning: An unsupported index was provided and will be ignored when e.g. forecasting.\n",
      "  ' ignored when e.g. forecasting.', ValueWarning)\n"
     ]
    },
    {
     "name": "stdout",
     "output_type": "stream",
     "text": [
      " ARIMA(3,1,3)(0,0,0)[0]             : AIC=4503.137, Time=0.25 sec\n",
      "\n",
      "Best model:  ARIMA(2,1,2)(0,0,0)[0]          \n",
      "Total fit time: 3.567 seconds\n",
      "autoARIMA time: 0:00:03.582834\n",
      "(2, 1, 2)\n",
      "(0, 0, 0, 0)\n",
      "fit time = 0:00:00.137547\n",
      "##### Koniec dopasowania modelu dla godziny: 158\n",
      "#####\n",
      "##### startuje dopasowanie modelu dla godziny: 159\n",
      "Performing stepwise search to minimize aic\n",
      " ARIMA(2,1,2)(0,0,0)[0] intercept   : AIC=4307.473, Time=0.18 sec\n",
      " ARIMA(0,1,0)(0,0,0)[0] intercept   : AIC=4353.132, Time=0.02 sec\n",
      " ARIMA(1,1,0)(0,0,0)[0] intercept   : AIC=4330.719, Time=0.03 sec\n",
      " ARIMA(0,1,1)(0,0,0)[0] intercept   : AIC=4313.409, Time=0.05 sec\n",
      " ARIMA(0,1,0)(0,0,0)[0]             : AIC=4351.135, Time=0.02 sec\n",
      " ARIMA(1,1,2)(0,0,0)[0] intercept   : AIC=4306.012, Time=0.11 sec\n",
      " ARIMA(0,1,2)(0,0,0)[0] intercept   : AIC=4306.795, Time=0.05 sec\n",
      " ARIMA(1,1,1)(0,0,0)[0] intercept   : AIC=4308.313, Time=0.08 sec\n",
      " ARIMA(1,1,3)(0,0,0)[0] intercept   : AIC=4307.623, Time=0.15 sec\n",
      " ARIMA(0,1,3)(0,0,0)[0] intercept   : AIC=4307.903, Time=0.06 sec\n",
      " ARIMA(2,1,1)(0,0,0)[0] intercept   : AIC=4309.272, Time=0.09 sec\n",
      " ARIMA(2,1,3)(0,0,0)[0] intercept   : AIC=4309.365, Time=0.30 sec\n",
      " ARIMA(1,1,2)(0,0,0)[0]             : AIC=4304.251, Time=0.06 sec\n",
      " ARIMA(0,1,2)(0,0,0)[0]             : AIC=4305.105, Time=0.05 sec\n",
      " ARIMA(1,1,1)(0,0,0)[0]             : AIC=4306.626, Time=0.05 sec\n",
      " ARIMA(2,1,2)(0,0,0)[0]             : AIC=4305.751, Time=0.11 sec\n",
      " ARIMA(1,1,3)(0,0,0)[0]             : AIC=4305.869, Time=0.13 sec\n",
      " ARIMA(0,1,1)(0,0,0)[0]             : AIC=4311.551, Time=0.03 sec\n",
      " ARIMA(0,1,3)(0,0,0)[0]             : AIC=4306.175, Time=0.06 sec\n",
      " ARIMA(2,1,1)(0,0,0)[0]             : AIC=4307.529, Time=0.06 sec\n"
     ]
    },
    {
     "name": "stderr",
     "output_type": "stream",
     "text": [
      "D:\\Programy\\anaconda\\lib\\site-packages\\statsmodels\\base\\model.py:568: ConvergenceWarning: Maximum Likelihood optimization failed to converge. Check mle_retvals\n",
      "  ConvergenceWarning)\n",
      "D:\\Programy\\anaconda\\lib\\site-packages\\statsmodels\\tsa\\base\\tsa_model.py:579: ValueWarning: An unsupported index was provided and will be ignored when e.g. forecasting.\n",
      "  ' ignored when e.g. forecasting.', ValueWarning)\n",
      "D:\\Programy\\anaconda\\lib\\site-packages\\statsmodels\\tsa\\base\\tsa_model.py:579: ValueWarning: An unsupported index was provided and will be ignored when e.g. forecasting.\n",
      "  ' ignored when e.g. forecasting.', ValueWarning)\n"
     ]
    },
    {
     "name": "stdout",
     "output_type": "stream",
     "text": [
      " ARIMA(2,1,3)(0,0,0)[0]             : AIC=4307.663, Time=0.21 sec\n",
      "\n",
      "Best model:  ARIMA(1,1,2)(0,0,0)[0]          \n",
      "Total fit time: 1.893 seconds\n",
      "autoARIMA time: 0:00:01.902318\n",
      "(1, 1, 2)\n",
      "(0, 0, 0, 0)\n",
      "fit time = 0:00:00.063922\n",
      "##### Koniec dopasowania modelu dla godziny: 159\n",
      "#####\n",
      "##### startuje dopasowanie modelu dla godziny: 160\n",
      "Performing stepwise search to minimize aic\n",
      " ARIMA(2,1,2)(0,0,0)[0] intercept   : AIC=4267.788, Time=0.23 sec\n",
      " ARIMA(0,1,0)(0,0,0)[0] intercept   : AIC=4325.065, Time=0.02 sec\n",
      " ARIMA(1,1,0)(0,0,0)[0] intercept   : AIC=4300.233, Time=0.03 sec\n",
      " ARIMA(0,1,1)(0,0,0)[0] intercept   : AIC=4276.705, Time=0.05 sec\n",
      " ARIMA(0,1,0)(0,0,0)[0]             : AIC=4323.069, Time=0.00 sec\n",
      " ARIMA(1,1,2)(0,0,0)[0] intercept   : AIC=4267.716, Time=0.13 sec\n",
      " ARIMA(0,1,2)(0,0,0)[0] intercept   : AIC=4275.592, Time=0.06 sec\n",
      " ARIMA(1,1,1)(0,0,0)[0] intercept   : AIC=4277.336, Time=0.06 sec\n",
      " ARIMA(1,1,3)(0,0,0)[0] intercept   : AIC=4264.946, Time=0.18 sec\n",
      " ARIMA(0,1,3)(0,0,0)[0] intercept   : AIC=4263.241, Time=0.08 sec\n",
      " ARIMA(0,1,4)(0,0,0)[0] intercept   : AIC=4265.226, Time=0.09 sec\n",
      " ARIMA(1,1,4)(0,0,0)[0] intercept   : AIC=4266.511, Time=0.26 sec\n",
      " ARIMA(0,1,3)(0,0,0)[0]             : AIC=4261.343, Time=0.05 sec\n",
      " ARIMA(0,1,2)(0,0,0)[0]             : AIC=4273.780, Time=0.05 sec\n",
      " ARIMA(1,1,3)(0,0,0)[0]             : AIC=4263.000, Time=0.12 sec\n",
      " ARIMA(0,1,4)(0,0,0)[0]             : AIC=4263.313, Time=0.05 sec\n",
      " ARIMA(1,1,2)(0,0,0)[0]             : AIC=4265.873, Time=0.10 sec\n",
      " ARIMA(1,1,4)(0,0,0)[0]             : AIC=4264.582, Time=0.23 sec\n",
      "\n",
      "Best model:  ARIMA(0,1,3)(0,0,0)[0]          \n",
      "Total fit time: 1.799 seconds\n",
      "autoARIMA time: 0:00:01.799324\n",
      "(0, 1, 3)\n",
      "(0, 0, 0, 0)\n",
      "fit time = 0:00:00.109086\n",
      "##### Koniec dopasowania modelu dla godziny: 160\n",
      "#####\n",
      "##### startuje dopasowanie modelu dla godziny: 161\n",
      "Performing stepwise search to minimize aic\n"
     ]
    },
    {
     "name": "stderr",
     "output_type": "stream",
     "text": [
      "D:\\Programy\\anaconda\\lib\\site-packages\\statsmodels\\tsa\\base\\tsa_model.py:579: ValueWarning: An unsupported index was provided and will be ignored when e.g. forecasting.\n",
      "  ' ignored when e.g. forecasting.', ValueWarning)\n",
      "D:\\Programy\\anaconda\\lib\\site-packages\\statsmodels\\tsa\\base\\tsa_model.py:579: ValueWarning: An unsupported index was provided and will be ignored when e.g. forecasting.\n",
      "  ' ignored when e.g. forecasting.', ValueWarning)\n"
     ]
    },
    {
     "name": "stdout",
     "output_type": "stream",
     "text": [
      " ARIMA(2,1,2)(0,0,0)[0] intercept   : AIC=4653.959, Time=0.23 sec\n",
      " ARIMA(0,1,0)(0,0,0)[0] intercept   : AIC=4721.251, Time=0.02 sec\n",
      " ARIMA(1,1,0)(0,0,0)[0] intercept   : AIC=4688.874, Time=0.05 sec\n",
      " ARIMA(0,1,1)(0,0,0)[0] intercept   : AIC=4654.919, Time=0.12 sec\n",
      " ARIMA(0,1,0)(0,0,0)[0]             : AIC=4719.257, Time=0.02 sec\n",
      " ARIMA(1,1,2)(0,0,0)[0] intercept   : AIC=4652.596, Time=0.14 sec\n",
      " ARIMA(0,1,2)(0,0,0)[0] intercept   : AIC=4653.242, Time=0.20 sec\n",
      " ARIMA(1,1,1)(0,0,0)[0] intercept   : AIC=4654.728, Time=0.07 sec\n",
      " ARIMA(1,1,3)(0,0,0)[0] intercept   : AIC=4653.717, Time=0.21 sec\n",
      " ARIMA(0,1,3)(0,0,0)[0] intercept   : AIC=4651.735, Time=0.09 sec\n",
      " ARIMA(0,1,4)(0,0,0)[0] intercept   : AIC=4653.603, Time=0.13 sec\n"
     ]
    },
    {
     "name": "stderr",
     "output_type": "stream",
     "text": [
      "D:\\Programy\\anaconda\\lib\\site-packages\\statsmodels\\base\\model.py:568: ConvergenceWarning: Maximum Likelihood optimization failed to converge. Check mle_retvals\n",
      "  ConvergenceWarning)\n"
     ]
    },
    {
     "name": "stdout",
     "output_type": "stream",
     "text": [
      " ARIMA(1,1,4)(0,0,0)[0] intercept   : AIC=4655.591, Time=0.35 sec\n",
      " ARIMA(0,1,3)(0,0,0)[0]             : AIC=4650.108, Time=0.07 sec\n",
      " ARIMA(0,1,2)(0,0,0)[0]             : AIC=4652.085, Time=0.05 sec\n",
      " ARIMA(1,1,3)(0,0,0)[0]             : AIC=4652.094, Time=0.17 sec\n",
      " ARIMA(0,1,4)(0,0,0)[0]             : AIC=4651.977, Time=0.18 sec\n",
      " ARIMA(1,1,2)(0,0,0)[0]             : AIC=4651.021, Time=0.13 sec\n"
     ]
    },
    {
     "name": "stderr",
     "output_type": "stream",
     "text": [
      "D:\\Programy\\anaconda\\lib\\site-packages\\statsmodels\\base\\model.py:568: ConvergenceWarning: Maximum Likelihood optimization failed to converge. Check mle_retvals\n",
      "  ConvergenceWarning)\n",
      "D:\\Programy\\anaconda\\lib\\site-packages\\statsmodels\\tsa\\base\\tsa_model.py:579: ValueWarning: An unsupported index was provided and will be ignored when e.g. forecasting.\n",
      "  ' ignored when e.g. forecasting.', ValueWarning)\n",
      "D:\\Programy\\anaconda\\lib\\site-packages\\statsmodels\\tsa\\base\\tsa_model.py:579: ValueWarning: An unsupported index was provided and will be ignored when e.g. forecasting.\n",
      "  ' ignored when e.g. forecasting.', ValueWarning)\n"
     ]
    },
    {
     "name": "stdout",
     "output_type": "stream",
     "text": [
      " ARIMA(1,1,4)(0,0,0)[0]             : AIC=4652.429, Time=0.25 sec\n",
      "\n",
      "Best model:  ARIMA(0,1,3)(0,0,0)[0]          \n",
      "Total fit time: 2.484 seconds\n",
      "autoARIMA time: 0:00:02.491588\n",
      "(0, 1, 3)\n",
      "(0, 0, 0, 0)\n",
      "fit time = 0:00:00.053079\n",
      "##### Koniec dopasowania modelu dla godziny: 161\n",
      "#####\n",
      "##### startuje dopasowanie modelu dla godziny: 162\n",
      "Performing stepwise search to minimize aic\n",
      " ARIMA(2,1,2)(0,0,0)[0] intercept   : AIC=4583.563, Time=0.23 sec\n",
      " ARIMA(0,1,0)(0,0,0)[0] intercept   : AIC=4615.589, Time=0.02 sec\n",
      " ARIMA(1,1,0)(0,0,0)[0] intercept   : AIC=4597.170, Time=0.06 sec\n",
      " ARIMA(0,1,1)(0,0,0)[0] intercept   : AIC=4584.925, Time=0.04 sec\n",
      " ARIMA(0,1,0)(0,0,0)[0]             : AIC=4613.601, Time=0.01 sec\n",
      " ARIMA(1,1,2)(0,0,0)[0] intercept   : AIC=4581.638, Time=0.15 sec\n",
      " ARIMA(0,1,2)(0,0,0)[0] intercept   : AIC=4579.650, Time=0.05 sec\n",
      " ARIMA(0,1,3)(0,0,0)[0] intercept   : AIC=4581.644, Time=0.11 sec\n",
      " ARIMA(1,1,1)(0,0,0)[0] intercept   : AIC=4580.347, Time=0.09 sec\n"
     ]
    },
    {
     "name": "stderr",
     "output_type": "stream",
     "text": [
      "D:\\Programy\\anaconda\\lib\\site-packages\\statsmodels\\base\\model.py:568: ConvergenceWarning: Maximum Likelihood optimization failed to converge. Check mle_retvals\n",
      "  ConvergenceWarning)\n"
     ]
    },
    {
     "name": "stdout",
     "output_type": "stream",
     "text": [
      " ARIMA(1,1,3)(0,0,0)[0] intercept   : AIC=4583.620, Time=0.25 sec\n",
      " ARIMA(0,1,2)(0,0,0)[0]             : AIC=4577.957, Time=0.03 sec\n",
      " ARIMA(0,1,1)(0,0,0)[0]             : AIC=4583.117, Time=0.03 sec\n",
      " ARIMA(1,1,2)(0,0,0)[0]             : AIC=4579.948, Time=0.06 sec\n",
      " ARIMA(0,1,3)(0,0,0)[0]             : AIC=4579.961, Time=0.09 sec\n",
      " ARIMA(1,1,1)(0,0,0)[0]             : AIC=4578.674, Time=0.05 sec\n",
      " ARIMA(1,1,3)(0,0,0)[0]             : AIC=4581.900, Time=0.06 sec\n",
      "\n",
      "Best model:  ARIMA(0,1,2)(0,0,0)[0]          \n",
      "Total fit time: 1.359 seconds\n",
      "autoARIMA time: 0:00:01.359360\n",
      "(0, 1, 2)\n",
      "(0, 0, 0, 0)\n",
      "fit time = 0:00:00.061285"
     ]
    },
    {
     "name": "stderr",
     "output_type": "stream",
     "text": [
      "D:\\Programy\\anaconda\\lib\\site-packages\\statsmodels\\tsa\\base\\tsa_model.py:579: ValueWarning: An unsupported index was provided and will be ignored when e.g. forecasting.\n",
      "  ' ignored when e.g. forecasting.', ValueWarning)\n",
      "D:\\Programy\\anaconda\\lib\\site-packages\\statsmodels\\tsa\\base\\tsa_model.py:579: ValueWarning: An unsupported index was provided and will be ignored when e.g. forecasting.\n",
      "  ' ignored when e.g. forecasting.', ValueWarning)\n"
     ]
    },
    {
     "name": "stdout",
     "output_type": "stream",
     "text": [
      "\n",
      "##### Koniec dopasowania modelu dla godziny: 162\n",
      "#####\n",
      "##### startuje dopasowanie modelu dla godziny: 163\n",
      "Performing stepwise search to minimize aic\n"
     ]
    },
    {
     "name": "stderr",
     "output_type": "stream",
     "text": [
      "D:\\Programy\\anaconda\\lib\\site-packages\\statsmodels\\base\\model.py:568: ConvergenceWarning: Maximum Likelihood optimization failed to converge. Check mle_retvals\n",
      "  ConvergenceWarning)\n"
     ]
    },
    {
     "name": "stdout",
     "output_type": "stream",
     "text": [
      " ARIMA(2,1,2)(0,0,0)[0] intercept   : AIC=4509.533, Time=0.25 sec\n",
      " ARIMA(0,1,0)(0,0,0)[0] intercept   : AIC=4541.001, Time=0.01 sec\n",
      " ARIMA(1,1,0)(0,0,0)[0] intercept   : AIC=4518.020, Time=0.06 sec\n",
      " ARIMA(0,1,1)(0,0,0)[0] intercept   : AIC=4507.083, Time=0.03 sec\n",
      " ARIMA(0,1,0)(0,0,0)[0]             : AIC=4539.021, Time=0.02 sec\n",
      " ARIMA(1,1,1)(0,0,0)[0] intercept   : AIC=4505.915, Time=0.20 sec\n",
      " ARIMA(2,1,1)(0,0,0)[0] intercept   : AIC=4507.472, Time=0.09 sec\n",
      " ARIMA(1,1,2)(0,0,0)[0] intercept   : AIC=4507.545, Time=0.22 sec\n",
      " ARIMA(0,1,2)(0,0,0)[0] intercept   : AIC=4505.570, Time=0.10 sec\n",
      " ARIMA(0,1,3)(0,0,0)[0] intercept   : AIC=4507.576, Time=0.11 sec\n"
     ]
    },
    {
     "name": "stderr",
     "output_type": "stream",
     "text": [
      "D:\\Programy\\anaconda\\lib\\site-packages\\statsmodels\\base\\model.py:568: ConvergenceWarning: Maximum Likelihood optimization failed to converge. Check mle_retvals\n",
      "  ConvergenceWarning)\n"
     ]
    },
    {
     "name": "stdout",
     "output_type": "stream",
     "text": [
      " ARIMA(1,1,3)(0,0,0)[0] intercept   : AIC=4509.534, Time=0.32 sec\n",
      " ARIMA(0,1,2)(0,0,0)[0]             : AIC=4503.912, Time=0.05 sec\n",
      " ARIMA(0,1,1)(0,0,0)[0]             : AIC=4505.361, Time=0.02 sec\n",
      " ARIMA(1,1,2)(0,0,0)[0]             : AIC=4505.899, Time=0.13 sec\n",
      " ARIMA(0,1,3)(0,0,0)[0]             : AIC=4505.910, Time=0.05 sec\n",
      " ARIMA(1,1,1)(0,0,0)[0]             : AIC=4504.270, Time=0.07 sec\n",
      " ARIMA(1,1,3)(0,0,0)[0]             : AIC=4507.916, Time=0.07 sec\n",
      "\n",
      "Best model:  ARIMA(0,1,2)(0,0,0)[0]          \n",
      "Total fit time: 1.841 seconds\n",
      "autoARIMA time: 0:00:01.841336\n",
      "(0, 1, 2)\n",
      "(0, 0, 0, 0)\n",
      "fit time = 0:00:00.060331\n",
      "##### Koniec dopasowania modelu dla godziny: 163\n",
      "#####\n",
      "##### startuje dopasowanie modelu dla godziny: 164\n",
      "Performing stepwise search to minimize aic\n"
     ]
    },
    {
     "name": "stderr",
     "output_type": "stream",
     "text": [
      "D:\\Programy\\anaconda\\lib\\site-packages\\statsmodels\\tsa\\base\\tsa_model.py:579: ValueWarning: An unsupported index was provided and will be ignored when e.g. forecasting.\n",
      "  ' ignored when e.g. forecasting.', ValueWarning)\n",
      "D:\\Programy\\anaconda\\lib\\site-packages\\statsmodels\\tsa\\base\\tsa_model.py:579: ValueWarning: An unsupported index was provided and will be ignored when e.g. forecasting.\n",
      "  ' ignored when e.g. forecasting.', ValueWarning)\n"
     ]
    },
    {
     "name": "stdout",
     "output_type": "stream",
     "text": [
      " ARIMA(2,1,2)(0,0,0)[0] intercept   : AIC=4573.777, Time=0.21 sec\n",
      " ARIMA(0,1,0)(0,0,0)[0] intercept   : AIC=4612.576, Time=0.02 sec\n",
      " ARIMA(1,1,0)(0,0,0)[0] intercept   : AIC=4593.274, Time=0.03 sec\n",
      " ARIMA(0,1,1)(0,0,0)[0] intercept   : AIC=4578.018, Time=0.07 sec\n",
      " ARIMA(0,1,0)(0,0,0)[0]             : AIC=4610.587, Time=0.01 sec\n",
      " ARIMA(1,1,2)(0,0,0)[0] intercept   : AIC=4572.054, Time=0.12 sec\n",
      " ARIMA(0,1,2)(0,0,0)[0] intercept   : AIC=4570.063, Time=0.05 sec\n",
      " ARIMA(0,1,3)(0,0,0)[0] intercept   : AIC=4572.589, Time=0.09 sec\n",
      " ARIMA(1,1,1)(0,0,0)[0] intercept   : AIC=4571.058, Time=0.08 sec\n"
     ]
    },
    {
     "name": "stderr",
     "output_type": "stream",
     "text": [
      "D:\\Programy\\anaconda\\lib\\site-packages\\statsmodels\\tsa\\statespace\\sarimax.py:966: UserWarning: Non-stationary starting autoregressive parameters found. Using zeros as starting parameters.\n",
      "  warn('Non-stationary starting autoregressive parameters'\n",
      "D:\\Programy\\anaconda\\lib\\site-packages\\statsmodels\\tsa\\statespace\\sarimax.py:978: UserWarning: Non-invertible starting MA parameters found. Using zeros as starting parameters.\n",
      "  warn('Non-invertible starting MA parameters found.'\n",
      "D:\\Programy\\anaconda\\lib\\site-packages\\statsmodels\\base\\model.py:568: ConvergenceWarning: Maximum Likelihood optimization failed to converge. Check mle_retvals\n",
      "  ConvergenceWarning)\n"
     ]
    },
    {
     "name": "stdout",
     "output_type": "stream",
     "text": [
      " ARIMA(1,1,3)(0,0,0)[0] intercept   : AIC=4574.465, Time=0.27 sec\n",
      " ARIMA(0,1,2)(0,0,0)[0]             : AIC=4568.378, Time=0.03 sec\n",
      " ARIMA(0,1,1)(0,0,0)[0]             : AIC=4576.299, Time=0.03 sec\n",
      " ARIMA(1,1,2)(0,0,0)[0]             : AIC=4570.385, Time=0.08 sec\n",
      " ARIMA(0,1,3)(0,0,0)[0]             : AIC=4570.912, Time=0.04 sec\n",
      " ARIMA(1,1,1)(0,0,0)[0]             : AIC=4569.483, Time=0.06 sec\n",
      " ARIMA(1,1,3)(0,0,0)[0]             : AIC=4573.113, Time=0.09 sec\n",
      "\n",
      "Best model:  ARIMA(0,1,2)(0,0,0)[0]          \n",
      "Total fit time: 1.289 seconds\n",
      "autoARIMA time: 0:00:01.288543\n",
      "(0, 1, 2)\n",
      "(0, 0, 0, 0)\n",
      "fit time = 0:00:00.060700\n",
      "##### Koniec dopasowania modelu dla godziny: 164\n",
      "#####\n",
      "##### startuje dopasowanie modelu dla godziny: 165\n",
      "Performing stepwise search to minimize aic\n"
     ]
    },
    {
     "name": "stderr",
     "output_type": "stream",
     "text": [
      "D:\\Programy\\anaconda\\lib\\site-packages\\statsmodels\\tsa\\statespace\\sarimax.py:966: UserWarning: Non-stationary starting autoregressive parameters found. Using zeros as starting parameters.\n",
      "  warn('Non-stationary starting autoregressive parameters'\n",
      "D:\\Programy\\anaconda\\lib\\site-packages\\statsmodels\\tsa\\statespace\\sarimax.py:978: UserWarning: Non-invertible starting MA parameters found. Using zeros as starting parameters.\n",
      "  warn('Non-invertible starting MA parameters found.'\n",
      "D:\\Programy\\anaconda\\lib\\site-packages\\statsmodels\\tsa\\base\\tsa_model.py:579: ValueWarning: An unsupported index was provided and will be ignored when e.g. forecasting.\n",
      "  ' ignored when e.g. forecasting.', ValueWarning)\n",
      "D:\\Programy\\anaconda\\lib\\site-packages\\statsmodels\\tsa\\base\\tsa_model.py:579: ValueWarning: An unsupported index was provided and will be ignored when e.g. forecasting.\n",
      "  ' ignored when e.g. forecasting.', ValueWarning)\n"
     ]
    },
    {
     "name": "stdout",
     "output_type": "stream",
     "text": [
      " ARIMA(2,1,2)(0,0,0)[0] intercept   : AIC=4399.579, Time=0.16 sec\n",
      " ARIMA(0,1,0)(0,0,0)[0] intercept   : AIC=4432.411, Time=0.02 sec\n",
      " ARIMA(1,1,0)(0,0,0)[0] intercept   : AIC=4421.493, Time=0.06 sec\n",
      " ARIMA(0,1,1)(0,0,0)[0] intercept   : AIC=4413.127, Time=0.05 sec\n",
      " ARIMA(0,1,0)(0,0,0)[0]             : AIC=4430.415, Time=0.00 sec\n",
      " ARIMA(1,1,2)(0,0,0)[0] intercept   : AIC=4400.045, Time=0.13 sec\n",
      " ARIMA(2,1,1)(0,0,0)[0] intercept   : AIC=4399.921, Time=0.12 sec\n",
      " ARIMA(3,1,2)(0,0,0)[0] intercept   : AIC=4401.578, Time=0.22 sec\n",
      " ARIMA(2,1,3)(0,0,0)[0] intercept   : AIC=4401.646, Time=0.27 sec\n",
      " ARIMA(1,1,1)(0,0,0)[0] intercept   : AIC=4399.366, Time=0.09 sec\n",
      " ARIMA(0,1,2)(0,0,0)[0] intercept   : AIC=4398.195, Time=0.05 sec\n",
      " ARIMA(0,1,3)(0,0,0)[0] intercept   : AIC=4400.255, Time=0.09 sec\n"
     ]
    },
    {
     "name": "stderr",
     "output_type": "stream",
     "text": [
      "D:\\Programy\\anaconda\\lib\\site-packages\\statsmodels\\base\\model.py:568: ConvergenceWarning: Maximum Likelihood optimization failed to converge. Check mle_retvals\n",
      "  ConvergenceWarning)\n"
     ]
    },
    {
     "name": "stdout",
     "output_type": "stream",
     "text": [
      " ARIMA(1,1,3)(0,0,0)[0] intercept   : AIC=4400.981, Time=0.28 sec\n",
      " ARIMA(0,1,2)(0,0,0)[0]             : AIC=4396.494, Time=0.03 sec\n",
      " ARIMA(0,1,1)(0,0,0)[0]             : AIC=4411.226, Time=0.02 sec\n",
      " ARIMA(1,1,2)(0,0,0)[0]             : AIC=4398.309, Time=0.09 sec\n",
      " ARIMA(0,1,3)(0,0,0)[0]             : AIC=4398.382, Time=0.07 sec\n",
      " ARIMA(1,1,1)(0,0,0)[0]             : AIC=4397.831, Time=0.04 sec\n",
      " ARIMA(1,1,3)(0,0,0)[0]             : AIC=4400.473, Time=0.07 sec\n",
      "\n",
      "Best model:  ARIMA(0,1,2)(0,0,0)[0]          \n",
      "Total fit time: 1.876 seconds\n",
      "autoARIMA time: 0:00:01.884038\n",
      "(0, 1, 2)\n",
      "(0, 0, 0, 0)\n"
     ]
    },
    {
     "name": "stderr",
     "output_type": "stream",
     "text": [
      "D:\\Programy\\anaconda\\lib\\site-packages\\statsmodels\\tsa\\base\\tsa_model.py:579: ValueWarning: An unsupported index was provided and will be ignored when e.g. forecasting.\n",
      "  ' ignored when e.g. forecasting.', ValueWarning)\n",
      "D:\\Programy\\anaconda\\lib\\site-packages\\statsmodels\\tsa\\base\\tsa_model.py:579: ValueWarning: An unsupported index was provided and will be ignored when e.g. forecasting.\n",
      "  ' ignored when e.g. forecasting.', ValueWarning)\n"
     ]
    },
    {
     "name": "stdout",
     "output_type": "stream",
     "text": [
      "fit time = 0:00:00.105000\n",
      "##### Koniec dopasowania modelu dla godziny: 165\n",
      "#####\n",
      "##### startuje dopasowanie modelu dla godziny: 166\n",
      "Performing stepwise search to minimize aic\n",
      " ARIMA(2,1,2)(0,0,0)[0] intercept   : AIC=4169.603, Time=0.14 sec\n",
      " ARIMA(0,1,0)(0,0,0)[0] intercept   : AIC=4233.310, Time=0.02 sec\n",
      " ARIMA(1,1,0)(0,0,0)[0] intercept   : AIC=4202.710, Time=0.04 sec\n",
      " ARIMA(0,1,1)(0,0,0)[0] intercept   : AIC=4174.540, Time=0.04 sec\n",
      " ARIMA(0,1,0)(0,0,0)[0]             : AIC=4231.313, Time=0.01 sec\n",
      " ARIMA(1,1,2)(0,0,0)[0] intercept   : AIC=4167.628, Time=0.17 sec\n",
      " ARIMA(0,1,2)(0,0,0)[0] intercept   : AIC=4169.745, Time=0.19 sec\n",
      " ARIMA(1,1,1)(0,0,0)[0] intercept   : AIC=4171.024, Time=0.18 sec"
     ]
    },
    {
     "name": "stderr",
     "output_type": "stream",
     "text": [
      "D:\\Programy\\anaconda\\lib\\site-packages\\statsmodels\\base\\model.py:568: ConvergenceWarning: Maximum Likelihood optimization failed to converge. Check mle_retvals\n",
      "  ConvergenceWarning)\n"
     ]
    },
    {
     "name": "stdout",
     "output_type": "stream",
     "text": [
      "\n",
      " ARIMA(1,1,3)(0,0,0)[0] intercept   : AIC=4169.641, Time=0.20 sec\n"
     ]
    },
    {
     "name": "stderr",
     "output_type": "stream",
     "text": [
      "D:\\Programy\\anaconda\\lib\\site-packages\\statsmodels\\base\\model.py:568: ConvergenceWarning: Maximum Likelihood optimization failed to converge. Check mle_retvals\n",
      "  ConvergenceWarning)\n"
     ]
    },
    {
     "name": "stdout",
     "output_type": "stream",
     "text": [
      " ARIMA(0,1,3)(0,0,0)[0] intercept   : AIC=4170.137, Time=0.22 sec\n"
     ]
    },
    {
     "name": "stderr",
     "output_type": "stream",
     "text": [
      "D:\\Programy\\anaconda\\lib\\site-packages\\statsmodels\\base\\model.py:568: ConvergenceWarning: Maximum Likelihood optimization failed to converge. Check mle_retvals\n",
      "  ConvergenceWarning)\n"
     ]
    },
    {
     "name": "stdout",
     "output_type": "stream",
     "text": [
      " ARIMA(2,1,1)(0,0,0)[0] intercept   : AIC=4171.585, Time=0.22 sec\n"
     ]
    },
    {
     "name": "stderr",
     "output_type": "stream",
     "text": [
      "D:\\Programy\\anaconda\\lib\\site-packages\\statsmodels\\base\\model.py:568: ConvergenceWarning: Maximum Likelihood optimization failed to converge. Check mle_retvals\n",
      "  ConvergenceWarning)\n"
     ]
    },
    {
     "name": "stdout",
     "output_type": "stream",
     "text": [
      " ARIMA(2,1,3)(0,0,0)[0] intercept   : AIC=4166.229, Time=0.35 sec\n"
     ]
    },
    {
     "name": "stderr",
     "output_type": "stream",
     "text": [
      "D:\\Programy\\anaconda\\lib\\site-packages\\statsmodels\\base\\model.py:568: ConvergenceWarning: Maximum Likelihood optimization failed to converge. Check mle_retvals\n",
      "  ConvergenceWarning)\n"
     ]
    },
    {
     "name": "stdout",
     "output_type": "stream",
     "text": [
      " ARIMA(3,1,3)(0,0,0)[0] intercept   : AIC=4166.616, Time=0.34 sec\n"
     ]
    },
    {
     "name": "stderr",
     "output_type": "stream",
     "text": [
      "D:\\Programy\\anaconda\\lib\\site-packages\\statsmodels\\base\\model.py:568: ConvergenceWarning: Maximum Likelihood optimization failed to converge. Check mle_retvals\n",
      "  ConvergenceWarning)\n"
     ]
    },
    {
     "name": "stdout",
     "output_type": "stream",
     "text": [
      " ARIMA(2,1,4)(0,0,0)[0] intercept   : AIC=4166.860, Time=0.31 sec\n",
      " ARIMA(1,1,4)(0,0,0)[0] intercept   : AIC=4171.212, Time=0.20 sec\n",
      " ARIMA(3,1,2)(0,0,0)[0] intercept   : AIC=4171.129, Time=0.21 sec\n"
     ]
    },
    {
     "name": "stderr",
     "output_type": "stream",
     "text": [
      "D:\\Programy\\anaconda\\lib\\site-packages\\statsmodels\\base\\model.py:568: ConvergenceWarning: Maximum Likelihood optimization failed to converge. Check mle_retvals\n",
      "  ConvergenceWarning)\n"
     ]
    },
    {
     "name": "stdout",
     "output_type": "stream",
     "text": [
      " ARIMA(3,1,4)(0,0,0)[0] intercept   : AIC=4168.785, Time=0.33 sec\n"
     ]
    },
    {
     "name": "stderr",
     "output_type": "stream",
     "text": [
      "D:\\Programy\\anaconda\\lib\\site-packages\\statsmodels\\base\\model.py:568: ConvergenceWarning: Maximum Likelihood optimization failed to converge. Check mle_retvals\n",
      "  ConvergenceWarning)\n"
     ]
    },
    {
     "name": "stdout",
     "output_type": "stream",
     "text": [
      " ARIMA(2,1,3)(0,0,0)[0]             : AIC=4164.461, Time=0.31 sec\n",
      " ARIMA(1,1,3)(0,0,0)[0]             : AIC=4167.963, Time=0.11 sec\n",
      " ARIMA(2,1,2)(0,0,0)[0]             : AIC=4167.935, Time=0.12 sec\n"
     ]
    },
    {
     "name": "stderr",
     "output_type": "stream",
     "text": [
      "D:\\Programy\\anaconda\\lib\\site-packages\\statsmodels\\base\\model.py:568: ConvergenceWarning: Maximum Likelihood optimization failed to converge. Check mle_retvals\n",
      "  ConvergenceWarning)\n"
     ]
    },
    {
     "name": "stdout",
     "output_type": "stream",
     "text": [
      " ARIMA(3,1,3)(0,0,0)[0]             : AIC=4165.016, Time=0.21 sec\n"
     ]
    },
    {
     "name": "stderr",
     "output_type": "stream",
     "text": [
      "D:\\Programy\\anaconda\\lib\\site-packages\\statsmodels\\base\\model.py:568: ConvergenceWarning: Maximum Likelihood optimization failed to converge. Check mle_retvals\n",
      "  ConvergenceWarning)\n"
     ]
    },
    {
     "name": "stdout",
     "output_type": "stream",
     "text": [
      " ARIMA(2,1,4)(0,0,0)[0]             : AIC=4165.199, Time=0.23 sec\n",
      " ARIMA(1,1,2)(0,0,0)[0]             : AIC=4165.952, Time=0.09 sec\n",
      " ARIMA(1,1,4)(0,0,0)[0]             : AIC=4169.460, Time=0.12 sec\n",
      " ARIMA(3,1,2)(0,0,0)[0]             : AIC=4169.473, Time=0.16 sec\n"
     ]
    },
    {
     "name": "stderr",
     "output_type": "stream",
     "text": [
      "D:\\Programy\\anaconda\\lib\\site-packages\\statsmodels\\base\\model.py:568: ConvergenceWarning: Maximum Likelihood optimization failed to converge. Check mle_retvals\n",
      "  ConvergenceWarning)\n",
      "D:\\Programy\\anaconda\\lib\\site-packages\\statsmodels\\tsa\\base\\tsa_model.py:579: ValueWarning: An unsupported index was provided and will be ignored when e.g. forecasting.\n",
      "  ' ignored when e.g. forecasting.', ValueWarning)\n",
      "D:\\Programy\\anaconda\\lib\\site-packages\\statsmodels\\tsa\\base\\tsa_model.py:579: ValueWarning: An unsupported index was provided and will be ignored when e.g. forecasting.\n",
      "  ' ignored when e.g. forecasting.', ValueWarning)\n"
     ]
    },
    {
     "name": "stdout",
     "output_type": "stream",
     "text": [
      " ARIMA(3,1,4)(0,0,0)[0]             : AIC=4167.140, Time=0.25 sec\n",
      "\n",
      "Best model:  ARIMA(2,1,3)(0,0,0)[0]          \n",
      "Total fit time: 4.811 seconds\n",
      "autoARIMA time: 0:00:04.827098\n",
      "(2, 1, 3)\n",
      "(0, 0, 0, 0)\n",
      "fit time = 0:00:00.177891\n",
      "##### Koniec dopasowania modelu dla godziny: 166\n",
      "#####\n",
      "##### startuje dopasowanie modelu dla godziny: 167\n",
      "Performing stepwise search to minimize aic\n",
      " ARIMA(2,1,2)(0,0,0)[0] intercept   : AIC=4150.502, Time=0.17 sec\n",
      " ARIMA(0,1,0)(0,0,0)[0] intercept   : AIC=4212.632, Time=0.02 sec\n",
      " ARIMA(1,1,0)(0,0,0)[0] intercept   : AIC=4186.431, Time=0.05 sec\n",
      " ARIMA(0,1,1)(0,0,0)[0] intercept   : AIC=4157.642, Time=0.10 sec\n",
      " ARIMA(0,1,0)(0,0,0)[0]             : AIC=4210.640, Time=0.00 sec\n",
      " ARIMA(1,1,2)(0,0,0)[0] intercept   : AIC=4149.221, Time=0.14 sec\n",
      " ARIMA(0,1,2)(0,0,0)[0] intercept   : AIC=4154.138, Time=0.04 sec\n",
      " ARIMA(1,1,1)(0,0,0)[0] intercept   : AIC=4156.306, Time=0.06 sec\n",
      " ARIMA(1,1,3)(0,0,0)[0] intercept   : AIC=4150.369, Time=0.19 sec\n",
      " ARIMA(0,1,3)(0,0,0)[0] intercept   : AIC=4148.933, Time=0.08 sec\n",
      " ARIMA(0,1,4)(0,0,0)[0] intercept   : AIC=4150.847, Time=0.11 sec\n",
      " ARIMA(1,1,4)(0,0,0)[0] intercept   : AIC=4152.260, Time=0.25 sec\n",
      " ARIMA(0,1,3)(0,0,0)[0]             : AIC=4147.165, Time=0.06 sec\n",
      " ARIMA(0,1,2)(0,0,0)[0]             : AIC=4152.439, Time=0.03 sec\n",
      " ARIMA(1,1,3)(0,0,0)[0]             : AIC=4148.636, Time=0.12 sec\n",
      " ARIMA(0,1,4)(0,0,0)[0]             : AIC=4149.089, Time=0.08 sec\n",
      " ARIMA(1,1,2)(0,0,0)[0]             : AIC=4147.526, Time=0.13 sec\n",
      " ARIMA(1,1,4)(0,0,0)[0]             : AIC=4150.502, Time=0.15 sec\n",
      "\n",
      "Best model:  ARIMA(0,1,3)(0,0,0)[0]          \n",
      "Total fit time: 1.819 seconds\n",
      "autoARIMA time: 0:00:01.818620\n",
      "(0, 1, 3)\n",
      "(0, 0, 0, 0)\n",
      "fit time = 0:00:00.056148\n",
      "##### Koniec dopasowania modelu dla godziny: 167\n",
      "#####\n",
      "czas trwania calosci: 0:06:31.113774\n"
     ]
    },
    {
     "name": "stderr",
     "output_type": "stream",
     "text": [
      "D:\\Programy\\anaconda\\lib\\site-packages\\statsmodels\\tsa\\base\\tsa_model.py:579: ValueWarning: An unsupported index was provided and will be ignored when e.g. forecasting.\n",
      "  ' ignored when e.g. forecasting.', ValueWarning)\n",
      "D:\\Programy\\anaconda\\lib\\site-packages\\statsmodels\\tsa\\base\\tsa_model.py:579: ValueWarning: An unsupported index was provided and will be ignored when e.g. forecasting.\n",
      "  ' ignored when e.g. forecasting.', ValueWarning)\n"
     ]
    }
   ],
   "source": [
    "starttime = datetime.datetime.now()\n",
    "print('start petli: ' +str(starttime))\n",
    "for i in range(models_num):\n",
    "    print('##### startuje dopasowanie modelu dla godziny: ' + str(i))\n",
    "    my_models[i] = create_model(\n",
    "        dataAll.loc[(dataAll['Godzina'] %24 ==i % 24) & \n",
    "                    (dataAll['weekDayNum']==i%7)]\n",
    "        ['Krajowe zapotrzebowanie na moc']\n",
    "        ,1\n",
    "    )\n",
    "    print('##### Koniec dopasowania modelu dla godziny: ' + str(i))\n",
    "    print('#####')\n",
    "print('czas trwania calosci: ' +str(datetime.datetime.now()-starttime))"
   ]
  },
  {
   "cell_type": "code",
   "execution_count": 7,
   "metadata": {},
   "outputs": [],
   "source": [
    "import winsound\n",
    "frequency = 1500  # Set Frequency To 2500 Hertz\n",
    "duration = 3000  # Set Duration To 1000 ms == 1 second\n",
    "winsound.Beep(frequency, duration)"
   ]
  },
  {
   "cell_type": "markdown",
   "metadata": {},
   "source": [
    "### Progrnozowanie"
   ]
  },
  {
   "cell_type": "code",
   "execution_count": 8,
   "metadata": {
    "scrolled": true
   },
   "outputs": [
    {
     "name": "stderr",
     "output_type": "stream",
     "text": [
      "D:\\Programy\\anaconda\\lib\\site-packages\\statsmodels\\tsa\\base\\tsa_model.py:379: ValueWarning: No supported index is available. Prediction results will be given with an integer index beginning at `start`.\n",
      "  ValueWarning)\n",
      "D:\\Programy\\anaconda\\lib\\site-packages\\statsmodels\\tsa\\base\\tsa_model.py:379: ValueWarning: No supported index is available. Prediction results will be given with an integer index beginning at `start`.\n",
      "  ValueWarning)\n",
      "D:\\Programy\\anaconda\\lib\\site-packages\\statsmodels\\tsa\\base\\tsa_model.py:379: ValueWarning: No supported index is available. Prediction results will be given with an integer index beginning at `start`.\n",
      "  ValueWarning)\n",
      "D:\\Programy\\anaconda\\lib\\site-packages\\statsmodels\\tsa\\base\\tsa_model.py:379: ValueWarning: No supported index is available. Prediction results will be given with an integer index beginning at `start`.\n",
      "  ValueWarning)\n",
      "D:\\Programy\\anaconda\\lib\\site-packages\\statsmodels\\tsa\\base\\tsa_model.py:379: ValueWarning: No supported index is available. Prediction results will be given with an integer index beginning at `start`.\n",
      "  ValueWarning)\n",
      "D:\\Programy\\anaconda\\lib\\site-packages\\statsmodels\\tsa\\base\\tsa_model.py:379: ValueWarning: No supported index is available. Prediction results will be given with an integer index beginning at `start`.\n",
      "  ValueWarning)\n",
      "D:\\Programy\\anaconda\\lib\\site-packages\\statsmodels\\tsa\\base\\tsa_model.py:379: ValueWarning: No supported index is available. Prediction results will be given with an integer index beginning at `start`.\n",
      "  ValueWarning)\n",
      "D:\\Programy\\anaconda\\lib\\site-packages\\statsmodels\\tsa\\base\\tsa_model.py:379: ValueWarning: No supported index is available. Prediction results will be given with an integer index beginning at `start`.\n",
      "  ValueWarning)\n",
      "D:\\Programy\\anaconda\\lib\\site-packages\\statsmodels\\tsa\\base\\tsa_model.py:379: ValueWarning: No supported index is available. Prediction results will be given with an integer index beginning at `start`.\n",
      "  ValueWarning)\n",
      "D:\\Programy\\anaconda\\lib\\site-packages\\statsmodels\\tsa\\base\\tsa_model.py:379: ValueWarning: No supported index is available. Prediction results will be given with an integer index beginning at `start`.\n",
      "  ValueWarning)\n",
      "D:\\Programy\\anaconda\\lib\\site-packages\\statsmodels\\tsa\\base\\tsa_model.py:379: ValueWarning: No supported index is available. Prediction results will be given with an integer index beginning at `start`.\n",
      "  ValueWarning)\n",
      "D:\\Programy\\anaconda\\lib\\site-packages\\statsmodels\\tsa\\base\\tsa_model.py:379: ValueWarning: No supported index is available. Prediction results will be given with an integer index beginning at `start`.\n",
      "  ValueWarning)\n",
      "D:\\Programy\\anaconda\\lib\\site-packages\\statsmodels\\tsa\\base\\tsa_model.py:379: ValueWarning: No supported index is available. Prediction results will be given with an integer index beginning at `start`.\n",
      "  ValueWarning)\n",
      "D:\\Programy\\anaconda\\lib\\site-packages\\statsmodels\\tsa\\base\\tsa_model.py:379: ValueWarning: No supported index is available. Prediction results will be given with an integer index beginning at `start`.\n",
      "  ValueWarning)\n",
      "D:\\Programy\\anaconda\\lib\\site-packages\\statsmodels\\tsa\\base\\tsa_model.py:379: ValueWarning: No supported index is available. Prediction results will be given with an integer index beginning at `start`.\n",
      "  ValueWarning)\n",
      "D:\\Programy\\anaconda\\lib\\site-packages\\statsmodels\\tsa\\base\\tsa_model.py:379: ValueWarning: No supported index is available. Prediction results will be given with an integer index beginning at `start`.\n",
      "  ValueWarning)\n",
      "D:\\Programy\\anaconda\\lib\\site-packages\\statsmodels\\tsa\\base\\tsa_model.py:379: ValueWarning: No supported index is available. Prediction results will be given with an integer index beginning at `start`.\n",
      "  ValueWarning)\n",
      "D:\\Programy\\anaconda\\lib\\site-packages\\statsmodels\\tsa\\base\\tsa_model.py:379: ValueWarning: No supported index is available. Prediction results will be given with an integer index beginning at `start`.\n",
      "  ValueWarning)\n",
      "D:\\Programy\\anaconda\\lib\\site-packages\\statsmodels\\tsa\\base\\tsa_model.py:379: ValueWarning: No supported index is available. Prediction results will be given with an integer index beginning at `start`.\n",
      "  ValueWarning)\n",
      "D:\\Programy\\anaconda\\lib\\site-packages\\statsmodels\\tsa\\base\\tsa_model.py:379: ValueWarning: No supported index is available. Prediction results will be given with an integer index beginning at `start`.\n",
      "  ValueWarning)\n",
      "D:\\Programy\\anaconda\\lib\\site-packages\\statsmodels\\tsa\\base\\tsa_model.py:379: ValueWarning: No supported index is available. Prediction results will be given with an integer index beginning at `start`.\n",
      "  ValueWarning)\n",
      "D:\\Programy\\anaconda\\lib\\site-packages\\statsmodels\\tsa\\base\\tsa_model.py:379: ValueWarning: No supported index is available. Prediction results will be given with an integer index beginning at `start`.\n",
      "  ValueWarning)\n",
      "D:\\Programy\\anaconda\\lib\\site-packages\\statsmodels\\tsa\\base\\tsa_model.py:379: ValueWarning: No supported index is available. Prediction results will be given with an integer index beginning at `start`.\n",
      "  ValueWarning)\n",
      "D:\\Programy\\anaconda\\lib\\site-packages\\statsmodels\\tsa\\base\\tsa_model.py:379: ValueWarning: No supported index is available. Prediction results will be given with an integer index beginning at `start`.\n",
      "  ValueWarning)\n",
      "D:\\Programy\\anaconda\\lib\\site-packages\\statsmodels\\tsa\\base\\tsa_model.py:379: ValueWarning: No supported index is available. Prediction results will be given with an integer index beginning at `start`.\n",
      "  ValueWarning)\n",
      "D:\\Programy\\anaconda\\lib\\site-packages\\statsmodels\\tsa\\base\\tsa_model.py:379: ValueWarning: No supported index is available. Prediction results will be given with an integer index beginning at `start`.\n",
      "  ValueWarning)\n",
      "D:\\Programy\\anaconda\\lib\\site-packages\\statsmodels\\tsa\\base\\tsa_model.py:379: ValueWarning: No supported index is available. Prediction results will be given with an integer index beginning at `start`.\n",
      "  ValueWarning)\n",
      "D:\\Programy\\anaconda\\lib\\site-packages\\statsmodels\\tsa\\base\\tsa_model.py:379: ValueWarning: No supported index is available. Prediction results will be given with an integer index beginning at `start`.\n",
      "  ValueWarning)\n",
      "D:\\Programy\\anaconda\\lib\\site-packages\\statsmodels\\tsa\\base\\tsa_model.py:379: ValueWarning: No supported index is available. Prediction results will be given with an integer index beginning at `start`.\n",
      "  ValueWarning)\n",
      "D:\\Programy\\anaconda\\lib\\site-packages\\statsmodels\\tsa\\base\\tsa_model.py:379: ValueWarning: No supported index is available. Prediction results will be given with an integer index beginning at `start`.\n",
      "  ValueWarning)\n",
      "D:\\Programy\\anaconda\\lib\\site-packages\\statsmodels\\tsa\\base\\tsa_model.py:379: ValueWarning: No supported index is available. Prediction results will be given with an integer index beginning at `start`.\n",
      "  ValueWarning)\n",
      "D:\\Programy\\anaconda\\lib\\site-packages\\statsmodels\\tsa\\base\\tsa_model.py:379: ValueWarning: No supported index is available. Prediction results will be given with an integer index beginning at `start`.\n",
      "  ValueWarning)\n",
      "D:\\Programy\\anaconda\\lib\\site-packages\\statsmodels\\tsa\\base\\tsa_model.py:379: ValueWarning: No supported index is available. Prediction results will be given with an integer index beginning at `start`.\n",
      "  ValueWarning)\n",
      "D:\\Programy\\anaconda\\lib\\site-packages\\statsmodels\\tsa\\base\\tsa_model.py:379: ValueWarning: No supported index is available. Prediction results will be given with an integer index beginning at `start`.\n",
      "  ValueWarning)\n",
      "D:\\Programy\\anaconda\\lib\\site-packages\\statsmodels\\tsa\\base\\tsa_model.py:379: ValueWarning: No supported index is available. Prediction results will be given with an integer index beginning at `start`.\n",
      "  ValueWarning)\n",
      "D:\\Programy\\anaconda\\lib\\site-packages\\statsmodels\\tsa\\base\\tsa_model.py:379: ValueWarning: No supported index is available. Prediction results will be given with an integer index beginning at `start`.\n",
      "  ValueWarning)\n",
      "D:\\Programy\\anaconda\\lib\\site-packages\\statsmodels\\tsa\\base\\tsa_model.py:379: ValueWarning: No supported index is available. Prediction results will be given with an integer index beginning at `start`.\n",
      "  ValueWarning)\n",
      "D:\\Programy\\anaconda\\lib\\site-packages\\statsmodels\\tsa\\base\\tsa_model.py:379: ValueWarning: No supported index is available. Prediction results will be given with an integer index beginning at `start`.\n",
      "  ValueWarning)\n",
      "D:\\Programy\\anaconda\\lib\\site-packages\\statsmodels\\tsa\\base\\tsa_model.py:379: ValueWarning: No supported index is available. Prediction results will be given with an integer index beginning at `start`.\n",
      "  ValueWarning)\n",
      "D:\\Programy\\anaconda\\lib\\site-packages\\statsmodels\\tsa\\base\\tsa_model.py:379: ValueWarning: No supported index is available. Prediction results will be given with an integer index beginning at `start`.\n",
      "  ValueWarning)\n",
      "D:\\Programy\\anaconda\\lib\\site-packages\\statsmodels\\tsa\\base\\tsa_model.py:379: ValueWarning: No supported index is available. Prediction results will be given with an integer index beginning at `start`.\n",
      "  ValueWarning)\n",
      "D:\\Programy\\anaconda\\lib\\site-packages\\statsmodels\\tsa\\base\\tsa_model.py:379: ValueWarning: No supported index is available. Prediction results will be given with an integer index beginning at `start`.\n",
      "  ValueWarning)\n",
      "D:\\Programy\\anaconda\\lib\\site-packages\\statsmodels\\tsa\\base\\tsa_model.py:379: ValueWarning: No supported index is available. Prediction results will be given with an integer index beginning at `start`.\n",
      "  ValueWarning)\n",
      "D:\\Programy\\anaconda\\lib\\site-packages\\statsmodels\\tsa\\base\\tsa_model.py:379: ValueWarning: No supported index is available. Prediction results will be given with an integer index beginning at `start`.\n",
      "  ValueWarning)\n",
      "D:\\Programy\\anaconda\\lib\\site-packages\\statsmodels\\tsa\\base\\tsa_model.py:379: ValueWarning: No supported index is available. Prediction results will be given with an integer index beginning at `start`.\n",
      "  ValueWarning)\n",
      "D:\\Programy\\anaconda\\lib\\site-packages\\statsmodels\\tsa\\base\\tsa_model.py:379: ValueWarning: No supported index is available. Prediction results will be given with an integer index beginning at `start`.\n",
      "  ValueWarning)\n",
      "D:\\Programy\\anaconda\\lib\\site-packages\\statsmodels\\tsa\\base\\tsa_model.py:379: ValueWarning: No supported index is available. Prediction results will be given with an integer index beginning at `start`.\n",
      "  ValueWarning)\n",
      "D:\\Programy\\anaconda\\lib\\site-packages\\statsmodels\\tsa\\base\\tsa_model.py:379: ValueWarning: No supported index is available. Prediction results will be given with an integer index beginning at `start`.\n",
      "  ValueWarning)\n",
      "D:\\Programy\\anaconda\\lib\\site-packages\\statsmodels\\tsa\\base\\tsa_model.py:379: ValueWarning: No supported index is available. Prediction results will be given with an integer index beginning at `start`.\n",
      "  ValueWarning)\n",
      "D:\\Programy\\anaconda\\lib\\site-packages\\statsmodels\\tsa\\base\\tsa_model.py:379: ValueWarning: No supported index is available. Prediction results will be given with an integer index beginning at `start`.\n",
      "  ValueWarning)\n",
      "D:\\Programy\\anaconda\\lib\\site-packages\\statsmodels\\tsa\\base\\tsa_model.py:379: ValueWarning: No supported index is available. Prediction results will be given with an integer index beginning at `start`.\n",
      "  ValueWarning)\n",
      "D:\\Programy\\anaconda\\lib\\site-packages\\statsmodels\\tsa\\base\\tsa_model.py:379: ValueWarning: No supported index is available. Prediction results will be given with an integer index beginning at `start`.\n",
      "  ValueWarning)\n",
      "D:\\Programy\\anaconda\\lib\\site-packages\\statsmodels\\tsa\\base\\tsa_model.py:379: ValueWarning: No supported index is available. Prediction results will be given with an integer index beginning at `start`.\n",
      "  ValueWarning)\n",
      "D:\\Programy\\anaconda\\lib\\site-packages\\statsmodels\\tsa\\base\\tsa_model.py:379: ValueWarning: No supported index is available. Prediction results will be given with an integer index beginning at `start`.\n",
      "  ValueWarning)\n",
      "D:\\Programy\\anaconda\\lib\\site-packages\\statsmodels\\tsa\\base\\tsa_model.py:379: ValueWarning: No supported index is available. Prediction results will be given with an integer index beginning at `start`.\n",
      "  ValueWarning)\n",
      "D:\\Programy\\anaconda\\lib\\site-packages\\statsmodels\\tsa\\base\\tsa_model.py:379: ValueWarning: No supported index is available. Prediction results will be given with an integer index beginning at `start`.\n",
      "  ValueWarning)\n",
      "D:\\Programy\\anaconda\\lib\\site-packages\\statsmodels\\tsa\\base\\tsa_model.py:379: ValueWarning: No supported index is available. Prediction results will be given with an integer index beginning at `start`.\n",
      "  ValueWarning)\n",
      "D:\\Programy\\anaconda\\lib\\site-packages\\statsmodels\\tsa\\base\\tsa_model.py:379: ValueWarning: No supported index is available. Prediction results will be given with an integer index beginning at `start`.\n",
      "  ValueWarning)\n",
      "D:\\Programy\\anaconda\\lib\\site-packages\\statsmodels\\tsa\\base\\tsa_model.py:379: ValueWarning: No supported index is available. Prediction results will be given with an integer index beginning at `start`.\n",
      "  ValueWarning)\n",
      "D:\\Programy\\anaconda\\lib\\site-packages\\statsmodels\\tsa\\base\\tsa_model.py:379: ValueWarning: No supported index is available. Prediction results will be given with an integer index beginning at `start`.\n",
      "  ValueWarning)\n",
      "D:\\Programy\\anaconda\\lib\\site-packages\\statsmodels\\tsa\\base\\tsa_model.py:379: ValueWarning: No supported index is available. Prediction results will be given with an integer index beginning at `start`.\n",
      "  ValueWarning)\n",
      "D:\\Programy\\anaconda\\lib\\site-packages\\statsmodels\\tsa\\base\\tsa_model.py:379: ValueWarning: No supported index is available. Prediction results will be given with an integer index beginning at `start`.\n",
      "  ValueWarning)\n",
      "D:\\Programy\\anaconda\\lib\\site-packages\\statsmodels\\tsa\\base\\tsa_model.py:379: ValueWarning: No supported index is available. Prediction results will be given with an integer index beginning at `start`.\n",
      "  ValueWarning)\n",
      "D:\\Programy\\anaconda\\lib\\site-packages\\statsmodels\\tsa\\base\\tsa_model.py:379: ValueWarning: No supported index is available. Prediction results will be given with an integer index beginning at `start`.\n",
      "  ValueWarning)\n",
      "D:\\Programy\\anaconda\\lib\\site-packages\\statsmodels\\tsa\\base\\tsa_model.py:379: ValueWarning: No supported index is available. Prediction results will be given with an integer index beginning at `start`.\n",
      "  ValueWarning)\n",
      "D:\\Programy\\anaconda\\lib\\site-packages\\statsmodels\\tsa\\base\\tsa_model.py:379: ValueWarning: No supported index is available. Prediction results will be given with an integer index beginning at `start`.\n",
      "  ValueWarning)\n"
     ]
    },
    {
     "name": "stderr",
     "output_type": "stream",
     "text": [
      "D:\\Programy\\anaconda\\lib\\site-packages\\statsmodels\\tsa\\base\\tsa_model.py:379: ValueWarning: No supported index is available. Prediction results will be given with an integer index beginning at `start`.\n",
      "  ValueWarning)\n",
      "D:\\Programy\\anaconda\\lib\\site-packages\\statsmodels\\tsa\\base\\tsa_model.py:379: ValueWarning: No supported index is available. Prediction results will be given with an integer index beginning at `start`.\n",
      "  ValueWarning)\n",
      "D:\\Programy\\anaconda\\lib\\site-packages\\statsmodels\\tsa\\base\\tsa_model.py:379: ValueWarning: No supported index is available. Prediction results will be given with an integer index beginning at `start`.\n",
      "  ValueWarning)\n",
      "D:\\Programy\\anaconda\\lib\\site-packages\\statsmodels\\tsa\\base\\tsa_model.py:379: ValueWarning: No supported index is available. Prediction results will be given with an integer index beginning at `start`.\n",
      "  ValueWarning)\n",
      "D:\\Programy\\anaconda\\lib\\site-packages\\statsmodels\\tsa\\base\\tsa_model.py:379: ValueWarning: No supported index is available. Prediction results will be given with an integer index beginning at `start`.\n",
      "  ValueWarning)\n",
      "D:\\Programy\\anaconda\\lib\\site-packages\\statsmodels\\tsa\\base\\tsa_model.py:379: ValueWarning: No supported index is available. Prediction results will be given with an integer index beginning at `start`.\n",
      "  ValueWarning)\n",
      "D:\\Programy\\anaconda\\lib\\site-packages\\statsmodels\\tsa\\base\\tsa_model.py:379: ValueWarning: No supported index is available. Prediction results will be given with an integer index beginning at `start`.\n",
      "  ValueWarning)\n",
      "D:\\Programy\\anaconda\\lib\\site-packages\\statsmodels\\tsa\\base\\tsa_model.py:379: ValueWarning: No supported index is available. Prediction results will be given with an integer index beginning at `start`.\n",
      "  ValueWarning)\n",
      "D:\\Programy\\anaconda\\lib\\site-packages\\statsmodels\\tsa\\base\\tsa_model.py:379: ValueWarning: No supported index is available. Prediction results will be given with an integer index beginning at `start`.\n",
      "  ValueWarning)\n",
      "D:\\Programy\\anaconda\\lib\\site-packages\\statsmodels\\tsa\\base\\tsa_model.py:379: ValueWarning: No supported index is available. Prediction results will be given with an integer index beginning at `start`.\n",
      "  ValueWarning)\n",
      "D:\\Programy\\anaconda\\lib\\site-packages\\statsmodels\\tsa\\base\\tsa_model.py:379: ValueWarning: No supported index is available. Prediction results will be given with an integer index beginning at `start`.\n",
      "  ValueWarning)\n",
      "D:\\Programy\\anaconda\\lib\\site-packages\\statsmodels\\tsa\\base\\tsa_model.py:379: ValueWarning: No supported index is available. Prediction results will be given with an integer index beginning at `start`.\n",
      "  ValueWarning)\n",
      "D:\\Programy\\anaconda\\lib\\site-packages\\statsmodels\\tsa\\base\\tsa_model.py:379: ValueWarning: No supported index is available. Prediction results will be given with an integer index beginning at `start`.\n",
      "  ValueWarning)\n",
      "D:\\Programy\\anaconda\\lib\\site-packages\\statsmodels\\tsa\\base\\tsa_model.py:379: ValueWarning: No supported index is available. Prediction results will be given with an integer index beginning at `start`.\n",
      "  ValueWarning)\n",
      "D:\\Programy\\anaconda\\lib\\site-packages\\statsmodels\\tsa\\base\\tsa_model.py:379: ValueWarning: No supported index is available. Prediction results will be given with an integer index beginning at `start`.\n",
      "  ValueWarning)\n",
      "D:\\Programy\\anaconda\\lib\\site-packages\\statsmodels\\tsa\\base\\tsa_model.py:379: ValueWarning: No supported index is available. Prediction results will be given with an integer index beginning at `start`.\n",
      "  ValueWarning)\n",
      "D:\\Programy\\anaconda\\lib\\site-packages\\statsmodels\\tsa\\base\\tsa_model.py:379: ValueWarning: No supported index is available. Prediction results will be given with an integer index beginning at `start`.\n",
      "  ValueWarning)\n",
      "D:\\Programy\\anaconda\\lib\\site-packages\\statsmodels\\tsa\\base\\tsa_model.py:379: ValueWarning: No supported index is available. Prediction results will be given with an integer index beginning at `start`.\n",
      "  ValueWarning)\n",
      "D:\\Programy\\anaconda\\lib\\site-packages\\statsmodels\\tsa\\base\\tsa_model.py:379: ValueWarning: No supported index is available. Prediction results will be given with an integer index beginning at `start`.\n",
      "  ValueWarning)\n",
      "D:\\Programy\\anaconda\\lib\\site-packages\\statsmodels\\tsa\\base\\tsa_model.py:379: ValueWarning: No supported index is available. Prediction results will be given with an integer index beginning at `start`.\n",
      "  ValueWarning)\n",
      "D:\\Programy\\anaconda\\lib\\site-packages\\statsmodels\\tsa\\base\\tsa_model.py:379: ValueWarning: No supported index is available. Prediction results will be given with an integer index beginning at `start`.\n",
      "  ValueWarning)\n",
      "D:\\Programy\\anaconda\\lib\\site-packages\\statsmodels\\tsa\\base\\tsa_model.py:379: ValueWarning: No supported index is available. Prediction results will be given with an integer index beginning at `start`.\n",
      "  ValueWarning)\n",
      "D:\\Programy\\anaconda\\lib\\site-packages\\statsmodels\\tsa\\base\\tsa_model.py:379: ValueWarning: No supported index is available. Prediction results will be given with an integer index beginning at `start`.\n",
      "  ValueWarning)\n",
      "D:\\Programy\\anaconda\\lib\\site-packages\\statsmodels\\tsa\\base\\tsa_model.py:379: ValueWarning: No supported index is available. Prediction results will be given with an integer index beginning at `start`.\n",
      "  ValueWarning)\n",
      "D:\\Programy\\anaconda\\lib\\site-packages\\statsmodels\\tsa\\base\\tsa_model.py:379: ValueWarning: No supported index is available. Prediction results will be given with an integer index beginning at `start`.\n",
      "  ValueWarning)\n",
      "D:\\Programy\\anaconda\\lib\\site-packages\\statsmodels\\tsa\\base\\tsa_model.py:379: ValueWarning: No supported index is available. Prediction results will be given with an integer index beginning at `start`.\n",
      "  ValueWarning)\n",
      "D:\\Programy\\anaconda\\lib\\site-packages\\statsmodels\\tsa\\base\\tsa_model.py:379: ValueWarning: No supported index is available. Prediction results will be given with an integer index beginning at `start`.\n",
      "  ValueWarning)\n",
      "D:\\Programy\\anaconda\\lib\\site-packages\\statsmodels\\tsa\\base\\tsa_model.py:379: ValueWarning: No supported index is available. Prediction results will be given with an integer index beginning at `start`.\n",
      "  ValueWarning)\n",
      "D:\\Programy\\anaconda\\lib\\site-packages\\statsmodels\\tsa\\base\\tsa_model.py:379: ValueWarning: No supported index is available. Prediction results will be given with an integer index beginning at `start`.\n",
      "  ValueWarning)\n",
      "D:\\Programy\\anaconda\\lib\\site-packages\\statsmodels\\tsa\\base\\tsa_model.py:379: ValueWarning: No supported index is available. Prediction results will be given with an integer index beginning at `start`.\n",
      "  ValueWarning)\n",
      "D:\\Programy\\anaconda\\lib\\site-packages\\statsmodels\\tsa\\base\\tsa_model.py:379: ValueWarning: No supported index is available. Prediction results will be given with an integer index beginning at `start`.\n",
      "  ValueWarning)\n",
      "D:\\Programy\\anaconda\\lib\\site-packages\\statsmodels\\tsa\\base\\tsa_model.py:379: ValueWarning: No supported index is available. Prediction results will be given with an integer index beginning at `start`.\n",
      "  ValueWarning)\n",
      "D:\\Programy\\anaconda\\lib\\site-packages\\statsmodels\\tsa\\base\\tsa_model.py:379: ValueWarning: No supported index is available. Prediction results will be given with an integer index beginning at `start`.\n",
      "  ValueWarning)\n",
      "D:\\Programy\\anaconda\\lib\\site-packages\\statsmodels\\tsa\\base\\tsa_model.py:379: ValueWarning: No supported index is available. Prediction results will be given with an integer index beginning at `start`.\n",
      "  ValueWarning)\n",
      "D:\\Programy\\anaconda\\lib\\site-packages\\statsmodels\\tsa\\base\\tsa_model.py:379: ValueWarning: No supported index is available. Prediction results will be given with an integer index beginning at `start`.\n",
      "  ValueWarning)\n",
      "D:\\Programy\\anaconda\\lib\\site-packages\\statsmodels\\tsa\\base\\tsa_model.py:379: ValueWarning: No supported index is available. Prediction results will be given with an integer index beginning at `start`.\n",
      "  ValueWarning)\n",
      "D:\\Programy\\anaconda\\lib\\site-packages\\statsmodels\\tsa\\base\\tsa_model.py:379: ValueWarning: No supported index is available. Prediction results will be given with an integer index beginning at `start`.\n",
      "  ValueWarning)\n",
      "D:\\Programy\\anaconda\\lib\\site-packages\\statsmodels\\tsa\\base\\tsa_model.py:379: ValueWarning: No supported index is available. Prediction results will be given with an integer index beginning at `start`.\n",
      "  ValueWarning)\n",
      "D:\\Programy\\anaconda\\lib\\site-packages\\statsmodels\\tsa\\base\\tsa_model.py:379: ValueWarning: No supported index is available. Prediction results will be given with an integer index beginning at `start`.\n",
      "  ValueWarning)\n",
      "D:\\Programy\\anaconda\\lib\\site-packages\\statsmodels\\tsa\\base\\tsa_model.py:379: ValueWarning: No supported index is available. Prediction results will be given with an integer index beginning at `start`.\n",
      "  ValueWarning)\n",
      "D:\\Programy\\anaconda\\lib\\site-packages\\statsmodels\\tsa\\base\\tsa_model.py:379: ValueWarning: No supported index is available. Prediction results will be given with an integer index beginning at `start`.\n",
      "  ValueWarning)\n",
      "D:\\Programy\\anaconda\\lib\\site-packages\\statsmodels\\tsa\\base\\tsa_model.py:379: ValueWarning: No supported index is available. Prediction results will be given with an integer index beginning at `start`.\n",
      "  ValueWarning)\n",
      "D:\\Programy\\anaconda\\lib\\site-packages\\statsmodels\\tsa\\base\\tsa_model.py:379: ValueWarning: No supported index is available. Prediction results will be given with an integer index beginning at `start`.\n",
      "  ValueWarning)\n",
      "D:\\Programy\\anaconda\\lib\\site-packages\\statsmodels\\tsa\\base\\tsa_model.py:379: ValueWarning: No supported index is available. Prediction results will be given with an integer index beginning at `start`.\n",
      "  ValueWarning)\n",
      "D:\\Programy\\anaconda\\lib\\site-packages\\statsmodels\\tsa\\base\\tsa_model.py:379: ValueWarning: No supported index is available. Prediction results will be given with an integer index beginning at `start`.\n",
      "  ValueWarning)\n",
      "D:\\Programy\\anaconda\\lib\\site-packages\\statsmodels\\tsa\\base\\tsa_model.py:379: ValueWarning: No supported index is available. Prediction results will be given with an integer index beginning at `start`.\n",
      "  ValueWarning)\n",
      "D:\\Programy\\anaconda\\lib\\site-packages\\statsmodels\\tsa\\base\\tsa_model.py:379: ValueWarning: No supported index is available. Prediction results will be given with an integer index beginning at `start`.\n",
      "  ValueWarning)\n",
      "D:\\Programy\\anaconda\\lib\\site-packages\\statsmodels\\tsa\\base\\tsa_model.py:379: ValueWarning: No supported index is available. Prediction results will be given with an integer index beginning at `start`.\n",
      "  ValueWarning)\n",
      "D:\\Programy\\anaconda\\lib\\site-packages\\statsmodels\\tsa\\base\\tsa_model.py:379: ValueWarning: No supported index is available. Prediction results will be given with an integer index beginning at `start`.\n",
      "  ValueWarning)\n",
      "D:\\Programy\\anaconda\\lib\\site-packages\\statsmodels\\tsa\\base\\tsa_model.py:379: ValueWarning: No supported index is available. Prediction results will be given with an integer index beginning at `start`.\n",
      "  ValueWarning)\n",
      "D:\\Programy\\anaconda\\lib\\site-packages\\statsmodels\\tsa\\base\\tsa_model.py:379: ValueWarning: No supported index is available. Prediction results will be given with an integer index beginning at `start`.\n",
      "  ValueWarning)\n",
      "D:\\Programy\\anaconda\\lib\\site-packages\\statsmodels\\tsa\\base\\tsa_model.py:379: ValueWarning: No supported index is available. Prediction results will be given with an integer index beginning at `start`.\n",
      "  ValueWarning)\n",
      "D:\\Programy\\anaconda\\lib\\site-packages\\statsmodels\\tsa\\base\\tsa_model.py:379: ValueWarning: No supported index is available. Prediction results will be given with an integer index beginning at `start`.\n",
      "  ValueWarning)\n",
      "D:\\Programy\\anaconda\\lib\\site-packages\\statsmodels\\tsa\\base\\tsa_model.py:379: ValueWarning: No supported index is available. Prediction results will be given with an integer index beginning at `start`.\n",
      "  ValueWarning)\n",
      "D:\\Programy\\anaconda\\lib\\site-packages\\statsmodels\\tsa\\base\\tsa_model.py:379: ValueWarning: No supported index is available. Prediction results will be given with an integer index beginning at `start`.\n",
      "  ValueWarning)\n",
      "D:\\Programy\\anaconda\\lib\\site-packages\\statsmodels\\tsa\\base\\tsa_model.py:379: ValueWarning: No supported index is available. Prediction results will be given with an integer index beginning at `start`.\n",
      "  ValueWarning)\n",
      "D:\\Programy\\anaconda\\lib\\site-packages\\statsmodels\\tsa\\base\\tsa_model.py:379: ValueWarning: No supported index is available. Prediction results will be given with an integer index beginning at `start`.\n",
      "  ValueWarning)\n",
      "D:\\Programy\\anaconda\\lib\\site-packages\\statsmodels\\tsa\\base\\tsa_model.py:379: ValueWarning: No supported index is available. Prediction results will be given with an integer index beginning at `start`.\n",
      "  ValueWarning)\n",
      "D:\\Programy\\anaconda\\lib\\site-packages\\statsmodels\\tsa\\base\\tsa_model.py:379: ValueWarning: No supported index is available. Prediction results will be given with an integer index beginning at `start`.\n",
      "  ValueWarning)\n",
      "D:\\Programy\\anaconda\\lib\\site-packages\\statsmodels\\tsa\\base\\tsa_model.py:379: ValueWarning: No supported index is available. Prediction results will be given with an integer index beginning at `start`.\n",
      "  ValueWarning)\n",
      "D:\\Programy\\anaconda\\lib\\site-packages\\statsmodels\\tsa\\base\\tsa_model.py:379: ValueWarning: No supported index is available. Prediction results will be given with an integer index beginning at `start`.\n",
      "  ValueWarning)\n",
      "D:\\Programy\\anaconda\\lib\\site-packages\\statsmodels\\tsa\\base\\tsa_model.py:379: ValueWarning: No supported index is available. Prediction results will be given with an integer index beginning at `start`.\n",
      "  ValueWarning)\n",
      "D:\\Programy\\anaconda\\lib\\site-packages\\statsmodels\\tsa\\base\\tsa_model.py:379: ValueWarning: No supported index is available. Prediction results will be given with an integer index beginning at `start`.\n",
      "  ValueWarning)\n",
      "D:\\Programy\\anaconda\\lib\\site-packages\\statsmodels\\tsa\\base\\tsa_model.py:379: ValueWarning: No supported index is available. Prediction results will be given with an integer index beginning at `start`.\n",
      "  ValueWarning)\n",
      "D:\\Programy\\anaconda\\lib\\site-packages\\statsmodels\\tsa\\base\\tsa_model.py:379: ValueWarning: No supported index is available. Prediction results will be given with an integer index beginning at `start`.\n",
      "  ValueWarning)\n"
     ]
    },
    {
     "name": "stderr",
     "output_type": "stream",
     "text": [
      "D:\\Programy\\anaconda\\lib\\site-packages\\statsmodels\\tsa\\base\\tsa_model.py:379: ValueWarning: No supported index is available. Prediction results will be given with an integer index beginning at `start`.\n",
      "  ValueWarning)\n",
      "D:\\Programy\\anaconda\\lib\\site-packages\\statsmodels\\tsa\\base\\tsa_model.py:379: ValueWarning: No supported index is available. Prediction results will be given with an integer index beginning at `start`.\n",
      "  ValueWarning)\n",
      "D:\\Programy\\anaconda\\lib\\site-packages\\statsmodels\\tsa\\base\\tsa_model.py:379: ValueWarning: No supported index is available. Prediction results will be given with an integer index beginning at `start`.\n",
      "  ValueWarning)\n",
      "D:\\Programy\\anaconda\\lib\\site-packages\\statsmodels\\tsa\\base\\tsa_model.py:379: ValueWarning: No supported index is available. Prediction results will be given with an integer index beginning at `start`.\n",
      "  ValueWarning)\n",
      "D:\\Programy\\anaconda\\lib\\site-packages\\statsmodels\\tsa\\base\\tsa_model.py:379: ValueWarning: No supported index is available. Prediction results will be given with an integer index beginning at `start`.\n",
      "  ValueWarning)\n",
      "D:\\Programy\\anaconda\\lib\\site-packages\\statsmodels\\tsa\\base\\tsa_model.py:379: ValueWarning: No supported index is available. Prediction results will be given with an integer index beginning at `start`.\n",
      "  ValueWarning)\n",
      "D:\\Programy\\anaconda\\lib\\site-packages\\statsmodels\\tsa\\base\\tsa_model.py:379: ValueWarning: No supported index is available. Prediction results will be given with an integer index beginning at `start`.\n",
      "  ValueWarning)\n",
      "D:\\Programy\\anaconda\\lib\\site-packages\\statsmodels\\tsa\\base\\tsa_model.py:379: ValueWarning: No supported index is available. Prediction results will be given with an integer index beginning at `start`.\n",
      "  ValueWarning)\n",
      "D:\\Programy\\anaconda\\lib\\site-packages\\statsmodels\\tsa\\base\\tsa_model.py:379: ValueWarning: No supported index is available. Prediction results will be given with an integer index beginning at `start`.\n",
      "  ValueWarning)\n",
      "D:\\Programy\\anaconda\\lib\\site-packages\\statsmodels\\tsa\\base\\tsa_model.py:379: ValueWarning: No supported index is available. Prediction results will be given with an integer index beginning at `start`.\n",
      "  ValueWarning)\n",
      "D:\\Programy\\anaconda\\lib\\site-packages\\statsmodels\\tsa\\base\\tsa_model.py:379: ValueWarning: No supported index is available. Prediction results will be given with an integer index beginning at `start`.\n",
      "  ValueWarning)\n",
      "D:\\Programy\\anaconda\\lib\\site-packages\\statsmodels\\tsa\\base\\tsa_model.py:379: ValueWarning: No supported index is available. Prediction results will be given with an integer index beginning at `start`.\n",
      "  ValueWarning)\n",
      "D:\\Programy\\anaconda\\lib\\site-packages\\statsmodels\\tsa\\base\\tsa_model.py:379: ValueWarning: No supported index is available. Prediction results will be given with an integer index beginning at `start`.\n",
      "  ValueWarning)\n",
      "D:\\Programy\\anaconda\\lib\\site-packages\\statsmodels\\tsa\\base\\tsa_model.py:379: ValueWarning: No supported index is available. Prediction results will be given with an integer index beginning at `start`.\n",
      "  ValueWarning)\n",
      "D:\\Programy\\anaconda\\lib\\site-packages\\statsmodels\\tsa\\base\\tsa_model.py:379: ValueWarning: No supported index is available. Prediction results will be given with an integer index beginning at `start`.\n",
      "  ValueWarning)\n",
      "D:\\Programy\\anaconda\\lib\\site-packages\\statsmodels\\tsa\\base\\tsa_model.py:379: ValueWarning: No supported index is available. Prediction results will be given with an integer index beginning at `start`.\n",
      "  ValueWarning)\n",
      "D:\\Programy\\anaconda\\lib\\site-packages\\statsmodels\\tsa\\base\\tsa_model.py:379: ValueWarning: No supported index is available. Prediction results will be given with an integer index beginning at `start`.\n",
      "  ValueWarning)\n",
      "D:\\Programy\\anaconda\\lib\\site-packages\\statsmodels\\tsa\\base\\tsa_model.py:379: ValueWarning: No supported index is available. Prediction results will be given with an integer index beginning at `start`.\n",
      "  ValueWarning)\n",
      "D:\\Programy\\anaconda\\lib\\site-packages\\statsmodels\\tsa\\base\\tsa_model.py:379: ValueWarning: No supported index is available. Prediction results will be given with an integer index beginning at `start`.\n",
      "  ValueWarning)\n",
      "D:\\Programy\\anaconda\\lib\\site-packages\\statsmodels\\tsa\\base\\tsa_model.py:379: ValueWarning: No supported index is available. Prediction results will be given with an integer index beginning at `start`.\n",
      "  ValueWarning)\n",
      "D:\\Programy\\anaconda\\lib\\site-packages\\statsmodels\\tsa\\base\\tsa_model.py:379: ValueWarning: No supported index is available. Prediction results will be given with an integer index beginning at `start`.\n",
      "  ValueWarning)\n",
      "D:\\Programy\\anaconda\\lib\\site-packages\\statsmodels\\tsa\\base\\tsa_model.py:379: ValueWarning: No supported index is available. Prediction results will be given with an integer index beginning at `start`.\n",
      "  ValueWarning)\n",
      "D:\\Programy\\anaconda\\lib\\site-packages\\statsmodels\\tsa\\base\\tsa_model.py:379: ValueWarning: No supported index is available. Prediction results will be given with an integer index beginning at `start`.\n",
      "  ValueWarning)\n",
      "D:\\Programy\\anaconda\\lib\\site-packages\\statsmodels\\tsa\\base\\tsa_model.py:379: ValueWarning: No supported index is available. Prediction results will be given with an integer index beginning at `start`.\n",
      "  ValueWarning)\n",
      "D:\\Programy\\anaconda\\lib\\site-packages\\statsmodels\\tsa\\base\\tsa_model.py:379: ValueWarning: No supported index is available. Prediction results will be given with an integer index beginning at `start`.\n",
      "  ValueWarning)\n",
      "D:\\Programy\\anaconda\\lib\\site-packages\\statsmodels\\tsa\\base\\tsa_model.py:379: ValueWarning: No supported index is available. Prediction results will be given with an integer index beginning at `start`.\n",
      "  ValueWarning)\n",
      "D:\\Programy\\anaconda\\lib\\site-packages\\statsmodels\\tsa\\base\\tsa_model.py:379: ValueWarning: No supported index is available. Prediction results will be given with an integer index beginning at `start`.\n",
      "  ValueWarning)\n",
      "D:\\Programy\\anaconda\\lib\\site-packages\\statsmodels\\tsa\\base\\tsa_model.py:379: ValueWarning: No supported index is available. Prediction results will be given with an integer index beginning at `start`.\n",
      "  ValueWarning)\n",
      "D:\\Programy\\anaconda\\lib\\site-packages\\statsmodels\\tsa\\base\\tsa_model.py:379: ValueWarning: No supported index is available. Prediction results will be given with an integer index beginning at `start`.\n",
      "  ValueWarning)\n",
      "D:\\Programy\\anaconda\\lib\\site-packages\\statsmodels\\tsa\\base\\tsa_model.py:379: ValueWarning: No supported index is available. Prediction results will be given with an integer index beginning at `start`.\n",
      "  ValueWarning)\n",
      "D:\\Programy\\anaconda\\lib\\site-packages\\statsmodels\\tsa\\base\\tsa_model.py:379: ValueWarning: No supported index is available. Prediction results will be given with an integer index beginning at `start`.\n",
      "  ValueWarning)\n",
      "D:\\Programy\\anaconda\\lib\\site-packages\\statsmodels\\tsa\\base\\tsa_model.py:379: ValueWarning: No supported index is available. Prediction results will be given with an integer index beginning at `start`.\n",
      "  ValueWarning)\n",
      "D:\\Programy\\anaconda\\lib\\site-packages\\statsmodels\\tsa\\base\\tsa_model.py:379: ValueWarning: No supported index is available. Prediction results will be given with an integer index beginning at `start`.\n",
      "  ValueWarning)\n",
      "D:\\Programy\\anaconda\\lib\\site-packages\\statsmodels\\tsa\\base\\tsa_model.py:379: ValueWarning: No supported index is available. Prediction results will be given with an integer index beginning at `start`.\n",
      "  ValueWarning)\n",
      "D:\\Programy\\anaconda\\lib\\site-packages\\statsmodels\\tsa\\base\\tsa_model.py:379: ValueWarning: No supported index is available. Prediction results will be given with an integer index beginning at `start`.\n",
      "  ValueWarning)\n",
      "D:\\Programy\\anaconda\\lib\\site-packages\\statsmodels\\tsa\\base\\tsa_model.py:379: ValueWarning: No supported index is available. Prediction results will be given with an integer index beginning at `start`.\n",
      "  ValueWarning)\n",
      "D:\\Programy\\anaconda\\lib\\site-packages\\statsmodels\\tsa\\base\\tsa_model.py:379: ValueWarning: No supported index is available. Prediction results will be given with an integer index beginning at `start`.\n",
      "  ValueWarning)\n"
     ]
    }
   ],
   "source": [
    "forecast_steps = int(2260/168)\n",
    "forecasted_data=[None]*models_num\n",
    "for i in range(models_num):\n",
    "    forecasted_data[i] = my_models[i].forecast(forecast_steps)"
   ]
  },
  {
   "cell_type": "code",
   "execution_count": 9,
   "metadata": {},
   "outputs": [],
   "source": [
    "# combined_forecasted_data = [None] * forecast_steps * models_num\n",
    "# for j in range(forecast_steps):\n",
    "#     for i in range(models_num):\n",
    "#         combined_forecasted_data[j * models_num + i] = forecasted_data[i].iloc[j]"
   ]
  },
  {
   "cell_type": "markdown",
   "metadata": {},
   "source": [
    "#### Poprawka"
   ]
  },
  {
   "cell_type": "code",
   "execution_count": 10,
   "metadata": {},
   "outputs": [],
   "source": [
    "combined_forecasted_data = [None] * forecast_steps * models_num\n",
    "for j in range(forecast_steps):\n",
    "    for i in range(1,models_num):\n",
    "        combined_forecasted_data[j * models_num + i-1] = forecasted_data[i].iloc[j]\n",
    "    combined_forecasted_data[j * models_num + models_num-1] = forecasted_data[0].iloc[j]\n"
   ]
  },
  {
   "cell_type": "code",
   "execution_count": 11,
   "metadata": {},
   "outputs": [],
   "source": [
    "combined_forecasted_data = pd.Series(combined_forecasted_data)"
   ]
  },
  {
   "cell_type": "code",
   "execution_count": 12,
   "metadata": {},
   "outputs": [
    {
     "data": {
      "text/plain": [
       "0       17682.302175\n",
       "1       17321.210306\n",
       "2       16900.839276\n",
       "3       16904.134926\n",
       "4       16336.273059\n",
       "            ...     \n",
       "2179    23710.306460\n",
       "2180    22698.100496\n",
       "2181    18633.244575\n",
       "2182    17013.212257\n",
       "2183    18705.017780\n",
       "Length: 2184, dtype: float64"
      ]
     },
     "execution_count": 12,
     "metadata": {},
     "output_type": "execute_result"
    }
   ],
   "source": [
    "combined_forecasted_data"
   ]
  },
  {
   "cell_type": "markdown",
   "metadata": {},
   "source": [
    "### Obliczanie błędu"
   ]
  },
  {
   "cell_type": "code",
   "execution_count": 13,
   "metadata": {},
   "outputs": [],
   "source": [
    "def mean_absolute_percentage_error(y_true, y_pred): \n",
    "    y_true, y_pred = np.array(y_true), np.array(y_pred)\n",
    "    return np.mean(np.abs((y_true - y_pred) / y_true)) * 100"
   ]
  },
  {
   "cell_type": "code",
   "execution_count": 14,
   "metadata": {},
   "outputs": [],
   "source": [
    "test_start = '2019-04-01'\n",
    "test_end = '2020-02-29'"
   ]
  },
  {
   "cell_type": "code",
   "execution_count": 15,
   "metadata": {},
   "outputs": [],
   "source": [
    "test_data = combineData(test_start, test_end)['Krajowe zapotrzebowanie na moc']"
   ]
  },
  {
   "cell_type": "code",
   "execution_count": 16,
   "metadata": {},
   "outputs": [
    {
     "data": {
      "text/plain": [
       "0       15162.738\n",
       "1       14675.575\n",
       "2       14593.075\n",
       "3       14671.838\n",
       "4       15037.125\n",
       "          ...    \n",
       "8036    20608.925\n",
       "8037    20036.225\n",
       "8038    18958.488\n",
       "8039    17730.888\n",
       "8040    16650.150\n",
       "Name: Krajowe zapotrzebowanie na moc, Length: 8041, dtype: float64"
      ]
     },
     "execution_count": 16,
     "metadata": {},
     "output_type": "execute_result"
    }
   ],
   "source": [
    "test_data"
   ]
  },
  {
   "cell_type": "code",
   "execution_count": 17,
   "metadata": {},
   "outputs": [
    {
     "data": {
      "text/plain": [
       "14.271249820339623"
      ]
     },
     "execution_count": 17,
     "metadata": {},
     "output_type": "execute_result"
    }
   ],
   "source": [
    "sample = 720#2160\n",
    "mean_absolute_percentage_error(test_data.iloc[:sample], combined_forecasted_data.iloc[:sample])"
   ]
  },
  {
   "cell_type": "code",
   "execution_count": 18,
   "metadata": {},
   "outputs": [
    {
     "name": "stdout",
     "output_type": "stream",
     "text": [
      "czas trwania calosci: 0:06:35.517491\n"
     ]
    }
   ],
   "source": [
    "print('czas trwania calosci: ' +str(datetime.datetime.now()-starttime))"
   ]
  },
  {
   "cell_type": "code",
   "execution_count": 19,
   "metadata": {},
   "outputs": [
    {
     "data": {
      "text/plain": [
       "<AxesSubplot:>"
      ]
     },
     "execution_count": 19,
     "metadata": {},
     "output_type": "execute_result"
    },
    {
     "data": {
      "image/png": "[encoded data removed]",
      "text/plain": [
       "<Figure size 1440x360 with 1 Axes>"
      ]
     },
     "metadata": {
      "needs_background": "light"
     },
     "output_type": "display_data"
    }
   ],
   "source": [
    "plt.figure(figsize=[20,5])\n",
    "test_data.iloc[:sample].plot()\n",
    "combined_forecasted_data.iloc[:sample].plot()"
   ]
  }
 ],
 "metadata": {
  "kernelspec": {
   "display_name": "Python 3",
   "language": "python",
   "name": "python3"
  },
  "language_info": {
   "codemirror_mode": {
    "name": "ipython",
    "version": 3
   },
   "file_extension": ".py",
   "mimetype": "text/x-python",
   "name": "python",
   "nbconvert_exporter": "python",
   "pygments_lexer": "ipython3",
   "version": "3.6.12"
  }
 },
 "nbformat": 4,
 "nbformat_minor": 4
}
